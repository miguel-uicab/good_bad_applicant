{
 "cells": [
  {
   "cell_type": "code",
   "execution_count": 1,
   "id": "f8b48103",
   "metadata": {},
   "outputs": [
    {
     "data": {
      "text/html": [
       "        <script type=\"text/javascript\">\n",
       "        window.PlotlyConfig = {MathJaxConfig: 'local'};\n",
       "        if (window.MathJax && window.MathJax.Hub && window.MathJax.Hub.Config) {window.MathJax.Hub.Config({SVG: {font: \"STIX-Web\"}});}\n",
       "        if (typeof require !== 'undefined') {\n",
       "        require.undef(\"plotly\");\n",
       "        requirejs.config({\n",
       "            paths: {\n",
       "                'plotly': ['https://cdn.plot.ly/plotly-2.14.0.min']\n",
       "            }\n",
       "        });\n",
       "        require(['plotly'], function(Plotly) {\n",
       "            window._Plotly = Plotly;\n",
       "        });\n",
       "        }\n",
       "        </script>\n",
       "        "
      ]
     },
     "metadata": {},
     "output_type": "display_data"
    }
   ],
   "source": [
    "# import pandas as pd\n",
    "#import numpy as np\n",
    "\n",
    "import warnings\n",
    "from functools import reduce\n",
    "from itertools import chain\n",
    "import pickle\n",
    "import plotly.express as px\n",
    "import plotly.offline as pyo\n",
    "pyo.init_notebook_mode(connected=True)\n",
    "from CTV_functions import *\n",
    "warnings.filterwarnings('ignore')"
   ]
  },
  {
   "cell_type": "markdown",
   "id": "c6021c24",
   "metadata": {},
   "source": [
    "# 0. CARGA DE LA DATA"
   ]
  },
  {
   "cell_type": "markdown",
   "id": "428c3f1f",
   "metadata": {},
   "source": [
    "Se carga la data de las aplicaciones."
   ]
  },
  {
   "cell_type": "code",
   "execution_count": 2,
   "id": "df46eaf9",
   "metadata": {},
   "outputs": [],
   "source": [
    "df_application = pd.read_csv(\"../data/application_record.csv\")"
   ]
  },
  {
   "cell_type": "markdown",
   "id": "3e69c97b",
   "metadata": {},
   "source": [
    "Y también se carga la data de crédito."
   ]
  },
  {
   "cell_type": "code",
   "execution_count": 3,
   "id": "2c7482a4",
   "metadata": {},
   "outputs": [],
   "source": [
    "df_credit = pd.read_csv('../data/credit_record.csv')  "
   ]
  },
  {
   "cell_type": "markdown",
   "id": "c3e0e8af",
   "metadata": {},
   "source": [
    "Para esta parte se hace uso de las funciones contenidas en el script __*CTV_functions.py*__. Por favor, leer al final del script una importante __NOTA__ sobre las construcciones de estas funciones."
   ]
  },
  {
   "cell_type": "markdown",
   "id": "e725037d",
   "metadata": {},
   "source": [
    "# 1. OBJETIVO."
   ]
  },
  {
   "cell_type": "markdown",
   "id": "651ed46f",
   "metadata": {},
   "source": [
    "Se parte de la suposición de que los datos crediticios corresponden al historial de comportamiento que muchos clientes tuvieron con respecto a un cuenta asociada a un producto de crédito.\n",
    "\n",
    "La naturaleza de esta data permite observar, medir, y describir este comportamiento a través de un Análisis de Cohortes también conocido como Análsis Vintage o de la Cosecha.\n",
    "\n",
    "\n",
    "El objetivo de esta tarea es aprovechar los resultados arrojados por el Análisis de Cohortes con el fin de definir una etiqueta de cliente \"BUENO\" o \"MALO\".\n",
    "\n",
    "A su vez, esta etiqueta deberá contribuir en el desarrollo de una herramienta de Ciencia de Datos para predecir el perfil crediticio de los potenciales clientes de cierta firma."
   ]
  },
  {
   "cell_type": "markdown",
   "id": "9aec9d67",
   "metadata": {},
   "source": [
    "Esta predicción se hará vía un modelo supervisado de clasificación que haga uso de esta etiqueta y de la data de aplicaciones."
   ]
  },
  {
   "cell_type": "markdown",
   "id": "ccf85b77",
   "metadata": {},
   "source": [
    "# 2. EXPLORACIÓN."
   ]
  },
  {
   "cell_type": "markdown",
   "id": "d84e39c3",
   "metadata": {},
   "source": [
    "Tener muy encuenta lo siguiente:\n",
    "* __MONTH BALANCE__: El mes en el que extrajeron los datos es el punto de partida, hacia atrás.\n",
    "    * 0 es el mes actual,\n",
    "    * -1 es el mes anterior\n",
    "    * ...\n",
    "* __STATUS__:\n",
    "    * __0:__ 1-29 días de atraso\n",
    "    * __1:__ 30-59 días de atraso \n",
    "    * __2:__ 60-89 días de atraso \n",
    "    * __3:__ 90-119 días de atraso \n",
    "    * __4:__ 120-149 días de atraso \n",
    "    * __5:__ Atraso o deudas incobrables, cancelaciones por más de 150 días \n",
    "    * __C:__ Pagado ese mes \n",
    "    * __X:__ Sin préstamo durante el mes"
   ]
  },
  {
   "cell_type": "code",
   "execution_count": 4,
   "id": "97397955",
   "metadata": {},
   "outputs": [
    {
     "data": {
      "text/html": [
       "<div>\n",
       "<style scoped>\n",
       "    .dataframe tbody tr th:only-of-type {\n",
       "        vertical-align: middle;\n",
       "    }\n",
       "\n",
       "    .dataframe tbody tr th {\n",
       "        vertical-align: top;\n",
       "    }\n",
       "\n",
       "    .dataframe thead th {\n",
       "        text-align: right;\n",
       "    }\n",
       "</style>\n",
       "<table border=\"1\" class=\"dataframe\">\n",
       "  <thead>\n",
       "    <tr style=\"text-align: right;\">\n",
       "      <th></th>\n",
       "      <th>ID</th>\n",
       "      <th>MONTHS_BALANCE</th>\n",
       "      <th>STATUS</th>\n",
       "    </tr>\n",
       "  </thead>\n",
       "  <tbody>\n",
       "    <tr>\n",
       "      <th>0</th>\n",
       "      <td>5001711</td>\n",
       "      <td>0</td>\n",
       "      <td>X</td>\n",
       "    </tr>\n",
       "    <tr>\n",
       "      <th>1</th>\n",
       "      <td>5001711</td>\n",
       "      <td>-1</td>\n",
       "      <td>0</td>\n",
       "    </tr>\n",
       "    <tr>\n",
       "      <th>2</th>\n",
       "      <td>5001711</td>\n",
       "      <td>-2</td>\n",
       "      <td>0</td>\n",
       "    </tr>\n",
       "    <tr>\n",
       "      <th>3</th>\n",
       "      <td>5001711</td>\n",
       "      <td>-3</td>\n",
       "      <td>0</td>\n",
       "    </tr>\n",
       "    <tr>\n",
       "      <th>4</th>\n",
       "      <td>5001712</td>\n",
       "      <td>0</td>\n",
       "      <td>C</td>\n",
       "    </tr>\n",
       "    <tr>\n",
       "      <th>...</th>\n",
       "      <td>...</td>\n",
       "      <td>...</td>\n",
       "      <td>...</td>\n",
       "    </tr>\n",
       "    <tr>\n",
       "      <th>1048570</th>\n",
       "      <td>5150487</td>\n",
       "      <td>-25</td>\n",
       "      <td>C</td>\n",
       "    </tr>\n",
       "    <tr>\n",
       "      <th>1048571</th>\n",
       "      <td>5150487</td>\n",
       "      <td>-26</td>\n",
       "      <td>C</td>\n",
       "    </tr>\n",
       "    <tr>\n",
       "      <th>1048572</th>\n",
       "      <td>5150487</td>\n",
       "      <td>-27</td>\n",
       "      <td>C</td>\n",
       "    </tr>\n",
       "    <tr>\n",
       "      <th>1048573</th>\n",
       "      <td>5150487</td>\n",
       "      <td>-28</td>\n",
       "      <td>C</td>\n",
       "    </tr>\n",
       "    <tr>\n",
       "      <th>1048574</th>\n",
       "      <td>5150487</td>\n",
       "      <td>-29</td>\n",
       "      <td>C</td>\n",
       "    </tr>\n",
       "  </tbody>\n",
       "</table>\n",
       "<p>1048575 rows × 3 columns</p>\n",
       "</div>"
      ],
      "text/plain": [
       "              ID  MONTHS_BALANCE STATUS\n",
       "0        5001711               0      X\n",
       "1        5001711              -1      0\n",
       "2        5001711              -2      0\n",
       "3        5001711              -3      0\n",
       "4        5001712               0      C\n",
       "...          ...             ...    ...\n",
       "1048570  5150487             -25      C\n",
       "1048571  5150487             -26      C\n",
       "1048572  5150487             -27      C\n",
       "1048573  5150487             -28      C\n",
       "1048574  5150487             -29      C\n",
       "\n",
       "[1048575 rows x 3 columns]"
      ]
     },
     "execution_count": 4,
     "metadata": {},
     "output_type": "execute_result"
    }
   ],
   "source": [
    "df_credit"
   ]
  },
  {
   "cell_type": "code",
   "execution_count": 5,
   "id": "6df5dd96",
   "metadata": {},
   "outputs": [
    {
     "data": {
      "text/plain": [
       "5016769    61\n",
       "5002806    61\n",
       "5118192    61\n",
       "5145767    61\n",
       "5078567    61\n",
       "           ..\n",
       "5028795     1\n",
       "5148442     1\n",
       "5053900     1\n",
       "5046332     1\n",
       "5079047     1\n",
       "Name: ID, Length: 45985, dtype: int64"
      ]
     },
     "execution_count": 5,
     "metadata": {},
     "output_type": "execute_result"
    }
   ],
   "source": [
    "df_credit['ID'].value_counts()"
   ]
  },
  {
   "cell_type": "markdown",
   "id": "a88b2ab5",
   "metadata": {},
   "source": [
    "Aunque la data tiene un tamaño de 1048575, en realidad la cantidad de usuarios es de 45985."
   ]
  },
  {
   "cell_type": "markdown",
   "id": "2b36b721",
   "metadata": {},
   "source": [
    "Se hace la siguiente reorganización de la información, de tal manera de ahora el `ID` se una columna."
   ]
  },
  {
   "cell_type": "code",
   "execution_count": 6,
   "id": "55d5fbca",
   "metadata": {},
   "outputs": [],
   "source": [
    "df_pivot = df_credit.pivot(index='ID',\n",
    "                           columns='MONTHS_BALANCE',\n",
    "                           values='STATUS')"
   ]
  },
  {
   "cell_type": "code",
   "execution_count": 7,
   "id": "925357ff",
   "metadata": {},
   "outputs": [
    {
     "data": {
      "text/html": [
       "<div>\n",
       "<style scoped>\n",
       "    .dataframe tbody tr th:only-of-type {\n",
       "        vertical-align: middle;\n",
       "    }\n",
       "\n",
       "    .dataframe tbody tr th {\n",
       "        vertical-align: top;\n",
       "    }\n",
       "\n",
       "    .dataframe thead th {\n",
       "        text-align: right;\n",
       "    }\n",
       "</style>\n",
       "<table border=\"1\" class=\"dataframe\">\n",
       "  <thead>\n",
       "    <tr style=\"text-align: right;\">\n",
       "      <th>MONTHS_BALANCE</th>\n",
       "      <th>-60</th>\n",
       "      <th>-59</th>\n",
       "      <th>-58</th>\n",
       "      <th>-57</th>\n",
       "      <th>-56</th>\n",
       "      <th>-55</th>\n",
       "      <th>-54</th>\n",
       "      <th>-53</th>\n",
       "      <th>-52</th>\n",
       "      <th>-51</th>\n",
       "      <th>...</th>\n",
       "      <th>-9</th>\n",
       "      <th>-8</th>\n",
       "      <th>-7</th>\n",
       "      <th>-6</th>\n",
       "      <th>-5</th>\n",
       "      <th>-4</th>\n",
       "      <th>-3</th>\n",
       "      <th>-2</th>\n",
       "      <th>-1</th>\n",
       "      <th>0</th>\n",
       "    </tr>\n",
       "    <tr>\n",
       "      <th>ID</th>\n",
       "      <th></th>\n",
       "      <th></th>\n",
       "      <th></th>\n",
       "      <th></th>\n",
       "      <th></th>\n",
       "      <th></th>\n",
       "      <th></th>\n",
       "      <th></th>\n",
       "      <th></th>\n",
       "      <th></th>\n",
       "      <th></th>\n",
       "      <th></th>\n",
       "      <th></th>\n",
       "      <th></th>\n",
       "      <th></th>\n",
       "      <th></th>\n",
       "      <th></th>\n",
       "      <th></th>\n",
       "      <th></th>\n",
       "      <th></th>\n",
       "      <th></th>\n",
       "    </tr>\n",
       "  </thead>\n",
       "  <tbody>\n",
       "    <tr>\n",
       "      <th>5001711</th>\n",
       "      <td>NaN</td>\n",
       "      <td>NaN</td>\n",
       "      <td>NaN</td>\n",
       "      <td>NaN</td>\n",
       "      <td>NaN</td>\n",
       "      <td>NaN</td>\n",
       "      <td>NaN</td>\n",
       "      <td>NaN</td>\n",
       "      <td>NaN</td>\n",
       "      <td>NaN</td>\n",
       "      <td>...</td>\n",
       "      <td>NaN</td>\n",
       "      <td>NaN</td>\n",
       "      <td>NaN</td>\n",
       "      <td>NaN</td>\n",
       "      <td>NaN</td>\n",
       "      <td>NaN</td>\n",
       "      <td>0</td>\n",
       "      <td>0</td>\n",
       "      <td>0</td>\n",
       "      <td>X</td>\n",
       "    </tr>\n",
       "    <tr>\n",
       "      <th>5001712</th>\n",
       "      <td>NaN</td>\n",
       "      <td>NaN</td>\n",
       "      <td>NaN</td>\n",
       "      <td>NaN</td>\n",
       "      <td>NaN</td>\n",
       "      <td>NaN</td>\n",
       "      <td>NaN</td>\n",
       "      <td>NaN</td>\n",
       "      <td>NaN</td>\n",
       "      <td>NaN</td>\n",
       "      <td>...</td>\n",
       "      <td>0</td>\n",
       "      <td>C</td>\n",
       "      <td>C</td>\n",
       "      <td>C</td>\n",
       "      <td>C</td>\n",
       "      <td>C</td>\n",
       "      <td>C</td>\n",
       "      <td>C</td>\n",
       "      <td>C</td>\n",
       "      <td>C</td>\n",
       "    </tr>\n",
       "    <tr>\n",
       "      <th>5001713</th>\n",
       "      <td>NaN</td>\n",
       "      <td>NaN</td>\n",
       "      <td>NaN</td>\n",
       "      <td>NaN</td>\n",
       "      <td>NaN</td>\n",
       "      <td>NaN</td>\n",
       "      <td>NaN</td>\n",
       "      <td>NaN</td>\n",
       "      <td>NaN</td>\n",
       "      <td>NaN</td>\n",
       "      <td>...</td>\n",
       "      <td>X</td>\n",
       "      <td>X</td>\n",
       "      <td>X</td>\n",
       "      <td>X</td>\n",
       "      <td>X</td>\n",
       "      <td>X</td>\n",
       "      <td>X</td>\n",
       "      <td>X</td>\n",
       "      <td>X</td>\n",
       "      <td>X</td>\n",
       "    </tr>\n",
       "    <tr>\n",
       "      <th>5001714</th>\n",
       "      <td>NaN</td>\n",
       "      <td>NaN</td>\n",
       "      <td>NaN</td>\n",
       "      <td>NaN</td>\n",
       "      <td>NaN</td>\n",
       "      <td>NaN</td>\n",
       "      <td>NaN</td>\n",
       "      <td>NaN</td>\n",
       "      <td>NaN</td>\n",
       "      <td>NaN</td>\n",
       "      <td>...</td>\n",
       "      <td>X</td>\n",
       "      <td>X</td>\n",
       "      <td>X</td>\n",
       "      <td>X</td>\n",
       "      <td>X</td>\n",
       "      <td>X</td>\n",
       "      <td>X</td>\n",
       "      <td>X</td>\n",
       "      <td>X</td>\n",
       "      <td>X</td>\n",
       "    </tr>\n",
       "    <tr>\n",
       "      <th>5001715</th>\n",
       "      <td>NaN</td>\n",
       "      <td>X</td>\n",
       "      <td>X</td>\n",
       "      <td>X</td>\n",
       "      <td>X</td>\n",
       "      <td>X</td>\n",
       "      <td>X</td>\n",
       "      <td>X</td>\n",
       "      <td>X</td>\n",
       "      <td>X</td>\n",
       "      <td>...</td>\n",
       "      <td>X</td>\n",
       "      <td>X</td>\n",
       "      <td>X</td>\n",
       "      <td>X</td>\n",
       "      <td>X</td>\n",
       "      <td>X</td>\n",
       "      <td>X</td>\n",
       "      <td>X</td>\n",
       "      <td>X</td>\n",
       "      <td>X</td>\n",
       "    </tr>\n",
       "    <tr>\n",
       "      <th>...</th>\n",
       "      <td>...</td>\n",
       "      <td>...</td>\n",
       "      <td>...</td>\n",
       "      <td>...</td>\n",
       "      <td>...</td>\n",
       "      <td>...</td>\n",
       "      <td>...</td>\n",
       "      <td>...</td>\n",
       "      <td>...</td>\n",
       "      <td>...</td>\n",
       "      <td>...</td>\n",
       "      <td>...</td>\n",
       "      <td>...</td>\n",
       "      <td>...</td>\n",
       "      <td>...</td>\n",
       "      <td>...</td>\n",
       "      <td>...</td>\n",
       "      <td>...</td>\n",
       "      <td>...</td>\n",
       "      <td>...</td>\n",
       "      <td>...</td>\n",
       "    </tr>\n",
       "    <tr>\n",
       "      <th>5150482</th>\n",
       "      <td>NaN</td>\n",
       "      <td>NaN</td>\n",
       "      <td>NaN</td>\n",
       "      <td>NaN</td>\n",
       "      <td>NaN</td>\n",
       "      <td>NaN</td>\n",
       "      <td>NaN</td>\n",
       "      <td>NaN</td>\n",
       "      <td>NaN</td>\n",
       "      <td>NaN</td>\n",
       "      <td>...</td>\n",
       "      <td>NaN</td>\n",
       "      <td>NaN</td>\n",
       "      <td>NaN</td>\n",
       "      <td>NaN</td>\n",
       "      <td>NaN</td>\n",
       "      <td>NaN</td>\n",
       "      <td>NaN</td>\n",
       "      <td>NaN</td>\n",
       "      <td>NaN</td>\n",
       "      <td>NaN</td>\n",
       "    </tr>\n",
       "    <tr>\n",
       "      <th>5150483</th>\n",
       "      <td>NaN</td>\n",
       "      <td>NaN</td>\n",
       "      <td>NaN</td>\n",
       "      <td>NaN</td>\n",
       "      <td>NaN</td>\n",
       "      <td>NaN</td>\n",
       "      <td>NaN</td>\n",
       "      <td>NaN</td>\n",
       "      <td>NaN</td>\n",
       "      <td>NaN</td>\n",
       "      <td>...</td>\n",
       "      <td>X</td>\n",
       "      <td>X</td>\n",
       "      <td>X</td>\n",
       "      <td>X</td>\n",
       "      <td>X</td>\n",
       "      <td>X</td>\n",
       "      <td>X</td>\n",
       "      <td>X</td>\n",
       "      <td>X</td>\n",
       "      <td>X</td>\n",
       "    </tr>\n",
       "    <tr>\n",
       "      <th>5150484</th>\n",
       "      <td>NaN</td>\n",
       "      <td>NaN</td>\n",
       "      <td>NaN</td>\n",
       "      <td>NaN</td>\n",
       "      <td>NaN</td>\n",
       "      <td>NaN</td>\n",
       "      <td>NaN</td>\n",
       "      <td>NaN</td>\n",
       "      <td>NaN</td>\n",
       "      <td>NaN</td>\n",
       "      <td>...</td>\n",
       "      <td>0</td>\n",
       "      <td>0</td>\n",
       "      <td>0</td>\n",
       "      <td>0</td>\n",
       "      <td>0</td>\n",
       "      <td>0</td>\n",
       "      <td>0</td>\n",
       "      <td>0</td>\n",
       "      <td>0</td>\n",
       "      <td>C</td>\n",
       "    </tr>\n",
       "    <tr>\n",
       "      <th>5150485</th>\n",
       "      <td>NaN</td>\n",
       "      <td>NaN</td>\n",
       "      <td>NaN</td>\n",
       "      <td>NaN</td>\n",
       "      <td>NaN</td>\n",
       "      <td>NaN</td>\n",
       "      <td>NaN</td>\n",
       "      <td>NaN</td>\n",
       "      <td>NaN</td>\n",
       "      <td>NaN</td>\n",
       "      <td>...</td>\n",
       "      <td>NaN</td>\n",
       "      <td>NaN</td>\n",
       "      <td>NaN</td>\n",
       "      <td>NaN</td>\n",
       "      <td>NaN</td>\n",
       "      <td>NaN</td>\n",
       "      <td>NaN</td>\n",
       "      <td>NaN</td>\n",
       "      <td>0</td>\n",
       "      <td>0</td>\n",
       "    </tr>\n",
       "    <tr>\n",
       "      <th>5150487</th>\n",
       "      <td>NaN</td>\n",
       "      <td>NaN</td>\n",
       "      <td>NaN</td>\n",
       "      <td>NaN</td>\n",
       "      <td>NaN</td>\n",
       "      <td>NaN</td>\n",
       "      <td>NaN</td>\n",
       "      <td>NaN</td>\n",
       "      <td>NaN</td>\n",
       "      <td>NaN</td>\n",
       "      <td>...</td>\n",
       "      <td>C</td>\n",
       "      <td>C</td>\n",
       "      <td>C</td>\n",
       "      <td>C</td>\n",
       "      <td>C</td>\n",
       "      <td>C</td>\n",
       "      <td>C</td>\n",
       "      <td>C</td>\n",
       "      <td>C</td>\n",
       "      <td>C</td>\n",
       "    </tr>\n",
       "  </tbody>\n",
       "</table>\n",
       "<p>45985 rows × 61 columns</p>\n",
       "</div>"
      ],
      "text/plain": [
       "MONTHS_BALANCE  -60  -59  -58  -57  -56  -55  -54  -53  -52  -51  ...  -9   \\\n",
       "ID                                                                ...        \n",
       "5001711         NaN  NaN  NaN  NaN  NaN  NaN  NaN  NaN  NaN  NaN  ...  NaN   \n",
       "5001712         NaN  NaN  NaN  NaN  NaN  NaN  NaN  NaN  NaN  NaN  ...    0   \n",
       "5001713         NaN  NaN  NaN  NaN  NaN  NaN  NaN  NaN  NaN  NaN  ...    X   \n",
       "5001714         NaN  NaN  NaN  NaN  NaN  NaN  NaN  NaN  NaN  NaN  ...    X   \n",
       "5001715         NaN    X    X    X    X    X    X    X    X    X  ...    X   \n",
       "...             ...  ...  ...  ...  ...  ...  ...  ...  ...  ...  ...  ...   \n",
       "5150482         NaN  NaN  NaN  NaN  NaN  NaN  NaN  NaN  NaN  NaN  ...  NaN   \n",
       "5150483         NaN  NaN  NaN  NaN  NaN  NaN  NaN  NaN  NaN  NaN  ...    X   \n",
       "5150484         NaN  NaN  NaN  NaN  NaN  NaN  NaN  NaN  NaN  NaN  ...    0   \n",
       "5150485         NaN  NaN  NaN  NaN  NaN  NaN  NaN  NaN  NaN  NaN  ...  NaN   \n",
       "5150487         NaN  NaN  NaN  NaN  NaN  NaN  NaN  NaN  NaN  NaN  ...    C   \n",
       "\n",
       "MONTHS_BALANCE  -8   -7   -6   -5   -4   -3   -2   -1    0   \n",
       "ID                                                           \n",
       "5001711         NaN  NaN  NaN  NaN  NaN    0    0    0    X  \n",
       "5001712           C    C    C    C    C    C    C    C    C  \n",
       "5001713           X    X    X    X    X    X    X    X    X  \n",
       "5001714           X    X    X    X    X    X    X    X    X  \n",
       "5001715           X    X    X    X    X    X    X    X    X  \n",
       "...             ...  ...  ...  ...  ...  ...  ...  ...  ...  \n",
       "5150482         NaN  NaN  NaN  NaN  NaN  NaN  NaN  NaN  NaN  \n",
       "5150483           X    X    X    X    X    X    X    X    X  \n",
       "5150484           0    0    0    0    0    0    0    0    C  \n",
       "5150485         NaN  NaN  NaN  NaN  NaN  NaN  NaN    0    0  \n",
       "5150487           C    C    C    C    C    C    C    C    C  \n",
       "\n",
       "[45985 rows x 61 columns]"
      ]
     },
     "execution_count": 7,
     "metadata": {},
     "output_type": "execute_result"
    }
   ],
   "source": [
    "df_pivot"
   ]
  },
  {
   "cell_type": "markdown",
   "id": "5a15b315",
   "metadata": {},
   "source": [
    "Se puede ver que no todos los clientes tienen el mismo tamaño de información crediticia, es decir, el número de meses (__months on book__) en que ha estado activa una cuenta desde su apertura es distinto para cada usuario.\n",
    "\n",
    "Esto, a su vez, da pie a varios tamaños de ventana (__window__) para el análisis, entiendiéndose esto como  la duración total en que una cuenta está activa, siendo el máximo uno de 60 meses."
   ]
  },
  {
   "cell_type": "markdown",
   "id": "1a02cde4",
   "metadata": {},
   "source": [
    "Se calcula entonces lo siguiente, tomando en cuenta que se está trabajando con enteros negativos y cero:\n",
    "* __opening_month__: El mes más pequeño, el cual se intepreta como el cual sucede la apertura de la cuenta.\n",
    "* __closing_month__: El mes más grande, en el cual sucede el cierre de la cuenta.\n",
    "* __window__: Ventana de análsis en la que cae el usuario."
   ]
  },
  {
   "cell_type": "code",
   "execution_count": 8,
   "id": "7973bb70",
   "metadata": {},
   "outputs": [
    {
     "data": {
      "text/html": [
       "<div>\n",
       "<style scoped>\n",
       "    .dataframe tbody tr th:only-of-type {\n",
       "        vertical-align: middle;\n",
       "    }\n",
       "\n",
       "    .dataframe tbody tr th {\n",
       "        vertical-align: top;\n",
       "    }\n",
       "\n",
       "    .dataframe thead th {\n",
       "        text-align: right;\n",
       "    }\n",
       "</style>\n",
       "<table border=\"1\" class=\"dataframe\">\n",
       "  <thead>\n",
       "    <tr style=\"text-align: right;\">\n",
       "      <th>MONTHS_BALANCE</th>\n",
       "      <th>-60</th>\n",
       "      <th>-59</th>\n",
       "      <th>-58</th>\n",
       "      <th>-57</th>\n",
       "      <th>-56</th>\n",
       "      <th>-55</th>\n",
       "      <th>-54</th>\n",
       "      <th>-53</th>\n",
       "      <th>-52</th>\n",
       "      <th>-51</th>\n",
       "      <th>...</th>\n",
       "      <th>-6</th>\n",
       "      <th>-5</th>\n",
       "      <th>-4</th>\n",
       "      <th>-3</th>\n",
       "      <th>-2</th>\n",
       "      <th>-1</th>\n",
       "      <th>0</th>\n",
       "      <th>opening_month</th>\n",
       "      <th>closing_month</th>\n",
       "      <th>ID</th>\n",
       "    </tr>\n",
       "    <tr>\n",
       "      <th>ID</th>\n",
       "      <th></th>\n",
       "      <th></th>\n",
       "      <th></th>\n",
       "      <th></th>\n",
       "      <th></th>\n",
       "      <th></th>\n",
       "      <th></th>\n",
       "      <th></th>\n",
       "      <th></th>\n",
       "      <th></th>\n",
       "      <th></th>\n",
       "      <th></th>\n",
       "      <th></th>\n",
       "      <th></th>\n",
       "      <th></th>\n",
       "      <th></th>\n",
       "      <th></th>\n",
       "      <th></th>\n",
       "      <th></th>\n",
       "      <th></th>\n",
       "      <th></th>\n",
       "    </tr>\n",
       "  </thead>\n",
       "  <tbody>\n",
       "    <tr>\n",
       "      <th>5001711</th>\n",
       "      <td>NaN</td>\n",
       "      <td>NaN</td>\n",
       "      <td>NaN</td>\n",
       "      <td>NaN</td>\n",
       "      <td>NaN</td>\n",
       "      <td>NaN</td>\n",
       "      <td>NaN</td>\n",
       "      <td>NaN</td>\n",
       "      <td>NaN</td>\n",
       "      <td>NaN</td>\n",
       "      <td>...</td>\n",
       "      <td>NaN</td>\n",
       "      <td>NaN</td>\n",
       "      <td>NaN</td>\n",
       "      <td>0</td>\n",
       "      <td>0</td>\n",
       "      <td>0</td>\n",
       "      <td>X</td>\n",
       "      <td>-3</td>\n",
       "      <td>0</td>\n",
       "      <td>5001711</td>\n",
       "    </tr>\n",
       "    <tr>\n",
       "      <th>5001712</th>\n",
       "      <td>NaN</td>\n",
       "      <td>NaN</td>\n",
       "      <td>NaN</td>\n",
       "      <td>NaN</td>\n",
       "      <td>NaN</td>\n",
       "      <td>NaN</td>\n",
       "      <td>NaN</td>\n",
       "      <td>NaN</td>\n",
       "      <td>NaN</td>\n",
       "      <td>NaN</td>\n",
       "      <td>...</td>\n",
       "      <td>C</td>\n",
       "      <td>C</td>\n",
       "      <td>C</td>\n",
       "      <td>C</td>\n",
       "      <td>C</td>\n",
       "      <td>C</td>\n",
       "      <td>C</td>\n",
       "      <td>-18</td>\n",
       "      <td>0</td>\n",
       "      <td>5001712</td>\n",
       "    </tr>\n",
       "    <tr>\n",
       "      <th>5001713</th>\n",
       "      <td>NaN</td>\n",
       "      <td>NaN</td>\n",
       "      <td>NaN</td>\n",
       "      <td>NaN</td>\n",
       "      <td>NaN</td>\n",
       "      <td>NaN</td>\n",
       "      <td>NaN</td>\n",
       "      <td>NaN</td>\n",
       "      <td>NaN</td>\n",
       "      <td>NaN</td>\n",
       "      <td>...</td>\n",
       "      <td>X</td>\n",
       "      <td>X</td>\n",
       "      <td>X</td>\n",
       "      <td>X</td>\n",
       "      <td>X</td>\n",
       "      <td>X</td>\n",
       "      <td>X</td>\n",
       "      <td>-21</td>\n",
       "      <td>0</td>\n",
       "      <td>5001713</td>\n",
       "    </tr>\n",
       "    <tr>\n",
       "      <th>5001714</th>\n",
       "      <td>NaN</td>\n",
       "      <td>NaN</td>\n",
       "      <td>NaN</td>\n",
       "      <td>NaN</td>\n",
       "      <td>NaN</td>\n",
       "      <td>NaN</td>\n",
       "      <td>NaN</td>\n",
       "      <td>NaN</td>\n",
       "      <td>NaN</td>\n",
       "      <td>NaN</td>\n",
       "      <td>...</td>\n",
       "      <td>X</td>\n",
       "      <td>X</td>\n",
       "      <td>X</td>\n",
       "      <td>X</td>\n",
       "      <td>X</td>\n",
       "      <td>X</td>\n",
       "      <td>X</td>\n",
       "      <td>-14</td>\n",
       "      <td>0</td>\n",
       "      <td>5001714</td>\n",
       "    </tr>\n",
       "    <tr>\n",
       "      <th>5001715</th>\n",
       "      <td>NaN</td>\n",
       "      <td>X</td>\n",
       "      <td>X</td>\n",
       "      <td>X</td>\n",
       "      <td>X</td>\n",
       "      <td>X</td>\n",
       "      <td>X</td>\n",
       "      <td>X</td>\n",
       "      <td>X</td>\n",
       "      <td>X</td>\n",
       "      <td>...</td>\n",
       "      <td>X</td>\n",
       "      <td>X</td>\n",
       "      <td>X</td>\n",
       "      <td>X</td>\n",
       "      <td>X</td>\n",
       "      <td>X</td>\n",
       "      <td>X</td>\n",
       "      <td>-59</td>\n",
       "      <td>0</td>\n",
       "      <td>5001715</td>\n",
       "    </tr>\n",
       "    <tr>\n",
       "      <th>...</th>\n",
       "      <td>...</td>\n",
       "      <td>...</td>\n",
       "      <td>...</td>\n",
       "      <td>...</td>\n",
       "      <td>...</td>\n",
       "      <td>...</td>\n",
       "      <td>...</td>\n",
       "      <td>...</td>\n",
       "      <td>...</td>\n",
       "      <td>...</td>\n",
       "      <td>...</td>\n",
       "      <td>...</td>\n",
       "      <td>...</td>\n",
       "      <td>...</td>\n",
       "      <td>...</td>\n",
       "      <td>...</td>\n",
       "      <td>...</td>\n",
       "      <td>...</td>\n",
       "      <td>...</td>\n",
       "      <td>...</td>\n",
       "      <td>...</td>\n",
       "    </tr>\n",
       "    <tr>\n",
       "      <th>5150482</th>\n",
       "      <td>NaN</td>\n",
       "      <td>NaN</td>\n",
       "      <td>NaN</td>\n",
       "      <td>NaN</td>\n",
       "      <td>NaN</td>\n",
       "      <td>NaN</td>\n",
       "      <td>NaN</td>\n",
       "      <td>NaN</td>\n",
       "      <td>NaN</td>\n",
       "      <td>NaN</td>\n",
       "      <td>...</td>\n",
       "      <td>NaN</td>\n",
       "      <td>NaN</td>\n",
       "      <td>NaN</td>\n",
       "      <td>NaN</td>\n",
       "      <td>NaN</td>\n",
       "      <td>NaN</td>\n",
       "      <td>NaN</td>\n",
       "      <td>-28</td>\n",
       "      <td>-11</td>\n",
       "      <td>5150482</td>\n",
       "    </tr>\n",
       "    <tr>\n",
       "      <th>5150483</th>\n",
       "      <td>NaN</td>\n",
       "      <td>NaN</td>\n",
       "      <td>NaN</td>\n",
       "      <td>NaN</td>\n",
       "      <td>NaN</td>\n",
       "      <td>NaN</td>\n",
       "      <td>NaN</td>\n",
       "      <td>NaN</td>\n",
       "      <td>NaN</td>\n",
       "      <td>NaN</td>\n",
       "      <td>...</td>\n",
       "      <td>X</td>\n",
       "      <td>X</td>\n",
       "      <td>X</td>\n",
       "      <td>X</td>\n",
       "      <td>X</td>\n",
       "      <td>X</td>\n",
       "      <td>X</td>\n",
       "      <td>-17</td>\n",
       "      <td>0</td>\n",
       "      <td>5150483</td>\n",
       "    </tr>\n",
       "    <tr>\n",
       "      <th>5150484</th>\n",
       "      <td>NaN</td>\n",
       "      <td>NaN</td>\n",
       "      <td>NaN</td>\n",
       "      <td>NaN</td>\n",
       "      <td>NaN</td>\n",
       "      <td>NaN</td>\n",
       "      <td>NaN</td>\n",
       "      <td>NaN</td>\n",
       "      <td>NaN</td>\n",
       "      <td>NaN</td>\n",
       "      <td>...</td>\n",
       "      <td>0</td>\n",
       "      <td>0</td>\n",
       "      <td>0</td>\n",
       "      <td>0</td>\n",
       "      <td>0</td>\n",
       "      <td>0</td>\n",
       "      <td>C</td>\n",
       "      <td>-12</td>\n",
       "      <td>0</td>\n",
       "      <td>5150484</td>\n",
       "    </tr>\n",
       "    <tr>\n",
       "      <th>5150485</th>\n",
       "      <td>NaN</td>\n",
       "      <td>NaN</td>\n",
       "      <td>NaN</td>\n",
       "      <td>NaN</td>\n",
       "      <td>NaN</td>\n",
       "      <td>NaN</td>\n",
       "      <td>NaN</td>\n",
       "      <td>NaN</td>\n",
       "      <td>NaN</td>\n",
       "      <td>NaN</td>\n",
       "      <td>...</td>\n",
       "      <td>NaN</td>\n",
       "      <td>NaN</td>\n",
       "      <td>NaN</td>\n",
       "      <td>NaN</td>\n",
       "      <td>NaN</td>\n",
       "      <td>0</td>\n",
       "      <td>0</td>\n",
       "      <td>-1</td>\n",
       "      <td>0</td>\n",
       "      <td>5150485</td>\n",
       "    </tr>\n",
       "    <tr>\n",
       "      <th>5150487</th>\n",
       "      <td>NaN</td>\n",
       "      <td>NaN</td>\n",
       "      <td>NaN</td>\n",
       "      <td>NaN</td>\n",
       "      <td>NaN</td>\n",
       "      <td>NaN</td>\n",
       "      <td>NaN</td>\n",
       "      <td>NaN</td>\n",
       "      <td>NaN</td>\n",
       "      <td>NaN</td>\n",
       "      <td>...</td>\n",
       "      <td>C</td>\n",
       "      <td>C</td>\n",
       "      <td>C</td>\n",
       "      <td>C</td>\n",
       "      <td>C</td>\n",
       "      <td>C</td>\n",
       "      <td>C</td>\n",
       "      <td>-29</td>\n",
       "      <td>0</td>\n",
       "      <td>5150487</td>\n",
       "    </tr>\n",
       "  </tbody>\n",
       "</table>\n",
       "<p>45985 rows × 64 columns</p>\n",
       "</div>"
      ],
      "text/plain": [
       "MONTHS_BALANCE  -60  -59  -58  -57  -56  -55  -54  -53  -52  -51  ...   -6  \\\n",
       "ID                                                                ...        \n",
       "5001711         NaN  NaN  NaN  NaN  NaN  NaN  NaN  NaN  NaN  NaN  ...  NaN   \n",
       "5001712         NaN  NaN  NaN  NaN  NaN  NaN  NaN  NaN  NaN  NaN  ...    C   \n",
       "5001713         NaN  NaN  NaN  NaN  NaN  NaN  NaN  NaN  NaN  NaN  ...    X   \n",
       "5001714         NaN  NaN  NaN  NaN  NaN  NaN  NaN  NaN  NaN  NaN  ...    X   \n",
       "5001715         NaN    X    X    X    X    X    X    X    X    X  ...    X   \n",
       "...             ...  ...  ...  ...  ...  ...  ...  ...  ...  ...  ...  ...   \n",
       "5150482         NaN  NaN  NaN  NaN  NaN  NaN  NaN  NaN  NaN  NaN  ...  NaN   \n",
       "5150483         NaN  NaN  NaN  NaN  NaN  NaN  NaN  NaN  NaN  NaN  ...    X   \n",
       "5150484         NaN  NaN  NaN  NaN  NaN  NaN  NaN  NaN  NaN  NaN  ...    0   \n",
       "5150485         NaN  NaN  NaN  NaN  NaN  NaN  NaN  NaN  NaN  NaN  ...  NaN   \n",
       "5150487         NaN  NaN  NaN  NaN  NaN  NaN  NaN  NaN  NaN  NaN  ...    C   \n",
       "\n",
       "MONTHS_BALANCE   -5   -4   -3   -2   -1    0 opening_month closing_month  \\\n",
       "ID                                                                         \n",
       "5001711         NaN  NaN    0    0    0    X            -3             0   \n",
       "5001712           C    C    C    C    C    C           -18             0   \n",
       "5001713           X    X    X    X    X    X           -21             0   \n",
       "5001714           X    X    X    X    X    X           -14             0   \n",
       "5001715           X    X    X    X    X    X           -59             0   \n",
       "...             ...  ...  ...  ...  ...  ...           ...           ...   \n",
       "5150482         NaN  NaN  NaN  NaN  NaN  NaN           -28           -11   \n",
       "5150483           X    X    X    X    X    X           -17             0   \n",
       "5150484           0    0    0    0    0    C           -12             0   \n",
       "5150485         NaN  NaN  NaN  NaN    0    0            -1             0   \n",
       "5150487           C    C    C    C    C    C           -29             0   \n",
       "\n",
       "MONTHS_BALANCE       ID  \n",
       "ID                       \n",
       "5001711         5001711  \n",
       "5001712         5001712  \n",
       "5001713         5001713  \n",
       "5001714         5001714  \n",
       "5001715         5001715  \n",
       "...                 ...  \n",
       "5150482         5150482  \n",
       "5150483         5150483  \n",
       "5150484         5150484  \n",
       "5150485         5150485  \n",
       "5150487         5150487  \n",
       "\n",
       "[45985 rows x 64 columns]"
      ]
     },
     "execution_count": 8,
     "metadata": {},
     "output_type": "execute_result"
    }
   ],
   "source": [
    "df_pivot['opening_month'] = df_credit.groupby('ID')['MONTHS_BALANCE'].min()\n",
    "df_pivot['closing_month'] = df_credit.groupby('ID')['MONTHS_BALANCE'].max()\n",
    "df_pivot['ID'] = df_pivot.index\n",
    "df_pivot"
   ]
  },
  {
   "cell_type": "markdown",
   "id": "d2e85080",
   "metadata": {},
   "source": [
    "Por ahora, basta trabajar con la información de las últimas 3 columnas."
   ]
  },
  {
   "cell_type": "code",
   "execution_count": 9,
   "id": "2587ca06",
   "metadata": {},
   "outputs": [],
   "source": [
    "df_pivot_trunc = df_pivot[['ID', 'opening_month', 'closing_month']]"
   ]
  },
  {
   "cell_type": "code",
   "execution_count": 10,
   "id": "ab666ba2",
   "metadata": {},
   "outputs": [],
   "source": [
    "df_pivot_trunc['window'] = df_pivot_trunc['closing_month'] - df_pivot_trunc['opening_month']\n",
    "df_pivot_trunc.reset_index(drop=True, inplace=True)"
   ]
  },
  {
   "cell_type": "markdown",
   "id": "f6b1f4fa",
   "metadata": {},
   "source": [
    "Se dan ejemplos de como luce la información de los clientes después de estos cálculos."
   ]
  },
  {
   "cell_type": "code",
   "execution_count": 11,
   "id": "65c8dd11",
   "metadata": {},
   "outputs": [
    {
     "data": {
      "text/html": [
       "<div>\n",
       "<style scoped>\n",
       "    .dataframe tbody tr th:only-of-type {\n",
       "        vertical-align: middle;\n",
       "    }\n",
       "\n",
       "    .dataframe tbody tr th {\n",
       "        vertical-align: top;\n",
       "    }\n",
       "\n",
       "    .dataframe thead th {\n",
       "        text-align: right;\n",
       "    }\n",
       "</style>\n",
       "<table border=\"1\" class=\"dataframe\">\n",
       "  <thead>\n",
       "    <tr style=\"text-align: right;\">\n",
       "      <th>MONTHS_BALANCE</th>\n",
       "      <th>ID</th>\n",
       "      <th>opening_month</th>\n",
       "      <th>closing_month</th>\n",
       "      <th>window</th>\n",
       "    </tr>\n",
       "  </thead>\n",
       "  <tbody>\n",
       "    <tr>\n",
       "      <th>45969</th>\n",
       "      <td>5150466</td>\n",
       "      <td>-1</td>\n",
       "      <td>0</td>\n",
       "      <td>1</td>\n",
       "    </tr>\n",
       "    <tr>\n",
       "      <th>45970</th>\n",
       "      <td>5150467</td>\n",
       "      <td>-52</td>\n",
       "      <td>-46</td>\n",
       "      <td>6</td>\n",
       "    </tr>\n",
       "    <tr>\n",
       "      <th>45971</th>\n",
       "      <td>5150468</td>\n",
       "      <td>-5</td>\n",
       "      <td>0</td>\n",
       "      <td>5</td>\n",
       "    </tr>\n",
       "    <tr>\n",
       "      <th>45972</th>\n",
       "      <td>5150473</td>\n",
       "      <td>-34</td>\n",
       "      <td>0</td>\n",
       "      <td>34</td>\n",
       "    </tr>\n",
       "    <tr>\n",
       "      <th>45973</th>\n",
       "      <td>5150475</td>\n",
       "      <td>-43</td>\n",
       "      <td>0</td>\n",
       "      <td>43</td>\n",
       "    </tr>\n",
       "    <tr>\n",
       "      <th>45974</th>\n",
       "      <td>5150476</td>\n",
       "      <td>-34</td>\n",
       "      <td>-13</td>\n",
       "      <td>21</td>\n",
       "    </tr>\n",
       "    <tr>\n",
       "      <th>45975</th>\n",
       "      <td>5150477</td>\n",
       "      <td>-20</td>\n",
       "      <td>0</td>\n",
       "      <td>20</td>\n",
       "    </tr>\n",
       "    <tr>\n",
       "      <th>45976</th>\n",
       "      <td>5150478</td>\n",
       "      <td>-13</td>\n",
       "      <td>0</td>\n",
       "      <td>13</td>\n",
       "    </tr>\n",
       "    <tr>\n",
       "      <th>45977</th>\n",
       "      <td>5150479</td>\n",
       "      <td>-8</td>\n",
       "      <td>0</td>\n",
       "      <td>8</td>\n",
       "    </tr>\n",
       "    <tr>\n",
       "      <th>45978</th>\n",
       "      <td>5150480</td>\n",
       "      <td>-49</td>\n",
       "      <td>-24</td>\n",
       "      <td>25</td>\n",
       "    </tr>\n",
       "    <tr>\n",
       "      <th>45979</th>\n",
       "      <td>5150481</td>\n",
       "      <td>-42</td>\n",
       "      <td>0</td>\n",
       "      <td>42</td>\n",
       "    </tr>\n",
       "    <tr>\n",
       "      <th>45980</th>\n",
       "      <td>5150482</td>\n",
       "      <td>-28</td>\n",
       "      <td>-11</td>\n",
       "      <td>17</td>\n",
       "    </tr>\n",
       "    <tr>\n",
       "      <th>45981</th>\n",
       "      <td>5150483</td>\n",
       "      <td>-17</td>\n",
       "      <td>0</td>\n",
       "      <td>17</td>\n",
       "    </tr>\n",
       "  </tbody>\n",
       "</table>\n",
       "</div>"
      ],
      "text/plain": [
       "MONTHS_BALANCE       ID  opening_month  closing_month  window\n",
       "45969           5150466             -1              0       1\n",
       "45970           5150467            -52            -46       6\n",
       "45971           5150468             -5              0       5\n",
       "45972           5150473            -34              0      34\n",
       "45973           5150475            -43              0      43\n",
       "45974           5150476            -34            -13      21\n",
       "45975           5150477            -20              0      20\n",
       "45976           5150478            -13              0      13\n",
       "45977           5150479             -8              0       8\n",
       "45978           5150480            -49            -24      25\n",
       "45979           5150481            -42              0      42\n",
       "45980           5150482            -28            -11      17\n",
       "45981           5150483            -17              0      17"
      ]
     },
     "execution_count": 11,
     "metadata": {},
     "output_type": "execute_result"
    }
   ],
   "source": [
    "df_pivot_trunc.loc[45969:45981, :]"
   ]
  },
  {
   "cell_type": "markdown",
   "id": "264f1e38",
   "metadata": {},
   "source": [
    "Se da una versión extendida de la data crediticia original."
   ]
  },
  {
   "cell_type": "code",
   "execution_count": 12,
   "id": "e9182d1b",
   "metadata": {},
   "outputs": [],
   "source": [
    "df_credit_extend = pd.merge(df_credit,\n",
    "                            df_pivot_trunc, \n",
    "                            on = 'ID',\n",
    "                            how = 'left')"
   ]
  },
  {
   "cell_type": "markdown",
   "id": "df903ba9",
   "metadata": {},
   "source": [
    "Se calcula el mes activo en el cual se da etiqueta `STATUS`."
   ]
  },
  {
   "cell_type": "code",
   "execution_count": 13,
   "id": "f657aa74",
   "metadata": {},
   "outputs": [],
   "source": [
    "df_credit_extend['month_on_book'] = df_credit_extend['MONTHS_BALANCE'] - df_credit_extend['opening_month']\n"
   ]
  },
  {
   "cell_type": "code",
   "execution_count": 14,
   "id": "6ce5de51",
   "metadata": {},
   "outputs": [
    {
     "data": {
      "text/plain": [
       "(1048575, 7)"
      ]
     },
     "execution_count": 14,
     "metadata": {},
     "output_type": "execute_result"
    }
   ],
   "source": [
    "df_credit_extend.shape"
   ]
  },
  {
   "cell_type": "markdown",
   "id": "f2460f2e",
   "metadata": {},
   "source": [
    " Y se da un ejemplo de como luce esta información para un usuario determinado."
   ]
  },
  {
   "cell_type": "code",
   "execution_count": 15,
   "id": "5fcd12a6",
   "metadata": {},
   "outputs": [
    {
     "data": {
      "text/html": [
       "<div>\n",
       "<style scoped>\n",
       "    .dataframe tbody tr th:only-of-type {\n",
       "        vertical-align: middle;\n",
       "    }\n",
       "\n",
       "    .dataframe tbody tr th {\n",
       "        vertical-align: top;\n",
       "    }\n",
       "\n",
       "    .dataframe thead th {\n",
       "        text-align: right;\n",
       "    }\n",
       "</style>\n",
       "<table border=\"1\" class=\"dataframe\">\n",
       "  <thead>\n",
       "    <tr style=\"text-align: right;\">\n",
       "      <th></th>\n",
       "      <th>ID</th>\n",
       "      <th>MONTHS_BALANCE</th>\n",
       "      <th>STATUS</th>\n",
       "      <th>opening_month</th>\n",
       "      <th>closing_month</th>\n",
       "      <th>window</th>\n",
       "      <th>month_on_book</th>\n",
       "    </tr>\n",
       "  </thead>\n",
       "  <tbody>\n",
       "    <tr>\n",
       "      <th>0</th>\n",
       "      <td>5001711</td>\n",
       "      <td>0</td>\n",
       "      <td>X</td>\n",
       "      <td>-3</td>\n",
       "      <td>0</td>\n",
       "      <td>3</td>\n",
       "      <td>3</td>\n",
       "    </tr>\n",
       "    <tr>\n",
       "      <th>1</th>\n",
       "      <td>5001711</td>\n",
       "      <td>-1</td>\n",
       "      <td>0</td>\n",
       "      <td>-3</td>\n",
       "      <td>0</td>\n",
       "      <td>3</td>\n",
       "      <td>2</td>\n",
       "    </tr>\n",
       "    <tr>\n",
       "      <th>2</th>\n",
       "      <td>5001711</td>\n",
       "      <td>-2</td>\n",
       "      <td>0</td>\n",
       "      <td>-3</td>\n",
       "      <td>0</td>\n",
       "      <td>3</td>\n",
       "      <td>1</td>\n",
       "    </tr>\n",
       "    <tr>\n",
       "      <th>3</th>\n",
       "      <td>5001711</td>\n",
       "      <td>-3</td>\n",
       "      <td>0</td>\n",
       "      <td>-3</td>\n",
       "      <td>0</td>\n",
       "      <td>3</td>\n",
       "      <td>0</td>\n",
       "    </tr>\n",
       "  </tbody>\n",
       "</table>\n",
       "</div>"
      ],
      "text/plain": [
       "        ID  MONTHS_BALANCE STATUS  opening_month  closing_month  window  \\\n",
       "0  5001711               0      X             -3              0       3   \n",
       "1  5001711              -1      0             -3              0       3   \n",
       "2  5001711              -2      0             -3              0       3   \n",
       "3  5001711              -3      0             -3              0       3   \n",
       "\n",
       "   month_on_book  \n",
       "0              3  \n",
       "1              2  \n",
       "2              1  \n",
       "3              0  "
      ]
     },
     "execution_count": 15,
     "metadata": {},
     "output_type": "execute_result"
    }
   ],
   "source": [
    "df_credit_extend[df_credit_extend['ID']==5001711]"
   ]
  },
  {
   "cell_type": "markdown",
   "id": "ab5cb1e7",
   "metadata": {},
   "source": [
    "En este caso, el cliente con ID `5001711`, abrió su cuenta haces 3 meses con respecto al mes actual (`opening_month = -3`), su tamaño de información crediticia \"completa\" es de por supuesto 3 meses (`window = 3`) y se enlistan todos todos los meses en que la cuenta permaneció activa (`months on book`)."
   ]
  },
  {
   "cell_type": "markdown",
   "id": "4f68334c",
   "metadata": {},
   "source": [
    "# 3. ELECCIÓN DE LOS TAMAÑOS DE VETANA A OBSERVAR."
   ]
  },
  {
   "cell_type": "markdown",
   "id": "dbac89e6",
   "metadata": {},
   "source": [
    "Se calculan los porcentajes de clientes cuya cantidad de información total en meses (__window__) es más grande o igual a cierto umbral."
   ]
  },
  {
   "cell_type": "code",
   "execution_count": 16,
   "id": "9c5879e9",
   "metadata": {},
   "outputs": [],
   "source": [
    "ratios = []\n",
    "for i in range(0,61):\n",
    "    ratio = df_pivot_trunc[df_pivot_trunc['window'] >= i].shape[0] / df_pivot_trunc.shape[0]\n",
    "    ratios.append(ratio)"
   ]
  },
  {
   "cell_type": "code",
   "execution_count": 17,
   "id": "934c70d5",
   "metadata": {},
   "outputs": [],
   "source": [
    "data = {'frecuencia de cuentas': ratios,\n",
    "        'tamaño de ventana': list(range(0,61))}\n",
    "df = pd.DataFrame(data)\n",
    "df['frecuencia de cuentas'] = round(df['frecuencia de cuentas'] * 100, 2)"
   ]
  },
  {
   "cell_type": "code",
   "execution_count": 18,
   "id": "c4bdf014",
   "metadata": {
    "scrolled": false
   },
   "outputs": [
    {
     "data": {
      "application/vnd.plotly.v1+json": {
       "config": {
        "plotlyServerURL": "https://plot.ly"
       },
       "data": [
        {
         "hovertemplate": "tamaño de ventana=%{x}<br>frecuencia de cuentas=%{y}<extra></extra>",
         "legendgroup": "",
         "marker": {
          "color": "#636efa",
          "symbol": "circle"
         },
         "mode": "markers",
         "name": "",
         "orientation": "v",
         "showlegend": false,
         "type": "scatter",
         "x": [
          0,
          1,
          2,
          3,
          4,
          5,
          6,
          7,
          8,
          9,
          10,
          11,
          12,
          13,
          14,
          15,
          16,
          17,
          18,
          19,
          20,
          21,
          22,
          23,
          24,
          25,
          26,
          27,
          28,
          29,
          30,
          31,
          32,
          33,
          34,
          35,
          36,
          37,
          38,
          39,
          40,
          41,
          42,
          43,
          44,
          45,
          46,
          47,
          48,
          49,
          50,
          51,
          52,
          53,
          54,
          55,
          56,
          57,
          58,
          59,
          60
         ],
         "xaxis": "x",
         "y": [
          100,
          99.13,
          96.77,
          94.24,
          91.33,
          88.66,
          85.53,
          82.36,
          79.03,
          75.94,
          73.11,
          70.18,
          67.23,
          64.33,
          61.78,
          59.32,
          56.89,
          54.47,
          52.05,
          49.82,
          47.69,
          45.5,
          43.61,
          41.71,
          39.79,
          37.88,
          36.07,
          34.51,
          32.87,
          31.22,
          29.66,
          28.09,
          26.67,
          25.27,
          24,
          22.67,
          21.35,
          20.07,
          18.8,
          17.57,
          16.26,
          15.03,
          13.92,
          12.89,
          11.89,
          10.93,
          10.03,
          9.2,
          8.34,
          7.44,
          6.68,
          5.95,
          5.21,
          4.49,
          3.86,
          3.3,
          2.65,
          2.04,
          1.52,
          0.99,
          0.48
         ],
         "yaxis": "y"
        },
        {
         "hovertemplate": "tamaño de ventana=%{x}<br>frecuencia de cuentas=%{y}<extra></extra>",
         "legendgroup": "",
         "line": {
          "color": "#636efa",
          "dash": "solid"
         },
         "marker": {
          "symbol": "circle"
         },
         "mode": "lines",
         "name": "",
         "orientation": "v",
         "showlegend": false,
         "type": "scatter",
         "x": [
          0,
          1,
          2,
          3,
          4,
          5,
          6,
          7,
          8,
          9,
          10,
          11,
          12,
          13,
          14,
          15,
          16,
          17,
          18,
          19,
          20,
          21,
          22,
          23,
          24,
          25,
          26,
          27,
          28,
          29,
          30,
          31,
          32,
          33,
          34,
          35,
          36,
          37,
          38,
          39,
          40,
          41,
          42,
          43,
          44,
          45,
          46,
          47,
          48,
          49,
          50,
          51,
          52,
          53,
          54,
          55,
          56,
          57,
          58,
          59,
          60
         ],
         "xaxis": "x",
         "y": [
          100,
          99.13,
          96.77,
          94.24,
          91.33,
          88.66,
          85.53,
          82.36,
          79.03,
          75.94,
          73.11,
          70.18,
          67.23,
          64.33,
          61.78,
          59.32,
          56.89,
          54.47,
          52.05,
          49.82,
          47.69,
          45.5,
          43.61,
          41.71,
          39.79,
          37.88,
          36.07,
          34.51,
          32.87,
          31.22,
          29.66,
          28.09,
          26.67,
          25.27,
          24,
          22.67,
          21.35,
          20.07,
          18.8,
          17.57,
          16.26,
          15.03,
          13.92,
          12.89,
          11.89,
          10.93,
          10.03,
          9.2,
          8.34,
          7.44,
          6.68,
          5.95,
          5.21,
          4.49,
          3.86,
          3.3,
          2.65,
          2.04,
          1.52,
          0.99,
          0.48
         ],
         "yaxis": "y"
        }
       ],
       "layout": {
        "legend": {
         "tracegroupgap": 0
        },
        "margin": {
         "t": 60
        },
        "template": {
         "data": {
          "bar": [
           {
            "error_x": {
             "color": "#2a3f5f"
            },
            "error_y": {
             "color": "#2a3f5f"
            },
            "marker": {
             "line": {
              "color": "#E5ECF6",
              "width": 0.5
             },
             "pattern": {
              "fillmode": "overlay",
              "size": 10,
              "solidity": 0.2
             }
            },
            "type": "bar"
           }
          ],
          "barpolar": [
           {
            "marker": {
             "line": {
              "color": "#E5ECF6",
              "width": 0.5
             },
             "pattern": {
              "fillmode": "overlay",
              "size": 10,
              "solidity": 0.2
             }
            },
            "type": "barpolar"
           }
          ],
          "carpet": [
           {
            "aaxis": {
             "endlinecolor": "#2a3f5f",
             "gridcolor": "white",
             "linecolor": "white",
             "minorgridcolor": "white",
             "startlinecolor": "#2a3f5f"
            },
            "baxis": {
             "endlinecolor": "#2a3f5f",
             "gridcolor": "white",
             "linecolor": "white",
             "minorgridcolor": "white",
             "startlinecolor": "#2a3f5f"
            },
            "type": "carpet"
           }
          ],
          "choropleth": [
           {
            "colorbar": {
             "outlinewidth": 0,
             "ticks": ""
            },
            "type": "choropleth"
           }
          ],
          "contour": [
           {
            "colorbar": {
             "outlinewidth": 0,
             "ticks": ""
            },
            "colorscale": [
             [
              0,
              "#0d0887"
             ],
             [
              0.1111111111111111,
              "#46039f"
             ],
             [
              0.2222222222222222,
              "#7201a8"
             ],
             [
              0.3333333333333333,
              "#9c179e"
             ],
             [
              0.4444444444444444,
              "#bd3786"
             ],
             [
              0.5555555555555556,
              "#d8576b"
             ],
             [
              0.6666666666666666,
              "#ed7953"
             ],
             [
              0.7777777777777778,
              "#fb9f3a"
             ],
             [
              0.8888888888888888,
              "#fdca26"
             ],
             [
              1,
              "#f0f921"
             ]
            ],
            "type": "contour"
           }
          ],
          "contourcarpet": [
           {
            "colorbar": {
             "outlinewidth": 0,
             "ticks": ""
            },
            "type": "contourcarpet"
           }
          ],
          "heatmap": [
           {
            "colorbar": {
             "outlinewidth": 0,
             "ticks": ""
            },
            "colorscale": [
             [
              0,
              "#0d0887"
             ],
             [
              0.1111111111111111,
              "#46039f"
             ],
             [
              0.2222222222222222,
              "#7201a8"
             ],
             [
              0.3333333333333333,
              "#9c179e"
             ],
             [
              0.4444444444444444,
              "#bd3786"
             ],
             [
              0.5555555555555556,
              "#d8576b"
             ],
             [
              0.6666666666666666,
              "#ed7953"
             ],
             [
              0.7777777777777778,
              "#fb9f3a"
             ],
             [
              0.8888888888888888,
              "#fdca26"
             ],
             [
              1,
              "#f0f921"
             ]
            ],
            "type": "heatmap"
           }
          ],
          "heatmapgl": [
           {
            "colorbar": {
             "outlinewidth": 0,
             "ticks": ""
            },
            "colorscale": [
             [
              0,
              "#0d0887"
             ],
             [
              0.1111111111111111,
              "#46039f"
             ],
             [
              0.2222222222222222,
              "#7201a8"
             ],
             [
              0.3333333333333333,
              "#9c179e"
             ],
             [
              0.4444444444444444,
              "#bd3786"
             ],
             [
              0.5555555555555556,
              "#d8576b"
             ],
             [
              0.6666666666666666,
              "#ed7953"
             ],
             [
              0.7777777777777778,
              "#fb9f3a"
             ],
             [
              0.8888888888888888,
              "#fdca26"
             ],
             [
              1,
              "#f0f921"
             ]
            ],
            "type": "heatmapgl"
           }
          ],
          "histogram": [
           {
            "marker": {
             "pattern": {
              "fillmode": "overlay",
              "size": 10,
              "solidity": 0.2
             }
            },
            "type": "histogram"
           }
          ],
          "histogram2d": [
           {
            "colorbar": {
             "outlinewidth": 0,
             "ticks": ""
            },
            "colorscale": [
             [
              0,
              "#0d0887"
             ],
             [
              0.1111111111111111,
              "#46039f"
             ],
             [
              0.2222222222222222,
              "#7201a8"
             ],
             [
              0.3333333333333333,
              "#9c179e"
             ],
             [
              0.4444444444444444,
              "#bd3786"
             ],
             [
              0.5555555555555556,
              "#d8576b"
             ],
             [
              0.6666666666666666,
              "#ed7953"
             ],
             [
              0.7777777777777778,
              "#fb9f3a"
             ],
             [
              0.8888888888888888,
              "#fdca26"
             ],
             [
              1,
              "#f0f921"
             ]
            ],
            "type": "histogram2d"
           }
          ],
          "histogram2dcontour": [
           {
            "colorbar": {
             "outlinewidth": 0,
             "ticks": ""
            },
            "colorscale": [
             [
              0,
              "#0d0887"
             ],
             [
              0.1111111111111111,
              "#46039f"
             ],
             [
              0.2222222222222222,
              "#7201a8"
             ],
             [
              0.3333333333333333,
              "#9c179e"
             ],
             [
              0.4444444444444444,
              "#bd3786"
             ],
             [
              0.5555555555555556,
              "#d8576b"
             ],
             [
              0.6666666666666666,
              "#ed7953"
             ],
             [
              0.7777777777777778,
              "#fb9f3a"
             ],
             [
              0.8888888888888888,
              "#fdca26"
             ],
             [
              1,
              "#f0f921"
             ]
            ],
            "type": "histogram2dcontour"
           }
          ],
          "mesh3d": [
           {
            "colorbar": {
             "outlinewidth": 0,
             "ticks": ""
            },
            "type": "mesh3d"
           }
          ],
          "parcoords": [
           {
            "line": {
             "colorbar": {
              "outlinewidth": 0,
              "ticks": ""
             }
            },
            "type": "parcoords"
           }
          ],
          "pie": [
           {
            "automargin": true,
            "type": "pie"
           }
          ],
          "scatter": [
           {
            "fillpattern": {
             "fillmode": "overlay",
             "size": 10,
             "solidity": 0.2
            },
            "type": "scatter"
           }
          ],
          "scatter3d": [
           {
            "line": {
             "colorbar": {
              "outlinewidth": 0,
              "ticks": ""
             }
            },
            "marker": {
             "colorbar": {
              "outlinewidth": 0,
              "ticks": ""
             }
            },
            "type": "scatter3d"
           }
          ],
          "scattercarpet": [
           {
            "marker": {
             "colorbar": {
              "outlinewidth": 0,
              "ticks": ""
             }
            },
            "type": "scattercarpet"
           }
          ],
          "scattergeo": [
           {
            "marker": {
             "colorbar": {
              "outlinewidth": 0,
              "ticks": ""
             }
            },
            "type": "scattergeo"
           }
          ],
          "scattergl": [
           {
            "marker": {
             "colorbar": {
              "outlinewidth": 0,
              "ticks": ""
             }
            },
            "type": "scattergl"
           }
          ],
          "scattermapbox": [
           {
            "marker": {
             "colorbar": {
              "outlinewidth": 0,
              "ticks": ""
             }
            },
            "type": "scattermapbox"
           }
          ],
          "scatterpolar": [
           {
            "marker": {
             "colorbar": {
              "outlinewidth": 0,
              "ticks": ""
             }
            },
            "type": "scatterpolar"
           }
          ],
          "scatterpolargl": [
           {
            "marker": {
             "colorbar": {
              "outlinewidth": 0,
              "ticks": ""
             }
            },
            "type": "scatterpolargl"
           }
          ],
          "scatterternary": [
           {
            "marker": {
             "colorbar": {
              "outlinewidth": 0,
              "ticks": ""
             }
            },
            "type": "scatterternary"
           }
          ],
          "surface": [
           {
            "colorbar": {
             "outlinewidth": 0,
             "ticks": ""
            },
            "colorscale": [
             [
              0,
              "#0d0887"
             ],
             [
              0.1111111111111111,
              "#46039f"
             ],
             [
              0.2222222222222222,
              "#7201a8"
             ],
             [
              0.3333333333333333,
              "#9c179e"
             ],
             [
              0.4444444444444444,
              "#bd3786"
             ],
             [
              0.5555555555555556,
              "#d8576b"
             ],
             [
              0.6666666666666666,
              "#ed7953"
             ],
             [
              0.7777777777777778,
              "#fb9f3a"
             ],
             [
              0.8888888888888888,
              "#fdca26"
             ],
             [
              1,
              "#f0f921"
             ]
            ],
            "type": "surface"
           }
          ],
          "table": [
           {
            "cells": {
             "fill": {
              "color": "#EBF0F8"
             },
             "line": {
              "color": "white"
             }
            },
            "header": {
             "fill": {
              "color": "#C8D4E3"
             },
             "line": {
              "color": "white"
             }
            },
            "type": "table"
           }
          ]
         },
         "layout": {
          "annotationdefaults": {
           "arrowcolor": "#2a3f5f",
           "arrowhead": 0,
           "arrowwidth": 1
          },
          "autotypenumbers": "strict",
          "coloraxis": {
           "colorbar": {
            "outlinewidth": 0,
            "ticks": ""
           }
          },
          "colorscale": {
           "diverging": [
            [
             0,
             "#8e0152"
            ],
            [
             0.1,
             "#c51b7d"
            ],
            [
             0.2,
             "#de77ae"
            ],
            [
             0.3,
             "#f1b6da"
            ],
            [
             0.4,
             "#fde0ef"
            ],
            [
             0.5,
             "#f7f7f7"
            ],
            [
             0.6,
             "#e6f5d0"
            ],
            [
             0.7,
             "#b8e186"
            ],
            [
             0.8,
             "#7fbc41"
            ],
            [
             0.9,
             "#4d9221"
            ],
            [
             1,
             "#276419"
            ]
           ],
           "sequential": [
            [
             0,
             "#0d0887"
            ],
            [
             0.1111111111111111,
             "#46039f"
            ],
            [
             0.2222222222222222,
             "#7201a8"
            ],
            [
             0.3333333333333333,
             "#9c179e"
            ],
            [
             0.4444444444444444,
             "#bd3786"
            ],
            [
             0.5555555555555556,
             "#d8576b"
            ],
            [
             0.6666666666666666,
             "#ed7953"
            ],
            [
             0.7777777777777778,
             "#fb9f3a"
            ],
            [
             0.8888888888888888,
             "#fdca26"
            ],
            [
             1,
             "#f0f921"
            ]
           ],
           "sequentialminus": [
            [
             0,
             "#0d0887"
            ],
            [
             0.1111111111111111,
             "#46039f"
            ],
            [
             0.2222222222222222,
             "#7201a8"
            ],
            [
             0.3333333333333333,
             "#9c179e"
            ],
            [
             0.4444444444444444,
             "#bd3786"
            ],
            [
             0.5555555555555556,
             "#d8576b"
            ],
            [
             0.6666666666666666,
             "#ed7953"
            ],
            [
             0.7777777777777778,
             "#fb9f3a"
            ],
            [
             0.8888888888888888,
             "#fdca26"
            ],
            [
             1,
             "#f0f921"
            ]
           ]
          },
          "colorway": [
           "#636efa",
           "#EF553B",
           "#00cc96",
           "#ab63fa",
           "#FFA15A",
           "#19d3f3",
           "#FF6692",
           "#B6E880",
           "#FF97FF",
           "#FECB52"
          ],
          "font": {
           "color": "#2a3f5f"
          },
          "geo": {
           "bgcolor": "white",
           "lakecolor": "white",
           "landcolor": "#E5ECF6",
           "showlakes": true,
           "showland": true,
           "subunitcolor": "white"
          },
          "hoverlabel": {
           "align": "left"
          },
          "hovermode": "closest",
          "mapbox": {
           "style": "light"
          },
          "paper_bgcolor": "white",
          "plot_bgcolor": "#E5ECF6",
          "polar": {
           "angularaxis": {
            "gridcolor": "white",
            "linecolor": "white",
            "ticks": ""
           },
           "bgcolor": "#E5ECF6",
           "radialaxis": {
            "gridcolor": "white",
            "linecolor": "white",
            "ticks": ""
           }
          },
          "scene": {
           "xaxis": {
            "backgroundcolor": "#E5ECF6",
            "gridcolor": "white",
            "gridwidth": 2,
            "linecolor": "white",
            "showbackground": true,
            "ticks": "",
            "zerolinecolor": "white"
           },
           "yaxis": {
            "backgroundcolor": "#E5ECF6",
            "gridcolor": "white",
            "gridwidth": 2,
            "linecolor": "white",
            "showbackground": true,
            "ticks": "",
            "zerolinecolor": "white"
           },
           "zaxis": {
            "backgroundcolor": "#E5ECF6",
            "gridcolor": "white",
            "gridwidth": 2,
            "linecolor": "white",
            "showbackground": true,
            "ticks": "",
            "zerolinecolor": "white"
           }
          },
          "shapedefaults": {
           "line": {
            "color": "#2a3f5f"
           }
          },
          "ternary": {
           "aaxis": {
            "gridcolor": "white",
            "linecolor": "white",
            "ticks": ""
           },
           "baxis": {
            "gridcolor": "white",
            "linecolor": "white",
            "ticks": ""
           },
           "bgcolor": "#E5ECF6",
           "caxis": {
            "gridcolor": "white",
            "linecolor": "white",
            "ticks": ""
           }
          },
          "title": {
           "x": 0.05
          },
          "xaxis": {
           "automargin": true,
           "gridcolor": "white",
           "linecolor": "white",
           "ticks": "",
           "title": {
            "standoff": 15
           },
           "zerolinecolor": "white",
           "zerolinewidth": 2
          },
          "yaxis": {
           "automargin": true,
           "gridcolor": "white",
           "linecolor": "white",
           "ticks": "",
           "title": {
            "standoff": 15
           },
           "zerolinecolor": "white",
           "zerolinewidth": 2
          }
         }
        },
        "xaxis": {
         "anchor": "y",
         "domain": [
          0,
          1
         ],
         "title": {
          "text": "tamaño de ventana"
         }
        },
        "yaxis": {
         "anchor": "x",
         "domain": [
          0,
          1
         ],
         "title": {
          "text": "frecuencia de cuentas"
         }
        }
       }
      },
      "text/html": [
       "<div>                            <div id=\"da63e518-ef76-4aff-80f6-17939f3d5a97\" class=\"plotly-graph-div\" style=\"height:525px; width:100%;\"></div>            <script type=\"text/javascript\">                require([\"plotly\"], function(Plotly) {                    window.PLOTLYENV=window.PLOTLYENV || {};                                    if (document.getElementById(\"da63e518-ef76-4aff-80f6-17939f3d5a97\")) {                    Plotly.newPlot(                        \"da63e518-ef76-4aff-80f6-17939f3d5a97\",                        [{\"hovertemplate\":\"tama\\u00f1o de ventana=%{x}<br>frecuencia de cuentas=%{y}<extra></extra>\",\"legendgroup\":\"\",\"marker\":{\"color\":\"#636efa\",\"symbol\":\"circle\"},\"mode\":\"markers\",\"name\":\"\",\"orientation\":\"v\",\"showlegend\":false,\"x\":[0,1,2,3,4,5,6,7,8,9,10,11,12,13,14,15,16,17,18,19,20,21,22,23,24,25,26,27,28,29,30,31,32,33,34,35,36,37,38,39,40,41,42,43,44,45,46,47,48,49,50,51,52,53,54,55,56,57,58,59,60],\"xaxis\":\"x\",\"y\":[100.0,99.13,96.77,94.24,91.33,88.66,85.53,82.36,79.03,75.94,73.11,70.18,67.23,64.33,61.78,59.32,56.89,54.47,52.05,49.82,47.69,45.5,43.61,41.71,39.79,37.88,36.07,34.51,32.87,31.22,29.66,28.09,26.67,25.27,24.0,22.67,21.35,20.07,18.8,17.57,16.26,15.03,13.92,12.89,11.89,10.93,10.03,9.2,8.34,7.44,6.68,5.95,5.21,4.49,3.86,3.3,2.65,2.04,1.52,0.99,0.48],\"yaxis\":\"y\",\"type\":\"scatter\"},{\"hovertemplate\":\"tama\\u00f1o de ventana=%{x}<br>frecuencia de cuentas=%{y}<extra></extra>\",\"legendgroup\":\"\",\"line\":{\"color\":\"#636efa\",\"dash\":\"solid\"},\"marker\":{\"symbol\":\"circle\"},\"mode\":\"lines\",\"name\":\"\",\"orientation\":\"v\",\"showlegend\":false,\"x\":[0,1,2,3,4,5,6,7,8,9,10,11,12,13,14,15,16,17,18,19,20,21,22,23,24,25,26,27,28,29,30,31,32,33,34,35,36,37,38,39,40,41,42,43,44,45,46,47,48,49,50,51,52,53,54,55,56,57,58,59,60],\"xaxis\":\"x\",\"y\":[100.0,99.13,96.77,94.24,91.33,88.66,85.53,82.36,79.03,75.94,73.11,70.18,67.23,64.33,61.78,59.32,56.89,54.47,52.05,49.82,47.69,45.5,43.61,41.71,39.79,37.88,36.07,34.51,32.87,31.22,29.66,28.09,26.67,25.27,24.0,22.67,21.35,20.07,18.8,17.57,16.26,15.03,13.92,12.89,11.89,10.93,10.03,9.2,8.34,7.44,6.68,5.95,5.21,4.49,3.86,3.3,2.65,2.04,1.52,0.99,0.48],\"yaxis\":\"y\",\"type\":\"scatter\"}],                        {\"template\":{\"data\":{\"histogram2dcontour\":[{\"type\":\"histogram2dcontour\",\"colorbar\":{\"outlinewidth\":0,\"ticks\":\"\"},\"colorscale\":[[0.0,\"#0d0887\"],[0.1111111111111111,\"#46039f\"],[0.2222222222222222,\"#7201a8\"],[0.3333333333333333,\"#9c179e\"],[0.4444444444444444,\"#bd3786\"],[0.5555555555555556,\"#d8576b\"],[0.6666666666666666,\"#ed7953\"],[0.7777777777777778,\"#fb9f3a\"],[0.8888888888888888,\"#fdca26\"],[1.0,\"#f0f921\"]]}],\"choropleth\":[{\"type\":\"choropleth\",\"colorbar\":{\"outlinewidth\":0,\"ticks\":\"\"}}],\"histogram2d\":[{\"type\":\"histogram2d\",\"colorbar\":{\"outlinewidth\":0,\"ticks\":\"\"},\"colorscale\":[[0.0,\"#0d0887\"],[0.1111111111111111,\"#46039f\"],[0.2222222222222222,\"#7201a8\"],[0.3333333333333333,\"#9c179e\"],[0.4444444444444444,\"#bd3786\"],[0.5555555555555556,\"#d8576b\"],[0.6666666666666666,\"#ed7953\"],[0.7777777777777778,\"#fb9f3a\"],[0.8888888888888888,\"#fdca26\"],[1.0,\"#f0f921\"]]}],\"heatmap\":[{\"type\":\"heatmap\",\"colorbar\":{\"outlinewidth\":0,\"ticks\":\"\"},\"colorscale\":[[0.0,\"#0d0887\"],[0.1111111111111111,\"#46039f\"],[0.2222222222222222,\"#7201a8\"],[0.3333333333333333,\"#9c179e\"],[0.4444444444444444,\"#bd3786\"],[0.5555555555555556,\"#d8576b\"],[0.6666666666666666,\"#ed7953\"],[0.7777777777777778,\"#fb9f3a\"],[0.8888888888888888,\"#fdca26\"],[1.0,\"#f0f921\"]]}],\"heatmapgl\":[{\"type\":\"heatmapgl\",\"colorbar\":{\"outlinewidth\":0,\"ticks\":\"\"},\"colorscale\":[[0.0,\"#0d0887\"],[0.1111111111111111,\"#46039f\"],[0.2222222222222222,\"#7201a8\"],[0.3333333333333333,\"#9c179e\"],[0.4444444444444444,\"#bd3786\"],[0.5555555555555556,\"#d8576b\"],[0.6666666666666666,\"#ed7953\"],[0.7777777777777778,\"#fb9f3a\"],[0.8888888888888888,\"#fdca26\"],[1.0,\"#f0f921\"]]}],\"contourcarpet\":[{\"type\":\"contourcarpet\",\"colorbar\":{\"outlinewidth\":0,\"ticks\":\"\"}}],\"contour\":[{\"type\":\"contour\",\"colorbar\":{\"outlinewidth\":0,\"ticks\":\"\"},\"colorscale\":[[0.0,\"#0d0887\"],[0.1111111111111111,\"#46039f\"],[0.2222222222222222,\"#7201a8\"],[0.3333333333333333,\"#9c179e\"],[0.4444444444444444,\"#bd3786\"],[0.5555555555555556,\"#d8576b\"],[0.6666666666666666,\"#ed7953\"],[0.7777777777777778,\"#fb9f3a\"],[0.8888888888888888,\"#fdca26\"],[1.0,\"#f0f921\"]]}],\"surface\":[{\"type\":\"surface\",\"colorbar\":{\"outlinewidth\":0,\"ticks\":\"\"},\"colorscale\":[[0.0,\"#0d0887\"],[0.1111111111111111,\"#46039f\"],[0.2222222222222222,\"#7201a8\"],[0.3333333333333333,\"#9c179e\"],[0.4444444444444444,\"#bd3786\"],[0.5555555555555556,\"#d8576b\"],[0.6666666666666666,\"#ed7953\"],[0.7777777777777778,\"#fb9f3a\"],[0.8888888888888888,\"#fdca26\"],[1.0,\"#f0f921\"]]}],\"mesh3d\":[{\"type\":\"mesh3d\",\"colorbar\":{\"outlinewidth\":0,\"ticks\":\"\"}}],\"scatter\":[{\"fillpattern\":{\"fillmode\":\"overlay\",\"size\":10,\"solidity\":0.2},\"type\":\"scatter\"}],\"parcoords\":[{\"type\":\"parcoords\",\"line\":{\"colorbar\":{\"outlinewidth\":0,\"ticks\":\"\"}}}],\"scatterpolargl\":[{\"type\":\"scatterpolargl\",\"marker\":{\"colorbar\":{\"outlinewidth\":0,\"ticks\":\"\"}}}],\"bar\":[{\"error_x\":{\"color\":\"#2a3f5f\"},\"error_y\":{\"color\":\"#2a3f5f\"},\"marker\":{\"line\":{\"color\":\"#E5ECF6\",\"width\":0.5},\"pattern\":{\"fillmode\":\"overlay\",\"size\":10,\"solidity\":0.2}},\"type\":\"bar\"}],\"scattergeo\":[{\"type\":\"scattergeo\",\"marker\":{\"colorbar\":{\"outlinewidth\":0,\"ticks\":\"\"}}}],\"scatterpolar\":[{\"type\":\"scatterpolar\",\"marker\":{\"colorbar\":{\"outlinewidth\":0,\"ticks\":\"\"}}}],\"histogram\":[{\"marker\":{\"pattern\":{\"fillmode\":\"overlay\",\"size\":10,\"solidity\":0.2}},\"type\":\"histogram\"}],\"scattergl\":[{\"type\":\"scattergl\",\"marker\":{\"colorbar\":{\"outlinewidth\":0,\"ticks\":\"\"}}}],\"scatter3d\":[{\"type\":\"scatter3d\",\"line\":{\"colorbar\":{\"outlinewidth\":0,\"ticks\":\"\"}},\"marker\":{\"colorbar\":{\"outlinewidth\":0,\"ticks\":\"\"}}}],\"scattermapbox\":[{\"type\":\"scattermapbox\",\"marker\":{\"colorbar\":{\"outlinewidth\":0,\"ticks\":\"\"}}}],\"scatterternary\":[{\"type\":\"scatterternary\",\"marker\":{\"colorbar\":{\"outlinewidth\":0,\"ticks\":\"\"}}}],\"scattercarpet\":[{\"type\":\"scattercarpet\",\"marker\":{\"colorbar\":{\"outlinewidth\":0,\"ticks\":\"\"}}}],\"carpet\":[{\"aaxis\":{\"endlinecolor\":\"#2a3f5f\",\"gridcolor\":\"white\",\"linecolor\":\"white\",\"minorgridcolor\":\"white\",\"startlinecolor\":\"#2a3f5f\"},\"baxis\":{\"endlinecolor\":\"#2a3f5f\",\"gridcolor\":\"white\",\"linecolor\":\"white\",\"minorgridcolor\":\"white\",\"startlinecolor\":\"#2a3f5f\"},\"type\":\"carpet\"}],\"table\":[{\"cells\":{\"fill\":{\"color\":\"#EBF0F8\"},\"line\":{\"color\":\"white\"}},\"header\":{\"fill\":{\"color\":\"#C8D4E3\"},\"line\":{\"color\":\"white\"}},\"type\":\"table\"}],\"barpolar\":[{\"marker\":{\"line\":{\"color\":\"#E5ECF6\",\"width\":0.5},\"pattern\":{\"fillmode\":\"overlay\",\"size\":10,\"solidity\":0.2}},\"type\":\"barpolar\"}],\"pie\":[{\"automargin\":true,\"type\":\"pie\"}]},\"layout\":{\"autotypenumbers\":\"strict\",\"colorway\":[\"#636efa\",\"#EF553B\",\"#00cc96\",\"#ab63fa\",\"#FFA15A\",\"#19d3f3\",\"#FF6692\",\"#B6E880\",\"#FF97FF\",\"#FECB52\"],\"font\":{\"color\":\"#2a3f5f\"},\"hovermode\":\"closest\",\"hoverlabel\":{\"align\":\"left\"},\"paper_bgcolor\":\"white\",\"plot_bgcolor\":\"#E5ECF6\",\"polar\":{\"bgcolor\":\"#E5ECF6\",\"angularaxis\":{\"gridcolor\":\"white\",\"linecolor\":\"white\",\"ticks\":\"\"},\"radialaxis\":{\"gridcolor\":\"white\",\"linecolor\":\"white\",\"ticks\":\"\"}},\"ternary\":{\"bgcolor\":\"#E5ECF6\",\"aaxis\":{\"gridcolor\":\"white\",\"linecolor\":\"white\",\"ticks\":\"\"},\"baxis\":{\"gridcolor\":\"white\",\"linecolor\":\"white\",\"ticks\":\"\"},\"caxis\":{\"gridcolor\":\"white\",\"linecolor\":\"white\",\"ticks\":\"\"}},\"coloraxis\":{\"colorbar\":{\"outlinewidth\":0,\"ticks\":\"\"}},\"colorscale\":{\"sequential\":[[0.0,\"#0d0887\"],[0.1111111111111111,\"#46039f\"],[0.2222222222222222,\"#7201a8\"],[0.3333333333333333,\"#9c179e\"],[0.4444444444444444,\"#bd3786\"],[0.5555555555555556,\"#d8576b\"],[0.6666666666666666,\"#ed7953\"],[0.7777777777777778,\"#fb9f3a\"],[0.8888888888888888,\"#fdca26\"],[1.0,\"#f0f921\"]],\"sequentialminus\":[[0.0,\"#0d0887\"],[0.1111111111111111,\"#46039f\"],[0.2222222222222222,\"#7201a8\"],[0.3333333333333333,\"#9c179e\"],[0.4444444444444444,\"#bd3786\"],[0.5555555555555556,\"#d8576b\"],[0.6666666666666666,\"#ed7953\"],[0.7777777777777778,\"#fb9f3a\"],[0.8888888888888888,\"#fdca26\"],[1.0,\"#f0f921\"]],\"diverging\":[[0,\"#8e0152\"],[0.1,\"#c51b7d\"],[0.2,\"#de77ae\"],[0.3,\"#f1b6da\"],[0.4,\"#fde0ef\"],[0.5,\"#f7f7f7\"],[0.6,\"#e6f5d0\"],[0.7,\"#b8e186\"],[0.8,\"#7fbc41\"],[0.9,\"#4d9221\"],[1,\"#276419\"]]},\"xaxis\":{\"gridcolor\":\"white\",\"linecolor\":\"white\",\"ticks\":\"\",\"title\":{\"standoff\":15},\"zerolinecolor\":\"white\",\"automargin\":true,\"zerolinewidth\":2},\"yaxis\":{\"gridcolor\":\"white\",\"linecolor\":\"white\",\"ticks\":\"\",\"title\":{\"standoff\":15},\"zerolinecolor\":\"white\",\"automargin\":true,\"zerolinewidth\":2},\"scene\":{\"xaxis\":{\"backgroundcolor\":\"#E5ECF6\",\"gridcolor\":\"white\",\"linecolor\":\"white\",\"showbackground\":true,\"ticks\":\"\",\"zerolinecolor\":\"white\",\"gridwidth\":2},\"yaxis\":{\"backgroundcolor\":\"#E5ECF6\",\"gridcolor\":\"white\",\"linecolor\":\"white\",\"showbackground\":true,\"ticks\":\"\",\"zerolinecolor\":\"white\",\"gridwidth\":2},\"zaxis\":{\"backgroundcolor\":\"#E5ECF6\",\"gridcolor\":\"white\",\"linecolor\":\"white\",\"showbackground\":true,\"ticks\":\"\",\"zerolinecolor\":\"white\",\"gridwidth\":2}},\"shapedefaults\":{\"line\":{\"color\":\"#2a3f5f\"}},\"annotationdefaults\":{\"arrowcolor\":\"#2a3f5f\",\"arrowhead\":0,\"arrowwidth\":1},\"geo\":{\"bgcolor\":\"white\",\"landcolor\":\"#E5ECF6\",\"subunitcolor\":\"white\",\"showland\":true,\"showlakes\":true,\"lakecolor\":\"white\"},\"title\":{\"x\":0.05},\"mapbox\":{\"style\":\"light\"}}},\"xaxis\":{\"anchor\":\"y\",\"domain\":[0.0,1.0],\"title\":{\"text\":\"tama\\u00f1o de ventana\"}},\"yaxis\":{\"anchor\":\"x\",\"domain\":[0.0,1.0],\"title\":{\"text\":\"frecuencia de cuentas\"}},\"legend\":{\"tracegroupgap\":0},\"margin\":{\"t\":60}},                        {\"responsive\": true}                    ).then(function(){\n",
       "                            \n",
       "var gd = document.getElementById('da63e518-ef76-4aff-80f6-17939f3d5a97');\n",
       "var x = new MutationObserver(function (mutations, observer) {{\n",
       "        var display = window.getComputedStyle(gd).display;\n",
       "        if (!display || display === 'none') {{\n",
       "            console.log([gd, 'removed!']);\n",
       "            Plotly.purge(gd);\n",
       "            observer.disconnect();\n",
       "        }}\n",
       "}});\n",
       "\n",
       "// Listen for the removal of the full notebook cells\n",
       "var notebookContainer = gd.closest('#notebook-container');\n",
       "if (notebookContainer) {{\n",
       "    x.observe(notebookContainer, {childList: true});\n",
       "}}\n",
       "\n",
       "// Listen for the clearing of the current output cell\n",
       "var outputEl = gd.closest('.output');\n",
       "if (outputEl) {{\n",
       "    x.observe(outputEl, {childList: true});\n",
       "}}\n",
       "\n",
       "                        })                };                });            </script>        </div>"
      ]
     },
     "metadata": {},
     "output_type": "display_data"
    }
   ],
   "source": [
    "fig = px.scatter(df,\n",
    "                 x='tamaño de ventana',\n",
    "                 y='frecuencia de cuentas')\n",
    "fig.add_trace(px.line(df,\n",
    "                      x='tamaño de ventana',\n",
    "                      y='frecuencia de cuentas').data[0])\n",
    "fig.show()"
   ]
  },
  {
   "cell_type": "markdown",
   "id": "ab9e7b0a",
   "metadata": {},
   "source": [
    "La gráfica se interpreta como sigue:\n",
    "* El porcentajes de clientes cuya ventana de información es mayor o igual a 1 es del 99.13 %.\n",
    "* El porcentajes de clientes cuya ventana de información es mayor o igual a 10 es del 73.11 %.\n",
    "* El porcentajes de clientes cuya ventana de información es mayor o igual a 12 es del 67.23 %.\n",
    "* El porcentajes de clientes cuya ventana de información es mayor o igual a 18 es del 52.05 %.\n",
    "* El porcentajes de clientes cuya ventana de información es mayor o igual a 20 es del 47.69 %.\n",
    "* El porcentajes de clientes cuya ventana de información es mayor o igual a 30 es del 29.66 %.\n",
    "* El porcentajes de clientes cuya ventana de información es mayor o igual a 60 es del 0.48 %."
   ]
  },
  {
   "cell_type": "markdown",
   "id": "7b428b52",
   "metadata": {},
   "source": [
    "Para este ejercicio, se considera interesente el trabajar con clientes cuyo tamaño de información crediticia no sea muy chica, digamos, como mínimo, tienen que tener 12 meses de información. Siendo así, todos aquellos clientes cuya información crediticia caiga en una ventana menor a 12 meses serán descartados. Aunque hay pérdida de información, aun se trabaja con el 67.23 % de los clientes."
   ]
  },
  {
   "cell_type": "markdown",
   "id": "9680bafb",
   "metadata": {},
   "source": [
    "# 4. ANÁLISIS DE COHORTES"
   ]
  },
  {
   "cell_type": "markdown",
   "id": "336b3dd3",
   "metadata": {},
   "source": [
    "Se definirán los siguientes __buquets__ de mora. Serán de tipo \"acumulativos\"."
   ]
  },
  {
   "cell_type": "code",
   "execution_count": 19,
   "id": "4592adae",
   "metadata": {},
   "outputs": [],
   "source": [
    "bucket_1 = ['1', '2', '3', '4', '5']  # Mora de 30 días o más.\n",
    "bucket_2 = ['2', '3', '4', '5']  # Mora de 60 días o más.\n",
    "bucket_3 = ['3', '4', '5']  # Mora de 90 días o más.\n",
    "bucket_4 = ['4', '5']  # Mora de 120 días o más.\n",
    "bucket_5 = ['5']  # Mora de 150 días o más."
   ]
  },
  {
   "cell_type": "markdown",
   "id": "14d1e795",
   "metadata": {},
   "source": [
    "Se eliminan los clientes que caen en ventanas con tamaños menores a 12. (__FILTRO 1__)"
   ]
  },
  {
   "cell_type": "code",
   "execution_count": 20,
   "id": "cbc36389",
   "metadata": {},
   "outputs": [],
   "source": [
    "n = 12"
   ]
  },
  {
   "cell_type": "markdown",
   "id": "203c990e",
   "metadata": {},
   "source": [
    "Se hace el Análisis de Cohortes para cada bucket."
   ]
  },
  {
   "cell_type": "code",
   "execution_count": 21,
   "id": "a803dac9",
   "metadata": {},
   "outputs": [
    {
     "name": "stdout",
     "output_type": "stream",
     "text": [
      "30 días o más\n",
      "60 días o más\n",
      "90 días o más\n",
      "120 días o más\n",
      "150 días o más\n"
     ]
    }
   ],
   "source": [
    "due_names = ['30 días o más',\n",
    "             '60 días o más',\n",
    "             '90 días o más',\n",
    "             '120 días o más',\n",
    "             '150 días o más']\n",
    "dfs_vintage = []\n",
    "all_buckets = [bucket_1, bucket_2, bucket_3, bucket_4, bucket_5]\n",
    "iterator = iter(due_names)\n",
    "for bucket in all_buckets:\n",
    "    string = next(iterator)\n",
    "    print(string)\n",
    "    df_vintage, _ = get_vintage_analysis(n=n,\n",
    "                                         df_credit_extend=df_credit_extend,\n",
    "                                         chosen_bucket=bucket)\n",
    "    dfs_vintage.append(df_vintage)"
   ]
  },
  {
   "cell_type": "markdown",
   "id": "8a8334d4",
   "metadata": {},
   "source": [
    "# 4.1 Un caso particular: 60 días o más"
   ]
  },
  {
   "cell_type": "markdown",
   "id": "835bcefe",
   "metadata": {},
   "source": [
    "A fin de dar contexto acerca de cómo se interpretan las gŕaficas, se hará un análisis para un período de mora en particular, es decir __60 días o más__. En la subsección siguiente se explicará por qué este rango de mora es el más interesante para tener como riesgo a controlar.\n",
    "\n",
    "Aquí, términos como \"malos clientes\" y \"morosos\" se usarán instistintamente."
   ]
  },
  {
   "cell_type": "code",
   "execution_count": 22,
   "id": "395a937e",
   "metadata": {},
   "outputs": [],
   "source": [
    "df_vintage_2 = dfs_vintage[1]"
   ]
  },
  {
   "cell_type": "code",
   "execution_count": 23,
   "id": "e6dd0da4",
   "metadata": {},
   "outputs": [
    {
     "data": {
      "application/vnd.plotly.v1+json": {
       "config": {
        "plotlyServerURL": "https://plot.ly"
       },
       "data": [
        {
         "hovertemplate": "opening_month=-54<br>month_on_book=%{x}<br>due_rate=%{y}<extra></extra>",
         "legendgroup": "-54",
         "line": {
          "color": "#636efa",
          "dash": "solid"
         },
         "marker": {
          "size": 5,
          "symbol": "circle"
         },
         "mode": "markers+lines",
         "name": "-54",
         "orientation": "v",
         "showlegend": true,
         "type": "scatter",
         "x": [
          0,
          1,
          2,
          3,
          4,
          5,
          6,
          7,
          8,
          9,
          10,
          11,
          12,
          13,
          14,
          15,
          16,
          17,
          18,
          19,
          20,
          21,
          22,
          23,
          24,
          25,
          26,
          27,
          28,
          29,
          30,
          31,
          32,
          33,
          34,
          35,
          36,
          37,
          38,
          39,
          40,
          41,
          42,
          43,
          44,
          45,
          46,
          47,
          48,
          49,
          50,
          51,
          52,
          53,
          54
         ],
         "xaxis": "x",
         "y": [
          0,
          0,
          0,
          0.24,
          0.49,
          0.49,
          0.73,
          1.46,
          1.46,
          1.95,
          2.19,
          2.19,
          2.68,
          3.16,
          3.16,
          3.41,
          3.41,
          3.65,
          3.65,
          3.65,
          3.65,
          3.65,
          3.65,
          3.65,
          3.65,
          3.65,
          3.65,
          3.65,
          3.65,
          3.65,
          3.65,
          3.65,
          3.65,
          3.65,
          3.65,
          3.65,
          3.65,
          3.65,
          3.65,
          3.65,
          3.65,
          3.65,
          3.65,
          3.65,
          3.65,
          3.65,
          3.65,
          3.65,
          3.65,
          3.65,
          3.65,
          3.65,
          3.65,
          3.65,
          3.65
         ],
         "yaxis": "y"
        }
       ],
       "layout": {
        "legend": {
         "title": {
          "text": "opening_month"
         },
         "tracegroupgap": 0
        },
        "margin": {
         "t": 60
        },
        "template": {
         "data": {
          "bar": [
           {
            "error_x": {
             "color": "#2a3f5f"
            },
            "error_y": {
             "color": "#2a3f5f"
            },
            "marker": {
             "line": {
              "color": "#E5ECF6",
              "width": 0.5
             },
             "pattern": {
              "fillmode": "overlay",
              "size": 10,
              "solidity": 0.2
             }
            },
            "type": "bar"
           }
          ],
          "barpolar": [
           {
            "marker": {
             "line": {
              "color": "#E5ECF6",
              "width": 0.5
             },
             "pattern": {
              "fillmode": "overlay",
              "size": 10,
              "solidity": 0.2
             }
            },
            "type": "barpolar"
           }
          ],
          "carpet": [
           {
            "aaxis": {
             "endlinecolor": "#2a3f5f",
             "gridcolor": "white",
             "linecolor": "white",
             "minorgridcolor": "white",
             "startlinecolor": "#2a3f5f"
            },
            "baxis": {
             "endlinecolor": "#2a3f5f",
             "gridcolor": "white",
             "linecolor": "white",
             "minorgridcolor": "white",
             "startlinecolor": "#2a3f5f"
            },
            "type": "carpet"
           }
          ],
          "choropleth": [
           {
            "colorbar": {
             "outlinewidth": 0,
             "ticks": ""
            },
            "type": "choropleth"
           }
          ],
          "contour": [
           {
            "colorbar": {
             "outlinewidth": 0,
             "ticks": ""
            },
            "colorscale": [
             [
              0,
              "#0d0887"
             ],
             [
              0.1111111111111111,
              "#46039f"
             ],
             [
              0.2222222222222222,
              "#7201a8"
             ],
             [
              0.3333333333333333,
              "#9c179e"
             ],
             [
              0.4444444444444444,
              "#bd3786"
             ],
             [
              0.5555555555555556,
              "#d8576b"
             ],
             [
              0.6666666666666666,
              "#ed7953"
             ],
             [
              0.7777777777777778,
              "#fb9f3a"
             ],
             [
              0.8888888888888888,
              "#fdca26"
             ],
             [
              1,
              "#f0f921"
             ]
            ],
            "type": "contour"
           }
          ],
          "contourcarpet": [
           {
            "colorbar": {
             "outlinewidth": 0,
             "ticks": ""
            },
            "type": "contourcarpet"
           }
          ],
          "heatmap": [
           {
            "colorbar": {
             "outlinewidth": 0,
             "ticks": ""
            },
            "colorscale": [
             [
              0,
              "#0d0887"
             ],
             [
              0.1111111111111111,
              "#46039f"
             ],
             [
              0.2222222222222222,
              "#7201a8"
             ],
             [
              0.3333333333333333,
              "#9c179e"
             ],
             [
              0.4444444444444444,
              "#bd3786"
             ],
             [
              0.5555555555555556,
              "#d8576b"
             ],
             [
              0.6666666666666666,
              "#ed7953"
             ],
             [
              0.7777777777777778,
              "#fb9f3a"
             ],
             [
              0.8888888888888888,
              "#fdca26"
             ],
             [
              1,
              "#f0f921"
             ]
            ],
            "type": "heatmap"
           }
          ],
          "heatmapgl": [
           {
            "colorbar": {
             "outlinewidth": 0,
             "ticks": ""
            },
            "colorscale": [
             [
              0,
              "#0d0887"
             ],
             [
              0.1111111111111111,
              "#46039f"
             ],
             [
              0.2222222222222222,
              "#7201a8"
             ],
             [
              0.3333333333333333,
              "#9c179e"
             ],
             [
              0.4444444444444444,
              "#bd3786"
             ],
             [
              0.5555555555555556,
              "#d8576b"
             ],
             [
              0.6666666666666666,
              "#ed7953"
             ],
             [
              0.7777777777777778,
              "#fb9f3a"
             ],
             [
              0.8888888888888888,
              "#fdca26"
             ],
             [
              1,
              "#f0f921"
             ]
            ],
            "type": "heatmapgl"
           }
          ],
          "histogram": [
           {
            "marker": {
             "pattern": {
              "fillmode": "overlay",
              "size": 10,
              "solidity": 0.2
             }
            },
            "type": "histogram"
           }
          ],
          "histogram2d": [
           {
            "colorbar": {
             "outlinewidth": 0,
             "ticks": ""
            },
            "colorscale": [
             [
              0,
              "#0d0887"
             ],
             [
              0.1111111111111111,
              "#46039f"
             ],
             [
              0.2222222222222222,
              "#7201a8"
             ],
             [
              0.3333333333333333,
              "#9c179e"
             ],
             [
              0.4444444444444444,
              "#bd3786"
             ],
             [
              0.5555555555555556,
              "#d8576b"
             ],
             [
              0.6666666666666666,
              "#ed7953"
             ],
             [
              0.7777777777777778,
              "#fb9f3a"
             ],
             [
              0.8888888888888888,
              "#fdca26"
             ],
             [
              1,
              "#f0f921"
             ]
            ],
            "type": "histogram2d"
           }
          ],
          "histogram2dcontour": [
           {
            "colorbar": {
             "outlinewidth": 0,
             "ticks": ""
            },
            "colorscale": [
             [
              0,
              "#0d0887"
             ],
             [
              0.1111111111111111,
              "#46039f"
             ],
             [
              0.2222222222222222,
              "#7201a8"
             ],
             [
              0.3333333333333333,
              "#9c179e"
             ],
             [
              0.4444444444444444,
              "#bd3786"
             ],
             [
              0.5555555555555556,
              "#d8576b"
             ],
             [
              0.6666666666666666,
              "#ed7953"
             ],
             [
              0.7777777777777778,
              "#fb9f3a"
             ],
             [
              0.8888888888888888,
              "#fdca26"
             ],
             [
              1,
              "#f0f921"
             ]
            ],
            "type": "histogram2dcontour"
           }
          ],
          "mesh3d": [
           {
            "colorbar": {
             "outlinewidth": 0,
             "ticks": ""
            },
            "type": "mesh3d"
           }
          ],
          "parcoords": [
           {
            "line": {
             "colorbar": {
              "outlinewidth": 0,
              "ticks": ""
             }
            },
            "type": "parcoords"
           }
          ],
          "pie": [
           {
            "automargin": true,
            "type": "pie"
           }
          ],
          "scatter": [
           {
            "fillpattern": {
             "fillmode": "overlay",
             "size": 10,
             "solidity": 0.2
            },
            "type": "scatter"
           }
          ],
          "scatter3d": [
           {
            "line": {
             "colorbar": {
              "outlinewidth": 0,
              "ticks": ""
             }
            },
            "marker": {
             "colorbar": {
              "outlinewidth": 0,
              "ticks": ""
             }
            },
            "type": "scatter3d"
           }
          ],
          "scattercarpet": [
           {
            "marker": {
             "colorbar": {
              "outlinewidth": 0,
              "ticks": ""
             }
            },
            "type": "scattercarpet"
           }
          ],
          "scattergeo": [
           {
            "marker": {
             "colorbar": {
              "outlinewidth": 0,
              "ticks": ""
             }
            },
            "type": "scattergeo"
           }
          ],
          "scattergl": [
           {
            "marker": {
             "colorbar": {
              "outlinewidth": 0,
              "ticks": ""
             }
            },
            "type": "scattergl"
           }
          ],
          "scattermapbox": [
           {
            "marker": {
             "colorbar": {
              "outlinewidth": 0,
              "ticks": ""
             }
            },
            "type": "scattermapbox"
           }
          ],
          "scatterpolar": [
           {
            "marker": {
             "colorbar": {
              "outlinewidth": 0,
              "ticks": ""
             }
            },
            "type": "scatterpolar"
           }
          ],
          "scatterpolargl": [
           {
            "marker": {
             "colorbar": {
              "outlinewidth": 0,
              "ticks": ""
             }
            },
            "type": "scatterpolargl"
           }
          ],
          "scatterternary": [
           {
            "marker": {
             "colorbar": {
              "outlinewidth": 0,
              "ticks": ""
             }
            },
            "type": "scatterternary"
           }
          ],
          "surface": [
           {
            "colorbar": {
             "outlinewidth": 0,
             "ticks": ""
            },
            "colorscale": [
             [
              0,
              "#0d0887"
             ],
             [
              0.1111111111111111,
              "#46039f"
             ],
             [
              0.2222222222222222,
              "#7201a8"
             ],
             [
              0.3333333333333333,
              "#9c179e"
             ],
             [
              0.4444444444444444,
              "#bd3786"
             ],
             [
              0.5555555555555556,
              "#d8576b"
             ],
             [
              0.6666666666666666,
              "#ed7953"
             ],
             [
              0.7777777777777778,
              "#fb9f3a"
             ],
             [
              0.8888888888888888,
              "#fdca26"
             ],
             [
              1,
              "#f0f921"
             ]
            ],
            "type": "surface"
           }
          ],
          "table": [
           {
            "cells": {
             "fill": {
              "color": "#EBF0F8"
             },
             "line": {
              "color": "white"
             }
            },
            "header": {
             "fill": {
              "color": "#C8D4E3"
             },
             "line": {
              "color": "white"
             }
            },
            "type": "table"
           }
          ]
         },
         "layout": {
          "annotationdefaults": {
           "arrowcolor": "#2a3f5f",
           "arrowhead": 0,
           "arrowwidth": 1
          },
          "autotypenumbers": "strict",
          "coloraxis": {
           "colorbar": {
            "outlinewidth": 0,
            "ticks": ""
           }
          },
          "colorscale": {
           "diverging": [
            [
             0,
             "#8e0152"
            ],
            [
             0.1,
             "#c51b7d"
            ],
            [
             0.2,
             "#de77ae"
            ],
            [
             0.3,
             "#f1b6da"
            ],
            [
             0.4,
             "#fde0ef"
            ],
            [
             0.5,
             "#f7f7f7"
            ],
            [
             0.6,
             "#e6f5d0"
            ],
            [
             0.7,
             "#b8e186"
            ],
            [
             0.8,
             "#7fbc41"
            ],
            [
             0.9,
             "#4d9221"
            ],
            [
             1,
             "#276419"
            ]
           ],
           "sequential": [
            [
             0,
             "#0d0887"
            ],
            [
             0.1111111111111111,
             "#46039f"
            ],
            [
             0.2222222222222222,
             "#7201a8"
            ],
            [
             0.3333333333333333,
             "#9c179e"
            ],
            [
             0.4444444444444444,
             "#bd3786"
            ],
            [
             0.5555555555555556,
             "#d8576b"
            ],
            [
             0.6666666666666666,
             "#ed7953"
            ],
            [
             0.7777777777777778,
             "#fb9f3a"
            ],
            [
             0.8888888888888888,
             "#fdca26"
            ],
            [
             1,
             "#f0f921"
            ]
           ],
           "sequentialminus": [
            [
             0,
             "#0d0887"
            ],
            [
             0.1111111111111111,
             "#46039f"
            ],
            [
             0.2222222222222222,
             "#7201a8"
            ],
            [
             0.3333333333333333,
             "#9c179e"
            ],
            [
             0.4444444444444444,
             "#bd3786"
            ],
            [
             0.5555555555555556,
             "#d8576b"
            ],
            [
             0.6666666666666666,
             "#ed7953"
            ],
            [
             0.7777777777777778,
             "#fb9f3a"
            ],
            [
             0.8888888888888888,
             "#fdca26"
            ],
            [
             1,
             "#f0f921"
            ]
           ]
          },
          "colorway": [
           "#636efa",
           "#EF553B",
           "#00cc96",
           "#ab63fa",
           "#FFA15A",
           "#19d3f3",
           "#FF6692",
           "#B6E880",
           "#FF97FF",
           "#FECB52"
          ],
          "font": {
           "color": "#2a3f5f"
          },
          "geo": {
           "bgcolor": "white",
           "lakecolor": "white",
           "landcolor": "#E5ECF6",
           "showlakes": true,
           "showland": true,
           "subunitcolor": "white"
          },
          "hoverlabel": {
           "align": "left"
          },
          "hovermode": "closest",
          "mapbox": {
           "style": "light"
          },
          "paper_bgcolor": "white",
          "plot_bgcolor": "#E5ECF6",
          "polar": {
           "angularaxis": {
            "gridcolor": "white",
            "linecolor": "white",
            "ticks": ""
           },
           "bgcolor": "#E5ECF6",
           "radialaxis": {
            "gridcolor": "white",
            "linecolor": "white",
            "ticks": ""
           }
          },
          "scene": {
           "xaxis": {
            "backgroundcolor": "#E5ECF6",
            "gridcolor": "white",
            "gridwidth": 2,
            "linecolor": "white",
            "showbackground": true,
            "ticks": "",
            "zerolinecolor": "white"
           },
           "yaxis": {
            "backgroundcolor": "#E5ECF6",
            "gridcolor": "white",
            "gridwidth": 2,
            "linecolor": "white",
            "showbackground": true,
            "ticks": "",
            "zerolinecolor": "white"
           },
           "zaxis": {
            "backgroundcolor": "#E5ECF6",
            "gridcolor": "white",
            "gridwidth": 2,
            "linecolor": "white",
            "showbackground": true,
            "ticks": "",
            "zerolinecolor": "white"
           }
          },
          "shapedefaults": {
           "line": {
            "color": "#2a3f5f"
           }
          },
          "ternary": {
           "aaxis": {
            "gridcolor": "white",
            "linecolor": "white",
            "ticks": ""
           },
           "baxis": {
            "gridcolor": "white",
            "linecolor": "white",
            "ticks": ""
           },
           "bgcolor": "#E5ECF6",
           "caxis": {
            "gridcolor": "white",
            "linecolor": "white",
            "ticks": ""
           }
          },
          "title": {
           "x": 0.05
          },
          "xaxis": {
           "automargin": true,
           "gridcolor": "white",
           "linecolor": "white",
           "ticks": "",
           "title": {
            "standoff": 15
           },
           "zerolinecolor": "white",
           "zerolinewidth": 2
          },
          "yaxis": {
           "automargin": true,
           "gridcolor": "white",
           "linecolor": "white",
           "ticks": "",
           "title": {
            "standoff": 15
           },
           "zerolinecolor": "white",
           "zerolinewidth": 2
          }
         }
        },
        "title": {
         "text": "Porcentaje acumulado de clientes morosos (> 60 días de atraso)"
        },
        "xaxis": {
         "anchor": "y",
         "domain": [
          0,
          1
         ],
         "title": {
          "text": "month_on_book"
         }
        },
        "yaxis": {
         "anchor": "x",
         "domain": [
          0,
          1
         ],
         "title": {
          "text": "due_rate"
         }
        }
       }
      },
      "text/html": [
       "<div>                            <div id=\"fe8a95ed-4c00-48f1-a504-36de3c47f4f4\" class=\"plotly-graph-div\" style=\"height:525px; width:100%;\"></div>            <script type=\"text/javascript\">                require([\"plotly\"], function(Plotly) {                    window.PLOTLYENV=window.PLOTLYENV || {};                                    if (document.getElementById(\"fe8a95ed-4c00-48f1-a504-36de3c47f4f4\")) {                    Plotly.newPlot(                        \"fe8a95ed-4c00-48f1-a504-36de3c47f4f4\",                        [{\"hovertemplate\":\"opening_month=-54<br>month_on_book=%{x}<br>due_rate=%{y}<extra></extra>\",\"legendgroup\":\"-54\",\"line\":{\"color\":\"#636efa\",\"dash\":\"solid\"},\"marker\":{\"symbol\":\"circle\",\"size\":5},\"mode\":\"markers+lines\",\"name\":\"-54\",\"orientation\":\"v\",\"showlegend\":true,\"x\":[0,1,2,3,4,5,6,7,8,9,10,11,12,13,14,15,16,17,18,19,20,21,22,23,24,25,26,27,28,29,30,31,32,33,34,35,36,37,38,39,40,41,42,43,44,45,46,47,48,49,50,51,52,53,54],\"xaxis\":\"x\",\"y\":[0.0,0.0,0.0,0.24,0.49,0.49,0.73,1.46,1.46,1.95,2.19,2.19,2.68,3.16,3.16,3.41,3.41,3.65,3.65,3.65,3.65,3.65,3.65,3.65,3.65,3.65,3.65,3.65,3.65,3.65,3.65,3.65,3.65,3.65,3.65,3.65,3.65,3.65,3.65,3.65,3.65,3.65,3.65,3.65,3.65,3.65,3.65,3.65,3.65,3.65,3.65,3.65,3.65,3.65,3.65],\"yaxis\":\"y\",\"type\":\"scatter\"}],                        {\"template\":{\"data\":{\"histogram2dcontour\":[{\"type\":\"histogram2dcontour\",\"colorbar\":{\"outlinewidth\":0,\"ticks\":\"\"},\"colorscale\":[[0.0,\"#0d0887\"],[0.1111111111111111,\"#46039f\"],[0.2222222222222222,\"#7201a8\"],[0.3333333333333333,\"#9c179e\"],[0.4444444444444444,\"#bd3786\"],[0.5555555555555556,\"#d8576b\"],[0.6666666666666666,\"#ed7953\"],[0.7777777777777778,\"#fb9f3a\"],[0.8888888888888888,\"#fdca26\"],[1.0,\"#f0f921\"]]}],\"choropleth\":[{\"type\":\"choropleth\",\"colorbar\":{\"outlinewidth\":0,\"ticks\":\"\"}}],\"histogram2d\":[{\"type\":\"histogram2d\",\"colorbar\":{\"outlinewidth\":0,\"ticks\":\"\"},\"colorscale\":[[0.0,\"#0d0887\"],[0.1111111111111111,\"#46039f\"],[0.2222222222222222,\"#7201a8\"],[0.3333333333333333,\"#9c179e\"],[0.4444444444444444,\"#bd3786\"],[0.5555555555555556,\"#d8576b\"],[0.6666666666666666,\"#ed7953\"],[0.7777777777777778,\"#fb9f3a\"],[0.8888888888888888,\"#fdca26\"],[1.0,\"#f0f921\"]]}],\"heatmap\":[{\"type\":\"heatmap\",\"colorbar\":{\"outlinewidth\":0,\"ticks\":\"\"},\"colorscale\":[[0.0,\"#0d0887\"],[0.1111111111111111,\"#46039f\"],[0.2222222222222222,\"#7201a8\"],[0.3333333333333333,\"#9c179e\"],[0.4444444444444444,\"#bd3786\"],[0.5555555555555556,\"#d8576b\"],[0.6666666666666666,\"#ed7953\"],[0.7777777777777778,\"#fb9f3a\"],[0.8888888888888888,\"#fdca26\"],[1.0,\"#f0f921\"]]}],\"heatmapgl\":[{\"type\":\"heatmapgl\",\"colorbar\":{\"outlinewidth\":0,\"ticks\":\"\"},\"colorscale\":[[0.0,\"#0d0887\"],[0.1111111111111111,\"#46039f\"],[0.2222222222222222,\"#7201a8\"],[0.3333333333333333,\"#9c179e\"],[0.4444444444444444,\"#bd3786\"],[0.5555555555555556,\"#d8576b\"],[0.6666666666666666,\"#ed7953\"],[0.7777777777777778,\"#fb9f3a\"],[0.8888888888888888,\"#fdca26\"],[1.0,\"#f0f921\"]]}],\"contourcarpet\":[{\"type\":\"contourcarpet\",\"colorbar\":{\"outlinewidth\":0,\"ticks\":\"\"}}],\"contour\":[{\"type\":\"contour\",\"colorbar\":{\"outlinewidth\":0,\"ticks\":\"\"},\"colorscale\":[[0.0,\"#0d0887\"],[0.1111111111111111,\"#46039f\"],[0.2222222222222222,\"#7201a8\"],[0.3333333333333333,\"#9c179e\"],[0.4444444444444444,\"#bd3786\"],[0.5555555555555556,\"#d8576b\"],[0.6666666666666666,\"#ed7953\"],[0.7777777777777778,\"#fb9f3a\"],[0.8888888888888888,\"#fdca26\"],[1.0,\"#f0f921\"]]}],\"surface\":[{\"type\":\"surface\",\"colorbar\":{\"outlinewidth\":0,\"ticks\":\"\"},\"colorscale\":[[0.0,\"#0d0887\"],[0.1111111111111111,\"#46039f\"],[0.2222222222222222,\"#7201a8\"],[0.3333333333333333,\"#9c179e\"],[0.4444444444444444,\"#bd3786\"],[0.5555555555555556,\"#d8576b\"],[0.6666666666666666,\"#ed7953\"],[0.7777777777777778,\"#fb9f3a\"],[0.8888888888888888,\"#fdca26\"],[1.0,\"#f0f921\"]]}],\"mesh3d\":[{\"type\":\"mesh3d\",\"colorbar\":{\"outlinewidth\":0,\"ticks\":\"\"}}],\"scatter\":[{\"fillpattern\":{\"fillmode\":\"overlay\",\"size\":10,\"solidity\":0.2},\"type\":\"scatter\"}],\"parcoords\":[{\"type\":\"parcoords\",\"line\":{\"colorbar\":{\"outlinewidth\":0,\"ticks\":\"\"}}}],\"scatterpolargl\":[{\"type\":\"scatterpolargl\",\"marker\":{\"colorbar\":{\"outlinewidth\":0,\"ticks\":\"\"}}}],\"bar\":[{\"error_x\":{\"color\":\"#2a3f5f\"},\"error_y\":{\"color\":\"#2a3f5f\"},\"marker\":{\"line\":{\"color\":\"#E5ECF6\",\"width\":0.5},\"pattern\":{\"fillmode\":\"overlay\",\"size\":10,\"solidity\":0.2}},\"type\":\"bar\"}],\"scattergeo\":[{\"type\":\"scattergeo\",\"marker\":{\"colorbar\":{\"outlinewidth\":0,\"ticks\":\"\"}}}],\"scatterpolar\":[{\"type\":\"scatterpolar\",\"marker\":{\"colorbar\":{\"outlinewidth\":0,\"ticks\":\"\"}}}],\"histogram\":[{\"marker\":{\"pattern\":{\"fillmode\":\"overlay\",\"size\":10,\"solidity\":0.2}},\"type\":\"histogram\"}],\"scattergl\":[{\"type\":\"scattergl\",\"marker\":{\"colorbar\":{\"outlinewidth\":0,\"ticks\":\"\"}}}],\"scatter3d\":[{\"type\":\"scatter3d\",\"line\":{\"colorbar\":{\"outlinewidth\":0,\"ticks\":\"\"}},\"marker\":{\"colorbar\":{\"outlinewidth\":0,\"ticks\":\"\"}}}],\"scattermapbox\":[{\"type\":\"scattermapbox\",\"marker\":{\"colorbar\":{\"outlinewidth\":0,\"ticks\":\"\"}}}],\"scatterternary\":[{\"type\":\"scatterternary\",\"marker\":{\"colorbar\":{\"outlinewidth\":0,\"ticks\":\"\"}}}],\"scattercarpet\":[{\"type\":\"scattercarpet\",\"marker\":{\"colorbar\":{\"outlinewidth\":0,\"ticks\":\"\"}}}],\"carpet\":[{\"aaxis\":{\"endlinecolor\":\"#2a3f5f\",\"gridcolor\":\"white\",\"linecolor\":\"white\",\"minorgridcolor\":\"white\",\"startlinecolor\":\"#2a3f5f\"},\"baxis\":{\"endlinecolor\":\"#2a3f5f\",\"gridcolor\":\"white\",\"linecolor\":\"white\",\"minorgridcolor\":\"white\",\"startlinecolor\":\"#2a3f5f\"},\"type\":\"carpet\"}],\"table\":[{\"cells\":{\"fill\":{\"color\":\"#EBF0F8\"},\"line\":{\"color\":\"white\"}},\"header\":{\"fill\":{\"color\":\"#C8D4E3\"},\"line\":{\"color\":\"white\"}},\"type\":\"table\"}],\"barpolar\":[{\"marker\":{\"line\":{\"color\":\"#E5ECF6\",\"width\":0.5},\"pattern\":{\"fillmode\":\"overlay\",\"size\":10,\"solidity\":0.2}},\"type\":\"barpolar\"}],\"pie\":[{\"automargin\":true,\"type\":\"pie\"}]},\"layout\":{\"autotypenumbers\":\"strict\",\"colorway\":[\"#636efa\",\"#EF553B\",\"#00cc96\",\"#ab63fa\",\"#FFA15A\",\"#19d3f3\",\"#FF6692\",\"#B6E880\",\"#FF97FF\",\"#FECB52\"],\"font\":{\"color\":\"#2a3f5f\"},\"hovermode\":\"closest\",\"hoverlabel\":{\"align\":\"left\"},\"paper_bgcolor\":\"white\",\"plot_bgcolor\":\"#E5ECF6\",\"polar\":{\"bgcolor\":\"#E5ECF6\",\"angularaxis\":{\"gridcolor\":\"white\",\"linecolor\":\"white\",\"ticks\":\"\"},\"radialaxis\":{\"gridcolor\":\"white\",\"linecolor\":\"white\",\"ticks\":\"\"}},\"ternary\":{\"bgcolor\":\"#E5ECF6\",\"aaxis\":{\"gridcolor\":\"white\",\"linecolor\":\"white\",\"ticks\":\"\"},\"baxis\":{\"gridcolor\":\"white\",\"linecolor\":\"white\",\"ticks\":\"\"},\"caxis\":{\"gridcolor\":\"white\",\"linecolor\":\"white\",\"ticks\":\"\"}},\"coloraxis\":{\"colorbar\":{\"outlinewidth\":0,\"ticks\":\"\"}},\"colorscale\":{\"sequential\":[[0.0,\"#0d0887\"],[0.1111111111111111,\"#46039f\"],[0.2222222222222222,\"#7201a8\"],[0.3333333333333333,\"#9c179e\"],[0.4444444444444444,\"#bd3786\"],[0.5555555555555556,\"#d8576b\"],[0.6666666666666666,\"#ed7953\"],[0.7777777777777778,\"#fb9f3a\"],[0.8888888888888888,\"#fdca26\"],[1.0,\"#f0f921\"]],\"sequentialminus\":[[0.0,\"#0d0887\"],[0.1111111111111111,\"#46039f\"],[0.2222222222222222,\"#7201a8\"],[0.3333333333333333,\"#9c179e\"],[0.4444444444444444,\"#bd3786\"],[0.5555555555555556,\"#d8576b\"],[0.6666666666666666,\"#ed7953\"],[0.7777777777777778,\"#fb9f3a\"],[0.8888888888888888,\"#fdca26\"],[1.0,\"#f0f921\"]],\"diverging\":[[0,\"#8e0152\"],[0.1,\"#c51b7d\"],[0.2,\"#de77ae\"],[0.3,\"#f1b6da\"],[0.4,\"#fde0ef\"],[0.5,\"#f7f7f7\"],[0.6,\"#e6f5d0\"],[0.7,\"#b8e186\"],[0.8,\"#7fbc41\"],[0.9,\"#4d9221\"],[1,\"#276419\"]]},\"xaxis\":{\"gridcolor\":\"white\",\"linecolor\":\"white\",\"ticks\":\"\",\"title\":{\"standoff\":15},\"zerolinecolor\":\"white\",\"automargin\":true,\"zerolinewidth\":2},\"yaxis\":{\"gridcolor\":\"white\",\"linecolor\":\"white\",\"ticks\":\"\",\"title\":{\"standoff\":15},\"zerolinecolor\":\"white\",\"automargin\":true,\"zerolinewidth\":2},\"scene\":{\"xaxis\":{\"backgroundcolor\":\"#E5ECF6\",\"gridcolor\":\"white\",\"linecolor\":\"white\",\"showbackground\":true,\"ticks\":\"\",\"zerolinecolor\":\"white\",\"gridwidth\":2},\"yaxis\":{\"backgroundcolor\":\"#E5ECF6\",\"gridcolor\":\"white\",\"linecolor\":\"white\",\"showbackground\":true,\"ticks\":\"\",\"zerolinecolor\":\"white\",\"gridwidth\":2},\"zaxis\":{\"backgroundcolor\":\"#E5ECF6\",\"gridcolor\":\"white\",\"linecolor\":\"white\",\"showbackground\":true,\"ticks\":\"\",\"zerolinecolor\":\"white\",\"gridwidth\":2}},\"shapedefaults\":{\"line\":{\"color\":\"#2a3f5f\"}},\"annotationdefaults\":{\"arrowcolor\":\"#2a3f5f\",\"arrowhead\":0,\"arrowwidth\":1},\"geo\":{\"bgcolor\":\"white\",\"landcolor\":\"#E5ECF6\",\"subunitcolor\":\"white\",\"showland\":true,\"showlakes\":true,\"lakecolor\":\"white\"},\"title\":{\"x\":0.05},\"mapbox\":{\"style\":\"light\"}}},\"xaxis\":{\"anchor\":\"y\",\"domain\":[0.0,1.0],\"title\":{\"text\":\"month_on_book\"}},\"yaxis\":{\"anchor\":\"x\",\"domain\":[0.0,1.0],\"title\":{\"text\":\"due_rate\"}},\"legend\":{\"title\":{\"text\":\"opening_month\"},\"tracegroupgap\":0},\"margin\":{\"t\":60},\"title\":{\"text\":\"Porcentaje acumulado de clientes morosos (> 60 d\\u00edas de atraso)\"}},                        {\"responsive\": true}                    ).then(function(){\n",
       "                            \n",
       "var gd = document.getElementById('fe8a95ed-4c00-48f1-a504-36de3c47f4f4');\n",
       "var x = new MutationObserver(function (mutations, observer) {{\n",
       "        var display = window.getComputedStyle(gd).display;\n",
       "        if (!display || display === 'none') {{\n",
       "            console.log([gd, 'removed!']);\n",
       "            Plotly.purge(gd);\n",
       "            observer.disconnect();\n",
       "        }}\n",
       "}});\n",
       "\n",
       "// Listen for the removal of the full notebook cells\n",
       "var notebookContainer = gd.closest('#notebook-container');\n",
       "if (notebookContainer) {{\n",
       "    x.observe(notebookContainer, {childList: true});\n",
       "}}\n",
       "\n",
       "// Listen for the clearing of the current output cell\n",
       "var outputEl = gd.closest('.output');\n",
       "if (outputEl) {{\n",
       "    x.observe(outputEl, {childList: true});\n",
       "}}\n",
       "\n",
       "                        })                };                });            </script>        </div>"
      ]
     },
     "metadata": {},
     "output_type": "display_data"
    }
   ],
   "source": [
    "example =  get_vintage_analysis_by_interval(df_vintage=df_vintage_2,\n",
    "                                      time_interval=None,\n",
    "                                      cohorts_list=[-54])\n",
    "get_cohort_graph(example, bucket_2)"
   ]
  },
  {
   "cell_type": "markdown",
   "id": "7aa943b8",
   "metadata": {},
   "source": [
    "Se da contexto a un cohorte arbirtrario, digamos el de -54. Se tiene lo siguiente:\n",
    "* En él están todos los clientes cuya cuenta se aperturó en el mes -54, es decir, hace 54 meses atrás después       de la extracción de la información. En este caso `opening_month=-54`.\n",
    "* 10 meses depués de aperturada la cuenta (`month_on_book=10`), ya se tenía un porcentaje acumulado de 2.19 % morosos, es decir, clientes que tenían un atraso de 60 días o más.\n",
    "* Después de 17 meses de apeturada la cuenta, se tiene un porcentaje acumulado de morosos de 3.65 %.\n",
    "* La aparición de clientes morosos se da en los primeros 17 meses de haber aperturado la cuenta.\n",
    "* No se detectan más morosos después del mes 17, se podría decir que la \"curva se estabiliza\"."
   ]
  },
  {
   "cell_type": "markdown",
   "id": "5fd44f37",
   "metadata": {},
   "source": [
    "Ahora, se dará un vistazo a todos los cohortes."
   ]
  },
  {
   "cell_type": "code",
   "execution_count": 24,
   "id": "d0a72051",
   "metadata": {},
   "outputs": [
    {
     "data": {
      "application/vnd.plotly.v1+json": {
       "config": {
        "plotlyServerURL": "https://plot.ly"
       },
       "data": [
        {
         "hovertemplate": "opening_month=-60<br>month_on_book=%{x}<br>due_rate=%{y}<extra></extra>",
         "legendgroup": "-60",
         "line": {
          "color": "#636efa",
          "dash": "solid"
         },
         "marker": {
          "size": 5,
          "symbol": "circle"
         },
         "mode": "markers+lines",
         "name": "-60",
         "showlegend": true,
         "type": "scattergl",
         "x": [
          0,
          1,
          2,
          3,
          4,
          5,
          6,
          7,
          8,
          9,
          10,
          11,
          12,
          13,
          14,
          15,
          16,
          17,
          18,
          19,
          20,
          21,
          22,
          23,
          24,
          25,
          26,
          27,
          28,
          29,
          30,
          31,
          32,
          33,
          34,
          35,
          36,
          37,
          38,
          39,
          40,
          41,
          42,
          43,
          44,
          45,
          46,
          47,
          48,
          49,
          50,
          51,
          52,
          53,
          54,
          55,
          56,
          57,
          58,
          59,
          60
         ],
         "xaxis": "x",
         "y": [
          0,
          0,
          0,
          0,
          0,
          0.27,
          0.27,
          0.81,
          0.81,
          1.08,
          1.08,
          1.35,
          1.62,
          1.89,
          1.89,
          1.89,
          1.89,
          1.89,
          1.89,
          1.89,
          1.89,
          2.16,
          2.16,
          2.16,
          2.16,
          2.43,
          2.43,
          2.43,
          2.43,
          2.7,
          2.97,
          2.97,
          2.97,
          2.97,
          2.97,
          2.97,
          2.97,
          2.97,
          2.97,
          2.97,
          2.97,
          2.97,
          2.97,
          2.97,
          2.97,
          2.97,
          2.97,
          2.97,
          2.97,
          2.97,
          3.24,
          3.24,
          3.24,
          3.24,
          3.24,
          3.24,
          3.24,
          3.24,
          3.51,
          3.51,
          3.51
         ],
         "yaxis": "y"
        },
        {
         "hovertemplate": "opening_month=-59<br>month_on_book=%{x}<br>due_rate=%{y}<extra></extra>",
         "legendgroup": "-59",
         "line": {
          "color": "#EF553B",
          "dash": "solid"
         },
         "marker": {
          "size": 5,
          "symbol": "circle"
         },
         "mode": "markers+lines",
         "name": "-59",
         "showlegend": true,
         "type": "scattergl",
         "x": [
          0,
          1,
          2,
          3,
          4,
          5,
          6,
          7,
          8,
          9,
          10,
          11,
          12,
          13,
          14,
          15,
          16,
          17,
          18,
          19,
          20,
          21,
          22,
          23,
          24,
          25,
          26,
          27,
          28,
          29,
          30,
          31,
          32,
          33,
          34,
          35,
          36,
          37,
          38,
          39,
          40,
          41,
          42,
          43,
          44,
          45,
          46,
          47,
          48,
          49,
          50,
          51,
          52,
          53,
          54,
          55,
          56,
          57,
          58,
          59
         ],
         "xaxis": "x",
         "y": [
          0,
          0,
          0,
          0.54,
          0.54,
          0.54,
          0.81,
          0.81,
          0.81,
          1.36,
          1.36,
          2.17,
          2.17,
          2.17,
          2.17,
          2.17,
          2.17,
          2.17,
          2.44,
          2.71,
          2.71,
          2.98,
          2.98,
          2.98,
          2.98,
          3.25,
          3.25,
          3.25,
          3.25,
          3.25,
          3.25,
          3.25,
          3.25,
          3.25,
          3.25,
          3.25,
          3.25,
          3.25,
          3.25,
          3.25,
          3.25,
          3.25,
          3.25,
          3.25,
          3.25,
          3.25,
          3.25,
          3.25,
          3.25,
          3.25,
          3.25,
          3.25,
          3.25,
          3.25,
          3.52,
          3.52,
          3.52,
          3.52,
          3.52,
          3.52
         ],
         "yaxis": "y"
        },
        {
         "hovertemplate": "opening_month=-58<br>month_on_book=%{x}<br>due_rate=%{y}<extra></extra>",
         "legendgroup": "-58",
         "line": {
          "color": "#00cc96",
          "dash": "solid"
         },
         "marker": {
          "size": 5,
          "symbol": "circle"
         },
         "mode": "markers+lines",
         "name": "-58",
         "showlegend": true,
         "type": "scattergl",
         "x": [
          0,
          1,
          2,
          3,
          4,
          5,
          6,
          7,
          8,
          9,
          10,
          11,
          12,
          13,
          14,
          15,
          16,
          17,
          18,
          19,
          20,
          21,
          22,
          23,
          24,
          25,
          26,
          27,
          28,
          29,
          30,
          31,
          32,
          33,
          34,
          35,
          36,
          37,
          38,
          39,
          40,
          41,
          42,
          43,
          44,
          45,
          46,
          47,
          48,
          49,
          50,
          51,
          52,
          53,
          54,
          55,
          56,
          57,
          58
         ],
         "xaxis": "x",
         "y": [
          0,
          0,
          0,
          0,
          0,
          0,
          0,
          0.52,
          0.78,
          0.78,
          1.29,
          1.55,
          1.55,
          1.55,
          1.55,
          1.55,
          1.55,
          1.81,
          2.07,
          2.07,
          2.07,
          2.58,
          2.58,
          2.58,
          2.58,
          2.58,
          2.58,
          2.58,
          2.58,
          2.58,
          2.58,
          2.58,
          2.58,
          2.58,
          2.84,
          2.84,
          2.84,
          2.84,
          2.84,
          2.84,
          2.84,
          2.84,
          2.84,
          2.84,
          2.84,
          2.84,
          2.84,
          2.84,
          2.84,
          2.84,
          2.84,
          2.84,
          2.84,
          2.84,
          2.84,
          2.84,
          2.84,
          2.84,
          2.84
         ],
         "yaxis": "y"
        },
        {
         "hovertemplate": "opening_month=-57<br>month_on_book=%{x}<br>due_rate=%{y}<extra></extra>",
         "legendgroup": "-57",
         "line": {
          "color": "#ab63fa",
          "dash": "solid"
         },
         "marker": {
          "size": 5,
          "symbol": "circle"
         },
         "mode": "markers+lines",
         "name": "-57",
         "showlegend": true,
         "type": "scattergl",
         "x": [
          0,
          1,
          2,
          3,
          4,
          5,
          6,
          7,
          8,
          9,
          10,
          11,
          12,
          13,
          14,
          15,
          16,
          17,
          18,
          19,
          20,
          21,
          22,
          23,
          24,
          25,
          26,
          27,
          28,
          29,
          30,
          31,
          32,
          33,
          34,
          35,
          36,
          37,
          38,
          39,
          40,
          41,
          42,
          43,
          44,
          45,
          46,
          47,
          48,
          49,
          50,
          51,
          52,
          53,
          54,
          55,
          56,
          57
         ],
         "xaxis": "x",
         "y": [
          0,
          0,
          0,
          0,
          0.29,
          0.29,
          0.29,
          0.86,
          0.86,
          0.86,
          0.86,
          0.86,
          1.15,
          2.01,
          2.01,
          2.01,
          2.01,
          2.01,
          2.01,
          2.01,
          2.01,
          2.01,
          2.01,
          2.01,
          2.3,
          2.3,
          2.3,
          2.3,
          2.3,
          2.3,
          2.3,
          2.3,
          2.3,
          2.3,
          2.3,
          2.59,
          2.59,
          2.59,
          2.59,
          2.59,
          2.59,
          2.87,
          2.87,
          2.87,
          2.87,
          2.87,
          2.87,
          2.87,
          2.87,
          2.87,
          2.87,
          2.87,
          2.87,
          2.87,
          2.87,
          2.87,
          2.87,
          2.87
         ],
         "yaxis": "y"
        },
        {
         "hovertemplate": "opening_month=-56<br>month_on_book=%{x}<br>due_rate=%{y}<extra></extra>",
         "legendgroup": "-56",
         "line": {
          "color": "#FFA15A",
          "dash": "solid"
         },
         "marker": {
          "size": 5,
          "symbol": "circle"
         },
         "mode": "markers+lines",
         "name": "-56",
         "showlegend": true,
         "type": "scattergl",
         "x": [
          0,
          1,
          2,
          3,
          4,
          5,
          6,
          7,
          8,
          9,
          10,
          11,
          12,
          13,
          14,
          15,
          16,
          17,
          18,
          19,
          20,
          21,
          22,
          23,
          24,
          25,
          26,
          27,
          28,
          29,
          30,
          31,
          32,
          33,
          34,
          35,
          36,
          37,
          38,
          39,
          40,
          41,
          42,
          43,
          44,
          45,
          46,
          47,
          48,
          49,
          50,
          51,
          52,
          53,
          54,
          55,
          56
         ],
         "xaxis": "x",
         "y": [
          0,
          0,
          0.47,
          0.47,
          0.93,
          1.17,
          1.17,
          1.87,
          1.87,
          2.34,
          2.34,
          2.8,
          3.27,
          3.74,
          3.74,
          3.74,
          3.74,
          3.74,
          3.74,
          3.74,
          3.74,
          3.74,
          3.74,
          3.74,
          3.74,
          3.74,
          3.74,
          3.74,
          3.74,
          3.74,
          3.74,
          3.74,
          3.74,
          3.74,
          3.74,
          3.74,
          3.74,
          3.74,
          3.74,
          3.74,
          3.74,
          3.74,
          3.74,
          3.74,
          3.74,
          3.74,
          3.74,
          3.74,
          3.74,
          3.74,
          3.74,
          3.97,
          3.97,
          3.97,
          3.97,
          4.21,
          4.21
         ],
         "yaxis": "y"
        },
        {
         "hovertemplate": "opening_month=-55<br>month_on_book=%{x}<br>due_rate=%{y}<extra></extra>",
         "legendgroup": "-55",
         "line": {
          "color": "#19d3f3",
          "dash": "solid"
         },
         "marker": {
          "size": 5,
          "symbol": "circle"
         },
         "mode": "markers+lines",
         "name": "-55",
         "showlegend": true,
         "type": "scattergl",
         "x": [
          0,
          1,
          2,
          3,
          4,
          5,
          6,
          7,
          8,
          9,
          10,
          11,
          12,
          13,
          14,
          15,
          16,
          17,
          18,
          19,
          20,
          21,
          22,
          23,
          24,
          25,
          26,
          27,
          28,
          29,
          30,
          31,
          32,
          33,
          34,
          35,
          36,
          37,
          38,
          39,
          40,
          41,
          42,
          43,
          44,
          45,
          46,
          47,
          48,
          49,
          50,
          51,
          52,
          53,
          54,
          55
         ],
         "xaxis": "x",
         "y": [
          0,
          0,
          0.45,
          0.91,
          1.59,
          2.04,
          2.72,
          2.72,
          2.72,
          2.95,
          2.95,
          2.95,
          3.17,
          3.85,
          4.08,
          4.31,
          4.54,
          4.54,
          4.54,
          4.54,
          4.54,
          4.54,
          4.54,
          4.54,
          4.54,
          4.54,
          4.76,
          4.76,
          4.76,
          4.76,
          4.76,
          4.76,
          4.76,
          4.99,
          4.99,
          4.99,
          4.99,
          4.99,
          4.99,
          5.22,
          5.22,
          5.22,
          5.22,
          5.22,
          5.22,
          5.22,
          5.22,
          5.22,
          5.22,
          5.22,
          5.22,
          5.22,
          5.22,
          5.22,
          5.22,
          5.22
         ],
         "yaxis": "y"
        },
        {
         "hovertemplate": "opening_month=-54<br>month_on_book=%{x}<br>due_rate=%{y}<extra></extra>",
         "legendgroup": "-54",
         "line": {
          "color": "#FF6692",
          "dash": "solid"
         },
         "marker": {
          "size": 5,
          "symbol": "circle"
         },
         "mode": "markers+lines",
         "name": "-54",
         "showlegend": true,
         "type": "scattergl",
         "x": [
          0,
          1,
          2,
          3,
          4,
          5,
          6,
          7,
          8,
          9,
          10,
          11,
          12,
          13,
          14,
          15,
          16,
          17,
          18,
          19,
          20,
          21,
          22,
          23,
          24,
          25,
          26,
          27,
          28,
          29,
          30,
          31,
          32,
          33,
          34,
          35,
          36,
          37,
          38,
          39,
          40,
          41,
          42,
          43,
          44,
          45,
          46,
          47,
          48,
          49,
          50,
          51,
          52,
          53,
          54
         ],
         "xaxis": "x",
         "y": [
          0,
          0,
          0,
          0.24,
          0.49,
          0.49,
          0.73,
          1.46,
          1.46,
          1.95,
          2.19,
          2.19,
          2.68,
          3.16,
          3.16,
          3.41,
          3.41,
          3.65,
          3.65,
          3.65,
          3.65,
          3.65,
          3.65,
          3.65,
          3.65,
          3.65,
          3.65,
          3.65,
          3.65,
          3.65,
          3.65,
          3.65,
          3.65,
          3.65,
          3.65,
          3.65,
          3.65,
          3.65,
          3.65,
          3.65,
          3.65,
          3.65,
          3.65,
          3.65,
          3.65,
          3.65,
          3.65,
          3.65,
          3.65,
          3.65,
          3.65,
          3.65,
          3.65,
          3.65,
          3.65
         ],
         "yaxis": "y"
        },
        {
         "hovertemplate": "opening_month=-53<br>month_on_book=%{x}<br>due_rate=%{y}<extra></extra>",
         "legendgroup": "-53",
         "line": {
          "color": "#B6E880",
          "dash": "solid"
         },
         "marker": {
          "size": 5,
          "symbol": "circle"
         },
         "mode": "markers+lines",
         "name": "-53",
         "showlegend": true,
         "type": "scattergl",
         "x": [
          0,
          1,
          2,
          3,
          4,
          5,
          6,
          7,
          8,
          9,
          10,
          11,
          12,
          13,
          14,
          15,
          16,
          17,
          18,
          19,
          20,
          21,
          22,
          23,
          24,
          25,
          26,
          27,
          28,
          29,
          30,
          31,
          32,
          33,
          34,
          35,
          36,
          37,
          38,
          39,
          40,
          41,
          42,
          43,
          44,
          45,
          46,
          47,
          48,
          49,
          50,
          51,
          52,
          53
         ],
         "xaxis": "x",
         "y": [
          0,
          0.46,
          0.46,
          0.46,
          0.68,
          0.68,
          1.14,
          1.37,
          1.37,
          1.59,
          1.82,
          1.82,
          1.82,
          1.82,
          1.82,
          1.82,
          1.82,
          1.82,
          2.05,
          2.05,
          2.05,
          2.05,
          2.05,
          2.05,
          2.05,
          2.05,
          2.51,
          2.51,
          2.51,
          2.51,
          2.51,
          2.51,
          2.51,
          2.51,
          2.96,
          2.96,
          2.96,
          2.96,
          2.96,
          2.96,
          2.96,
          2.96,
          2.96,
          2.96,
          2.96,
          2.96,
          2.96,
          3.19,
          3.42,
          3.42,
          3.42,
          3.42,
          3.42,
          3.42
         ],
         "yaxis": "y"
        },
        {
         "hovertemplate": "opening_month=-52<br>month_on_book=%{x}<br>due_rate=%{y}<extra></extra>",
         "legendgroup": "-52",
         "line": {
          "color": "#FF97FF",
          "dash": "solid"
         },
         "marker": {
          "size": 5,
          "symbol": "circle"
         },
         "mode": "markers+lines",
         "name": "-52",
         "showlegend": true,
         "type": "scattergl",
         "x": [
          0,
          1,
          2,
          3,
          4,
          5,
          6,
          7,
          8,
          9,
          10,
          11,
          12,
          13,
          14,
          15,
          16,
          17,
          18,
          19,
          20,
          21,
          22,
          23,
          24,
          25,
          26,
          27,
          28,
          29,
          30,
          31,
          32,
          33,
          34,
          35,
          36,
          37,
          38,
          39,
          40,
          41,
          42,
          43,
          44,
          45,
          46,
          47,
          48,
          49,
          50,
          51,
          52
         ],
         "xaxis": "x",
         "y": [
          0,
          0,
          0.83,
          1.03,
          1.03,
          1.03,
          1.45,
          1.45,
          1.65,
          1.86,
          1.86,
          1.86,
          2.07,
          2.07,
          2.07,
          2.27,
          2.27,
          2.48,
          2.48,
          2.48,
          2.48,
          2.48,
          2.48,
          2.48,
          2.48,
          2.48,
          2.48,
          2.48,
          2.48,
          2.48,
          2.48,
          2.48,
          2.48,
          2.48,
          2.48,
          2.48,
          2.48,
          2.69,
          2.69,
          2.69,
          2.69,
          2.69,
          2.69,
          2.69,
          2.69,
          2.69,
          2.69,
          2.69,
          2.69,
          2.69,
          2.69,
          2.69,
          2.69
         ],
         "yaxis": "y"
        },
        {
         "hovertemplate": "opening_month=-51<br>month_on_book=%{x}<br>due_rate=%{y}<extra></extra>",
         "legendgroup": "-51",
         "line": {
          "color": "#FECB52",
          "dash": "solid"
         },
         "marker": {
          "size": 5,
          "symbol": "circle"
         },
         "mode": "markers+lines",
         "name": "-51",
         "showlegend": true,
         "type": "scattergl",
         "x": [
          0,
          1,
          2,
          3,
          4,
          5,
          6,
          7,
          8,
          9,
          10,
          11,
          12,
          13,
          14,
          15,
          16,
          17,
          18,
          19,
          20,
          21,
          22,
          23,
          24,
          25,
          26,
          27,
          28,
          29,
          30,
          31,
          32,
          33,
          34,
          35,
          36,
          37,
          38,
          39,
          40,
          41,
          42,
          43,
          44,
          45,
          46,
          47,
          48,
          49,
          50,
          51
         ],
         "xaxis": "x",
         "y": [
          0,
          0.19,
          0.19,
          0.39,
          0.39,
          0.97,
          1.17,
          1.56,
          1.56,
          1.75,
          1.75,
          2.14,
          2.14,
          2.14,
          2.14,
          2.14,
          2.14,
          2.14,
          2.14,
          2.14,
          2.14,
          2.14,
          2.14,
          2.14,
          2.14,
          2.14,
          2.14,
          2.14,
          2.14,
          2.14,
          2.34,
          2.34,
          2.34,
          2.34,
          2.34,
          2.34,
          2.34,
          2.34,
          2.34,
          2.34,
          2.34,
          2.34,
          2.34,
          2.34,
          2.34,
          2.34,
          2.34,
          2.34,
          2.34,
          2.34,
          2.34,
          2.34
         ],
         "yaxis": "y"
        },
        {
         "hovertemplate": "opening_month=-50<br>month_on_book=%{x}<br>due_rate=%{y}<extra></extra>",
         "legendgroup": "-50",
         "line": {
          "color": "#636efa",
          "dash": "solid"
         },
         "marker": {
          "size": 5,
          "symbol": "circle"
         },
         "mode": "markers+lines",
         "name": "-50",
         "showlegend": true,
         "type": "scattergl",
         "x": [
          0,
          1,
          2,
          3,
          4,
          5,
          6,
          7,
          8,
          9,
          10,
          11,
          12,
          13,
          14,
          15,
          16,
          17,
          18,
          19,
          20,
          21,
          22,
          23,
          24,
          25,
          26,
          27,
          28,
          29,
          30,
          31,
          32,
          33,
          34,
          35,
          36,
          37,
          38,
          39,
          40,
          41,
          42,
          43,
          44,
          45,
          46,
          47,
          48,
          49,
          50
         ],
         "xaxis": "x",
         "y": [
          0,
          0,
          0.2,
          0.41,
          0.82,
          0.82,
          0.82,
          0.82,
          0.82,
          1.02,
          1.02,
          1.02,
          1.02,
          1.02,
          1.02,
          1.23,
          1.23,
          1.23,
          1.23,
          1.23,
          1.23,
          1.23,
          1.23,
          1.23,
          1.23,
          1.43,
          1.43,
          1.43,
          1.43,
          1.43,
          1.43,
          1.43,
          1.43,
          1.43,
          1.84,
          1.84,
          1.84,
          1.84,
          1.84,
          1.84,
          1.84,
          1.84,
          1.84,
          1.84,
          1.84,
          1.84,
          1.84,
          1.84,
          1.84,
          1.84,
          1.84
         ],
         "yaxis": "y"
        },
        {
         "hovertemplate": "opening_month=-49<br>month_on_book=%{x}<br>due_rate=%{y}<extra></extra>",
         "legendgroup": "-49",
         "line": {
          "color": "#EF553B",
          "dash": "solid"
         },
         "marker": {
          "size": 5,
          "symbol": "circle"
         },
         "mode": "markers+lines",
         "name": "-49",
         "showlegend": true,
         "type": "scattergl",
         "x": [
          0,
          1,
          2,
          3,
          4,
          5,
          6,
          7,
          8,
          9,
          10,
          11,
          12,
          13,
          14,
          15,
          16,
          17,
          18,
          19,
          20,
          21,
          22,
          23,
          24,
          25,
          26,
          27,
          28,
          29,
          30,
          31,
          32,
          33,
          34,
          35,
          36,
          37,
          38,
          39,
          40,
          41,
          42,
          43,
          44,
          45,
          46,
          47,
          48,
          49
         ],
         "xaxis": "x",
         "y": [
          0,
          0,
          0,
          0,
          0.6,
          0.6,
          0.6,
          0.81,
          0.81,
          1.01,
          1.21,
          1.21,
          1.21,
          1.21,
          1.21,
          1.61,
          1.61,
          1.61,
          1.61,
          1.61,
          1.61,
          1.61,
          1.61,
          1.61,
          1.61,
          1.81,
          1.81,
          1.81,
          1.81,
          1.81,
          1.81,
          1.81,
          1.81,
          1.81,
          1.81,
          1.81,
          1.81,
          1.81,
          2.02,
          2.02,
          2.02,
          2.02,
          2.02,
          2.02,
          2.02,
          2.02,
          2.02,
          2.02,
          2.02,
          2.02
         ],
         "yaxis": "y"
        },
        {
         "hovertemplate": "opening_month=-48<br>month_on_book=%{x}<br>due_rate=%{y}<extra></extra>",
         "legendgroup": "-48",
         "line": {
          "color": "#00cc96",
          "dash": "solid"
         },
         "marker": {
          "size": 5,
          "symbol": "circle"
         },
         "mode": "markers+lines",
         "name": "-48",
         "showlegend": true,
         "type": "scattergl",
         "x": [
          0,
          1,
          2,
          3,
          4,
          5,
          6,
          7,
          8,
          9,
          10,
          11,
          12,
          13,
          14,
          15,
          16,
          17,
          18,
          19,
          20,
          21,
          22,
          23,
          24,
          25,
          26,
          27,
          28,
          29,
          30,
          31,
          32,
          33,
          34,
          35,
          36,
          37,
          38,
          39,
          40,
          41,
          42,
          43,
          44,
          45,
          46,
          47,
          48
         ],
         "xaxis": "x",
         "y": [
          0,
          0,
          0,
          0.19,
          0.58,
          0.77,
          0.96,
          1.16,
          1.35,
          1.35,
          1.73,
          1.93,
          1.93,
          1.93,
          2.12,
          2.31,
          2.31,
          2.5,
          2.5,
          2.5,
          2.7,
          2.89,
          2.89,
          2.89,
          2.89,
          2.89,
          2.89,
          2.89,
          2.89,
          2.89,
          2.89,
          2.89,
          2.89,
          2.89,
          2.89,
          2.89,
          2.89,
          2.89,
          2.89,
          2.89,
          2.89,
          2.89,
          2.89,
          3.08,
          3.08,
          3.08,
          3.08,
          3.08,
          3.08
         ],
         "yaxis": "y"
        },
        {
         "hovertemplate": "opening_month=-47<br>month_on_book=%{x}<br>due_rate=%{y}<extra></extra>",
         "legendgroup": "-47",
         "line": {
          "color": "#ab63fa",
          "dash": "solid"
         },
         "marker": {
          "size": 5,
          "symbol": "circle"
         },
         "mode": "markers+lines",
         "name": "-47",
         "showlegend": true,
         "type": "scattergl",
         "x": [
          0,
          1,
          2,
          3,
          4,
          5,
          6,
          7,
          8,
          9,
          10,
          11,
          12,
          13,
          14,
          15,
          16,
          17,
          18,
          19,
          20,
          21,
          22,
          23,
          24,
          25,
          26,
          27,
          28,
          29,
          30,
          31,
          32,
          33,
          34,
          35,
          36,
          37,
          38,
          39,
          40,
          41,
          42,
          43,
          44,
          45,
          46,
          47
         ],
         "xaxis": "x",
         "y": [
          0,
          0,
          0,
          0.37,
          0.56,
          0.56,
          1.5,
          1.5,
          1.5,
          1.87,
          1.87,
          1.87,
          1.87,
          2.06,
          2.06,
          2.06,
          2.06,
          2.06,
          2.06,
          2.62,
          2.62,
          2.62,
          2.81,
          2.81,
          3,
          3,
          3,
          3,
          3,
          3.18,
          3.18,
          3.18,
          3.18,
          3.18,
          3.18,
          3.18,
          3.18,
          3.18,
          3.18,
          3.18,
          3.18,
          3.18,
          3.18,
          3.18,
          3.18,
          3.18,
          3.18,
          3.18
         ],
         "yaxis": "y"
        },
        {
         "hovertemplate": "opening_month=-46<br>month_on_book=%{x}<br>due_rate=%{y}<extra></extra>",
         "legendgroup": "-46",
         "line": {
          "color": "#FFA15A",
          "dash": "solid"
         },
         "marker": {
          "size": 5,
          "symbol": "circle"
         },
         "mode": "markers+lines",
         "name": "-46",
         "showlegend": true,
         "type": "scattergl",
         "x": [
          0,
          1,
          2,
          3,
          4,
          5,
          6,
          7,
          8,
          9,
          10,
          11,
          12,
          13,
          14,
          15,
          16,
          17,
          18,
          19,
          20,
          21,
          22,
          23,
          24,
          25,
          26,
          27,
          28,
          29,
          30,
          31,
          32,
          33,
          34,
          35,
          36,
          37,
          38,
          39,
          40,
          41,
          42,
          43,
          44,
          45,
          46
         ],
         "xaxis": "x",
         "y": [
          0,
          0,
          0,
          0.19,
          0.39,
          0.58,
          0.78,
          1.36,
          1.36,
          1.36,
          1.56,
          1.56,
          1.95,
          2.14,
          2.14,
          2.33,
          2.33,
          2.33,
          2.33,
          2.33,
          2.33,
          2.33,
          2.33,
          2.33,
          2.33,
          2.33,
          2.33,
          2.33,
          2.33,
          2.33,
          2.33,
          2.33,
          2.33,
          2.33,
          2.33,
          2.33,
          2.33,
          2.33,
          2.33,
          2.33,
          2.33,
          2.33,
          2.33,
          2.33,
          2.33,
          2.33,
          2.33
         ],
         "yaxis": "y"
        },
        {
         "hovertemplate": "opening_month=-45<br>month_on_book=%{x}<br>due_rate=%{y}<extra></extra>",
         "legendgroup": "-45",
         "line": {
          "color": "#19d3f3",
          "dash": "solid"
         },
         "marker": {
          "size": 5,
          "symbol": "circle"
         },
         "mode": "markers+lines",
         "name": "-45",
         "showlegend": true,
         "type": "scattergl",
         "x": [
          0,
          1,
          2,
          3,
          4,
          5,
          6,
          7,
          8,
          9,
          10,
          11,
          12,
          13,
          14,
          15,
          16,
          17,
          18,
          19,
          20,
          21,
          22,
          23,
          24,
          25,
          26,
          27,
          28,
          29,
          30,
          31,
          32,
          33,
          34,
          35,
          36,
          37,
          38,
          39,
          40,
          41,
          42,
          43,
          44,
          45
         ],
         "xaxis": "x",
         "y": [
          0,
          0,
          0,
          0.18,
          0.55,
          0.73,
          0.73,
          1.1,
          1.1,
          1.28,
          1.28,
          1.46,
          1.46,
          1.46,
          1.65,
          1.65,
          1.65,
          1.65,
          1.65,
          1.65,
          1.65,
          1.65,
          1.65,
          1.65,
          1.65,
          1.65,
          1.65,
          1.65,
          1.65,
          1.65,
          1.83,
          1.83,
          1.83,
          1.83,
          1.83,
          1.83,
          1.83,
          1.83,
          1.83,
          1.83,
          1.83,
          1.83,
          1.83,
          1.83,
          1.83,
          1.83
         ],
         "yaxis": "y"
        },
        {
         "hovertemplate": "opening_month=-44<br>month_on_book=%{x}<br>due_rate=%{y}<extra></extra>",
         "legendgroup": "-44",
         "line": {
          "color": "#FF6692",
          "dash": "solid"
         },
         "marker": {
          "size": 5,
          "symbol": "circle"
         },
         "mode": "markers+lines",
         "name": "-44",
         "showlegend": true,
         "type": "scattergl",
         "x": [
          0,
          1,
          2,
          3,
          4,
          5,
          6,
          7,
          8,
          9,
          10,
          11,
          12,
          13,
          14,
          15,
          16,
          17,
          18,
          19,
          20,
          21,
          22,
          23,
          24,
          25,
          26,
          27,
          28,
          29,
          30,
          31,
          32,
          33,
          34,
          35,
          36,
          37,
          38,
          39,
          40,
          41,
          42,
          43,
          44
         ],
         "xaxis": "x",
         "y": [
          0,
          0.19,
          0.38,
          0.56,
          0.56,
          0.75,
          0.94,
          1.31,
          1.31,
          1.31,
          1.5,
          1.69,
          1.69,
          1.69,
          1.69,
          1.69,
          1.69,
          1.69,
          1.69,
          1.88,
          1.88,
          1.88,
          2.06,
          2.06,
          2.06,
          2.06,
          2.06,
          2.06,
          2.06,
          2.06,
          2.06,
          2.06,
          2.06,
          2.06,
          2.25,
          2.25,
          2.25,
          2.25,
          2.25,
          2.25,
          2.25,
          2.25,
          2.25,
          2.25,
          2.25
         ],
         "yaxis": "y"
        },
        {
         "hovertemplate": "opening_month=-43<br>month_on_book=%{x}<br>due_rate=%{y}<extra></extra>",
         "legendgroup": "-43",
         "line": {
          "color": "#B6E880",
          "dash": "solid"
         },
         "marker": {
          "size": 5,
          "symbol": "circle"
         },
         "mode": "markers+lines",
         "name": "-43",
         "showlegend": true,
         "type": "scattergl",
         "x": [
          0,
          1,
          2,
          3,
          4,
          5,
          6,
          7,
          8,
          9,
          10,
          11,
          12,
          13,
          14,
          15,
          16,
          17,
          18,
          19,
          20,
          21,
          22,
          23,
          24,
          25,
          26,
          27,
          28,
          29,
          30,
          31,
          32,
          33,
          34,
          35,
          36,
          37,
          38,
          39,
          40,
          41,
          42,
          43
         ],
         "xaxis": "x",
         "y": [
          0,
          0,
          0,
          0,
          0,
          0,
          0,
          0.17,
          0.17,
          0.52,
          0.52,
          0.69,
          0.86,
          1.21,
          1.21,
          1.21,
          1.21,
          1.21,
          1.21,
          1.38,
          1.38,
          1.38,
          1.38,
          1.38,
          1.38,
          1.38,
          1.38,
          1.38,
          1.38,
          1.38,
          1.38,
          1.38,
          1.38,
          1.38,
          1.38,
          1.38,
          1.38,
          1.38,
          1.38,
          1.38,
          1.38,
          1.38,
          1.38,
          1.38
         ],
         "yaxis": "y"
        },
        {
         "hovertemplate": "opening_month=-42<br>month_on_book=%{x}<br>due_rate=%{y}<extra></extra>",
         "legendgroup": "-42",
         "line": {
          "color": "#FF97FF",
          "dash": "solid"
         },
         "marker": {
          "size": 5,
          "symbol": "circle"
         },
         "mode": "markers+lines",
         "name": "-42",
         "showlegend": true,
         "type": "scattergl",
         "x": [
          0,
          1,
          2,
          3,
          4,
          5,
          6,
          7,
          8,
          9,
          10,
          11,
          12,
          13,
          14,
          15,
          16,
          17,
          18,
          19,
          20,
          21,
          22,
          23,
          24,
          25,
          26,
          27,
          28,
          29,
          30,
          31,
          32,
          33,
          34,
          35,
          36,
          37,
          38,
          39,
          40,
          41,
          42
         ],
         "xaxis": "x",
         "y": [
          0,
          0,
          0.16,
          0.49,
          0.81,
          0.81,
          1.14,
          1.14,
          1.47,
          1.63,
          1.63,
          1.79,
          1.95,
          1.95,
          1.95,
          2.12,
          2.12,
          2.12,
          2.12,
          2.12,
          2.12,
          2.28,
          2.28,
          2.28,
          2.28,
          2.28,
          2.28,
          2.28,
          2.28,
          2.44,
          2.44,
          2.44,
          2.44,
          2.44,
          2.44,
          2.61,
          2.61,
          2.61,
          2.61,
          2.61,
          2.61,
          2.61,
          2.61
         ],
         "yaxis": "y"
        },
        {
         "hovertemplate": "opening_month=-41<br>month_on_book=%{x}<br>due_rate=%{y}<extra></extra>",
         "legendgroup": "-41",
         "line": {
          "color": "#FECB52",
          "dash": "solid"
         },
         "marker": {
          "size": 5,
          "symbol": "circle"
         },
         "mode": "markers+lines",
         "name": "-41",
         "showlegend": true,
         "type": "scattergl",
         "x": [
          0,
          1,
          2,
          3,
          4,
          5,
          6,
          7,
          8,
          9,
          10,
          11,
          12,
          13,
          14,
          15,
          16,
          17,
          18,
          19,
          20,
          21,
          22,
          23,
          24,
          25,
          26,
          27,
          28,
          29,
          30,
          31,
          32,
          33,
          34,
          35,
          36,
          37,
          38,
          39,
          40,
          41
         ],
         "xaxis": "x",
         "y": [
          0,
          0,
          0,
          0.16,
          0.97,
          0.97,
          1.13,
          1.29,
          1.45,
          1.62,
          1.78,
          1.94,
          2.26,
          2.26,
          2.26,
          2.26,
          2.26,
          2.26,
          2.26,
          2.26,
          2.26,
          2.42,
          2.42,
          2.42,
          2.42,
          2.58,
          2.58,
          2.58,
          2.58,
          2.58,
          2.58,
          2.58,
          2.58,
          2.58,
          2.58,
          2.58,
          2.58,
          2.58,
          2.58,
          2.58,
          2.58,
          2.58
         ],
         "yaxis": "y"
        },
        {
         "hovertemplate": "opening_month=-40<br>month_on_book=%{x}<br>due_rate=%{y}<extra></extra>",
         "legendgroup": "-40",
         "line": {
          "color": "#636efa",
          "dash": "solid"
         },
         "marker": {
          "size": 5,
          "symbol": "circle"
         },
         "mode": "markers+lines",
         "name": "-40",
         "showlegend": true,
         "type": "scattergl",
         "x": [
          0,
          1,
          2,
          3,
          4,
          5,
          6,
          7,
          8,
          9,
          10,
          11,
          12,
          13,
          14,
          15,
          16,
          17,
          18,
          19,
          20,
          21,
          22,
          23,
          24,
          25,
          26,
          27,
          28,
          29,
          30,
          31,
          32,
          33,
          34,
          35,
          36,
          37,
          38,
          39,
          40
         ],
         "xaxis": "x",
         "y": [
          0,
          0,
          0.31,
          0.31,
          0.78,
          0.93,
          1.09,
          1.09,
          1.09,
          1.4,
          1.56,
          1.56,
          1.71,
          2.02,
          2.02,
          2.02,
          2.02,
          2.02,
          2.02,
          2.34,
          2.34,
          2.34,
          2.34,
          2.34,
          2.34,
          2.34,
          2.34,
          2.49,
          2.65,
          2.65,
          2.65,
          2.65,
          2.65,
          2.65,
          2.96,
          2.96,
          2.96,
          2.96,
          2.96,
          2.96,
          2.96
         ],
         "yaxis": "y"
        },
        {
         "hovertemplate": "opening_month=-39<br>month_on_book=%{x}<br>due_rate=%{y}<extra></extra>",
         "legendgroup": "-39",
         "line": {
          "color": "#EF553B",
          "dash": "solid"
         },
         "marker": {
          "size": 5,
          "symbol": "circle"
         },
         "mode": "markers+lines",
         "name": "-39",
         "showlegend": true,
         "type": "scattergl",
         "x": [
          0,
          1,
          2,
          3,
          4,
          5,
          6,
          7,
          8,
          9,
          10,
          11,
          12,
          13,
          14,
          15,
          16,
          17,
          18,
          19,
          20,
          21,
          22,
          23,
          24,
          25,
          26,
          27,
          28,
          29,
          30,
          31,
          32,
          33,
          34,
          35,
          36,
          37,
          38,
          39
         ],
         "xaxis": "x",
         "y": [
          0,
          0.13,
          0.13,
          0.13,
          0.13,
          0.4,
          0.4,
          0.54,
          0.67,
          0.67,
          0.67,
          0.81,
          0.81,
          1.07,
          1.07,
          1.07,
          1.07,
          1.07,
          1.34,
          1.34,
          1.34,
          1.48,
          1.48,
          1.48,
          1.48,
          1.74,
          1.74,
          1.74,
          1.74,
          1.88,
          1.88,
          1.88,
          1.88,
          1.88,
          2.01,
          2.01,
          2.01,
          2.01,
          2.01,
          2.01
         ],
         "yaxis": "y"
        },
        {
         "hovertemplate": "opening_month=-38<br>month_on_book=%{x}<br>due_rate=%{y}<extra></extra>",
         "legendgroup": "-38",
         "line": {
          "color": "#00cc96",
          "dash": "solid"
         },
         "marker": {
          "size": 5,
          "symbol": "circle"
         },
         "mode": "markers+lines",
         "name": "-38",
         "showlegend": true,
         "type": "scattergl",
         "x": [
          0,
          1,
          2,
          3,
          4,
          5,
          6,
          7,
          8,
          9,
          10,
          11,
          12,
          13,
          14,
          15,
          16,
          17,
          18,
          19,
          20,
          21,
          22,
          23,
          24,
          25,
          26,
          27,
          28,
          29,
          30,
          31,
          32,
          33,
          34,
          35,
          36,
          37,
          38
         ],
         "xaxis": "x",
         "y": [
          0.15,
          0.15,
          0.15,
          0.15,
          0.3,
          0.3,
          0.3,
          0.45,
          0.61,
          0.76,
          0.91,
          0.91,
          1.06,
          1.06,
          1.06,
          1.06,
          1.06,
          1.21,
          1.21,
          1.21,
          1.21,
          1.21,
          1.21,
          1.21,
          1.36,
          1.51,
          1.51,
          1.51,
          1.51,
          1.66,
          1.66,
          1.66,
          1.66,
          1.66,
          1.66,
          1.66,
          1.66,
          1.66,
          1.66
         ],
         "yaxis": "y"
        },
        {
         "hovertemplate": "opening_month=-37<br>month_on_book=%{x}<br>due_rate=%{y}<extra></extra>",
         "legendgroup": "-37",
         "line": {
          "color": "#ab63fa",
          "dash": "solid"
         },
         "marker": {
          "size": 5,
          "symbol": "circle"
         },
         "mode": "markers+lines",
         "name": "-37",
         "showlegend": true,
         "type": "scattergl",
         "x": [
          0,
          1,
          2,
          3,
          4,
          5,
          6,
          7,
          8,
          9,
          10,
          11,
          12,
          13,
          14,
          15,
          16,
          17,
          18,
          19,
          20,
          21,
          22,
          23,
          24,
          25,
          26,
          27,
          28,
          29,
          30,
          31,
          32,
          33,
          34,
          35,
          36,
          37
         ],
         "xaxis": "x",
         "y": [
          0,
          0,
          0,
          0,
          0.15,
          0.15,
          0.31,
          0.93,
          0.93,
          1.08,
          1.54,
          1.7,
          1.7,
          1.85,
          1.85,
          2.01,
          2.01,
          2.01,
          2.31,
          2.31,
          2.31,
          2.47,
          2.47,
          2.47,
          2.62,
          2.62,
          2.62,
          2.62,
          2.78,
          2.78,
          2.78,
          2.78,
          2.78,
          2.93,
          2.93,
          2.93,
          2.93,
          2.93
         ],
         "yaxis": "y"
        },
        {
         "hovertemplate": "opening_month=-36<br>month_on_book=%{x}<br>due_rate=%{y}<extra></extra>",
         "legendgroup": "-36",
         "line": {
          "color": "#FFA15A",
          "dash": "solid"
         },
         "marker": {
          "size": 5,
          "symbol": "circle"
         },
         "mode": "markers+lines",
         "name": "-36",
         "showlegend": true,
         "type": "scattergl",
         "x": [
          0,
          1,
          2,
          3,
          4,
          5,
          6,
          7,
          8,
          9,
          10,
          11,
          12,
          13,
          14,
          15,
          16,
          17,
          18,
          19,
          20,
          21,
          22,
          23,
          24,
          25,
          26,
          27,
          28,
          29,
          30,
          31,
          32,
          33,
          34,
          35,
          36
         ],
         "xaxis": "x",
         "y": [
          0,
          0,
          0,
          0.16,
          0.32,
          0.64,
          0.64,
          0.8,
          1.12,
          1.28,
          1.6,
          1.6,
          1.76,
          1.76,
          1.76,
          1.76,
          1.76,
          1.76,
          1.92,
          1.92,
          1.92,
          1.92,
          1.92,
          1.92,
          1.92,
          2.08,
          2.08,
          2.08,
          2.08,
          2.24,
          2.24,
          2.24,
          2.24,
          2.24,
          2.24,
          2.24,
          2.24
         ],
         "yaxis": "y"
        },
        {
         "hovertemplate": "opening_month=-35<br>month_on_book=%{x}<br>due_rate=%{y}<extra></extra>",
         "legendgroup": "-35",
         "line": {
          "color": "#19d3f3",
          "dash": "solid"
         },
         "marker": {
          "size": 5,
          "symbol": "circle"
         },
         "mode": "markers+lines",
         "name": "-35",
         "showlegend": true,
         "type": "scattergl",
         "x": [
          0,
          1,
          2,
          3,
          4,
          5,
          6,
          7,
          8,
          9,
          10,
          11,
          12,
          13,
          14,
          15,
          16,
          17,
          18,
          19,
          20,
          21,
          22,
          23,
          24,
          25,
          26,
          27,
          28,
          29,
          30,
          31,
          32,
          33,
          34,
          35
         ],
         "xaxis": "x",
         "y": [
          0,
          0,
          0,
          0.15,
          0.15,
          0.15,
          0.15,
          0.29,
          0.59,
          0.74,
          1.33,
          1.47,
          1.47,
          1.62,
          1.62,
          1.62,
          1.62,
          1.62,
          1.62,
          1.62,
          1.62,
          1.62,
          1.62,
          1.62,
          1.62,
          1.62,
          1.62,
          1.62,
          1.62,
          1.62,
          1.62,
          1.62,
          1.62,
          1.62,
          1.62,
          1.62
         ],
         "yaxis": "y"
        },
        {
         "hovertemplate": "opening_month=-34<br>month_on_book=%{x}<br>due_rate=%{y}<extra></extra>",
         "legendgroup": "-34",
         "line": {
          "color": "#FF6692",
          "dash": "solid"
         },
         "marker": {
          "size": 5,
          "symbol": "circle"
         },
         "mode": "markers+lines",
         "name": "-34",
         "showlegend": true,
         "type": "scattergl",
         "x": [
          0,
          1,
          2,
          3,
          4,
          5,
          6,
          7,
          8,
          9,
          10,
          11,
          12,
          13,
          14,
          15,
          16,
          17,
          18,
          19,
          20,
          21,
          22,
          23,
          24,
          25,
          26,
          27,
          28,
          29,
          30,
          31,
          32,
          33,
          34
         ],
         "xaxis": "x",
         "y": [
          0,
          0,
          0,
          0,
          0,
          0.15,
          0.3,
          0.76,
          0.76,
          0.91,
          1.07,
          1.22,
          1.22,
          1.37,
          1.37,
          1.37,
          1.37,
          1.37,
          1.37,
          1.37,
          1.37,
          1.37,
          1.37,
          1.37,
          1.37,
          1.37,
          1.37,
          1.37,
          1.37,
          1.37,
          1.37,
          1.37,
          1.52,
          1.52,
          1.52
         ],
         "yaxis": "y"
        },
        {
         "hovertemplate": "opening_month=-33<br>month_on_book=%{x}<br>due_rate=%{y}<extra></extra>",
         "legendgroup": "-33",
         "line": {
          "color": "#B6E880",
          "dash": "solid"
         },
         "marker": {
          "size": 5,
          "symbol": "circle"
         },
         "mode": "markers+lines",
         "name": "-33",
         "showlegend": true,
         "type": "scattergl",
         "x": [
          0,
          1,
          2,
          3,
          4,
          5,
          6,
          7,
          8,
          9,
          10,
          11,
          12,
          13,
          14,
          15,
          16,
          17,
          18,
          19,
          20,
          21,
          22,
          23,
          24,
          25,
          26,
          27,
          28,
          29,
          30,
          31,
          32,
          33
         ],
         "xaxis": "x",
         "y": [
          0,
          0,
          0.16,
          0.16,
          0.16,
          0.16,
          0.16,
          0.48,
          0.48,
          0.48,
          0.48,
          0.48,
          0.64,
          0.8,
          0.8,
          0.8,
          0.8,
          0.8,
          0.8,
          0.96,
          0.96,
          1.13,
          1.13,
          1.13,
          1.13,
          1.13,
          1.29,
          1.29,
          1.29,
          1.45,
          1.45,
          1.45,
          1.45,
          1.45
         ],
         "yaxis": "y"
        },
        {
         "hovertemplate": "opening_month=-32<br>month_on_book=%{x}<br>due_rate=%{y}<extra></extra>",
         "legendgroup": "-32",
         "line": {
          "color": "#FF97FF",
          "dash": "solid"
         },
         "marker": {
          "size": 5,
          "symbol": "circle"
         },
         "mode": "markers+lines",
         "name": "-32",
         "showlegend": true,
         "type": "scattergl",
         "x": [
          0,
          1,
          2,
          3,
          4,
          5,
          6,
          7,
          8,
          9,
          10,
          11,
          12,
          13,
          14,
          15,
          16,
          17,
          18,
          19,
          20,
          21,
          22,
          23,
          24,
          25,
          26,
          27,
          28,
          29,
          30,
          31,
          32
         ],
         "xaxis": "x",
         "y": [
          0,
          0,
          0.15,
          0.15,
          0.3,
          0.3,
          0.45,
          0.45,
          0.74,
          0.74,
          0.89,
          0.89,
          0.89,
          1.04,
          1.04,
          1.04,
          1.04,
          1.04,
          1.19,
          1.19,
          1.19,
          1.19,
          1.19,
          1.19,
          1.19,
          1.19,
          1.34,
          1.34,
          1.34,
          1.34,
          1.34,
          1.34,
          1.49
         ],
         "yaxis": "y"
        },
        {
         "hovertemplate": "opening_month=-31<br>month_on_book=%{x}<br>due_rate=%{y}<extra></extra>",
         "legendgroup": "-31",
         "line": {
          "color": "#FECB52",
          "dash": "solid"
         },
         "marker": {
          "size": 5,
          "symbol": "circle"
         },
         "mode": "markers+lines",
         "name": "-31",
         "showlegend": true,
         "type": "scattergl",
         "x": [
          0,
          1,
          2,
          3,
          4,
          5,
          6,
          7,
          8,
          9,
          10,
          11,
          12,
          13,
          14,
          15,
          16,
          17,
          18,
          19,
          20,
          21,
          22,
          23,
          24,
          25,
          26,
          27,
          28,
          29,
          30,
          31
         ],
         "xaxis": "x",
         "y": [
          0,
          0,
          0.15,
          0.15,
          0.15,
          0.45,
          0.59,
          0.59,
          0.59,
          0.59,
          0.59,
          0.59,
          0.89,
          1.19,
          1.19,
          1.19,
          1.19,
          1.19,
          1.19,
          1.19,
          1.19,
          1.19,
          1.19,
          1.19,
          1.19,
          1.19,
          1.19,
          1.19,
          1.19,
          1.19,
          1.19,
          1.19
         ],
         "yaxis": "y"
        },
        {
         "hovertemplate": "opening_month=-30<br>month_on_book=%{x}<br>due_rate=%{y}<extra></extra>",
         "legendgroup": "-30",
         "line": {
          "color": "#636efa",
          "dash": "solid"
         },
         "marker": {
          "size": 5,
          "symbol": "circle"
         },
         "mode": "markers+lines",
         "name": "-30",
         "showlegend": true,
         "type": "scattergl",
         "x": [
          0,
          1,
          2,
          3,
          4,
          5,
          6,
          7,
          8,
          9,
          10,
          11,
          12,
          13,
          14,
          15,
          16,
          17,
          18,
          19,
          20,
          21,
          22,
          23,
          24,
          25,
          26,
          27,
          28,
          29,
          30
         ],
         "xaxis": "x",
         "y": [
          0,
          0,
          0,
          0.14,
          0.14,
          0.28,
          0.28,
          0.69,
          0.69,
          0.97,
          0.97,
          1.11,
          1.24,
          1.38,
          1.52,
          1.52,
          1.52,
          1.52,
          1.52,
          1.66,
          1.66,
          1.66,
          1.66,
          1.66,
          1.66,
          1.8,
          1.8,
          1.8,
          1.8,
          1.8,
          1.8
         ],
         "yaxis": "y"
        },
        {
         "hovertemplate": "opening_month=-29<br>month_on_book=%{x}<br>due_rate=%{y}<extra></extra>",
         "legendgroup": "-29",
         "line": {
          "color": "#EF553B",
          "dash": "solid"
         },
         "marker": {
          "size": 5,
          "symbol": "circle"
         },
         "mode": "markers+lines",
         "name": "-29",
         "showlegend": true,
         "type": "scattergl",
         "x": [
          0,
          1,
          2,
          3,
          4,
          5,
          6,
          7,
          8,
          9,
          10,
          11,
          12,
          13,
          14,
          15,
          16,
          17,
          18,
          19,
          20,
          21,
          22,
          23,
          24,
          25,
          26,
          27,
          28,
          29
         ],
         "xaxis": "x",
         "y": [
          0,
          0,
          0,
          0.14,
          0.29,
          0.58,
          0.58,
          0.72,
          0.87,
          0.87,
          1.16,
          1.16,
          1.16,
          1.16,
          1.3,
          1.3,
          1.3,
          1.3,
          1.3,
          1.3,
          1.3,
          1.3,
          1.3,
          1.3,
          1.3,
          1.3,
          1.3,
          1.3,
          1.3,
          1.3
         ],
         "yaxis": "y"
        },
        {
         "hovertemplate": "opening_month=-28<br>month_on_book=%{x}<br>due_rate=%{y}<extra></extra>",
         "legendgroup": "-28",
         "line": {
          "color": "#00cc96",
          "dash": "solid"
         },
         "marker": {
          "size": 5,
          "symbol": "circle"
         },
         "mode": "markers+lines",
         "name": "-28",
         "showlegend": true,
         "type": "scattergl",
         "x": [
          0,
          1,
          2,
          3,
          4,
          5,
          6,
          7,
          8,
          9,
          10,
          11,
          12,
          13,
          14,
          15,
          16,
          17,
          18,
          19,
          20,
          21,
          22,
          23,
          24,
          25,
          26,
          27,
          28
         ],
         "xaxis": "x",
         "y": [
          0,
          0,
          0.14,
          0.14,
          0.14,
          0.28,
          0.42,
          0.56,
          0.7,
          0.84,
          0.98,
          0.98,
          0.98,
          1.12,
          1.12,
          1.26,
          1.26,
          1.26,
          1.26,
          1.26,
          1.4,
          1.4,
          1.4,
          1.54,
          1.54,
          1.68,
          1.68,
          1.68,
          1.68
         ],
         "yaxis": "y"
        },
        {
         "hovertemplate": "opening_month=-27<br>month_on_book=%{x}<br>due_rate=%{y}<extra></extra>",
         "legendgroup": "-27",
         "line": {
          "color": "#ab63fa",
          "dash": "solid"
         },
         "marker": {
          "size": 5,
          "symbol": "circle"
         },
         "mode": "markers+lines",
         "name": "-27",
         "showlegend": true,
         "type": "scattergl",
         "x": [
          0,
          1,
          2,
          3,
          4,
          5,
          6,
          7,
          8,
          9,
          10,
          11,
          12,
          13,
          14,
          15,
          16,
          17,
          18,
          19,
          20,
          21,
          22,
          23,
          24,
          25,
          26,
          27
         ],
         "xaxis": "x",
         "y": [
          0,
          0,
          0,
          0.14,
          0.28,
          0.41,
          0.41,
          0.55,
          0.69,
          0.97,
          0.97,
          0.97,
          1.11,
          1.24,
          1.24,
          1.24,
          1.24,
          1.24,
          1.24,
          1.52,
          1.52,
          1.52,
          1.66,
          1.66,
          1.66,
          1.66,
          1.8,
          1.8
         ],
         "yaxis": "y"
        },
        {
         "hovertemplate": "opening_month=-26<br>month_on_book=%{x}<br>due_rate=%{y}<extra></extra>",
         "legendgroup": "-26",
         "line": {
          "color": "#FFA15A",
          "dash": "solid"
         },
         "marker": {
          "size": 5,
          "symbol": "circle"
         },
         "mode": "markers+lines",
         "name": "-26",
         "showlegend": true,
         "type": "scattergl",
         "x": [
          0,
          1,
          2,
          3,
          4,
          5,
          6,
          7,
          8,
          9,
          10,
          11,
          12,
          13,
          14,
          15,
          16,
          17,
          18,
          19,
          20,
          21,
          22,
          23,
          24,
          25,
          26
         ],
         "xaxis": "x",
         "y": [
          0,
          0,
          0,
          0.3,
          0.46,
          0.61,
          0.61,
          0.76,
          0.76,
          0.76,
          0.76,
          0.91,
          0.91,
          0.91,
          0.91,
          0.91,
          0.91,
          0.91,
          0.91,
          0.91,
          0.91,
          0.91,
          0.91,
          0.91,
          0.91,
          0.91,
          0.91
         ],
         "yaxis": "y"
        },
        {
         "hovertemplate": "opening_month=-25<br>month_on_book=%{x}<br>due_rate=%{y}<extra></extra>",
         "legendgroup": "-25",
         "line": {
          "color": "#19d3f3",
          "dash": "solid"
         },
         "marker": {
          "size": 5,
          "symbol": "circle"
         },
         "mode": "markers+lines",
         "name": "-25",
         "showlegend": true,
         "type": "scattergl",
         "x": [
          0,
          1,
          2,
          3,
          4,
          5,
          6,
          7,
          8,
          9,
          10,
          11,
          12,
          13,
          14,
          15,
          16,
          17,
          18,
          19,
          20,
          21,
          22,
          23,
          24,
          25
         ],
         "xaxis": "x",
         "y": [
          0,
          0,
          0.13,
          0.27,
          0.53,
          0.8,
          0.8,
          1.2,
          1.2,
          1.2,
          1.2,
          1.6,
          1.73,
          1.73,
          1.73,
          1.73,
          1.86,
          1.86,
          1.86,
          1.86,
          1.86,
          1.86,
          2,
          2,
          2,
          2
         ],
         "yaxis": "y"
        },
        {
         "hovertemplate": "opening_month=-24<br>month_on_book=%{x}<br>due_rate=%{y}<extra></extra>",
         "legendgroup": "-24",
         "line": {
          "color": "#FF6692",
          "dash": "solid"
         },
         "marker": {
          "size": 5,
          "symbol": "circle"
         },
         "mode": "markers+lines",
         "name": "-24",
         "showlegend": true,
         "type": "scattergl",
         "x": [
          0,
          1,
          2,
          3,
          4,
          5,
          6,
          7,
          8,
          9,
          10,
          11,
          12,
          13,
          14,
          15,
          16,
          17,
          18,
          19,
          20,
          21,
          22,
          23,
          24
         ],
         "xaxis": "x",
         "y": [
          0,
          0,
          0,
          0,
          0,
          0.13,
          0.26,
          0.39,
          0.39,
          0.51,
          0.51,
          0.51,
          0.64,
          0.64,
          0.64,
          0.64,
          0.64,
          0.64,
          0.64,
          0.64,
          0.77,
          0.77,
          0.77,
          0.77,
          0.77
         ],
         "yaxis": "y"
        },
        {
         "hovertemplate": "opening_month=-23<br>month_on_book=%{x}<br>due_rate=%{y}<extra></extra>",
         "legendgroup": "-23",
         "line": {
          "color": "#B6E880",
          "dash": "solid"
         },
         "marker": {
          "size": 5,
          "symbol": "circle"
         },
         "mode": "markers+lines",
         "name": "-23",
         "showlegend": true,
         "type": "scattergl",
         "x": [
          0,
          1,
          2,
          3,
          4,
          5,
          6,
          7,
          8,
          9,
          10,
          11,
          12,
          13,
          14,
          15,
          16,
          17,
          18,
          19,
          20,
          21,
          22,
          23
         ],
         "xaxis": "x",
         "y": [
          0,
          0,
          0,
          0.26,
          0.51,
          0.64,
          0.64,
          0.64,
          0.77,
          0.77,
          0.77,
          0.9,
          0.9,
          0.9,
          0.9,
          0.9,
          0.9,
          0.9,
          0.9,
          0.9,
          0.9,
          0.9,
          0.9,
          0.9
         ],
         "yaxis": "y"
        },
        {
         "hovertemplate": "opening_month=-22<br>month_on_book=%{x}<br>due_rate=%{y}<extra></extra>",
         "legendgroup": "-22",
         "line": {
          "color": "#FF97FF",
          "dash": "solid"
         },
         "marker": {
          "size": 5,
          "symbol": "circle"
         },
         "mode": "markers+lines",
         "name": "-22",
         "showlegend": true,
         "type": "scattergl",
         "x": [
          0,
          1,
          2,
          3,
          4,
          5,
          6,
          7,
          8,
          9,
          10,
          11,
          12,
          13,
          14,
          15,
          16,
          17,
          18,
          19,
          20,
          21,
          22
         ],
         "xaxis": "x",
         "y": [
          0,
          0,
          0.13,
          0.27,
          0.27,
          0.54,
          0.54,
          0.67,
          0.81,
          0.81,
          0.81,
          1.21,
          1.21,
          1.21,
          1.34,
          1.34,
          1.34,
          1.34,
          1.34,
          1.48,
          1.48,
          1.48,
          1.48
         ],
         "yaxis": "y"
        },
        {
         "hovertemplate": "opening_month=-21<br>month_on_book=%{x}<br>due_rate=%{y}<extra></extra>",
         "legendgroup": "-21",
         "line": {
          "color": "#FECB52",
          "dash": "solid"
         },
         "marker": {
          "size": 5,
          "symbol": "circle"
         },
         "mode": "markers+lines",
         "name": "-21",
         "showlegend": true,
         "type": "scattergl",
         "x": [
          0,
          1,
          2,
          3,
          4,
          5,
          6,
          7,
          8,
          9,
          10,
          11,
          12,
          13,
          14,
          15,
          16,
          17,
          18,
          19,
          20,
          21
         ],
         "xaxis": "x",
         "y": [
          0,
          0,
          0,
          0.41,
          0.54,
          0.54,
          0.81,
          1.08,
          1.22,
          1.22,
          1.35,
          1.62,
          1.76,
          1.89,
          1.89,
          1.89,
          1.89,
          2.03,
          2.03,
          2.03,
          2.03,
          2.03
         ],
         "yaxis": "y"
        },
        {
         "hovertemplate": "opening_month=-20<br>month_on_book=%{x}<br>due_rate=%{y}<extra></extra>",
         "legendgroup": "-20",
         "line": {
          "color": "#636efa",
          "dash": "solid"
         },
         "marker": {
          "size": 5,
          "symbol": "circle"
         },
         "mode": "markers+lines",
         "name": "-20",
         "showlegend": true,
         "type": "scattergl",
         "x": [
          0,
          1,
          2,
          3,
          4,
          5,
          6,
          7,
          8,
          9,
          10,
          11,
          12,
          13,
          14,
          15,
          16,
          17,
          18,
          19,
          20
         ],
         "xaxis": "x",
         "y": [
          0,
          0,
          0.12,
          0.12,
          0.25,
          0.25,
          0.37,
          0.37,
          0.37,
          0.37,
          0.37,
          0.37,
          0.62,
          0.62,
          0.62,
          0.62,
          0.62,
          0.74,
          0.74,
          0.74,
          0.74
         ],
         "yaxis": "y"
        },
        {
         "hovertemplate": "opening_month=-19<br>month_on_book=%{x}<br>due_rate=%{y}<extra></extra>",
         "legendgroup": "-19",
         "line": {
          "color": "#EF553B",
          "dash": "solid"
         },
         "marker": {
          "size": 5,
          "symbol": "circle"
         },
         "mode": "markers+lines",
         "name": "-19",
         "showlegend": true,
         "type": "scattergl",
         "x": [
          0,
          1,
          2,
          3,
          4,
          5,
          6,
          7,
          8,
          9,
          10,
          11,
          12,
          13,
          14,
          15,
          16,
          17,
          18,
          19
         ],
         "xaxis": "x",
         "y": [
          0,
          0,
          0.26,
          0.26,
          0.26,
          0.53,
          0.79,
          0.92,
          1.06,
          1.06,
          1.19,
          1.32,
          1.32,
          1.32,
          1.32,
          1.45,
          1.45,
          1.59,
          1.59,
          1.59
         ],
         "yaxis": "y"
        },
        {
         "hovertemplate": "opening_month=-18<br>month_on_book=%{x}<br>due_rate=%{y}<extra></extra>",
         "legendgroup": "-18",
         "line": {
          "color": "#00cc96",
          "dash": "solid"
         },
         "marker": {
          "size": 5,
          "symbol": "circle"
         },
         "mode": "markers+lines",
         "name": "-18",
         "showlegend": true,
         "type": "scattergl",
         "x": [
          0,
          1,
          2,
          3,
          4,
          5,
          6,
          7,
          8,
          9,
          10,
          11,
          12,
          13,
          14,
          15,
          16,
          17,
          18
         ],
         "xaxis": "x",
         "y": [
          0,
          0,
          0.13,
          0.25,
          0.25,
          0.25,
          0.38,
          0.38,
          0.51,
          0.51,
          0.63,
          0.76,
          1.01,
          1.14,
          1.26,
          1.26,
          1.26,
          1.26,
          1.26
         ],
         "yaxis": "y"
        },
        {
         "hovertemplate": "opening_month=-17<br>month_on_book=%{x}<br>due_rate=%{y}<extra></extra>",
         "legendgroup": "-17",
         "line": {
          "color": "#ab63fa",
          "dash": "solid"
         },
         "marker": {
          "size": 5,
          "symbol": "circle"
         },
         "mode": "markers+lines",
         "name": "-17",
         "showlegend": true,
         "type": "scattergl",
         "x": [
          0,
          1,
          2,
          3,
          4,
          5,
          6,
          7,
          8,
          9,
          10,
          11,
          12,
          13,
          14,
          15,
          16,
          17
         ],
         "xaxis": "x",
         "y": [
          0,
          0,
          0,
          0.11,
          0.23,
          0.34,
          0.34,
          0.45,
          0.57,
          0.57,
          0.57,
          0.68,
          0.68,
          0.68,
          0.68,
          0.68,
          0.68,
          0.68
         ],
         "yaxis": "y"
        },
        {
         "hovertemplate": "opening_month=-16<br>month_on_book=%{x}<br>due_rate=%{y}<extra></extra>",
         "legendgroup": "-16",
         "line": {
          "color": "#FFA15A",
          "dash": "solid"
         },
         "marker": {
          "size": 5,
          "symbol": "circle"
         },
         "mode": "markers+lines",
         "name": "-16",
         "showlegend": true,
         "type": "scattergl",
         "x": [
          0,
          1,
          2,
          3,
          4,
          5,
          6,
          7,
          8,
          9,
          10,
          11,
          12,
          13,
          14,
          15,
          16
         ],
         "xaxis": "x",
         "y": [
          0,
          0,
          0,
          0,
          0,
          0.12,
          0.12,
          0.24,
          0.48,
          0.61,
          0.73,
          1.21,
          1.21,
          1.33,
          1.33,
          1.33,
          1.33
         ],
         "yaxis": "y"
        },
        {
         "hovertemplate": "opening_month=-15<br>month_on_book=%{x}<br>due_rate=%{y}<extra></extra>",
         "legendgroup": "-15",
         "line": {
          "color": "#19d3f3",
          "dash": "solid"
         },
         "marker": {
          "size": 5,
          "symbol": "circle"
         },
         "mode": "markers+lines",
         "name": "-15",
         "showlegend": true,
         "type": "scattergl",
         "x": [
          0,
          1,
          2,
          3,
          4,
          5,
          6,
          7,
          8,
          9,
          10,
          11,
          12,
          13,
          14,
          15
         ],
         "xaxis": "x",
         "y": [
          0,
          0,
          0.13,
          0.25,
          0.38,
          0.51,
          0.63,
          1.01,
          1.01,
          1.14,
          1.27,
          1.27,
          1.27,
          1.27,
          1.27,
          1.27
         ],
         "yaxis": "y"
        },
        {
         "hovertemplate": "opening_month=-14<br>month_on_book=%{x}<br>due_rate=%{y}<extra></extra>",
         "legendgroup": "-14",
         "line": {
          "color": "#FF6692",
          "dash": "solid"
         },
         "marker": {
          "size": 5,
          "symbol": "circle"
         },
         "mode": "markers+lines",
         "name": "-14",
         "showlegend": true,
         "type": "scattergl",
         "x": [
          0,
          1,
          2,
          3,
          4,
          5,
          6,
          7,
          8,
          9,
          10,
          11,
          12,
          13,
          14
         ],
         "xaxis": "x",
         "y": [
          0,
          0,
          0,
          0.25,
          0.25,
          0.63,
          0.63,
          0.63,
          0.89,
          0.89,
          0.89,
          1.14,
          1.14,
          1.14,
          1.27
         ],
         "yaxis": "y"
        },
        {
         "hovertemplate": "opening_month=-13<br>month_on_book=%{x}<br>due_rate=%{y}<extra></extra>",
         "legendgroup": "-13",
         "line": {
          "color": "#B6E880",
          "dash": "solid"
         },
         "marker": {
          "size": 5,
          "symbol": "circle"
         },
         "mode": "markers+lines",
         "name": "-13",
         "showlegend": true,
         "type": "scattergl",
         "x": [
          0,
          1,
          2,
          3,
          4,
          5,
          6,
          7,
          8,
          9,
          10,
          11,
          12,
          13
         ],
         "xaxis": "x",
         "y": [
          0,
          0,
          0,
          0.23,
          0.47,
          0.47,
          0.47,
          0.58,
          0.58,
          0.7,
          0.93,
          1.05,
          1.05,
          1.17
         ],
         "yaxis": "y"
        },
        {
         "hovertemplate": "opening_month=-12<br>month_on_book=%{x}<br>due_rate=%{y}<extra></extra>",
         "legendgroup": "-12",
         "line": {
          "color": "#FF97FF",
          "dash": "solid"
         },
         "marker": {
          "size": 5,
          "symbol": "circle"
         },
         "mode": "markers+lines",
         "name": "-12",
         "showlegend": true,
         "type": "scattergl",
         "x": [
          0,
          1,
          2,
          3,
          4,
          5,
          6,
          7,
          8,
          9,
          10,
          11,
          12
         ],
         "xaxis": "x",
         "y": [
          0,
          0.12,
          0.23,
          0.35,
          0.35,
          0.35,
          0.47,
          0.93,
          0.93,
          0.93,
          0.93,
          0.93,
          0.93
         ],
         "yaxis": "y"
        }
       ],
       "layout": {
        "legend": {
         "title": {
          "text": "opening_month"
         },
         "tracegroupgap": 0
        },
        "margin": {
         "t": 60
        },
        "template": {
         "data": {
          "bar": [
           {
            "error_x": {
             "color": "#2a3f5f"
            },
            "error_y": {
             "color": "#2a3f5f"
            },
            "marker": {
             "line": {
              "color": "#E5ECF6",
              "width": 0.5
             },
             "pattern": {
              "fillmode": "overlay",
              "size": 10,
              "solidity": 0.2
             }
            },
            "type": "bar"
           }
          ],
          "barpolar": [
           {
            "marker": {
             "line": {
              "color": "#E5ECF6",
              "width": 0.5
             },
             "pattern": {
              "fillmode": "overlay",
              "size": 10,
              "solidity": 0.2
             }
            },
            "type": "barpolar"
           }
          ],
          "carpet": [
           {
            "aaxis": {
             "endlinecolor": "#2a3f5f",
             "gridcolor": "white",
             "linecolor": "white",
             "minorgridcolor": "white",
             "startlinecolor": "#2a3f5f"
            },
            "baxis": {
             "endlinecolor": "#2a3f5f",
             "gridcolor": "white",
             "linecolor": "white",
             "minorgridcolor": "white",
             "startlinecolor": "#2a3f5f"
            },
            "type": "carpet"
           }
          ],
          "choropleth": [
           {
            "colorbar": {
             "outlinewidth": 0,
             "ticks": ""
            },
            "type": "choropleth"
           }
          ],
          "contour": [
           {
            "colorbar": {
             "outlinewidth": 0,
             "ticks": ""
            },
            "colorscale": [
             [
              0,
              "#0d0887"
             ],
             [
              0.1111111111111111,
              "#46039f"
             ],
             [
              0.2222222222222222,
              "#7201a8"
             ],
             [
              0.3333333333333333,
              "#9c179e"
             ],
             [
              0.4444444444444444,
              "#bd3786"
             ],
             [
              0.5555555555555556,
              "#d8576b"
             ],
             [
              0.6666666666666666,
              "#ed7953"
             ],
             [
              0.7777777777777778,
              "#fb9f3a"
             ],
             [
              0.8888888888888888,
              "#fdca26"
             ],
             [
              1,
              "#f0f921"
             ]
            ],
            "type": "contour"
           }
          ],
          "contourcarpet": [
           {
            "colorbar": {
             "outlinewidth": 0,
             "ticks": ""
            },
            "type": "contourcarpet"
           }
          ],
          "heatmap": [
           {
            "colorbar": {
             "outlinewidth": 0,
             "ticks": ""
            },
            "colorscale": [
             [
              0,
              "#0d0887"
             ],
             [
              0.1111111111111111,
              "#46039f"
             ],
             [
              0.2222222222222222,
              "#7201a8"
             ],
             [
              0.3333333333333333,
              "#9c179e"
             ],
             [
              0.4444444444444444,
              "#bd3786"
             ],
             [
              0.5555555555555556,
              "#d8576b"
             ],
             [
              0.6666666666666666,
              "#ed7953"
             ],
             [
              0.7777777777777778,
              "#fb9f3a"
             ],
             [
              0.8888888888888888,
              "#fdca26"
             ],
             [
              1,
              "#f0f921"
             ]
            ],
            "type": "heatmap"
           }
          ],
          "heatmapgl": [
           {
            "colorbar": {
             "outlinewidth": 0,
             "ticks": ""
            },
            "colorscale": [
             [
              0,
              "#0d0887"
             ],
             [
              0.1111111111111111,
              "#46039f"
             ],
             [
              0.2222222222222222,
              "#7201a8"
             ],
             [
              0.3333333333333333,
              "#9c179e"
             ],
             [
              0.4444444444444444,
              "#bd3786"
             ],
             [
              0.5555555555555556,
              "#d8576b"
             ],
             [
              0.6666666666666666,
              "#ed7953"
             ],
             [
              0.7777777777777778,
              "#fb9f3a"
             ],
             [
              0.8888888888888888,
              "#fdca26"
             ],
             [
              1,
              "#f0f921"
             ]
            ],
            "type": "heatmapgl"
           }
          ],
          "histogram": [
           {
            "marker": {
             "pattern": {
              "fillmode": "overlay",
              "size": 10,
              "solidity": 0.2
             }
            },
            "type": "histogram"
           }
          ],
          "histogram2d": [
           {
            "colorbar": {
             "outlinewidth": 0,
             "ticks": ""
            },
            "colorscale": [
             [
              0,
              "#0d0887"
             ],
             [
              0.1111111111111111,
              "#46039f"
             ],
             [
              0.2222222222222222,
              "#7201a8"
             ],
             [
              0.3333333333333333,
              "#9c179e"
             ],
             [
              0.4444444444444444,
              "#bd3786"
             ],
             [
              0.5555555555555556,
              "#d8576b"
             ],
             [
              0.6666666666666666,
              "#ed7953"
             ],
             [
              0.7777777777777778,
              "#fb9f3a"
             ],
             [
              0.8888888888888888,
              "#fdca26"
             ],
             [
              1,
              "#f0f921"
             ]
            ],
            "type": "histogram2d"
           }
          ],
          "histogram2dcontour": [
           {
            "colorbar": {
             "outlinewidth": 0,
             "ticks": ""
            },
            "colorscale": [
             [
              0,
              "#0d0887"
             ],
             [
              0.1111111111111111,
              "#46039f"
             ],
             [
              0.2222222222222222,
              "#7201a8"
             ],
             [
              0.3333333333333333,
              "#9c179e"
             ],
             [
              0.4444444444444444,
              "#bd3786"
             ],
             [
              0.5555555555555556,
              "#d8576b"
             ],
             [
              0.6666666666666666,
              "#ed7953"
             ],
             [
              0.7777777777777778,
              "#fb9f3a"
             ],
             [
              0.8888888888888888,
              "#fdca26"
             ],
             [
              1,
              "#f0f921"
             ]
            ],
            "type": "histogram2dcontour"
           }
          ],
          "mesh3d": [
           {
            "colorbar": {
             "outlinewidth": 0,
             "ticks": ""
            },
            "type": "mesh3d"
           }
          ],
          "parcoords": [
           {
            "line": {
             "colorbar": {
              "outlinewidth": 0,
              "ticks": ""
             }
            },
            "type": "parcoords"
           }
          ],
          "pie": [
           {
            "automargin": true,
            "type": "pie"
           }
          ],
          "scatter": [
           {
            "fillpattern": {
             "fillmode": "overlay",
             "size": 10,
             "solidity": 0.2
            },
            "type": "scatter"
           }
          ],
          "scatter3d": [
           {
            "line": {
             "colorbar": {
              "outlinewidth": 0,
              "ticks": ""
             }
            },
            "marker": {
             "colorbar": {
              "outlinewidth": 0,
              "ticks": ""
             }
            },
            "type": "scatter3d"
           }
          ],
          "scattercarpet": [
           {
            "marker": {
             "colorbar": {
              "outlinewidth": 0,
              "ticks": ""
             }
            },
            "type": "scattercarpet"
           }
          ],
          "scattergeo": [
           {
            "marker": {
             "colorbar": {
              "outlinewidth": 0,
              "ticks": ""
             }
            },
            "type": "scattergeo"
           }
          ],
          "scattergl": [
           {
            "marker": {
             "colorbar": {
              "outlinewidth": 0,
              "ticks": ""
             }
            },
            "type": "scattergl"
           }
          ],
          "scattermapbox": [
           {
            "marker": {
             "colorbar": {
              "outlinewidth": 0,
              "ticks": ""
             }
            },
            "type": "scattermapbox"
           }
          ],
          "scatterpolar": [
           {
            "marker": {
             "colorbar": {
              "outlinewidth": 0,
              "ticks": ""
             }
            },
            "type": "scatterpolar"
           }
          ],
          "scatterpolargl": [
           {
            "marker": {
             "colorbar": {
              "outlinewidth": 0,
              "ticks": ""
             }
            },
            "type": "scatterpolargl"
           }
          ],
          "scatterternary": [
           {
            "marker": {
             "colorbar": {
              "outlinewidth": 0,
              "ticks": ""
             }
            },
            "type": "scatterternary"
           }
          ],
          "surface": [
           {
            "colorbar": {
             "outlinewidth": 0,
             "ticks": ""
            },
            "colorscale": [
             [
              0,
              "#0d0887"
             ],
             [
              0.1111111111111111,
              "#46039f"
             ],
             [
              0.2222222222222222,
              "#7201a8"
             ],
             [
              0.3333333333333333,
              "#9c179e"
             ],
             [
              0.4444444444444444,
              "#bd3786"
             ],
             [
              0.5555555555555556,
              "#d8576b"
             ],
             [
              0.6666666666666666,
              "#ed7953"
             ],
             [
              0.7777777777777778,
              "#fb9f3a"
             ],
             [
              0.8888888888888888,
              "#fdca26"
             ],
             [
              1,
              "#f0f921"
             ]
            ],
            "type": "surface"
           }
          ],
          "table": [
           {
            "cells": {
             "fill": {
              "color": "#EBF0F8"
             },
             "line": {
              "color": "white"
             }
            },
            "header": {
             "fill": {
              "color": "#C8D4E3"
             },
             "line": {
              "color": "white"
             }
            },
            "type": "table"
           }
          ]
         },
         "layout": {
          "annotationdefaults": {
           "arrowcolor": "#2a3f5f",
           "arrowhead": 0,
           "arrowwidth": 1
          },
          "autotypenumbers": "strict",
          "coloraxis": {
           "colorbar": {
            "outlinewidth": 0,
            "ticks": ""
           }
          },
          "colorscale": {
           "diverging": [
            [
             0,
             "#8e0152"
            ],
            [
             0.1,
             "#c51b7d"
            ],
            [
             0.2,
             "#de77ae"
            ],
            [
             0.3,
             "#f1b6da"
            ],
            [
             0.4,
             "#fde0ef"
            ],
            [
             0.5,
             "#f7f7f7"
            ],
            [
             0.6,
             "#e6f5d0"
            ],
            [
             0.7,
             "#b8e186"
            ],
            [
             0.8,
             "#7fbc41"
            ],
            [
             0.9,
             "#4d9221"
            ],
            [
             1,
             "#276419"
            ]
           ],
           "sequential": [
            [
             0,
             "#0d0887"
            ],
            [
             0.1111111111111111,
             "#46039f"
            ],
            [
             0.2222222222222222,
             "#7201a8"
            ],
            [
             0.3333333333333333,
             "#9c179e"
            ],
            [
             0.4444444444444444,
             "#bd3786"
            ],
            [
             0.5555555555555556,
             "#d8576b"
            ],
            [
             0.6666666666666666,
             "#ed7953"
            ],
            [
             0.7777777777777778,
             "#fb9f3a"
            ],
            [
             0.8888888888888888,
             "#fdca26"
            ],
            [
             1,
             "#f0f921"
            ]
           ],
           "sequentialminus": [
            [
             0,
             "#0d0887"
            ],
            [
             0.1111111111111111,
             "#46039f"
            ],
            [
             0.2222222222222222,
             "#7201a8"
            ],
            [
             0.3333333333333333,
             "#9c179e"
            ],
            [
             0.4444444444444444,
             "#bd3786"
            ],
            [
             0.5555555555555556,
             "#d8576b"
            ],
            [
             0.6666666666666666,
             "#ed7953"
            ],
            [
             0.7777777777777778,
             "#fb9f3a"
            ],
            [
             0.8888888888888888,
             "#fdca26"
            ],
            [
             1,
             "#f0f921"
            ]
           ]
          },
          "colorway": [
           "#636efa",
           "#EF553B",
           "#00cc96",
           "#ab63fa",
           "#FFA15A",
           "#19d3f3",
           "#FF6692",
           "#B6E880",
           "#FF97FF",
           "#FECB52"
          ],
          "font": {
           "color": "#2a3f5f"
          },
          "geo": {
           "bgcolor": "white",
           "lakecolor": "white",
           "landcolor": "#E5ECF6",
           "showlakes": true,
           "showland": true,
           "subunitcolor": "white"
          },
          "hoverlabel": {
           "align": "left"
          },
          "hovermode": "closest",
          "mapbox": {
           "style": "light"
          },
          "paper_bgcolor": "white",
          "plot_bgcolor": "#E5ECF6",
          "polar": {
           "angularaxis": {
            "gridcolor": "white",
            "linecolor": "white",
            "ticks": ""
           },
           "bgcolor": "#E5ECF6",
           "radialaxis": {
            "gridcolor": "white",
            "linecolor": "white",
            "ticks": ""
           }
          },
          "scene": {
           "xaxis": {
            "backgroundcolor": "#E5ECF6",
            "gridcolor": "white",
            "gridwidth": 2,
            "linecolor": "white",
            "showbackground": true,
            "ticks": "",
            "zerolinecolor": "white"
           },
           "yaxis": {
            "backgroundcolor": "#E5ECF6",
            "gridcolor": "white",
            "gridwidth": 2,
            "linecolor": "white",
            "showbackground": true,
            "ticks": "",
            "zerolinecolor": "white"
           },
           "zaxis": {
            "backgroundcolor": "#E5ECF6",
            "gridcolor": "white",
            "gridwidth": 2,
            "linecolor": "white",
            "showbackground": true,
            "ticks": "",
            "zerolinecolor": "white"
           }
          },
          "shapedefaults": {
           "line": {
            "color": "#2a3f5f"
           }
          },
          "ternary": {
           "aaxis": {
            "gridcolor": "white",
            "linecolor": "white",
            "ticks": ""
           },
           "baxis": {
            "gridcolor": "white",
            "linecolor": "white",
            "ticks": ""
           },
           "bgcolor": "#E5ECF6",
           "caxis": {
            "gridcolor": "white",
            "linecolor": "white",
            "ticks": ""
           }
          },
          "title": {
           "x": 0.05
          },
          "xaxis": {
           "automargin": true,
           "gridcolor": "white",
           "linecolor": "white",
           "ticks": "",
           "title": {
            "standoff": 15
           },
           "zerolinecolor": "white",
           "zerolinewidth": 2
          },
          "yaxis": {
           "automargin": true,
           "gridcolor": "white",
           "linecolor": "white",
           "ticks": "",
           "title": {
            "standoff": 15
           },
           "zerolinecolor": "white",
           "zerolinewidth": 2
          }
         }
        },
        "title": {
         "text": "Porcentaje acumulado de clientes morosos (> 60 días de atraso)"
        },
        "xaxis": {
         "anchor": "y",
         "domain": [
          0,
          1
         ],
         "title": {
          "text": "month_on_book"
         }
        },
        "yaxis": {
         "anchor": "x",
         "domain": [
          0,
          1
         ],
         "title": {
          "text": "due_rate"
         }
        }
       }
      },
      "text/html": [
       "<div>                            <div id=\"6b24f7dd-c221-4772-8011-594732d963f1\" class=\"plotly-graph-div\" style=\"height:525px; width:100%;\"></div>            <script type=\"text/javascript\">                require([\"plotly\"], function(Plotly) {                    window.PLOTLYENV=window.PLOTLYENV || {};                                    if (document.getElementById(\"6b24f7dd-c221-4772-8011-594732d963f1\")) {                    Plotly.newPlot(                        \"6b24f7dd-c221-4772-8011-594732d963f1\",                        [{\"hovertemplate\":\"opening_month=-60<br>month_on_book=%{x}<br>due_rate=%{y}<extra></extra>\",\"legendgroup\":\"-60\",\"line\":{\"color\":\"#636efa\",\"dash\":\"solid\"},\"marker\":{\"symbol\":\"circle\",\"size\":5},\"mode\":\"markers+lines\",\"name\":\"-60\",\"showlegend\":true,\"x\":[0,1,2,3,4,5,6,7,8,9,10,11,12,13,14,15,16,17,18,19,20,21,22,23,24,25,26,27,28,29,30,31,32,33,34,35,36,37,38,39,40,41,42,43,44,45,46,47,48,49,50,51,52,53,54,55,56,57,58,59,60],\"xaxis\":\"x\",\"y\":[0.0,0.0,0.0,0.0,0.0,0.27,0.27,0.81,0.81,1.08,1.08,1.35,1.62,1.89,1.89,1.89,1.89,1.89,1.89,1.89,1.89,2.16,2.16,2.16,2.16,2.43,2.43,2.43,2.43,2.7,2.97,2.97,2.97,2.97,2.97,2.97,2.97,2.97,2.97,2.97,2.97,2.97,2.97,2.97,2.97,2.97,2.97,2.97,2.97,2.97,3.24,3.24,3.24,3.24,3.24,3.24,3.24,3.24,3.51,3.51,3.51],\"yaxis\":\"y\",\"type\":\"scattergl\"},{\"hovertemplate\":\"opening_month=-59<br>month_on_book=%{x}<br>due_rate=%{y}<extra></extra>\",\"legendgroup\":\"-59\",\"line\":{\"color\":\"#EF553B\",\"dash\":\"solid\"},\"marker\":{\"symbol\":\"circle\",\"size\":5},\"mode\":\"markers+lines\",\"name\":\"-59\",\"showlegend\":true,\"x\":[0,1,2,3,4,5,6,7,8,9,10,11,12,13,14,15,16,17,18,19,20,21,22,23,24,25,26,27,28,29,30,31,32,33,34,35,36,37,38,39,40,41,42,43,44,45,46,47,48,49,50,51,52,53,54,55,56,57,58,59],\"xaxis\":\"x\",\"y\":[0.0,0.0,0.0,0.54,0.54,0.54,0.81,0.81,0.81,1.36,1.36,2.17,2.17,2.17,2.17,2.17,2.17,2.17,2.44,2.71,2.71,2.98,2.98,2.98,2.98,3.25,3.25,3.25,3.25,3.25,3.25,3.25,3.25,3.25,3.25,3.25,3.25,3.25,3.25,3.25,3.25,3.25,3.25,3.25,3.25,3.25,3.25,3.25,3.25,3.25,3.25,3.25,3.25,3.25,3.52,3.52,3.52,3.52,3.52,3.52],\"yaxis\":\"y\",\"type\":\"scattergl\"},{\"hovertemplate\":\"opening_month=-58<br>month_on_book=%{x}<br>due_rate=%{y}<extra></extra>\",\"legendgroup\":\"-58\",\"line\":{\"color\":\"#00cc96\",\"dash\":\"solid\"},\"marker\":{\"symbol\":\"circle\",\"size\":5},\"mode\":\"markers+lines\",\"name\":\"-58\",\"showlegend\":true,\"x\":[0,1,2,3,4,5,6,7,8,9,10,11,12,13,14,15,16,17,18,19,20,21,22,23,24,25,26,27,28,29,30,31,32,33,34,35,36,37,38,39,40,41,42,43,44,45,46,47,48,49,50,51,52,53,54,55,56,57,58],\"xaxis\":\"x\",\"y\":[0.0,0.0,0.0,0.0,0.0,0.0,0.0,0.52,0.78,0.78,1.29,1.55,1.55,1.55,1.55,1.55,1.55,1.81,2.07,2.07,2.07,2.58,2.58,2.58,2.58,2.58,2.58,2.58,2.58,2.58,2.58,2.58,2.58,2.58,2.84,2.84,2.84,2.84,2.84,2.84,2.84,2.84,2.84,2.84,2.84,2.84,2.84,2.84,2.84,2.84,2.84,2.84,2.84,2.84,2.84,2.84,2.84,2.84,2.84],\"yaxis\":\"y\",\"type\":\"scattergl\"},{\"hovertemplate\":\"opening_month=-57<br>month_on_book=%{x}<br>due_rate=%{y}<extra></extra>\",\"legendgroup\":\"-57\",\"line\":{\"color\":\"#ab63fa\",\"dash\":\"solid\"},\"marker\":{\"symbol\":\"circle\",\"size\":5},\"mode\":\"markers+lines\",\"name\":\"-57\",\"showlegend\":true,\"x\":[0,1,2,3,4,5,6,7,8,9,10,11,12,13,14,15,16,17,18,19,20,21,22,23,24,25,26,27,28,29,30,31,32,33,34,35,36,37,38,39,40,41,42,43,44,45,46,47,48,49,50,51,52,53,54,55,56,57],\"xaxis\":\"x\",\"y\":[0.0,0.0,0.0,0.0,0.29,0.29,0.29,0.86,0.86,0.86,0.86,0.86,1.15,2.01,2.01,2.01,2.01,2.01,2.01,2.01,2.01,2.01,2.01,2.01,2.3,2.3,2.3,2.3,2.3,2.3,2.3,2.3,2.3,2.3,2.3,2.59,2.59,2.59,2.59,2.59,2.59,2.87,2.87,2.87,2.87,2.87,2.87,2.87,2.87,2.87,2.87,2.87,2.87,2.87,2.87,2.87,2.87,2.87],\"yaxis\":\"y\",\"type\":\"scattergl\"},{\"hovertemplate\":\"opening_month=-56<br>month_on_book=%{x}<br>due_rate=%{y}<extra></extra>\",\"legendgroup\":\"-56\",\"line\":{\"color\":\"#FFA15A\",\"dash\":\"solid\"},\"marker\":{\"symbol\":\"circle\",\"size\":5},\"mode\":\"markers+lines\",\"name\":\"-56\",\"showlegend\":true,\"x\":[0,1,2,3,4,5,6,7,8,9,10,11,12,13,14,15,16,17,18,19,20,21,22,23,24,25,26,27,28,29,30,31,32,33,34,35,36,37,38,39,40,41,42,43,44,45,46,47,48,49,50,51,52,53,54,55,56],\"xaxis\":\"x\",\"y\":[0.0,0.0,0.47,0.47,0.93,1.17,1.17,1.87,1.87,2.34,2.34,2.8,3.27,3.74,3.74,3.74,3.74,3.74,3.74,3.74,3.74,3.74,3.74,3.74,3.74,3.74,3.74,3.74,3.74,3.74,3.74,3.74,3.74,3.74,3.74,3.74,3.74,3.74,3.74,3.74,3.74,3.74,3.74,3.74,3.74,3.74,3.74,3.74,3.74,3.74,3.74,3.97,3.97,3.97,3.97,4.21,4.21],\"yaxis\":\"y\",\"type\":\"scattergl\"},{\"hovertemplate\":\"opening_month=-55<br>month_on_book=%{x}<br>due_rate=%{y}<extra></extra>\",\"legendgroup\":\"-55\",\"line\":{\"color\":\"#19d3f3\",\"dash\":\"solid\"},\"marker\":{\"symbol\":\"circle\",\"size\":5},\"mode\":\"markers+lines\",\"name\":\"-55\",\"showlegend\":true,\"x\":[0,1,2,3,4,5,6,7,8,9,10,11,12,13,14,15,16,17,18,19,20,21,22,23,24,25,26,27,28,29,30,31,32,33,34,35,36,37,38,39,40,41,42,43,44,45,46,47,48,49,50,51,52,53,54,55],\"xaxis\":\"x\",\"y\":[0.0,0.0,0.45,0.91,1.59,2.04,2.72,2.72,2.72,2.95,2.95,2.95,3.17,3.85,4.08,4.31,4.54,4.54,4.54,4.54,4.54,4.54,4.54,4.54,4.54,4.54,4.76,4.76,4.76,4.76,4.76,4.76,4.76,4.99,4.99,4.99,4.99,4.99,4.99,5.22,5.22,5.22,5.22,5.22,5.22,5.22,5.22,5.22,5.22,5.22,5.22,5.22,5.22,5.22,5.22,5.22],\"yaxis\":\"y\",\"type\":\"scattergl\"},{\"hovertemplate\":\"opening_month=-54<br>month_on_book=%{x}<br>due_rate=%{y}<extra></extra>\",\"legendgroup\":\"-54\",\"line\":{\"color\":\"#FF6692\",\"dash\":\"solid\"},\"marker\":{\"symbol\":\"circle\",\"size\":5},\"mode\":\"markers+lines\",\"name\":\"-54\",\"showlegend\":true,\"x\":[0,1,2,3,4,5,6,7,8,9,10,11,12,13,14,15,16,17,18,19,20,21,22,23,24,25,26,27,28,29,30,31,32,33,34,35,36,37,38,39,40,41,42,43,44,45,46,47,48,49,50,51,52,53,54],\"xaxis\":\"x\",\"y\":[0.0,0.0,0.0,0.24,0.49,0.49,0.73,1.46,1.46,1.95,2.19,2.19,2.68,3.16,3.16,3.41,3.41,3.65,3.65,3.65,3.65,3.65,3.65,3.65,3.65,3.65,3.65,3.65,3.65,3.65,3.65,3.65,3.65,3.65,3.65,3.65,3.65,3.65,3.65,3.65,3.65,3.65,3.65,3.65,3.65,3.65,3.65,3.65,3.65,3.65,3.65,3.65,3.65,3.65,3.65],\"yaxis\":\"y\",\"type\":\"scattergl\"},{\"hovertemplate\":\"opening_month=-53<br>month_on_book=%{x}<br>due_rate=%{y}<extra></extra>\",\"legendgroup\":\"-53\",\"line\":{\"color\":\"#B6E880\",\"dash\":\"solid\"},\"marker\":{\"symbol\":\"circle\",\"size\":5},\"mode\":\"markers+lines\",\"name\":\"-53\",\"showlegend\":true,\"x\":[0,1,2,3,4,5,6,7,8,9,10,11,12,13,14,15,16,17,18,19,20,21,22,23,24,25,26,27,28,29,30,31,32,33,34,35,36,37,38,39,40,41,42,43,44,45,46,47,48,49,50,51,52,53],\"xaxis\":\"x\",\"y\":[0.0,0.46,0.46,0.46,0.68,0.68,1.14,1.37,1.37,1.59,1.82,1.82,1.82,1.82,1.82,1.82,1.82,1.82,2.05,2.05,2.05,2.05,2.05,2.05,2.05,2.05,2.51,2.51,2.51,2.51,2.51,2.51,2.51,2.51,2.96,2.96,2.96,2.96,2.96,2.96,2.96,2.96,2.96,2.96,2.96,2.96,2.96,3.19,3.42,3.42,3.42,3.42,3.42,3.42],\"yaxis\":\"y\",\"type\":\"scattergl\"},{\"hovertemplate\":\"opening_month=-52<br>month_on_book=%{x}<br>due_rate=%{y}<extra></extra>\",\"legendgroup\":\"-52\",\"line\":{\"color\":\"#FF97FF\",\"dash\":\"solid\"},\"marker\":{\"symbol\":\"circle\",\"size\":5},\"mode\":\"markers+lines\",\"name\":\"-52\",\"showlegend\":true,\"x\":[0,1,2,3,4,5,6,7,8,9,10,11,12,13,14,15,16,17,18,19,20,21,22,23,24,25,26,27,28,29,30,31,32,33,34,35,36,37,38,39,40,41,42,43,44,45,46,47,48,49,50,51,52],\"xaxis\":\"x\",\"y\":[0.0,0.0,0.83,1.03,1.03,1.03,1.45,1.45,1.65,1.86,1.86,1.86,2.07,2.07,2.07,2.27,2.27,2.48,2.48,2.48,2.48,2.48,2.48,2.48,2.48,2.48,2.48,2.48,2.48,2.48,2.48,2.48,2.48,2.48,2.48,2.48,2.48,2.69,2.69,2.69,2.69,2.69,2.69,2.69,2.69,2.69,2.69,2.69,2.69,2.69,2.69,2.69,2.69],\"yaxis\":\"y\",\"type\":\"scattergl\"},{\"hovertemplate\":\"opening_month=-51<br>month_on_book=%{x}<br>due_rate=%{y}<extra></extra>\",\"legendgroup\":\"-51\",\"line\":{\"color\":\"#FECB52\",\"dash\":\"solid\"},\"marker\":{\"symbol\":\"circle\",\"size\":5},\"mode\":\"markers+lines\",\"name\":\"-51\",\"showlegend\":true,\"x\":[0,1,2,3,4,5,6,7,8,9,10,11,12,13,14,15,16,17,18,19,20,21,22,23,24,25,26,27,28,29,30,31,32,33,34,35,36,37,38,39,40,41,42,43,44,45,46,47,48,49,50,51],\"xaxis\":\"x\",\"y\":[0.0,0.19,0.19,0.39,0.39,0.97,1.17,1.56,1.56,1.75,1.75,2.14,2.14,2.14,2.14,2.14,2.14,2.14,2.14,2.14,2.14,2.14,2.14,2.14,2.14,2.14,2.14,2.14,2.14,2.14,2.34,2.34,2.34,2.34,2.34,2.34,2.34,2.34,2.34,2.34,2.34,2.34,2.34,2.34,2.34,2.34,2.34,2.34,2.34,2.34,2.34,2.34],\"yaxis\":\"y\",\"type\":\"scattergl\"},{\"hovertemplate\":\"opening_month=-50<br>month_on_book=%{x}<br>due_rate=%{y}<extra></extra>\",\"legendgroup\":\"-50\",\"line\":{\"color\":\"#636efa\",\"dash\":\"solid\"},\"marker\":{\"symbol\":\"circle\",\"size\":5},\"mode\":\"markers+lines\",\"name\":\"-50\",\"showlegend\":true,\"x\":[0,1,2,3,4,5,6,7,8,9,10,11,12,13,14,15,16,17,18,19,20,21,22,23,24,25,26,27,28,29,30,31,32,33,34,35,36,37,38,39,40,41,42,43,44,45,46,47,48,49,50],\"xaxis\":\"x\",\"y\":[0.0,0.0,0.2,0.41,0.82,0.82,0.82,0.82,0.82,1.02,1.02,1.02,1.02,1.02,1.02,1.23,1.23,1.23,1.23,1.23,1.23,1.23,1.23,1.23,1.23,1.43,1.43,1.43,1.43,1.43,1.43,1.43,1.43,1.43,1.84,1.84,1.84,1.84,1.84,1.84,1.84,1.84,1.84,1.84,1.84,1.84,1.84,1.84,1.84,1.84,1.84],\"yaxis\":\"y\",\"type\":\"scattergl\"},{\"hovertemplate\":\"opening_month=-49<br>month_on_book=%{x}<br>due_rate=%{y}<extra></extra>\",\"legendgroup\":\"-49\",\"line\":{\"color\":\"#EF553B\",\"dash\":\"solid\"},\"marker\":{\"symbol\":\"circle\",\"size\":5},\"mode\":\"markers+lines\",\"name\":\"-49\",\"showlegend\":true,\"x\":[0,1,2,3,4,5,6,7,8,9,10,11,12,13,14,15,16,17,18,19,20,21,22,23,24,25,26,27,28,29,30,31,32,33,34,35,36,37,38,39,40,41,42,43,44,45,46,47,48,49],\"xaxis\":\"x\",\"y\":[0.0,0.0,0.0,0.0,0.6,0.6,0.6,0.81,0.81,1.01,1.21,1.21,1.21,1.21,1.21,1.61,1.61,1.61,1.61,1.61,1.61,1.61,1.61,1.61,1.61,1.81,1.81,1.81,1.81,1.81,1.81,1.81,1.81,1.81,1.81,1.81,1.81,1.81,2.02,2.02,2.02,2.02,2.02,2.02,2.02,2.02,2.02,2.02,2.02,2.02],\"yaxis\":\"y\",\"type\":\"scattergl\"},{\"hovertemplate\":\"opening_month=-48<br>month_on_book=%{x}<br>due_rate=%{y}<extra></extra>\",\"legendgroup\":\"-48\",\"line\":{\"color\":\"#00cc96\",\"dash\":\"solid\"},\"marker\":{\"symbol\":\"circle\",\"size\":5},\"mode\":\"markers+lines\",\"name\":\"-48\",\"showlegend\":true,\"x\":[0,1,2,3,4,5,6,7,8,9,10,11,12,13,14,15,16,17,18,19,20,21,22,23,24,25,26,27,28,29,30,31,32,33,34,35,36,37,38,39,40,41,42,43,44,45,46,47,48],\"xaxis\":\"x\",\"y\":[0.0,0.0,0.0,0.19,0.58,0.77,0.96,1.16,1.35,1.35,1.73,1.93,1.93,1.93,2.12,2.31,2.31,2.5,2.5,2.5,2.7,2.89,2.89,2.89,2.89,2.89,2.89,2.89,2.89,2.89,2.89,2.89,2.89,2.89,2.89,2.89,2.89,2.89,2.89,2.89,2.89,2.89,2.89,3.08,3.08,3.08,3.08,3.08,3.08],\"yaxis\":\"y\",\"type\":\"scattergl\"},{\"hovertemplate\":\"opening_month=-47<br>month_on_book=%{x}<br>due_rate=%{y}<extra></extra>\",\"legendgroup\":\"-47\",\"line\":{\"color\":\"#ab63fa\",\"dash\":\"solid\"},\"marker\":{\"symbol\":\"circle\",\"size\":5},\"mode\":\"markers+lines\",\"name\":\"-47\",\"showlegend\":true,\"x\":[0,1,2,3,4,5,6,7,8,9,10,11,12,13,14,15,16,17,18,19,20,21,22,23,24,25,26,27,28,29,30,31,32,33,34,35,36,37,38,39,40,41,42,43,44,45,46,47],\"xaxis\":\"x\",\"y\":[0.0,0.0,0.0,0.37,0.56,0.56,1.5,1.5,1.5,1.87,1.87,1.87,1.87,2.06,2.06,2.06,2.06,2.06,2.06,2.62,2.62,2.62,2.81,2.81,3.0,3.0,3.0,3.0,3.0,3.18,3.18,3.18,3.18,3.18,3.18,3.18,3.18,3.18,3.18,3.18,3.18,3.18,3.18,3.18,3.18,3.18,3.18,3.18],\"yaxis\":\"y\",\"type\":\"scattergl\"},{\"hovertemplate\":\"opening_month=-46<br>month_on_book=%{x}<br>due_rate=%{y}<extra></extra>\",\"legendgroup\":\"-46\",\"line\":{\"color\":\"#FFA15A\",\"dash\":\"solid\"},\"marker\":{\"symbol\":\"circle\",\"size\":5},\"mode\":\"markers+lines\",\"name\":\"-46\",\"showlegend\":true,\"x\":[0,1,2,3,4,5,6,7,8,9,10,11,12,13,14,15,16,17,18,19,20,21,22,23,24,25,26,27,28,29,30,31,32,33,34,35,36,37,38,39,40,41,42,43,44,45,46],\"xaxis\":\"x\",\"y\":[0.0,0.0,0.0,0.19,0.39,0.58,0.78,1.36,1.36,1.36,1.56,1.56,1.95,2.14,2.14,2.33,2.33,2.33,2.33,2.33,2.33,2.33,2.33,2.33,2.33,2.33,2.33,2.33,2.33,2.33,2.33,2.33,2.33,2.33,2.33,2.33,2.33,2.33,2.33,2.33,2.33,2.33,2.33,2.33,2.33,2.33,2.33],\"yaxis\":\"y\",\"type\":\"scattergl\"},{\"hovertemplate\":\"opening_month=-45<br>month_on_book=%{x}<br>due_rate=%{y}<extra></extra>\",\"legendgroup\":\"-45\",\"line\":{\"color\":\"#19d3f3\",\"dash\":\"solid\"},\"marker\":{\"symbol\":\"circle\",\"size\":5},\"mode\":\"markers+lines\",\"name\":\"-45\",\"showlegend\":true,\"x\":[0,1,2,3,4,5,6,7,8,9,10,11,12,13,14,15,16,17,18,19,20,21,22,23,24,25,26,27,28,29,30,31,32,33,34,35,36,37,38,39,40,41,42,43,44,45],\"xaxis\":\"x\",\"y\":[0.0,0.0,0.0,0.18,0.55,0.73,0.73,1.1,1.1,1.28,1.28,1.46,1.46,1.46,1.65,1.65,1.65,1.65,1.65,1.65,1.65,1.65,1.65,1.65,1.65,1.65,1.65,1.65,1.65,1.65,1.83,1.83,1.83,1.83,1.83,1.83,1.83,1.83,1.83,1.83,1.83,1.83,1.83,1.83,1.83,1.83],\"yaxis\":\"y\",\"type\":\"scattergl\"},{\"hovertemplate\":\"opening_month=-44<br>month_on_book=%{x}<br>due_rate=%{y}<extra></extra>\",\"legendgroup\":\"-44\",\"line\":{\"color\":\"#FF6692\",\"dash\":\"solid\"},\"marker\":{\"symbol\":\"circle\",\"size\":5},\"mode\":\"markers+lines\",\"name\":\"-44\",\"showlegend\":true,\"x\":[0,1,2,3,4,5,6,7,8,9,10,11,12,13,14,15,16,17,18,19,20,21,22,23,24,25,26,27,28,29,30,31,32,33,34,35,36,37,38,39,40,41,42,43,44],\"xaxis\":\"x\",\"y\":[0.0,0.19,0.38,0.56,0.56,0.75,0.94,1.31,1.31,1.31,1.5,1.69,1.69,1.69,1.69,1.69,1.69,1.69,1.69,1.88,1.88,1.88,2.06,2.06,2.06,2.06,2.06,2.06,2.06,2.06,2.06,2.06,2.06,2.06,2.25,2.25,2.25,2.25,2.25,2.25,2.25,2.25,2.25,2.25,2.25],\"yaxis\":\"y\",\"type\":\"scattergl\"},{\"hovertemplate\":\"opening_month=-43<br>month_on_book=%{x}<br>due_rate=%{y}<extra></extra>\",\"legendgroup\":\"-43\",\"line\":{\"color\":\"#B6E880\",\"dash\":\"solid\"},\"marker\":{\"symbol\":\"circle\",\"size\":5},\"mode\":\"markers+lines\",\"name\":\"-43\",\"showlegend\":true,\"x\":[0,1,2,3,4,5,6,7,8,9,10,11,12,13,14,15,16,17,18,19,20,21,22,23,24,25,26,27,28,29,30,31,32,33,34,35,36,37,38,39,40,41,42,43],\"xaxis\":\"x\",\"y\":[0.0,0.0,0.0,0.0,0.0,0.0,0.0,0.17,0.17,0.52,0.52,0.69,0.86,1.21,1.21,1.21,1.21,1.21,1.21,1.38,1.38,1.38,1.38,1.38,1.38,1.38,1.38,1.38,1.38,1.38,1.38,1.38,1.38,1.38,1.38,1.38,1.38,1.38,1.38,1.38,1.38,1.38,1.38,1.38],\"yaxis\":\"y\",\"type\":\"scattergl\"},{\"hovertemplate\":\"opening_month=-42<br>month_on_book=%{x}<br>due_rate=%{y}<extra></extra>\",\"legendgroup\":\"-42\",\"line\":{\"color\":\"#FF97FF\",\"dash\":\"solid\"},\"marker\":{\"symbol\":\"circle\",\"size\":5},\"mode\":\"markers+lines\",\"name\":\"-42\",\"showlegend\":true,\"x\":[0,1,2,3,4,5,6,7,8,9,10,11,12,13,14,15,16,17,18,19,20,21,22,23,24,25,26,27,28,29,30,31,32,33,34,35,36,37,38,39,40,41,42],\"xaxis\":\"x\",\"y\":[0.0,0.0,0.16,0.49,0.81,0.81,1.14,1.14,1.47,1.63,1.63,1.79,1.95,1.95,1.95,2.12,2.12,2.12,2.12,2.12,2.12,2.28,2.28,2.28,2.28,2.28,2.28,2.28,2.28,2.44,2.44,2.44,2.44,2.44,2.44,2.61,2.61,2.61,2.61,2.61,2.61,2.61,2.61],\"yaxis\":\"y\",\"type\":\"scattergl\"},{\"hovertemplate\":\"opening_month=-41<br>month_on_book=%{x}<br>due_rate=%{y}<extra></extra>\",\"legendgroup\":\"-41\",\"line\":{\"color\":\"#FECB52\",\"dash\":\"solid\"},\"marker\":{\"symbol\":\"circle\",\"size\":5},\"mode\":\"markers+lines\",\"name\":\"-41\",\"showlegend\":true,\"x\":[0,1,2,3,4,5,6,7,8,9,10,11,12,13,14,15,16,17,18,19,20,21,22,23,24,25,26,27,28,29,30,31,32,33,34,35,36,37,38,39,40,41],\"xaxis\":\"x\",\"y\":[0.0,0.0,0.0,0.16,0.97,0.97,1.13,1.29,1.45,1.62,1.78,1.94,2.26,2.26,2.26,2.26,2.26,2.26,2.26,2.26,2.26,2.42,2.42,2.42,2.42,2.58,2.58,2.58,2.58,2.58,2.58,2.58,2.58,2.58,2.58,2.58,2.58,2.58,2.58,2.58,2.58,2.58],\"yaxis\":\"y\",\"type\":\"scattergl\"},{\"hovertemplate\":\"opening_month=-40<br>month_on_book=%{x}<br>due_rate=%{y}<extra></extra>\",\"legendgroup\":\"-40\",\"line\":{\"color\":\"#636efa\",\"dash\":\"solid\"},\"marker\":{\"symbol\":\"circle\",\"size\":5},\"mode\":\"markers+lines\",\"name\":\"-40\",\"showlegend\":true,\"x\":[0,1,2,3,4,5,6,7,8,9,10,11,12,13,14,15,16,17,18,19,20,21,22,23,24,25,26,27,28,29,30,31,32,33,34,35,36,37,38,39,40],\"xaxis\":\"x\",\"y\":[0.0,0.0,0.31,0.31,0.78,0.93,1.09,1.09,1.09,1.4,1.56,1.56,1.71,2.02,2.02,2.02,2.02,2.02,2.02,2.34,2.34,2.34,2.34,2.34,2.34,2.34,2.34,2.49,2.65,2.65,2.65,2.65,2.65,2.65,2.96,2.96,2.96,2.96,2.96,2.96,2.96],\"yaxis\":\"y\",\"type\":\"scattergl\"},{\"hovertemplate\":\"opening_month=-39<br>month_on_book=%{x}<br>due_rate=%{y}<extra></extra>\",\"legendgroup\":\"-39\",\"line\":{\"color\":\"#EF553B\",\"dash\":\"solid\"},\"marker\":{\"symbol\":\"circle\",\"size\":5},\"mode\":\"markers+lines\",\"name\":\"-39\",\"showlegend\":true,\"x\":[0,1,2,3,4,5,6,7,8,9,10,11,12,13,14,15,16,17,18,19,20,21,22,23,24,25,26,27,28,29,30,31,32,33,34,35,36,37,38,39],\"xaxis\":\"x\",\"y\":[0.0,0.13,0.13,0.13,0.13,0.4,0.4,0.54,0.67,0.67,0.67,0.81,0.81,1.07,1.07,1.07,1.07,1.07,1.34,1.34,1.34,1.48,1.48,1.48,1.48,1.74,1.74,1.74,1.74,1.88,1.88,1.88,1.88,1.88,2.01,2.01,2.01,2.01,2.01,2.01],\"yaxis\":\"y\",\"type\":\"scattergl\"},{\"hovertemplate\":\"opening_month=-38<br>month_on_book=%{x}<br>due_rate=%{y}<extra></extra>\",\"legendgroup\":\"-38\",\"line\":{\"color\":\"#00cc96\",\"dash\":\"solid\"},\"marker\":{\"symbol\":\"circle\",\"size\":5},\"mode\":\"markers+lines\",\"name\":\"-38\",\"showlegend\":true,\"x\":[0,1,2,3,4,5,6,7,8,9,10,11,12,13,14,15,16,17,18,19,20,21,22,23,24,25,26,27,28,29,30,31,32,33,34,35,36,37,38],\"xaxis\":\"x\",\"y\":[0.15,0.15,0.15,0.15,0.3,0.3,0.3,0.45,0.61,0.76,0.91,0.91,1.06,1.06,1.06,1.06,1.06,1.21,1.21,1.21,1.21,1.21,1.21,1.21,1.36,1.51,1.51,1.51,1.51,1.66,1.66,1.66,1.66,1.66,1.66,1.66,1.66,1.66,1.66],\"yaxis\":\"y\",\"type\":\"scattergl\"},{\"hovertemplate\":\"opening_month=-37<br>month_on_book=%{x}<br>due_rate=%{y}<extra></extra>\",\"legendgroup\":\"-37\",\"line\":{\"color\":\"#ab63fa\",\"dash\":\"solid\"},\"marker\":{\"symbol\":\"circle\",\"size\":5},\"mode\":\"markers+lines\",\"name\":\"-37\",\"showlegend\":true,\"x\":[0,1,2,3,4,5,6,7,8,9,10,11,12,13,14,15,16,17,18,19,20,21,22,23,24,25,26,27,28,29,30,31,32,33,34,35,36,37],\"xaxis\":\"x\",\"y\":[0.0,0.0,0.0,0.0,0.15,0.15,0.31,0.93,0.93,1.08,1.54,1.7,1.7,1.85,1.85,2.01,2.01,2.01,2.31,2.31,2.31,2.47,2.47,2.47,2.62,2.62,2.62,2.62,2.78,2.78,2.78,2.78,2.78,2.93,2.93,2.93,2.93,2.93],\"yaxis\":\"y\",\"type\":\"scattergl\"},{\"hovertemplate\":\"opening_month=-36<br>month_on_book=%{x}<br>due_rate=%{y}<extra></extra>\",\"legendgroup\":\"-36\",\"line\":{\"color\":\"#FFA15A\",\"dash\":\"solid\"},\"marker\":{\"symbol\":\"circle\",\"size\":5},\"mode\":\"markers+lines\",\"name\":\"-36\",\"showlegend\":true,\"x\":[0,1,2,3,4,5,6,7,8,9,10,11,12,13,14,15,16,17,18,19,20,21,22,23,24,25,26,27,28,29,30,31,32,33,34,35,36],\"xaxis\":\"x\",\"y\":[0.0,0.0,0.0,0.16,0.32,0.64,0.64,0.8,1.12,1.28,1.6,1.6,1.76,1.76,1.76,1.76,1.76,1.76,1.92,1.92,1.92,1.92,1.92,1.92,1.92,2.08,2.08,2.08,2.08,2.24,2.24,2.24,2.24,2.24,2.24,2.24,2.24],\"yaxis\":\"y\",\"type\":\"scattergl\"},{\"hovertemplate\":\"opening_month=-35<br>month_on_book=%{x}<br>due_rate=%{y}<extra></extra>\",\"legendgroup\":\"-35\",\"line\":{\"color\":\"#19d3f3\",\"dash\":\"solid\"},\"marker\":{\"symbol\":\"circle\",\"size\":5},\"mode\":\"markers+lines\",\"name\":\"-35\",\"showlegend\":true,\"x\":[0,1,2,3,4,5,6,7,8,9,10,11,12,13,14,15,16,17,18,19,20,21,22,23,24,25,26,27,28,29,30,31,32,33,34,35],\"xaxis\":\"x\",\"y\":[0.0,0.0,0.0,0.15,0.15,0.15,0.15,0.29,0.59,0.74,1.33,1.47,1.47,1.62,1.62,1.62,1.62,1.62,1.62,1.62,1.62,1.62,1.62,1.62,1.62,1.62,1.62,1.62,1.62,1.62,1.62,1.62,1.62,1.62,1.62,1.62],\"yaxis\":\"y\",\"type\":\"scattergl\"},{\"hovertemplate\":\"opening_month=-34<br>month_on_book=%{x}<br>due_rate=%{y}<extra></extra>\",\"legendgroup\":\"-34\",\"line\":{\"color\":\"#FF6692\",\"dash\":\"solid\"},\"marker\":{\"symbol\":\"circle\",\"size\":5},\"mode\":\"markers+lines\",\"name\":\"-34\",\"showlegend\":true,\"x\":[0,1,2,3,4,5,6,7,8,9,10,11,12,13,14,15,16,17,18,19,20,21,22,23,24,25,26,27,28,29,30,31,32,33,34],\"xaxis\":\"x\",\"y\":[0.0,0.0,0.0,0.0,0.0,0.15,0.3,0.76,0.76,0.91,1.07,1.22,1.22,1.37,1.37,1.37,1.37,1.37,1.37,1.37,1.37,1.37,1.37,1.37,1.37,1.37,1.37,1.37,1.37,1.37,1.37,1.37,1.52,1.52,1.52],\"yaxis\":\"y\",\"type\":\"scattergl\"},{\"hovertemplate\":\"opening_month=-33<br>month_on_book=%{x}<br>due_rate=%{y}<extra></extra>\",\"legendgroup\":\"-33\",\"line\":{\"color\":\"#B6E880\",\"dash\":\"solid\"},\"marker\":{\"symbol\":\"circle\",\"size\":5},\"mode\":\"markers+lines\",\"name\":\"-33\",\"showlegend\":true,\"x\":[0,1,2,3,4,5,6,7,8,9,10,11,12,13,14,15,16,17,18,19,20,21,22,23,24,25,26,27,28,29,30,31,32,33],\"xaxis\":\"x\",\"y\":[0.0,0.0,0.16,0.16,0.16,0.16,0.16,0.48,0.48,0.48,0.48,0.48,0.64,0.8,0.8,0.8,0.8,0.8,0.8,0.96,0.96,1.13,1.13,1.13,1.13,1.13,1.29,1.29,1.29,1.45,1.45,1.45,1.45,1.45],\"yaxis\":\"y\",\"type\":\"scattergl\"},{\"hovertemplate\":\"opening_month=-32<br>month_on_book=%{x}<br>due_rate=%{y}<extra></extra>\",\"legendgroup\":\"-32\",\"line\":{\"color\":\"#FF97FF\",\"dash\":\"solid\"},\"marker\":{\"symbol\":\"circle\",\"size\":5},\"mode\":\"markers+lines\",\"name\":\"-32\",\"showlegend\":true,\"x\":[0,1,2,3,4,5,6,7,8,9,10,11,12,13,14,15,16,17,18,19,20,21,22,23,24,25,26,27,28,29,30,31,32],\"xaxis\":\"x\",\"y\":[0.0,0.0,0.15,0.15,0.3,0.3,0.45,0.45,0.74,0.74,0.89,0.89,0.89,1.04,1.04,1.04,1.04,1.04,1.19,1.19,1.19,1.19,1.19,1.19,1.19,1.19,1.34,1.34,1.34,1.34,1.34,1.34,1.49],\"yaxis\":\"y\",\"type\":\"scattergl\"},{\"hovertemplate\":\"opening_month=-31<br>month_on_book=%{x}<br>due_rate=%{y}<extra></extra>\",\"legendgroup\":\"-31\",\"line\":{\"color\":\"#FECB52\",\"dash\":\"solid\"},\"marker\":{\"symbol\":\"circle\",\"size\":5},\"mode\":\"markers+lines\",\"name\":\"-31\",\"showlegend\":true,\"x\":[0,1,2,3,4,5,6,7,8,9,10,11,12,13,14,15,16,17,18,19,20,21,22,23,24,25,26,27,28,29,30,31],\"xaxis\":\"x\",\"y\":[0.0,0.0,0.15,0.15,0.15,0.45,0.59,0.59,0.59,0.59,0.59,0.59,0.89,1.19,1.19,1.19,1.19,1.19,1.19,1.19,1.19,1.19,1.19,1.19,1.19,1.19,1.19,1.19,1.19,1.19,1.19,1.19],\"yaxis\":\"y\",\"type\":\"scattergl\"},{\"hovertemplate\":\"opening_month=-30<br>month_on_book=%{x}<br>due_rate=%{y}<extra></extra>\",\"legendgroup\":\"-30\",\"line\":{\"color\":\"#636efa\",\"dash\":\"solid\"},\"marker\":{\"symbol\":\"circle\",\"size\":5},\"mode\":\"markers+lines\",\"name\":\"-30\",\"showlegend\":true,\"x\":[0,1,2,3,4,5,6,7,8,9,10,11,12,13,14,15,16,17,18,19,20,21,22,23,24,25,26,27,28,29,30],\"xaxis\":\"x\",\"y\":[0.0,0.0,0.0,0.14,0.14,0.28,0.28,0.69,0.69,0.97,0.97,1.11,1.24,1.38,1.52,1.52,1.52,1.52,1.52,1.66,1.66,1.66,1.66,1.66,1.66,1.8,1.8,1.8,1.8,1.8,1.8],\"yaxis\":\"y\",\"type\":\"scattergl\"},{\"hovertemplate\":\"opening_month=-29<br>month_on_book=%{x}<br>due_rate=%{y}<extra></extra>\",\"legendgroup\":\"-29\",\"line\":{\"color\":\"#EF553B\",\"dash\":\"solid\"},\"marker\":{\"symbol\":\"circle\",\"size\":5},\"mode\":\"markers+lines\",\"name\":\"-29\",\"showlegend\":true,\"x\":[0,1,2,3,4,5,6,7,8,9,10,11,12,13,14,15,16,17,18,19,20,21,22,23,24,25,26,27,28,29],\"xaxis\":\"x\",\"y\":[0.0,0.0,0.0,0.14,0.29,0.58,0.58,0.72,0.87,0.87,1.16,1.16,1.16,1.16,1.3,1.3,1.3,1.3,1.3,1.3,1.3,1.3,1.3,1.3,1.3,1.3,1.3,1.3,1.3,1.3],\"yaxis\":\"y\",\"type\":\"scattergl\"},{\"hovertemplate\":\"opening_month=-28<br>month_on_book=%{x}<br>due_rate=%{y}<extra></extra>\",\"legendgroup\":\"-28\",\"line\":{\"color\":\"#00cc96\",\"dash\":\"solid\"},\"marker\":{\"symbol\":\"circle\",\"size\":5},\"mode\":\"markers+lines\",\"name\":\"-28\",\"showlegend\":true,\"x\":[0,1,2,3,4,5,6,7,8,9,10,11,12,13,14,15,16,17,18,19,20,21,22,23,24,25,26,27,28],\"xaxis\":\"x\",\"y\":[0.0,0.0,0.14,0.14,0.14,0.28,0.42,0.56,0.7,0.84,0.98,0.98,0.98,1.12,1.12,1.26,1.26,1.26,1.26,1.26,1.4,1.4,1.4,1.54,1.54,1.68,1.68,1.68,1.68],\"yaxis\":\"y\",\"type\":\"scattergl\"},{\"hovertemplate\":\"opening_month=-27<br>month_on_book=%{x}<br>due_rate=%{y}<extra></extra>\",\"legendgroup\":\"-27\",\"line\":{\"color\":\"#ab63fa\",\"dash\":\"solid\"},\"marker\":{\"symbol\":\"circle\",\"size\":5},\"mode\":\"markers+lines\",\"name\":\"-27\",\"showlegend\":true,\"x\":[0,1,2,3,4,5,6,7,8,9,10,11,12,13,14,15,16,17,18,19,20,21,22,23,24,25,26,27],\"xaxis\":\"x\",\"y\":[0.0,0.0,0.0,0.14,0.28,0.41,0.41,0.55,0.69,0.97,0.97,0.97,1.11,1.24,1.24,1.24,1.24,1.24,1.24,1.52,1.52,1.52,1.66,1.66,1.66,1.66,1.8,1.8],\"yaxis\":\"y\",\"type\":\"scattergl\"},{\"hovertemplate\":\"opening_month=-26<br>month_on_book=%{x}<br>due_rate=%{y}<extra></extra>\",\"legendgroup\":\"-26\",\"line\":{\"color\":\"#FFA15A\",\"dash\":\"solid\"},\"marker\":{\"symbol\":\"circle\",\"size\":5},\"mode\":\"markers+lines\",\"name\":\"-26\",\"showlegend\":true,\"x\":[0,1,2,3,4,5,6,7,8,9,10,11,12,13,14,15,16,17,18,19,20,21,22,23,24,25,26],\"xaxis\":\"x\",\"y\":[0.0,0.0,0.0,0.3,0.46,0.61,0.61,0.76,0.76,0.76,0.76,0.91,0.91,0.91,0.91,0.91,0.91,0.91,0.91,0.91,0.91,0.91,0.91,0.91,0.91,0.91,0.91],\"yaxis\":\"y\",\"type\":\"scattergl\"},{\"hovertemplate\":\"opening_month=-25<br>month_on_book=%{x}<br>due_rate=%{y}<extra></extra>\",\"legendgroup\":\"-25\",\"line\":{\"color\":\"#19d3f3\",\"dash\":\"solid\"},\"marker\":{\"symbol\":\"circle\",\"size\":5},\"mode\":\"markers+lines\",\"name\":\"-25\",\"showlegend\":true,\"x\":[0,1,2,3,4,5,6,7,8,9,10,11,12,13,14,15,16,17,18,19,20,21,22,23,24,25],\"xaxis\":\"x\",\"y\":[0.0,0.0,0.13,0.27,0.53,0.8,0.8,1.2,1.2,1.2,1.2,1.6,1.73,1.73,1.73,1.73,1.86,1.86,1.86,1.86,1.86,1.86,2.0,2.0,2.0,2.0],\"yaxis\":\"y\",\"type\":\"scattergl\"},{\"hovertemplate\":\"opening_month=-24<br>month_on_book=%{x}<br>due_rate=%{y}<extra></extra>\",\"legendgroup\":\"-24\",\"line\":{\"color\":\"#FF6692\",\"dash\":\"solid\"},\"marker\":{\"symbol\":\"circle\",\"size\":5},\"mode\":\"markers+lines\",\"name\":\"-24\",\"showlegend\":true,\"x\":[0,1,2,3,4,5,6,7,8,9,10,11,12,13,14,15,16,17,18,19,20,21,22,23,24],\"xaxis\":\"x\",\"y\":[0.0,0.0,0.0,0.0,0.0,0.13,0.26,0.39,0.39,0.51,0.51,0.51,0.64,0.64,0.64,0.64,0.64,0.64,0.64,0.64,0.77,0.77,0.77,0.77,0.77],\"yaxis\":\"y\",\"type\":\"scattergl\"},{\"hovertemplate\":\"opening_month=-23<br>month_on_book=%{x}<br>due_rate=%{y}<extra></extra>\",\"legendgroup\":\"-23\",\"line\":{\"color\":\"#B6E880\",\"dash\":\"solid\"},\"marker\":{\"symbol\":\"circle\",\"size\":5},\"mode\":\"markers+lines\",\"name\":\"-23\",\"showlegend\":true,\"x\":[0,1,2,3,4,5,6,7,8,9,10,11,12,13,14,15,16,17,18,19,20,21,22,23],\"xaxis\":\"x\",\"y\":[0.0,0.0,0.0,0.26,0.51,0.64,0.64,0.64,0.77,0.77,0.77,0.9,0.9,0.9,0.9,0.9,0.9,0.9,0.9,0.9,0.9,0.9,0.9,0.9],\"yaxis\":\"y\",\"type\":\"scattergl\"},{\"hovertemplate\":\"opening_month=-22<br>month_on_book=%{x}<br>due_rate=%{y}<extra></extra>\",\"legendgroup\":\"-22\",\"line\":{\"color\":\"#FF97FF\",\"dash\":\"solid\"},\"marker\":{\"symbol\":\"circle\",\"size\":5},\"mode\":\"markers+lines\",\"name\":\"-22\",\"showlegend\":true,\"x\":[0,1,2,3,4,5,6,7,8,9,10,11,12,13,14,15,16,17,18,19,20,21,22],\"xaxis\":\"x\",\"y\":[0.0,0.0,0.13,0.27,0.27,0.54,0.54,0.67,0.81,0.81,0.81,1.21,1.21,1.21,1.34,1.34,1.34,1.34,1.34,1.48,1.48,1.48,1.48],\"yaxis\":\"y\",\"type\":\"scattergl\"},{\"hovertemplate\":\"opening_month=-21<br>month_on_book=%{x}<br>due_rate=%{y}<extra></extra>\",\"legendgroup\":\"-21\",\"line\":{\"color\":\"#FECB52\",\"dash\":\"solid\"},\"marker\":{\"symbol\":\"circle\",\"size\":5},\"mode\":\"markers+lines\",\"name\":\"-21\",\"showlegend\":true,\"x\":[0,1,2,3,4,5,6,7,8,9,10,11,12,13,14,15,16,17,18,19,20,21],\"xaxis\":\"x\",\"y\":[0.0,0.0,0.0,0.41,0.54,0.54,0.81,1.08,1.22,1.22,1.35,1.62,1.76,1.89,1.89,1.89,1.89,2.03,2.03,2.03,2.03,2.03],\"yaxis\":\"y\",\"type\":\"scattergl\"},{\"hovertemplate\":\"opening_month=-20<br>month_on_book=%{x}<br>due_rate=%{y}<extra></extra>\",\"legendgroup\":\"-20\",\"line\":{\"color\":\"#636efa\",\"dash\":\"solid\"},\"marker\":{\"symbol\":\"circle\",\"size\":5},\"mode\":\"markers+lines\",\"name\":\"-20\",\"showlegend\":true,\"x\":[0,1,2,3,4,5,6,7,8,9,10,11,12,13,14,15,16,17,18,19,20],\"xaxis\":\"x\",\"y\":[0.0,0.0,0.12,0.12,0.25,0.25,0.37,0.37,0.37,0.37,0.37,0.37,0.62,0.62,0.62,0.62,0.62,0.74,0.74,0.74,0.74],\"yaxis\":\"y\",\"type\":\"scattergl\"},{\"hovertemplate\":\"opening_month=-19<br>month_on_book=%{x}<br>due_rate=%{y}<extra></extra>\",\"legendgroup\":\"-19\",\"line\":{\"color\":\"#EF553B\",\"dash\":\"solid\"},\"marker\":{\"symbol\":\"circle\",\"size\":5},\"mode\":\"markers+lines\",\"name\":\"-19\",\"showlegend\":true,\"x\":[0,1,2,3,4,5,6,7,8,9,10,11,12,13,14,15,16,17,18,19],\"xaxis\":\"x\",\"y\":[0.0,0.0,0.26,0.26,0.26,0.53,0.79,0.92,1.06,1.06,1.19,1.32,1.32,1.32,1.32,1.45,1.45,1.59,1.59,1.59],\"yaxis\":\"y\",\"type\":\"scattergl\"},{\"hovertemplate\":\"opening_month=-18<br>month_on_book=%{x}<br>due_rate=%{y}<extra></extra>\",\"legendgroup\":\"-18\",\"line\":{\"color\":\"#00cc96\",\"dash\":\"solid\"},\"marker\":{\"symbol\":\"circle\",\"size\":5},\"mode\":\"markers+lines\",\"name\":\"-18\",\"showlegend\":true,\"x\":[0,1,2,3,4,5,6,7,8,9,10,11,12,13,14,15,16,17,18],\"xaxis\":\"x\",\"y\":[0.0,0.0,0.13,0.25,0.25,0.25,0.38,0.38,0.51,0.51,0.63,0.76,1.01,1.14,1.26,1.26,1.26,1.26,1.26],\"yaxis\":\"y\",\"type\":\"scattergl\"},{\"hovertemplate\":\"opening_month=-17<br>month_on_book=%{x}<br>due_rate=%{y}<extra></extra>\",\"legendgroup\":\"-17\",\"line\":{\"color\":\"#ab63fa\",\"dash\":\"solid\"},\"marker\":{\"symbol\":\"circle\",\"size\":5},\"mode\":\"markers+lines\",\"name\":\"-17\",\"showlegend\":true,\"x\":[0,1,2,3,4,5,6,7,8,9,10,11,12,13,14,15,16,17],\"xaxis\":\"x\",\"y\":[0.0,0.0,0.0,0.11,0.23,0.34,0.34,0.45,0.57,0.57,0.57,0.68,0.68,0.68,0.68,0.68,0.68,0.68],\"yaxis\":\"y\",\"type\":\"scattergl\"},{\"hovertemplate\":\"opening_month=-16<br>month_on_book=%{x}<br>due_rate=%{y}<extra></extra>\",\"legendgroup\":\"-16\",\"line\":{\"color\":\"#FFA15A\",\"dash\":\"solid\"},\"marker\":{\"symbol\":\"circle\",\"size\":5},\"mode\":\"markers+lines\",\"name\":\"-16\",\"showlegend\":true,\"x\":[0,1,2,3,4,5,6,7,8,9,10,11,12,13,14,15,16],\"xaxis\":\"x\",\"y\":[0.0,0.0,0.0,0.0,0.0,0.12,0.12,0.24,0.48,0.61,0.73,1.21,1.21,1.33,1.33,1.33,1.33],\"yaxis\":\"y\",\"type\":\"scattergl\"},{\"hovertemplate\":\"opening_month=-15<br>month_on_book=%{x}<br>due_rate=%{y}<extra></extra>\",\"legendgroup\":\"-15\",\"line\":{\"color\":\"#19d3f3\",\"dash\":\"solid\"},\"marker\":{\"symbol\":\"circle\",\"size\":5},\"mode\":\"markers+lines\",\"name\":\"-15\",\"showlegend\":true,\"x\":[0,1,2,3,4,5,6,7,8,9,10,11,12,13,14,15],\"xaxis\":\"x\",\"y\":[0.0,0.0,0.13,0.25,0.38,0.51,0.63,1.01,1.01,1.14,1.27,1.27,1.27,1.27,1.27,1.27],\"yaxis\":\"y\",\"type\":\"scattergl\"},{\"hovertemplate\":\"opening_month=-14<br>month_on_book=%{x}<br>due_rate=%{y}<extra></extra>\",\"legendgroup\":\"-14\",\"line\":{\"color\":\"#FF6692\",\"dash\":\"solid\"},\"marker\":{\"symbol\":\"circle\",\"size\":5},\"mode\":\"markers+lines\",\"name\":\"-14\",\"showlegend\":true,\"x\":[0,1,2,3,4,5,6,7,8,9,10,11,12,13,14],\"xaxis\":\"x\",\"y\":[0.0,0.0,0.0,0.25,0.25,0.63,0.63,0.63,0.89,0.89,0.89,1.14,1.14,1.14,1.27],\"yaxis\":\"y\",\"type\":\"scattergl\"},{\"hovertemplate\":\"opening_month=-13<br>month_on_book=%{x}<br>due_rate=%{y}<extra></extra>\",\"legendgroup\":\"-13\",\"line\":{\"color\":\"#B6E880\",\"dash\":\"solid\"},\"marker\":{\"symbol\":\"circle\",\"size\":5},\"mode\":\"markers+lines\",\"name\":\"-13\",\"showlegend\":true,\"x\":[0,1,2,3,4,5,6,7,8,9,10,11,12,13],\"xaxis\":\"x\",\"y\":[0.0,0.0,0.0,0.23,0.47,0.47,0.47,0.58,0.58,0.7,0.93,1.05,1.05,1.17],\"yaxis\":\"y\",\"type\":\"scattergl\"},{\"hovertemplate\":\"opening_month=-12<br>month_on_book=%{x}<br>due_rate=%{y}<extra></extra>\",\"legendgroup\":\"-12\",\"line\":{\"color\":\"#FF97FF\",\"dash\":\"solid\"},\"marker\":{\"symbol\":\"circle\",\"size\":5},\"mode\":\"markers+lines\",\"name\":\"-12\",\"showlegend\":true,\"x\":[0,1,2,3,4,5,6,7,8,9,10,11,12],\"xaxis\":\"x\",\"y\":[0.0,0.12,0.23,0.35,0.35,0.35,0.47,0.93,0.93,0.93,0.93,0.93,0.93],\"yaxis\":\"y\",\"type\":\"scattergl\"}],                        {\"template\":{\"data\":{\"histogram2dcontour\":[{\"type\":\"histogram2dcontour\",\"colorbar\":{\"outlinewidth\":0,\"ticks\":\"\"},\"colorscale\":[[0.0,\"#0d0887\"],[0.1111111111111111,\"#46039f\"],[0.2222222222222222,\"#7201a8\"],[0.3333333333333333,\"#9c179e\"],[0.4444444444444444,\"#bd3786\"],[0.5555555555555556,\"#d8576b\"],[0.6666666666666666,\"#ed7953\"],[0.7777777777777778,\"#fb9f3a\"],[0.8888888888888888,\"#fdca26\"],[1.0,\"#f0f921\"]]}],\"choropleth\":[{\"type\":\"choropleth\",\"colorbar\":{\"outlinewidth\":0,\"ticks\":\"\"}}],\"histogram2d\":[{\"type\":\"histogram2d\",\"colorbar\":{\"outlinewidth\":0,\"ticks\":\"\"},\"colorscale\":[[0.0,\"#0d0887\"],[0.1111111111111111,\"#46039f\"],[0.2222222222222222,\"#7201a8\"],[0.3333333333333333,\"#9c179e\"],[0.4444444444444444,\"#bd3786\"],[0.5555555555555556,\"#d8576b\"],[0.6666666666666666,\"#ed7953\"],[0.7777777777777778,\"#fb9f3a\"],[0.8888888888888888,\"#fdca26\"],[1.0,\"#f0f921\"]]}],\"heatmap\":[{\"type\":\"heatmap\",\"colorbar\":{\"outlinewidth\":0,\"ticks\":\"\"},\"colorscale\":[[0.0,\"#0d0887\"],[0.1111111111111111,\"#46039f\"],[0.2222222222222222,\"#7201a8\"],[0.3333333333333333,\"#9c179e\"],[0.4444444444444444,\"#bd3786\"],[0.5555555555555556,\"#d8576b\"],[0.6666666666666666,\"#ed7953\"],[0.7777777777777778,\"#fb9f3a\"],[0.8888888888888888,\"#fdca26\"],[1.0,\"#f0f921\"]]}],\"heatmapgl\":[{\"type\":\"heatmapgl\",\"colorbar\":{\"outlinewidth\":0,\"ticks\":\"\"},\"colorscale\":[[0.0,\"#0d0887\"],[0.1111111111111111,\"#46039f\"],[0.2222222222222222,\"#7201a8\"],[0.3333333333333333,\"#9c179e\"],[0.4444444444444444,\"#bd3786\"],[0.5555555555555556,\"#d8576b\"],[0.6666666666666666,\"#ed7953\"],[0.7777777777777778,\"#fb9f3a\"],[0.8888888888888888,\"#fdca26\"],[1.0,\"#f0f921\"]]}],\"contourcarpet\":[{\"type\":\"contourcarpet\",\"colorbar\":{\"outlinewidth\":0,\"ticks\":\"\"}}],\"contour\":[{\"type\":\"contour\",\"colorbar\":{\"outlinewidth\":0,\"ticks\":\"\"},\"colorscale\":[[0.0,\"#0d0887\"],[0.1111111111111111,\"#46039f\"],[0.2222222222222222,\"#7201a8\"],[0.3333333333333333,\"#9c179e\"],[0.4444444444444444,\"#bd3786\"],[0.5555555555555556,\"#d8576b\"],[0.6666666666666666,\"#ed7953\"],[0.7777777777777778,\"#fb9f3a\"],[0.8888888888888888,\"#fdca26\"],[1.0,\"#f0f921\"]]}],\"surface\":[{\"type\":\"surface\",\"colorbar\":{\"outlinewidth\":0,\"ticks\":\"\"},\"colorscale\":[[0.0,\"#0d0887\"],[0.1111111111111111,\"#46039f\"],[0.2222222222222222,\"#7201a8\"],[0.3333333333333333,\"#9c179e\"],[0.4444444444444444,\"#bd3786\"],[0.5555555555555556,\"#d8576b\"],[0.6666666666666666,\"#ed7953\"],[0.7777777777777778,\"#fb9f3a\"],[0.8888888888888888,\"#fdca26\"],[1.0,\"#f0f921\"]]}],\"mesh3d\":[{\"type\":\"mesh3d\",\"colorbar\":{\"outlinewidth\":0,\"ticks\":\"\"}}],\"scatter\":[{\"fillpattern\":{\"fillmode\":\"overlay\",\"size\":10,\"solidity\":0.2},\"type\":\"scatter\"}],\"parcoords\":[{\"type\":\"parcoords\",\"line\":{\"colorbar\":{\"outlinewidth\":0,\"ticks\":\"\"}}}],\"scatterpolargl\":[{\"type\":\"scatterpolargl\",\"marker\":{\"colorbar\":{\"outlinewidth\":0,\"ticks\":\"\"}}}],\"bar\":[{\"error_x\":{\"color\":\"#2a3f5f\"},\"error_y\":{\"color\":\"#2a3f5f\"},\"marker\":{\"line\":{\"color\":\"#E5ECF6\",\"width\":0.5},\"pattern\":{\"fillmode\":\"overlay\",\"size\":10,\"solidity\":0.2}},\"type\":\"bar\"}],\"scattergeo\":[{\"type\":\"scattergeo\",\"marker\":{\"colorbar\":{\"outlinewidth\":0,\"ticks\":\"\"}}}],\"scatterpolar\":[{\"type\":\"scatterpolar\",\"marker\":{\"colorbar\":{\"outlinewidth\":0,\"ticks\":\"\"}}}],\"histogram\":[{\"marker\":{\"pattern\":{\"fillmode\":\"overlay\",\"size\":10,\"solidity\":0.2}},\"type\":\"histogram\"}],\"scattergl\":[{\"type\":\"scattergl\",\"marker\":{\"colorbar\":{\"outlinewidth\":0,\"ticks\":\"\"}}}],\"scatter3d\":[{\"type\":\"scatter3d\",\"line\":{\"colorbar\":{\"outlinewidth\":0,\"ticks\":\"\"}},\"marker\":{\"colorbar\":{\"outlinewidth\":0,\"ticks\":\"\"}}}],\"scattermapbox\":[{\"type\":\"scattermapbox\",\"marker\":{\"colorbar\":{\"outlinewidth\":0,\"ticks\":\"\"}}}],\"scatterternary\":[{\"type\":\"scatterternary\",\"marker\":{\"colorbar\":{\"outlinewidth\":0,\"ticks\":\"\"}}}],\"scattercarpet\":[{\"type\":\"scattercarpet\",\"marker\":{\"colorbar\":{\"outlinewidth\":0,\"ticks\":\"\"}}}],\"carpet\":[{\"aaxis\":{\"endlinecolor\":\"#2a3f5f\",\"gridcolor\":\"white\",\"linecolor\":\"white\",\"minorgridcolor\":\"white\",\"startlinecolor\":\"#2a3f5f\"},\"baxis\":{\"endlinecolor\":\"#2a3f5f\",\"gridcolor\":\"white\",\"linecolor\":\"white\",\"minorgridcolor\":\"white\",\"startlinecolor\":\"#2a3f5f\"},\"type\":\"carpet\"}],\"table\":[{\"cells\":{\"fill\":{\"color\":\"#EBF0F8\"},\"line\":{\"color\":\"white\"}},\"header\":{\"fill\":{\"color\":\"#C8D4E3\"},\"line\":{\"color\":\"white\"}},\"type\":\"table\"}],\"barpolar\":[{\"marker\":{\"line\":{\"color\":\"#E5ECF6\",\"width\":0.5},\"pattern\":{\"fillmode\":\"overlay\",\"size\":10,\"solidity\":0.2}},\"type\":\"barpolar\"}],\"pie\":[{\"automargin\":true,\"type\":\"pie\"}]},\"layout\":{\"autotypenumbers\":\"strict\",\"colorway\":[\"#636efa\",\"#EF553B\",\"#00cc96\",\"#ab63fa\",\"#FFA15A\",\"#19d3f3\",\"#FF6692\",\"#B6E880\",\"#FF97FF\",\"#FECB52\"],\"font\":{\"color\":\"#2a3f5f\"},\"hovermode\":\"closest\",\"hoverlabel\":{\"align\":\"left\"},\"paper_bgcolor\":\"white\",\"plot_bgcolor\":\"#E5ECF6\",\"polar\":{\"bgcolor\":\"#E5ECF6\",\"angularaxis\":{\"gridcolor\":\"white\",\"linecolor\":\"white\",\"ticks\":\"\"},\"radialaxis\":{\"gridcolor\":\"white\",\"linecolor\":\"white\",\"ticks\":\"\"}},\"ternary\":{\"bgcolor\":\"#E5ECF6\",\"aaxis\":{\"gridcolor\":\"white\",\"linecolor\":\"white\",\"ticks\":\"\"},\"baxis\":{\"gridcolor\":\"white\",\"linecolor\":\"white\",\"ticks\":\"\"},\"caxis\":{\"gridcolor\":\"white\",\"linecolor\":\"white\",\"ticks\":\"\"}},\"coloraxis\":{\"colorbar\":{\"outlinewidth\":0,\"ticks\":\"\"}},\"colorscale\":{\"sequential\":[[0.0,\"#0d0887\"],[0.1111111111111111,\"#46039f\"],[0.2222222222222222,\"#7201a8\"],[0.3333333333333333,\"#9c179e\"],[0.4444444444444444,\"#bd3786\"],[0.5555555555555556,\"#d8576b\"],[0.6666666666666666,\"#ed7953\"],[0.7777777777777778,\"#fb9f3a\"],[0.8888888888888888,\"#fdca26\"],[1.0,\"#f0f921\"]],\"sequentialminus\":[[0.0,\"#0d0887\"],[0.1111111111111111,\"#46039f\"],[0.2222222222222222,\"#7201a8\"],[0.3333333333333333,\"#9c179e\"],[0.4444444444444444,\"#bd3786\"],[0.5555555555555556,\"#d8576b\"],[0.6666666666666666,\"#ed7953\"],[0.7777777777777778,\"#fb9f3a\"],[0.8888888888888888,\"#fdca26\"],[1.0,\"#f0f921\"]],\"diverging\":[[0,\"#8e0152\"],[0.1,\"#c51b7d\"],[0.2,\"#de77ae\"],[0.3,\"#f1b6da\"],[0.4,\"#fde0ef\"],[0.5,\"#f7f7f7\"],[0.6,\"#e6f5d0\"],[0.7,\"#b8e186\"],[0.8,\"#7fbc41\"],[0.9,\"#4d9221\"],[1,\"#276419\"]]},\"xaxis\":{\"gridcolor\":\"white\",\"linecolor\":\"white\",\"ticks\":\"\",\"title\":{\"standoff\":15},\"zerolinecolor\":\"white\",\"automargin\":true,\"zerolinewidth\":2},\"yaxis\":{\"gridcolor\":\"white\",\"linecolor\":\"white\",\"ticks\":\"\",\"title\":{\"standoff\":15},\"zerolinecolor\":\"white\",\"automargin\":true,\"zerolinewidth\":2},\"scene\":{\"xaxis\":{\"backgroundcolor\":\"#E5ECF6\",\"gridcolor\":\"white\",\"linecolor\":\"white\",\"showbackground\":true,\"ticks\":\"\",\"zerolinecolor\":\"white\",\"gridwidth\":2},\"yaxis\":{\"backgroundcolor\":\"#E5ECF6\",\"gridcolor\":\"white\",\"linecolor\":\"white\",\"showbackground\":true,\"ticks\":\"\",\"zerolinecolor\":\"white\",\"gridwidth\":2},\"zaxis\":{\"backgroundcolor\":\"#E5ECF6\",\"gridcolor\":\"white\",\"linecolor\":\"white\",\"showbackground\":true,\"ticks\":\"\",\"zerolinecolor\":\"white\",\"gridwidth\":2}},\"shapedefaults\":{\"line\":{\"color\":\"#2a3f5f\"}},\"annotationdefaults\":{\"arrowcolor\":\"#2a3f5f\",\"arrowhead\":0,\"arrowwidth\":1},\"geo\":{\"bgcolor\":\"white\",\"landcolor\":\"#E5ECF6\",\"subunitcolor\":\"white\",\"showland\":true,\"showlakes\":true,\"lakecolor\":\"white\"},\"title\":{\"x\":0.05},\"mapbox\":{\"style\":\"light\"}}},\"xaxis\":{\"anchor\":\"y\",\"domain\":[0.0,1.0],\"title\":{\"text\":\"month_on_book\"}},\"yaxis\":{\"anchor\":\"x\",\"domain\":[0.0,1.0],\"title\":{\"text\":\"due_rate\"}},\"legend\":{\"title\":{\"text\":\"opening_month\"},\"tracegroupgap\":0},\"margin\":{\"t\":60},\"title\":{\"text\":\"Porcentaje acumulado de clientes morosos (> 60 d\\u00edas de atraso)\"}},                        {\"responsive\": true}                    ).then(function(){\n",
       "                            \n",
       "var gd = document.getElementById('6b24f7dd-c221-4772-8011-594732d963f1');\n",
       "var x = new MutationObserver(function (mutations, observer) {{\n",
       "        var display = window.getComputedStyle(gd).display;\n",
       "        if (!display || display === 'none') {{\n",
       "            console.log([gd, 'removed!']);\n",
       "            Plotly.purge(gd);\n",
       "            observer.disconnect();\n",
       "        }}\n",
       "}});\n",
       "\n",
       "// Listen for the removal of the full notebook cells\n",
       "var notebookContainer = gd.closest('#notebook-container');\n",
       "if (notebookContainer) {{\n",
       "    x.observe(notebookContainer, {childList: true});\n",
       "}}\n",
       "\n",
       "// Listen for the clearing of the current output cell\n",
       "var outputEl = gd.closest('.output');\n",
       "if (outputEl) {{\n",
       "    x.observe(outputEl, {childList: true});\n",
       "}}\n",
       "\n",
       "                        })                };                });            </script>        </div>"
      ]
     },
     "metadata": {},
     "output_type": "display_data"
    }
   ],
   "source": [
    "get_cohort_graph(df_vintage_2, bucket_2)"
   ]
  },
  {
   "cell_type": "markdown",
   "id": "69953fb2",
   "metadata": {},
   "source": [
    "En general, parece que la mayor parte de morosos aparece en los primeros 15 (hacer un zoom abarcando hasta `month_on_book = 20`). A partir de ahí, las curvas de cohortes tienen a \"estabilizarse\".\n",
    "\n",
    "Por otro lado, el acumulado máximo de morosos, que se da en el cohorte de -55, es de 5.22 %, lo cual ya deja ver un tremendo problema de desbalanceo entre el porcentaje de morosos y no morosos."
   ]
  },
  {
   "cell_type": "markdown",
   "id": "265a1379",
   "metadata": {},
   "source": [
    "Si se hace zoom al principio de la gráfica, muy cerca del punto de nacimiento de las curvas y abarcando los primeros dos meses activos, también se natará la presencia de comportamientos extraños como, por ejemplo, que en los cohortes -53, -44, -38, -39, -12 ya se tienen clientes con moras de 60 o más días en el primer mes activo, lo cual no pareciera tener sentido. La data de agunos de estos clientes se ve así:"
   ]
  },
  {
   "cell_type": "code",
   "execution_count": 25,
   "id": "9db9cade",
   "metadata": {},
   "outputs": [
    {
     "data": {
      "text/html": [
       "<div>\n",
       "<style scoped>\n",
       "    .dataframe tbody tr th:only-of-type {\n",
       "        vertical-align: middle;\n",
       "    }\n",
       "\n",
       "    .dataframe tbody tr th {\n",
       "        vertical-align: top;\n",
       "    }\n",
       "\n",
       "    .dataframe thead th {\n",
       "        text-align: right;\n",
       "    }\n",
       "</style>\n",
       "<table border=\"1\" class=\"dataframe\">\n",
       "  <thead>\n",
       "    <tr style=\"text-align: right;\">\n",
       "      <th>MONTHS_BALANCE</th>\n",
       "      <th>-55</th>\n",
       "      <th>-54</th>\n",
       "      <th>-53</th>\n",
       "      <th>-52</th>\n",
       "      <th>-51</th>\n",
       "      <th>-50</th>\n",
       "      <th>-49</th>\n",
       "      <th>-48</th>\n",
       "      <th>-47</th>\n",
       "      <th>-46</th>\n",
       "      <th>-45</th>\n",
       "      <th>-44</th>\n",
       "      <th>-43</th>\n",
       "      <th>-42</th>\n",
       "      <th>-41</th>\n",
       "      <th>-40</th>\n",
       "      <th>-39</th>\n",
       "      <th>-38</th>\n",
       "      <th>-37</th>\n",
       "    </tr>\n",
       "    <tr>\n",
       "      <th>ID</th>\n",
       "      <th></th>\n",
       "      <th></th>\n",
       "      <th></th>\n",
       "      <th></th>\n",
       "      <th></th>\n",
       "      <th></th>\n",
       "      <th></th>\n",
       "      <th></th>\n",
       "      <th></th>\n",
       "      <th></th>\n",
       "      <th></th>\n",
       "      <th></th>\n",
       "      <th></th>\n",
       "      <th></th>\n",
       "      <th></th>\n",
       "      <th></th>\n",
       "      <th></th>\n",
       "      <th></th>\n",
       "      <th></th>\n",
       "    </tr>\n",
       "  </thead>\n",
       "  <tbody>\n",
       "    <tr>\n",
       "      <th>5003267</th>\n",
       "      <td>NaN</td>\n",
       "      <td>NaN</td>\n",
       "      <td>1</td>\n",
       "      <td>2</td>\n",
       "      <td>3</td>\n",
       "      <td>3</td>\n",
       "      <td>1</td>\n",
       "      <td>1</td>\n",
       "      <td>C</td>\n",
       "      <td>C</td>\n",
       "      <td>C</td>\n",
       "      <td>C</td>\n",
       "      <td>C</td>\n",
       "      <td>C</td>\n",
       "      <td>C</td>\n",
       "      <td>C</td>\n",
       "      <td>C</td>\n",
       "      <td>C</td>\n",
       "      <td>C</td>\n",
       "    </tr>\n",
       "    <tr>\n",
       "      <th>5029311</th>\n",
       "      <td>NaN</td>\n",
       "      <td>NaN</td>\n",
       "      <td>NaN</td>\n",
       "      <td>NaN</td>\n",
       "      <td>NaN</td>\n",
       "      <td>NaN</td>\n",
       "      <td>NaN</td>\n",
       "      <td>NaN</td>\n",
       "      <td>NaN</td>\n",
       "      <td>NaN</td>\n",
       "      <td>NaN</td>\n",
       "      <td>NaN</td>\n",
       "      <td>NaN</td>\n",
       "      <td>NaN</td>\n",
       "      <td>NaN</td>\n",
       "      <td>NaN</td>\n",
       "      <td>NaN</td>\n",
       "      <td>NaN</td>\n",
       "      <td>NaN</td>\n",
       "    </tr>\n",
       "    <tr>\n",
       "      <th>5042064</th>\n",
       "      <td>NaN</td>\n",
       "      <td>NaN</td>\n",
       "      <td>0</td>\n",
       "      <td>5</td>\n",
       "      <td>5</td>\n",
       "      <td>5</td>\n",
       "      <td>5</td>\n",
       "      <td>5</td>\n",
       "      <td>5</td>\n",
       "      <td>5</td>\n",
       "      <td>5</td>\n",
       "      <td>5</td>\n",
       "      <td>5</td>\n",
       "      <td>5</td>\n",
       "      <td>5</td>\n",
       "      <td>5</td>\n",
       "      <td>5</td>\n",
       "      <td>5</td>\n",
       "      <td>5</td>\n",
       "    </tr>\n",
       "    <tr>\n",
       "      <th>5056083</th>\n",
       "      <td>NaN</td>\n",
       "      <td>NaN</td>\n",
       "      <td>NaN</td>\n",
       "      <td>NaN</td>\n",
       "      <td>NaN</td>\n",
       "      <td>NaN</td>\n",
       "      <td>NaN</td>\n",
       "      <td>NaN</td>\n",
       "      <td>NaN</td>\n",
       "      <td>NaN</td>\n",
       "      <td>NaN</td>\n",
       "      <td>0</td>\n",
       "      <td>2</td>\n",
       "      <td>2</td>\n",
       "      <td>X</td>\n",
       "      <td>2</td>\n",
       "      <td>0</td>\n",
       "      <td>C</td>\n",
       "      <td>C</td>\n",
       "    </tr>\n",
       "    <tr>\n",
       "      <th>5145817</th>\n",
       "      <td>NaN</td>\n",
       "      <td>NaN</td>\n",
       "      <td>NaN</td>\n",
       "      <td>NaN</td>\n",
       "      <td>NaN</td>\n",
       "      <td>NaN</td>\n",
       "      <td>NaN</td>\n",
       "      <td>NaN</td>\n",
       "      <td>NaN</td>\n",
       "      <td>NaN</td>\n",
       "      <td>NaN</td>\n",
       "      <td>NaN</td>\n",
       "      <td>NaN</td>\n",
       "      <td>NaN</td>\n",
       "      <td>NaN</td>\n",
       "      <td>NaN</td>\n",
       "      <td>0</td>\n",
       "      <td>5</td>\n",
       "      <td>0</td>\n",
       "    </tr>\n",
       "  </tbody>\n",
       "</table>\n",
       "</div>"
      ],
      "text/plain": [
       "MONTHS_BALANCE  -55  -54  -53  -52  -51  -50  -49  -48  -47  -46  -45  -44  \\\n",
       "ID                                                                           \n",
       "5003267         NaN  NaN    1    2    3    3    1    1    C    C    C    C   \n",
       "5029311         NaN  NaN  NaN  NaN  NaN  NaN  NaN  NaN  NaN  NaN  NaN  NaN   \n",
       "5042064         NaN  NaN    0    5    5    5    5    5    5    5    5    5   \n",
       "5056083         NaN  NaN  NaN  NaN  NaN  NaN  NaN  NaN  NaN  NaN  NaN    0   \n",
       "5145817         NaN  NaN  NaN  NaN  NaN  NaN  NaN  NaN  NaN  NaN  NaN  NaN   \n",
       "\n",
       "MONTHS_BALANCE  -43  -42  -41  -40  -39  -38  -37  \n",
       "ID                                                 \n",
       "5003267           C    C    C    C    C    C    C  \n",
       "5029311         NaN  NaN  NaN  NaN  NaN  NaN  NaN  \n",
       "5042064           5    5    5    5    5    5    5  \n",
       "5056083           2    2    X    2    0    C    C  \n",
       "5145817         NaN  NaN  NaN  NaN    0    5    0  "
      ]
     },
     "execution_count": 25,
     "metadata": {},
     "output_type": "execute_result"
    }
   ],
   "source": [
    "df_credit_extend_trunc = df_credit_extend[df_credit_extend['window'] >= n]\n",
    "outliers = df_credit_extend_trunc[(df_credit_extend_trunc['opening_month'].isin([-53, -44, -38, -39, -12]))\n",
    "                                   & (df_credit_extend_trunc['month_on_book']==1)\n",
    "                                   & (df_credit_extend_trunc['STATUS'].isin(bucket_2))]['ID'].unique().tolist()\n",
    "df_pivot.loc[outliers,-55:-37]"
   ]
  },
  {
   "cell_type": "markdown",
   "id": "0c9dd0f5",
   "metadata": {},
   "source": [
    "Por ahora, no se tomará acción alguna sobre estos comportamientos extraños."
   ]
  },
  {
   "cell_type": "markdown",
   "id": "c0c359bb",
   "metadata": {},
   "source": [
    "No existe un patrón de crecimiento de morosos tal como, por ejemplo, que mientras más antigua se la apertura, mayor probabilidad de observar morosos o viceversa. Como lo demuestran las siguientes curvas."
   ]
  },
  {
   "cell_type": "code",
   "execution_count": 26,
   "id": "3cdc4aa0",
   "metadata": {},
   "outputs": [
    {
     "data": {
      "application/vnd.plotly.v1+json": {
       "config": {
        "plotlyServerURL": "https://plot.ly"
       },
       "data": [
        {
         "hovertemplate": "opening_month=-24<br>month_on_book=%{x}<br>due_rate=%{y}<extra></extra>",
         "legendgroup": "-24",
         "line": {
          "color": "#636efa",
          "dash": "solid"
         },
         "marker": {
          "size": 5,
          "symbol": "circle"
         },
         "mode": "markers+lines",
         "name": "-24",
         "orientation": "v",
         "showlegend": true,
         "type": "scatter",
         "x": [
          0,
          1,
          2,
          3,
          4,
          5,
          6,
          7,
          8,
          9,
          10,
          11,
          12,
          13,
          14,
          15,
          16,
          17,
          18,
          19,
          20,
          21,
          22,
          23,
          24
         ],
         "xaxis": "x",
         "y": [
          0,
          0,
          0,
          0,
          0,
          0.13,
          0.26,
          0.39,
          0.39,
          0.51,
          0.51,
          0.51,
          0.64,
          0.64,
          0.64,
          0.64,
          0.64,
          0.64,
          0.64,
          0.64,
          0.77,
          0.77,
          0.77,
          0.77,
          0.77
         ],
         "yaxis": "y"
        },
        {
         "hovertemplate": "opening_month=-20<br>month_on_book=%{x}<br>due_rate=%{y}<extra></extra>",
         "legendgroup": "-20",
         "line": {
          "color": "#EF553B",
          "dash": "solid"
         },
         "marker": {
          "size": 5,
          "symbol": "circle"
         },
         "mode": "markers+lines",
         "name": "-20",
         "orientation": "v",
         "showlegend": true,
         "type": "scatter",
         "x": [
          0,
          1,
          2,
          3,
          4,
          5,
          6,
          7,
          8,
          9,
          10,
          11,
          12,
          13,
          14,
          15,
          16,
          17,
          18,
          19,
          20
         ],
         "xaxis": "x",
         "y": [
          0,
          0,
          0.12,
          0.12,
          0.25,
          0.25,
          0.37,
          0.37,
          0.37,
          0.37,
          0.37,
          0.37,
          0.62,
          0.62,
          0.62,
          0.62,
          0.62,
          0.74,
          0.74,
          0.74,
          0.74
         ],
         "yaxis": "y"
        },
        {
         "hovertemplate": "opening_month=-19<br>month_on_book=%{x}<br>due_rate=%{y}<extra></extra>",
         "legendgroup": "-19",
         "line": {
          "color": "#00cc96",
          "dash": "solid"
         },
         "marker": {
          "size": 5,
          "symbol": "circle"
         },
         "mode": "markers+lines",
         "name": "-19",
         "orientation": "v",
         "showlegend": true,
         "type": "scatter",
         "x": [
          0,
          1,
          2,
          3,
          4,
          5,
          6,
          7,
          8,
          9,
          10,
          11,
          12,
          13,
          14,
          15,
          16,
          17,
          18,
          19
         ],
         "xaxis": "x",
         "y": [
          0,
          0,
          0.26,
          0.26,
          0.26,
          0.53,
          0.79,
          0.92,
          1.06,
          1.06,
          1.19,
          1.32,
          1.32,
          1.32,
          1.32,
          1.45,
          1.45,
          1.59,
          1.59,
          1.59
         ],
         "yaxis": "y"
        },
        {
         "hovertemplate": "opening_month=-15<br>month_on_book=%{x}<br>due_rate=%{y}<extra></extra>",
         "legendgroup": "-15",
         "line": {
          "color": "#ab63fa",
          "dash": "solid"
         },
         "marker": {
          "size": 5,
          "symbol": "circle"
         },
         "mode": "markers+lines",
         "name": "-15",
         "orientation": "v",
         "showlegend": true,
         "type": "scatter",
         "x": [
          0,
          1,
          2,
          3,
          4,
          5,
          6,
          7,
          8,
          9,
          10,
          11,
          12,
          13,
          14,
          15
         ],
         "xaxis": "x",
         "y": [
          0,
          0,
          0.13,
          0.25,
          0.38,
          0.51,
          0.63,
          1.01,
          1.01,
          1.14,
          1.27,
          1.27,
          1.27,
          1.27,
          1.27,
          1.27
         ],
         "yaxis": "y"
        },
        {
         "hovertemplate": "opening_month=-12<br>month_on_book=%{x}<br>due_rate=%{y}<extra></extra>",
         "legendgroup": "-12",
         "line": {
          "color": "#FFA15A",
          "dash": "solid"
         },
         "marker": {
          "size": 5,
          "symbol": "circle"
         },
         "mode": "markers+lines",
         "name": "-12",
         "orientation": "v",
         "showlegend": true,
         "type": "scatter",
         "x": [
          0,
          1,
          2,
          3,
          4,
          5,
          6,
          7,
          8,
          9,
          10,
          11,
          12
         ],
         "xaxis": "x",
         "y": [
          0,
          0.12,
          0.23,
          0.35,
          0.35,
          0.35,
          0.47,
          0.93,
          0.93,
          0.93,
          0.93,
          0.93,
          0.93
         ],
         "yaxis": "y"
        }
       ],
       "layout": {
        "legend": {
         "title": {
          "text": "opening_month"
         },
         "tracegroupgap": 0
        },
        "margin": {
         "t": 60
        },
        "template": {
         "data": {
          "bar": [
           {
            "error_x": {
             "color": "#2a3f5f"
            },
            "error_y": {
             "color": "#2a3f5f"
            },
            "marker": {
             "line": {
              "color": "#E5ECF6",
              "width": 0.5
             },
             "pattern": {
              "fillmode": "overlay",
              "size": 10,
              "solidity": 0.2
             }
            },
            "type": "bar"
           }
          ],
          "barpolar": [
           {
            "marker": {
             "line": {
              "color": "#E5ECF6",
              "width": 0.5
             },
             "pattern": {
              "fillmode": "overlay",
              "size": 10,
              "solidity": 0.2
             }
            },
            "type": "barpolar"
           }
          ],
          "carpet": [
           {
            "aaxis": {
             "endlinecolor": "#2a3f5f",
             "gridcolor": "white",
             "linecolor": "white",
             "minorgridcolor": "white",
             "startlinecolor": "#2a3f5f"
            },
            "baxis": {
             "endlinecolor": "#2a3f5f",
             "gridcolor": "white",
             "linecolor": "white",
             "minorgridcolor": "white",
             "startlinecolor": "#2a3f5f"
            },
            "type": "carpet"
           }
          ],
          "choropleth": [
           {
            "colorbar": {
             "outlinewidth": 0,
             "ticks": ""
            },
            "type": "choropleth"
           }
          ],
          "contour": [
           {
            "colorbar": {
             "outlinewidth": 0,
             "ticks": ""
            },
            "colorscale": [
             [
              0,
              "#0d0887"
             ],
             [
              0.1111111111111111,
              "#46039f"
             ],
             [
              0.2222222222222222,
              "#7201a8"
             ],
             [
              0.3333333333333333,
              "#9c179e"
             ],
             [
              0.4444444444444444,
              "#bd3786"
             ],
             [
              0.5555555555555556,
              "#d8576b"
             ],
             [
              0.6666666666666666,
              "#ed7953"
             ],
             [
              0.7777777777777778,
              "#fb9f3a"
             ],
             [
              0.8888888888888888,
              "#fdca26"
             ],
             [
              1,
              "#f0f921"
             ]
            ],
            "type": "contour"
           }
          ],
          "contourcarpet": [
           {
            "colorbar": {
             "outlinewidth": 0,
             "ticks": ""
            },
            "type": "contourcarpet"
           }
          ],
          "heatmap": [
           {
            "colorbar": {
             "outlinewidth": 0,
             "ticks": ""
            },
            "colorscale": [
             [
              0,
              "#0d0887"
             ],
             [
              0.1111111111111111,
              "#46039f"
             ],
             [
              0.2222222222222222,
              "#7201a8"
             ],
             [
              0.3333333333333333,
              "#9c179e"
             ],
             [
              0.4444444444444444,
              "#bd3786"
             ],
             [
              0.5555555555555556,
              "#d8576b"
             ],
             [
              0.6666666666666666,
              "#ed7953"
             ],
             [
              0.7777777777777778,
              "#fb9f3a"
             ],
             [
              0.8888888888888888,
              "#fdca26"
             ],
             [
              1,
              "#f0f921"
             ]
            ],
            "type": "heatmap"
           }
          ],
          "heatmapgl": [
           {
            "colorbar": {
             "outlinewidth": 0,
             "ticks": ""
            },
            "colorscale": [
             [
              0,
              "#0d0887"
             ],
             [
              0.1111111111111111,
              "#46039f"
             ],
             [
              0.2222222222222222,
              "#7201a8"
             ],
             [
              0.3333333333333333,
              "#9c179e"
             ],
             [
              0.4444444444444444,
              "#bd3786"
             ],
             [
              0.5555555555555556,
              "#d8576b"
             ],
             [
              0.6666666666666666,
              "#ed7953"
             ],
             [
              0.7777777777777778,
              "#fb9f3a"
             ],
             [
              0.8888888888888888,
              "#fdca26"
             ],
             [
              1,
              "#f0f921"
             ]
            ],
            "type": "heatmapgl"
           }
          ],
          "histogram": [
           {
            "marker": {
             "pattern": {
              "fillmode": "overlay",
              "size": 10,
              "solidity": 0.2
             }
            },
            "type": "histogram"
           }
          ],
          "histogram2d": [
           {
            "colorbar": {
             "outlinewidth": 0,
             "ticks": ""
            },
            "colorscale": [
             [
              0,
              "#0d0887"
             ],
             [
              0.1111111111111111,
              "#46039f"
             ],
             [
              0.2222222222222222,
              "#7201a8"
             ],
             [
              0.3333333333333333,
              "#9c179e"
             ],
             [
              0.4444444444444444,
              "#bd3786"
             ],
             [
              0.5555555555555556,
              "#d8576b"
             ],
             [
              0.6666666666666666,
              "#ed7953"
             ],
             [
              0.7777777777777778,
              "#fb9f3a"
             ],
             [
              0.8888888888888888,
              "#fdca26"
             ],
             [
              1,
              "#f0f921"
             ]
            ],
            "type": "histogram2d"
           }
          ],
          "histogram2dcontour": [
           {
            "colorbar": {
             "outlinewidth": 0,
             "ticks": ""
            },
            "colorscale": [
             [
              0,
              "#0d0887"
             ],
             [
              0.1111111111111111,
              "#46039f"
             ],
             [
              0.2222222222222222,
              "#7201a8"
             ],
             [
              0.3333333333333333,
              "#9c179e"
             ],
             [
              0.4444444444444444,
              "#bd3786"
             ],
             [
              0.5555555555555556,
              "#d8576b"
             ],
             [
              0.6666666666666666,
              "#ed7953"
             ],
             [
              0.7777777777777778,
              "#fb9f3a"
             ],
             [
              0.8888888888888888,
              "#fdca26"
             ],
             [
              1,
              "#f0f921"
             ]
            ],
            "type": "histogram2dcontour"
           }
          ],
          "mesh3d": [
           {
            "colorbar": {
             "outlinewidth": 0,
             "ticks": ""
            },
            "type": "mesh3d"
           }
          ],
          "parcoords": [
           {
            "line": {
             "colorbar": {
              "outlinewidth": 0,
              "ticks": ""
             }
            },
            "type": "parcoords"
           }
          ],
          "pie": [
           {
            "automargin": true,
            "type": "pie"
           }
          ],
          "scatter": [
           {
            "fillpattern": {
             "fillmode": "overlay",
             "size": 10,
             "solidity": 0.2
            },
            "type": "scatter"
           }
          ],
          "scatter3d": [
           {
            "line": {
             "colorbar": {
              "outlinewidth": 0,
              "ticks": ""
             }
            },
            "marker": {
             "colorbar": {
              "outlinewidth": 0,
              "ticks": ""
             }
            },
            "type": "scatter3d"
           }
          ],
          "scattercarpet": [
           {
            "marker": {
             "colorbar": {
              "outlinewidth": 0,
              "ticks": ""
             }
            },
            "type": "scattercarpet"
           }
          ],
          "scattergeo": [
           {
            "marker": {
             "colorbar": {
              "outlinewidth": 0,
              "ticks": ""
             }
            },
            "type": "scattergeo"
           }
          ],
          "scattergl": [
           {
            "marker": {
             "colorbar": {
              "outlinewidth": 0,
              "ticks": ""
             }
            },
            "type": "scattergl"
           }
          ],
          "scattermapbox": [
           {
            "marker": {
             "colorbar": {
              "outlinewidth": 0,
              "ticks": ""
             }
            },
            "type": "scattermapbox"
           }
          ],
          "scatterpolar": [
           {
            "marker": {
             "colorbar": {
              "outlinewidth": 0,
              "ticks": ""
             }
            },
            "type": "scatterpolar"
           }
          ],
          "scatterpolargl": [
           {
            "marker": {
             "colorbar": {
              "outlinewidth": 0,
              "ticks": ""
             }
            },
            "type": "scatterpolargl"
           }
          ],
          "scatterternary": [
           {
            "marker": {
             "colorbar": {
              "outlinewidth": 0,
              "ticks": ""
             }
            },
            "type": "scatterternary"
           }
          ],
          "surface": [
           {
            "colorbar": {
             "outlinewidth": 0,
             "ticks": ""
            },
            "colorscale": [
             [
              0,
              "#0d0887"
             ],
             [
              0.1111111111111111,
              "#46039f"
             ],
             [
              0.2222222222222222,
              "#7201a8"
             ],
             [
              0.3333333333333333,
              "#9c179e"
             ],
             [
              0.4444444444444444,
              "#bd3786"
             ],
             [
              0.5555555555555556,
              "#d8576b"
             ],
             [
              0.6666666666666666,
              "#ed7953"
             ],
             [
              0.7777777777777778,
              "#fb9f3a"
             ],
             [
              0.8888888888888888,
              "#fdca26"
             ],
             [
              1,
              "#f0f921"
             ]
            ],
            "type": "surface"
           }
          ],
          "table": [
           {
            "cells": {
             "fill": {
              "color": "#EBF0F8"
             },
             "line": {
              "color": "white"
             }
            },
            "header": {
             "fill": {
              "color": "#C8D4E3"
             },
             "line": {
              "color": "white"
             }
            },
            "type": "table"
           }
          ]
         },
         "layout": {
          "annotationdefaults": {
           "arrowcolor": "#2a3f5f",
           "arrowhead": 0,
           "arrowwidth": 1
          },
          "autotypenumbers": "strict",
          "coloraxis": {
           "colorbar": {
            "outlinewidth": 0,
            "ticks": ""
           }
          },
          "colorscale": {
           "diverging": [
            [
             0,
             "#8e0152"
            ],
            [
             0.1,
             "#c51b7d"
            ],
            [
             0.2,
             "#de77ae"
            ],
            [
             0.3,
             "#f1b6da"
            ],
            [
             0.4,
             "#fde0ef"
            ],
            [
             0.5,
             "#f7f7f7"
            ],
            [
             0.6,
             "#e6f5d0"
            ],
            [
             0.7,
             "#b8e186"
            ],
            [
             0.8,
             "#7fbc41"
            ],
            [
             0.9,
             "#4d9221"
            ],
            [
             1,
             "#276419"
            ]
           ],
           "sequential": [
            [
             0,
             "#0d0887"
            ],
            [
             0.1111111111111111,
             "#46039f"
            ],
            [
             0.2222222222222222,
             "#7201a8"
            ],
            [
             0.3333333333333333,
             "#9c179e"
            ],
            [
             0.4444444444444444,
             "#bd3786"
            ],
            [
             0.5555555555555556,
             "#d8576b"
            ],
            [
             0.6666666666666666,
             "#ed7953"
            ],
            [
             0.7777777777777778,
             "#fb9f3a"
            ],
            [
             0.8888888888888888,
             "#fdca26"
            ],
            [
             1,
             "#f0f921"
            ]
           ],
           "sequentialminus": [
            [
             0,
             "#0d0887"
            ],
            [
             0.1111111111111111,
             "#46039f"
            ],
            [
             0.2222222222222222,
             "#7201a8"
            ],
            [
             0.3333333333333333,
             "#9c179e"
            ],
            [
             0.4444444444444444,
             "#bd3786"
            ],
            [
             0.5555555555555556,
             "#d8576b"
            ],
            [
             0.6666666666666666,
             "#ed7953"
            ],
            [
             0.7777777777777778,
             "#fb9f3a"
            ],
            [
             0.8888888888888888,
             "#fdca26"
            ],
            [
             1,
             "#f0f921"
            ]
           ]
          },
          "colorway": [
           "#636efa",
           "#EF553B",
           "#00cc96",
           "#ab63fa",
           "#FFA15A",
           "#19d3f3",
           "#FF6692",
           "#B6E880",
           "#FF97FF",
           "#FECB52"
          ],
          "font": {
           "color": "#2a3f5f"
          },
          "geo": {
           "bgcolor": "white",
           "lakecolor": "white",
           "landcolor": "#E5ECF6",
           "showlakes": true,
           "showland": true,
           "subunitcolor": "white"
          },
          "hoverlabel": {
           "align": "left"
          },
          "hovermode": "closest",
          "mapbox": {
           "style": "light"
          },
          "paper_bgcolor": "white",
          "plot_bgcolor": "#E5ECF6",
          "polar": {
           "angularaxis": {
            "gridcolor": "white",
            "linecolor": "white",
            "ticks": ""
           },
           "bgcolor": "#E5ECF6",
           "radialaxis": {
            "gridcolor": "white",
            "linecolor": "white",
            "ticks": ""
           }
          },
          "scene": {
           "xaxis": {
            "backgroundcolor": "#E5ECF6",
            "gridcolor": "white",
            "gridwidth": 2,
            "linecolor": "white",
            "showbackground": true,
            "ticks": "",
            "zerolinecolor": "white"
           },
           "yaxis": {
            "backgroundcolor": "#E5ECF6",
            "gridcolor": "white",
            "gridwidth": 2,
            "linecolor": "white",
            "showbackground": true,
            "ticks": "",
            "zerolinecolor": "white"
           },
           "zaxis": {
            "backgroundcolor": "#E5ECF6",
            "gridcolor": "white",
            "gridwidth": 2,
            "linecolor": "white",
            "showbackground": true,
            "ticks": "",
            "zerolinecolor": "white"
           }
          },
          "shapedefaults": {
           "line": {
            "color": "#2a3f5f"
           }
          },
          "ternary": {
           "aaxis": {
            "gridcolor": "white",
            "linecolor": "white",
            "ticks": ""
           },
           "baxis": {
            "gridcolor": "white",
            "linecolor": "white",
            "ticks": ""
           },
           "bgcolor": "#E5ECF6",
           "caxis": {
            "gridcolor": "white",
            "linecolor": "white",
            "ticks": ""
           }
          },
          "title": {
           "x": 0.05
          },
          "xaxis": {
           "automargin": true,
           "gridcolor": "white",
           "linecolor": "white",
           "ticks": "",
           "title": {
            "standoff": 15
           },
           "zerolinecolor": "white",
           "zerolinewidth": 2
          },
          "yaxis": {
           "automargin": true,
           "gridcolor": "white",
           "linecolor": "white",
           "ticks": "",
           "title": {
            "standoff": 15
           },
           "zerolinecolor": "white",
           "zerolinewidth": 2
          }
         }
        },
        "title": {
         "text": "Porcentaje acumulado de clientes morosos (> 60 días de atraso)"
        },
        "xaxis": {
         "anchor": "y",
         "domain": [
          0,
          1
         ],
         "title": {
          "text": "month_on_book"
         }
        },
        "yaxis": {
         "anchor": "x",
         "domain": [
          0,
          1
         ],
         "title": {
          "text": "due_rate"
         }
        }
       }
      },
      "text/html": [
       "<div>                            <div id=\"0f4bd08f-8bad-494b-a0c9-71fb41edd593\" class=\"plotly-graph-div\" style=\"height:525px; width:100%;\"></div>            <script type=\"text/javascript\">                require([\"plotly\"], function(Plotly) {                    window.PLOTLYENV=window.PLOTLYENV || {};                                    if (document.getElementById(\"0f4bd08f-8bad-494b-a0c9-71fb41edd593\")) {                    Plotly.newPlot(                        \"0f4bd08f-8bad-494b-a0c9-71fb41edd593\",                        [{\"hovertemplate\":\"opening_month=-24<br>month_on_book=%{x}<br>due_rate=%{y}<extra></extra>\",\"legendgroup\":\"-24\",\"line\":{\"color\":\"#636efa\",\"dash\":\"solid\"},\"marker\":{\"symbol\":\"circle\",\"size\":5},\"mode\":\"markers+lines\",\"name\":\"-24\",\"orientation\":\"v\",\"showlegend\":true,\"x\":[0,1,2,3,4,5,6,7,8,9,10,11,12,13,14,15,16,17,18,19,20,21,22,23,24],\"xaxis\":\"x\",\"y\":[0.0,0.0,0.0,0.0,0.0,0.13,0.26,0.39,0.39,0.51,0.51,0.51,0.64,0.64,0.64,0.64,0.64,0.64,0.64,0.64,0.77,0.77,0.77,0.77,0.77],\"yaxis\":\"y\",\"type\":\"scatter\"},{\"hovertemplate\":\"opening_month=-20<br>month_on_book=%{x}<br>due_rate=%{y}<extra></extra>\",\"legendgroup\":\"-20\",\"line\":{\"color\":\"#EF553B\",\"dash\":\"solid\"},\"marker\":{\"symbol\":\"circle\",\"size\":5},\"mode\":\"markers+lines\",\"name\":\"-20\",\"orientation\":\"v\",\"showlegend\":true,\"x\":[0,1,2,3,4,5,6,7,8,9,10,11,12,13,14,15,16,17,18,19,20],\"xaxis\":\"x\",\"y\":[0.0,0.0,0.12,0.12,0.25,0.25,0.37,0.37,0.37,0.37,0.37,0.37,0.62,0.62,0.62,0.62,0.62,0.74,0.74,0.74,0.74],\"yaxis\":\"y\",\"type\":\"scatter\"},{\"hovertemplate\":\"opening_month=-19<br>month_on_book=%{x}<br>due_rate=%{y}<extra></extra>\",\"legendgroup\":\"-19\",\"line\":{\"color\":\"#00cc96\",\"dash\":\"solid\"},\"marker\":{\"symbol\":\"circle\",\"size\":5},\"mode\":\"markers+lines\",\"name\":\"-19\",\"orientation\":\"v\",\"showlegend\":true,\"x\":[0,1,2,3,4,5,6,7,8,9,10,11,12,13,14,15,16,17,18,19],\"xaxis\":\"x\",\"y\":[0.0,0.0,0.26,0.26,0.26,0.53,0.79,0.92,1.06,1.06,1.19,1.32,1.32,1.32,1.32,1.45,1.45,1.59,1.59,1.59],\"yaxis\":\"y\",\"type\":\"scatter\"},{\"hovertemplate\":\"opening_month=-15<br>month_on_book=%{x}<br>due_rate=%{y}<extra></extra>\",\"legendgroup\":\"-15\",\"line\":{\"color\":\"#ab63fa\",\"dash\":\"solid\"},\"marker\":{\"symbol\":\"circle\",\"size\":5},\"mode\":\"markers+lines\",\"name\":\"-15\",\"orientation\":\"v\",\"showlegend\":true,\"x\":[0,1,2,3,4,5,6,7,8,9,10,11,12,13,14,15],\"xaxis\":\"x\",\"y\":[0.0,0.0,0.13,0.25,0.38,0.51,0.63,1.01,1.01,1.14,1.27,1.27,1.27,1.27,1.27,1.27],\"yaxis\":\"y\",\"type\":\"scatter\"},{\"hovertemplate\":\"opening_month=-12<br>month_on_book=%{x}<br>due_rate=%{y}<extra></extra>\",\"legendgroup\":\"-12\",\"line\":{\"color\":\"#FFA15A\",\"dash\":\"solid\"},\"marker\":{\"symbol\":\"circle\",\"size\":5},\"mode\":\"markers+lines\",\"name\":\"-12\",\"orientation\":\"v\",\"showlegend\":true,\"x\":[0,1,2,3,4,5,6,7,8,9,10,11,12],\"xaxis\":\"x\",\"y\":[0.0,0.12,0.23,0.35,0.35,0.35,0.47,0.93,0.93,0.93,0.93,0.93,0.93],\"yaxis\":\"y\",\"type\":\"scatter\"}],                        {\"template\":{\"data\":{\"histogram2dcontour\":[{\"type\":\"histogram2dcontour\",\"colorbar\":{\"outlinewidth\":0,\"ticks\":\"\"},\"colorscale\":[[0.0,\"#0d0887\"],[0.1111111111111111,\"#46039f\"],[0.2222222222222222,\"#7201a8\"],[0.3333333333333333,\"#9c179e\"],[0.4444444444444444,\"#bd3786\"],[0.5555555555555556,\"#d8576b\"],[0.6666666666666666,\"#ed7953\"],[0.7777777777777778,\"#fb9f3a\"],[0.8888888888888888,\"#fdca26\"],[1.0,\"#f0f921\"]]}],\"choropleth\":[{\"type\":\"choropleth\",\"colorbar\":{\"outlinewidth\":0,\"ticks\":\"\"}}],\"histogram2d\":[{\"type\":\"histogram2d\",\"colorbar\":{\"outlinewidth\":0,\"ticks\":\"\"},\"colorscale\":[[0.0,\"#0d0887\"],[0.1111111111111111,\"#46039f\"],[0.2222222222222222,\"#7201a8\"],[0.3333333333333333,\"#9c179e\"],[0.4444444444444444,\"#bd3786\"],[0.5555555555555556,\"#d8576b\"],[0.6666666666666666,\"#ed7953\"],[0.7777777777777778,\"#fb9f3a\"],[0.8888888888888888,\"#fdca26\"],[1.0,\"#f0f921\"]]}],\"heatmap\":[{\"type\":\"heatmap\",\"colorbar\":{\"outlinewidth\":0,\"ticks\":\"\"},\"colorscale\":[[0.0,\"#0d0887\"],[0.1111111111111111,\"#46039f\"],[0.2222222222222222,\"#7201a8\"],[0.3333333333333333,\"#9c179e\"],[0.4444444444444444,\"#bd3786\"],[0.5555555555555556,\"#d8576b\"],[0.6666666666666666,\"#ed7953\"],[0.7777777777777778,\"#fb9f3a\"],[0.8888888888888888,\"#fdca26\"],[1.0,\"#f0f921\"]]}],\"heatmapgl\":[{\"type\":\"heatmapgl\",\"colorbar\":{\"outlinewidth\":0,\"ticks\":\"\"},\"colorscale\":[[0.0,\"#0d0887\"],[0.1111111111111111,\"#46039f\"],[0.2222222222222222,\"#7201a8\"],[0.3333333333333333,\"#9c179e\"],[0.4444444444444444,\"#bd3786\"],[0.5555555555555556,\"#d8576b\"],[0.6666666666666666,\"#ed7953\"],[0.7777777777777778,\"#fb9f3a\"],[0.8888888888888888,\"#fdca26\"],[1.0,\"#f0f921\"]]}],\"contourcarpet\":[{\"type\":\"contourcarpet\",\"colorbar\":{\"outlinewidth\":0,\"ticks\":\"\"}}],\"contour\":[{\"type\":\"contour\",\"colorbar\":{\"outlinewidth\":0,\"ticks\":\"\"},\"colorscale\":[[0.0,\"#0d0887\"],[0.1111111111111111,\"#46039f\"],[0.2222222222222222,\"#7201a8\"],[0.3333333333333333,\"#9c179e\"],[0.4444444444444444,\"#bd3786\"],[0.5555555555555556,\"#d8576b\"],[0.6666666666666666,\"#ed7953\"],[0.7777777777777778,\"#fb9f3a\"],[0.8888888888888888,\"#fdca26\"],[1.0,\"#f0f921\"]]}],\"surface\":[{\"type\":\"surface\",\"colorbar\":{\"outlinewidth\":0,\"ticks\":\"\"},\"colorscale\":[[0.0,\"#0d0887\"],[0.1111111111111111,\"#46039f\"],[0.2222222222222222,\"#7201a8\"],[0.3333333333333333,\"#9c179e\"],[0.4444444444444444,\"#bd3786\"],[0.5555555555555556,\"#d8576b\"],[0.6666666666666666,\"#ed7953\"],[0.7777777777777778,\"#fb9f3a\"],[0.8888888888888888,\"#fdca26\"],[1.0,\"#f0f921\"]]}],\"mesh3d\":[{\"type\":\"mesh3d\",\"colorbar\":{\"outlinewidth\":0,\"ticks\":\"\"}}],\"scatter\":[{\"fillpattern\":{\"fillmode\":\"overlay\",\"size\":10,\"solidity\":0.2},\"type\":\"scatter\"}],\"parcoords\":[{\"type\":\"parcoords\",\"line\":{\"colorbar\":{\"outlinewidth\":0,\"ticks\":\"\"}}}],\"scatterpolargl\":[{\"type\":\"scatterpolargl\",\"marker\":{\"colorbar\":{\"outlinewidth\":0,\"ticks\":\"\"}}}],\"bar\":[{\"error_x\":{\"color\":\"#2a3f5f\"},\"error_y\":{\"color\":\"#2a3f5f\"},\"marker\":{\"line\":{\"color\":\"#E5ECF6\",\"width\":0.5},\"pattern\":{\"fillmode\":\"overlay\",\"size\":10,\"solidity\":0.2}},\"type\":\"bar\"}],\"scattergeo\":[{\"type\":\"scattergeo\",\"marker\":{\"colorbar\":{\"outlinewidth\":0,\"ticks\":\"\"}}}],\"scatterpolar\":[{\"type\":\"scatterpolar\",\"marker\":{\"colorbar\":{\"outlinewidth\":0,\"ticks\":\"\"}}}],\"histogram\":[{\"marker\":{\"pattern\":{\"fillmode\":\"overlay\",\"size\":10,\"solidity\":0.2}},\"type\":\"histogram\"}],\"scattergl\":[{\"type\":\"scattergl\",\"marker\":{\"colorbar\":{\"outlinewidth\":0,\"ticks\":\"\"}}}],\"scatter3d\":[{\"type\":\"scatter3d\",\"line\":{\"colorbar\":{\"outlinewidth\":0,\"ticks\":\"\"}},\"marker\":{\"colorbar\":{\"outlinewidth\":0,\"ticks\":\"\"}}}],\"scattermapbox\":[{\"type\":\"scattermapbox\",\"marker\":{\"colorbar\":{\"outlinewidth\":0,\"ticks\":\"\"}}}],\"scatterternary\":[{\"type\":\"scatterternary\",\"marker\":{\"colorbar\":{\"outlinewidth\":0,\"ticks\":\"\"}}}],\"scattercarpet\":[{\"type\":\"scattercarpet\",\"marker\":{\"colorbar\":{\"outlinewidth\":0,\"ticks\":\"\"}}}],\"carpet\":[{\"aaxis\":{\"endlinecolor\":\"#2a3f5f\",\"gridcolor\":\"white\",\"linecolor\":\"white\",\"minorgridcolor\":\"white\",\"startlinecolor\":\"#2a3f5f\"},\"baxis\":{\"endlinecolor\":\"#2a3f5f\",\"gridcolor\":\"white\",\"linecolor\":\"white\",\"minorgridcolor\":\"white\",\"startlinecolor\":\"#2a3f5f\"},\"type\":\"carpet\"}],\"table\":[{\"cells\":{\"fill\":{\"color\":\"#EBF0F8\"},\"line\":{\"color\":\"white\"}},\"header\":{\"fill\":{\"color\":\"#C8D4E3\"},\"line\":{\"color\":\"white\"}},\"type\":\"table\"}],\"barpolar\":[{\"marker\":{\"line\":{\"color\":\"#E5ECF6\",\"width\":0.5},\"pattern\":{\"fillmode\":\"overlay\",\"size\":10,\"solidity\":0.2}},\"type\":\"barpolar\"}],\"pie\":[{\"automargin\":true,\"type\":\"pie\"}]},\"layout\":{\"autotypenumbers\":\"strict\",\"colorway\":[\"#636efa\",\"#EF553B\",\"#00cc96\",\"#ab63fa\",\"#FFA15A\",\"#19d3f3\",\"#FF6692\",\"#B6E880\",\"#FF97FF\",\"#FECB52\"],\"font\":{\"color\":\"#2a3f5f\"},\"hovermode\":\"closest\",\"hoverlabel\":{\"align\":\"left\"},\"paper_bgcolor\":\"white\",\"plot_bgcolor\":\"#E5ECF6\",\"polar\":{\"bgcolor\":\"#E5ECF6\",\"angularaxis\":{\"gridcolor\":\"white\",\"linecolor\":\"white\",\"ticks\":\"\"},\"radialaxis\":{\"gridcolor\":\"white\",\"linecolor\":\"white\",\"ticks\":\"\"}},\"ternary\":{\"bgcolor\":\"#E5ECF6\",\"aaxis\":{\"gridcolor\":\"white\",\"linecolor\":\"white\",\"ticks\":\"\"},\"baxis\":{\"gridcolor\":\"white\",\"linecolor\":\"white\",\"ticks\":\"\"},\"caxis\":{\"gridcolor\":\"white\",\"linecolor\":\"white\",\"ticks\":\"\"}},\"coloraxis\":{\"colorbar\":{\"outlinewidth\":0,\"ticks\":\"\"}},\"colorscale\":{\"sequential\":[[0.0,\"#0d0887\"],[0.1111111111111111,\"#46039f\"],[0.2222222222222222,\"#7201a8\"],[0.3333333333333333,\"#9c179e\"],[0.4444444444444444,\"#bd3786\"],[0.5555555555555556,\"#d8576b\"],[0.6666666666666666,\"#ed7953\"],[0.7777777777777778,\"#fb9f3a\"],[0.8888888888888888,\"#fdca26\"],[1.0,\"#f0f921\"]],\"sequentialminus\":[[0.0,\"#0d0887\"],[0.1111111111111111,\"#46039f\"],[0.2222222222222222,\"#7201a8\"],[0.3333333333333333,\"#9c179e\"],[0.4444444444444444,\"#bd3786\"],[0.5555555555555556,\"#d8576b\"],[0.6666666666666666,\"#ed7953\"],[0.7777777777777778,\"#fb9f3a\"],[0.8888888888888888,\"#fdca26\"],[1.0,\"#f0f921\"]],\"diverging\":[[0,\"#8e0152\"],[0.1,\"#c51b7d\"],[0.2,\"#de77ae\"],[0.3,\"#f1b6da\"],[0.4,\"#fde0ef\"],[0.5,\"#f7f7f7\"],[0.6,\"#e6f5d0\"],[0.7,\"#b8e186\"],[0.8,\"#7fbc41\"],[0.9,\"#4d9221\"],[1,\"#276419\"]]},\"xaxis\":{\"gridcolor\":\"white\",\"linecolor\":\"white\",\"ticks\":\"\",\"title\":{\"standoff\":15},\"zerolinecolor\":\"white\",\"automargin\":true,\"zerolinewidth\":2},\"yaxis\":{\"gridcolor\":\"white\",\"linecolor\":\"white\",\"ticks\":\"\",\"title\":{\"standoff\":15},\"zerolinecolor\":\"white\",\"automargin\":true,\"zerolinewidth\":2},\"scene\":{\"xaxis\":{\"backgroundcolor\":\"#E5ECF6\",\"gridcolor\":\"white\",\"linecolor\":\"white\",\"showbackground\":true,\"ticks\":\"\",\"zerolinecolor\":\"white\",\"gridwidth\":2},\"yaxis\":{\"backgroundcolor\":\"#E5ECF6\",\"gridcolor\":\"white\",\"linecolor\":\"white\",\"showbackground\":true,\"ticks\":\"\",\"zerolinecolor\":\"white\",\"gridwidth\":2},\"zaxis\":{\"backgroundcolor\":\"#E5ECF6\",\"gridcolor\":\"white\",\"linecolor\":\"white\",\"showbackground\":true,\"ticks\":\"\",\"zerolinecolor\":\"white\",\"gridwidth\":2}},\"shapedefaults\":{\"line\":{\"color\":\"#2a3f5f\"}},\"annotationdefaults\":{\"arrowcolor\":\"#2a3f5f\",\"arrowhead\":0,\"arrowwidth\":1},\"geo\":{\"bgcolor\":\"white\",\"landcolor\":\"#E5ECF6\",\"subunitcolor\":\"white\",\"showland\":true,\"showlakes\":true,\"lakecolor\":\"white\"},\"title\":{\"x\":0.05},\"mapbox\":{\"style\":\"light\"}}},\"xaxis\":{\"anchor\":\"y\",\"domain\":[0.0,1.0],\"title\":{\"text\":\"month_on_book\"}},\"yaxis\":{\"anchor\":\"x\",\"domain\":[0.0,1.0],\"title\":{\"text\":\"due_rate\"}},\"legend\":{\"title\":{\"text\":\"opening_month\"},\"tracegroupgap\":0},\"margin\":{\"t\":60},\"title\":{\"text\":\"Porcentaje acumulado de clientes morosos (> 60 d\\u00edas de atraso)\"}},                        {\"responsive\": true}                    ).then(function(){\n",
       "                            \n",
       "var gd = document.getElementById('0f4bd08f-8bad-494b-a0c9-71fb41edd593');\n",
       "var x = new MutationObserver(function (mutations, observer) {{\n",
       "        var display = window.getComputedStyle(gd).display;\n",
       "        if (!display || display === 'none') {{\n",
       "            console.log([gd, 'removed!']);\n",
       "            Plotly.purge(gd);\n",
       "            observer.disconnect();\n",
       "        }}\n",
       "}});\n",
       "\n",
       "// Listen for the removal of the full notebook cells\n",
       "var notebookContainer = gd.closest('#notebook-container');\n",
       "if (notebookContainer) {{\n",
       "    x.observe(notebookContainer, {childList: true});\n",
       "}}\n",
       "\n",
       "// Listen for the clearing of the current output cell\n",
       "var outputEl = gd.closest('.output');\n",
       "if (outputEl) {{\n",
       "    x.observe(outputEl, {childList: true});\n",
       "}}\n",
       "\n",
       "                        })                };                });            </script>        </div>"
      ]
     },
     "metadata": {},
     "output_type": "display_data"
    }
   ],
   "source": [
    "examples =  get_vintage_analysis_by_interval(df_vintage=df_vintage_2,\n",
    "                                             time_interval=None,\n",
    "                                             cohorts_list=[-12, -24, -15, -19, -20])\n",
    "get_cohort_graph(examples, bucket_2)"
   ]
  },
  {
   "cell_type": "markdown",
   "id": "083274d5",
   "metadata": {},
   "source": [
    "En ellas, se puede ver que los acumulados de porcentajes de mora son superiores en los cohortes -19 y -15 con respecto a los de -12, a partir del mes activo 5, pero los acumulados para el cohorte de -12 son superiores en todo momento a los de los cohortes -20 y -24."
   ]
  },
  {
   "cell_type": "markdown",
   "id": "faf0dd7f",
   "metadata": {},
   "source": [
    "No se puede analizar cada una de las curvas a profundidad, pero sí pueden ser comparadas utilizando períodos de tiempo entre ellas dados, por ejemplo, por bimestre, trimestre, cuatrimeste, semestre y anual.\n",
    "Haciendo un análsis previo de todas ellas, se elige hacer un comparativo cuatrimestral."
   ]
  },
  {
   "cell_type": "code",
   "execution_count": 27,
   "id": "bcc60550",
   "metadata": {},
   "outputs": [
    {
     "data": {
      "application/vnd.plotly.v1+json": {
       "config": {
        "plotlyServerURL": "https://plot.ly"
       },
       "data": [
        {
         "hovertemplate": "opening_month=-60<br>month_on_book=%{x}<br>due_rate=%{y}<extra></extra>",
         "legendgroup": "-60",
         "line": {
          "color": "#636efa",
          "dash": "solid"
         },
         "marker": {
          "size": 5,
          "symbol": "circle"
         },
         "mode": "markers+lines",
         "name": "-60",
         "orientation": "v",
         "showlegend": true,
         "type": "scatter",
         "x": [
          0,
          1,
          2,
          3,
          4,
          5,
          6,
          7,
          8,
          9,
          10,
          11,
          12,
          13,
          14,
          15,
          16,
          17,
          18,
          19,
          20,
          21,
          22,
          23,
          24,
          25,
          26,
          27,
          28,
          29,
          30,
          31,
          32,
          33,
          34,
          35,
          36,
          37,
          38,
          39,
          40,
          41,
          42,
          43,
          44,
          45,
          46,
          47,
          48,
          49,
          50,
          51,
          52,
          53,
          54,
          55,
          56,
          57,
          58,
          59,
          60
         ],
         "xaxis": "x",
         "y": [
          0,
          0,
          0,
          0,
          0,
          0.27,
          0.27,
          0.81,
          0.81,
          1.08,
          1.08,
          1.35,
          1.62,
          1.89,
          1.89,
          1.89,
          1.89,
          1.89,
          1.89,
          1.89,
          1.89,
          2.16,
          2.16,
          2.16,
          2.16,
          2.43,
          2.43,
          2.43,
          2.43,
          2.7,
          2.97,
          2.97,
          2.97,
          2.97,
          2.97,
          2.97,
          2.97,
          2.97,
          2.97,
          2.97,
          2.97,
          2.97,
          2.97,
          2.97,
          2.97,
          2.97,
          2.97,
          2.97,
          2.97,
          2.97,
          3.24,
          3.24,
          3.24,
          3.24,
          3.24,
          3.24,
          3.24,
          3.24,
          3.51,
          3.51,
          3.51
         ],
         "yaxis": "y"
        },
        {
         "hovertemplate": "opening_month=-56<br>month_on_book=%{x}<br>due_rate=%{y}<extra></extra>",
         "legendgroup": "-56",
         "line": {
          "color": "#EF553B",
          "dash": "solid"
         },
         "marker": {
          "size": 5,
          "symbol": "circle"
         },
         "mode": "markers+lines",
         "name": "-56",
         "orientation": "v",
         "showlegend": true,
         "type": "scatter",
         "x": [
          0,
          1,
          2,
          3,
          4,
          5,
          6,
          7,
          8,
          9,
          10,
          11,
          12,
          13,
          14,
          15,
          16,
          17,
          18,
          19,
          20,
          21,
          22,
          23,
          24,
          25,
          26,
          27,
          28,
          29,
          30,
          31,
          32,
          33,
          34,
          35,
          36,
          37,
          38,
          39,
          40,
          41,
          42,
          43,
          44,
          45,
          46,
          47,
          48,
          49,
          50,
          51,
          52,
          53,
          54,
          55,
          56
         ],
         "xaxis": "x",
         "y": [
          0,
          0,
          0.47,
          0.47,
          0.93,
          1.17,
          1.17,
          1.87,
          1.87,
          2.34,
          2.34,
          2.8,
          3.27,
          3.74,
          3.74,
          3.74,
          3.74,
          3.74,
          3.74,
          3.74,
          3.74,
          3.74,
          3.74,
          3.74,
          3.74,
          3.74,
          3.74,
          3.74,
          3.74,
          3.74,
          3.74,
          3.74,
          3.74,
          3.74,
          3.74,
          3.74,
          3.74,
          3.74,
          3.74,
          3.74,
          3.74,
          3.74,
          3.74,
          3.74,
          3.74,
          3.74,
          3.74,
          3.74,
          3.74,
          3.74,
          3.74,
          3.97,
          3.97,
          3.97,
          3.97,
          4.21,
          4.21
         ],
         "yaxis": "y"
        },
        {
         "hovertemplate": "opening_month=-52<br>month_on_book=%{x}<br>due_rate=%{y}<extra></extra>",
         "legendgroup": "-52",
         "line": {
          "color": "#00cc96",
          "dash": "solid"
         },
         "marker": {
          "size": 5,
          "symbol": "circle"
         },
         "mode": "markers+lines",
         "name": "-52",
         "orientation": "v",
         "showlegend": true,
         "type": "scatter",
         "x": [
          0,
          1,
          2,
          3,
          4,
          5,
          6,
          7,
          8,
          9,
          10,
          11,
          12,
          13,
          14,
          15,
          16,
          17,
          18,
          19,
          20,
          21,
          22,
          23,
          24,
          25,
          26,
          27,
          28,
          29,
          30,
          31,
          32,
          33,
          34,
          35,
          36,
          37,
          38,
          39,
          40,
          41,
          42,
          43,
          44,
          45,
          46,
          47,
          48,
          49,
          50,
          51,
          52
         ],
         "xaxis": "x",
         "y": [
          0,
          0,
          0.83,
          1.03,
          1.03,
          1.03,
          1.45,
          1.45,
          1.65,
          1.86,
          1.86,
          1.86,
          2.07,
          2.07,
          2.07,
          2.27,
          2.27,
          2.48,
          2.48,
          2.48,
          2.48,
          2.48,
          2.48,
          2.48,
          2.48,
          2.48,
          2.48,
          2.48,
          2.48,
          2.48,
          2.48,
          2.48,
          2.48,
          2.48,
          2.48,
          2.48,
          2.48,
          2.69,
          2.69,
          2.69,
          2.69,
          2.69,
          2.69,
          2.69,
          2.69,
          2.69,
          2.69,
          2.69,
          2.69,
          2.69,
          2.69,
          2.69,
          2.69
         ],
         "yaxis": "y"
        },
        {
         "hovertemplate": "opening_month=-48<br>month_on_book=%{x}<br>due_rate=%{y}<extra></extra>",
         "legendgroup": "-48",
         "line": {
          "color": "#ab63fa",
          "dash": "solid"
         },
         "marker": {
          "size": 5,
          "symbol": "circle"
         },
         "mode": "markers+lines",
         "name": "-48",
         "orientation": "v",
         "showlegend": true,
         "type": "scatter",
         "x": [
          0,
          1,
          2,
          3,
          4,
          5,
          6,
          7,
          8,
          9,
          10,
          11,
          12,
          13,
          14,
          15,
          16,
          17,
          18,
          19,
          20,
          21,
          22,
          23,
          24,
          25,
          26,
          27,
          28,
          29,
          30,
          31,
          32,
          33,
          34,
          35,
          36,
          37,
          38,
          39,
          40,
          41,
          42,
          43,
          44,
          45,
          46,
          47,
          48
         ],
         "xaxis": "x",
         "y": [
          0,
          0,
          0,
          0.19,
          0.58,
          0.77,
          0.96,
          1.16,
          1.35,
          1.35,
          1.73,
          1.93,
          1.93,
          1.93,
          2.12,
          2.31,
          2.31,
          2.5,
          2.5,
          2.5,
          2.7,
          2.89,
          2.89,
          2.89,
          2.89,
          2.89,
          2.89,
          2.89,
          2.89,
          2.89,
          2.89,
          2.89,
          2.89,
          2.89,
          2.89,
          2.89,
          2.89,
          2.89,
          2.89,
          2.89,
          2.89,
          2.89,
          2.89,
          3.08,
          3.08,
          3.08,
          3.08,
          3.08,
          3.08
         ],
         "yaxis": "y"
        },
        {
         "hovertemplate": "opening_month=-44<br>month_on_book=%{x}<br>due_rate=%{y}<extra></extra>",
         "legendgroup": "-44",
         "line": {
          "color": "#FFA15A",
          "dash": "solid"
         },
         "marker": {
          "size": 5,
          "symbol": "circle"
         },
         "mode": "markers+lines",
         "name": "-44",
         "orientation": "v",
         "showlegend": true,
         "type": "scatter",
         "x": [
          0,
          1,
          2,
          3,
          4,
          5,
          6,
          7,
          8,
          9,
          10,
          11,
          12,
          13,
          14,
          15,
          16,
          17,
          18,
          19,
          20,
          21,
          22,
          23,
          24,
          25,
          26,
          27,
          28,
          29,
          30,
          31,
          32,
          33,
          34,
          35,
          36,
          37,
          38,
          39,
          40,
          41,
          42,
          43,
          44
         ],
         "xaxis": "x",
         "y": [
          0,
          0.19,
          0.38,
          0.56,
          0.56,
          0.75,
          0.94,
          1.31,
          1.31,
          1.31,
          1.5,
          1.69,
          1.69,
          1.69,
          1.69,
          1.69,
          1.69,
          1.69,
          1.69,
          1.88,
          1.88,
          1.88,
          2.06,
          2.06,
          2.06,
          2.06,
          2.06,
          2.06,
          2.06,
          2.06,
          2.06,
          2.06,
          2.06,
          2.06,
          2.25,
          2.25,
          2.25,
          2.25,
          2.25,
          2.25,
          2.25,
          2.25,
          2.25,
          2.25,
          2.25
         ],
         "yaxis": "y"
        },
        {
         "hovertemplate": "opening_month=-40<br>month_on_book=%{x}<br>due_rate=%{y}<extra></extra>",
         "legendgroup": "-40",
         "line": {
          "color": "#19d3f3",
          "dash": "solid"
         },
         "marker": {
          "size": 5,
          "symbol": "circle"
         },
         "mode": "markers+lines",
         "name": "-40",
         "orientation": "v",
         "showlegend": true,
         "type": "scatter",
         "x": [
          0,
          1,
          2,
          3,
          4,
          5,
          6,
          7,
          8,
          9,
          10,
          11,
          12,
          13,
          14,
          15,
          16,
          17,
          18,
          19,
          20,
          21,
          22,
          23,
          24,
          25,
          26,
          27,
          28,
          29,
          30,
          31,
          32,
          33,
          34,
          35,
          36,
          37,
          38,
          39,
          40
         ],
         "xaxis": "x",
         "y": [
          0,
          0,
          0.31,
          0.31,
          0.78,
          0.93,
          1.09,
          1.09,
          1.09,
          1.4,
          1.56,
          1.56,
          1.71,
          2.02,
          2.02,
          2.02,
          2.02,
          2.02,
          2.02,
          2.34,
          2.34,
          2.34,
          2.34,
          2.34,
          2.34,
          2.34,
          2.34,
          2.49,
          2.65,
          2.65,
          2.65,
          2.65,
          2.65,
          2.65,
          2.96,
          2.96,
          2.96,
          2.96,
          2.96,
          2.96,
          2.96
         ],
         "yaxis": "y"
        },
        {
         "hovertemplate": "opening_month=-36<br>month_on_book=%{x}<br>due_rate=%{y}<extra></extra>",
         "legendgroup": "-36",
         "line": {
          "color": "#FF6692",
          "dash": "solid"
         },
         "marker": {
          "size": 5,
          "symbol": "circle"
         },
         "mode": "markers+lines",
         "name": "-36",
         "orientation": "v",
         "showlegend": true,
         "type": "scatter",
         "x": [
          0,
          1,
          2,
          3,
          4,
          5,
          6,
          7,
          8,
          9,
          10,
          11,
          12,
          13,
          14,
          15,
          16,
          17,
          18,
          19,
          20,
          21,
          22,
          23,
          24,
          25,
          26,
          27,
          28,
          29,
          30,
          31,
          32,
          33,
          34,
          35,
          36
         ],
         "xaxis": "x",
         "y": [
          0,
          0,
          0,
          0.16,
          0.32,
          0.64,
          0.64,
          0.8,
          1.12,
          1.28,
          1.6,
          1.6,
          1.76,
          1.76,
          1.76,
          1.76,
          1.76,
          1.76,
          1.92,
          1.92,
          1.92,
          1.92,
          1.92,
          1.92,
          1.92,
          2.08,
          2.08,
          2.08,
          2.08,
          2.24,
          2.24,
          2.24,
          2.24,
          2.24,
          2.24,
          2.24,
          2.24
         ],
         "yaxis": "y"
        },
        {
         "hovertemplate": "opening_month=-32<br>month_on_book=%{x}<br>due_rate=%{y}<extra></extra>",
         "legendgroup": "-32",
         "line": {
          "color": "#B6E880",
          "dash": "solid"
         },
         "marker": {
          "size": 5,
          "symbol": "circle"
         },
         "mode": "markers+lines",
         "name": "-32",
         "orientation": "v",
         "showlegend": true,
         "type": "scatter",
         "x": [
          0,
          1,
          2,
          3,
          4,
          5,
          6,
          7,
          8,
          9,
          10,
          11,
          12,
          13,
          14,
          15,
          16,
          17,
          18,
          19,
          20,
          21,
          22,
          23,
          24,
          25,
          26,
          27,
          28,
          29,
          30,
          31,
          32
         ],
         "xaxis": "x",
         "y": [
          0,
          0,
          0.15,
          0.15,
          0.3,
          0.3,
          0.45,
          0.45,
          0.74,
          0.74,
          0.89,
          0.89,
          0.89,
          1.04,
          1.04,
          1.04,
          1.04,
          1.04,
          1.19,
          1.19,
          1.19,
          1.19,
          1.19,
          1.19,
          1.19,
          1.19,
          1.34,
          1.34,
          1.34,
          1.34,
          1.34,
          1.34,
          1.49
         ],
         "yaxis": "y"
        },
        {
         "hovertemplate": "opening_month=-28<br>month_on_book=%{x}<br>due_rate=%{y}<extra></extra>",
         "legendgroup": "-28",
         "line": {
          "color": "#FF97FF",
          "dash": "solid"
         },
         "marker": {
          "size": 5,
          "symbol": "circle"
         },
         "mode": "markers+lines",
         "name": "-28",
         "orientation": "v",
         "showlegend": true,
         "type": "scatter",
         "x": [
          0,
          1,
          2,
          3,
          4,
          5,
          6,
          7,
          8,
          9,
          10,
          11,
          12,
          13,
          14,
          15,
          16,
          17,
          18,
          19,
          20,
          21,
          22,
          23,
          24,
          25,
          26,
          27,
          28
         ],
         "xaxis": "x",
         "y": [
          0,
          0,
          0.14,
          0.14,
          0.14,
          0.28,
          0.42,
          0.56,
          0.7,
          0.84,
          0.98,
          0.98,
          0.98,
          1.12,
          1.12,
          1.26,
          1.26,
          1.26,
          1.26,
          1.26,
          1.4,
          1.4,
          1.4,
          1.54,
          1.54,
          1.68,
          1.68,
          1.68,
          1.68
         ],
         "yaxis": "y"
        },
        {
         "hovertemplate": "opening_month=-24<br>month_on_book=%{x}<br>due_rate=%{y}<extra></extra>",
         "legendgroup": "-24",
         "line": {
          "color": "#FECB52",
          "dash": "solid"
         },
         "marker": {
          "size": 5,
          "symbol": "circle"
         },
         "mode": "markers+lines",
         "name": "-24",
         "orientation": "v",
         "showlegend": true,
         "type": "scatter",
         "x": [
          0,
          1,
          2,
          3,
          4,
          5,
          6,
          7,
          8,
          9,
          10,
          11,
          12,
          13,
          14,
          15,
          16,
          17,
          18,
          19,
          20,
          21,
          22,
          23,
          24
         ],
         "xaxis": "x",
         "y": [
          0,
          0,
          0,
          0,
          0,
          0.13,
          0.26,
          0.39,
          0.39,
          0.51,
          0.51,
          0.51,
          0.64,
          0.64,
          0.64,
          0.64,
          0.64,
          0.64,
          0.64,
          0.64,
          0.77,
          0.77,
          0.77,
          0.77,
          0.77
         ],
         "yaxis": "y"
        },
        {
         "hovertemplate": "opening_month=-20<br>month_on_book=%{x}<br>due_rate=%{y}<extra></extra>",
         "legendgroup": "-20",
         "line": {
          "color": "#636efa",
          "dash": "solid"
         },
         "marker": {
          "size": 5,
          "symbol": "circle"
         },
         "mode": "markers+lines",
         "name": "-20",
         "orientation": "v",
         "showlegend": true,
         "type": "scatter",
         "x": [
          0,
          1,
          2,
          3,
          4,
          5,
          6,
          7,
          8,
          9,
          10,
          11,
          12,
          13,
          14,
          15,
          16,
          17,
          18,
          19,
          20
         ],
         "xaxis": "x",
         "y": [
          0,
          0,
          0.12,
          0.12,
          0.25,
          0.25,
          0.37,
          0.37,
          0.37,
          0.37,
          0.37,
          0.37,
          0.62,
          0.62,
          0.62,
          0.62,
          0.62,
          0.74,
          0.74,
          0.74,
          0.74
         ],
         "yaxis": "y"
        },
        {
         "hovertemplate": "opening_month=-16<br>month_on_book=%{x}<br>due_rate=%{y}<extra></extra>",
         "legendgroup": "-16",
         "line": {
          "color": "#EF553B",
          "dash": "solid"
         },
         "marker": {
          "size": 5,
          "symbol": "circle"
         },
         "mode": "markers+lines",
         "name": "-16",
         "orientation": "v",
         "showlegend": true,
         "type": "scatter",
         "x": [
          0,
          1,
          2,
          3,
          4,
          5,
          6,
          7,
          8,
          9,
          10,
          11,
          12,
          13,
          14,
          15,
          16
         ],
         "xaxis": "x",
         "y": [
          0,
          0,
          0,
          0,
          0,
          0.12,
          0.12,
          0.24,
          0.48,
          0.61,
          0.73,
          1.21,
          1.21,
          1.33,
          1.33,
          1.33,
          1.33
         ],
         "yaxis": "y"
        },
        {
         "hovertemplate": "opening_month=-12<br>month_on_book=%{x}<br>due_rate=%{y}<extra></extra>",
         "legendgroup": "-12",
         "line": {
          "color": "#00cc96",
          "dash": "solid"
         },
         "marker": {
          "size": 5,
          "symbol": "circle"
         },
         "mode": "markers+lines",
         "name": "-12",
         "orientation": "v",
         "showlegend": true,
         "type": "scatter",
         "x": [
          0,
          1,
          2,
          3,
          4,
          5,
          6,
          7,
          8,
          9,
          10,
          11,
          12
         ],
         "xaxis": "x",
         "y": [
          0,
          0.12,
          0.23,
          0.35,
          0.35,
          0.35,
          0.47,
          0.93,
          0.93,
          0.93,
          0.93,
          0.93,
          0.93
         ],
         "yaxis": "y"
        }
       ],
       "layout": {
        "legend": {
         "title": {
          "text": "opening_month"
         },
         "tracegroupgap": 0
        },
        "margin": {
         "t": 60
        },
        "template": {
         "data": {
          "bar": [
           {
            "error_x": {
             "color": "#2a3f5f"
            },
            "error_y": {
             "color": "#2a3f5f"
            },
            "marker": {
             "line": {
              "color": "#E5ECF6",
              "width": 0.5
             },
             "pattern": {
              "fillmode": "overlay",
              "size": 10,
              "solidity": 0.2
             }
            },
            "type": "bar"
           }
          ],
          "barpolar": [
           {
            "marker": {
             "line": {
              "color": "#E5ECF6",
              "width": 0.5
             },
             "pattern": {
              "fillmode": "overlay",
              "size": 10,
              "solidity": 0.2
             }
            },
            "type": "barpolar"
           }
          ],
          "carpet": [
           {
            "aaxis": {
             "endlinecolor": "#2a3f5f",
             "gridcolor": "white",
             "linecolor": "white",
             "minorgridcolor": "white",
             "startlinecolor": "#2a3f5f"
            },
            "baxis": {
             "endlinecolor": "#2a3f5f",
             "gridcolor": "white",
             "linecolor": "white",
             "minorgridcolor": "white",
             "startlinecolor": "#2a3f5f"
            },
            "type": "carpet"
           }
          ],
          "choropleth": [
           {
            "colorbar": {
             "outlinewidth": 0,
             "ticks": ""
            },
            "type": "choropleth"
           }
          ],
          "contour": [
           {
            "colorbar": {
             "outlinewidth": 0,
             "ticks": ""
            },
            "colorscale": [
             [
              0,
              "#0d0887"
             ],
             [
              0.1111111111111111,
              "#46039f"
             ],
             [
              0.2222222222222222,
              "#7201a8"
             ],
             [
              0.3333333333333333,
              "#9c179e"
             ],
             [
              0.4444444444444444,
              "#bd3786"
             ],
             [
              0.5555555555555556,
              "#d8576b"
             ],
             [
              0.6666666666666666,
              "#ed7953"
             ],
             [
              0.7777777777777778,
              "#fb9f3a"
             ],
             [
              0.8888888888888888,
              "#fdca26"
             ],
             [
              1,
              "#f0f921"
             ]
            ],
            "type": "contour"
           }
          ],
          "contourcarpet": [
           {
            "colorbar": {
             "outlinewidth": 0,
             "ticks": ""
            },
            "type": "contourcarpet"
           }
          ],
          "heatmap": [
           {
            "colorbar": {
             "outlinewidth": 0,
             "ticks": ""
            },
            "colorscale": [
             [
              0,
              "#0d0887"
             ],
             [
              0.1111111111111111,
              "#46039f"
             ],
             [
              0.2222222222222222,
              "#7201a8"
             ],
             [
              0.3333333333333333,
              "#9c179e"
             ],
             [
              0.4444444444444444,
              "#bd3786"
             ],
             [
              0.5555555555555556,
              "#d8576b"
             ],
             [
              0.6666666666666666,
              "#ed7953"
             ],
             [
              0.7777777777777778,
              "#fb9f3a"
             ],
             [
              0.8888888888888888,
              "#fdca26"
             ],
             [
              1,
              "#f0f921"
             ]
            ],
            "type": "heatmap"
           }
          ],
          "heatmapgl": [
           {
            "colorbar": {
             "outlinewidth": 0,
             "ticks": ""
            },
            "colorscale": [
             [
              0,
              "#0d0887"
             ],
             [
              0.1111111111111111,
              "#46039f"
             ],
             [
              0.2222222222222222,
              "#7201a8"
             ],
             [
              0.3333333333333333,
              "#9c179e"
             ],
             [
              0.4444444444444444,
              "#bd3786"
             ],
             [
              0.5555555555555556,
              "#d8576b"
             ],
             [
              0.6666666666666666,
              "#ed7953"
             ],
             [
              0.7777777777777778,
              "#fb9f3a"
             ],
             [
              0.8888888888888888,
              "#fdca26"
             ],
             [
              1,
              "#f0f921"
             ]
            ],
            "type": "heatmapgl"
           }
          ],
          "histogram": [
           {
            "marker": {
             "pattern": {
              "fillmode": "overlay",
              "size": 10,
              "solidity": 0.2
             }
            },
            "type": "histogram"
           }
          ],
          "histogram2d": [
           {
            "colorbar": {
             "outlinewidth": 0,
             "ticks": ""
            },
            "colorscale": [
             [
              0,
              "#0d0887"
             ],
             [
              0.1111111111111111,
              "#46039f"
             ],
             [
              0.2222222222222222,
              "#7201a8"
             ],
             [
              0.3333333333333333,
              "#9c179e"
             ],
             [
              0.4444444444444444,
              "#bd3786"
             ],
             [
              0.5555555555555556,
              "#d8576b"
             ],
             [
              0.6666666666666666,
              "#ed7953"
             ],
             [
              0.7777777777777778,
              "#fb9f3a"
             ],
             [
              0.8888888888888888,
              "#fdca26"
             ],
             [
              1,
              "#f0f921"
             ]
            ],
            "type": "histogram2d"
           }
          ],
          "histogram2dcontour": [
           {
            "colorbar": {
             "outlinewidth": 0,
             "ticks": ""
            },
            "colorscale": [
             [
              0,
              "#0d0887"
             ],
             [
              0.1111111111111111,
              "#46039f"
             ],
             [
              0.2222222222222222,
              "#7201a8"
             ],
             [
              0.3333333333333333,
              "#9c179e"
             ],
             [
              0.4444444444444444,
              "#bd3786"
             ],
             [
              0.5555555555555556,
              "#d8576b"
             ],
             [
              0.6666666666666666,
              "#ed7953"
             ],
             [
              0.7777777777777778,
              "#fb9f3a"
             ],
             [
              0.8888888888888888,
              "#fdca26"
             ],
             [
              1,
              "#f0f921"
             ]
            ],
            "type": "histogram2dcontour"
           }
          ],
          "mesh3d": [
           {
            "colorbar": {
             "outlinewidth": 0,
             "ticks": ""
            },
            "type": "mesh3d"
           }
          ],
          "parcoords": [
           {
            "line": {
             "colorbar": {
              "outlinewidth": 0,
              "ticks": ""
             }
            },
            "type": "parcoords"
           }
          ],
          "pie": [
           {
            "automargin": true,
            "type": "pie"
           }
          ],
          "scatter": [
           {
            "fillpattern": {
             "fillmode": "overlay",
             "size": 10,
             "solidity": 0.2
            },
            "type": "scatter"
           }
          ],
          "scatter3d": [
           {
            "line": {
             "colorbar": {
              "outlinewidth": 0,
              "ticks": ""
             }
            },
            "marker": {
             "colorbar": {
              "outlinewidth": 0,
              "ticks": ""
             }
            },
            "type": "scatter3d"
           }
          ],
          "scattercarpet": [
           {
            "marker": {
             "colorbar": {
              "outlinewidth": 0,
              "ticks": ""
             }
            },
            "type": "scattercarpet"
           }
          ],
          "scattergeo": [
           {
            "marker": {
             "colorbar": {
              "outlinewidth": 0,
              "ticks": ""
             }
            },
            "type": "scattergeo"
           }
          ],
          "scattergl": [
           {
            "marker": {
             "colorbar": {
              "outlinewidth": 0,
              "ticks": ""
             }
            },
            "type": "scattergl"
           }
          ],
          "scattermapbox": [
           {
            "marker": {
             "colorbar": {
              "outlinewidth": 0,
              "ticks": ""
             }
            },
            "type": "scattermapbox"
           }
          ],
          "scatterpolar": [
           {
            "marker": {
             "colorbar": {
              "outlinewidth": 0,
              "ticks": ""
             }
            },
            "type": "scatterpolar"
           }
          ],
          "scatterpolargl": [
           {
            "marker": {
             "colorbar": {
              "outlinewidth": 0,
              "ticks": ""
             }
            },
            "type": "scatterpolargl"
           }
          ],
          "scatterternary": [
           {
            "marker": {
             "colorbar": {
              "outlinewidth": 0,
              "ticks": ""
             }
            },
            "type": "scatterternary"
           }
          ],
          "surface": [
           {
            "colorbar": {
             "outlinewidth": 0,
             "ticks": ""
            },
            "colorscale": [
             [
              0,
              "#0d0887"
             ],
             [
              0.1111111111111111,
              "#46039f"
             ],
             [
              0.2222222222222222,
              "#7201a8"
             ],
             [
              0.3333333333333333,
              "#9c179e"
             ],
             [
              0.4444444444444444,
              "#bd3786"
             ],
             [
              0.5555555555555556,
              "#d8576b"
             ],
             [
              0.6666666666666666,
              "#ed7953"
             ],
             [
              0.7777777777777778,
              "#fb9f3a"
             ],
             [
              0.8888888888888888,
              "#fdca26"
             ],
             [
              1,
              "#f0f921"
             ]
            ],
            "type": "surface"
           }
          ],
          "table": [
           {
            "cells": {
             "fill": {
              "color": "#EBF0F8"
             },
             "line": {
              "color": "white"
             }
            },
            "header": {
             "fill": {
              "color": "#C8D4E3"
             },
             "line": {
              "color": "white"
             }
            },
            "type": "table"
           }
          ]
         },
         "layout": {
          "annotationdefaults": {
           "arrowcolor": "#2a3f5f",
           "arrowhead": 0,
           "arrowwidth": 1
          },
          "autotypenumbers": "strict",
          "coloraxis": {
           "colorbar": {
            "outlinewidth": 0,
            "ticks": ""
           }
          },
          "colorscale": {
           "diverging": [
            [
             0,
             "#8e0152"
            ],
            [
             0.1,
             "#c51b7d"
            ],
            [
             0.2,
             "#de77ae"
            ],
            [
             0.3,
             "#f1b6da"
            ],
            [
             0.4,
             "#fde0ef"
            ],
            [
             0.5,
             "#f7f7f7"
            ],
            [
             0.6,
             "#e6f5d0"
            ],
            [
             0.7,
             "#b8e186"
            ],
            [
             0.8,
             "#7fbc41"
            ],
            [
             0.9,
             "#4d9221"
            ],
            [
             1,
             "#276419"
            ]
           ],
           "sequential": [
            [
             0,
             "#0d0887"
            ],
            [
             0.1111111111111111,
             "#46039f"
            ],
            [
             0.2222222222222222,
             "#7201a8"
            ],
            [
             0.3333333333333333,
             "#9c179e"
            ],
            [
             0.4444444444444444,
             "#bd3786"
            ],
            [
             0.5555555555555556,
             "#d8576b"
            ],
            [
             0.6666666666666666,
             "#ed7953"
            ],
            [
             0.7777777777777778,
             "#fb9f3a"
            ],
            [
             0.8888888888888888,
             "#fdca26"
            ],
            [
             1,
             "#f0f921"
            ]
           ],
           "sequentialminus": [
            [
             0,
             "#0d0887"
            ],
            [
             0.1111111111111111,
             "#46039f"
            ],
            [
             0.2222222222222222,
             "#7201a8"
            ],
            [
             0.3333333333333333,
             "#9c179e"
            ],
            [
             0.4444444444444444,
             "#bd3786"
            ],
            [
             0.5555555555555556,
             "#d8576b"
            ],
            [
             0.6666666666666666,
             "#ed7953"
            ],
            [
             0.7777777777777778,
             "#fb9f3a"
            ],
            [
             0.8888888888888888,
             "#fdca26"
            ],
            [
             1,
             "#f0f921"
            ]
           ]
          },
          "colorway": [
           "#636efa",
           "#EF553B",
           "#00cc96",
           "#ab63fa",
           "#FFA15A",
           "#19d3f3",
           "#FF6692",
           "#B6E880",
           "#FF97FF",
           "#FECB52"
          ],
          "font": {
           "color": "#2a3f5f"
          },
          "geo": {
           "bgcolor": "white",
           "lakecolor": "white",
           "landcolor": "#E5ECF6",
           "showlakes": true,
           "showland": true,
           "subunitcolor": "white"
          },
          "hoverlabel": {
           "align": "left"
          },
          "hovermode": "closest",
          "mapbox": {
           "style": "light"
          },
          "paper_bgcolor": "white",
          "plot_bgcolor": "#E5ECF6",
          "polar": {
           "angularaxis": {
            "gridcolor": "white",
            "linecolor": "white",
            "ticks": ""
           },
           "bgcolor": "#E5ECF6",
           "radialaxis": {
            "gridcolor": "white",
            "linecolor": "white",
            "ticks": ""
           }
          },
          "scene": {
           "xaxis": {
            "backgroundcolor": "#E5ECF6",
            "gridcolor": "white",
            "gridwidth": 2,
            "linecolor": "white",
            "showbackground": true,
            "ticks": "",
            "zerolinecolor": "white"
           },
           "yaxis": {
            "backgroundcolor": "#E5ECF6",
            "gridcolor": "white",
            "gridwidth": 2,
            "linecolor": "white",
            "showbackground": true,
            "ticks": "",
            "zerolinecolor": "white"
           },
           "zaxis": {
            "backgroundcolor": "#E5ECF6",
            "gridcolor": "white",
            "gridwidth": 2,
            "linecolor": "white",
            "showbackground": true,
            "ticks": "",
            "zerolinecolor": "white"
           }
          },
          "shapedefaults": {
           "line": {
            "color": "#2a3f5f"
           }
          },
          "ternary": {
           "aaxis": {
            "gridcolor": "white",
            "linecolor": "white",
            "ticks": ""
           },
           "baxis": {
            "gridcolor": "white",
            "linecolor": "white",
            "ticks": ""
           },
           "bgcolor": "#E5ECF6",
           "caxis": {
            "gridcolor": "white",
            "linecolor": "white",
            "ticks": ""
           }
          },
          "title": {
           "x": 0.05
          },
          "xaxis": {
           "automargin": true,
           "gridcolor": "white",
           "linecolor": "white",
           "ticks": "",
           "title": {
            "standoff": 15
           },
           "zerolinecolor": "white",
           "zerolinewidth": 2
          },
          "yaxis": {
           "automargin": true,
           "gridcolor": "white",
           "linecolor": "white",
           "ticks": "",
           "title": {
            "standoff": 15
           },
           "zerolinecolor": "white",
           "zerolinewidth": 2
          }
         }
        },
        "title": {
         "text": "Porcentaje acumulado de clientes morosos (> 60 días de atraso)"
        },
        "xaxis": {
         "anchor": "y",
         "domain": [
          0,
          1
         ],
         "title": {
          "text": "month_on_book"
         }
        },
        "yaxis": {
         "anchor": "x",
         "domain": [
          0,
          1
         ],
         "title": {
          "text": "due_rate"
         }
        }
       }
      },
      "text/html": [
       "<div>                            <div id=\"0cc43bf0-1a3f-4f7f-813a-c07812d9b060\" class=\"plotly-graph-div\" style=\"height:525px; width:100%;\"></div>            <script type=\"text/javascript\">                require([\"plotly\"], function(Plotly) {                    window.PLOTLYENV=window.PLOTLYENV || {};                                    if (document.getElementById(\"0cc43bf0-1a3f-4f7f-813a-c07812d9b060\")) {                    Plotly.newPlot(                        \"0cc43bf0-1a3f-4f7f-813a-c07812d9b060\",                        [{\"hovertemplate\":\"opening_month=-60<br>month_on_book=%{x}<br>due_rate=%{y}<extra></extra>\",\"legendgroup\":\"-60\",\"line\":{\"color\":\"#636efa\",\"dash\":\"solid\"},\"marker\":{\"symbol\":\"circle\",\"size\":5},\"mode\":\"markers+lines\",\"name\":\"-60\",\"orientation\":\"v\",\"showlegend\":true,\"x\":[0,1,2,3,4,5,6,7,8,9,10,11,12,13,14,15,16,17,18,19,20,21,22,23,24,25,26,27,28,29,30,31,32,33,34,35,36,37,38,39,40,41,42,43,44,45,46,47,48,49,50,51,52,53,54,55,56,57,58,59,60],\"xaxis\":\"x\",\"y\":[0.0,0.0,0.0,0.0,0.0,0.27,0.27,0.81,0.81,1.08,1.08,1.35,1.62,1.89,1.89,1.89,1.89,1.89,1.89,1.89,1.89,2.16,2.16,2.16,2.16,2.43,2.43,2.43,2.43,2.7,2.97,2.97,2.97,2.97,2.97,2.97,2.97,2.97,2.97,2.97,2.97,2.97,2.97,2.97,2.97,2.97,2.97,2.97,2.97,2.97,3.24,3.24,3.24,3.24,3.24,3.24,3.24,3.24,3.51,3.51,3.51],\"yaxis\":\"y\",\"type\":\"scatter\"},{\"hovertemplate\":\"opening_month=-56<br>month_on_book=%{x}<br>due_rate=%{y}<extra></extra>\",\"legendgroup\":\"-56\",\"line\":{\"color\":\"#EF553B\",\"dash\":\"solid\"},\"marker\":{\"symbol\":\"circle\",\"size\":5},\"mode\":\"markers+lines\",\"name\":\"-56\",\"orientation\":\"v\",\"showlegend\":true,\"x\":[0,1,2,3,4,5,6,7,8,9,10,11,12,13,14,15,16,17,18,19,20,21,22,23,24,25,26,27,28,29,30,31,32,33,34,35,36,37,38,39,40,41,42,43,44,45,46,47,48,49,50,51,52,53,54,55,56],\"xaxis\":\"x\",\"y\":[0.0,0.0,0.47,0.47,0.93,1.17,1.17,1.87,1.87,2.34,2.34,2.8,3.27,3.74,3.74,3.74,3.74,3.74,3.74,3.74,3.74,3.74,3.74,3.74,3.74,3.74,3.74,3.74,3.74,3.74,3.74,3.74,3.74,3.74,3.74,3.74,3.74,3.74,3.74,3.74,3.74,3.74,3.74,3.74,3.74,3.74,3.74,3.74,3.74,3.74,3.74,3.97,3.97,3.97,3.97,4.21,4.21],\"yaxis\":\"y\",\"type\":\"scatter\"},{\"hovertemplate\":\"opening_month=-52<br>month_on_book=%{x}<br>due_rate=%{y}<extra></extra>\",\"legendgroup\":\"-52\",\"line\":{\"color\":\"#00cc96\",\"dash\":\"solid\"},\"marker\":{\"symbol\":\"circle\",\"size\":5},\"mode\":\"markers+lines\",\"name\":\"-52\",\"orientation\":\"v\",\"showlegend\":true,\"x\":[0,1,2,3,4,5,6,7,8,9,10,11,12,13,14,15,16,17,18,19,20,21,22,23,24,25,26,27,28,29,30,31,32,33,34,35,36,37,38,39,40,41,42,43,44,45,46,47,48,49,50,51,52],\"xaxis\":\"x\",\"y\":[0.0,0.0,0.83,1.03,1.03,1.03,1.45,1.45,1.65,1.86,1.86,1.86,2.07,2.07,2.07,2.27,2.27,2.48,2.48,2.48,2.48,2.48,2.48,2.48,2.48,2.48,2.48,2.48,2.48,2.48,2.48,2.48,2.48,2.48,2.48,2.48,2.48,2.69,2.69,2.69,2.69,2.69,2.69,2.69,2.69,2.69,2.69,2.69,2.69,2.69,2.69,2.69,2.69],\"yaxis\":\"y\",\"type\":\"scatter\"},{\"hovertemplate\":\"opening_month=-48<br>month_on_book=%{x}<br>due_rate=%{y}<extra></extra>\",\"legendgroup\":\"-48\",\"line\":{\"color\":\"#ab63fa\",\"dash\":\"solid\"},\"marker\":{\"symbol\":\"circle\",\"size\":5},\"mode\":\"markers+lines\",\"name\":\"-48\",\"orientation\":\"v\",\"showlegend\":true,\"x\":[0,1,2,3,4,5,6,7,8,9,10,11,12,13,14,15,16,17,18,19,20,21,22,23,24,25,26,27,28,29,30,31,32,33,34,35,36,37,38,39,40,41,42,43,44,45,46,47,48],\"xaxis\":\"x\",\"y\":[0.0,0.0,0.0,0.19,0.58,0.77,0.96,1.16,1.35,1.35,1.73,1.93,1.93,1.93,2.12,2.31,2.31,2.5,2.5,2.5,2.7,2.89,2.89,2.89,2.89,2.89,2.89,2.89,2.89,2.89,2.89,2.89,2.89,2.89,2.89,2.89,2.89,2.89,2.89,2.89,2.89,2.89,2.89,3.08,3.08,3.08,3.08,3.08,3.08],\"yaxis\":\"y\",\"type\":\"scatter\"},{\"hovertemplate\":\"opening_month=-44<br>month_on_book=%{x}<br>due_rate=%{y}<extra></extra>\",\"legendgroup\":\"-44\",\"line\":{\"color\":\"#FFA15A\",\"dash\":\"solid\"},\"marker\":{\"symbol\":\"circle\",\"size\":5},\"mode\":\"markers+lines\",\"name\":\"-44\",\"orientation\":\"v\",\"showlegend\":true,\"x\":[0,1,2,3,4,5,6,7,8,9,10,11,12,13,14,15,16,17,18,19,20,21,22,23,24,25,26,27,28,29,30,31,32,33,34,35,36,37,38,39,40,41,42,43,44],\"xaxis\":\"x\",\"y\":[0.0,0.19,0.38,0.56,0.56,0.75,0.94,1.31,1.31,1.31,1.5,1.69,1.69,1.69,1.69,1.69,1.69,1.69,1.69,1.88,1.88,1.88,2.06,2.06,2.06,2.06,2.06,2.06,2.06,2.06,2.06,2.06,2.06,2.06,2.25,2.25,2.25,2.25,2.25,2.25,2.25,2.25,2.25,2.25,2.25],\"yaxis\":\"y\",\"type\":\"scatter\"},{\"hovertemplate\":\"opening_month=-40<br>month_on_book=%{x}<br>due_rate=%{y}<extra></extra>\",\"legendgroup\":\"-40\",\"line\":{\"color\":\"#19d3f3\",\"dash\":\"solid\"},\"marker\":{\"symbol\":\"circle\",\"size\":5},\"mode\":\"markers+lines\",\"name\":\"-40\",\"orientation\":\"v\",\"showlegend\":true,\"x\":[0,1,2,3,4,5,6,7,8,9,10,11,12,13,14,15,16,17,18,19,20,21,22,23,24,25,26,27,28,29,30,31,32,33,34,35,36,37,38,39,40],\"xaxis\":\"x\",\"y\":[0.0,0.0,0.31,0.31,0.78,0.93,1.09,1.09,1.09,1.4,1.56,1.56,1.71,2.02,2.02,2.02,2.02,2.02,2.02,2.34,2.34,2.34,2.34,2.34,2.34,2.34,2.34,2.49,2.65,2.65,2.65,2.65,2.65,2.65,2.96,2.96,2.96,2.96,2.96,2.96,2.96],\"yaxis\":\"y\",\"type\":\"scatter\"},{\"hovertemplate\":\"opening_month=-36<br>month_on_book=%{x}<br>due_rate=%{y}<extra></extra>\",\"legendgroup\":\"-36\",\"line\":{\"color\":\"#FF6692\",\"dash\":\"solid\"},\"marker\":{\"symbol\":\"circle\",\"size\":5},\"mode\":\"markers+lines\",\"name\":\"-36\",\"orientation\":\"v\",\"showlegend\":true,\"x\":[0,1,2,3,4,5,6,7,8,9,10,11,12,13,14,15,16,17,18,19,20,21,22,23,24,25,26,27,28,29,30,31,32,33,34,35,36],\"xaxis\":\"x\",\"y\":[0.0,0.0,0.0,0.16,0.32,0.64,0.64,0.8,1.12,1.28,1.6,1.6,1.76,1.76,1.76,1.76,1.76,1.76,1.92,1.92,1.92,1.92,1.92,1.92,1.92,2.08,2.08,2.08,2.08,2.24,2.24,2.24,2.24,2.24,2.24,2.24,2.24],\"yaxis\":\"y\",\"type\":\"scatter\"},{\"hovertemplate\":\"opening_month=-32<br>month_on_book=%{x}<br>due_rate=%{y}<extra></extra>\",\"legendgroup\":\"-32\",\"line\":{\"color\":\"#B6E880\",\"dash\":\"solid\"},\"marker\":{\"symbol\":\"circle\",\"size\":5},\"mode\":\"markers+lines\",\"name\":\"-32\",\"orientation\":\"v\",\"showlegend\":true,\"x\":[0,1,2,3,4,5,6,7,8,9,10,11,12,13,14,15,16,17,18,19,20,21,22,23,24,25,26,27,28,29,30,31,32],\"xaxis\":\"x\",\"y\":[0.0,0.0,0.15,0.15,0.3,0.3,0.45,0.45,0.74,0.74,0.89,0.89,0.89,1.04,1.04,1.04,1.04,1.04,1.19,1.19,1.19,1.19,1.19,1.19,1.19,1.19,1.34,1.34,1.34,1.34,1.34,1.34,1.49],\"yaxis\":\"y\",\"type\":\"scatter\"},{\"hovertemplate\":\"opening_month=-28<br>month_on_book=%{x}<br>due_rate=%{y}<extra></extra>\",\"legendgroup\":\"-28\",\"line\":{\"color\":\"#FF97FF\",\"dash\":\"solid\"},\"marker\":{\"symbol\":\"circle\",\"size\":5},\"mode\":\"markers+lines\",\"name\":\"-28\",\"orientation\":\"v\",\"showlegend\":true,\"x\":[0,1,2,3,4,5,6,7,8,9,10,11,12,13,14,15,16,17,18,19,20,21,22,23,24,25,26,27,28],\"xaxis\":\"x\",\"y\":[0.0,0.0,0.14,0.14,0.14,0.28,0.42,0.56,0.7,0.84,0.98,0.98,0.98,1.12,1.12,1.26,1.26,1.26,1.26,1.26,1.4,1.4,1.4,1.54,1.54,1.68,1.68,1.68,1.68],\"yaxis\":\"y\",\"type\":\"scatter\"},{\"hovertemplate\":\"opening_month=-24<br>month_on_book=%{x}<br>due_rate=%{y}<extra></extra>\",\"legendgroup\":\"-24\",\"line\":{\"color\":\"#FECB52\",\"dash\":\"solid\"},\"marker\":{\"symbol\":\"circle\",\"size\":5},\"mode\":\"markers+lines\",\"name\":\"-24\",\"orientation\":\"v\",\"showlegend\":true,\"x\":[0,1,2,3,4,5,6,7,8,9,10,11,12,13,14,15,16,17,18,19,20,21,22,23,24],\"xaxis\":\"x\",\"y\":[0.0,0.0,0.0,0.0,0.0,0.13,0.26,0.39,0.39,0.51,0.51,0.51,0.64,0.64,0.64,0.64,0.64,0.64,0.64,0.64,0.77,0.77,0.77,0.77,0.77],\"yaxis\":\"y\",\"type\":\"scatter\"},{\"hovertemplate\":\"opening_month=-20<br>month_on_book=%{x}<br>due_rate=%{y}<extra></extra>\",\"legendgroup\":\"-20\",\"line\":{\"color\":\"#636efa\",\"dash\":\"solid\"},\"marker\":{\"symbol\":\"circle\",\"size\":5},\"mode\":\"markers+lines\",\"name\":\"-20\",\"orientation\":\"v\",\"showlegend\":true,\"x\":[0,1,2,3,4,5,6,7,8,9,10,11,12,13,14,15,16,17,18,19,20],\"xaxis\":\"x\",\"y\":[0.0,0.0,0.12,0.12,0.25,0.25,0.37,0.37,0.37,0.37,0.37,0.37,0.62,0.62,0.62,0.62,0.62,0.74,0.74,0.74,0.74],\"yaxis\":\"y\",\"type\":\"scatter\"},{\"hovertemplate\":\"opening_month=-16<br>month_on_book=%{x}<br>due_rate=%{y}<extra></extra>\",\"legendgroup\":\"-16\",\"line\":{\"color\":\"#EF553B\",\"dash\":\"solid\"},\"marker\":{\"symbol\":\"circle\",\"size\":5},\"mode\":\"markers+lines\",\"name\":\"-16\",\"orientation\":\"v\",\"showlegend\":true,\"x\":[0,1,2,3,4,5,6,7,8,9,10,11,12,13,14,15,16],\"xaxis\":\"x\",\"y\":[0.0,0.0,0.0,0.0,0.0,0.12,0.12,0.24,0.48,0.61,0.73,1.21,1.21,1.33,1.33,1.33,1.33],\"yaxis\":\"y\",\"type\":\"scatter\"},{\"hovertemplate\":\"opening_month=-12<br>month_on_book=%{x}<br>due_rate=%{y}<extra></extra>\",\"legendgroup\":\"-12\",\"line\":{\"color\":\"#00cc96\",\"dash\":\"solid\"},\"marker\":{\"symbol\":\"circle\",\"size\":5},\"mode\":\"markers+lines\",\"name\":\"-12\",\"orientation\":\"v\",\"showlegend\":true,\"x\":[0,1,2,3,4,5,6,7,8,9,10,11,12],\"xaxis\":\"x\",\"y\":[0.0,0.12,0.23,0.35,0.35,0.35,0.47,0.93,0.93,0.93,0.93,0.93,0.93],\"yaxis\":\"y\",\"type\":\"scatter\"}],                        {\"template\":{\"data\":{\"histogram2dcontour\":[{\"type\":\"histogram2dcontour\",\"colorbar\":{\"outlinewidth\":0,\"ticks\":\"\"},\"colorscale\":[[0.0,\"#0d0887\"],[0.1111111111111111,\"#46039f\"],[0.2222222222222222,\"#7201a8\"],[0.3333333333333333,\"#9c179e\"],[0.4444444444444444,\"#bd3786\"],[0.5555555555555556,\"#d8576b\"],[0.6666666666666666,\"#ed7953\"],[0.7777777777777778,\"#fb9f3a\"],[0.8888888888888888,\"#fdca26\"],[1.0,\"#f0f921\"]]}],\"choropleth\":[{\"type\":\"choropleth\",\"colorbar\":{\"outlinewidth\":0,\"ticks\":\"\"}}],\"histogram2d\":[{\"type\":\"histogram2d\",\"colorbar\":{\"outlinewidth\":0,\"ticks\":\"\"},\"colorscale\":[[0.0,\"#0d0887\"],[0.1111111111111111,\"#46039f\"],[0.2222222222222222,\"#7201a8\"],[0.3333333333333333,\"#9c179e\"],[0.4444444444444444,\"#bd3786\"],[0.5555555555555556,\"#d8576b\"],[0.6666666666666666,\"#ed7953\"],[0.7777777777777778,\"#fb9f3a\"],[0.8888888888888888,\"#fdca26\"],[1.0,\"#f0f921\"]]}],\"heatmap\":[{\"type\":\"heatmap\",\"colorbar\":{\"outlinewidth\":0,\"ticks\":\"\"},\"colorscale\":[[0.0,\"#0d0887\"],[0.1111111111111111,\"#46039f\"],[0.2222222222222222,\"#7201a8\"],[0.3333333333333333,\"#9c179e\"],[0.4444444444444444,\"#bd3786\"],[0.5555555555555556,\"#d8576b\"],[0.6666666666666666,\"#ed7953\"],[0.7777777777777778,\"#fb9f3a\"],[0.8888888888888888,\"#fdca26\"],[1.0,\"#f0f921\"]]}],\"heatmapgl\":[{\"type\":\"heatmapgl\",\"colorbar\":{\"outlinewidth\":0,\"ticks\":\"\"},\"colorscale\":[[0.0,\"#0d0887\"],[0.1111111111111111,\"#46039f\"],[0.2222222222222222,\"#7201a8\"],[0.3333333333333333,\"#9c179e\"],[0.4444444444444444,\"#bd3786\"],[0.5555555555555556,\"#d8576b\"],[0.6666666666666666,\"#ed7953\"],[0.7777777777777778,\"#fb9f3a\"],[0.8888888888888888,\"#fdca26\"],[1.0,\"#f0f921\"]]}],\"contourcarpet\":[{\"type\":\"contourcarpet\",\"colorbar\":{\"outlinewidth\":0,\"ticks\":\"\"}}],\"contour\":[{\"type\":\"contour\",\"colorbar\":{\"outlinewidth\":0,\"ticks\":\"\"},\"colorscale\":[[0.0,\"#0d0887\"],[0.1111111111111111,\"#46039f\"],[0.2222222222222222,\"#7201a8\"],[0.3333333333333333,\"#9c179e\"],[0.4444444444444444,\"#bd3786\"],[0.5555555555555556,\"#d8576b\"],[0.6666666666666666,\"#ed7953\"],[0.7777777777777778,\"#fb9f3a\"],[0.8888888888888888,\"#fdca26\"],[1.0,\"#f0f921\"]]}],\"surface\":[{\"type\":\"surface\",\"colorbar\":{\"outlinewidth\":0,\"ticks\":\"\"},\"colorscale\":[[0.0,\"#0d0887\"],[0.1111111111111111,\"#46039f\"],[0.2222222222222222,\"#7201a8\"],[0.3333333333333333,\"#9c179e\"],[0.4444444444444444,\"#bd3786\"],[0.5555555555555556,\"#d8576b\"],[0.6666666666666666,\"#ed7953\"],[0.7777777777777778,\"#fb9f3a\"],[0.8888888888888888,\"#fdca26\"],[1.0,\"#f0f921\"]]}],\"mesh3d\":[{\"type\":\"mesh3d\",\"colorbar\":{\"outlinewidth\":0,\"ticks\":\"\"}}],\"scatter\":[{\"fillpattern\":{\"fillmode\":\"overlay\",\"size\":10,\"solidity\":0.2},\"type\":\"scatter\"}],\"parcoords\":[{\"type\":\"parcoords\",\"line\":{\"colorbar\":{\"outlinewidth\":0,\"ticks\":\"\"}}}],\"scatterpolargl\":[{\"type\":\"scatterpolargl\",\"marker\":{\"colorbar\":{\"outlinewidth\":0,\"ticks\":\"\"}}}],\"bar\":[{\"error_x\":{\"color\":\"#2a3f5f\"},\"error_y\":{\"color\":\"#2a3f5f\"},\"marker\":{\"line\":{\"color\":\"#E5ECF6\",\"width\":0.5},\"pattern\":{\"fillmode\":\"overlay\",\"size\":10,\"solidity\":0.2}},\"type\":\"bar\"}],\"scattergeo\":[{\"type\":\"scattergeo\",\"marker\":{\"colorbar\":{\"outlinewidth\":0,\"ticks\":\"\"}}}],\"scatterpolar\":[{\"type\":\"scatterpolar\",\"marker\":{\"colorbar\":{\"outlinewidth\":0,\"ticks\":\"\"}}}],\"histogram\":[{\"marker\":{\"pattern\":{\"fillmode\":\"overlay\",\"size\":10,\"solidity\":0.2}},\"type\":\"histogram\"}],\"scattergl\":[{\"type\":\"scattergl\",\"marker\":{\"colorbar\":{\"outlinewidth\":0,\"ticks\":\"\"}}}],\"scatter3d\":[{\"type\":\"scatter3d\",\"line\":{\"colorbar\":{\"outlinewidth\":0,\"ticks\":\"\"}},\"marker\":{\"colorbar\":{\"outlinewidth\":0,\"ticks\":\"\"}}}],\"scattermapbox\":[{\"type\":\"scattermapbox\",\"marker\":{\"colorbar\":{\"outlinewidth\":0,\"ticks\":\"\"}}}],\"scatterternary\":[{\"type\":\"scatterternary\",\"marker\":{\"colorbar\":{\"outlinewidth\":0,\"ticks\":\"\"}}}],\"scattercarpet\":[{\"type\":\"scattercarpet\",\"marker\":{\"colorbar\":{\"outlinewidth\":0,\"ticks\":\"\"}}}],\"carpet\":[{\"aaxis\":{\"endlinecolor\":\"#2a3f5f\",\"gridcolor\":\"white\",\"linecolor\":\"white\",\"minorgridcolor\":\"white\",\"startlinecolor\":\"#2a3f5f\"},\"baxis\":{\"endlinecolor\":\"#2a3f5f\",\"gridcolor\":\"white\",\"linecolor\":\"white\",\"minorgridcolor\":\"white\",\"startlinecolor\":\"#2a3f5f\"},\"type\":\"carpet\"}],\"table\":[{\"cells\":{\"fill\":{\"color\":\"#EBF0F8\"},\"line\":{\"color\":\"white\"}},\"header\":{\"fill\":{\"color\":\"#C8D4E3\"},\"line\":{\"color\":\"white\"}},\"type\":\"table\"}],\"barpolar\":[{\"marker\":{\"line\":{\"color\":\"#E5ECF6\",\"width\":0.5},\"pattern\":{\"fillmode\":\"overlay\",\"size\":10,\"solidity\":0.2}},\"type\":\"barpolar\"}],\"pie\":[{\"automargin\":true,\"type\":\"pie\"}]},\"layout\":{\"autotypenumbers\":\"strict\",\"colorway\":[\"#636efa\",\"#EF553B\",\"#00cc96\",\"#ab63fa\",\"#FFA15A\",\"#19d3f3\",\"#FF6692\",\"#B6E880\",\"#FF97FF\",\"#FECB52\"],\"font\":{\"color\":\"#2a3f5f\"},\"hovermode\":\"closest\",\"hoverlabel\":{\"align\":\"left\"},\"paper_bgcolor\":\"white\",\"plot_bgcolor\":\"#E5ECF6\",\"polar\":{\"bgcolor\":\"#E5ECF6\",\"angularaxis\":{\"gridcolor\":\"white\",\"linecolor\":\"white\",\"ticks\":\"\"},\"radialaxis\":{\"gridcolor\":\"white\",\"linecolor\":\"white\",\"ticks\":\"\"}},\"ternary\":{\"bgcolor\":\"#E5ECF6\",\"aaxis\":{\"gridcolor\":\"white\",\"linecolor\":\"white\",\"ticks\":\"\"},\"baxis\":{\"gridcolor\":\"white\",\"linecolor\":\"white\",\"ticks\":\"\"},\"caxis\":{\"gridcolor\":\"white\",\"linecolor\":\"white\",\"ticks\":\"\"}},\"coloraxis\":{\"colorbar\":{\"outlinewidth\":0,\"ticks\":\"\"}},\"colorscale\":{\"sequential\":[[0.0,\"#0d0887\"],[0.1111111111111111,\"#46039f\"],[0.2222222222222222,\"#7201a8\"],[0.3333333333333333,\"#9c179e\"],[0.4444444444444444,\"#bd3786\"],[0.5555555555555556,\"#d8576b\"],[0.6666666666666666,\"#ed7953\"],[0.7777777777777778,\"#fb9f3a\"],[0.8888888888888888,\"#fdca26\"],[1.0,\"#f0f921\"]],\"sequentialminus\":[[0.0,\"#0d0887\"],[0.1111111111111111,\"#46039f\"],[0.2222222222222222,\"#7201a8\"],[0.3333333333333333,\"#9c179e\"],[0.4444444444444444,\"#bd3786\"],[0.5555555555555556,\"#d8576b\"],[0.6666666666666666,\"#ed7953\"],[0.7777777777777778,\"#fb9f3a\"],[0.8888888888888888,\"#fdca26\"],[1.0,\"#f0f921\"]],\"diverging\":[[0,\"#8e0152\"],[0.1,\"#c51b7d\"],[0.2,\"#de77ae\"],[0.3,\"#f1b6da\"],[0.4,\"#fde0ef\"],[0.5,\"#f7f7f7\"],[0.6,\"#e6f5d0\"],[0.7,\"#b8e186\"],[0.8,\"#7fbc41\"],[0.9,\"#4d9221\"],[1,\"#276419\"]]},\"xaxis\":{\"gridcolor\":\"white\",\"linecolor\":\"white\",\"ticks\":\"\",\"title\":{\"standoff\":15},\"zerolinecolor\":\"white\",\"automargin\":true,\"zerolinewidth\":2},\"yaxis\":{\"gridcolor\":\"white\",\"linecolor\":\"white\",\"ticks\":\"\",\"title\":{\"standoff\":15},\"zerolinecolor\":\"white\",\"automargin\":true,\"zerolinewidth\":2},\"scene\":{\"xaxis\":{\"backgroundcolor\":\"#E5ECF6\",\"gridcolor\":\"white\",\"linecolor\":\"white\",\"showbackground\":true,\"ticks\":\"\",\"zerolinecolor\":\"white\",\"gridwidth\":2},\"yaxis\":{\"backgroundcolor\":\"#E5ECF6\",\"gridcolor\":\"white\",\"linecolor\":\"white\",\"showbackground\":true,\"ticks\":\"\",\"zerolinecolor\":\"white\",\"gridwidth\":2},\"zaxis\":{\"backgroundcolor\":\"#E5ECF6\",\"gridcolor\":\"white\",\"linecolor\":\"white\",\"showbackground\":true,\"ticks\":\"\",\"zerolinecolor\":\"white\",\"gridwidth\":2}},\"shapedefaults\":{\"line\":{\"color\":\"#2a3f5f\"}},\"annotationdefaults\":{\"arrowcolor\":\"#2a3f5f\",\"arrowhead\":0,\"arrowwidth\":1},\"geo\":{\"bgcolor\":\"white\",\"landcolor\":\"#E5ECF6\",\"subunitcolor\":\"white\",\"showland\":true,\"showlakes\":true,\"lakecolor\":\"white\"},\"title\":{\"x\":0.05},\"mapbox\":{\"style\":\"light\"}}},\"xaxis\":{\"anchor\":\"y\",\"domain\":[0.0,1.0],\"title\":{\"text\":\"month_on_book\"}},\"yaxis\":{\"anchor\":\"x\",\"domain\":[0.0,1.0],\"title\":{\"text\":\"due_rate\"}},\"legend\":{\"title\":{\"text\":\"opening_month\"},\"tracegroupgap\":0},\"margin\":{\"t\":60},\"title\":{\"text\":\"Porcentaje acumulado de clientes morosos (> 60 d\\u00edas de atraso)\"}},                        {\"responsive\": true}                    ).then(function(){\n",
       "                            \n",
       "var gd = document.getElementById('0cc43bf0-1a3f-4f7f-813a-c07812d9b060');\n",
       "var x = new MutationObserver(function (mutations, observer) {{\n",
       "        var display = window.getComputedStyle(gd).display;\n",
       "        if (!display || display === 'none') {{\n",
       "            console.log([gd, 'removed!']);\n",
       "            Plotly.purge(gd);\n",
       "            observer.disconnect();\n",
       "        }}\n",
       "}});\n",
       "\n",
       "// Listen for the removal of the full notebook cells\n",
       "var notebookContainer = gd.closest('#notebook-container');\n",
       "if (notebookContainer) {{\n",
       "    x.observe(notebookContainer, {childList: true});\n",
       "}}\n",
       "\n",
       "// Listen for the clearing of the current output cell\n",
       "var outputEl = gd.closest('.output');\n",
       "if (outputEl) {{\n",
       "    x.observe(outputEl, {childList: true});\n",
       "}}\n",
       "\n",
       "                        })                };                });            </script>        </div>"
      ]
     },
     "metadata": {},
     "output_type": "display_data"
    }
   ],
   "source": [
    "# POR CUATRIMESTRE\n",
    "df_vintage_2_four = get_vintage_analysis_by_interval(df_vintage_2,\n",
    "                                                     \"four-month period\")\n",
    "get_cohort_graph(df_vintage_2_four, bucket_2)"
   ]
  },
  {
   "cell_type": "markdown",
   "id": "693286b4",
   "metadata": {},
   "source": [
    "Se puede observar que existen cohortes cuyos porcentajes de acumulados máximos de moros no rebasan el 1% (cohortes de -12, -20, -24), otro rebasan el 1% pero no el 2% (cohortes de -16, -28, -32). La mayoría de ellos tienen acumuludos máximos por arriba del 2%."
   ]
  },
  {
   "cell_type": "markdown",
   "id": "c9b9eff7",
   "metadata": {},
   "source": [
    "La anterior observación podría dar pie a un __filtro__ de información con el fin de dar realce a los morosos. Por ejemplo, se podría decir  que se dejará fuera de un posible análisis predictivo futuro a los integrantes de aquellos cohortes que no aporten nada o mímima información acerca de los morosos. \n",
    "\n",
    "Esto tiene sentido cuando se quiere una herramienta que tenga como prioridad el buen reconocimiento de los morosos.  Es cierto que se estará deshaciendo de parte de la información de los clientes buenos, pero se estará haciendo de tal manera que incurra minimamente en la perdida de información acerca de nuestro grupo de interés, el de los morosos.\n",
    "\n",
    "Un ejemplo de filtro, podría ser el de dejar fuera a los clientes que integren los cohortes con un porcentaje acumulado máximo menor al 1% (__FILTRO_2__). Desde luego, esto es un valor arbitrario y que en la vida real, su asignación no debe caer en manos de una sola persona."
   ]
  },
  {
   "cell_type": "markdown",
   "id": "eae4822f",
   "metadata": {},
   "source": [
    "# 4.2. Cohortes medios."
   ]
  },
  {
   "cell_type": "markdown",
   "id": "4252c3a7",
   "metadata": {},
   "source": [
    "Una manera de dar un vistazo rápido al comportamiento de los cohortes para los demás buckets de mora, es decir, \n",
    "de 30, de 90, de 120 y de 150 o más, y poder compararlos entre ellos es calculando el __cohorte medio__.\n",
    "\n",
    "Se construye de la siguiente manera. Para cada __month_on_book__ se promedian las probabilidades acumuladas que se obtienen hasta ese momento. Lo anterior se hace para todos buckets. Se tendrán entonces 5 cohortes medios."
   ]
  },
  {
   "cell_type": "code",
   "execution_count": 28,
   "id": "77ca900e",
   "metadata": {},
   "outputs": [
    {
     "name": "stdout",
     "output_type": "stream",
     "text": [
      "30 días o más\n",
      "60 días o más\n",
      "90 días o más\n",
      "120 días o más\n",
      "150 días o más\n"
     ]
    }
   ],
   "source": [
    "new_column_names = ['month_on_book'] + due_names\n",
    "dfs_mean_cohort = []\n",
    "# all_buckets = [bucket_1, bucket_2, bucket_3, bucket_4, bucket_5]\n",
    "iterator = iter(new_column_names[1:])\n",
    "for df in dfs_vintage:\n",
    "    string = next(iterator)\n",
    "    print(string)\n",
    "    # df_vintage = get_vintage_analysis(n=n,\n",
    "    #                                   df_credit_extend=df_credit_extend,\n",
    "    #                                   chosen_bucket=bucket)\n",
    "    df_mean_cohort = get_mean_cohort(df_vintage=df,\n",
    "                                     chosen_bucket=bucket,\n",
    "                                     with_graph=False)\n",
    "    dfs_mean_cohort.append(df_mean_cohort)\n",
    "combined_df = reduce(inner_join, dfs_mean_cohort)\n",
    "combined_df.columns = new_column_names"
   ]
  },
  {
   "cell_type": "code",
   "execution_count": 29,
   "id": "7371d5be",
   "metadata": {},
   "outputs": [
    {
     "data": {
      "application/vnd.plotly.v1+json": {
       "config": {
        "plotlyServerURL": "https://plot.ly"
       },
       "data": [
        {
         "hovertemplate": "months=30 días o más<br>month_on_book=%{x}<br>porcentajes=%{y}<extra></extra>",
         "legendgroup": "30 días o más",
         "line": {
          "color": "#636efa",
          "dash": "solid"
         },
         "marker": {
          "symbol": "circle"
         },
         "mode": "markers+lines",
         "name": "30 días o más",
         "orientation": "v",
         "showlegend": true,
         "type": "scatter",
         "x": [
          0,
          1,
          2,
          3,
          4,
          5,
          6,
          7,
          8,
          9,
          10,
          11,
          12,
          13,
          14,
          15,
          16,
          17,
          18,
          19,
          20,
          21,
          22,
          23,
          24,
          25,
          26,
          27,
          28,
          29,
          30,
          31,
          32,
          33,
          34,
          35,
          36,
          37,
          38,
          39,
          40,
          41,
          42,
          43,
          44,
          45,
          46,
          47,
          48,
          49,
          50,
          51,
          52,
          53,
          54,
          55,
          56,
          57,
          58,
          59,
          60
         ],
         "xaxis": "x",
         "y": [
          0.03612244897959184,
          1.0706122448979591,
          2.51204081632653,
          3.585714285714286,
          4.7483673469387755,
          5.756122448979591,
          7.016938775510204,
          7.794489795918369,
          8.404897959183673,
          9.171224489795918,
          9.949387755102041,
          10.497142857142855,
          11.007755102040816,
          11.245,
          11.50063829787234,
          11.754565217391304,
          12.024,
          12.190681818181817,
          12.40046511627907,
          12.559761904761904,
          12.765121951219513,
          12.875,
          12.953333333333333,
          13.04842105263158,
          13.231351351351352,
          13.355,
          13.452285714285715,
          13.577352941176471,
          13.655454545454546,
          13.773125,
          13.91258064516129,
          14.021999999999998,
          13.995172413793103,
          14.159285714285716,
          14.265555555555556,
          14.381153846153845,
          14.4572,
          14.445833333333335,
          14.508695652173914,
          14.629545454545456,
          14.66285714285714,
          14.832999999999998,
          14.936842105263159,
          14.954444444444444,
          14.941764705882353,
          14.960625,
          15.15,
          15.272857142857143,
          15.152307692307694,
          15.056666666666667,
          15.057272727272727,
          15.503,
          15.722222222222221,
          15.905000000000001,
          15.964285714285714,
          15.988333333333335,
          15.565999999999999,
          15.66,
          14.94,
          15.56,
          17.84
         ],
         "yaxis": "y"
        },
        {
         "hovertemplate": "months=60 días o más<br>month_on_book=%{x}<br>porcentajes=%{y}<extra></extra>",
         "legendgroup": "60 días o más",
         "line": {
          "color": "#EF553B",
          "dash": "solid"
         },
         "marker": {
          "symbol": "circle"
         },
         "mode": "markers+lines",
         "name": "60 días o más",
         "orientation": "v",
         "showlegend": true,
         "type": "scatter",
         "x": [
          0,
          1,
          2,
          3,
          4,
          5,
          6,
          7,
          8,
          9,
          10,
          11,
          12,
          13,
          14,
          15,
          16,
          17,
          18,
          19,
          20,
          21,
          22,
          23,
          24,
          25,
          26,
          27,
          28,
          29,
          30,
          31,
          32,
          33,
          34,
          35,
          36,
          37,
          38,
          39,
          40,
          41,
          42,
          43,
          44,
          45,
          46,
          47,
          48,
          49,
          50,
          51,
          52,
          53,
          54,
          55,
          56,
          57,
          58,
          59,
          60
         ],
         "xaxis": "x",
         "y": [
          0.003061224489795918,
          0.025306122448979597,
          0.11142857142857145,
          0.24163265306122453,
          0.40448979591836737,
          0.529795918367347,
          0.6589795918367347,
          0.8824489795918368,
          0.9655102040816326,
          1.0987755102040817,
          1.2087755102040816,
          1.3424489795918368,
          1.446122448979592,
          1.5825000000000002,
          1.6182978723404255,
          1.6752173913043478,
          1.6922222222222223,
          1.7334090909090911,
          1.7960465116279067,
          1.861904761904762,
          1.88,
          1.9592500000000002,
          1.9741025641025642,
          1.9907894736842107,
          2.0413513513513513,
          2.1308333333333334,
          2.166857142857143,
          2.208235294117647,
          2.23030303030303,
          2.285625,
          2.338387096774194,
          2.356333333333333,
          2.4068965517241385,
          2.4532142857142856,
          2.5551851851851857,
          2.612692307692308,
          2.6524,
          2.6783333333333332,
          2.676521739130435,
          2.733181818181818,
          2.7676190476190476,
          2.772,
          2.7821052631578946,
          2.802222222222222,
          2.885882352941177,
          2.925625,
          2.998666666666667,
          3.062857142857143,
          3.0715384615384616,
          3.0708333333333333,
          3.190909090909091,
          3.3489999999999993,
          3.461111111111111,
          3.5574999999999997,
          3.6157142857142857,
          3.65,
          3.336,
          3.1174999999999997,
          3.2899999999999996,
          3.5149999999999997,
          3.51
         ],
         "yaxis": "y"
        },
        {
         "hovertemplate": "months=90 días o más<br>month_on_book=%{x}<br>porcentajes=%{y}<extra></extra>",
         "legendgroup": "90 días o más",
         "line": {
          "color": "#00cc96",
          "dash": "solid"
         },
         "marker": {
          "symbol": "circle"
         },
         "mode": "markers+lines",
         "name": "90 días o más",
         "orientation": "v",
         "showlegend": true,
         "type": "scatter",
         "x": [
          0,
          1,
          2,
          3,
          4,
          5,
          6,
          7,
          8,
          9,
          10,
          11,
          12,
          13,
          14,
          15,
          16,
          17,
          18,
          19,
          20,
          21,
          22,
          23,
          24,
          25,
          26,
          27,
          28,
          29,
          30,
          31,
          32,
          33,
          34,
          35,
          36,
          37,
          38,
          39,
          40,
          41,
          42,
          43,
          44,
          45,
          46,
          47,
          48,
          49,
          50,
          51,
          52,
          53,
          54,
          55,
          56,
          57,
          58,
          59,
          60
         ],
         "xaxis": "x",
         "y": [
          0.003061224489795918,
          0.010408163265306122,
          0.025918367346938778,
          0.06142857142857144,
          0.11326530612244898,
          0.17612244897959184,
          0.24122448979591837,
          0.3275510204081632,
          0.4093877551020408,
          0.47081632653061223,
          0.5191836734693878,
          0.5655102040816326,
          0.6687755102040815,
          0.7164583333333333,
          0.8089361702127659,
          0.831304347826087,
          0.8480000000000001,
          0.864090909090909,
          0.8979069767441861,
          0.9123809523809524,
          0.9358536585365855,
          0.9702500000000001,
          0.9964102564102564,
          1.0121052631578946,
          1.035945945945946,
          1.0758333333333332,
          1.1077142857142857,
          1.153529411764706,
          1.1845454545454546,
          1.20875,
          1.245806451612903,
          1.275,
          1.2934482758620691,
          1.3135714285714286,
          1.3518518518518519,
          1.4015384615384614,
          1.464,
          1.4649999999999999,
          1.4773913043478262,
          1.5240909090909092,
          1.5566666666666666,
          1.5335,
          1.5547368421052632,
          1.577777777777778,
          1.6300000000000001,
          1.6612500000000001,
          1.7353333333333334,
          1.7342857142857144,
          1.7669230769230768,
          1.7533333333333332,
          1.8272727272727274,
          1.9280000000000002,
          1.9911111111111113,
          2.085,
          2.187142857142857,
          2.265,
          2.038,
          1.9049999999999998,
          1.96,
          2.165,
          2.16
         ],
         "yaxis": "y"
        },
        {
         "hovertemplate": "months=120 días o más<br>month_on_book=%{x}<br>porcentajes=%{y}<extra></extra>",
         "legendgroup": "120 días o más",
         "line": {
          "color": "#ab63fa",
          "dash": "solid"
         },
         "marker": {
          "symbol": "circle"
         },
         "mode": "markers+lines",
         "name": "120 días o más",
         "orientation": "v",
         "showlegend": true,
         "type": "scatter",
         "x": [
          0,
          1,
          2,
          3,
          4,
          5,
          6,
          7,
          8,
          9,
          10,
          11,
          12,
          13,
          14,
          15,
          16,
          17,
          18,
          19,
          20,
          21,
          22,
          23,
          24,
          25,
          26,
          27,
          28,
          29,
          30,
          31,
          32,
          33,
          34,
          35,
          36,
          37,
          38,
          39,
          40,
          41,
          42,
          43,
          44,
          45,
          46,
          47,
          48,
          49,
          50,
          51,
          52,
          53,
          54,
          55,
          56,
          57,
          58,
          59,
          60
         ],
         "xaxis": "x",
         "y": [
          0.003061224489795918,
          0.010408163265306122,
          0.02122448979591837,
          0.02387755102040816,
          0.0636734693877551,
          0.08755102040816329,
          0.1289795918367347,
          0.16632653061224487,
          0.21081632653061225,
          0.2808163265306123,
          0.3226530612244898,
          0.36448979591836733,
          0.396938775510204,
          0.47541666666666665,
          0.4946808510638298,
          0.5704347826086957,
          0.5875555555555555,
          0.5927272727272727,
          0.6072093023255813,
          0.6161904761904763,
          0.6324390243902439,
          0.6537499999999999,
          0.6658974358974359,
          0.6957894736842105,
          0.7110810810810811,
          0.7358333333333333,
          0.7422857142857143,
          0.8023529411764706,
          0.826060606060606,
          0.8434375000000001,
          0.8612903225806453,
          0.8576666666666667,
          0.8924137931034484,
          0.9032142857142859,
          0.9322222222222223,
          0.938846153846154,
          1.0052,
          1.0191666666666668,
          1.0165217391304346,
          1.0518181818181818,
          1.0571428571428574,
          1.0585,
          1.08,
          1.095,
          1.1288235294117648,
          1.1525,
          1.2333333333333334,
          1.2521428571428572,
          1.32,
          1.3175,
          1.37,
          1.4460000000000002,
          1.4766666666666666,
          1.5837499999999998,
          1.647142857142857,
          1.6766666666666665,
          1.5139999999999998,
          1.4249999999999998,
          1.6066666666666667,
          1.895,
          1.89
         ],
         "yaxis": "y"
        },
        {
         "hovertemplate": "months=150 días o más<br>month_on_book=%{x}<br>porcentajes=%{y}<extra></extra>",
         "legendgroup": "150 días o más",
         "line": {
          "color": "#FFA15A",
          "dash": "solid"
         },
         "marker": {
          "symbol": "circle"
         },
         "mode": "markers+lines",
         "name": "150 días o más",
         "orientation": "v",
         "showlegend": true,
         "type": "scatter",
         "x": [
          0,
          1,
          2,
          3,
          4,
          5,
          6,
          7,
          8,
          9,
          10,
          11,
          12,
          13,
          14,
          15,
          16,
          17,
          18,
          19,
          20,
          21,
          22,
          23,
          24,
          25,
          26,
          27,
          28,
          29,
          30,
          31,
          32,
          33,
          34,
          35,
          36,
          37,
          38,
          39,
          40,
          41,
          42,
          43,
          44,
          45,
          46,
          47,
          48,
          49,
          50,
          51,
          52,
          53,
          54,
          55,
          56,
          57,
          58,
          59,
          60
         ],
         "xaxis": "x",
         "y": [
          0.003061224489795918,
          0.010408163265306122,
          0.02122448979591837,
          0.02387755102040816,
          0.02979591836734694,
          0.06408163265306123,
          0.0773469387755102,
          0.12510204081632656,
          0.15081632653061225,
          0.19918367346938776,
          0.2397959183673469,
          0.28122448979591835,
          0.31020408163265306,
          0.33749999999999997,
          0.39595744680851064,
          0.41021739130434776,
          0.48266666666666663,
          0.49568181818181817,
          0.5079069767441861,
          0.5116666666666667,
          0.5175609756097561,
          0.53625,
          0.546923076923077,
          0.56,
          0.5954054054054054,
          0.6144444444444445,
          0.6234285714285714,
          0.6376470588235295,
          0.6618181818181817,
          0.669375,
          0.6951612903225806,
          0.6906666666666667,
          0.6941379310344826,
          0.7292857142857143,
          0.7574074074074075,
          0.7573076923076922,
          0.7759999999999999,
          0.7683333333333334,
          0.7808695652173914,
          0.7959090909090908,
          0.8052380952380952,
          0.7989999999999999,
          0.8278947368421052,
          0.8377777777777777,
          0.8564705882352941,
          0.88625,
          0.9206666666666667,
          0.9450000000000001,
          1.0030769230769232,
          0.9900000000000001,
          1.030909090909091,
          1.114,
          1.1733333333333333,
          1.2425000000000002,
          1.3228571428571427,
          1.3800000000000001,
          1.202,
          1.0925,
          1.1633333333333333,
          1.355,
          1.35
         ],
         "yaxis": "y"
        }
       ],
       "layout": {
        "legend": {
         "title": {
          "text": "months"
         },
         "tracegroupgap": 0
        },
        "margin": {
         "t": 60
        },
        "template": {
         "data": {
          "bar": [
           {
            "error_x": {
             "color": "#2a3f5f"
            },
            "error_y": {
             "color": "#2a3f5f"
            },
            "marker": {
             "line": {
              "color": "#E5ECF6",
              "width": 0.5
             },
             "pattern": {
              "fillmode": "overlay",
              "size": 10,
              "solidity": 0.2
             }
            },
            "type": "bar"
           }
          ],
          "barpolar": [
           {
            "marker": {
             "line": {
              "color": "#E5ECF6",
              "width": 0.5
             },
             "pattern": {
              "fillmode": "overlay",
              "size": 10,
              "solidity": 0.2
             }
            },
            "type": "barpolar"
           }
          ],
          "carpet": [
           {
            "aaxis": {
             "endlinecolor": "#2a3f5f",
             "gridcolor": "white",
             "linecolor": "white",
             "minorgridcolor": "white",
             "startlinecolor": "#2a3f5f"
            },
            "baxis": {
             "endlinecolor": "#2a3f5f",
             "gridcolor": "white",
             "linecolor": "white",
             "minorgridcolor": "white",
             "startlinecolor": "#2a3f5f"
            },
            "type": "carpet"
           }
          ],
          "choropleth": [
           {
            "colorbar": {
             "outlinewidth": 0,
             "ticks": ""
            },
            "type": "choropleth"
           }
          ],
          "contour": [
           {
            "colorbar": {
             "outlinewidth": 0,
             "ticks": ""
            },
            "colorscale": [
             [
              0,
              "#0d0887"
             ],
             [
              0.1111111111111111,
              "#46039f"
             ],
             [
              0.2222222222222222,
              "#7201a8"
             ],
             [
              0.3333333333333333,
              "#9c179e"
             ],
             [
              0.4444444444444444,
              "#bd3786"
             ],
             [
              0.5555555555555556,
              "#d8576b"
             ],
             [
              0.6666666666666666,
              "#ed7953"
             ],
             [
              0.7777777777777778,
              "#fb9f3a"
             ],
             [
              0.8888888888888888,
              "#fdca26"
             ],
             [
              1,
              "#f0f921"
             ]
            ],
            "type": "contour"
           }
          ],
          "contourcarpet": [
           {
            "colorbar": {
             "outlinewidth": 0,
             "ticks": ""
            },
            "type": "contourcarpet"
           }
          ],
          "heatmap": [
           {
            "colorbar": {
             "outlinewidth": 0,
             "ticks": ""
            },
            "colorscale": [
             [
              0,
              "#0d0887"
             ],
             [
              0.1111111111111111,
              "#46039f"
             ],
             [
              0.2222222222222222,
              "#7201a8"
             ],
             [
              0.3333333333333333,
              "#9c179e"
             ],
             [
              0.4444444444444444,
              "#bd3786"
             ],
             [
              0.5555555555555556,
              "#d8576b"
             ],
             [
              0.6666666666666666,
              "#ed7953"
             ],
             [
              0.7777777777777778,
              "#fb9f3a"
             ],
             [
              0.8888888888888888,
              "#fdca26"
             ],
             [
              1,
              "#f0f921"
             ]
            ],
            "type": "heatmap"
           }
          ],
          "heatmapgl": [
           {
            "colorbar": {
             "outlinewidth": 0,
             "ticks": ""
            },
            "colorscale": [
             [
              0,
              "#0d0887"
             ],
             [
              0.1111111111111111,
              "#46039f"
             ],
             [
              0.2222222222222222,
              "#7201a8"
             ],
             [
              0.3333333333333333,
              "#9c179e"
             ],
             [
              0.4444444444444444,
              "#bd3786"
             ],
             [
              0.5555555555555556,
              "#d8576b"
             ],
             [
              0.6666666666666666,
              "#ed7953"
             ],
             [
              0.7777777777777778,
              "#fb9f3a"
             ],
             [
              0.8888888888888888,
              "#fdca26"
             ],
             [
              1,
              "#f0f921"
             ]
            ],
            "type": "heatmapgl"
           }
          ],
          "histogram": [
           {
            "marker": {
             "pattern": {
              "fillmode": "overlay",
              "size": 10,
              "solidity": 0.2
             }
            },
            "type": "histogram"
           }
          ],
          "histogram2d": [
           {
            "colorbar": {
             "outlinewidth": 0,
             "ticks": ""
            },
            "colorscale": [
             [
              0,
              "#0d0887"
             ],
             [
              0.1111111111111111,
              "#46039f"
             ],
             [
              0.2222222222222222,
              "#7201a8"
             ],
             [
              0.3333333333333333,
              "#9c179e"
             ],
             [
              0.4444444444444444,
              "#bd3786"
             ],
             [
              0.5555555555555556,
              "#d8576b"
             ],
             [
              0.6666666666666666,
              "#ed7953"
             ],
             [
              0.7777777777777778,
              "#fb9f3a"
             ],
             [
              0.8888888888888888,
              "#fdca26"
             ],
             [
              1,
              "#f0f921"
             ]
            ],
            "type": "histogram2d"
           }
          ],
          "histogram2dcontour": [
           {
            "colorbar": {
             "outlinewidth": 0,
             "ticks": ""
            },
            "colorscale": [
             [
              0,
              "#0d0887"
             ],
             [
              0.1111111111111111,
              "#46039f"
             ],
             [
              0.2222222222222222,
              "#7201a8"
             ],
             [
              0.3333333333333333,
              "#9c179e"
             ],
             [
              0.4444444444444444,
              "#bd3786"
             ],
             [
              0.5555555555555556,
              "#d8576b"
             ],
             [
              0.6666666666666666,
              "#ed7953"
             ],
             [
              0.7777777777777778,
              "#fb9f3a"
             ],
             [
              0.8888888888888888,
              "#fdca26"
             ],
             [
              1,
              "#f0f921"
             ]
            ],
            "type": "histogram2dcontour"
           }
          ],
          "mesh3d": [
           {
            "colorbar": {
             "outlinewidth": 0,
             "ticks": ""
            },
            "type": "mesh3d"
           }
          ],
          "parcoords": [
           {
            "line": {
             "colorbar": {
              "outlinewidth": 0,
              "ticks": ""
             }
            },
            "type": "parcoords"
           }
          ],
          "pie": [
           {
            "automargin": true,
            "type": "pie"
           }
          ],
          "scatter": [
           {
            "fillpattern": {
             "fillmode": "overlay",
             "size": 10,
             "solidity": 0.2
            },
            "type": "scatter"
           }
          ],
          "scatter3d": [
           {
            "line": {
             "colorbar": {
              "outlinewidth": 0,
              "ticks": ""
             }
            },
            "marker": {
             "colorbar": {
              "outlinewidth": 0,
              "ticks": ""
             }
            },
            "type": "scatter3d"
           }
          ],
          "scattercarpet": [
           {
            "marker": {
             "colorbar": {
              "outlinewidth": 0,
              "ticks": ""
             }
            },
            "type": "scattercarpet"
           }
          ],
          "scattergeo": [
           {
            "marker": {
             "colorbar": {
              "outlinewidth": 0,
              "ticks": ""
             }
            },
            "type": "scattergeo"
           }
          ],
          "scattergl": [
           {
            "marker": {
             "colorbar": {
              "outlinewidth": 0,
              "ticks": ""
             }
            },
            "type": "scattergl"
           }
          ],
          "scattermapbox": [
           {
            "marker": {
             "colorbar": {
              "outlinewidth": 0,
              "ticks": ""
             }
            },
            "type": "scattermapbox"
           }
          ],
          "scatterpolar": [
           {
            "marker": {
             "colorbar": {
              "outlinewidth": 0,
              "ticks": ""
             }
            },
            "type": "scatterpolar"
           }
          ],
          "scatterpolargl": [
           {
            "marker": {
             "colorbar": {
              "outlinewidth": 0,
              "ticks": ""
             }
            },
            "type": "scatterpolargl"
           }
          ],
          "scatterternary": [
           {
            "marker": {
             "colorbar": {
              "outlinewidth": 0,
              "ticks": ""
             }
            },
            "type": "scatterternary"
           }
          ],
          "surface": [
           {
            "colorbar": {
             "outlinewidth": 0,
             "ticks": ""
            },
            "colorscale": [
             [
              0,
              "#0d0887"
             ],
             [
              0.1111111111111111,
              "#46039f"
             ],
             [
              0.2222222222222222,
              "#7201a8"
             ],
             [
              0.3333333333333333,
              "#9c179e"
             ],
             [
              0.4444444444444444,
              "#bd3786"
             ],
             [
              0.5555555555555556,
              "#d8576b"
             ],
             [
              0.6666666666666666,
              "#ed7953"
             ],
             [
              0.7777777777777778,
              "#fb9f3a"
             ],
             [
              0.8888888888888888,
              "#fdca26"
             ],
             [
              1,
              "#f0f921"
             ]
            ],
            "type": "surface"
           }
          ],
          "table": [
           {
            "cells": {
             "fill": {
              "color": "#EBF0F8"
             },
             "line": {
              "color": "white"
             }
            },
            "header": {
             "fill": {
              "color": "#C8D4E3"
             },
             "line": {
              "color": "white"
             }
            },
            "type": "table"
           }
          ]
         },
         "layout": {
          "annotationdefaults": {
           "arrowcolor": "#2a3f5f",
           "arrowhead": 0,
           "arrowwidth": 1
          },
          "autotypenumbers": "strict",
          "coloraxis": {
           "colorbar": {
            "outlinewidth": 0,
            "ticks": ""
           }
          },
          "colorscale": {
           "diverging": [
            [
             0,
             "#8e0152"
            ],
            [
             0.1,
             "#c51b7d"
            ],
            [
             0.2,
             "#de77ae"
            ],
            [
             0.3,
             "#f1b6da"
            ],
            [
             0.4,
             "#fde0ef"
            ],
            [
             0.5,
             "#f7f7f7"
            ],
            [
             0.6,
             "#e6f5d0"
            ],
            [
             0.7,
             "#b8e186"
            ],
            [
             0.8,
             "#7fbc41"
            ],
            [
             0.9,
             "#4d9221"
            ],
            [
             1,
             "#276419"
            ]
           ],
           "sequential": [
            [
             0,
             "#0d0887"
            ],
            [
             0.1111111111111111,
             "#46039f"
            ],
            [
             0.2222222222222222,
             "#7201a8"
            ],
            [
             0.3333333333333333,
             "#9c179e"
            ],
            [
             0.4444444444444444,
             "#bd3786"
            ],
            [
             0.5555555555555556,
             "#d8576b"
            ],
            [
             0.6666666666666666,
             "#ed7953"
            ],
            [
             0.7777777777777778,
             "#fb9f3a"
            ],
            [
             0.8888888888888888,
             "#fdca26"
            ],
            [
             1,
             "#f0f921"
            ]
           ],
           "sequentialminus": [
            [
             0,
             "#0d0887"
            ],
            [
             0.1111111111111111,
             "#46039f"
            ],
            [
             0.2222222222222222,
             "#7201a8"
            ],
            [
             0.3333333333333333,
             "#9c179e"
            ],
            [
             0.4444444444444444,
             "#bd3786"
            ],
            [
             0.5555555555555556,
             "#d8576b"
            ],
            [
             0.6666666666666666,
             "#ed7953"
            ],
            [
             0.7777777777777778,
             "#fb9f3a"
            ],
            [
             0.8888888888888888,
             "#fdca26"
            ],
            [
             1,
             "#f0f921"
            ]
           ]
          },
          "colorway": [
           "#636efa",
           "#EF553B",
           "#00cc96",
           "#ab63fa",
           "#FFA15A",
           "#19d3f3",
           "#FF6692",
           "#B6E880",
           "#FF97FF",
           "#FECB52"
          ],
          "font": {
           "color": "#2a3f5f"
          },
          "geo": {
           "bgcolor": "white",
           "lakecolor": "white",
           "landcolor": "#E5ECF6",
           "showlakes": true,
           "showland": true,
           "subunitcolor": "white"
          },
          "hoverlabel": {
           "align": "left"
          },
          "hovermode": "closest",
          "mapbox": {
           "style": "light"
          },
          "paper_bgcolor": "white",
          "plot_bgcolor": "#E5ECF6",
          "polar": {
           "angularaxis": {
            "gridcolor": "white",
            "linecolor": "white",
            "ticks": ""
           },
           "bgcolor": "#E5ECF6",
           "radialaxis": {
            "gridcolor": "white",
            "linecolor": "white",
            "ticks": ""
           }
          },
          "scene": {
           "xaxis": {
            "backgroundcolor": "#E5ECF6",
            "gridcolor": "white",
            "gridwidth": 2,
            "linecolor": "white",
            "showbackground": true,
            "ticks": "",
            "zerolinecolor": "white"
           },
           "yaxis": {
            "backgroundcolor": "#E5ECF6",
            "gridcolor": "white",
            "gridwidth": 2,
            "linecolor": "white",
            "showbackground": true,
            "ticks": "",
            "zerolinecolor": "white"
           },
           "zaxis": {
            "backgroundcolor": "#E5ECF6",
            "gridcolor": "white",
            "gridwidth": 2,
            "linecolor": "white",
            "showbackground": true,
            "ticks": "",
            "zerolinecolor": "white"
           }
          },
          "shapedefaults": {
           "line": {
            "color": "#2a3f5f"
           }
          },
          "ternary": {
           "aaxis": {
            "gridcolor": "white",
            "linecolor": "white",
            "ticks": ""
           },
           "baxis": {
            "gridcolor": "white",
            "linecolor": "white",
            "ticks": ""
           },
           "bgcolor": "#E5ECF6",
           "caxis": {
            "gridcolor": "white",
            "linecolor": "white",
            "ticks": ""
           }
          },
          "title": {
           "x": 0.05
          },
          "xaxis": {
           "automargin": true,
           "gridcolor": "white",
           "linecolor": "white",
           "ticks": "",
           "title": {
            "standoff": 15
           },
           "zerolinecolor": "white",
           "zerolinewidth": 2
          },
          "yaxis": {
           "automargin": true,
           "gridcolor": "white",
           "linecolor": "white",
           "ticks": "",
           "title": {
            "standoff": 15
           },
           "zerolinecolor": "white",
           "zerolinewidth": 2
          }
         }
        },
        "xaxis": {
         "anchor": "y",
         "domain": [
          0,
          1
         ],
         "title": {
          "text": "month_on_book"
         }
        },
        "yaxis": {
         "anchor": "x",
         "domain": [
          0,
          1
         ],
         "title": {
          "text": "porcentajes"
         }
        }
       }
      },
      "text/html": [
       "<div>                            <div id=\"63976672-d5a3-4dca-8ce1-932eb8737a3f\" class=\"plotly-graph-div\" style=\"height:525px; width:100%;\"></div>            <script type=\"text/javascript\">                require([\"plotly\"], function(Plotly) {                    window.PLOTLYENV=window.PLOTLYENV || {};                                    if (document.getElementById(\"63976672-d5a3-4dca-8ce1-932eb8737a3f\")) {                    Plotly.newPlot(                        \"63976672-d5a3-4dca-8ce1-932eb8737a3f\",                        [{\"hovertemplate\":\"months=30 d\\u00edas o m\\u00e1s<br>month_on_book=%{x}<br>porcentajes=%{y}<extra></extra>\",\"legendgroup\":\"30 d\\u00edas o m\\u00e1s\",\"line\":{\"color\":\"#636efa\",\"dash\":\"solid\"},\"marker\":{\"symbol\":\"circle\"},\"mode\":\"markers+lines\",\"name\":\"30 d\\u00edas o m\\u00e1s\",\"orientation\":\"v\",\"showlegend\":true,\"x\":[0,1,2,3,4,5,6,7,8,9,10,11,12,13,14,15,16,17,18,19,20,21,22,23,24,25,26,27,28,29,30,31,32,33,34,35,36,37,38,39,40,41,42,43,44,45,46,47,48,49,50,51,52,53,54,55,56,57,58,59,60],\"xaxis\":\"x\",\"y\":[0.03612244897959184,1.0706122448979591,2.51204081632653,3.585714285714286,4.7483673469387755,5.756122448979591,7.016938775510204,7.794489795918369,8.404897959183673,9.171224489795918,9.949387755102041,10.497142857142855,11.007755102040816,11.245,11.50063829787234,11.754565217391304,12.024,12.190681818181817,12.40046511627907,12.559761904761904,12.765121951219513,12.875,12.953333333333333,13.04842105263158,13.231351351351352,13.355,13.452285714285715,13.577352941176471,13.655454545454546,13.773125,13.91258064516129,14.021999999999998,13.995172413793103,14.159285714285716,14.265555555555556,14.381153846153845,14.4572,14.445833333333335,14.508695652173914,14.629545454545456,14.66285714285714,14.832999999999998,14.936842105263159,14.954444444444444,14.941764705882353,14.960625,15.15,15.272857142857143,15.152307692307694,15.056666666666667,15.057272727272727,15.503,15.722222222222221,15.905000000000001,15.964285714285714,15.988333333333335,15.565999999999999,15.66,14.94,15.56,17.84],\"yaxis\":\"y\",\"type\":\"scatter\"},{\"hovertemplate\":\"months=60 d\\u00edas o m\\u00e1s<br>month_on_book=%{x}<br>porcentajes=%{y}<extra></extra>\",\"legendgroup\":\"60 d\\u00edas o m\\u00e1s\",\"line\":{\"color\":\"#EF553B\",\"dash\":\"solid\"},\"marker\":{\"symbol\":\"circle\"},\"mode\":\"markers+lines\",\"name\":\"60 d\\u00edas o m\\u00e1s\",\"orientation\":\"v\",\"showlegend\":true,\"x\":[0,1,2,3,4,5,6,7,8,9,10,11,12,13,14,15,16,17,18,19,20,21,22,23,24,25,26,27,28,29,30,31,32,33,34,35,36,37,38,39,40,41,42,43,44,45,46,47,48,49,50,51,52,53,54,55,56,57,58,59,60],\"xaxis\":\"x\",\"y\":[0.003061224489795918,0.025306122448979597,0.11142857142857145,0.24163265306122453,0.40448979591836737,0.529795918367347,0.6589795918367347,0.8824489795918368,0.9655102040816326,1.0987755102040817,1.2087755102040816,1.3424489795918368,1.446122448979592,1.5825000000000002,1.6182978723404255,1.6752173913043478,1.6922222222222223,1.7334090909090911,1.7960465116279067,1.861904761904762,1.88,1.9592500000000002,1.9741025641025642,1.9907894736842107,2.0413513513513513,2.1308333333333334,2.166857142857143,2.208235294117647,2.23030303030303,2.285625,2.338387096774194,2.356333333333333,2.4068965517241385,2.4532142857142856,2.5551851851851857,2.612692307692308,2.6524,2.6783333333333332,2.676521739130435,2.733181818181818,2.7676190476190476,2.772,2.7821052631578946,2.802222222222222,2.885882352941177,2.925625,2.998666666666667,3.062857142857143,3.0715384615384616,3.0708333333333333,3.190909090909091,3.3489999999999993,3.461111111111111,3.5574999999999997,3.6157142857142857,3.65,3.336,3.1174999999999997,3.2899999999999996,3.5149999999999997,3.51],\"yaxis\":\"y\",\"type\":\"scatter\"},{\"hovertemplate\":\"months=90 d\\u00edas o m\\u00e1s<br>month_on_book=%{x}<br>porcentajes=%{y}<extra></extra>\",\"legendgroup\":\"90 d\\u00edas o m\\u00e1s\",\"line\":{\"color\":\"#00cc96\",\"dash\":\"solid\"},\"marker\":{\"symbol\":\"circle\"},\"mode\":\"markers+lines\",\"name\":\"90 d\\u00edas o m\\u00e1s\",\"orientation\":\"v\",\"showlegend\":true,\"x\":[0,1,2,3,4,5,6,7,8,9,10,11,12,13,14,15,16,17,18,19,20,21,22,23,24,25,26,27,28,29,30,31,32,33,34,35,36,37,38,39,40,41,42,43,44,45,46,47,48,49,50,51,52,53,54,55,56,57,58,59,60],\"xaxis\":\"x\",\"y\":[0.003061224489795918,0.010408163265306122,0.025918367346938778,0.06142857142857144,0.11326530612244898,0.17612244897959184,0.24122448979591837,0.3275510204081632,0.4093877551020408,0.47081632653061223,0.5191836734693878,0.5655102040816326,0.6687755102040815,0.7164583333333333,0.8089361702127659,0.831304347826087,0.8480000000000001,0.864090909090909,0.8979069767441861,0.9123809523809524,0.9358536585365855,0.9702500000000001,0.9964102564102564,1.0121052631578946,1.035945945945946,1.0758333333333332,1.1077142857142857,1.153529411764706,1.1845454545454546,1.20875,1.245806451612903,1.275,1.2934482758620691,1.3135714285714286,1.3518518518518519,1.4015384615384614,1.464,1.4649999999999999,1.4773913043478262,1.5240909090909092,1.5566666666666666,1.5335,1.5547368421052632,1.577777777777778,1.6300000000000001,1.6612500000000001,1.7353333333333334,1.7342857142857144,1.7669230769230768,1.7533333333333332,1.8272727272727274,1.9280000000000002,1.9911111111111113,2.085,2.187142857142857,2.265,2.038,1.9049999999999998,1.96,2.165,2.16],\"yaxis\":\"y\",\"type\":\"scatter\"},{\"hovertemplate\":\"months=120 d\\u00edas o m\\u00e1s<br>month_on_book=%{x}<br>porcentajes=%{y}<extra></extra>\",\"legendgroup\":\"120 d\\u00edas o m\\u00e1s\",\"line\":{\"color\":\"#ab63fa\",\"dash\":\"solid\"},\"marker\":{\"symbol\":\"circle\"},\"mode\":\"markers+lines\",\"name\":\"120 d\\u00edas o m\\u00e1s\",\"orientation\":\"v\",\"showlegend\":true,\"x\":[0,1,2,3,4,5,6,7,8,9,10,11,12,13,14,15,16,17,18,19,20,21,22,23,24,25,26,27,28,29,30,31,32,33,34,35,36,37,38,39,40,41,42,43,44,45,46,47,48,49,50,51,52,53,54,55,56,57,58,59,60],\"xaxis\":\"x\",\"y\":[0.003061224489795918,0.010408163265306122,0.02122448979591837,0.02387755102040816,0.0636734693877551,0.08755102040816329,0.1289795918367347,0.16632653061224487,0.21081632653061225,0.2808163265306123,0.3226530612244898,0.36448979591836733,0.396938775510204,0.47541666666666665,0.4946808510638298,0.5704347826086957,0.5875555555555555,0.5927272727272727,0.6072093023255813,0.6161904761904763,0.6324390243902439,0.6537499999999999,0.6658974358974359,0.6957894736842105,0.7110810810810811,0.7358333333333333,0.7422857142857143,0.8023529411764706,0.826060606060606,0.8434375000000001,0.8612903225806453,0.8576666666666667,0.8924137931034484,0.9032142857142859,0.9322222222222223,0.938846153846154,1.0052,1.0191666666666668,1.0165217391304346,1.0518181818181818,1.0571428571428574,1.0585,1.08,1.095,1.1288235294117648,1.1525,1.2333333333333334,1.2521428571428572,1.32,1.3175,1.37,1.4460000000000002,1.4766666666666666,1.5837499999999998,1.647142857142857,1.6766666666666665,1.5139999999999998,1.4249999999999998,1.6066666666666667,1.895,1.89],\"yaxis\":\"y\",\"type\":\"scatter\"},{\"hovertemplate\":\"months=150 d\\u00edas o m\\u00e1s<br>month_on_book=%{x}<br>porcentajes=%{y}<extra></extra>\",\"legendgroup\":\"150 d\\u00edas o m\\u00e1s\",\"line\":{\"color\":\"#FFA15A\",\"dash\":\"solid\"},\"marker\":{\"symbol\":\"circle\"},\"mode\":\"markers+lines\",\"name\":\"150 d\\u00edas o m\\u00e1s\",\"orientation\":\"v\",\"showlegend\":true,\"x\":[0,1,2,3,4,5,6,7,8,9,10,11,12,13,14,15,16,17,18,19,20,21,22,23,24,25,26,27,28,29,30,31,32,33,34,35,36,37,38,39,40,41,42,43,44,45,46,47,48,49,50,51,52,53,54,55,56,57,58,59,60],\"xaxis\":\"x\",\"y\":[0.003061224489795918,0.010408163265306122,0.02122448979591837,0.02387755102040816,0.02979591836734694,0.06408163265306123,0.0773469387755102,0.12510204081632656,0.15081632653061225,0.19918367346938776,0.2397959183673469,0.28122448979591835,0.31020408163265306,0.33749999999999997,0.39595744680851064,0.41021739130434776,0.48266666666666663,0.49568181818181817,0.5079069767441861,0.5116666666666667,0.5175609756097561,0.53625,0.546923076923077,0.56,0.5954054054054054,0.6144444444444445,0.6234285714285714,0.6376470588235295,0.6618181818181817,0.669375,0.6951612903225806,0.6906666666666667,0.6941379310344826,0.7292857142857143,0.7574074074074075,0.7573076923076922,0.7759999999999999,0.7683333333333334,0.7808695652173914,0.7959090909090908,0.8052380952380952,0.7989999999999999,0.8278947368421052,0.8377777777777777,0.8564705882352941,0.88625,0.9206666666666667,0.9450000000000001,1.0030769230769232,0.9900000000000001,1.030909090909091,1.114,1.1733333333333333,1.2425000000000002,1.3228571428571427,1.3800000000000001,1.202,1.0925,1.1633333333333333,1.355,1.35],\"yaxis\":\"y\",\"type\":\"scatter\"}],                        {\"template\":{\"data\":{\"histogram2dcontour\":[{\"type\":\"histogram2dcontour\",\"colorbar\":{\"outlinewidth\":0,\"ticks\":\"\"},\"colorscale\":[[0.0,\"#0d0887\"],[0.1111111111111111,\"#46039f\"],[0.2222222222222222,\"#7201a8\"],[0.3333333333333333,\"#9c179e\"],[0.4444444444444444,\"#bd3786\"],[0.5555555555555556,\"#d8576b\"],[0.6666666666666666,\"#ed7953\"],[0.7777777777777778,\"#fb9f3a\"],[0.8888888888888888,\"#fdca26\"],[1.0,\"#f0f921\"]]}],\"choropleth\":[{\"type\":\"choropleth\",\"colorbar\":{\"outlinewidth\":0,\"ticks\":\"\"}}],\"histogram2d\":[{\"type\":\"histogram2d\",\"colorbar\":{\"outlinewidth\":0,\"ticks\":\"\"},\"colorscale\":[[0.0,\"#0d0887\"],[0.1111111111111111,\"#46039f\"],[0.2222222222222222,\"#7201a8\"],[0.3333333333333333,\"#9c179e\"],[0.4444444444444444,\"#bd3786\"],[0.5555555555555556,\"#d8576b\"],[0.6666666666666666,\"#ed7953\"],[0.7777777777777778,\"#fb9f3a\"],[0.8888888888888888,\"#fdca26\"],[1.0,\"#f0f921\"]]}],\"heatmap\":[{\"type\":\"heatmap\",\"colorbar\":{\"outlinewidth\":0,\"ticks\":\"\"},\"colorscale\":[[0.0,\"#0d0887\"],[0.1111111111111111,\"#46039f\"],[0.2222222222222222,\"#7201a8\"],[0.3333333333333333,\"#9c179e\"],[0.4444444444444444,\"#bd3786\"],[0.5555555555555556,\"#d8576b\"],[0.6666666666666666,\"#ed7953\"],[0.7777777777777778,\"#fb9f3a\"],[0.8888888888888888,\"#fdca26\"],[1.0,\"#f0f921\"]]}],\"heatmapgl\":[{\"type\":\"heatmapgl\",\"colorbar\":{\"outlinewidth\":0,\"ticks\":\"\"},\"colorscale\":[[0.0,\"#0d0887\"],[0.1111111111111111,\"#46039f\"],[0.2222222222222222,\"#7201a8\"],[0.3333333333333333,\"#9c179e\"],[0.4444444444444444,\"#bd3786\"],[0.5555555555555556,\"#d8576b\"],[0.6666666666666666,\"#ed7953\"],[0.7777777777777778,\"#fb9f3a\"],[0.8888888888888888,\"#fdca26\"],[1.0,\"#f0f921\"]]}],\"contourcarpet\":[{\"type\":\"contourcarpet\",\"colorbar\":{\"outlinewidth\":0,\"ticks\":\"\"}}],\"contour\":[{\"type\":\"contour\",\"colorbar\":{\"outlinewidth\":0,\"ticks\":\"\"},\"colorscale\":[[0.0,\"#0d0887\"],[0.1111111111111111,\"#46039f\"],[0.2222222222222222,\"#7201a8\"],[0.3333333333333333,\"#9c179e\"],[0.4444444444444444,\"#bd3786\"],[0.5555555555555556,\"#d8576b\"],[0.6666666666666666,\"#ed7953\"],[0.7777777777777778,\"#fb9f3a\"],[0.8888888888888888,\"#fdca26\"],[1.0,\"#f0f921\"]]}],\"surface\":[{\"type\":\"surface\",\"colorbar\":{\"outlinewidth\":0,\"ticks\":\"\"},\"colorscale\":[[0.0,\"#0d0887\"],[0.1111111111111111,\"#46039f\"],[0.2222222222222222,\"#7201a8\"],[0.3333333333333333,\"#9c179e\"],[0.4444444444444444,\"#bd3786\"],[0.5555555555555556,\"#d8576b\"],[0.6666666666666666,\"#ed7953\"],[0.7777777777777778,\"#fb9f3a\"],[0.8888888888888888,\"#fdca26\"],[1.0,\"#f0f921\"]]}],\"mesh3d\":[{\"type\":\"mesh3d\",\"colorbar\":{\"outlinewidth\":0,\"ticks\":\"\"}}],\"scatter\":[{\"fillpattern\":{\"fillmode\":\"overlay\",\"size\":10,\"solidity\":0.2},\"type\":\"scatter\"}],\"parcoords\":[{\"type\":\"parcoords\",\"line\":{\"colorbar\":{\"outlinewidth\":0,\"ticks\":\"\"}}}],\"scatterpolargl\":[{\"type\":\"scatterpolargl\",\"marker\":{\"colorbar\":{\"outlinewidth\":0,\"ticks\":\"\"}}}],\"bar\":[{\"error_x\":{\"color\":\"#2a3f5f\"},\"error_y\":{\"color\":\"#2a3f5f\"},\"marker\":{\"line\":{\"color\":\"#E5ECF6\",\"width\":0.5},\"pattern\":{\"fillmode\":\"overlay\",\"size\":10,\"solidity\":0.2}},\"type\":\"bar\"}],\"scattergeo\":[{\"type\":\"scattergeo\",\"marker\":{\"colorbar\":{\"outlinewidth\":0,\"ticks\":\"\"}}}],\"scatterpolar\":[{\"type\":\"scatterpolar\",\"marker\":{\"colorbar\":{\"outlinewidth\":0,\"ticks\":\"\"}}}],\"histogram\":[{\"marker\":{\"pattern\":{\"fillmode\":\"overlay\",\"size\":10,\"solidity\":0.2}},\"type\":\"histogram\"}],\"scattergl\":[{\"type\":\"scattergl\",\"marker\":{\"colorbar\":{\"outlinewidth\":0,\"ticks\":\"\"}}}],\"scatter3d\":[{\"type\":\"scatter3d\",\"line\":{\"colorbar\":{\"outlinewidth\":0,\"ticks\":\"\"}},\"marker\":{\"colorbar\":{\"outlinewidth\":0,\"ticks\":\"\"}}}],\"scattermapbox\":[{\"type\":\"scattermapbox\",\"marker\":{\"colorbar\":{\"outlinewidth\":0,\"ticks\":\"\"}}}],\"scatterternary\":[{\"type\":\"scatterternary\",\"marker\":{\"colorbar\":{\"outlinewidth\":0,\"ticks\":\"\"}}}],\"scattercarpet\":[{\"type\":\"scattercarpet\",\"marker\":{\"colorbar\":{\"outlinewidth\":0,\"ticks\":\"\"}}}],\"carpet\":[{\"aaxis\":{\"endlinecolor\":\"#2a3f5f\",\"gridcolor\":\"white\",\"linecolor\":\"white\",\"minorgridcolor\":\"white\",\"startlinecolor\":\"#2a3f5f\"},\"baxis\":{\"endlinecolor\":\"#2a3f5f\",\"gridcolor\":\"white\",\"linecolor\":\"white\",\"minorgridcolor\":\"white\",\"startlinecolor\":\"#2a3f5f\"},\"type\":\"carpet\"}],\"table\":[{\"cells\":{\"fill\":{\"color\":\"#EBF0F8\"},\"line\":{\"color\":\"white\"}},\"header\":{\"fill\":{\"color\":\"#C8D4E3\"},\"line\":{\"color\":\"white\"}},\"type\":\"table\"}],\"barpolar\":[{\"marker\":{\"line\":{\"color\":\"#E5ECF6\",\"width\":0.5},\"pattern\":{\"fillmode\":\"overlay\",\"size\":10,\"solidity\":0.2}},\"type\":\"barpolar\"}],\"pie\":[{\"automargin\":true,\"type\":\"pie\"}]},\"layout\":{\"autotypenumbers\":\"strict\",\"colorway\":[\"#636efa\",\"#EF553B\",\"#00cc96\",\"#ab63fa\",\"#FFA15A\",\"#19d3f3\",\"#FF6692\",\"#B6E880\",\"#FF97FF\",\"#FECB52\"],\"font\":{\"color\":\"#2a3f5f\"},\"hovermode\":\"closest\",\"hoverlabel\":{\"align\":\"left\"},\"paper_bgcolor\":\"white\",\"plot_bgcolor\":\"#E5ECF6\",\"polar\":{\"bgcolor\":\"#E5ECF6\",\"angularaxis\":{\"gridcolor\":\"white\",\"linecolor\":\"white\",\"ticks\":\"\"},\"radialaxis\":{\"gridcolor\":\"white\",\"linecolor\":\"white\",\"ticks\":\"\"}},\"ternary\":{\"bgcolor\":\"#E5ECF6\",\"aaxis\":{\"gridcolor\":\"white\",\"linecolor\":\"white\",\"ticks\":\"\"},\"baxis\":{\"gridcolor\":\"white\",\"linecolor\":\"white\",\"ticks\":\"\"},\"caxis\":{\"gridcolor\":\"white\",\"linecolor\":\"white\",\"ticks\":\"\"}},\"coloraxis\":{\"colorbar\":{\"outlinewidth\":0,\"ticks\":\"\"}},\"colorscale\":{\"sequential\":[[0.0,\"#0d0887\"],[0.1111111111111111,\"#46039f\"],[0.2222222222222222,\"#7201a8\"],[0.3333333333333333,\"#9c179e\"],[0.4444444444444444,\"#bd3786\"],[0.5555555555555556,\"#d8576b\"],[0.6666666666666666,\"#ed7953\"],[0.7777777777777778,\"#fb9f3a\"],[0.8888888888888888,\"#fdca26\"],[1.0,\"#f0f921\"]],\"sequentialminus\":[[0.0,\"#0d0887\"],[0.1111111111111111,\"#46039f\"],[0.2222222222222222,\"#7201a8\"],[0.3333333333333333,\"#9c179e\"],[0.4444444444444444,\"#bd3786\"],[0.5555555555555556,\"#d8576b\"],[0.6666666666666666,\"#ed7953\"],[0.7777777777777778,\"#fb9f3a\"],[0.8888888888888888,\"#fdca26\"],[1.0,\"#f0f921\"]],\"diverging\":[[0,\"#8e0152\"],[0.1,\"#c51b7d\"],[0.2,\"#de77ae\"],[0.3,\"#f1b6da\"],[0.4,\"#fde0ef\"],[0.5,\"#f7f7f7\"],[0.6,\"#e6f5d0\"],[0.7,\"#b8e186\"],[0.8,\"#7fbc41\"],[0.9,\"#4d9221\"],[1,\"#276419\"]]},\"xaxis\":{\"gridcolor\":\"white\",\"linecolor\":\"white\",\"ticks\":\"\",\"title\":{\"standoff\":15},\"zerolinecolor\":\"white\",\"automargin\":true,\"zerolinewidth\":2},\"yaxis\":{\"gridcolor\":\"white\",\"linecolor\":\"white\",\"ticks\":\"\",\"title\":{\"standoff\":15},\"zerolinecolor\":\"white\",\"automargin\":true,\"zerolinewidth\":2},\"scene\":{\"xaxis\":{\"backgroundcolor\":\"#E5ECF6\",\"gridcolor\":\"white\",\"linecolor\":\"white\",\"showbackground\":true,\"ticks\":\"\",\"zerolinecolor\":\"white\",\"gridwidth\":2},\"yaxis\":{\"backgroundcolor\":\"#E5ECF6\",\"gridcolor\":\"white\",\"linecolor\":\"white\",\"showbackground\":true,\"ticks\":\"\",\"zerolinecolor\":\"white\",\"gridwidth\":2},\"zaxis\":{\"backgroundcolor\":\"#E5ECF6\",\"gridcolor\":\"white\",\"linecolor\":\"white\",\"showbackground\":true,\"ticks\":\"\",\"zerolinecolor\":\"white\",\"gridwidth\":2}},\"shapedefaults\":{\"line\":{\"color\":\"#2a3f5f\"}},\"annotationdefaults\":{\"arrowcolor\":\"#2a3f5f\",\"arrowhead\":0,\"arrowwidth\":1},\"geo\":{\"bgcolor\":\"white\",\"landcolor\":\"#E5ECF6\",\"subunitcolor\":\"white\",\"showland\":true,\"showlakes\":true,\"lakecolor\":\"white\"},\"title\":{\"x\":0.05},\"mapbox\":{\"style\":\"light\"}}},\"xaxis\":{\"anchor\":\"y\",\"domain\":[0.0,1.0],\"title\":{\"text\":\"month_on_book\"}},\"yaxis\":{\"anchor\":\"x\",\"domain\":[0.0,1.0],\"title\":{\"text\":\"porcentajes\"}},\"legend\":{\"title\":{\"text\":\"months\"},\"tracegroupgap\":0},\"margin\":{\"t\":60}},                        {\"responsive\": true}                    ).then(function(){\n",
       "                            \n",
       "var gd = document.getElementById('63976672-d5a3-4dca-8ce1-932eb8737a3f');\n",
       "var x = new MutationObserver(function (mutations, observer) {{\n",
       "        var display = window.getComputedStyle(gd).display;\n",
       "        if (!display || display === 'none') {{\n",
       "            console.log([gd, 'removed!']);\n",
       "            Plotly.purge(gd);\n",
       "            observer.disconnect();\n",
       "        }}\n",
       "}});\n",
       "\n",
       "// Listen for the removal of the full notebook cells\n",
       "var notebookContainer = gd.closest('#notebook-container');\n",
       "if (notebookContainer) {{\n",
       "    x.observe(notebookContainer, {childList: true});\n",
       "}}\n",
       "\n",
       "// Listen for the clearing of the current output cell\n",
       "var outputEl = gd.closest('.output');\n",
       "if (outputEl) {{\n",
       "    x.observe(outputEl, {childList: true});\n",
       "}}\n",
       "\n",
       "                        })                };                });            </script>        </div>"
      ]
     },
     "metadata": {},
     "output_type": "display_data"
    }
   ],
   "source": [
    "df_long = combined_df.melt(id_vars='month_on_book',\n",
    "                           var_name='months',\n",
    "                           value_name='porcentajes')\n",
    "fig = px.line(df_long,\n",
    "              x='month_on_book',\n",
    "              y='porcentajes',\n",
    "              color='months',\n",
    "              markers=True)\n",
    "fig.show()"
   ]
  },
  {
   "cell_type": "markdown",
   "id": "c0cb7aa0",
   "metadata": {},
   "source": [
    "Se puede ver lo siguiente:\n",
    "* Considerar un mora 30 o más, significa sobreestimar un riesgo que sucede muy habitualmente. Se considera entonces que esto es un evento no tan crítico. Por supuesto, el que algo sea \"crítico\" o no tiene que ir muy de acorde a los fines de la entidad interesada. Para fines pŕacticos, se considerará que no.\n",
    "\n",
    "Haciendo un zoom en las curvas medias, dejando fuera a la de 30 días o más.:\n",
    "* Hay una mayor probabilidad de observar un evento de 60 días de mora o más en todos los meses activos de la cuenta. De hecho, esta probabilidad se dispara a partir del segundo mes activo.\n",
    "* La tasa de aparición de morosos crece mucho más lentamente en las moras que no son de 60 días o más."
   ]
  },
  {
   "cell_type": "markdown",
   "id": "acd10774",
   "metadata": {},
   "source": [
    "Siendo así, es razonable darle prioridad a un evento cuya probabilidad aumenta de manera más acelarada como lo es __60 días o más de mora__."
   ]
  },
  {
   "cell_type": "markdown",
   "id": "f150832e",
   "metadata": {},
   "source": [
    "# 5. CONSTRUCCIÓN DE LA VARIABLE OBJETIVO."
   ]
  },
  {
   "cell_type": "markdown",
   "id": "4e32c1cb",
   "metadata": {},
   "source": [
    "La etiqueta, desde luego, hará referencia a aquellos clientes que:\n",
    "1. Tuvieron un atraso de 60 o más días. \n",
    "2. Tienen tamaño de ventana mayor o igual a 12 (__FILTRO_1__).\n",
    "3. Que pertenezcan a cohortes cuyo porcentaje acumulado máximo de morosos sea mayor a 1% (__FILTRO_2__)."
   ]
  },
  {
   "cell_type": "markdown",
   "id": "6ac5197e",
   "metadata": {},
   "source": [
    "# 5.1 Pequeña exploración de la data de aplicaciones."
   ]
  },
  {
   "cell_type": "markdown",
   "id": "d5a3bd9e",
   "metadata": {},
   "source": [
    "Se observa lo siguiente."
   ]
  },
  {
   "cell_type": "code",
   "execution_count": 30,
   "id": "87763849",
   "metadata": {},
   "outputs": [
    {
     "data": {
      "text/plain": [
       "(438557, 18)"
      ]
     },
     "execution_count": 30,
     "metadata": {},
     "output_type": "execute_result"
    }
   ],
   "source": [
    "df_application.shape"
   ]
  },
  {
   "cell_type": "code",
   "execution_count": 31,
   "id": "32f35074",
   "metadata": {},
   "outputs": [
    {
     "data": {
      "text/html": [
       "<div>\n",
       "<style scoped>\n",
       "    .dataframe tbody tr th:only-of-type {\n",
       "        vertical-align: middle;\n",
       "    }\n",
       "\n",
       "    .dataframe tbody tr th {\n",
       "        vertical-align: top;\n",
       "    }\n",
       "\n",
       "    .dataframe thead th {\n",
       "        text-align: right;\n",
       "    }\n",
       "</style>\n",
       "<table border=\"1\" class=\"dataframe\">\n",
       "  <thead>\n",
       "    <tr style=\"text-align: right;\">\n",
       "      <th></th>\n",
       "      <th>ID</th>\n",
       "      <th>count</th>\n",
       "    </tr>\n",
       "  </thead>\n",
       "  <tbody>\n",
       "    <tr>\n",
       "      <th>0</th>\n",
       "      <td>7137299</td>\n",
       "      <td>2</td>\n",
       "    </tr>\n",
       "    <tr>\n",
       "      <th>1</th>\n",
       "      <td>7702238</td>\n",
       "      <td>2</td>\n",
       "    </tr>\n",
       "    <tr>\n",
       "      <th>2</th>\n",
       "      <td>7282535</td>\n",
       "      <td>2</td>\n",
       "    </tr>\n",
       "    <tr>\n",
       "      <th>3</th>\n",
       "      <td>7243768</td>\n",
       "      <td>2</td>\n",
       "    </tr>\n",
       "    <tr>\n",
       "      <th>4</th>\n",
       "      <td>7050948</td>\n",
       "      <td>2</td>\n",
       "    </tr>\n",
       "    <tr>\n",
       "      <th>...</th>\n",
       "      <td>...</td>\n",
       "      <td>...</td>\n",
       "    </tr>\n",
       "    <tr>\n",
       "      <th>438505</th>\n",
       "      <td>5690727</td>\n",
       "      <td>1</td>\n",
       "    </tr>\n",
       "    <tr>\n",
       "      <th>438506</th>\n",
       "      <td>6621262</td>\n",
       "      <td>1</td>\n",
       "    </tr>\n",
       "    <tr>\n",
       "      <th>438507</th>\n",
       "      <td>6621261</td>\n",
       "      <td>1</td>\n",
       "    </tr>\n",
       "    <tr>\n",
       "      <th>438508</th>\n",
       "      <td>6621260</td>\n",
       "      <td>1</td>\n",
       "    </tr>\n",
       "    <tr>\n",
       "      <th>438509</th>\n",
       "      <td>6842885</td>\n",
       "      <td>1</td>\n",
       "    </tr>\n",
       "  </tbody>\n",
       "</table>\n",
       "<p>438510 rows × 2 columns</p>\n",
       "</div>"
      ],
      "text/plain": [
       "             ID  count\n",
       "0       7137299      2\n",
       "1       7702238      2\n",
       "2       7282535      2\n",
       "3       7243768      2\n",
       "4       7050948      2\n",
       "...         ...    ...\n",
       "438505  5690727      1\n",
       "438506  6621262      1\n",
       "438507  6621261      1\n",
       "438508  6621260      1\n",
       "438509  6842885      1\n",
       "\n",
       "[438510 rows x 2 columns]"
      ]
     },
     "execution_count": 31,
     "metadata": {},
     "output_type": "execute_result"
    }
   ],
   "source": [
    "count_ids = df_application['ID'].value_counts().to_frame().reset_index()\n",
    "count_ids.columns = ['ID', 'count']\n",
    "count_ids"
   ]
  },
  {
   "cell_type": "code",
   "execution_count": 32,
   "id": "672c979d",
   "metadata": {},
   "outputs": [
    {
     "data": {
      "text/plain": [
       "(47, 2)"
      ]
     },
     "execution_count": 32,
     "metadata": {},
     "output_type": "execute_result"
    }
   ],
   "source": [
    "count_ids[count_ids['count'] >= 2].shape"
   ]
  },
  {
   "cell_type": "markdown",
   "id": "45ee221c",
   "metadata": {},
   "source": [
    "Existen 47 casos de repeticion de `ID`'s.Se necesita revisar por qué sucede esto. Por ende, estos `ID`'s no se considerarán en la versión final de la data de aplicaciones."
   ]
  },
  {
   "cell_type": "code",
   "execution_count": 33,
   "id": "d461121b",
   "metadata": {},
   "outputs": [
    {
     "data": {
      "text/plain": [
       "(438463, 18)"
      ]
     },
     "execution_count": 33,
     "metadata": {},
     "output_type": "execute_result"
    }
   ],
   "source": [
    "unconsidered_ids = count_ids[count_ids['count'] >= 2]['ID']\n",
    "df_application = df_application[-df_application['ID'].isin(unconsidered_ids)]\n",
    "df_application.shape"
   ]
  },
  {
   "cell_type": "markdown",
   "id": "e4c04732",
   "metadata": {},
   "source": [
    "# 5.2 Aplicación de Filtros."
   ]
  },
  {
   "cell_type": "markdown",
   "id": "1be83b58",
   "metadata": {},
   "source": [
    "Se obtiene el Análsis de Cohortes así como la ID's de malos clientes que caen en ellos."
   ]
  },
  {
   "cell_type": "code",
   "execution_count": 34,
   "id": "b5701f40",
   "metadata": {},
   "outputs": [],
   "source": [
    "df_vintage, due_ids_in_cohorts = get_vintage_analysis(n=n,\n",
    "                                                      df_credit_extend=df_credit_extend,\n",
    "                                                      chosen_bucket=bucket_2)"
   ]
  },
  {
   "cell_type": "markdown",
   "id": "251c4ee3",
   "metadata": {},
   "source": [
    "Se localizan a los morosos en cada cohorte considerado:"
   ]
  },
  {
   "cell_type": "code",
   "execution_count": 35,
   "id": "839f11e3",
   "metadata": {},
   "outputs": [],
   "source": [
    "bad_ids_set = set(chain(*due_ids_in_cohorts))\n",
    "bad_ids = list(bad_ids_set)"
   ]
  },
  {
   "cell_type": "markdown",
   "id": "1e09e425",
   "metadata": {},
   "source": [
    "Se localizan los cohortes que cumplen el __FILTRO_2__."
   ]
  },
  {
   "cell_type": "code",
   "execution_count": 36,
   "id": "c6399dcc",
   "metadata": {},
   "outputs": [],
   "source": [
    "df_vintage_pivot = df_vintage.pivot(index='opening_month',\n",
    "                                    columns='month_on_book',\n",
    "                                    values='due_rate').reset_index()\n",
    "df_vintage_pivot['True_umbral'] = df_vintage_pivot.apply(lambda row: any(val >= 1 for val in row[1:]),\n",
    "                                                         axis=1)\n",
    "cohortes_True_list = list(df_vintage_pivot[df_vintage_pivot['True_umbral']==True]['opening_month'])"
   ]
  },
  {
   "cell_type": "markdown",
   "id": "cb3e3951",
   "metadata": {},
   "source": [
    "Se aplican los __FILTRO 1__ y __FILTRO_2__ a la data crediticia."
   ]
  },
  {
   "cell_type": "code",
   "execution_count": 37,
   "id": "22ce0dc4",
   "metadata": {},
   "outputs": [],
   "source": [
    "df_credit_extend_trunc = df_credit_extend[(df_credit_extend['window'] >= n) \n",
    "                                          & (df_credit_extend['opening_month'].isin(cohortes_True_list))]"
   ]
  },
  {
   "cell_type": "markdown",
   "id": "0d47eca7",
   "metadata": {},
   "source": [
    "Se localizan el total de ids involucrados y se obtiene la data de aplicación final."
   ]
  },
  {
   "cell_type": "code",
   "execution_count": 38,
   "id": "67c98a07",
   "metadata": {},
   "outputs": [],
   "source": [
    "total_ids = list(df_credit_extend_trunc['ID'].unique())\n",
    "df_application_final = df_application[df_application['ID'].isin(total_ids)]\n",
    "df_application_final['STATUS'] = 0"
   ]
  },
  {
   "cell_type": "markdown",
   "id": "7cbcf922",
   "metadata": {},
   "source": [
    "Se agrega la etiquete `STATUS` a la data de aplicación. El valor 1 quiere decir un \"MAL\" cliente y el valor 0 es un \"BUEN\" cliente."
   ]
  },
  {
   "cell_type": "code",
   "execution_count": 39,
   "id": "298630ff",
   "metadata": {},
   "outputs": [],
   "source": [
    "bad_aplicants_index_list = (df_application_final['ID'].isin(bad_ids))\n",
    "df_application_final.loc[bad_aplicants_index_list, 'STATUS'] = 1"
   ]
  },
  {
   "cell_type": "code",
   "execution_count": 40,
   "id": "8f16de23",
   "metadata": {},
   "outputs": [],
   "source": [
    "df_application_final.reset_index(drop=True, inplace=True)"
   ]
  },
  {
   "cell_type": "markdown",
   "id": "f24b021f",
   "metadata": {},
   "source": [
    "# 5.3 Configuración de la variable objetivo."
   ]
  },
  {
   "cell_type": "markdown",
   "id": "710a7535",
   "metadata": {},
   "source": [
    "La variable objetivo tiene la siguiente configuración."
   ]
  },
  {
   "cell_type": "code",
   "execution_count": 41,
   "id": "b4ac2644",
   "metadata": {},
   "outputs": [
    {
     "data": {
      "text/html": [
       "<div>\n",
       "<style scoped>\n",
       "    .dataframe tbody tr th:only-of-type {\n",
       "        vertical-align: middle;\n",
       "    }\n",
       "\n",
       "    .dataframe tbody tr th {\n",
       "        vertical-align: top;\n",
       "    }\n",
       "\n",
       "    .dataframe thead th {\n",
       "        text-align: right;\n",
       "    }\n",
       "</style>\n",
       "<table border=\"1\" class=\"dataframe\">\n",
       "  <thead>\n",
       "    <tr style=\"text-align: right;\">\n",
       "      <th></th>\n",
       "      <th>STATUS</th>\n",
       "      <th>count</th>\n",
       "    </tr>\n",
       "  </thead>\n",
       "  <tbody>\n",
       "    <tr>\n",
       "      <th>0</th>\n",
       "      <td>0</td>\n",
       "      <td>19313</td>\n",
       "    </tr>\n",
       "    <tr>\n",
       "      <th>1</th>\n",
       "      <td>1</td>\n",
       "      <td>499</td>\n",
       "    </tr>\n",
       "  </tbody>\n",
       "</table>\n",
       "</div>"
      ],
      "text/plain": [
       "   STATUS  count\n",
       "0       0  19313\n",
       "1       1    499"
      ]
     },
     "execution_count": 41,
     "metadata": {},
     "output_type": "execute_result"
    }
   ],
   "source": [
    "count_objected = df_application_final['STATUS'].value_counts().to_frame().reset_index()\n",
    "count_objected.columns = ['STATUS', 'count']\n",
    "count_objected"
   ]
  },
  {
   "cell_type": "code",
   "execution_count": 42,
   "id": "88b6fc1b",
   "metadata": {},
   "outputs": [
    {
     "data": {
      "application/vnd.plotly.v1+json": {
       "config": {
        "plotlyServerURL": "https://plot.ly"
       },
       "data": [
        {
         "domain": {
          "x": [
           0,
           1
          ],
          "y": [
           0,
           1
          ]
         },
         "hovertemplate": "STATUS=%{label}<br>count=%{value}<extra></extra>",
         "labels": [
          0,
          1
         ],
         "legendgroup": "",
         "name": "",
         "showlegend": true,
         "type": "pie",
         "values": [
          19313,
          499
         ]
        }
       ],
       "layout": {
        "legend": {
         "tracegroupgap": 0
        },
        "template": {
         "data": {
          "bar": [
           {
            "error_x": {
             "color": "#2a3f5f"
            },
            "error_y": {
             "color": "#2a3f5f"
            },
            "marker": {
             "line": {
              "color": "#E5ECF6",
              "width": 0.5
             },
             "pattern": {
              "fillmode": "overlay",
              "size": 10,
              "solidity": 0.2
             }
            },
            "type": "bar"
           }
          ],
          "barpolar": [
           {
            "marker": {
             "line": {
              "color": "#E5ECF6",
              "width": 0.5
             },
             "pattern": {
              "fillmode": "overlay",
              "size": 10,
              "solidity": 0.2
             }
            },
            "type": "barpolar"
           }
          ],
          "carpet": [
           {
            "aaxis": {
             "endlinecolor": "#2a3f5f",
             "gridcolor": "white",
             "linecolor": "white",
             "minorgridcolor": "white",
             "startlinecolor": "#2a3f5f"
            },
            "baxis": {
             "endlinecolor": "#2a3f5f",
             "gridcolor": "white",
             "linecolor": "white",
             "minorgridcolor": "white",
             "startlinecolor": "#2a3f5f"
            },
            "type": "carpet"
           }
          ],
          "choropleth": [
           {
            "colorbar": {
             "outlinewidth": 0,
             "ticks": ""
            },
            "type": "choropleth"
           }
          ],
          "contour": [
           {
            "colorbar": {
             "outlinewidth": 0,
             "ticks": ""
            },
            "colorscale": [
             [
              0,
              "#0d0887"
             ],
             [
              0.1111111111111111,
              "#46039f"
             ],
             [
              0.2222222222222222,
              "#7201a8"
             ],
             [
              0.3333333333333333,
              "#9c179e"
             ],
             [
              0.4444444444444444,
              "#bd3786"
             ],
             [
              0.5555555555555556,
              "#d8576b"
             ],
             [
              0.6666666666666666,
              "#ed7953"
             ],
             [
              0.7777777777777778,
              "#fb9f3a"
             ],
             [
              0.8888888888888888,
              "#fdca26"
             ],
             [
              1,
              "#f0f921"
             ]
            ],
            "type": "contour"
           }
          ],
          "contourcarpet": [
           {
            "colorbar": {
             "outlinewidth": 0,
             "ticks": ""
            },
            "type": "contourcarpet"
           }
          ],
          "heatmap": [
           {
            "colorbar": {
             "outlinewidth": 0,
             "ticks": ""
            },
            "colorscale": [
             [
              0,
              "#0d0887"
             ],
             [
              0.1111111111111111,
              "#46039f"
             ],
             [
              0.2222222222222222,
              "#7201a8"
             ],
             [
              0.3333333333333333,
              "#9c179e"
             ],
             [
              0.4444444444444444,
              "#bd3786"
             ],
             [
              0.5555555555555556,
              "#d8576b"
             ],
             [
              0.6666666666666666,
              "#ed7953"
             ],
             [
              0.7777777777777778,
              "#fb9f3a"
             ],
             [
              0.8888888888888888,
              "#fdca26"
             ],
             [
              1,
              "#f0f921"
             ]
            ],
            "type": "heatmap"
           }
          ],
          "heatmapgl": [
           {
            "colorbar": {
             "outlinewidth": 0,
             "ticks": ""
            },
            "colorscale": [
             [
              0,
              "#0d0887"
             ],
             [
              0.1111111111111111,
              "#46039f"
             ],
             [
              0.2222222222222222,
              "#7201a8"
             ],
             [
              0.3333333333333333,
              "#9c179e"
             ],
             [
              0.4444444444444444,
              "#bd3786"
             ],
             [
              0.5555555555555556,
              "#d8576b"
             ],
             [
              0.6666666666666666,
              "#ed7953"
             ],
             [
              0.7777777777777778,
              "#fb9f3a"
             ],
             [
              0.8888888888888888,
              "#fdca26"
             ],
             [
              1,
              "#f0f921"
             ]
            ],
            "type": "heatmapgl"
           }
          ],
          "histogram": [
           {
            "marker": {
             "pattern": {
              "fillmode": "overlay",
              "size": 10,
              "solidity": 0.2
             }
            },
            "type": "histogram"
           }
          ],
          "histogram2d": [
           {
            "colorbar": {
             "outlinewidth": 0,
             "ticks": ""
            },
            "colorscale": [
             [
              0,
              "#0d0887"
             ],
             [
              0.1111111111111111,
              "#46039f"
             ],
             [
              0.2222222222222222,
              "#7201a8"
             ],
             [
              0.3333333333333333,
              "#9c179e"
             ],
             [
              0.4444444444444444,
              "#bd3786"
             ],
             [
              0.5555555555555556,
              "#d8576b"
             ],
             [
              0.6666666666666666,
              "#ed7953"
             ],
             [
              0.7777777777777778,
              "#fb9f3a"
             ],
             [
              0.8888888888888888,
              "#fdca26"
             ],
             [
              1,
              "#f0f921"
             ]
            ],
            "type": "histogram2d"
           }
          ],
          "histogram2dcontour": [
           {
            "colorbar": {
             "outlinewidth": 0,
             "ticks": ""
            },
            "colorscale": [
             [
              0,
              "#0d0887"
             ],
             [
              0.1111111111111111,
              "#46039f"
             ],
             [
              0.2222222222222222,
              "#7201a8"
             ],
             [
              0.3333333333333333,
              "#9c179e"
             ],
             [
              0.4444444444444444,
              "#bd3786"
             ],
             [
              0.5555555555555556,
              "#d8576b"
             ],
             [
              0.6666666666666666,
              "#ed7953"
             ],
             [
              0.7777777777777778,
              "#fb9f3a"
             ],
             [
              0.8888888888888888,
              "#fdca26"
             ],
             [
              1,
              "#f0f921"
             ]
            ],
            "type": "histogram2dcontour"
           }
          ],
          "mesh3d": [
           {
            "colorbar": {
             "outlinewidth": 0,
             "ticks": ""
            },
            "type": "mesh3d"
           }
          ],
          "parcoords": [
           {
            "line": {
             "colorbar": {
              "outlinewidth": 0,
              "ticks": ""
             }
            },
            "type": "parcoords"
           }
          ],
          "pie": [
           {
            "automargin": true,
            "type": "pie"
           }
          ],
          "scatter": [
           {
            "fillpattern": {
             "fillmode": "overlay",
             "size": 10,
             "solidity": 0.2
            },
            "type": "scatter"
           }
          ],
          "scatter3d": [
           {
            "line": {
             "colorbar": {
              "outlinewidth": 0,
              "ticks": ""
             }
            },
            "marker": {
             "colorbar": {
              "outlinewidth": 0,
              "ticks": ""
             }
            },
            "type": "scatter3d"
           }
          ],
          "scattercarpet": [
           {
            "marker": {
             "colorbar": {
              "outlinewidth": 0,
              "ticks": ""
             }
            },
            "type": "scattercarpet"
           }
          ],
          "scattergeo": [
           {
            "marker": {
             "colorbar": {
              "outlinewidth": 0,
              "ticks": ""
             }
            },
            "type": "scattergeo"
           }
          ],
          "scattergl": [
           {
            "marker": {
             "colorbar": {
              "outlinewidth": 0,
              "ticks": ""
             }
            },
            "type": "scattergl"
           }
          ],
          "scattermapbox": [
           {
            "marker": {
             "colorbar": {
              "outlinewidth": 0,
              "ticks": ""
             }
            },
            "type": "scattermapbox"
           }
          ],
          "scatterpolar": [
           {
            "marker": {
             "colorbar": {
              "outlinewidth": 0,
              "ticks": ""
             }
            },
            "type": "scatterpolar"
           }
          ],
          "scatterpolargl": [
           {
            "marker": {
             "colorbar": {
              "outlinewidth": 0,
              "ticks": ""
             }
            },
            "type": "scatterpolargl"
           }
          ],
          "scatterternary": [
           {
            "marker": {
             "colorbar": {
              "outlinewidth": 0,
              "ticks": ""
             }
            },
            "type": "scatterternary"
           }
          ],
          "surface": [
           {
            "colorbar": {
             "outlinewidth": 0,
             "ticks": ""
            },
            "colorscale": [
             [
              0,
              "#0d0887"
             ],
             [
              0.1111111111111111,
              "#46039f"
             ],
             [
              0.2222222222222222,
              "#7201a8"
             ],
             [
              0.3333333333333333,
              "#9c179e"
             ],
             [
              0.4444444444444444,
              "#bd3786"
             ],
             [
              0.5555555555555556,
              "#d8576b"
             ],
             [
              0.6666666666666666,
              "#ed7953"
             ],
             [
              0.7777777777777778,
              "#fb9f3a"
             ],
             [
              0.8888888888888888,
              "#fdca26"
             ],
             [
              1,
              "#f0f921"
             ]
            ],
            "type": "surface"
           }
          ],
          "table": [
           {
            "cells": {
             "fill": {
              "color": "#EBF0F8"
             },
             "line": {
              "color": "white"
             }
            },
            "header": {
             "fill": {
              "color": "#C8D4E3"
             },
             "line": {
              "color": "white"
             }
            },
            "type": "table"
           }
          ]
         },
         "layout": {
          "annotationdefaults": {
           "arrowcolor": "#2a3f5f",
           "arrowhead": 0,
           "arrowwidth": 1
          },
          "autotypenumbers": "strict",
          "coloraxis": {
           "colorbar": {
            "outlinewidth": 0,
            "ticks": ""
           }
          },
          "colorscale": {
           "diverging": [
            [
             0,
             "#8e0152"
            ],
            [
             0.1,
             "#c51b7d"
            ],
            [
             0.2,
             "#de77ae"
            ],
            [
             0.3,
             "#f1b6da"
            ],
            [
             0.4,
             "#fde0ef"
            ],
            [
             0.5,
             "#f7f7f7"
            ],
            [
             0.6,
             "#e6f5d0"
            ],
            [
             0.7,
             "#b8e186"
            ],
            [
             0.8,
             "#7fbc41"
            ],
            [
             0.9,
             "#4d9221"
            ],
            [
             1,
             "#276419"
            ]
           ],
           "sequential": [
            [
             0,
             "#0d0887"
            ],
            [
             0.1111111111111111,
             "#46039f"
            ],
            [
             0.2222222222222222,
             "#7201a8"
            ],
            [
             0.3333333333333333,
             "#9c179e"
            ],
            [
             0.4444444444444444,
             "#bd3786"
            ],
            [
             0.5555555555555556,
             "#d8576b"
            ],
            [
             0.6666666666666666,
             "#ed7953"
            ],
            [
             0.7777777777777778,
             "#fb9f3a"
            ],
            [
             0.8888888888888888,
             "#fdca26"
            ],
            [
             1,
             "#f0f921"
            ]
           ],
           "sequentialminus": [
            [
             0,
             "#0d0887"
            ],
            [
             0.1111111111111111,
             "#46039f"
            ],
            [
             0.2222222222222222,
             "#7201a8"
            ],
            [
             0.3333333333333333,
             "#9c179e"
            ],
            [
             0.4444444444444444,
             "#bd3786"
            ],
            [
             0.5555555555555556,
             "#d8576b"
            ],
            [
             0.6666666666666666,
             "#ed7953"
            ],
            [
             0.7777777777777778,
             "#fb9f3a"
            ],
            [
             0.8888888888888888,
             "#fdca26"
            ],
            [
             1,
             "#f0f921"
            ]
           ]
          },
          "colorway": [
           "#636efa",
           "#EF553B",
           "#00cc96",
           "#ab63fa",
           "#FFA15A",
           "#19d3f3",
           "#FF6692",
           "#B6E880",
           "#FF97FF",
           "#FECB52"
          ],
          "font": {
           "color": "#2a3f5f"
          },
          "geo": {
           "bgcolor": "white",
           "lakecolor": "white",
           "landcolor": "#E5ECF6",
           "showlakes": true,
           "showland": true,
           "subunitcolor": "white"
          },
          "hoverlabel": {
           "align": "left"
          },
          "hovermode": "closest",
          "mapbox": {
           "style": "light"
          },
          "paper_bgcolor": "white",
          "plot_bgcolor": "#E5ECF6",
          "polar": {
           "angularaxis": {
            "gridcolor": "white",
            "linecolor": "white",
            "ticks": ""
           },
           "bgcolor": "#E5ECF6",
           "radialaxis": {
            "gridcolor": "white",
            "linecolor": "white",
            "ticks": ""
           }
          },
          "scene": {
           "xaxis": {
            "backgroundcolor": "#E5ECF6",
            "gridcolor": "white",
            "gridwidth": 2,
            "linecolor": "white",
            "showbackground": true,
            "ticks": "",
            "zerolinecolor": "white"
           },
           "yaxis": {
            "backgroundcolor": "#E5ECF6",
            "gridcolor": "white",
            "gridwidth": 2,
            "linecolor": "white",
            "showbackground": true,
            "ticks": "",
            "zerolinecolor": "white"
           },
           "zaxis": {
            "backgroundcolor": "#E5ECF6",
            "gridcolor": "white",
            "gridwidth": 2,
            "linecolor": "white",
            "showbackground": true,
            "ticks": "",
            "zerolinecolor": "white"
           }
          },
          "shapedefaults": {
           "line": {
            "color": "#2a3f5f"
           }
          },
          "ternary": {
           "aaxis": {
            "gridcolor": "white",
            "linecolor": "white",
            "ticks": ""
           },
           "baxis": {
            "gridcolor": "white",
            "linecolor": "white",
            "ticks": ""
           },
           "bgcolor": "#E5ECF6",
           "caxis": {
            "gridcolor": "white",
            "linecolor": "white",
            "ticks": ""
           }
          },
          "title": {
           "x": 0.05
          },
          "xaxis": {
           "automargin": true,
           "gridcolor": "white",
           "linecolor": "white",
           "ticks": "",
           "title": {
            "standoff": 15
           },
           "zerolinecolor": "white",
           "zerolinewidth": 2
          },
          "yaxis": {
           "automargin": true,
           "gridcolor": "white",
           "linecolor": "white",
           "ticks": "",
           "title": {
            "standoff": 15
           },
           "zerolinecolor": "white",
           "zerolinewidth": 2
          }
         }
        },
        "title": {
         "text": "MALO o BUENO"
        }
       }
      },
      "text/html": [
       "<div>                            <div id=\"0dd32bd8-cc13-4846-923e-315348565731\" class=\"plotly-graph-div\" style=\"height:525px; width:100%;\"></div>            <script type=\"text/javascript\">                require([\"plotly\"], function(Plotly) {                    window.PLOTLYENV=window.PLOTLYENV || {};                                    if (document.getElementById(\"0dd32bd8-cc13-4846-923e-315348565731\")) {                    Plotly.newPlot(                        \"0dd32bd8-cc13-4846-923e-315348565731\",                        [{\"domain\":{\"x\":[0.0,1.0],\"y\":[0.0,1.0]},\"hovertemplate\":\"STATUS=%{label}<br>count=%{value}<extra></extra>\",\"labels\":[0,1],\"legendgroup\":\"\",\"name\":\"\",\"showlegend\":true,\"values\":[19313,499],\"type\":\"pie\"}],                        {\"template\":{\"data\":{\"histogram2dcontour\":[{\"type\":\"histogram2dcontour\",\"colorbar\":{\"outlinewidth\":0,\"ticks\":\"\"},\"colorscale\":[[0.0,\"#0d0887\"],[0.1111111111111111,\"#46039f\"],[0.2222222222222222,\"#7201a8\"],[0.3333333333333333,\"#9c179e\"],[0.4444444444444444,\"#bd3786\"],[0.5555555555555556,\"#d8576b\"],[0.6666666666666666,\"#ed7953\"],[0.7777777777777778,\"#fb9f3a\"],[0.8888888888888888,\"#fdca26\"],[1.0,\"#f0f921\"]]}],\"choropleth\":[{\"type\":\"choropleth\",\"colorbar\":{\"outlinewidth\":0,\"ticks\":\"\"}}],\"histogram2d\":[{\"type\":\"histogram2d\",\"colorbar\":{\"outlinewidth\":0,\"ticks\":\"\"},\"colorscale\":[[0.0,\"#0d0887\"],[0.1111111111111111,\"#46039f\"],[0.2222222222222222,\"#7201a8\"],[0.3333333333333333,\"#9c179e\"],[0.4444444444444444,\"#bd3786\"],[0.5555555555555556,\"#d8576b\"],[0.6666666666666666,\"#ed7953\"],[0.7777777777777778,\"#fb9f3a\"],[0.8888888888888888,\"#fdca26\"],[1.0,\"#f0f921\"]]}],\"heatmap\":[{\"type\":\"heatmap\",\"colorbar\":{\"outlinewidth\":0,\"ticks\":\"\"},\"colorscale\":[[0.0,\"#0d0887\"],[0.1111111111111111,\"#46039f\"],[0.2222222222222222,\"#7201a8\"],[0.3333333333333333,\"#9c179e\"],[0.4444444444444444,\"#bd3786\"],[0.5555555555555556,\"#d8576b\"],[0.6666666666666666,\"#ed7953\"],[0.7777777777777778,\"#fb9f3a\"],[0.8888888888888888,\"#fdca26\"],[1.0,\"#f0f921\"]]}],\"heatmapgl\":[{\"type\":\"heatmapgl\",\"colorbar\":{\"outlinewidth\":0,\"ticks\":\"\"},\"colorscale\":[[0.0,\"#0d0887\"],[0.1111111111111111,\"#46039f\"],[0.2222222222222222,\"#7201a8\"],[0.3333333333333333,\"#9c179e\"],[0.4444444444444444,\"#bd3786\"],[0.5555555555555556,\"#d8576b\"],[0.6666666666666666,\"#ed7953\"],[0.7777777777777778,\"#fb9f3a\"],[0.8888888888888888,\"#fdca26\"],[1.0,\"#f0f921\"]]}],\"contourcarpet\":[{\"type\":\"contourcarpet\",\"colorbar\":{\"outlinewidth\":0,\"ticks\":\"\"}}],\"contour\":[{\"type\":\"contour\",\"colorbar\":{\"outlinewidth\":0,\"ticks\":\"\"},\"colorscale\":[[0.0,\"#0d0887\"],[0.1111111111111111,\"#46039f\"],[0.2222222222222222,\"#7201a8\"],[0.3333333333333333,\"#9c179e\"],[0.4444444444444444,\"#bd3786\"],[0.5555555555555556,\"#d8576b\"],[0.6666666666666666,\"#ed7953\"],[0.7777777777777778,\"#fb9f3a\"],[0.8888888888888888,\"#fdca26\"],[1.0,\"#f0f921\"]]}],\"surface\":[{\"type\":\"surface\",\"colorbar\":{\"outlinewidth\":0,\"ticks\":\"\"},\"colorscale\":[[0.0,\"#0d0887\"],[0.1111111111111111,\"#46039f\"],[0.2222222222222222,\"#7201a8\"],[0.3333333333333333,\"#9c179e\"],[0.4444444444444444,\"#bd3786\"],[0.5555555555555556,\"#d8576b\"],[0.6666666666666666,\"#ed7953\"],[0.7777777777777778,\"#fb9f3a\"],[0.8888888888888888,\"#fdca26\"],[1.0,\"#f0f921\"]]}],\"mesh3d\":[{\"type\":\"mesh3d\",\"colorbar\":{\"outlinewidth\":0,\"ticks\":\"\"}}],\"scatter\":[{\"fillpattern\":{\"fillmode\":\"overlay\",\"size\":10,\"solidity\":0.2},\"type\":\"scatter\"}],\"parcoords\":[{\"type\":\"parcoords\",\"line\":{\"colorbar\":{\"outlinewidth\":0,\"ticks\":\"\"}}}],\"scatterpolargl\":[{\"type\":\"scatterpolargl\",\"marker\":{\"colorbar\":{\"outlinewidth\":0,\"ticks\":\"\"}}}],\"bar\":[{\"error_x\":{\"color\":\"#2a3f5f\"},\"error_y\":{\"color\":\"#2a3f5f\"},\"marker\":{\"line\":{\"color\":\"#E5ECF6\",\"width\":0.5},\"pattern\":{\"fillmode\":\"overlay\",\"size\":10,\"solidity\":0.2}},\"type\":\"bar\"}],\"scattergeo\":[{\"type\":\"scattergeo\",\"marker\":{\"colorbar\":{\"outlinewidth\":0,\"ticks\":\"\"}}}],\"scatterpolar\":[{\"type\":\"scatterpolar\",\"marker\":{\"colorbar\":{\"outlinewidth\":0,\"ticks\":\"\"}}}],\"histogram\":[{\"marker\":{\"pattern\":{\"fillmode\":\"overlay\",\"size\":10,\"solidity\":0.2}},\"type\":\"histogram\"}],\"scattergl\":[{\"type\":\"scattergl\",\"marker\":{\"colorbar\":{\"outlinewidth\":0,\"ticks\":\"\"}}}],\"scatter3d\":[{\"type\":\"scatter3d\",\"line\":{\"colorbar\":{\"outlinewidth\":0,\"ticks\":\"\"}},\"marker\":{\"colorbar\":{\"outlinewidth\":0,\"ticks\":\"\"}}}],\"scattermapbox\":[{\"type\":\"scattermapbox\",\"marker\":{\"colorbar\":{\"outlinewidth\":0,\"ticks\":\"\"}}}],\"scatterternary\":[{\"type\":\"scatterternary\",\"marker\":{\"colorbar\":{\"outlinewidth\":0,\"ticks\":\"\"}}}],\"scattercarpet\":[{\"type\":\"scattercarpet\",\"marker\":{\"colorbar\":{\"outlinewidth\":0,\"ticks\":\"\"}}}],\"carpet\":[{\"aaxis\":{\"endlinecolor\":\"#2a3f5f\",\"gridcolor\":\"white\",\"linecolor\":\"white\",\"minorgridcolor\":\"white\",\"startlinecolor\":\"#2a3f5f\"},\"baxis\":{\"endlinecolor\":\"#2a3f5f\",\"gridcolor\":\"white\",\"linecolor\":\"white\",\"minorgridcolor\":\"white\",\"startlinecolor\":\"#2a3f5f\"},\"type\":\"carpet\"}],\"table\":[{\"cells\":{\"fill\":{\"color\":\"#EBF0F8\"},\"line\":{\"color\":\"white\"}},\"header\":{\"fill\":{\"color\":\"#C8D4E3\"},\"line\":{\"color\":\"white\"}},\"type\":\"table\"}],\"barpolar\":[{\"marker\":{\"line\":{\"color\":\"#E5ECF6\",\"width\":0.5},\"pattern\":{\"fillmode\":\"overlay\",\"size\":10,\"solidity\":0.2}},\"type\":\"barpolar\"}],\"pie\":[{\"automargin\":true,\"type\":\"pie\"}]},\"layout\":{\"autotypenumbers\":\"strict\",\"colorway\":[\"#636efa\",\"#EF553B\",\"#00cc96\",\"#ab63fa\",\"#FFA15A\",\"#19d3f3\",\"#FF6692\",\"#B6E880\",\"#FF97FF\",\"#FECB52\"],\"font\":{\"color\":\"#2a3f5f\"},\"hovermode\":\"closest\",\"hoverlabel\":{\"align\":\"left\"},\"paper_bgcolor\":\"white\",\"plot_bgcolor\":\"#E5ECF6\",\"polar\":{\"bgcolor\":\"#E5ECF6\",\"angularaxis\":{\"gridcolor\":\"white\",\"linecolor\":\"white\",\"ticks\":\"\"},\"radialaxis\":{\"gridcolor\":\"white\",\"linecolor\":\"white\",\"ticks\":\"\"}},\"ternary\":{\"bgcolor\":\"#E5ECF6\",\"aaxis\":{\"gridcolor\":\"white\",\"linecolor\":\"white\",\"ticks\":\"\"},\"baxis\":{\"gridcolor\":\"white\",\"linecolor\":\"white\",\"ticks\":\"\"},\"caxis\":{\"gridcolor\":\"white\",\"linecolor\":\"white\",\"ticks\":\"\"}},\"coloraxis\":{\"colorbar\":{\"outlinewidth\":0,\"ticks\":\"\"}},\"colorscale\":{\"sequential\":[[0.0,\"#0d0887\"],[0.1111111111111111,\"#46039f\"],[0.2222222222222222,\"#7201a8\"],[0.3333333333333333,\"#9c179e\"],[0.4444444444444444,\"#bd3786\"],[0.5555555555555556,\"#d8576b\"],[0.6666666666666666,\"#ed7953\"],[0.7777777777777778,\"#fb9f3a\"],[0.8888888888888888,\"#fdca26\"],[1.0,\"#f0f921\"]],\"sequentialminus\":[[0.0,\"#0d0887\"],[0.1111111111111111,\"#46039f\"],[0.2222222222222222,\"#7201a8\"],[0.3333333333333333,\"#9c179e\"],[0.4444444444444444,\"#bd3786\"],[0.5555555555555556,\"#d8576b\"],[0.6666666666666666,\"#ed7953\"],[0.7777777777777778,\"#fb9f3a\"],[0.8888888888888888,\"#fdca26\"],[1.0,\"#f0f921\"]],\"diverging\":[[0,\"#8e0152\"],[0.1,\"#c51b7d\"],[0.2,\"#de77ae\"],[0.3,\"#f1b6da\"],[0.4,\"#fde0ef\"],[0.5,\"#f7f7f7\"],[0.6,\"#e6f5d0\"],[0.7,\"#b8e186\"],[0.8,\"#7fbc41\"],[0.9,\"#4d9221\"],[1,\"#276419\"]]},\"xaxis\":{\"gridcolor\":\"white\",\"linecolor\":\"white\",\"ticks\":\"\",\"title\":{\"standoff\":15},\"zerolinecolor\":\"white\",\"automargin\":true,\"zerolinewidth\":2},\"yaxis\":{\"gridcolor\":\"white\",\"linecolor\":\"white\",\"ticks\":\"\",\"title\":{\"standoff\":15},\"zerolinecolor\":\"white\",\"automargin\":true,\"zerolinewidth\":2},\"scene\":{\"xaxis\":{\"backgroundcolor\":\"#E5ECF6\",\"gridcolor\":\"white\",\"linecolor\":\"white\",\"showbackground\":true,\"ticks\":\"\",\"zerolinecolor\":\"white\",\"gridwidth\":2},\"yaxis\":{\"backgroundcolor\":\"#E5ECF6\",\"gridcolor\":\"white\",\"linecolor\":\"white\",\"showbackground\":true,\"ticks\":\"\",\"zerolinecolor\":\"white\",\"gridwidth\":2},\"zaxis\":{\"backgroundcolor\":\"#E5ECF6\",\"gridcolor\":\"white\",\"linecolor\":\"white\",\"showbackground\":true,\"ticks\":\"\",\"zerolinecolor\":\"white\",\"gridwidth\":2}},\"shapedefaults\":{\"line\":{\"color\":\"#2a3f5f\"}},\"annotationdefaults\":{\"arrowcolor\":\"#2a3f5f\",\"arrowhead\":0,\"arrowwidth\":1},\"geo\":{\"bgcolor\":\"white\",\"landcolor\":\"#E5ECF6\",\"subunitcolor\":\"white\",\"showland\":true,\"showlakes\":true,\"lakecolor\":\"white\"},\"title\":{\"x\":0.05},\"mapbox\":{\"style\":\"light\"}}},\"legend\":{\"tracegroupgap\":0},\"title\":{\"text\":\"MALO o BUENO\"}},                        {\"responsive\": true}                    ).then(function(){\n",
       "                            \n",
       "var gd = document.getElementById('0dd32bd8-cc13-4846-923e-315348565731');\n",
       "var x = new MutationObserver(function (mutations, observer) {{\n",
       "        var display = window.getComputedStyle(gd).display;\n",
       "        if (!display || display === 'none') {{\n",
       "            console.log([gd, 'removed!']);\n",
       "            Plotly.purge(gd);\n",
       "            observer.disconnect();\n",
       "        }}\n",
       "}});\n",
       "\n",
       "// Listen for the removal of the full notebook cells\n",
       "var notebookContainer = gd.closest('#notebook-container');\n",
       "if (notebookContainer) {{\n",
       "    x.observe(notebookContainer, {childList: true});\n",
       "}}\n",
       "\n",
       "// Listen for the clearing of the current output cell\n",
       "var outputEl = gd.closest('.output');\n",
       "if (outputEl) {{\n",
       "    x.observe(outputEl, {childList: true});\n",
       "}}\n",
       "\n",
       "                        })                };                });            </script>        </div>"
      ]
     },
     "metadata": {},
     "output_type": "display_data"
    }
   ],
   "source": [
    "fig = px.pie(count_objected,\n",
    "             values='count',\n",
    "             names='STATUS',\n",
    "             title='MALO o BUENO')\n",
    "fig.show()"
   ]
  },
  {
   "cell_type": "markdown",
   "id": "a23d2e2c",
   "metadata": {},
   "source": [
    "Hay un desbalanceo importante entre las clases."
   ]
  },
  {
   "cell_type": "markdown",
   "id": "f76a53f1",
   "metadata": {},
   "source": [
    "# 5.4 Versión alternativa de la data de aplicaciones."
   ]
  },
  {
   "cell_type": "markdown",
   "id": "4cfe4cb4",
   "metadata": {},
   "source": [
    "Para fines prácticos, se dará un mayor realce de la clase minoritaria haciendo un submuestreo arbitrario de la clase mayoritaria. Esto se hará de tal manera que la clase minoritaria ahora represente el 10% de la data total."
   ]
  },
  {
   "cell_type": "code",
   "execution_count": 43,
   "id": "afc3dd2f",
   "metadata": {},
   "outputs": [
    {
     "data": {
      "text/plain": [
       "4491.0"
      ]
     },
     "execution_count": 43,
     "metadata": {},
     "output_type": "execute_result"
    }
   ],
   "source": [
    "(499 * 90) / 10"
   ]
  },
  {
   "cell_type": "code",
   "execution_count": 44,
   "id": "ef3686c3",
   "metadata": {},
   "outputs": [],
   "source": [
    "STATUS_1 = df_application_final.loc[df_application_final['STATUS']==1,:]\n",
    "STATUS_0 = df_application_final.loc[df_application_final['STATUS']==0,:]\n",
    "STATUS_0_new = STATUS_0.sample(n=4491) \n",
    "frames = [STATUS_1, STATUS_0_new]\n",
    "df_application_final_new = pd.concat(frames)\n",
    "df_application_final_new.reset_index(drop=True, inplace=True)"
   ]
  },
  {
   "cell_type": "code",
   "execution_count": 45,
   "id": "11d9a515",
   "metadata": {},
   "outputs": [
    {
     "data": {
      "text/html": [
       "<div>\n",
       "<style scoped>\n",
       "    .dataframe tbody tr th:only-of-type {\n",
       "        vertical-align: middle;\n",
       "    }\n",
       "\n",
       "    .dataframe tbody tr th {\n",
       "        vertical-align: top;\n",
       "    }\n",
       "\n",
       "    .dataframe thead th {\n",
       "        text-align: right;\n",
       "    }\n",
       "</style>\n",
       "<table border=\"1\" class=\"dataframe\">\n",
       "  <thead>\n",
       "    <tr style=\"text-align: right;\">\n",
       "      <th></th>\n",
       "      <th>ID</th>\n",
       "      <th>CODE_GENDER</th>\n",
       "      <th>FLAG_OWN_CAR</th>\n",
       "      <th>FLAG_OWN_REALTY</th>\n",
       "      <th>CNT_CHILDREN</th>\n",
       "      <th>AMT_INCOME_TOTAL</th>\n",
       "      <th>NAME_INCOME_TYPE</th>\n",
       "      <th>NAME_EDUCATION_TYPE</th>\n",
       "      <th>NAME_FAMILY_STATUS</th>\n",
       "      <th>NAME_HOUSING_TYPE</th>\n",
       "      <th>DAYS_BIRTH</th>\n",
       "      <th>DAYS_EMPLOYED</th>\n",
       "      <th>FLAG_MOBIL</th>\n",
       "      <th>FLAG_WORK_PHONE</th>\n",
       "      <th>FLAG_PHONE</th>\n",
       "      <th>FLAG_EMAIL</th>\n",
       "      <th>OCCUPATION_TYPE</th>\n",
       "      <th>CNT_FAM_MEMBERS</th>\n",
       "      <th>STATUS</th>\n",
       "    </tr>\n",
       "  </thead>\n",
       "  <tbody>\n",
       "    <tr>\n",
       "      <th>0</th>\n",
       "      <td>5009628</td>\n",
       "      <td>F</td>\n",
       "      <td>N</td>\n",
       "      <td>N</td>\n",
       "      <td>0</td>\n",
       "      <td>238500.0</td>\n",
       "      <td>Working</td>\n",
       "      <td>Secondary / secondary special</td>\n",
       "      <td>Married</td>\n",
       "      <td>House / apartment</td>\n",
       "      <td>-19305</td>\n",
       "      <td>-3296</td>\n",
       "      <td>1</td>\n",
       "      <td>1</td>\n",
       "      <td>0</td>\n",
       "      <td>0</td>\n",
       "      <td>Laborers</td>\n",
       "      <td>2.0</td>\n",
       "      <td>1</td>\n",
       "    </tr>\n",
       "    <tr>\n",
       "      <th>1</th>\n",
       "      <td>5009746</td>\n",
       "      <td>F</td>\n",
       "      <td>Y</td>\n",
       "      <td>N</td>\n",
       "      <td>0</td>\n",
       "      <td>315000.0</td>\n",
       "      <td>Commercial associate</td>\n",
       "      <td>Higher education</td>\n",
       "      <td>Married</td>\n",
       "      <td>House / apartment</td>\n",
       "      <td>-13557</td>\n",
       "      <td>-586</td>\n",
       "      <td>1</td>\n",
       "      <td>1</td>\n",
       "      <td>1</td>\n",
       "      <td>0</td>\n",
       "      <td>NaN</td>\n",
       "      <td>2.0</td>\n",
       "      <td>1</td>\n",
       "    </tr>\n",
       "    <tr>\n",
       "      <th>2</th>\n",
       "      <td>5009938</td>\n",
       "      <td>F</td>\n",
       "      <td>N</td>\n",
       "      <td>Y</td>\n",
       "      <td>2</td>\n",
       "      <td>157500.0</td>\n",
       "      <td>Working</td>\n",
       "      <td>Secondary / secondary special</td>\n",
       "      <td>Married</td>\n",
       "      <td>House / apartment</td>\n",
       "      <td>-10710</td>\n",
       "      <td>-2351</td>\n",
       "      <td>1</td>\n",
       "      <td>0</td>\n",
       "      <td>0</td>\n",
       "      <td>0</td>\n",
       "      <td>Sales staff</td>\n",
       "      <td>4.0</td>\n",
       "      <td>1</td>\n",
       "    </tr>\n",
       "    <tr>\n",
       "      <th>3</th>\n",
       "      <td>5010061</td>\n",
       "      <td>F</td>\n",
       "      <td>N</td>\n",
       "      <td>Y</td>\n",
       "      <td>0</td>\n",
       "      <td>112500.0</td>\n",
       "      <td>Working</td>\n",
       "      <td>Secondary / secondary special</td>\n",
       "      <td>Married</td>\n",
       "      <td>House / apartment</td>\n",
       "      <td>-16573</td>\n",
       "      <td>-4574</td>\n",
       "      <td>1</td>\n",
       "      <td>0</td>\n",
       "      <td>0</td>\n",
       "      <td>0</td>\n",
       "      <td>NaN</td>\n",
       "      <td>2.0</td>\n",
       "      <td>1</td>\n",
       "    </tr>\n",
       "    <tr>\n",
       "      <th>4</th>\n",
       "      <td>5010535</td>\n",
       "      <td>F</td>\n",
       "      <td>Y</td>\n",
       "      <td>N</td>\n",
       "      <td>2</td>\n",
       "      <td>135000.0</td>\n",
       "      <td>Working</td>\n",
       "      <td>Secondary / secondary special</td>\n",
       "      <td>Married</td>\n",
       "      <td>House / apartment</td>\n",
       "      <td>-13928</td>\n",
       "      <td>-3052</td>\n",
       "      <td>1</td>\n",
       "      <td>0</td>\n",
       "      <td>0</td>\n",
       "      <td>0</td>\n",
       "      <td>Laborers</td>\n",
       "      <td>4.0</td>\n",
       "      <td>1</td>\n",
       "    </tr>\n",
       "    <tr>\n",
       "      <th>...</th>\n",
       "      <td>...</td>\n",
       "      <td>...</td>\n",
       "      <td>...</td>\n",
       "      <td>...</td>\n",
       "      <td>...</td>\n",
       "      <td>...</td>\n",
       "      <td>...</td>\n",
       "      <td>...</td>\n",
       "      <td>...</td>\n",
       "      <td>...</td>\n",
       "      <td>...</td>\n",
       "      <td>...</td>\n",
       "      <td>...</td>\n",
       "      <td>...</td>\n",
       "      <td>...</td>\n",
       "      <td>...</td>\n",
       "      <td>...</td>\n",
       "      <td>...</td>\n",
       "      <td>...</td>\n",
       "    </tr>\n",
       "    <tr>\n",
       "      <th>4985</th>\n",
       "      <td>5052619</td>\n",
       "      <td>M</td>\n",
       "      <td>Y</td>\n",
       "      <td>Y</td>\n",
       "      <td>0</td>\n",
       "      <td>180000.0</td>\n",
       "      <td>Working</td>\n",
       "      <td>Secondary / secondary special</td>\n",
       "      <td>Single / not married</td>\n",
       "      <td>House / apartment</td>\n",
       "      <td>-18475</td>\n",
       "      <td>-1782</td>\n",
       "      <td>1</td>\n",
       "      <td>0</td>\n",
       "      <td>0</td>\n",
       "      <td>0</td>\n",
       "      <td>Cleaning staff</td>\n",
       "      <td>1.0</td>\n",
       "      <td>0</td>\n",
       "    </tr>\n",
       "    <tr>\n",
       "      <th>4986</th>\n",
       "      <td>5053239</td>\n",
       "      <td>M</td>\n",
       "      <td>Y</td>\n",
       "      <td>Y</td>\n",
       "      <td>2</td>\n",
       "      <td>270000.0</td>\n",
       "      <td>Working</td>\n",
       "      <td>Secondary / secondary special</td>\n",
       "      <td>Civil marriage</td>\n",
       "      <td>House / apartment</td>\n",
       "      <td>-14477</td>\n",
       "      <td>-293</td>\n",
       "      <td>1</td>\n",
       "      <td>1</td>\n",
       "      <td>1</td>\n",
       "      <td>0</td>\n",
       "      <td>Drivers</td>\n",
       "      <td>4.0</td>\n",
       "      <td>0</td>\n",
       "    </tr>\n",
       "    <tr>\n",
       "      <th>4987</th>\n",
       "      <td>5024773</td>\n",
       "      <td>F</td>\n",
       "      <td>Y</td>\n",
       "      <td>Y</td>\n",
       "      <td>0</td>\n",
       "      <td>202500.0</td>\n",
       "      <td>Working</td>\n",
       "      <td>Secondary / secondary special</td>\n",
       "      <td>Single / not married</td>\n",
       "      <td>House / apartment</td>\n",
       "      <td>-8568</td>\n",
       "      <td>-1068</td>\n",
       "      <td>1</td>\n",
       "      <td>0</td>\n",
       "      <td>0</td>\n",
       "      <td>0</td>\n",
       "      <td>Sales staff</td>\n",
       "      <td>1.0</td>\n",
       "      <td>0</td>\n",
       "    </tr>\n",
       "    <tr>\n",
       "      <th>4988</th>\n",
       "      <td>5085963</td>\n",
       "      <td>F</td>\n",
       "      <td>N</td>\n",
       "      <td>Y</td>\n",
       "      <td>0</td>\n",
       "      <td>180000.0</td>\n",
       "      <td>Working</td>\n",
       "      <td>Secondary / secondary special</td>\n",
       "      <td>Single / not married</td>\n",
       "      <td>House / apartment</td>\n",
       "      <td>-18913</td>\n",
       "      <td>-807</td>\n",
       "      <td>1</td>\n",
       "      <td>0</td>\n",
       "      <td>0</td>\n",
       "      <td>0</td>\n",
       "      <td>Laborers</td>\n",
       "      <td>1.0</td>\n",
       "      <td>0</td>\n",
       "    </tr>\n",
       "    <tr>\n",
       "      <th>4989</th>\n",
       "      <td>5105782</td>\n",
       "      <td>F</td>\n",
       "      <td>Y</td>\n",
       "      <td>N</td>\n",
       "      <td>1</td>\n",
       "      <td>171000.0</td>\n",
       "      <td>Commercial associate</td>\n",
       "      <td>Higher education</td>\n",
       "      <td>Married</td>\n",
       "      <td>House / apartment</td>\n",
       "      <td>-11082</td>\n",
       "      <td>-1976</td>\n",
       "      <td>1</td>\n",
       "      <td>1</td>\n",
       "      <td>0</td>\n",
       "      <td>0</td>\n",
       "      <td>Accountants</td>\n",
       "      <td>3.0</td>\n",
       "      <td>0</td>\n",
       "    </tr>\n",
       "  </tbody>\n",
       "</table>\n",
       "<p>4990 rows × 19 columns</p>\n",
       "</div>"
      ],
      "text/plain": [
       "           ID CODE_GENDER FLAG_OWN_CAR FLAG_OWN_REALTY  CNT_CHILDREN  \\\n",
       "0     5009628           F            N               N             0   \n",
       "1     5009746           F            Y               N             0   \n",
       "2     5009938           F            N               Y             2   \n",
       "3     5010061           F            N               Y             0   \n",
       "4     5010535           F            Y               N             2   \n",
       "...       ...         ...          ...             ...           ...   \n",
       "4985  5052619           M            Y               Y             0   \n",
       "4986  5053239           M            Y               Y             2   \n",
       "4987  5024773           F            Y               Y             0   \n",
       "4988  5085963           F            N               Y             0   \n",
       "4989  5105782           F            Y               N             1   \n",
       "\n",
       "      AMT_INCOME_TOTAL      NAME_INCOME_TYPE            NAME_EDUCATION_TYPE  \\\n",
       "0             238500.0               Working  Secondary / secondary special   \n",
       "1             315000.0  Commercial associate               Higher education   \n",
       "2             157500.0               Working  Secondary / secondary special   \n",
       "3             112500.0               Working  Secondary / secondary special   \n",
       "4             135000.0               Working  Secondary / secondary special   \n",
       "...                ...                   ...                            ...   \n",
       "4985          180000.0               Working  Secondary / secondary special   \n",
       "4986          270000.0               Working  Secondary / secondary special   \n",
       "4987          202500.0               Working  Secondary / secondary special   \n",
       "4988          180000.0               Working  Secondary / secondary special   \n",
       "4989          171000.0  Commercial associate               Higher education   \n",
       "\n",
       "        NAME_FAMILY_STATUS  NAME_HOUSING_TYPE  DAYS_BIRTH  DAYS_EMPLOYED  \\\n",
       "0                  Married  House / apartment      -19305          -3296   \n",
       "1                  Married  House / apartment      -13557           -586   \n",
       "2                  Married  House / apartment      -10710          -2351   \n",
       "3                  Married  House / apartment      -16573          -4574   \n",
       "4                  Married  House / apartment      -13928          -3052   \n",
       "...                    ...                ...         ...            ...   \n",
       "4985  Single / not married  House / apartment      -18475          -1782   \n",
       "4986        Civil marriage  House / apartment      -14477           -293   \n",
       "4987  Single / not married  House / apartment       -8568          -1068   \n",
       "4988  Single / not married  House / apartment      -18913           -807   \n",
       "4989               Married  House / apartment      -11082          -1976   \n",
       "\n",
       "      FLAG_MOBIL  FLAG_WORK_PHONE  FLAG_PHONE  FLAG_EMAIL OCCUPATION_TYPE  \\\n",
       "0              1                1           0           0        Laborers   \n",
       "1              1                1           1           0             NaN   \n",
       "2              1                0           0           0     Sales staff   \n",
       "3              1                0           0           0             NaN   \n",
       "4              1                0           0           0        Laborers   \n",
       "...          ...              ...         ...         ...             ...   \n",
       "4985           1                0           0           0  Cleaning staff   \n",
       "4986           1                1           1           0         Drivers   \n",
       "4987           1                0           0           0     Sales staff   \n",
       "4988           1                0           0           0        Laborers   \n",
       "4989           1                1           0           0     Accountants   \n",
       "\n",
       "      CNT_FAM_MEMBERS  STATUS  \n",
       "0                 2.0       1  \n",
       "1                 2.0       1  \n",
       "2                 4.0       1  \n",
       "3                 2.0       1  \n",
       "4                 4.0       1  \n",
       "...               ...     ...  \n",
       "4985              1.0       0  \n",
       "4986              4.0       0  \n",
       "4987              1.0       0  \n",
       "4988              1.0       0  \n",
       "4989              3.0       0  \n",
       "\n",
       "[4990 rows x 19 columns]"
      ]
     },
     "execution_count": 45,
     "metadata": {},
     "output_type": "execute_result"
    }
   ],
   "source": [
    "df_application_final_new"
   ]
  },
  {
   "cell_type": "code",
   "execution_count": 46,
   "id": "1f26e685",
   "metadata": {},
   "outputs": [
    {
     "data": {
      "application/vnd.plotly.v1+json": {
       "config": {
        "plotlyServerURL": "https://plot.ly"
       },
       "data": [
        {
         "domain": {
          "x": [
           0,
           1
          ],
          "y": [
           0,
           1
          ]
         },
         "hovertemplate": "STATUS=%{label}<br>count=%{value}<extra></extra>",
         "labels": [
          0,
          1
         ],
         "legendgroup": "",
         "name": "",
         "showlegend": true,
         "type": "pie",
         "values": [
          4491,
          499
         ]
        }
       ],
       "layout": {
        "legend": {
         "tracegroupgap": 0
        },
        "template": {
         "data": {
          "bar": [
           {
            "error_x": {
             "color": "#2a3f5f"
            },
            "error_y": {
             "color": "#2a3f5f"
            },
            "marker": {
             "line": {
              "color": "#E5ECF6",
              "width": 0.5
             },
             "pattern": {
              "fillmode": "overlay",
              "size": 10,
              "solidity": 0.2
             }
            },
            "type": "bar"
           }
          ],
          "barpolar": [
           {
            "marker": {
             "line": {
              "color": "#E5ECF6",
              "width": 0.5
             },
             "pattern": {
              "fillmode": "overlay",
              "size": 10,
              "solidity": 0.2
             }
            },
            "type": "barpolar"
           }
          ],
          "carpet": [
           {
            "aaxis": {
             "endlinecolor": "#2a3f5f",
             "gridcolor": "white",
             "linecolor": "white",
             "minorgridcolor": "white",
             "startlinecolor": "#2a3f5f"
            },
            "baxis": {
             "endlinecolor": "#2a3f5f",
             "gridcolor": "white",
             "linecolor": "white",
             "minorgridcolor": "white",
             "startlinecolor": "#2a3f5f"
            },
            "type": "carpet"
           }
          ],
          "choropleth": [
           {
            "colorbar": {
             "outlinewidth": 0,
             "ticks": ""
            },
            "type": "choropleth"
           }
          ],
          "contour": [
           {
            "colorbar": {
             "outlinewidth": 0,
             "ticks": ""
            },
            "colorscale": [
             [
              0,
              "#0d0887"
             ],
             [
              0.1111111111111111,
              "#46039f"
             ],
             [
              0.2222222222222222,
              "#7201a8"
             ],
             [
              0.3333333333333333,
              "#9c179e"
             ],
             [
              0.4444444444444444,
              "#bd3786"
             ],
             [
              0.5555555555555556,
              "#d8576b"
             ],
             [
              0.6666666666666666,
              "#ed7953"
             ],
             [
              0.7777777777777778,
              "#fb9f3a"
             ],
             [
              0.8888888888888888,
              "#fdca26"
             ],
             [
              1,
              "#f0f921"
             ]
            ],
            "type": "contour"
           }
          ],
          "contourcarpet": [
           {
            "colorbar": {
             "outlinewidth": 0,
             "ticks": ""
            },
            "type": "contourcarpet"
           }
          ],
          "heatmap": [
           {
            "colorbar": {
             "outlinewidth": 0,
             "ticks": ""
            },
            "colorscale": [
             [
              0,
              "#0d0887"
             ],
             [
              0.1111111111111111,
              "#46039f"
             ],
             [
              0.2222222222222222,
              "#7201a8"
             ],
             [
              0.3333333333333333,
              "#9c179e"
             ],
             [
              0.4444444444444444,
              "#bd3786"
             ],
             [
              0.5555555555555556,
              "#d8576b"
             ],
             [
              0.6666666666666666,
              "#ed7953"
             ],
             [
              0.7777777777777778,
              "#fb9f3a"
             ],
             [
              0.8888888888888888,
              "#fdca26"
             ],
             [
              1,
              "#f0f921"
             ]
            ],
            "type": "heatmap"
           }
          ],
          "heatmapgl": [
           {
            "colorbar": {
             "outlinewidth": 0,
             "ticks": ""
            },
            "colorscale": [
             [
              0,
              "#0d0887"
             ],
             [
              0.1111111111111111,
              "#46039f"
             ],
             [
              0.2222222222222222,
              "#7201a8"
             ],
             [
              0.3333333333333333,
              "#9c179e"
             ],
             [
              0.4444444444444444,
              "#bd3786"
             ],
             [
              0.5555555555555556,
              "#d8576b"
             ],
             [
              0.6666666666666666,
              "#ed7953"
             ],
             [
              0.7777777777777778,
              "#fb9f3a"
             ],
             [
              0.8888888888888888,
              "#fdca26"
             ],
             [
              1,
              "#f0f921"
             ]
            ],
            "type": "heatmapgl"
           }
          ],
          "histogram": [
           {
            "marker": {
             "pattern": {
              "fillmode": "overlay",
              "size": 10,
              "solidity": 0.2
             }
            },
            "type": "histogram"
           }
          ],
          "histogram2d": [
           {
            "colorbar": {
             "outlinewidth": 0,
             "ticks": ""
            },
            "colorscale": [
             [
              0,
              "#0d0887"
             ],
             [
              0.1111111111111111,
              "#46039f"
             ],
             [
              0.2222222222222222,
              "#7201a8"
             ],
             [
              0.3333333333333333,
              "#9c179e"
             ],
             [
              0.4444444444444444,
              "#bd3786"
             ],
             [
              0.5555555555555556,
              "#d8576b"
             ],
             [
              0.6666666666666666,
              "#ed7953"
             ],
             [
              0.7777777777777778,
              "#fb9f3a"
             ],
             [
              0.8888888888888888,
              "#fdca26"
             ],
             [
              1,
              "#f0f921"
             ]
            ],
            "type": "histogram2d"
           }
          ],
          "histogram2dcontour": [
           {
            "colorbar": {
             "outlinewidth": 0,
             "ticks": ""
            },
            "colorscale": [
             [
              0,
              "#0d0887"
             ],
             [
              0.1111111111111111,
              "#46039f"
             ],
             [
              0.2222222222222222,
              "#7201a8"
             ],
             [
              0.3333333333333333,
              "#9c179e"
             ],
             [
              0.4444444444444444,
              "#bd3786"
             ],
             [
              0.5555555555555556,
              "#d8576b"
             ],
             [
              0.6666666666666666,
              "#ed7953"
             ],
             [
              0.7777777777777778,
              "#fb9f3a"
             ],
             [
              0.8888888888888888,
              "#fdca26"
             ],
             [
              1,
              "#f0f921"
             ]
            ],
            "type": "histogram2dcontour"
           }
          ],
          "mesh3d": [
           {
            "colorbar": {
             "outlinewidth": 0,
             "ticks": ""
            },
            "type": "mesh3d"
           }
          ],
          "parcoords": [
           {
            "line": {
             "colorbar": {
              "outlinewidth": 0,
              "ticks": ""
             }
            },
            "type": "parcoords"
           }
          ],
          "pie": [
           {
            "automargin": true,
            "type": "pie"
           }
          ],
          "scatter": [
           {
            "fillpattern": {
             "fillmode": "overlay",
             "size": 10,
             "solidity": 0.2
            },
            "type": "scatter"
           }
          ],
          "scatter3d": [
           {
            "line": {
             "colorbar": {
              "outlinewidth": 0,
              "ticks": ""
             }
            },
            "marker": {
             "colorbar": {
              "outlinewidth": 0,
              "ticks": ""
             }
            },
            "type": "scatter3d"
           }
          ],
          "scattercarpet": [
           {
            "marker": {
             "colorbar": {
              "outlinewidth": 0,
              "ticks": ""
             }
            },
            "type": "scattercarpet"
           }
          ],
          "scattergeo": [
           {
            "marker": {
             "colorbar": {
              "outlinewidth": 0,
              "ticks": ""
             }
            },
            "type": "scattergeo"
           }
          ],
          "scattergl": [
           {
            "marker": {
             "colorbar": {
              "outlinewidth": 0,
              "ticks": ""
             }
            },
            "type": "scattergl"
           }
          ],
          "scattermapbox": [
           {
            "marker": {
             "colorbar": {
              "outlinewidth": 0,
              "ticks": ""
             }
            },
            "type": "scattermapbox"
           }
          ],
          "scatterpolar": [
           {
            "marker": {
             "colorbar": {
              "outlinewidth": 0,
              "ticks": ""
             }
            },
            "type": "scatterpolar"
           }
          ],
          "scatterpolargl": [
           {
            "marker": {
             "colorbar": {
              "outlinewidth": 0,
              "ticks": ""
             }
            },
            "type": "scatterpolargl"
           }
          ],
          "scatterternary": [
           {
            "marker": {
             "colorbar": {
              "outlinewidth": 0,
              "ticks": ""
             }
            },
            "type": "scatterternary"
           }
          ],
          "surface": [
           {
            "colorbar": {
             "outlinewidth": 0,
             "ticks": ""
            },
            "colorscale": [
             [
              0,
              "#0d0887"
             ],
             [
              0.1111111111111111,
              "#46039f"
             ],
             [
              0.2222222222222222,
              "#7201a8"
             ],
             [
              0.3333333333333333,
              "#9c179e"
             ],
             [
              0.4444444444444444,
              "#bd3786"
             ],
             [
              0.5555555555555556,
              "#d8576b"
             ],
             [
              0.6666666666666666,
              "#ed7953"
             ],
             [
              0.7777777777777778,
              "#fb9f3a"
             ],
             [
              0.8888888888888888,
              "#fdca26"
             ],
             [
              1,
              "#f0f921"
             ]
            ],
            "type": "surface"
           }
          ],
          "table": [
           {
            "cells": {
             "fill": {
              "color": "#EBF0F8"
             },
             "line": {
              "color": "white"
             }
            },
            "header": {
             "fill": {
              "color": "#C8D4E3"
             },
             "line": {
              "color": "white"
             }
            },
            "type": "table"
           }
          ]
         },
         "layout": {
          "annotationdefaults": {
           "arrowcolor": "#2a3f5f",
           "arrowhead": 0,
           "arrowwidth": 1
          },
          "autotypenumbers": "strict",
          "coloraxis": {
           "colorbar": {
            "outlinewidth": 0,
            "ticks": ""
           }
          },
          "colorscale": {
           "diverging": [
            [
             0,
             "#8e0152"
            ],
            [
             0.1,
             "#c51b7d"
            ],
            [
             0.2,
             "#de77ae"
            ],
            [
             0.3,
             "#f1b6da"
            ],
            [
             0.4,
             "#fde0ef"
            ],
            [
             0.5,
             "#f7f7f7"
            ],
            [
             0.6,
             "#e6f5d0"
            ],
            [
             0.7,
             "#b8e186"
            ],
            [
             0.8,
             "#7fbc41"
            ],
            [
             0.9,
             "#4d9221"
            ],
            [
             1,
             "#276419"
            ]
           ],
           "sequential": [
            [
             0,
             "#0d0887"
            ],
            [
             0.1111111111111111,
             "#46039f"
            ],
            [
             0.2222222222222222,
             "#7201a8"
            ],
            [
             0.3333333333333333,
             "#9c179e"
            ],
            [
             0.4444444444444444,
             "#bd3786"
            ],
            [
             0.5555555555555556,
             "#d8576b"
            ],
            [
             0.6666666666666666,
             "#ed7953"
            ],
            [
             0.7777777777777778,
             "#fb9f3a"
            ],
            [
             0.8888888888888888,
             "#fdca26"
            ],
            [
             1,
             "#f0f921"
            ]
           ],
           "sequentialminus": [
            [
             0,
             "#0d0887"
            ],
            [
             0.1111111111111111,
             "#46039f"
            ],
            [
             0.2222222222222222,
             "#7201a8"
            ],
            [
             0.3333333333333333,
             "#9c179e"
            ],
            [
             0.4444444444444444,
             "#bd3786"
            ],
            [
             0.5555555555555556,
             "#d8576b"
            ],
            [
             0.6666666666666666,
             "#ed7953"
            ],
            [
             0.7777777777777778,
             "#fb9f3a"
            ],
            [
             0.8888888888888888,
             "#fdca26"
            ],
            [
             1,
             "#f0f921"
            ]
           ]
          },
          "colorway": [
           "#636efa",
           "#EF553B",
           "#00cc96",
           "#ab63fa",
           "#FFA15A",
           "#19d3f3",
           "#FF6692",
           "#B6E880",
           "#FF97FF",
           "#FECB52"
          ],
          "font": {
           "color": "#2a3f5f"
          },
          "geo": {
           "bgcolor": "white",
           "lakecolor": "white",
           "landcolor": "#E5ECF6",
           "showlakes": true,
           "showland": true,
           "subunitcolor": "white"
          },
          "hoverlabel": {
           "align": "left"
          },
          "hovermode": "closest",
          "mapbox": {
           "style": "light"
          },
          "paper_bgcolor": "white",
          "plot_bgcolor": "#E5ECF6",
          "polar": {
           "angularaxis": {
            "gridcolor": "white",
            "linecolor": "white",
            "ticks": ""
           },
           "bgcolor": "#E5ECF6",
           "radialaxis": {
            "gridcolor": "white",
            "linecolor": "white",
            "ticks": ""
           }
          },
          "scene": {
           "xaxis": {
            "backgroundcolor": "#E5ECF6",
            "gridcolor": "white",
            "gridwidth": 2,
            "linecolor": "white",
            "showbackground": true,
            "ticks": "",
            "zerolinecolor": "white"
           },
           "yaxis": {
            "backgroundcolor": "#E5ECF6",
            "gridcolor": "white",
            "gridwidth": 2,
            "linecolor": "white",
            "showbackground": true,
            "ticks": "",
            "zerolinecolor": "white"
           },
           "zaxis": {
            "backgroundcolor": "#E5ECF6",
            "gridcolor": "white",
            "gridwidth": 2,
            "linecolor": "white",
            "showbackground": true,
            "ticks": "",
            "zerolinecolor": "white"
           }
          },
          "shapedefaults": {
           "line": {
            "color": "#2a3f5f"
           }
          },
          "ternary": {
           "aaxis": {
            "gridcolor": "white",
            "linecolor": "white",
            "ticks": ""
           },
           "baxis": {
            "gridcolor": "white",
            "linecolor": "white",
            "ticks": ""
           },
           "bgcolor": "#E5ECF6",
           "caxis": {
            "gridcolor": "white",
            "linecolor": "white",
            "ticks": ""
           }
          },
          "title": {
           "x": 0.05
          },
          "xaxis": {
           "automargin": true,
           "gridcolor": "white",
           "linecolor": "white",
           "ticks": "",
           "title": {
            "standoff": 15
           },
           "zerolinecolor": "white",
           "zerolinewidth": 2
          },
          "yaxis": {
           "automargin": true,
           "gridcolor": "white",
           "linecolor": "white",
           "ticks": "",
           "title": {
            "standoff": 15
           },
           "zerolinecolor": "white",
           "zerolinewidth": 2
          }
         }
        },
        "title": {
         "text": "MALO o BUENO"
        }
       }
      },
      "text/html": [
       "<div>                            <div id=\"d1d6d81f-d0f6-4f72-86be-ea1604317dff\" class=\"plotly-graph-div\" style=\"height:525px; width:100%;\"></div>            <script type=\"text/javascript\">                require([\"plotly\"], function(Plotly) {                    window.PLOTLYENV=window.PLOTLYENV || {};                                    if (document.getElementById(\"d1d6d81f-d0f6-4f72-86be-ea1604317dff\")) {                    Plotly.newPlot(                        \"d1d6d81f-d0f6-4f72-86be-ea1604317dff\",                        [{\"domain\":{\"x\":[0.0,1.0],\"y\":[0.0,1.0]},\"hovertemplate\":\"STATUS=%{label}<br>count=%{value}<extra></extra>\",\"labels\":[0,1],\"legendgroup\":\"\",\"name\":\"\",\"showlegend\":true,\"values\":[4491,499],\"type\":\"pie\"}],                        {\"template\":{\"data\":{\"histogram2dcontour\":[{\"type\":\"histogram2dcontour\",\"colorbar\":{\"outlinewidth\":0,\"ticks\":\"\"},\"colorscale\":[[0.0,\"#0d0887\"],[0.1111111111111111,\"#46039f\"],[0.2222222222222222,\"#7201a8\"],[0.3333333333333333,\"#9c179e\"],[0.4444444444444444,\"#bd3786\"],[0.5555555555555556,\"#d8576b\"],[0.6666666666666666,\"#ed7953\"],[0.7777777777777778,\"#fb9f3a\"],[0.8888888888888888,\"#fdca26\"],[1.0,\"#f0f921\"]]}],\"choropleth\":[{\"type\":\"choropleth\",\"colorbar\":{\"outlinewidth\":0,\"ticks\":\"\"}}],\"histogram2d\":[{\"type\":\"histogram2d\",\"colorbar\":{\"outlinewidth\":0,\"ticks\":\"\"},\"colorscale\":[[0.0,\"#0d0887\"],[0.1111111111111111,\"#46039f\"],[0.2222222222222222,\"#7201a8\"],[0.3333333333333333,\"#9c179e\"],[0.4444444444444444,\"#bd3786\"],[0.5555555555555556,\"#d8576b\"],[0.6666666666666666,\"#ed7953\"],[0.7777777777777778,\"#fb9f3a\"],[0.8888888888888888,\"#fdca26\"],[1.0,\"#f0f921\"]]}],\"heatmap\":[{\"type\":\"heatmap\",\"colorbar\":{\"outlinewidth\":0,\"ticks\":\"\"},\"colorscale\":[[0.0,\"#0d0887\"],[0.1111111111111111,\"#46039f\"],[0.2222222222222222,\"#7201a8\"],[0.3333333333333333,\"#9c179e\"],[0.4444444444444444,\"#bd3786\"],[0.5555555555555556,\"#d8576b\"],[0.6666666666666666,\"#ed7953\"],[0.7777777777777778,\"#fb9f3a\"],[0.8888888888888888,\"#fdca26\"],[1.0,\"#f0f921\"]]}],\"heatmapgl\":[{\"type\":\"heatmapgl\",\"colorbar\":{\"outlinewidth\":0,\"ticks\":\"\"},\"colorscale\":[[0.0,\"#0d0887\"],[0.1111111111111111,\"#46039f\"],[0.2222222222222222,\"#7201a8\"],[0.3333333333333333,\"#9c179e\"],[0.4444444444444444,\"#bd3786\"],[0.5555555555555556,\"#d8576b\"],[0.6666666666666666,\"#ed7953\"],[0.7777777777777778,\"#fb9f3a\"],[0.8888888888888888,\"#fdca26\"],[1.0,\"#f0f921\"]]}],\"contourcarpet\":[{\"type\":\"contourcarpet\",\"colorbar\":{\"outlinewidth\":0,\"ticks\":\"\"}}],\"contour\":[{\"type\":\"contour\",\"colorbar\":{\"outlinewidth\":0,\"ticks\":\"\"},\"colorscale\":[[0.0,\"#0d0887\"],[0.1111111111111111,\"#46039f\"],[0.2222222222222222,\"#7201a8\"],[0.3333333333333333,\"#9c179e\"],[0.4444444444444444,\"#bd3786\"],[0.5555555555555556,\"#d8576b\"],[0.6666666666666666,\"#ed7953\"],[0.7777777777777778,\"#fb9f3a\"],[0.8888888888888888,\"#fdca26\"],[1.0,\"#f0f921\"]]}],\"surface\":[{\"type\":\"surface\",\"colorbar\":{\"outlinewidth\":0,\"ticks\":\"\"},\"colorscale\":[[0.0,\"#0d0887\"],[0.1111111111111111,\"#46039f\"],[0.2222222222222222,\"#7201a8\"],[0.3333333333333333,\"#9c179e\"],[0.4444444444444444,\"#bd3786\"],[0.5555555555555556,\"#d8576b\"],[0.6666666666666666,\"#ed7953\"],[0.7777777777777778,\"#fb9f3a\"],[0.8888888888888888,\"#fdca26\"],[1.0,\"#f0f921\"]]}],\"mesh3d\":[{\"type\":\"mesh3d\",\"colorbar\":{\"outlinewidth\":0,\"ticks\":\"\"}}],\"scatter\":[{\"fillpattern\":{\"fillmode\":\"overlay\",\"size\":10,\"solidity\":0.2},\"type\":\"scatter\"}],\"parcoords\":[{\"type\":\"parcoords\",\"line\":{\"colorbar\":{\"outlinewidth\":0,\"ticks\":\"\"}}}],\"scatterpolargl\":[{\"type\":\"scatterpolargl\",\"marker\":{\"colorbar\":{\"outlinewidth\":0,\"ticks\":\"\"}}}],\"bar\":[{\"error_x\":{\"color\":\"#2a3f5f\"},\"error_y\":{\"color\":\"#2a3f5f\"},\"marker\":{\"line\":{\"color\":\"#E5ECF6\",\"width\":0.5},\"pattern\":{\"fillmode\":\"overlay\",\"size\":10,\"solidity\":0.2}},\"type\":\"bar\"}],\"scattergeo\":[{\"type\":\"scattergeo\",\"marker\":{\"colorbar\":{\"outlinewidth\":0,\"ticks\":\"\"}}}],\"scatterpolar\":[{\"type\":\"scatterpolar\",\"marker\":{\"colorbar\":{\"outlinewidth\":0,\"ticks\":\"\"}}}],\"histogram\":[{\"marker\":{\"pattern\":{\"fillmode\":\"overlay\",\"size\":10,\"solidity\":0.2}},\"type\":\"histogram\"}],\"scattergl\":[{\"type\":\"scattergl\",\"marker\":{\"colorbar\":{\"outlinewidth\":0,\"ticks\":\"\"}}}],\"scatter3d\":[{\"type\":\"scatter3d\",\"line\":{\"colorbar\":{\"outlinewidth\":0,\"ticks\":\"\"}},\"marker\":{\"colorbar\":{\"outlinewidth\":0,\"ticks\":\"\"}}}],\"scattermapbox\":[{\"type\":\"scattermapbox\",\"marker\":{\"colorbar\":{\"outlinewidth\":0,\"ticks\":\"\"}}}],\"scatterternary\":[{\"type\":\"scatterternary\",\"marker\":{\"colorbar\":{\"outlinewidth\":0,\"ticks\":\"\"}}}],\"scattercarpet\":[{\"type\":\"scattercarpet\",\"marker\":{\"colorbar\":{\"outlinewidth\":0,\"ticks\":\"\"}}}],\"carpet\":[{\"aaxis\":{\"endlinecolor\":\"#2a3f5f\",\"gridcolor\":\"white\",\"linecolor\":\"white\",\"minorgridcolor\":\"white\",\"startlinecolor\":\"#2a3f5f\"},\"baxis\":{\"endlinecolor\":\"#2a3f5f\",\"gridcolor\":\"white\",\"linecolor\":\"white\",\"minorgridcolor\":\"white\",\"startlinecolor\":\"#2a3f5f\"},\"type\":\"carpet\"}],\"table\":[{\"cells\":{\"fill\":{\"color\":\"#EBF0F8\"},\"line\":{\"color\":\"white\"}},\"header\":{\"fill\":{\"color\":\"#C8D4E3\"},\"line\":{\"color\":\"white\"}},\"type\":\"table\"}],\"barpolar\":[{\"marker\":{\"line\":{\"color\":\"#E5ECF6\",\"width\":0.5},\"pattern\":{\"fillmode\":\"overlay\",\"size\":10,\"solidity\":0.2}},\"type\":\"barpolar\"}],\"pie\":[{\"automargin\":true,\"type\":\"pie\"}]},\"layout\":{\"autotypenumbers\":\"strict\",\"colorway\":[\"#636efa\",\"#EF553B\",\"#00cc96\",\"#ab63fa\",\"#FFA15A\",\"#19d3f3\",\"#FF6692\",\"#B6E880\",\"#FF97FF\",\"#FECB52\"],\"font\":{\"color\":\"#2a3f5f\"},\"hovermode\":\"closest\",\"hoverlabel\":{\"align\":\"left\"},\"paper_bgcolor\":\"white\",\"plot_bgcolor\":\"#E5ECF6\",\"polar\":{\"bgcolor\":\"#E5ECF6\",\"angularaxis\":{\"gridcolor\":\"white\",\"linecolor\":\"white\",\"ticks\":\"\"},\"radialaxis\":{\"gridcolor\":\"white\",\"linecolor\":\"white\",\"ticks\":\"\"}},\"ternary\":{\"bgcolor\":\"#E5ECF6\",\"aaxis\":{\"gridcolor\":\"white\",\"linecolor\":\"white\",\"ticks\":\"\"},\"baxis\":{\"gridcolor\":\"white\",\"linecolor\":\"white\",\"ticks\":\"\"},\"caxis\":{\"gridcolor\":\"white\",\"linecolor\":\"white\",\"ticks\":\"\"}},\"coloraxis\":{\"colorbar\":{\"outlinewidth\":0,\"ticks\":\"\"}},\"colorscale\":{\"sequential\":[[0.0,\"#0d0887\"],[0.1111111111111111,\"#46039f\"],[0.2222222222222222,\"#7201a8\"],[0.3333333333333333,\"#9c179e\"],[0.4444444444444444,\"#bd3786\"],[0.5555555555555556,\"#d8576b\"],[0.6666666666666666,\"#ed7953\"],[0.7777777777777778,\"#fb9f3a\"],[0.8888888888888888,\"#fdca26\"],[1.0,\"#f0f921\"]],\"sequentialminus\":[[0.0,\"#0d0887\"],[0.1111111111111111,\"#46039f\"],[0.2222222222222222,\"#7201a8\"],[0.3333333333333333,\"#9c179e\"],[0.4444444444444444,\"#bd3786\"],[0.5555555555555556,\"#d8576b\"],[0.6666666666666666,\"#ed7953\"],[0.7777777777777778,\"#fb9f3a\"],[0.8888888888888888,\"#fdca26\"],[1.0,\"#f0f921\"]],\"diverging\":[[0,\"#8e0152\"],[0.1,\"#c51b7d\"],[0.2,\"#de77ae\"],[0.3,\"#f1b6da\"],[0.4,\"#fde0ef\"],[0.5,\"#f7f7f7\"],[0.6,\"#e6f5d0\"],[0.7,\"#b8e186\"],[0.8,\"#7fbc41\"],[0.9,\"#4d9221\"],[1,\"#276419\"]]},\"xaxis\":{\"gridcolor\":\"white\",\"linecolor\":\"white\",\"ticks\":\"\",\"title\":{\"standoff\":15},\"zerolinecolor\":\"white\",\"automargin\":true,\"zerolinewidth\":2},\"yaxis\":{\"gridcolor\":\"white\",\"linecolor\":\"white\",\"ticks\":\"\",\"title\":{\"standoff\":15},\"zerolinecolor\":\"white\",\"automargin\":true,\"zerolinewidth\":2},\"scene\":{\"xaxis\":{\"backgroundcolor\":\"#E5ECF6\",\"gridcolor\":\"white\",\"linecolor\":\"white\",\"showbackground\":true,\"ticks\":\"\",\"zerolinecolor\":\"white\",\"gridwidth\":2},\"yaxis\":{\"backgroundcolor\":\"#E5ECF6\",\"gridcolor\":\"white\",\"linecolor\":\"white\",\"showbackground\":true,\"ticks\":\"\",\"zerolinecolor\":\"white\",\"gridwidth\":2},\"zaxis\":{\"backgroundcolor\":\"#E5ECF6\",\"gridcolor\":\"white\",\"linecolor\":\"white\",\"showbackground\":true,\"ticks\":\"\",\"zerolinecolor\":\"white\",\"gridwidth\":2}},\"shapedefaults\":{\"line\":{\"color\":\"#2a3f5f\"}},\"annotationdefaults\":{\"arrowcolor\":\"#2a3f5f\",\"arrowhead\":0,\"arrowwidth\":1},\"geo\":{\"bgcolor\":\"white\",\"landcolor\":\"#E5ECF6\",\"subunitcolor\":\"white\",\"showland\":true,\"showlakes\":true,\"lakecolor\":\"white\"},\"title\":{\"x\":0.05},\"mapbox\":{\"style\":\"light\"}}},\"legend\":{\"tracegroupgap\":0},\"title\":{\"text\":\"MALO o BUENO\"}},                        {\"responsive\": true}                    ).then(function(){\n",
       "                            \n",
       "var gd = document.getElementById('d1d6d81f-d0f6-4f72-86be-ea1604317dff');\n",
       "var x = new MutationObserver(function (mutations, observer) {{\n",
       "        var display = window.getComputedStyle(gd).display;\n",
       "        if (!display || display === 'none') {{\n",
       "            console.log([gd, 'removed!']);\n",
       "            Plotly.purge(gd);\n",
       "            observer.disconnect();\n",
       "        }}\n",
       "}});\n",
       "\n",
       "// Listen for the removal of the full notebook cells\n",
       "var notebookContainer = gd.closest('#notebook-container');\n",
       "if (notebookContainer) {{\n",
       "    x.observe(notebookContainer, {childList: true});\n",
       "}}\n",
       "\n",
       "// Listen for the clearing of the current output cell\n",
       "var outputEl = gd.closest('.output');\n",
       "if (outputEl) {{\n",
       "    x.observe(outputEl, {childList: true});\n",
       "}}\n",
       "\n",
       "                        })                };                });            </script>        </div>"
      ]
     },
     "metadata": {},
     "output_type": "display_data"
    }
   ],
   "source": [
    "count_objected = df_application_final_new['STATUS'].value_counts().to_frame().reset_index()\n",
    "count_objected.columns = ['STATUS', 'count']\n",
    "fig = px.pie(count_objected,\n",
    "             values='count',\n",
    "             names='STATUS',\n",
    "             title='MALO o BUENO')\n",
    "fig.show()"
   ]
  },
  {
   "cell_type": "code",
   "execution_count": 47,
   "id": "509814a1",
   "metadata": {},
   "outputs": [
    {
     "data": {
      "text/html": [
       "<div>\n",
       "<style scoped>\n",
       "    .dataframe tbody tr th:only-of-type {\n",
       "        vertical-align: middle;\n",
       "    }\n",
       "\n",
       "    .dataframe tbody tr th {\n",
       "        vertical-align: top;\n",
       "    }\n",
       "\n",
       "    .dataframe thead th {\n",
       "        text-align: right;\n",
       "    }\n",
       "</style>\n",
       "<table border=\"1\" class=\"dataframe\">\n",
       "  <thead>\n",
       "    <tr style=\"text-align: right;\">\n",
       "      <th></th>\n",
       "      <th>ID</th>\n",
       "      <th>CODE_GENDER</th>\n",
       "      <th>FLAG_OWN_CAR</th>\n",
       "      <th>FLAG_OWN_REALTY</th>\n",
       "      <th>CNT_CHILDREN</th>\n",
       "      <th>AMT_INCOME_TOTAL</th>\n",
       "      <th>NAME_INCOME_TYPE</th>\n",
       "      <th>NAME_EDUCATION_TYPE</th>\n",
       "      <th>NAME_FAMILY_STATUS</th>\n",
       "      <th>NAME_HOUSING_TYPE</th>\n",
       "      <th>DAYS_BIRTH</th>\n",
       "      <th>DAYS_EMPLOYED</th>\n",
       "      <th>FLAG_MOBIL</th>\n",
       "      <th>FLAG_WORK_PHONE</th>\n",
       "      <th>FLAG_PHONE</th>\n",
       "      <th>FLAG_EMAIL</th>\n",
       "      <th>OCCUPATION_TYPE</th>\n",
       "      <th>CNT_FAM_MEMBERS</th>\n",
       "      <th>STATUS</th>\n",
       "    </tr>\n",
       "  </thead>\n",
       "  <tbody>\n",
       "    <tr>\n",
       "      <th>0</th>\n",
       "      <td>5009628</td>\n",
       "      <td>F</td>\n",
       "      <td>N</td>\n",
       "      <td>N</td>\n",
       "      <td>0</td>\n",
       "      <td>238500.0</td>\n",
       "      <td>Working</td>\n",
       "      <td>Secondary / secondary special</td>\n",
       "      <td>Married</td>\n",
       "      <td>House / apartment</td>\n",
       "      <td>-19305</td>\n",
       "      <td>-3296</td>\n",
       "      <td>1</td>\n",
       "      <td>1</td>\n",
       "      <td>0</td>\n",
       "      <td>0</td>\n",
       "      <td>Laborers</td>\n",
       "      <td>2.0</td>\n",
       "      <td>1</td>\n",
       "    </tr>\n",
       "    <tr>\n",
       "      <th>1</th>\n",
       "      <td>5009746</td>\n",
       "      <td>F</td>\n",
       "      <td>Y</td>\n",
       "      <td>N</td>\n",
       "      <td>0</td>\n",
       "      <td>315000.0</td>\n",
       "      <td>Commercial associate</td>\n",
       "      <td>Higher education</td>\n",
       "      <td>Married</td>\n",
       "      <td>House / apartment</td>\n",
       "      <td>-13557</td>\n",
       "      <td>-586</td>\n",
       "      <td>1</td>\n",
       "      <td>1</td>\n",
       "      <td>1</td>\n",
       "      <td>0</td>\n",
       "      <td>NaN</td>\n",
       "      <td>2.0</td>\n",
       "      <td>1</td>\n",
       "    </tr>\n",
       "    <tr>\n",
       "      <th>2</th>\n",
       "      <td>5009938</td>\n",
       "      <td>F</td>\n",
       "      <td>N</td>\n",
       "      <td>Y</td>\n",
       "      <td>2</td>\n",
       "      <td>157500.0</td>\n",
       "      <td>Working</td>\n",
       "      <td>Secondary / secondary special</td>\n",
       "      <td>Married</td>\n",
       "      <td>House / apartment</td>\n",
       "      <td>-10710</td>\n",
       "      <td>-2351</td>\n",
       "      <td>1</td>\n",
       "      <td>0</td>\n",
       "      <td>0</td>\n",
       "      <td>0</td>\n",
       "      <td>Sales staff</td>\n",
       "      <td>4.0</td>\n",
       "      <td>1</td>\n",
       "    </tr>\n",
       "    <tr>\n",
       "      <th>3</th>\n",
       "      <td>5010061</td>\n",
       "      <td>F</td>\n",
       "      <td>N</td>\n",
       "      <td>Y</td>\n",
       "      <td>0</td>\n",
       "      <td>112500.0</td>\n",
       "      <td>Working</td>\n",
       "      <td>Secondary / secondary special</td>\n",
       "      <td>Married</td>\n",
       "      <td>House / apartment</td>\n",
       "      <td>-16573</td>\n",
       "      <td>-4574</td>\n",
       "      <td>1</td>\n",
       "      <td>0</td>\n",
       "      <td>0</td>\n",
       "      <td>0</td>\n",
       "      <td>NaN</td>\n",
       "      <td>2.0</td>\n",
       "      <td>1</td>\n",
       "    </tr>\n",
       "    <tr>\n",
       "      <th>4</th>\n",
       "      <td>5010535</td>\n",
       "      <td>F</td>\n",
       "      <td>Y</td>\n",
       "      <td>N</td>\n",
       "      <td>2</td>\n",
       "      <td>135000.0</td>\n",
       "      <td>Working</td>\n",
       "      <td>Secondary / secondary special</td>\n",
       "      <td>Married</td>\n",
       "      <td>House / apartment</td>\n",
       "      <td>-13928</td>\n",
       "      <td>-3052</td>\n",
       "      <td>1</td>\n",
       "      <td>0</td>\n",
       "      <td>0</td>\n",
       "      <td>0</td>\n",
       "      <td>Laborers</td>\n",
       "      <td>4.0</td>\n",
       "      <td>1</td>\n",
       "    </tr>\n",
       "    <tr>\n",
       "      <th>...</th>\n",
       "      <td>...</td>\n",
       "      <td>...</td>\n",
       "      <td>...</td>\n",
       "      <td>...</td>\n",
       "      <td>...</td>\n",
       "      <td>...</td>\n",
       "      <td>...</td>\n",
       "      <td>...</td>\n",
       "      <td>...</td>\n",
       "      <td>...</td>\n",
       "      <td>...</td>\n",
       "      <td>...</td>\n",
       "      <td>...</td>\n",
       "      <td>...</td>\n",
       "      <td>...</td>\n",
       "      <td>...</td>\n",
       "      <td>...</td>\n",
       "      <td>...</td>\n",
       "      <td>...</td>\n",
       "    </tr>\n",
       "    <tr>\n",
       "      <th>4985</th>\n",
       "      <td>5052619</td>\n",
       "      <td>M</td>\n",
       "      <td>Y</td>\n",
       "      <td>Y</td>\n",
       "      <td>0</td>\n",
       "      <td>180000.0</td>\n",
       "      <td>Working</td>\n",
       "      <td>Secondary / secondary special</td>\n",
       "      <td>Single / not married</td>\n",
       "      <td>House / apartment</td>\n",
       "      <td>-18475</td>\n",
       "      <td>-1782</td>\n",
       "      <td>1</td>\n",
       "      <td>0</td>\n",
       "      <td>0</td>\n",
       "      <td>0</td>\n",
       "      <td>Cleaning staff</td>\n",
       "      <td>1.0</td>\n",
       "      <td>0</td>\n",
       "    </tr>\n",
       "    <tr>\n",
       "      <th>4986</th>\n",
       "      <td>5053239</td>\n",
       "      <td>M</td>\n",
       "      <td>Y</td>\n",
       "      <td>Y</td>\n",
       "      <td>2</td>\n",
       "      <td>270000.0</td>\n",
       "      <td>Working</td>\n",
       "      <td>Secondary / secondary special</td>\n",
       "      <td>Civil marriage</td>\n",
       "      <td>House / apartment</td>\n",
       "      <td>-14477</td>\n",
       "      <td>-293</td>\n",
       "      <td>1</td>\n",
       "      <td>1</td>\n",
       "      <td>1</td>\n",
       "      <td>0</td>\n",
       "      <td>Drivers</td>\n",
       "      <td>4.0</td>\n",
       "      <td>0</td>\n",
       "    </tr>\n",
       "    <tr>\n",
       "      <th>4987</th>\n",
       "      <td>5024773</td>\n",
       "      <td>F</td>\n",
       "      <td>Y</td>\n",
       "      <td>Y</td>\n",
       "      <td>0</td>\n",
       "      <td>202500.0</td>\n",
       "      <td>Working</td>\n",
       "      <td>Secondary / secondary special</td>\n",
       "      <td>Single / not married</td>\n",
       "      <td>House / apartment</td>\n",
       "      <td>-8568</td>\n",
       "      <td>-1068</td>\n",
       "      <td>1</td>\n",
       "      <td>0</td>\n",
       "      <td>0</td>\n",
       "      <td>0</td>\n",
       "      <td>Sales staff</td>\n",
       "      <td>1.0</td>\n",
       "      <td>0</td>\n",
       "    </tr>\n",
       "    <tr>\n",
       "      <th>4988</th>\n",
       "      <td>5085963</td>\n",
       "      <td>F</td>\n",
       "      <td>N</td>\n",
       "      <td>Y</td>\n",
       "      <td>0</td>\n",
       "      <td>180000.0</td>\n",
       "      <td>Working</td>\n",
       "      <td>Secondary / secondary special</td>\n",
       "      <td>Single / not married</td>\n",
       "      <td>House / apartment</td>\n",
       "      <td>-18913</td>\n",
       "      <td>-807</td>\n",
       "      <td>1</td>\n",
       "      <td>0</td>\n",
       "      <td>0</td>\n",
       "      <td>0</td>\n",
       "      <td>Laborers</td>\n",
       "      <td>1.0</td>\n",
       "      <td>0</td>\n",
       "    </tr>\n",
       "    <tr>\n",
       "      <th>4989</th>\n",
       "      <td>5105782</td>\n",
       "      <td>F</td>\n",
       "      <td>Y</td>\n",
       "      <td>N</td>\n",
       "      <td>1</td>\n",
       "      <td>171000.0</td>\n",
       "      <td>Commercial associate</td>\n",
       "      <td>Higher education</td>\n",
       "      <td>Married</td>\n",
       "      <td>House / apartment</td>\n",
       "      <td>-11082</td>\n",
       "      <td>-1976</td>\n",
       "      <td>1</td>\n",
       "      <td>1</td>\n",
       "      <td>0</td>\n",
       "      <td>0</td>\n",
       "      <td>Accountants</td>\n",
       "      <td>3.0</td>\n",
       "      <td>0</td>\n",
       "    </tr>\n",
       "  </tbody>\n",
       "</table>\n",
       "<p>4990 rows × 19 columns</p>\n",
       "</div>"
      ],
      "text/plain": [
       "           ID CODE_GENDER FLAG_OWN_CAR FLAG_OWN_REALTY  CNT_CHILDREN  \\\n",
       "0     5009628           F            N               N             0   \n",
       "1     5009746           F            Y               N             0   \n",
       "2     5009938           F            N               Y             2   \n",
       "3     5010061           F            N               Y             0   \n",
       "4     5010535           F            Y               N             2   \n",
       "...       ...         ...          ...             ...           ...   \n",
       "4985  5052619           M            Y               Y             0   \n",
       "4986  5053239           M            Y               Y             2   \n",
       "4987  5024773           F            Y               Y             0   \n",
       "4988  5085963           F            N               Y             0   \n",
       "4989  5105782           F            Y               N             1   \n",
       "\n",
       "      AMT_INCOME_TOTAL      NAME_INCOME_TYPE            NAME_EDUCATION_TYPE  \\\n",
       "0             238500.0               Working  Secondary / secondary special   \n",
       "1             315000.0  Commercial associate               Higher education   \n",
       "2             157500.0               Working  Secondary / secondary special   \n",
       "3             112500.0               Working  Secondary / secondary special   \n",
       "4             135000.0               Working  Secondary / secondary special   \n",
       "...                ...                   ...                            ...   \n",
       "4985          180000.0               Working  Secondary / secondary special   \n",
       "4986          270000.0               Working  Secondary / secondary special   \n",
       "4987          202500.0               Working  Secondary / secondary special   \n",
       "4988          180000.0               Working  Secondary / secondary special   \n",
       "4989          171000.0  Commercial associate               Higher education   \n",
       "\n",
       "        NAME_FAMILY_STATUS  NAME_HOUSING_TYPE  DAYS_BIRTH  DAYS_EMPLOYED  \\\n",
       "0                  Married  House / apartment      -19305          -3296   \n",
       "1                  Married  House / apartment      -13557           -586   \n",
       "2                  Married  House / apartment      -10710          -2351   \n",
       "3                  Married  House / apartment      -16573          -4574   \n",
       "4                  Married  House / apartment      -13928          -3052   \n",
       "...                    ...                ...         ...            ...   \n",
       "4985  Single / not married  House / apartment      -18475          -1782   \n",
       "4986        Civil marriage  House / apartment      -14477           -293   \n",
       "4987  Single / not married  House / apartment       -8568          -1068   \n",
       "4988  Single / not married  House / apartment      -18913           -807   \n",
       "4989               Married  House / apartment      -11082          -1976   \n",
       "\n",
       "      FLAG_MOBIL  FLAG_WORK_PHONE  FLAG_PHONE  FLAG_EMAIL OCCUPATION_TYPE  \\\n",
       "0              1                1           0           0        Laborers   \n",
       "1              1                1           1           0             NaN   \n",
       "2              1                0           0           0     Sales staff   \n",
       "3              1                0           0           0             NaN   \n",
       "4              1                0           0           0        Laborers   \n",
       "...          ...              ...         ...         ...             ...   \n",
       "4985           1                0           0           0  Cleaning staff   \n",
       "4986           1                1           1           0         Drivers   \n",
       "4987           1                0           0           0     Sales staff   \n",
       "4988           1                0           0           0        Laborers   \n",
       "4989           1                1           0           0     Accountants   \n",
       "\n",
       "      CNT_FAM_MEMBERS  STATUS  \n",
       "0                 2.0       1  \n",
       "1                 2.0       1  \n",
       "2                 4.0       1  \n",
       "3                 2.0       1  \n",
       "4                 4.0       1  \n",
       "...               ...     ...  \n",
       "4985              1.0       0  \n",
       "4986              4.0       0  \n",
       "4987              1.0       0  \n",
       "4988              1.0       0  \n",
       "4989              3.0       0  \n",
       "\n",
       "[4990 rows x 19 columns]"
      ]
     },
     "execution_count": 47,
     "metadata": {},
     "output_type": "execute_result"
    }
   ],
   "source": [
    "df_application_final_new"
   ]
  },
  {
   "cell_type": "markdown",
   "id": "308a5c18",
   "metadata": {},
   "source": [
    "# 6. SOBRE LA HERRAMIENTA DE CIENCIA DE DATOS."
   ]
  },
  {
   "cell_type": "markdown",
   "id": "8911248e",
   "metadata": {},
   "source": [
    "Se supondrá que para el desarrollo de la herramienta que prediga el perfil crediticio solo se deberá de hacer uso de la data de aplicaciones. Por tanto, no se usará la información crediticia derivada de este Análisis de Cohortes para desarrollar algún tipo de ingeniería de características con ella."
   ]
  },
  {
   "cell_type": "markdown",
   "id": "058fbc7a",
   "metadata": {},
   "source": [
    "# 7. GUARDADO DE LA DATA"
   ]
  },
  {
   "cell_type": "code",
   "execution_count": null,
   "id": "a833f7bd",
   "metadata": {},
   "outputs": [],
   "source": [
    "# pickle.dump(df_application_final, open(f'../outputs/df_application_final.sav', 'wb'))\n",
    "# pickle.dump(df_application_final_new, open(f'../outputs/df_application_final_new.sav', 'wb'))"
   ]
  },
  {
   "cell_type": "code",
   "execution_count": null,
   "id": "96a936b4",
   "metadata": {},
   "outputs": [],
   "source": []
  }
 ],
 "metadata": {
  "kernelspec": {
   "display_name": "tangelo_exploring_preprocessing",
   "language": "python",
   "name": "tangelo_exploring_preprocessing"
  },
  "language_info": {
   "codemirror_mode": {
    "name": "ipython",
    "version": 3
   },
   "file_extension": ".py",
   "mimetype": "text/x-python",
   "name": "python",
   "nbconvert_exporter": "python",
   "pygments_lexer": "ipython3",
   "version": "3.8.12"
  }
 },
 "nbformat": 4,
 "nbformat_minor": 5
}
