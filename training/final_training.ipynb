{
 "cells": [
  {
   "cell_type": "code",
   "execution_count": 1,
   "id": "28d05241",
   "metadata": {},
   "outputs": [],
   "source": [
    "# !/usr/bin/env python\n",
    "# coding: utf-8\n",
    "\n",
    "import warnings\n",
    "warnings.simplefilter(\"ignore\")\n",
    "from IPython.display import display\n",
    "from sklearn.metrics import log_loss\n",
    "from sklearn.metrics import brier_score_loss\n",
    "from sklearn.calibration import CalibratedClassifierCV\n",
    "from training_functions_1 import *"
   ]
  },
  {
   "cell_type": "code",
   "execution_count": 2,
   "id": "20952b2a",
   "metadata": {},
   "outputs": [],
   "source": [
    "path='../outputs/'\n",
    "optim_results = get_data(name_sav='optimization_results.sav', path=path)"
   ]
  },
  {
   "cell_type": "code",
   "execution_count": 3,
   "id": "d65359ac",
   "metadata": {},
   "outputs": [
    {
     "data": {
      "text/plain": [
       "hyperparameters       {'max_depth': None, 'max_leaf_nodes': 150, 'mi...\n",
       "cv_f1                                                          0.273298\n",
       "cv_precision                                                   0.176069\n",
       "cv_recall                                                      0.617898\n",
       "cv_m_c                                                          0.15633\n",
       "cv_f1_micro                                                    0.620785\n",
       "cv_precision_micro                                             0.620785\n",
       "cv_recall_micro                                                0.620785\n",
       "optimization_date                            2023-08-08 21:35:38.102857\n",
       "ratio_balance                                                         1\n",
       "model_name                                       RandomForestClassifier\n",
       "k_folds                                                               4\n",
       "test_size                                                          0.25\n",
       "Name: 0, dtype: object"
      ]
     },
     "execution_count": 3,
     "metadata": {},
     "output_type": "execute_result"
    }
   ],
   "source": [
    "optim_results"
   ]
  },
  {
   "cell_type": "markdown",
   "id": "08009f44",
   "metadata": {},
   "source": [
    "# 1. AJUSTE FINAL."
   ]
  },
  {
   "cell_type": "markdown",
   "id": "9ee98819",
   "metadata": {},
   "source": [
    "El ajuste final de modelo optimizado es realizado por la función __training_model__ contenida en el script __training_functions.py__. Esta función tiene como una de sus entradas la salida de la función __optimization_model__. También, se encarga de:\n",
    "1. guardar el modelo final en un archivo binario para su consumo,\n",
    "2. generar las métricas de __testeo__, las cuales se obtienen al aplicar el modelo al conjunto de __testeo__,\n",
    "3. generar gráficos de interés como el histograma de probabilidades de testeo,\n",
    "4. calcular las features importances."
   ]
  },
  {
   "cell_type": "markdown",
   "id": "e915310e",
   "metadata": {},
   "source": [
    "Los parámetros que esta función necesita son ya todos conocidos, a excepción de dos:"
   ]
  },
  {
   "cell_type": "code",
   "execution_count": 4,
   "id": "64ff01e0",
   "metadata": {},
   "outputs": [],
   "source": [
    "# Binario para el cálculo de las feature importances.\n",
    "with_feature_importances=True\n",
    "# Binario para la construcción del histograma de probabilidades de testeo.\n",
    "with_probability_density=False"
   ]
  },
  {
   "cell_type": "markdown",
   "id": "a697d04e",
   "metadata": {},
   "source": [
    "__¡¡¡ADVERTENCIA !!!:__ El cálculo de las feature importances para `HistGradientBoostingClassifier`\n",
    "tarda horas. Esto debido a que se calculan vía shap-values, puesto que `scikit-learn`no las ofrece nativamente para este estimador."
   ]
  },
  {
   "cell_type": "code",
   "execution_count": 5,
   "id": "6b7fefc8",
   "metadata": {},
   "outputs": [],
   "source": [
    "df_name = 'df_HOMO_CLASS.sav'\n",
    "features_names =  ['FLAG_OWN_CAR',\n",
    "                   'FLAG_OWN_REALTY',\n",
    "                   'NAME_INCOME_TYPE',\n",
    "                   'NAME_EDUCATION_TYPE',\n",
    "                   'NAME_FAMILY_STATUS',\n",
    "                   'NAME_HOUSING_TYPE',\n",
    "                   'OCCUPATION_TYPE',\n",
    "                   'FLAG_WORK_PHONE',\n",
    "                   'FLAG_PHONE',\n",
    "                   'FLAG_EMAIL',\n",
    "                   'AGE',\n",
    "                   'CNT_CHILDREN',\n",
    "                   'AMT_INCOME_TOTAL',\n",
    "                   'WORK_YEARS']\n",
    "objective_name = 'label'\n",
    "path='../outputs/'"
   ]
  },
  {
   "cell_type": "markdown",
   "id": "86f7424b",
   "metadata": {},
   "source": [
    "Se procede a ajustar el modelo final."
   ]
  },
  {
   "cell_type": "code",
   "execution_count": 6,
   "id": "ba632eaf",
   "metadata": {},
   "outputs": [
    {
     "name": "stderr",
     "output_type": "stream",
     "text": [
      "2023-08-08 21:51:27 INFO: PROCESO DE ENTRENAMIENTO Y GUARDADO DE MODELO.\n",
      "2023-08-08 21:51:27 INFO: CONFIGURACIÓN DE DATA.\n",
      "2023-08-08 21:51:27 INFO: CONFIGURACIÓN GENERALES.\n",
      "2023-08-08 21:51:27 INFO: TUBERÍAS PARA PROCESAMIENTO Y MUESTREO.\n",
      "2023-08-08 21:51:27 INFO: AJUSTE FINAL.\n",
      "2023-08-08 21:51:28 INFO: OBTENCIÓN DE FEATURE IMPORTANCES.\n",
      "Permutation explainer: 377it [17:08,  2.75s/it]                        \n"
     ]
    },
    {
     "data": {
      "application/vnd.plotly.v1+json": {
       "config": {
        "plotlyServerURL": "https://plot.ly"
       },
       "data": [
        {
         "alignmentgroup": "True",
         "hovertemplate": "feature_names=%{x}<br>feature_importances=%{marker.color}<extra></extra>",
         "legendgroup": "",
         "marker": {
          "color": [
           0.1866493236665165,
           0.17972406910888164,
           0.13416497724369328,
           0.10157715889107416,
           0.06459606366674962,
           0.05829045186407192,
           0.052309768910029954,
           0.04049713110719069,
           0.034805234769167435,
           0.03461780566854871,
           0.03447583107264657,
           0.03278302965460595,
           0.023980045268951235,
           0.021529109107872552
          ],
          "coloraxis": "coloraxis",
          "pattern": {
           "shape": ""
          }
         },
         "name": "",
         "offsetgroup": "",
         "orientation": "v",
         "showlegend": false,
         "textposition": "auto",
         "type": "bar",
         "x": [
          "AGE",
          "AMT_INCOME_TOTAL",
          "WORK_YEARS",
          "OCCUPATION_TYPE",
          "NAME_FAMILY_STATUS",
          "NAME_INCOME_TYPE",
          "NAME_EDUCATION_TYPE",
          "CNT_CHILDREN",
          "FLAG_OWN_REALTY",
          "NAME_HOUSING_TYPE",
          "FLAG_PHONE",
          "FLAG_OWN_CAR",
          "FLAG_WORK_PHONE",
          "FLAG_EMAIL"
         ],
         "xaxis": "x",
         "y": [
          0.1866493236665165,
          0.17972406910888164,
          0.13416497724369328,
          0.10157715889107416,
          0.06459606366674962,
          0.05829045186407192,
          0.052309768910029954,
          0.04049713110719069,
          0.034805234769167435,
          0.03461780566854871,
          0.03447583107264657,
          0.03278302965460595,
          0.023980045268951235,
          0.021529109107872552
         ],
         "yaxis": "y"
        }
       ],
       "layout": {
        "barmode": "relative",
        "coloraxis": {
         "colorbar": {
          "title": {
           "text": "feature_importances"
          }
         },
         "colorscale": [
          [
           0,
           "#0d0887"
          ],
          [
           0.1111111111111111,
           "#46039f"
          ],
          [
           0.2222222222222222,
           "#7201a8"
          ],
          [
           0.3333333333333333,
           "#9c179e"
          ],
          [
           0.4444444444444444,
           "#bd3786"
          ],
          [
           0.5555555555555556,
           "#d8576b"
          ],
          [
           0.6666666666666666,
           "#ed7953"
          ],
          [
           0.7777777777777778,
           "#fb9f3a"
          ],
          [
           0.8888888888888888,
           "#fdca26"
          ],
          [
           1,
           "#f0f921"
          ]
         ]
        },
        "legend": {
         "tracegroupgap": 0
        },
        "margin": {
         "t": 60
        },
        "template": {
         "data": {
          "bar": [
           {
            "error_x": {
             "color": "#2a3f5f"
            },
            "error_y": {
             "color": "#2a3f5f"
            },
            "marker": {
             "line": {
              "color": "#E5ECF6",
              "width": 0.5
             },
             "pattern": {
              "fillmode": "overlay",
              "size": 10,
              "solidity": 0.2
             }
            },
            "type": "bar"
           }
          ],
          "barpolar": [
           {
            "marker": {
             "line": {
              "color": "#E5ECF6",
              "width": 0.5
             },
             "pattern": {
              "fillmode": "overlay",
              "size": 10,
              "solidity": 0.2
             }
            },
            "type": "barpolar"
           }
          ],
          "carpet": [
           {
            "aaxis": {
             "endlinecolor": "#2a3f5f",
             "gridcolor": "white",
             "linecolor": "white",
             "minorgridcolor": "white",
             "startlinecolor": "#2a3f5f"
            },
            "baxis": {
             "endlinecolor": "#2a3f5f",
             "gridcolor": "white",
             "linecolor": "white",
             "minorgridcolor": "white",
             "startlinecolor": "#2a3f5f"
            },
            "type": "carpet"
           }
          ],
          "choropleth": [
           {
            "colorbar": {
             "outlinewidth": 0,
             "ticks": ""
            },
            "type": "choropleth"
           }
          ],
          "contour": [
           {
            "colorbar": {
             "outlinewidth": 0,
             "ticks": ""
            },
            "colorscale": [
             [
              0,
              "#0d0887"
             ],
             [
              0.1111111111111111,
              "#46039f"
             ],
             [
              0.2222222222222222,
              "#7201a8"
             ],
             [
              0.3333333333333333,
              "#9c179e"
             ],
             [
              0.4444444444444444,
              "#bd3786"
             ],
             [
              0.5555555555555556,
              "#d8576b"
             ],
             [
              0.6666666666666666,
              "#ed7953"
             ],
             [
              0.7777777777777778,
              "#fb9f3a"
             ],
             [
              0.8888888888888888,
              "#fdca26"
             ],
             [
              1,
              "#f0f921"
             ]
            ],
            "type": "contour"
           }
          ],
          "contourcarpet": [
           {
            "colorbar": {
             "outlinewidth": 0,
             "ticks": ""
            },
            "type": "contourcarpet"
           }
          ],
          "heatmap": [
           {
            "colorbar": {
             "outlinewidth": 0,
             "ticks": ""
            },
            "colorscale": [
             [
              0,
              "#0d0887"
             ],
             [
              0.1111111111111111,
              "#46039f"
             ],
             [
              0.2222222222222222,
              "#7201a8"
             ],
             [
              0.3333333333333333,
              "#9c179e"
             ],
             [
              0.4444444444444444,
              "#bd3786"
             ],
             [
              0.5555555555555556,
              "#d8576b"
             ],
             [
              0.6666666666666666,
              "#ed7953"
             ],
             [
              0.7777777777777778,
              "#fb9f3a"
             ],
             [
              0.8888888888888888,
              "#fdca26"
             ],
             [
              1,
              "#f0f921"
             ]
            ],
            "type": "heatmap"
           }
          ],
          "heatmapgl": [
           {
            "colorbar": {
             "outlinewidth": 0,
             "ticks": ""
            },
            "colorscale": [
             [
              0,
              "#0d0887"
             ],
             [
              0.1111111111111111,
              "#46039f"
             ],
             [
              0.2222222222222222,
              "#7201a8"
             ],
             [
              0.3333333333333333,
              "#9c179e"
             ],
             [
              0.4444444444444444,
              "#bd3786"
             ],
             [
              0.5555555555555556,
              "#d8576b"
             ],
             [
              0.6666666666666666,
              "#ed7953"
             ],
             [
              0.7777777777777778,
              "#fb9f3a"
             ],
             [
              0.8888888888888888,
              "#fdca26"
             ],
             [
              1,
              "#f0f921"
             ]
            ],
            "type": "heatmapgl"
           }
          ],
          "histogram": [
           {
            "marker": {
             "pattern": {
              "fillmode": "overlay",
              "size": 10,
              "solidity": 0.2
             }
            },
            "type": "histogram"
           }
          ],
          "histogram2d": [
           {
            "colorbar": {
             "outlinewidth": 0,
             "ticks": ""
            },
            "colorscale": [
             [
              0,
              "#0d0887"
             ],
             [
              0.1111111111111111,
              "#46039f"
             ],
             [
              0.2222222222222222,
              "#7201a8"
             ],
             [
              0.3333333333333333,
              "#9c179e"
             ],
             [
              0.4444444444444444,
              "#bd3786"
             ],
             [
              0.5555555555555556,
              "#d8576b"
             ],
             [
              0.6666666666666666,
              "#ed7953"
             ],
             [
              0.7777777777777778,
              "#fb9f3a"
             ],
             [
              0.8888888888888888,
              "#fdca26"
             ],
             [
              1,
              "#f0f921"
             ]
            ],
            "type": "histogram2d"
           }
          ],
          "histogram2dcontour": [
           {
            "colorbar": {
             "outlinewidth": 0,
             "ticks": ""
            },
            "colorscale": [
             [
              0,
              "#0d0887"
             ],
             [
              0.1111111111111111,
              "#46039f"
             ],
             [
              0.2222222222222222,
              "#7201a8"
             ],
             [
              0.3333333333333333,
              "#9c179e"
             ],
             [
              0.4444444444444444,
              "#bd3786"
             ],
             [
              0.5555555555555556,
              "#d8576b"
             ],
             [
              0.6666666666666666,
              "#ed7953"
             ],
             [
              0.7777777777777778,
              "#fb9f3a"
             ],
             [
              0.8888888888888888,
              "#fdca26"
             ],
             [
              1,
              "#f0f921"
             ]
            ],
            "type": "histogram2dcontour"
           }
          ],
          "mesh3d": [
           {
            "colorbar": {
             "outlinewidth": 0,
             "ticks": ""
            },
            "type": "mesh3d"
           }
          ],
          "parcoords": [
           {
            "line": {
             "colorbar": {
              "outlinewidth": 0,
              "ticks": ""
             }
            },
            "type": "parcoords"
           }
          ],
          "pie": [
           {
            "automargin": true,
            "type": "pie"
           }
          ],
          "scatter": [
           {
            "fillpattern": {
             "fillmode": "overlay",
             "size": 10,
             "solidity": 0.2
            },
            "type": "scatter"
           }
          ],
          "scatter3d": [
           {
            "line": {
             "colorbar": {
              "outlinewidth": 0,
              "ticks": ""
             }
            },
            "marker": {
             "colorbar": {
              "outlinewidth": 0,
              "ticks": ""
             }
            },
            "type": "scatter3d"
           }
          ],
          "scattercarpet": [
           {
            "marker": {
             "colorbar": {
              "outlinewidth": 0,
              "ticks": ""
             }
            },
            "type": "scattercarpet"
           }
          ],
          "scattergeo": [
           {
            "marker": {
             "colorbar": {
              "outlinewidth": 0,
              "ticks": ""
             }
            },
            "type": "scattergeo"
           }
          ],
          "scattergl": [
           {
            "marker": {
             "colorbar": {
              "outlinewidth": 0,
              "ticks": ""
             }
            },
            "type": "scattergl"
           }
          ],
          "scattermapbox": [
           {
            "marker": {
             "colorbar": {
              "outlinewidth": 0,
              "ticks": ""
             }
            },
            "type": "scattermapbox"
           }
          ],
          "scatterpolar": [
           {
            "marker": {
             "colorbar": {
              "outlinewidth": 0,
              "ticks": ""
             }
            },
            "type": "scatterpolar"
           }
          ],
          "scatterpolargl": [
           {
            "marker": {
             "colorbar": {
              "outlinewidth": 0,
              "ticks": ""
             }
            },
            "type": "scatterpolargl"
           }
          ],
          "scatterternary": [
           {
            "marker": {
             "colorbar": {
              "outlinewidth": 0,
              "ticks": ""
             }
            },
            "type": "scatterternary"
           }
          ],
          "surface": [
           {
            "colorbar": {
             "outlinewidth": 0,
             "ticks": ""
            },
            "colorscale": [
             [
              0,
              "#0d0887"
             ],
             [
              0.1111111111111111,
              "#46039f"
             ],
             [
              0.2222222222222222,
              "#7201a8"
             ],
             [
              0.3333333333333333,
              "#9c179e"
             ],
             [
              0.4444444444444444,
              "#bd3786"
             ],
             [
              0.5555555555555556,
              "#d8576b"
             ],
             [
              0.6666666666666666,
              "#ed7953"
             ],
             [
              0.7777777777777778,
              "#fb9f3a"
             ],
             [
              0.8888888888888888,
              "#fdca26"
             ],
             [
              1,
              "#f0f921"
             ]
            ],
            "type": "surface"
           }
          ],
          "table": [
           {
            "cells": {
             "fill": {
              "color": "#EBF0F8"
             },
             "line": {
              "color": "white"
             }
            },
            "header": {
             "fill": {
              "color": "#C8D4E3"
             },
             "line": {
              "color": "white"
             }
            },
            "type": "table"
           }
          ]
         },
         "layout": {
          "annotationdefaults": {
           "arrowcolor": "#2a3f5f",
           "arrowhead": 0,
           "arrowwidth": 1
          },
          "autotypenumbers": "strict",
          "coloraxis": {
           "colorbar": {
            "outlinewidth": 0,
            "ticks": ""
           }
          },
          "colorscale": {
           "diverging": [
            [
             0,
             "#8e0152"
            ],
            [
             0.1,
             "#c51b7d"
            ],
            [
             0.2,
             "#de77ae"
            ],
            [
             0.3,
             "#f1b6da"
            ],
            [
             0.4,
             "#fde0ef"
            ],
            [
             0.5,
             "#f7f7f7"
            ],
            [
             0.6,
             "#e6f5d0"
            ],
            [
             0.7,
             "#b8e186"
            ],
            [
             0.8,
             "#7fbc41"
            ],
            [
             0.9,
             "#4d9221"
            ],
            [
             1,
             "#276419"
            ]
           ],
           "sequential": [
            [
             0,
             "#0d0887"
            ],
            [
             0.1111111111111111,
             "#46039f"
            ],
            [
             0.2222222222222222,
             "#7201a8"
            ],
            [
             0.3333333333333333,
             "#9c179e"
            ],
            [
             0.4444444444444444,
             "#bd3786"
            ],
            [
             0.5555555555555556,
             "#d8576b"
            ],
            [
             0.6666666666666666,
             "#ed7953"
            ],
            [
             0.7777777777777778,
             "#fb9f3a"
            ],
            [
             0.8888888888888888,
             "#fdca26"
            ],
            [
             1,
             "#f0f921"
            ]
           ],
           "sequentialminus": [
            [
             0,
             "#0d0887"
            ],
            [
             0.1111111111111111,
             "#46039f"
            ],
            [
             0.2222222222222222,
             "#7201a8"
            ],
            [
             0.3333333333333333,
             "#9c179e"
            ],
            [
             0.4444444444444444,
             "#bd3786"
            ],
            [
             0.5555555555555556,
             "#d8576b"
            ],
            [
             0.6666666666666666,
             "#ed7953"
            ],
            [
             0.7777777777777778,
             "#fb9f3a"
            ],
            [
             0.8888888888888888,
             "#fdca26"
            ],
            [
             1,
             "#f0f921"
            ]
           ]
          },
          "colorway": [
           "#636efa",
           "#EF553B",
           "#00cc96",
           "#ab63fa",
           "#FFA15A",
           "#19d3f3",
           "#FF6692",
           "#B6E880",
           "#FF97FF",
           "#FECB52"
          ],
          "font": {
           "color": "#2a3f5f"
          },
          "geo": {
           "bgcolor": "white",
           "lakecolor": "white",
           "landcolor": "#E5ECF6",
           "showlakes": true,
           "showland": true,
           "subunitcolor": "white"
          },
          "hoverlabel": {
           "align": "left"
          },
          "hovermode": "closest",
          "mapbox": {
           "style": "light"
          },
          "paper_bgcolor": "white",
          "plot_bgcolor": "#E5ECF6",
          "polar": {
           "angularaxis": {
            "gridcolor": "white",
            "linecolor": "white",
            "ticks": ""
           },
           "bgcolor": "#E5ECF6",
           "radialaxis": {
            "gridcolor": "white",
            "linecolor": "white",
            "ticks": ""
           }
          },
          "scene": {
           "xaxis": {
            "backgroundcolor": "#E5ECF6",
            "gridcolor": "white",
            "gridwidth": 2,
            "linecolor": "white",
            "showbackground": true,
            "ticks": "",
            "zerolinecolor": "white"
           },
           "yaxis": {
            "backgroundcolor": "#E5ECF6",
            "gridcolor": "white",
            "gridwidth": 2,
            "linecolor": "white",
            "showbackground": true,
            "ticks": "",
            "zerolinecolor": "white"
           },
           "zaxis": {
            "backgroundcolor": "#E5ECF6",
            "gridcolor": "white",
            "gridwidth": 2,
            "linecolor": "white",
            "showbackground": true,
            "ticks": "",
            "zerolinecolor": "white"
           }
          },
          "shapedefaults": {
           "line": {
            "color": "#2a3f5f"
           }
          },
          "ternary": {
           "aaxis": {
            "gridcolor": "white",
            "linecolor": "white",
            "ticks": ""
           },
           "baxis": {
            "gridcolor": "white",
            "linecolor": "white",
            "ticks": ""
           },
           "bgcolor": "#E5ECF6",
           "caxis": {
            "gridcolor": "white",
            "linecolor": "white",
            "ticks": ""
           }
          },
          "title": {
           "x": 0.05
          },
          "xaxis": {
           "automargin": true,
           "gridcolor": "white",
           "linecolor": "white",
           "ticks": "",
           "title": {
            "standoff": 15
           },
           "zerolinecolor": "white",
           "zerolinewidth": 2
          },
          "yaxis": {
           "automargin": true,
           "gridcolor": "white",
           "linecolor": "white",
           "ticks": "",
           "title": {
            "standoff": 15
           },
           "zerolinecolor": "white",
           "zerolinewidth": 2
          }
         }
        },
        "xaxis": {
         "anchor": "y",
         "domain": [
          0,
          1
         ],
         "title": {
          "text": "feature_names"
         }
        },
        "yaxis": {
         "anchor": "x",
         "domain": [
          0,
          1
         ],
         "title": {
          "text": "feature_importances"
         }
        }
       }
      },
      "text/html": [
       "<div>                            <div id=\"e1bc6867-307a-4f3b-accf-9768f95283fe\" class=\"plotly-graph-div\" style=\"height:525px; width:100%;\"></div>            <script type=\"text/javascript\">                require([\"plotly\"], function(Plotly) {                    window.PLOTLYENV=window.PLOTLYENV || {};                                    if (document.getElementById(\"e1bc6867-307a-4f3b-accf-9768f95283fe\")) {                    Plotly.newPlot(                        \"e1bc6867-307a-4f3b-accf-9768f95283fe\",                        [{\"alignmentgroup\":\"True\",\"hovertemplate\":\"feature_names=%{x}<br>feature_importances=%{marker.color}<extra></extra>\",\"legendgroup\":\"\",\"marker\":{\"color\":[0.1866493236665165,0.17972406910888164,0.13416497724369328,0.10157715889107416,0.06459606366674962,0.05829045186407192,0.052309768910029954,0.04049713110719069,0.034805234769167435,0.03461780566854871,0.03447583107264657,0.03278302965460595,0.023980045268951235,0.021529109107872552],\"coloraxis\":\"coloraxis\",\"pattern\":{\"shape\":\"\"}},\"name\":\"\",\"offsetgroup\":\"\",\"orientation\":\"v\",\"showlegend\":false,\"textposition\":\"auto\",\"x\":[\"AGE\",\"AMT_INCOME_TOTAL\",\"WORK_YEARS\",\"OCCUPATION_TYPE\",\"NAME_FAMILY_STATUS\",\"NAME_INCOME_TYPE\",\"NAME_EDUCATION_TYPE\",\"CNT_CHILDREN\",\"FLAG_OWN_REALTY\",\"NAME_HOUSING_TYPE\",\"FLAG_PHONE\",\"FLAG_OWN_CAR\",\"FLAG_WORK_PHONE\",\"FLAG_EMAIL\"],\"xaxis\":\"x\",\"y\":[0.1866493236665165,0.17972406910888164,0.13416497724369328,0.10157715889107416,0.06459606366674962,0.05829045186407192,0.052309768910029954,0.04049713110719069,0.034805234769167435,0.03461780566854871,0.03447583107264657,0.03278302965460595,0.023980045268951235,0.021529109107872552],\"yaxis\":\"y\",\"type\":\"bar\"}],                        {\"template\":{\"data\":{\"histogram2dcontour\":[{\"type\":\"histogram2dcontour\",\"colorbar\":{\"outlinewidth\":0,\"ticks\":\"\"},\"colorscale\":[[0.0,\"#0d0887\"],[0.1111111111111111,\"#46039f\"],[0.2222222222222222,\"#7201a8\"],[0.3333333333333333,\"#9c179e\"],[0.4444444444444444,\"#bd3786\"],[0.5555555555555556,\"#d8576b\"],[0.6666666666666666,\"#ed7953\"],[0.7777777777777778,\"#fb9f3a\"],[0.8888888888888888,\"#fdca26\"],[1.0,\"#f0f921\"]]}],\"choropleth\":[{\"type\":\"choropleth\",\"colorbar\":{\"outlinewidth\":0,\"ticks\":\"\"}}],\"histogram2d\":[{\"type\":\"histogram2d\",\"colorbar\":{\"outlinewidth\":0,\"ticks\":\"\"},\"colorscale\":[[0.0,\"#0d0887\"],[0.1111111111111111,\"#46039f\"],[0.2222222222222222,\"#7201a8\"],[0.3333333333333333,\"#9c179e\"],[0.4444444444444444,\"#bd3786\"],[0.5555555555555556,\"#d8576b\"],[0.6666666666666666,\"#ed7953\"],[0.7777777777777778,\"#fb9f3a\"],[0.8888888888888888,\"#fdca26\"],[1.0,\"#f0f921\"]]}],\"heatmap\":[{\"type\":\"heatmap\",\"colorbar\":{\"outlinewidth\":0,\"ticks\":\"\"},\"colorscale\":[[0.0,\"#0d0887\"],[0.1111111111111111,\"#46039f\"],[0.2222222222222222,\"#7201a8\"],[0.3333333333333333,\"#9c179e\"],[0.4444444444444444,\"#bd3786\"],[0.5555555555555556,\"#d8576b\"],[0.6666666666666666,\"#ed7953\"],[0.7777777777777778,\"#fb9f3a\"],[0.8888888888888888,\"#fdca26\"],[1.0,\"#f0f921\"]]}],\"heatmapgl\":[{\"type\":\"heatmapgl\",\"colorbar\":{\"outlinewidth\":0,\"ticks\":\"\"},\"colorscale\":[[0.0,\"#0d0887\"],[0.1111111111111111,\"#46039f\"],[0.2222222222222222,\"#7201a8\"],[0.3333333333333333,\"#9c179e\"],[0.4444444444444444,\"#bd3786\"],[0.5555555555555556,\"#d8576b\"],[0.6666666666666666,\"#ed7953\"],[0.7777777777777778,\"#fb9f3a\"],[0.8888888888888888,\"#fdca26\"],[1.0,\"#f0f921\"]]}],\"contourcarpet\":[{\"type\":\"contourcarpet\",\"colorbar\":{\"outlinewidth\":0,\"ticks\":\"\"}}],\"contour\":[{\"type\":\"contour\",\"colorbar\":{\"outlinewidth\":0,\"ticks\":\"\"},\"colorscale\":[[0.0,\"#0d0887\"],[0.1111111111111111,\"#46039f\"],[0.2222222222222222,\"#7201a8\"],[0.3333333333333333,\"#9c179e\"],[0.4444444444444444,\"#bd3786\"],[0.5555555555555556,\"#d8576b\"],[0.6666666666666666,\"#ed7953\"],[0.7777777777777778,\"#fb9f3a\"],[0.8888888888888888,\"#fdca26\"],[1.0,\"#f0f921\"]]}],\"surface\":[{\"type\":\"surface\",\"colorbar\":{\"outlinewidth\":0,\"ticks\":\"\"},\"colorscale\":[[0.0,\"#0d0887\"],[0.1111111111111111,\"#46039f\"],[0.2222222222222222,\"#7201a8\"],[0.3333333333333333,\"#9c179e\"],[0.4444444444444444,\"#bd3786\"],[0.5555555555555556,\"#d8576b\"],[0.6666666666666666,\"#ed7953\"],[0.7777777777777778,\"#fb9f3a\"],[0.8888888888888888,\"#fdca26\"],[1.0,\"#f0f921\"]]}],\"mesh3d\":[{\"type\":\"mesh3d\",\"colorbar\":{\"outlinewidth\":0,\"ticks\":\"\"}}],\"scatter\":[{\"fillpattern\":{\"fillmode\":\"overlay\",\"size\":10,\"solidity\":0.2},\"type\":\"scatter\"}],\"parcoords\":[{\"type\":\"parcoords\",\"line\":{\"colorbar\":{\"outlinewidth\":0,\"ticks\":\"\"}}}],\"scatterpolargl\":[{\"type\":\"scatterpolargl\",\"marker\":{\"colorbar\":{\"outlinewidth\":0,\"ticks\":\"\"}}}],\"bar\":[{\"error_x\":{\"color\":\"#2a3f5f\"},\"error_y\":{\"color\":\"#2a3f5f\"},\"marker\":{\"line\":{\"color\":\"#E5ECF6\",\"width\":0.5},\"pattern\":{\"fillmode\":\"overlay\",\"size\":10,\"solidity\":0.2}},\"type\":\"bar\"}],\"scattergeo\":[{\"type\":\"scattergeo\",\"marker\":{\"colorbar\":{\"outlinewidth\":0,\"ticks\":\"\"}}}],\"scatterpolar\":[{\"type\":\"scatterpolar\",\"marker\":{\"colorbar\":{\"outlinewidth\":0,\"ticks\":\"\"}}}],\"histogram\":[{\"marker\":{\"pattern\":{\"fillmode\":\"overlay\",\"size\":10,\"solidity\":0.2}},\"type\":\"histogram\"}],\"scattergl\":[{\"type\":\"scattergl\",\"marker\":{\"colorbar\":{\"outlinewidth\":0,\"ticks\":\"\"}}}],\"scatter3d\":[{\"type\":\"scatter3d\",\"line\":{\"colorbar\":{\"outlinewidth\":0,\"ticks\":\"\"}},\"marker\":{\"colorbar\":{\"outlinewidth\":0,\"ticks\":\"\"}}}],\"scattermapbox\":[{\"type\":\"scattermapbox\",\"marker\":{\"colorbar\":{\"outlinewidth\":0,\"ticks\":\"\"}}}],\"scatterternary\":[{\"type\":\"scatterternary\",\"marker\":{\"colorbar\":{\"outlinewidth\":0,\"ticks\":\"\"}}}],\"scattercarpet\":[{\"type\":\"scattercarpet\",\"marker\":{\"colorbar\":{\"outlinewidth\":0,\"ticks\":\"\"}}}],\"carpet\":[{\"aaxis\":{\"endlinecolor\":\"#2a3f5f\",\"gridcolor\":\"white\",\"linecolor\":\"white\",\"minorgridcolor\":\"white\",\"startlinecolor\":\"#2a3f5f\"},\"baxis\":{\"endlinecolor\":\"#2a3f5f\",\"gridcolor\":\"white\",\"linecolor\":\"white\",\"minorgridcolor\":\"white\",\"startlinecolor\":\"#2a3f5f\"},\"type\":\"carpet\"}],\"table\":[{\"cells\":{\"fill\":{\"color\":\"#EBF0F8\"},\"line\":{\"color\":\"white\"}},\"header\":{\"fill\":{\"color\":\"#C8D4E3\"},\"line\":{\"color\":\"white\"}},\"type\":\"table\"}],\"barpolar\":[{\"marker\":{\"line\":{\"color\":\"#E5ECF6\",\"width\":0.5},\"pattern\":{\"fillmode\":\"overlay\",\"size\":10,\"solidity\":0.2}},\"type\":\"barpolar\"}],\"pie\":[{\"automargin\":true,\"type\":\"pie\"}]},\"layout\":{\"autotypenumbers\":\"strict\",\"colorway\":[\"#636efa\",\"#EF553B\",\"#00cc96\",\"#ab63fa\",\"#FFA15A\",\"#19d3f3\",\"#FF6692\",\"#B6E880\",\"#FF97FF\",\"#FECB52\"],\"font\":{\"color\":\"#2a3f5f\"},\"hovermode\":\"closest\",\"hoverlabel\":{\"align\":\"left\"},\"paper_bgcolor\":\"white\",\"plot_bgcolor\":\"#E5ECF6\",\"polar\":{\"bgcolor\":\"#E5ECF6\",\"angularaxis\":{\"gridcolor\":\"white\",\"linecolor\":\"white\",\"ticks\":\"\"},\"radialaxis\":{\"gridcolor\":\"white\",\"linecolor\":\"white\",\"ticks\":\"\"}},\"ternary\":{\"bgcolor\":\"#E5ECF6\",\"aaxis\":{\"gridcolor\":\"white\",\"linecolor\":\"white\",\"ticks\":\"\"},\"baxis\":{\"gridcolor\":\"white\",\"linecolor\":\"white\",\"ticks\":\"\"},\"caxis\":{\"gridcolor\":\"white\",\"linecolor\":\"white\",\"ticks\":\"\"}},\"coloraxis\":{\"colorbar\":{\"outlinewidth\":0,\"ticks\":\"\"}},\"colorscale\":{\"sequential\":[[0.0,\"#0d0887\"],[0.1111111111111111,\"#46039f\"],[0.2222222222222222,\"#7201a8\"],[0.3333333333333333,\"#9c179e\"],[0.4444444444444444,\"#bd3786\"],[0.5555555555555556,\"#d8576b\"],[0.6666666666666666,\"#ed7953\"],[0.7777777777777778,\"#fb9f3a\"],[0.8888888888888888,\"#fdca26\"],[1.0,\"#f0f921\"]],\"sequentialminus\":[[0.0,\"#0d0887\"],[0.1111111111111111,\"#46039f\"],[0.2222222222222222,\"#7201a8\"],[0.3333333333333333,\"#9c179e\"],[0.4444444444444444,\"#bd3786\"],[0.5555555555555556,\"#d8576b\"],[0.6666666666666666,\"#ed7953\"],[0.7777777777777778,\"#fb9f3a\"],[0.8888888888888888,\"#fdca26\"],[1.0,\"#f0f921\"]],\"diverging\":[[0,\"#8e0152\"],[0.1,\"#c51b7d\"],[0.2,\"#de77ae\"],[0.3,\"#f1b6da\"],[0.4,\"#fde0ef\"],[0.5,\"#f7f7f7\"],[0.6,\"#e6f5d0\"],[0.7,\"#b8e186\"],[0.8,\"#7fbc41\"],[0.9,\"#4d9221\"],[1,\"#276419\"]]},\"xaxis\":{\"gridcolor\":\"white\",\"linecolor\":\"white\",\"ticks\":\"\",\"title\":{\"standoff\":15},\"zerolinecolor\":\"white\",\"automargin\":true,\"zerolinewidth\":2},\"yaxis\":{\"gridcolor\":\"white\",\"linecolor\":\"white\",\"ticks\":\"\",\"title\":{\"standoff\":15},\"zerolinecolor\":\"white\",\"automargin\":true,\"zerolinewidth\":2},\"scene\":{\"xaxis\":{\"backgroundcolor\":\"#E5ECF6\",\"gridcolor\":\"white\",\"linecolor\":\"white\",\"showbackground\":true,\"ticks\":\"\",\"zerolinecolor\":\"white\",\"gridwidth\":2},\"yaxis\":{\"backgroundcolor\":\"#E5ECF6\",\"gridcolor\":\"white\",\"linecolor\":\"white\",\"showbackground\":true,\"ticks\":\"\",\"zerolinecolor\":\"white\",\"gridwidth\":2},\"zaxis\":{\"backgroundcolor\":\"#E5ECF6\",\"gridcolor\":\"white\",\"linecolor\":\"white\",\"showbackground\":true,\"ticks\":\"\",\"zerolinecolor\":\"white\",\"gridwidth\":2}},\"shapedefaults\":{\"line\":{\"color\":\"#2a3f5f\"}},\"annotationdefaults\":{\"arrowcolor\":\"#2a3f5f\",\"arrowhead\":0,\"arrowwidth\":1},\"geo\":{\"bgcolor\":\"white\",\"landcolor\":\"#E5ECF6\",\"subunitcolor\":\"white\",\"showland\":true,\"showlakes\":true,\"lakecolor\":\"white\"},\"title\":{\"x\":0.05},\"mapbox\":{\"style\":\"light\"}}},\"xaxis\":{\"anchor\":\"y\",\"domain\":[0.0,1.0],\"title\":{\"text\":\"feature_names\"}},\"yaxis\":{\"anchor\":\"x\",\"domain\":[0.0,1.0],\"title\":{\"text\":\"feature_importances\"}},\"coloraxis\":{\"colorbar\":{\"title\":{\"text\":\"feature_importances\"}},\"colorscale\":[[0.0,\"#0d0887\"],[0.1111111111111111,\"#46039f\"],[0.2222222222222222,\"#7201a8\"],[0.3333333333333333,\"#9c179e\"],[0.4444444444444444,\"#bd3786\"],[0.5555555555555556,\"#d8576b\"],[0.6666666666666666,\"#ed7953\"],[0.7777777777777778,\"#fb9f3a\"],[0.8888888888888888,\"#fdca26\"],[1.0,\"#f0f921\"]]},\"legend\":{\"tracegroupgap\":0},\"margin\":{\"t\":60},\"barmode\":\"relative\"},                        {\"responsive\": true}                    ).then(function(){\n",
       "                            \n",
       "var gd = document.getElementById('e1bc6867-307a-4f3b-accf-9768f95283fe');\n",
       "var x = new MutationObserver(function (mutations, observer) {{\n",
       "        var display = window.getComputedStyle(gd).display;\n",
       "        if (!display || display === 'none') {{\n",
       "            console.log([gd, 'removed!']);\n",
       "            Plotly.purge(gd);\n",
       "            observer.disconnect();\n",
       "        }}\n",
       "}});\n",
       "\n",
       "// Listen for the removal of the full notebook cells\n",
       "var notebookContainer = gd.closest('#notebook-container');\n",
       "if (notebookContainer) {{\n",
       "    x.observe(notebookContainer, {childList: true});\n",
       "}}\n",
       "\n",
       "// Listen for the clearing of the current output cell\n",
       "var outputEl = gd.closest('.output');\n",
       "if (outputEl) {{\n",
       "    x.observe(outputEl, {childList: true});\n",
       "}}\n",
       "\n",
       "                        })                };                });            </script>        </div>"
      ]
     },
     "metadata": {},
     "output_type": "display_data"
    },
    {
     "name": "stderr",
     "output_type": "stream",
     "text": [
      "2023-08-08 22:08:38 INFO: FIN DE AJUSTE FINAL.\n"
     ]
    }
   ],
   "source": [
    "train_results = training_model(best_hyper_info=optim_results,\n",
    "                               df_name_sav=df_name,\n",
    "                               features_names=features_names,\n",
    "                               objective_name=objective_name,\n",
    "                               with_feature_importances=with_feature_importances,\n",
    "                               with_probability_density=with_probability_density,\n",
    "                               path=path)"
   ]
  },
  {
   "cell_type": "code",
   "execution_count": 7,
   "id": "537ef18d",
   "metadata": {},
   "outputs": [
    {
     "data": {
      "text/plain": [
       "hyperparameters            {'max_depth': None, 'max_leaf_nodes': 150, 'mi...\n",
       "cv_f1                                                               0.273298\n",
       "cv_precision                                                        0.176069\n",
       "cv_recall                                                           0.617898\n",
       "cv_m_c                                                               0.15633\n",
       "cv_f1_micro                                                         0.620785\n",
       "cv_precision_micro                                                  0.620785\n",
       "cv_recall_micro                                                     0.620785\n",
       "optimization_date                                 2023-08-08 21:35:38.102857\n",
       "ratio_balance                                                              1\n",
       "model_name                                            RandomForestClassifier\n",
       "k_folds                                                                    4\n",
       "test_size                                                               0.25\n",
       "final_confusion_matrix                                [[208, 124], [13, 31]]\n",
       "final_f1_score                                                      0.311558\n",
       "final_recall                                                        0.704545\n",
       "final_precision                                                          0.2\n",
       "final_roc_auc                                                       0.665526\n",
       "final_matthews_corrcoef                                             0.216187\n",
       "final_f_1_micro                                                     0.635638\n",
       "final_precision_micro                                               0.635638\n",
       "final_recall_micro                                                  0.635638\n",
       "train_date                                        2023-08-08 21:51:28.753178\n",
       "Name: 0, dtype: object"
      ]
     },
     "execution_count": 7,
     "metadata": {},
     "output_type": "execute_result"
    }
   ],
   "source": [
    "train_results"
   ]
  },
  {
   "cell_type": "markdown",
   "id": "7f89223d",
   "metadata": {},
   "source": [
    "# 2. SOBRE LA CALIBRACIÓN DEL MODELO"
   ]
  },
  {
   "cell_type": "code",
   "execution_count": 8,
   "id": "6df5d2bc",
   "metadata": {},
   "outputs": [],
   "source": [
    "X_test = pickle.load(open('../outputs/X_test.sav', 'rb'))\n",
    "y_test = pickle.load(open('../outputs/y_test.sav', 'rb'))\n",
    "clf = pickle.load(open('../outputs/risk_model.sav', 'rb'))\n",
    "probs_test = clf.predict_proba(X_test)[:, 1]"
   ]
  },
  {
   "cell_type": "code",
   "execution_count": null,
   "id": "52b872ca",
   "metadata": {},
   "outputs": [],
   "source": [
    "# Calcular el Brier Score\n",
    "brier_score = brier_score_loss(y_test, probs_test)\n",
    "print(\"Brier Score:\", brier_score)\n",
    "logloss = log_loss(y_test, probs_test)\n",
    "print(\"Brier Score:\", logloss)"
   ]
  },
  {
   "cell_type": "code",
   "execution_count": null,
   "id": "6a37ca80",
   "metadata": {},
   "outputs": [],
   "source": [
    "get_calibration_curve(y_test=y_test,\n",
    "                      probs_test=probs_test)"
   ]
  },
  {
   "cell_type": "markdown",
   "id": "2d8c7ee4",
   "metadata": {},
   "source": [
    "En efecto, se nota que el modelo está no equilibrado. Se aplicará un ajuste de las probabilidades."
   ]
  },
  {
   "cell_type": "code",
   "execution_count": null,
   "id": "b906dd91",
   "metadata": {},
   "outputs": [],
   "source": [
    "X_train = pickle.load(open('../outputs/X_train.sav', 'rb'))\n",
    "y_train = pickle.load(open('../outputs/y_train.sav', 'rb'))"
   ]
  },
  {
   "cell_type": "code",
   "execution_count": null,
   "id": "877759fa",
   "metadata": {},
   "outputs": [],
   "source": [
    "clf_isotonic = CalibratedClassifierCV(base_estimator=clf, cv='prefit', method='isotonic') #, method='isotonic'\n",
    "clf_isotonic.fit(X_train, y_train)"
   ]
  },
  {
   "cell_type": "code",
   "execution_count": null,
   "id": "598bc713",
   "metadata": {},
   "outputs": [],
   "source": [
    "probs_test_cal = clf_isotonic.predict_proba(X_test)[:, 1]"
   ]
  },
  {
   "cell_type": "code",
   "execution_count": null,
   "id": "c528a4e3",
   "metadata": {},
   "outputs": [],
   "source": [
    "get_calibration_curve(y_test=y_test,\n",
    "                      probs_test=probs_test_cal)"
   ]
  },
  {
   "cell_type": "code",
   "execution_count": null,
   "id": "50b5f052",
   "metadata": {},
   "outputs": [],
   "source": [
    "# Calcular el Brier Score\n",
    "brier_score = brier_score_loss(y_test, probs_test_cal)\n",
    "print(\"Brier Score:\", brier_score)\n",
    "logloss = log_loss(y_test, probs_test_cal)\n",
    "print(\"Brier Score:\", logloss)"
   ]
  },
  {
   "cell_type": "markdown",
   "id": "a12d108a",
   "metadata": {},
   "source": [
    "Hemos conseguido calibrar el modelo. Veamos cómo efecta esto a las métricas f1, recall y precision de testeo."
   ]
  },
  {
   "cell_type": "code",
   "execution_count": null,
   "id": "f9dbc106",
   "metadata": {},
   "outputs": [],
   "source": [
    "y_pred_uncalibrated = clf.predict(X_test)\n",
    "y_pred_calibrated = clf_isotonic.predict(X_test)"
   ]
  },
  {
   "cell_type": "code",
   "execution_count": null,
   "id": "ede80e97",
   "metadata": {},
   "outputs": [],
   "source": [
    "f_1 = f1_score(y_test, y_pred_uncalibrated)\n",
    "recall = recall_score(y_test, y_pred_uncalibrated)\n",
    "precision = precision_score(y_test, y_pred_uncalibrated)\n",
    "f_1_cal = f1_score(y_test, y_pred_calibrated)\n",
    "recall_cal = recall_score(y_test, y_pred_calibrated)\n",
    "precision_cal = precision_score(y_test, y_pred_calibrated)"
   ]
  },
  {
   "cell_type": "code",
   "execution_count": null,
   "id": "76688ea7",
   "metadata": {},
   "outputs": [],
   "source": [
    "print('f1 modelo Descalibrado: ', f_1)\n",
    "print('f1 modelo Calibrado: ', f_1_cal)\n",
    "print('recall modelo Descalibrado: ', recall)\n",
    "print('recall modelo Calibrado: ', recall_cal)\n",
    "print('precision modelo Descalibrado: ', precision)\n",
    "print('precision modelo Calibrado: ', precision_cal)"
   ]
  },
  {
   "cell_type": "markdown",
   "id": "849d03a4",
   "metadata": {},
   "source": [
    "Vemos que las métrica de recall y precision cambian de manera significativa en el recall y precisión. Habrá que pensar si la calibración del modelo es necesaria para los fines del problema."
   ]
  },
  {
   "cell_type": "markdown",
   "id": "1f20878c",
   "metadata": {},
   "source": [
    "# 2. COMPARACIÓN ENTRE TESTEO Y CV"
   ]
  },
  {
   "cell_type": "code",
   "execution_count": null,
   "id": "936f171e",
   "metadata": {},
   "outputs": [],
   "source": [
    "path='../outputs/'\n",
    "train_results = get_data(name_sav='final_model_info_RainTomorrow_1.sav', path=path)"
   ]
  },
  {
   "cell_type": "markdown",
   "id": "d30d9575",
   "metadata": {},
   "source": [
    "Veamos la estabilidad del modelo al comparar las métricas de __cross-validation__ y de __testeo__."
   ]
  },
  {
   "cell_type": "code",
   "execution_count": null,
   "id": "15ff35ca",
   "metadata": {},
   "outputs": [],
   "source": [
    "d_f1 = train_results[['cv_f1', 'final_f1_score']]\n",
    "d_rec = train_results[['cv_recall', 'final_recall']]\n",
    "d_prec =  train_results[['cv_precision', 'final_precision']]\n",
    "d_m_c = train_results[['cv_m_c', 'final_matthews_corrcoef']]\n",
    "display(d_f1, d_rec, d_prec, d_m_c)"
   ]
  },
  {
   "cell_type": "markdown",
   "id": "cd21493d",
   "metadata": {},
   "source": [
    "Se puede observar que las métricas son similares entre ellas, lo cual se puede considerar como \"una buena señal\" y sugiere que el modelo generaliza de manera razonable para datos no vistos."
   ]
  },
  {
   "cell_type": "markdown",
   "id": "41a0a8dd",
   "metadata": {},
   "source": [
    "# 3. SOBRE LAS MÉTRICAS DE TESTEO"
   ]
  },
  {
   "cell_type": "markdown",
   "id": "50b8f4f4",
   "metadata": {},
   "source": [
    "Estas son las métricas asociadas al conjunto de __testeo__."
   ]
  },
  {
   "cell_type": "code",
   "execution_count": null,
   "id": "5468a582",
   "metadata": {},
   "outputs": [],
   "source": [
    "train_results[['final_recall', 'final_precision',\n",
    "               'final_accuracy', 'final_f1_score', 'final_roc_auc',\n",
    "               'final_matthews_corrcoef', 'final_recall_maj', 'final_precision_maj']] "
   ]
  },
  {
   "cell_type": "markdown",
   "id": "f9b2d33e",
   "metadata": {},
   "source": [
    "De las métricas de __testeo__ se dan algunas observaciones:\n",
    "1. __`final_recall`__ `= 0.776993`, quiere decir que la gran mayoría de las muestras pertenecientes a la clase minoritaria, es decir, \"SI\" va a llover mañana, son clasificadas correctamente.\n",
    "2. __`final_precision`__ `= 0.531523`, quiere decir que si bien se localiza correctamente a la gran mayoría de la clase minoritaria, \"el precio que hay que pagar\" para reconocerlos es el de tener a muchos falsos positivos. De hecho, se puede decir que del total de muestras que el modelo dice que son \"SI\", en realidad `(1 - 0.531523)% = 46.8447%` NO LO SON.\n",
    "3. __`final_f1_score`__ `= 0.631234`, quiere decir que hay un equilibrio pobre entre __`recall`__ y __`precision`__. Algo similar puede concluirse observando el __`final_matthews_corrcoef`__.\n",
    "4.   __`final_recall_maj`__ `= 0.796674` y __`final_precision_maj`__ `= 0.923268`, son las contrapartes de __`recall`__ y __`precision`__ pero para la clase mayoritaria. Naturalmente, a la clase mayoritaria le va bien.\n",
    "4. __`final_roc_auc`__ `= 0.786834`, es el área bajo la curva ROC. Informa que el modelo clasifica razonablemente bien a la mayoría tanto de la clase minoritaria como de la mayoritaria (observar los respectivos __`recalls`__), pero no toma en cuenta el escenario de desequilibro extremo cuya influencia se ve reflejada en el __`final_precision`__."
   ]
  },
  {
   "cell_type": "markdown",
   "id": "be3e99f7",
   "metadata": {},
   "source": [
    "# 4. COMENTARIOS FINALES"
   ]
  },
  {
   "cell_type": "markdown",
   "id": "9fff0e31",
   "metadata": {},
   "source": [
    "1. Los scores de decisión, interpretados como \"probabliddades\", que brindan algunos algoritmos de clasificación como el `HistGradientBoostingClassifier`, muchas veces aún no pueden interpretarse como verdaderas probabilidades. Necesitan pasar por un proceso de ajuste. Siendo así, queda pendiente revisar si el modelo final está __calibrado__. \n",
    "2. El \"modelo final\", más bien el objeto conformado por una __Pipiline__ de procedimientos cuyo paso final es el estimador ajustado, ya tiene integrado preprocesamientos como la codificación de variables categóricas.\n",
    "3. Pueden consultarse los gráficos obtenidos en la carpeta __outputs/__. Sus nombres son:\n",
    "    * __final_feature_importances_RainTomorrow_1.html__: exhibe el histograma en orden descendente de las feature importances. Al igual que con la __información mutua__, la variable `Humidity3pm` ocupa el primer lugar de importancia.\n",
    "    * __final_density_RainTomorrow_1.html__: exhibe el histograma de las probabilidades de testeo.\n",
    "4. Se decide, por el momento, llevar a producción al modelo final actual a reserva de mejorar su rendimiento, sobretodo enfocando los esfuerzos para mejorar el __f1__ y, más precisamente, el __precision__."
   ]
  },
  {
   "cell_type": "code",
   "execution_count": null,
   "id": "67eb4858",
   "metadata": {},
   "outputs": [],
   "source": []
  }
 ],
 "metadata": {
  "kernelspec": {
   "display_name": "train_Aus",
   "language": "python",
   "name": "train_aus"
  },
  "language_info": {
   "codemirror_mode": {
    "name": "ipython",
    "version": 3
   },
   "file_extension": ".py",
   "mimetype": "text/x-python",
   "name": "python",
   "nbconvert_exporter": "python",
   "pygments_lexer": "ipython3",
   "version": "3.8.12"
  }
 },
 "nbformat": 4,
 "nbformat_minor": 5
}
