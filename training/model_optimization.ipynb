{
 "cells": [
  {
   "cell_type": "code",
   "execution_count": 1,
   "id": "dede1677",
   "metadata": {},
   "outputs": [],
   "source": [
    "# !/usr/bin/env python\n",
    "# coding: utf-8\n",
    "\n",
    "import warnings\n",
    "warnings.simplefilter(\"ignore\")\n",
    "from training_functions import *"
   ]
  },
  {
   "cell_type": "markdown",
   "id": "4fec758e",
   "metadata": {},
   "source": [
    "Se ha hecho uso de muchos de los procedimientos comentados en la competencia de modelos pero, aquí, han sido generalizados vía funciones contenidas en el script __training_functions.py__. Cada una de estas funciones tiene una descripción de la labor que llevan a cabo. \n",
    "\n",
    "En aquel script, la función __*optimization_model*__ realiza la optimización del modelo."
   ]
  },
  {
   "cell_type": "markdown",
   "id": "77f2507c",
   "metadata": {},
   "source": [
    "# 1. ESPACIO HIPERPARAMETRAL."
   ]
  },
  {
   "cell_type": "markdown",
   "id": "23cef40f",
   "metadata": {},
   "source": [
    "El `RandomForest`  se basa en la idea de construir múltiples árboles de decisión durante el entrenamiento y luego combinar sus resultados para obtener una predicción más precisa y robusta."
   ]
  },
  {
   "cell_type": "markdown",
   "id": "28949502",
   "metadata": {},
   "source": [
    "Se ha decidido trabajar con los siguientes hiperparámetros del estimador. \n",
    "1. __`n_estimators`:__  Número de árboles de decisión que se van a construir en el bosque aleatorio.\n",
    "Mientras mayor sea, mejor ajuste aunque puede dar paso al sobreajuste.\n",
    "5. __`max_depth`:__ Es la profundidad máxima permitida en los árboles. \\\n",
    "Ayuda a controlar la complejidad del modelo.\n",
    "3. __`min_samples_leaf`:__ Número mínimo de muestras en cada hoja (nodos finales). \\\n",
    "Un valor alto puede evitar divisiones que sean demasiado específicas evitando a su vez el sobreajuste.\n",
    "3. __`min_samples_split:__ Número mínimo de muestras requeridas para realizar una división en un nodo.\n",
    "Ayuda a controlar la complejidad y el sobreajuste.\n",
    "3. __`max_leaf_nodes`:__ Establece el número máximo de nodos hoja permitidos en cada árbol. \n",
    "Limitar la cantidad de hojas puede ayudar a evitar árboles muy profundos y complejos."
   ]
  },
  {
   "cell_type": "markdown",
   "id": "dc2e2ec7",
   "metadata": {},
   "source": [
    "Por supuesto, hay más hiperparámetros que podemos controlar. Sin embargo, decidimos trabajar con estos últimos por ser los más representativos al momento de construir árboles de decisión."
   ]
  },
  {
   "cell_type": "markdown",
   "id": "41a246f3",
   "metadata": {},
   "source": [
    "El __espacio hiperparametral__ está conformado por todas las combinaciones de valores de hiperparámetros, dado un rango de acción para cada uno de ellos. A continuación se exhibe la configuración del espacio hiperparametral que se ha usado para la optimización."
   ]
  },
  {
   "cell_type": "code",
   "execution_count": 2,
   "id": "1bbfb160",
   "metadata": {},
   "outputs": [],
   "source": [
    "space = {'random_state': [5000],\n",
    "         'n_estimators': [100, 150, 200, 300, 600, 800],\n",
    "         'max_depth': [None, 1],\n",
    "         'min_samples_leaf': [1, 2, 3, 10, 20],\n",
    "         'min_samples_split': [2, 3, 10, 30],\n",
    "         'max_leaf_nodes': [None, 10, 70, 100, 150]}"
   ]
  },
  {
   "cell_type": "markdown",
   "id": "b3595f17",
   "metadata": {},
   "source": [
    "La elección de esta configuración es meramente arbitraria, aunque la idea es considerar tanto valores altos como valores bajos de los hiperparámetros, para luego afinar los rangos de búsqueda en otras iteraciones de optimización.\n",
    "\n",
    "Dado que el espacio hiperparámetral es limitado, la función __optimization_model__ utiliza un `GridSearchCV`, el cual recorrerá todo el espacio y aplicará un __cross-validation__ por cada punto en ese espacio. El total de puntos que recorrerá es de 1200. Si el espacio considerara rangos mucho más grandes de valores o bien considerara rangos continuos, entonces se debería utilizar un `RandomizedSearchCV` o un `BayesSearchCV`.\n",
    "\n",
    "El sobreajuste del modelo se estará minitoriando al comparar las métricas de __cross-validation__ y las de __testeo__. Si éstas últimas sufren un deterioro importante, entonces habrá un serio problema de sobreajuste. Sin embargo, de acuerdo a experiencia propia, las métricas de __cross-validation__ suelen informar muy bien sobre la estabilidad general del modelo."
   ]
  },
  {
   "cell_type": "markdown",
   "id": "1eb0ebb0",
   "metadata": {},
   "source": [
    "__Nota__: Aunque el modelo ha sido optimizado con el espacio hiperparametral anterior, en el script de funciones se ha dejado una versión más pequeña, esto para fines de prueba de código. Este espacio más reducido cuenta solo con 8 puntos de combinación."
   ]
  },
  {
   "cell_type": "markdown",
   "id": "e8e60cbc",
   "metadata": {},
   "source": [
    "# 2. CONFIGURACIONES GENERALES."
   ]
  },
  {
   "cell_type": "markdown",
   "id": "8fd26c63",
   "metadata": {},
   "source": [
    "Los parámetros con controlan la función __optimization_model__ (muchos de ellos ya han sido explicados en la competencia de modelos) son:"
   ]
  },
  {
   "cell_type": "code",
   "execution_count": 3,
   "id": "76621570",
   "metadata": {},
   "outputs": [],
   "source": [
    "# Localización de los archivos de salida.\n",
    "path = '../outputs/'\n",
    "# Son del binarios que contiene la data de entrenamiento.\n",
    "df_name = 'df_HOMO_CLASS.sav'\n",
    "# Lista de nombres de features y nombre de la variable objetivo.\n",
    "features_names =  ['FLAG_OWN_CAR',\n",
    "                   'FLAG_OWN_REALTY',\n",
    "                   'NAME_INCOME_TYPE',\n",
    "                   'NAME_EDUCATION_TYPE',\n",
    "                   'NAME_FAMILY_STATUS',\n",
    "                   'NAME_HOUSING_TYPE',\n",
    "                   'OCCUPATION_TYPE',\n",
    "                   'FLAG_WORK_PHONE',\n",
    "                   'FLAG_PHONE',\n",
    "                   'FLAG_EMAIL',\n",
    "                   'AGE',\n",
    "                   'CNT_CHILDREN',\n",
    "                   'AMT_INCOME_TOTAL',\n",
    "                   'WORK_YEARS']\n",
    "objective_name = 'STATUS'\n",
    "# Es el nombre del modelo ganador.\n",
    "model_name = 'RandomForestClassifier'\n",
    "# Es la semilla que gobernará los procesos.\n",
    "seed = 5000\n",
    "# Es la estrategia de submuestreo.\n",
    "ratio_balance = 1\n",
    "# Es el número de folds que conformarán el proceso de cross-validation.\n",
    "k_folds = 4\n",
    "# Un valor más grande hace más informativo el proceso de optimización.\n",
    "verbose = 10\n",
    "# Tamaño del conjunto de prueba.\n",
    "test_size = 0.25\n",
    "# Es la métrica de cross-validación que se optimizará. Por default es el f1.\n",
    "# La combinación de hiperparámetros que obtenga el mayor valor de cv_f1 configurará el modelo optimizado final.\n",
    "optimized_metric='cv_f1'\n",
    "# Guarda en un binario la información del modelo optimizado.\n",
    "save_best_info=False\n",
    "# Ubicación de los binarios que contienen la data necesaria.\n",
    "path='../outputs/'"
   ]
  },
  {
   "cell_type": "markdown",
   "id": "ceb9ca42",
   "metadata": {},
   "source": [
    "# 3. OPTIMIZACIÓN Y GUARDADO DE INFORMACIÓN."
   ]
  },
  {
   "cell_type": "markdown",
   "id": "7b82c70b",
   "metadata": {},
   "source": [
    "Dados los valores anteriores, procedemos a comenzar la optimización."
   ]
  },
  {
   "cell_type": "code",
   "execution_count": 4,
   "id": "14202a47",
   "metadata": {},
   "outputs": [
    {
     "name": "stderr",
     "output_type": "stream",
     "text": [
      "2023-08-13 19:59:34 INFO: PROCESO DE OPTIMIZACIÓN.\n",
      "2023-08-13 19:59:34 INFO: CONFIGURACIÓN GENERALES.\n",
      "2023-08-13 19:59:34 INFO: TUBERÍAS PARA PROCESAMIENTO Y MUESTREO.\n",
      "2023-08-13 19:59:34 INFO: CONFIGURACIÓN PARA CV Y SEARCH.\n",
      "2023-08-13 19:59:34 INFO: COMIENZA OPTIMIZACIÓN.\n"
     ]
    },
    {
     "name": "stdout",
     "output_type": "stream",
     "text": [
      "Fitting 4 folds for each of 8 candidates, totalling 32 fits\n",
      "[CV 1/4; 1/8] START estimator__max_depth=None, estimator__max_leaf_nodes=None, estimator__min_samples_leaf=1, estimator__min_samples_split=2, estimator__n_estimators=100, estimator__random_state=5000\n",
      "[CV 1/4; 1/8] END estimator__max_depth=None, estimator__max_leaf_nodes=None, estimator__min_samples_leaf=1, estimator__min_samples_split=2, estimator__n_estimators=100, estimator__random_state=5000; f1: (test=0.261) f1_micro: (test=0.624) m_c: (test=0.171) precision: (test=0.163) precision_micro: (test=0.624) recall: (test=0.660) recall_micro: (test=0.624) total time=   0.3s\n",
      "[CV 2/4; 1/8] START estimator__max_depth=None, estimator__max_leaf_nodes=None, estimator__min_samples_leaf=1, estimator__min_samples_split=2, estimator__n_estimators=100, estimator__random_state=5000\n",
      "[CV 2/4; 1/8] END estimator__max_depth=None, estimator__max_leaf_nodes=None, estimator__min_samples_leaf=1, estimator__min_samples_split=2, estimator__n_estimators=100, estimator__random_state=5000; f1: (test=0.217) f1_micro: (test=0.589) m_c: (test=0.098) precision: (test=0.134) precision_micro: (test=0.589) recall: (test=0.570) recall_micro: (test=0.589) total time=   0.3s\n",
      "[CV 3/4; 1/8] START estimator__max_depth=None, estimator__max_leaf_nodes=None, estimator__min_samples_leaf=1, estimator__min_samples_split=2, estimator__n_estimators=100, estimator__random_state=5000\n",
      "[CV 3/4; 1/8] END estimator__max_depth=None, estimator__max_leaf_nodes=None, estimator__min_samples_leaf=1, estimator__min_samples_split=2, estimator__n_estimators=100, estimator__random_state=5000; f1: (test=0.248) f1_micro: (test=0.629) m_c: (test=0.149) precision: (test=0.155) precision_micro: (test=0.629) recall: (test=0.613) recall_micro: (test=0.629) total time=   0.3s\n",
      "[CV 4/4; 1/8] START estimator__max_depth=None, estimator__max_leaf_nodes=None, estimator__min_samples_leaf=1, estimator__min_samples_split=2, estimator__n_estimators=100, estimator__random_state=5000\n",
      "[CV 4/4; 1/8] END estimator__max_depth=None, estimator__max_leaf_nodes=None, estimator__min_samples_leaf=1, estimator__min_samples_split=2, estimator__n_estimators=100, estimator__random_state=5000; f1: (test=0.237) f1_micro: (test=0.642) m_c: (test=0.130) precision: (test=0.151) precision_micro: (test=0.642) recall: (test=0.559) recall_micro: (test=0.642) total time=   0.3s\n",
      "[CV 1/4; 2/8] START estimator__max_depth=None, estimator__max_leaf_nodes=None, estimator__min_samples_leaf=1, estimator__min_samples_split=2, estimator__n_estimators=800, estimator__random_state=5000\n",
      "[CV 1/4; 2/8] END estimator__max_depth=None, estimator__max_leaf_nodes=None, estimator__min_samples_leaf=1, estimator__min_samples_split=2, estimator__n_estimators=800, estimator__random_state=5000; f1: (test=0.274) f1_micro: (test=0.630) m_c: (test=0.193) precision: (test=0.171) precision_micro: (test=0.630) recall: (test=0.691) recall_micro: (test=0.630) total time=   1.3s\n",
      "[CV 2/4; 2/8] START estimator__max_depth=None, estimator__max_leaf_nodes=None, estimator__min_samples_leaf=1, estimator__min_samples_split=2, estimator__n_estimators=800, estimator__random_state=5000\n",
      "[CV 2/4; 2/8] END estimator__max_depth=None, estimator__max_leaf_nodes=None, estimator__min_samples_leaf=1, estimator__min_samples_split=2, estimator__n_estimators=800, estimator__random_state=5000; f1: (test=0.222) f1_micro: (test=0.593) m_c: (test=0.106) precision: (test=0.137) precision_micro: (test=0.593) recall: (test=0.581) recall_micro: (test=0.593) total time=   1.3s\n",
      "[CV 3/4; 2/8] START estimator__max_depth=None, estimator__max_leaf_nodes=None, estimator__min_samples_leaf=1, estimator__min_samples_split=2, estimator__n_estimators=800, estimator__random_state=5000\n",
      "[CV 3/4; 2/8] END estimator__max_depth=None, estimator__max_leaf_nodes=None, estimator__min_samples_leaf=1, estimator__min_samples_split=2, estimator__n_estimators=800, estimator__random_state=5000; f1: (test=0.255) f1_micro: (test=0.643) m_c: (test=0.160) precision: (test=0.161) precision_micro: (test=0.643) recall: (test=0.613) recall_micro: (test=0.643) total time=   1.3s\n",
      "[CV 4/4; 2/8] START estimator__max_depth=None, estimator__max_leaf_nodes=None, estimator__min_samples_leaf=1, estimator__min_samples_split=2, estimator__n_estimators=800, estimator__random_state=5000\n",
      "[CV 4/4; 2/8] END estimator__max_depth=None, estimator__max_leaf_nodes=None, estimator__min_samples_leaf=1, estimator__min_samples_split=2, estimator__n_estimators=800, estimator__random_state=5000; f1: (test=0.235) f1_micro: (test=0.644) m_c: (test=0.126) precision: (test=0.150) precision_micro: (test=0.644) recall: (test=0.548) recall_micro: (test=0.644) total time=   1.3s\n",
      "[CV 1/4; 3/8] START estimator__max_depth=None, estimator__max_leaf_nodes=None, estimator__min_samples_leaf=1, estimator__min_samples_split=30, estimator__n_estimators=100, estimator__random_state=5000\n",
      "[CV 1/4; 3/8] END estimator__max_depth=None, estimator__max_leaf_nodes=None, estimator__min_samples_leaf=1, estimator__min_samples_split=30, estimator__n_estimators=100, estimator__random_state=5000; f1: (test=0.236) f1_micro: (test=0.589) m_c: (test=0.129) precision: (test=0.145) precision_micro: (test=0.589) recall: (test=0.628) recall_micro: (test=0.589) total time=   0.4s\n",
      "[CV 2/4; 3/8] START estimator__max_depth=None, estimator__max_leaf_nodes=None, estimator__min_samples_leaf=1, estimator__min_samples_split=30, estimator__n_estimators=100, estimator__random_state=5000\n",
      "[CV 2/4; 3/8] END estimator__max_depth=None, estimator__max_leaf_nodes=None, estimator__min_samples_leaf=1, estimator__min_samples_split=30, estimator__n_estimators=100, estimator__random_state=5000; f1: (test=0.183) f1_micro: (test=0.541) m_c: (test=0.036) precision: (test=0.111) precision_micro: (test=0.541) recall: (test=0.516) recall_micro: (test=0.541) total time=   0.3s\n",
      "[CV 3/4; 3/8] START estimator__max_depth=None, estimator__max_leaf_nodes=None, estimator__min_samples_leaf=1, estimator__min_samples_split=30, estimator__n_estimators=100, estimator__random_state=5000\n",
      "[CV 3/4; 3/8] END estimator__max_depth=None, estimator__max_leaf_nodes=None, estimator__min_samples_leaf=1, estimator__min_samples_split=30, estimator__n_estimators=100, estimator__random_state=5000; f1: (test=0.237) f1_micro: (test=0.606) m_c: (test=0.133) precision: (test=0.147) precision_micro: (test=0.606) recall: (test=0.613) recall_micro: (test=0.606) total time=   0.2s\n",
      "[CV 4/4; 3/8] START estimator__max_depth=None, estimator__max_leaf_nodes=None, estimator__min_samples_leaf=1, estimator__min_samples_split=30, estimator__n_estimators=100, estimator__random_state=5000\n",
      "[CV 4/4; 3/8] END estimator__max_depth=None, estimator__max_leaf_nodes=None, estimator__min_samples_leaf=1, estimator__min_samples_split=30, estimator__n_estimators=100, estimator__random_state=5000; f1: (test=0.242) f1_micro: (test=0.616) m_c: (test=0.140) precision: (test=0.150) precision_micro: (test=0.616) recall: (test=0.613) recall_micro: (test=0.616) total time=   0.2s\n",
      "[CV 1/4; 4/8] START estimator__max_depth=None, estimator__max_leaf_nodes=None, estimator__min_samples_leaf=1, estimator__min_samples_split=30, estimator__n_estimators=800, estimator__random_state=5000\n",
      "[CV 1/4; 4/8] END estimator__max_depth=None, estimator__max_leaf_nodes=None, estimator__min_samples_leaf=1, estimator__min_samples_split=30, estimator__n_estimators=800, estimator__random_state=5000; f1: (test=0.241) f1_micro: (test=0.609) m_c: (test=0.137) precision: (test=0.150) precision_micro: (test=0.609) recall: (test=0.617) recall_micro: (test=0.609) total time=   1.4s\n",
      "[CV 2/4; 4/8] START estimator__max_depth=None, estimator__max_leaf_nodes=None, estimator__min_samples_leaf=1, estimator__min_samples_split=30, estimator__n_estimators=800, estimator__random_state=5000\n",
      "[CV 2/4; 4/8] END estimator__max_depth=None, estimator__max_leaf_nodes=None, estimator__min_samples_leaf=1, estimator__min_samples_split=30, estimator__n_estimators=800, estimator__random_state=5000; f1: (test=0.194) f1_micro: (test=0.571) m_c: (test=0.056) precision: (test=0.119) precision_micro: (test=0.571) recall: (test=0.516) recall_micro: (test=0.571) total time=   1.2s\n",
      "[CV 3/4; 4/8] START estimator__max_depth=None, estimator__max_leaf_nodes=None, estimator__min_samples_leaf=1, estimator__min_samples_split=30, estimator__n_estimators=800, estimator__random_state=5000\n"
     ]
    },
    {
     "name": "stdout",
     "output_type": "stream",
     "text": [
      "[CV 3/4; 4/8] END estimator__max_depth=None, estimator__max_leaf_nodes=None, estimator__min_samples_leaf=1, estimator__min_samples_split=30, estimator__n_estimators=800, estimator__random_state=5000; f1: (test=0.249) f1_micro: (test=0.626) m_c: (test=0.153) precision: (test=0.156) precision_micro: (test=0.626) recall: (test=0.624) recall_micro: (test=0.626) total time=   1.2s\n",
      "[CV 4/4; 4/8] START estimator__max_depth=None, estimator__max_leaf_nodes=None, estimator__min_samples_leaf=1, estimator__min_samples_split=30, estimator__n_estimators=800, estimator__random_state=5000\n",
      "[CV 4/4; 4/8] END estimator__max_depth=None, estimator__max_leaf_nodes=None, estimator__min_samples_leaf=1, estimator__min_samples_split=30, estimator__n_estimators=800, estimator__random_state=5000; f1: (test=0.234) f1_micro: (test=0.621) m_c: (test=0.127) precision: (test=0.147) precision_micro: (test=0.621) recall: (test=0.581) recall_micro: (test=0.621) total time=   1.2s\n",
      "[CV 1/4; 5/8] START estimator__max_depth=None, estimator__max_leaf_nodes=None, estimator__min_samples_leaf=2, estimator__min_samples_split=2, estimator__n_estimators=100, estimator__random_state=5000\n",
      "[CV 1/4; 5/8] END estimator__max_depth=None, estimator__max_leaf_nodes=None, estimator__min_samples_leaf=2, estimator__min_samples_split=2, estimator__n_estimators=100, estimator__random_state=5000; f1: (test=0.259) f1_micro: (test=0.602) m_c: (test=0.172) precision: (test=0.160) precision_micro: (test=0.602) recall: (test=0.691) recall_micro: (test=0.602) total time=   0.3s\n",
      "[CV 2/4; 5/8] START estimator__max_depth=None, estimator__max_leaf_nodes=None, estimator__min_samples_leaf=2, estimator__min_samples_split=2, estimator__n_estimators=100, estimator__random_state=5000\n",
      "[CV 2/4; 5/8] END estimator__max_depth=None, estimator__max_leaf_nodes=None, estimator__min_samples_leaf=2, estimator__min_samples_split=2, estimator__n_estimators=100, estimator__random_state=5000; f1: (test=0.201) f1_micro: (test=0.557) m_c: (test=0.070) precision: (test=0.123) precision_micro: (test=0.557) recall: (test=0.559) recall_micro: (test=0.557) total time=   0.3s\n",
      "[CV 3/4; 5/8] START estimator__max_depth=None, estimator__max_leaf_nodes=None, estimator__min_samples_leaf=2, estimator__min_samples_split=2, estimator__n_estimators=100, estimator__random_state=5000\n",
      "[CV 3/4; 5/8] END estimator__max_depth=None, estimator__max_leaf_nodes=None, estimator__min_samples_leaf=2, estimator__min_samples_split=2, estimator__n_estimators=100, estimator__random_state=5000; f1: (test=0.245) f1_micro: (test=0.617) m_c: (test=0.146) precision: (test=0.153) precision_micro: (test=0.617) recall: (test=0.624) recall_micro: (test=0.617) total time=   0.3s\n",
      "[CV 4/4; 5/8] START estimator__max_depth=None, estimator__max_leaf_nodes=None, estimator__min_samples_leaf=2, estimator__min_samples_split=2, estimator__n_estimators=100, estimator__random_state=5000\n",
      "[CV 4/4; 5/8] END estimator__max_depth=None, estimator__max_leaf_nodes=None, estimator__min_samples_leaf=2, estimator__min_samples_split=2, estimator__n_estimators=100, estimator__random_state=5000; f1: (test=0.229) f1_micro: (test=0.631) m_c: (test=0.116) precision: (test=0.144) precision_micro: (test=0.631) recall: (test=0.548) recall_micro: (test=0.631) total time=   0.3s\n",
      "[CV 1/4; 6/8] START estimator__max_depth=None, estimator__max_leaf_nodes=None, estimator__min_samples_leaf=2, estimator__min_samples_split=2, estimator__n_estimators=800, estimator__random_state=5000\n",
      "[CV 1/4; 6/8] END estimator__max_depth=None, estimator__max_leaf_nodes=None, estimator__min_samples_leaf=2, estimator__min_samples_split=2, estimator__n_estimators=800, estimator__random_state=5000; f1: (test=0.268) f1_micro: (test=0.620) m_c: (test=0.185) precision: (test=0.166) precision_micro: (test=0.620) recall: (test=0.691) recall_micro: (test=0.620) total time=   1.2s\n",
      "[CV 2/4; 6/8] START estimator__max_depth=None, estimator__max_leaf_nodes=None, estimator__min_samples_leaf=2, estimator__min_samples_split=2, estimator__n_estimators=800, estimator__random_state=5000\n",
      "[CV 2/4; 6/8] END estimator__max_depth=None, estimator__max_leaf_nodes=None, estimator__min_samples_leaf=2, estimator__min_samples_split=2, estimator__n_estimators=800, estimator__random_state=5000; f1: (test=0.211) f1_micro: (test=0.574) m_c: (test=0.087) precision: (test=0.129) precision_micro: (test=0.574) recall: (test=0.570) recall_micro: (test=0.574) total time=   1.2s\n",
      "[CV 3/4; 6/8] START estimator__max_depth=None, estimator__max_leaf_nodes=None, estimator__min_samples_leaf=2, estimator__min_samples_split=2, estimator__n_estimators=800, estimator__random_state=5000\n",
      "[CV 3/4; 6/8] END estimator__max_depth=None, estimator__max_leaf_nodes=None, estimator__min_samples_leaf=2, estimator__min_samples_split=2, estimator__n_estimators=800, estimator__random_state=5000; f1: (test=0.267) f1_micro: (test=0.641) m_c: (test=0.181) precision: (test=0.168) precision_micro: (test=0.641) recall: (test=0.656) recall_micro: (test=0.641) total time=   1.5s\n",
      "[CV 4/4; 6/8] START estimator__max_depth=None, estimator__max_leaf_nodes=None, estimator__min_samples_leaf=2, estimator__min_samples_split=2, estimator__n_estimators=800, estimator__random_state=5000\n",
      "[CV 4/4; 6/8] END estimator__max_depth=None, estimator__max_leaf_nodes=None, estimator__min_samples_leaf=2, estimator__min_samples_split=2, estimator__n_estimators=800, estimator__random_state=5000; f1: (test=0.252) f1_micro: (test=0.656) m_c: (test=0.153) precision: (test=0.161) precision_micro: (test=0.656) recall: (test=0.581) recall_micro: (test=0.656) total time=   1.3s\n",
      "[CV 1/4; 7/8] START estimator__max_depth=None, estimator__max_leaf_nodes=None, estimator__min_samples_leaf=2, estimator__min_samples_split=30, estimator__n_estimators=100, estimator__random_state=5000\n",
      "[CV 1/4; 7/8] END estimator__max_depth=None, estimator__max_leaf_nodes=None, estimator__min_samples_leaf=2, estimator__min_samples_split=30, estimator__n_estimators=100, estimator__random_state=5000; f1: (test=0.240) f1_micro: (test=0.592) m_c: (test=0.136) precision: (test=0.147) precision_micro: (test=0.592) recall: (test=0.638) recall_micro: (test=0.592) total time=   0.2s\n",
      "[CV 2/4; 7/8] START estimator__max_depth=None, estimator__max_leaf_nodes=None, estimator__min_samples_leaf=2, estimator__min_samples_split=30, estimator__n_estimators=100, estimator__random_state=5000\n",
      "[CV 2/4; 7/8] END estimator__max_depth=None, estimator__max_leaf_nodes=None, estimator__min_samples_leaf=2, estimator__min_samples_split=30, estimator__n_estimators=100, estimator__random_state=5000; f1: (test=0.186) f1_micro: (test=0.549) m_c: (test=0.042) precision: (test=0.113) precision_micro: (test=0.549) recall: (test=0.516) recall_micro: (test=0.549) total time=   0.2s\n",
      "[CV 3/4; 7/8] START estimator__max_depth=None, estimator__max_leaf_nodes=None, estimator__min_samples_leaf=2, estimator__min_samples_split=30, estimator__n_estimators=100, estimator__random_state=5000\n",
      "[CV 3/4; 7/8] END estimator__max_depth=None, estimator__max_leaf_nodes=None, estimator__min_samples_leaf=2, estimator__min_samples_split=30, estimator__n_estimators=100, estimator__random_state=5000; f1: (test=0.245) f1_micro: (test=0.609) m_c: (test=0.147) precision: (test=0.152) precision_micro: (test=0.609) recall: (test=0.634) recall_micro: (test=0.609) total time=   0.3s\n",
      "[CV 4/4; 7/8] START estimator__max_depth=None, estimator__max_leaf_nodes=None, estimator__min_samples_leaf=2, estimator__min_samples_split=30, estimator__n_estimators=100, estimator__random_state=5000\n",
      "[CV 4/4; 7/8] END estimator__max_depth=None, estimator__max_leaf_nodes=None, estimator__min_samples_leaf=2, estimator__min_samples_split=30, estimator__n_estimators=100, estimator__random_state=5000; f1: (test=0.229) f1_micro: (test=0.602) m_c: (test=0.118) precision: (test=0.142) precision_micro: (test=0.602) recall: (test=0.591) recall_micro: (test=0.602) total time=   0.4s\n",
      "[CV 1/4; 8/8] START estimator__max_depth=None, estimator__max_leaf_nodes=None, estimator__min_samples_leaf=2, estimator__min_samples_split=30, estimator__n_estimators=800, estimator__random_state=5000\n",
      "[CV 1/4; 8/8] END estimator__max_depth=None, estimator__max_leaf_nodes=None, estimator__min_samples_leaf=2, estimator__min_samples_split=30, estimator__n_estimators=800, estimator__random_state=5000; f1: (test=0.243) f1_micro: (test=0.606) m_c: (test=0.141) precision: (test=0.151) precision_micro: (test=0.606) recall: (test=0.628) recall_micro: (test=0.606) total time=   1.2s\n",
      "[CV 2/4; 8/8] START estimator__max_depth=None, estimator__max_leaf_nodes=None, estimator__min_samples_leaf=2, estimator__min_samples_split=30, estimator__n_estimators=800, estimator__random_state=5000\n"
     ]
    },
    {
     "name": "stdout",
     "output_type": "stream",
     "text": [
      "[CV 2/4; 8/8] END estimator__max_depth=None, estimator__max_leaf_nodes=None, estimator__min_samples_leaf=2, estimator__min_samples_split=30, estimator__n_estimators=800, estimator__random_state=5000; f1: (test=0.194) f1_micro: (test=0.580) m_c: (test=0.057) precision: (test=0.120) precision_micro: (test=0.580) recall: (test=0.505) recall_micro: (test=0.580) total time=   1.5s\n",
      "[CV 3/4; 8/8] START estimator__max_depth=None, estimator__max_leaf_nodes=None, estimator__min_samples_leaf=2, estimator__min_samples_split=30, estimator__n_estimators=800, estimator__random_state=5000\n",
      "[CV 3/4; 8/8] END estimator__max_depth=None, estimator__max_leaf_nodes=None, estimator__min_samples_leaf=2, estimator__min_samples_split=30, estimator__n_estimators=800, estimator__random_state=5000; f1: (test=0.247) f1_micro: (test=0.620) m_c: (test=0.149) precision: (test=0.154) precision_micro: (test=0.620) recall: (test=0.624) recall_micro: (test=0.620) total time=   1.4s\n",
      "[CV 4/4; 8/8] START estimator__max_depth=None, estimator__max_leaf_nodes=None, estimator__min_samples_leaf=2, estimator__min_samples_split=30, estimator__n_estimators=800, estimator__random_state=5000\n"
     ]
    },
    {
     "name": "stderr",
     "output_type": "stream",
     "text": [
      "2023-08-13 20:00:00 INFO: CÁLCULO DE MÉTRICAS DE CV.\n",
      "2023-08-13 20:00:00 INFO: SELECCIÓN DEL MEJOR MODELO VÍA UNA MÉTRICA DE CV.\n",
      "2023-08-13 20:00:00 INFO: FIN DE OPTIMIZACIÓN.\n"
     ]
    },
    {
     "name": "stdout",
     "output_type": "stream",
     "text": [
      "[CV 4/4; 8/8] END estimator__max_depth=None, estimator__max_leaf_nodes=None, estimator__min_samples_leaf=2, estimator__min_samples_split=30, estimator__n_estimators=800, estimator__random_state=5000; f1: (test=0.232) f1_micro: (test=0.616) m_c: (test=0.123) precision: (test=0.145) precision_micro: (test=0.616) recall: (test=0.581) recall_micro: (test=0.616) total time=   1.5s\n"
     ]
    }
   ],
   "source": [
    "optim_results = optimization_model(df_name_sav=df_name,\n",
    "                                   features_names=features_names,\n",
    "                                   objective_name=objective_name,\n",
    "                                   model_name=model_name,\n",
    "                                   seed=seed,\n",
    "                                   test_size=test_size,\n",
    "                                   ratio_balance=ratio_balance,\n",
    "                                   k_folds=k_folds,\n",
    "                                   verbose=verbose,\n",
    "                                   optimized_metric=optimized_metric,\n",
    "                                   save_best_info=save_best_info,\n",
    "                                   path=path)"
   ]
  },
  {
   "cell_type": "code",
   "execution_count": 5,
   "id": "c1c33c40",
   "metadata": {},
   "outputs": [
    {
     "data": {
      "text/plain": [
       "hyperparameters       {'max_depth': None, 'max_leaf_nodes': None, 'm...\n",
       "cv_f1                                                          0.249371\n",
       "cv_precision                                                   0.155951\n",
       "cv_recall                                                      0.624485\n",
       "cv_m_c                                                         0.151426\n",
       "cv_f1_micro                                                     0.62242\n",
       "cv_precision_micro                                              0.62242\n",
       "cv_recall_micro                                                 0.62242\n",
       "optimization_date                            2023-08-13 20:00:00.373617\n",
       "ratio_balance                                                         1\n",
       "model_name                                       RandomForestClassifier\n",
       "k_folds                                                               4\n",
       "test_size                                                          0.25\n",
       "Name: 0, dtype: object"
      ]
     },
     "execution_count": 5,
     "metadata": {},
     "output_type": "execute_result"
    }
   ],
   "source": [
    "optim_results"
   ]
  },
  {
   "cell_type": "markdown",
   "id": "0f8ec8c9",
   "metadata": {},
   "source": [
    "Al final, la función __optimization_model__ devuelve un panda-series con la información del modelo optimizado."
   ]
  },
  {
   "cell_type": "markdown",
   "id": "af978a4d",
   "metadata": {},
   "source": [
    "Se guardan la información del modelo optimizado."
   ]
  },
  {
   "cell_type": "code",
   "execution_count": 6,
   "id": "90072b42",
   "metadata": {},
   "outputs": [],
   "source": [
    "# pickle.dump(optim_results, open('../outputs/optimization_results.sav', 'wb'))"
   ]
  },
  {
   "cell_type": "markdown",
   "id": "c0e3fe92",
   "metadata": {},
   "source": [
    "# 4. COMPARACIÓN ENTRE EL MODELO OPTIMIZADO Y SIN OPTIMIZAR."
   ]
  },
  {
   "cell_type": "code",
   "execution_count": 7,
   "id": "d702b498",
   "metadata": {},
   "outputs": [],
   "source": [
    "optim_results = get_data(name_sav='optimization_results.sav',\n",
    "                         path=path)"
   ]
  },
  {
   "cell_type": "markdown",
   "id": "48f5599b",
   "metadata": {},
   "source": [
    "La combinación ganadora de hiperparámetros es la siguiente."
   ]
  },
  {
   "cell_type": "code",
   "execution_count": 8,
   "id": "7c040b14",
   "metadata": {},
   "outputs": [
    {
     "data": {
      "text/plain": [
       "{'max_depth': None,\n",
       " 'max_leaf_nodes': None,\n",
       " 'min_samples_leaf': 3,\n",
       " 'min_samples_split': 3,\n",
       " 'n_estimators': 800,\n",
       " 'random_state': 5000}"
      ]
     },
     "execution_count": 8,
     "metadata": {},
     "output_type": "execute_result"
    }
   ],
   "source": [
    "optim_results['hyperparameters']"
   ]
  },
  {
   "cell_type": "markdown",
   "id": "19a1ec74",
   "metadata": {},
   "source": [
    "A simple vista, observamos que el modelo está requiriendo muchos árboles (__`max_iter`__=800) para poder mejorar en su rendimiento."
   ]
  },
  {
   "cell_type": "markdown",
   "id": "208e05b8",
   "metadata": {},
   "source": [
    "Comparemos las métricas de __cross-validation__ del modelo optimizado con las del modelo no optimizado (ver __model_selection.ipynb__)"
   ]
  },
  {
   "cell_type": "code",
   "execution_count": 9,
   "id": "35b28e74",
   "metadata": {},
   "outputs": [
    {
     "name": "stdout",
     "output_type": "stream",
     "text": [
      "f1-cv optimizado 0.25\n",
      "f1-cv NO optimizado 0.24\n",
      "recall-cv optimizado 0.63\n",
      "recall-cv NO optimizado 0.6\n",
      "precision-cv optimizado 0.16\n",
      "precision-cv NO optimizado 0.15\n",
      "m_c-cv optimizado 0.15\n",
      "m_c-cv NO optimizado 0.14\n"
     ]
    }
   ],
   "source": [
    "print('f1-cv optimizado', round(optim_results['cv_f1'], 2))\n",
    "print('f1-cv NO optimizado', 0.24)\n",
    "print('recall-cv optimizado', round(optim_results['cv_recall'], 2))\n",
    "print('recall-cv NO optimizado',  0.6)\n",
    "print('precision-cv optimizado', round(optim_results['cv_precision'], 2))\n",
    "print('precision-cv NO optimizado', 0.15)\n",
    "print('m_c-cv optimizado', round(optim_results['cv_m_c'], 2))\n",
    "print('m_c-cv NO optimizado', 0.14)   "
   ]
  },
  {
   "cell_type": "markdown",
   "id": "db82955a",
   "metadata": {},
   "source": [
    "Vemos que solo se han conseguido mejoras de a lo más dos centésimas en todos las métricas de __cross-validation__."
   ]
  },
  {
   "cell_type": "markdown",
   "id": "5e3e20c4",
   "metadata": {},
   "source": [
    "Habrá que hacer un revisión desde el principio, con tal de encontrar mejoras contundentes. Los enfoques que se podrían llevar a cabo son:\n",
    "1. Enriquecer la data de aplicantes con mas variables.\n",
    "2. Permite el uso de información crediticia para enriquecer el modelo.\n",
    "4. Utilizar métodos de ensamblado de modelos.\n",
    "5. Considerar otro enfoque de muestreo. Tal vez considerar técnicas como el SMOTE u otra ténica de sobremuestreo de la clase minoritaria."
   ]
  },
  {
   "cell_type": "code",
   "execution_count": null,
   "id": "5fa79a15",
   "metadata": {},
   "outputs": [],
   "source": []
  }
 ],
 "metadata": {
  "kernelspec": {
   "display_name": "tangelo_training",
   "language": "python",
   "name": "tangelo_training"
  },
  "language_info": {
   "codemirror_mode": {
    "name": "ipython",
    "version": 3
   },
   "file_extension": ".py",
   "mimetype": "text/x-python",
   "name": "python",
   "nbconvert_exporter": "python",
   "pygments_lexer": "ipython3",
   "version": "3.8.12"
  }
 },
 "nbformat": 4,
 "nbformat_minor": 5
}
