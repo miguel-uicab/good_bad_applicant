{
 "cells": [
  {
   "cell_type": "code",
   "execution_count": 1,
   "id": "dede1677",
   "metadata": {},
   "outputs": [],
   "source": [
    "# !/usr/bin/env python\n",
    "# coding: utf-8\n",
    "\n",
    "import warnings\n",
    "warnings.simplefilter(\"ignore\")\n",
    "from training_functions_1 import *"
   ]
  },
  {
   "cell_type": "markdown",
   "id": "4fec758e",
   "metadata": {},
   "source": [
    "A continuación se dará una breve explicación de lo que se ha hecho para optimizar el modelo elegido `HistGradientBoostingClassifier`.\n",
    "\n",
    "Se ha hecho uso de muchos de los procedimientos comentados en la competencia de modelos (consultar __model_selection.ipynb__) pero, aquí, han sido generalizados vía funciones contenidas en el script __training_functions.py__. Cada una de estas funciones tiene una descripción de la labor que llevan a cabo. \n",
    "\n",
    "En aquel script, la función __optimization_model__ realiza la optimización del modelo."
   ]
  },
  {
   "cell_type": "markdown",
   "id": "77f2507c",
   "metadata": {},
   "source": [
    "# 1. ESPACIO HIPERPARAMETRAL."
   ]
  },
  {
   "cell_type": "markdown",
   "id": "23cef40f",
   "metadata": {},
   "source": [
    "El `HistGradientBoosting` es en esencia un boosting que considera árboles débiles que van aprediendo uno del otro de manera secuencial. De hecho, cada uno se enfoca en corregir el error del modelo anterior.\n",
    "\n",
    "Este estimador es más rápido que un `GradientBoosting` clásico debido al uso del procesamiento paralelo en múltiples núcleos del CPU, además de considerar tratamiento de valores perdidos, regularización l2, restricciones de monotonía, entre otras cosas."
   ]
  },
  {
   "cell_type": "markdown",
   "id": "28949502",
   "metadata": {},
   "source": [
    "Se ha decidido trabajar con los siguientes hiperparámetros del estimador. Se dará una breve descripción de ellos.\n",
    "1. __`max_iter`:__  Número de árboles (modelos débiles) que estarán involucrados en el boosting. \\\n",
    "Mientras mayor sea, mejor ajuste aunque puede dar paso al sobreajuste.\n",
    "2. __`max_leaf_nodes`:__ Número máximo de hojas (nodos finales) en cada árbol individual. \\\n",
    "Controla la complejidad del modelo limitando la cantidad de divisiones en cada árbol.\n",
    "3. __`min_samples_leaf`:__ Número mínimo de muestras en cada hoja. \\\n",
    "Un valor alto puede evitar divisiones que sean demasiado específicas evitando a su vez el sobreajuste.\n",
    "4. __`learning_rate`:__ Determina la contribución de cada árbol en el proceso de boosting.\\\n",
    "Un valor pequeño da como resultado una convergencia más lenta pero un modelo más preciso, mientras que un valor grande puede conducir a un entrenamiento más rápido pero con mayor riesgo de sobreajuste.\n",
    "5. __`max_depth`:__ Es la profundidad máxima permitida en los árboles. \\\n",
    "Ayuda a controlar la complejidad del modelo.\n",
    "6. __`l2_regularization`__: Realiza una regularización tipo \"Ridge\"."
   ]
  },
  {
   "cell_type": "markdown",
   "id": "dc2e2ec7",
   "metadata": {},
   "source": [
    "Por supuesto, hay más hiperparámetros que podemos controlar. Sin embargo, decidimos trabajar con estos últimos por ser los más representativos al momento de construir árboles de decisión."
   ]
  },
  {
   "cell_type": "markdown",
   "id": "41a246f3",
   "metadata": {},
   "source": [
    "El __espacio hiperparametral__ está conformado por todas las combinaciones de valores de hiperparámetros, dado un rango de acción para cada uno de ellos. A continuación se exhibe la configuración del espacio hiperparametral que se ha usado en esta prueba."
   ]
  },
  {
   "cell_type": "code",
   "execution_count": 2,
   "id": "1bbfb160",
   "metadata": {},
   "outputs": [],
   "source": [
    "space = {'max_iter': [200, 400, 650, 700, 800],\n",
    "         'max_leaf_nodes': [10, 70, 100, 150], \n",
    "         'min_samples_leaf': [10, 20, 30, 40],\n",
    "         'learning_rate':  [0.05, 0.07, 0.1, 0.3, 0.5, 1],\n",
    "         'max_depth': [None, 1],\n",
    "         'l2_regularization': [0]}"
   ]
  },
  {
   "cell_type": "markdown",
   "id": "b3595f17",
   "metadata": {},
   "source": [
    "La elección de esta configuración es meramente arbitraria, aunque la idea es considerar tanto valores altos como valores bajos de los hiperparámetros. \n",
    "\n",
    "Dado que el espacio hiperparámetral es limitado, la función __optimization_model__ utiliza un `GridSearchCV`, el cual recorrerá todo el espacio y aplicará un __cross-validation__ por cada punto en ese espacio. El total de puntos que recorrerá es de 960. Si el espacio considerara rangos mucho más grandes de valores o bien considerara rangos continuos, entonces se debería utilizar un `RandomizedSearchCV` o un `BayesSearchCV`.\n",
    "\n",
    "El sobreajuste del modelo se estará minitoriando al comparar las métricas de __cross-validation__ y las de __testeo__. Si éstas últimas sufren un deterioro importante, entonces habrá un serio problema de sobreajuste. Sin embargo, de acuerdo a experiencia propia, las métricas de __cross-validation__ suelen informar muy bien sobre la estabilidad general del modelo."
   ]
  },
  {
   "cell_type": "markdown",
   "id": "1eb0ebb0",
   "metadata": {},
   "source": [
    "__Nota__: Aunque el modelo ha sido optimizado con el espacio hiperparametral anterior, en el script de funciones se ha dejado una versión más pequeña, esto para fines de prueba de código. Este espacio más reducido cuenta solo con 8 puntos de combinación."
   ]
  },
  {
   "cell_type": "markdown",
   "id": "e8e60cbc",
   "metadata": {},
   "source": [
    "# 2. CONFIGURACIONES GENERALES."
   ]
  },
  {
   "cell_type": "markdown",
   "id": "8fd26c63",
   "metadata": {},
   "source": [
    "A continuación se explicará los valores de los parámetros con controlan la función __optimization_model__, aunque algunos de ellos ya han sido explicados a profundidad en la competencia de modelos. Estas explicaciones se darán en forma de comentarios de código python."
   ]
  },
  {
   "cell_type": "code",
   "execution_count": 3,
   "id": "dbfc023d",
   "metadata": {},
   "outputs": [],
   "source": [
    "# Son los nombres de los binarios que contienen la data de entrenamiento y la data. Están en la carpeta outputs/.\n",
    "path = '../outputs/'\n",
    "df_name = 'df_HOMO_CLASS.sav'"
   ]
  },
  {
   "cell_type": "code",
   "execution_count": 4,
   "id": "76621570",
   "metadata": {},
   "outputs": [],
   "source": [
    "# Lista de nombres de features y nombre de la variable objetivo.\n",
    "features_names =  ['FLAG_OWN_CAR',\n",
    "                   'FLAG_OWN_REALTY',\n",
    "                   'NAME_INCOME_TYPE',\n",
    "                   'NAME_EDUCATION_TYPE',\n",
    "                   'NAME_FAMILY_STATUS',\n",
    "                   'NAME_HOUSING_TYPE',\n",
    "                   'OCCUPATION_TYPE',\n",
    "                   'FLAG_WORK_PHONE',\n",
    "                   'FLAG_PHONE',\n",
    "                   'FLAG_EMAIL',\n",
    "                   'AGE',\n",
    "                   'CNT_CHILDREN',\n",
    "                   'AMT_INCOME_TOTAL',\n",
    "                   'WORK_YEARS']\n",
    "objective_name = 'label'"
   ]
  },
  {
   "cell_type": "code",
   "execution_count": 5,
   "id": "1b38fe1a",
   "metadata": {},
   "outputs": [],
   "source": [
    "# Es el nombre del modelo ganador.\n",
    "model_name = 'RandomForestClassifier'"
   ]
  },
  {
   "cell_type": "code",
   "execution_count": 6,
   "id": "95241cd8",
   "metadata": {},
   "outputs": [],
   "source": [
    "# Es la semilla que gobernará los procesos.\n",
    "seed = 5000\n",
    "# Es la estrategia de submuestreo.\n",
    "ratio_balance = 1\n",
    "# Es el número de folds que conformarán el proceso de cross-validation.\n",
    "k_folds = 4\n",
    "# Un valor más grande hace más informativo el proceso de optimización.\n",
    "verbose = 10\n",
    "test_size = 0.25"
   ]
  },
  {
   "cell_type": "code",
   "execution_count": 7,
   "id": "b55cb1f5",
   "metadata": {},
   "outputs": [],
   "source": [
    "# Es la métrica de cross-validación que se optimizará. Por default es el f1.\n",
    "# La combinación de hiperparámetros que obtenga el mayor valor de cv_f1 configurará el modelo optimizado final.\n",
    "optimized_metric='cv_f1'"
   ]
  },
  {
   "cell_type": "code",
   "execution_count": 8,
   "id": "fb3bdb4e",
   "metadata": {},
   "outputs": [],
   "source": [
    "# Guarda en un binario la información del modelo optimizado.\n",
    "save_best_info=False"
   ]
  },
  {
   "cell_type": "code",
   "execution_count": 9,
   "id": "6b7fefc8",
   "metadata": {},
   "outputs": [],
   "source": [
    "# Ubicación de los binarios que contienen la data necesaria.\n",
    "path='../outputs/'"
   ]
  },
  {
   "cell_type": "markdown",
   "id": "ceb9ca42",
   "metadata": {},
   "source": [
    "# 3. OPTIMIZACIÓN Y GUARDADO DE INFORMACIÓN."
   ]
  },
  {
   "cell_type": "markdown",
   "id": "7b82c70b",
   "metadata": {},
   "source": [
    "Dados los valores anteriores, procedemos a comenzar la optimización."
   ]
  },
  {
   "cell_type": "code",
   "execution_count": 10,
   "id": "b659318e",
   "metadata": {},
   "outputs": [
    {
     "data": {
      "text/plain": [
       "'df_HOMO_CLASS.sav'"
      ]
     },
     "execution_count": 10,
     "metadata": {},
     "output_type": "execute_result"
    }
   ],
   "source": [
    "df_name"
   ]
  },
  {
   "cell_type": "code",
   "execution_count": 11,
   "id": "14202a47",
   "metadata": {},
   "outputs": [
    {
     "name": "stderr",
     "output_type": "stream",
     "text": [
      "2023-08-08 21:34:21 INFO: PROCESO DE OPTIMIZACIÓN.\n",
      "2023-08-08 21:34:21 INFO: CONFIGURACIÓN GENERALES.\n",
      "2023-08-08 21:34:21 INFO: TUBERÍAS PARA PROCESAMIENTO Y MUESTREO.\n",
      "2023-08-08 21:34:21 INFO: CONFIGURACIÓN PARA CV Y SEARCH.\n",
      "2023-08-08 21:34:21 INFO: COMIENZA OPTIMIZACIÓN.\n"
     ]
    },
    {
     "name": "stdout",
     "output_type": "stream",
     "text": [
      "Fitting 4 folds for each of 32 candidates, totalling 128 fits\n",
      "[CV 1/4; 1/32] START estimator__max_depth=None, estimator__max_leaf_nodes=None, estimator__min_samples_leaf=1, estimator__min_samples_split=2, estimator__n_estimators=100, estimator__random_state=5000\n",
      "[CV 1/4; 1/32] END estimator__max_depth=None, estimator__max_leaf_nodes=None, estimator__min_samples_leaf=1, estimator__min_samples_split=2, estimator__n_estimators=100, estimator__random_state=5000; f1: (test=0.222) f1_micro: (test=0.652) m_c: (test=0.073) precision: (test=0.151) precision_micro: (test=0.652) recall: (test=0.424) recall_micro: (test=0.652) total time=   0.3s\n",
      "[CV 2/4; 1/32] START estimator__max_depth=None, estimator__max_leaf_nodes=None, estimator__min_samples_leaf=1, estimator__min_samples_split=2, estimator__n_estimators=100, estimator__random_state=5000\n",
      "[CV 2/4; 1/32] END estimator__max_depth=None, estimator__max_leaf_nodes=None, estimator__min_samples_leaf=1, estimator__min_samples_split=2, estimator__n_estimators=100, estimator__random_state=5000; f1: (test=0.268) f1_micro: (test=0.574) m_c: (test=0.148) precision: (test=0.168) precision_micro: (test=0.574) recall: (test=0.667) recall_micro: (test=0.574) total time=   0.2s\n",
      "[CV 3/4; 1/32] START estimator__max_depth=None, estimator__max_leaf_nodes=None, estimator__min_samples_leaf=1, estimator__min_samples_split=2, estimator__n_estimators=100, estimator__random_state=5000\n",
      "[CV 3/4; 1/32] END estimator__max_depth=None, estimator__max_leaf_nodes=None, estimator__min_samples_leaf=1, estimator__min_samples_split=2, estimator__n_estimators=100, estimator__random_state=5000; f1: (test=0.231) f1_micro: (test=0.644) m_c: (test=0.090) precision: (test=0.153) precision_micro: (test=0.644) recall: (test=0.469) recall_micro: (test=0.644) total time=   0.2s\n",
      "[CV 4/4; 1/32] START estimator__max_depth=None, estimator__max_leaf_nodes=None, estimator__min_samples_leaf=1, estimator__min_samples_split=2, estimator__n_estimators=100, estimator__random_state=5000\n",
      "[CV 4/4; 1/32] END estimator__max_depth=None, estimator__max_leaf_nodes=None, estimator__min_samples_leaf=1, estimator__min_samples_split=2, estimator__n_estimators=100, estimator__random_state=5000; f1: (test=0.245) f1_micro: (test=0.584) m_c: (test=0.104) precision: (test=0.156) precision_micro: (test=0.584) recall: (test=0.576) recall_micro: (test=0.584) total time=   0.2s\n",
      "[CV 1/4; 2/32] START estimator__max_depth=None, estimator__max_leaf_nodes=None, estimator__min_samples_leaf=1, estimator__min_samples_split=2, estimator__n_estimators=800, estimator__random_state=5000\n",
      "[CV 1/4; 2/32] END estimator__max_depth=None, estimator__max_leaf_nodes=None, estimator__min_samples_leaf=1, estimator__min_samples_split=2, estimator__n_estimators=800, estimator__random_state=5000; f1: (test=0.227) f1_micro: (test=0.638) m_c: (test=0.079) precision: (test=0.152) precision_micro: (test=0.638) recall: (test=0.455) recall_micro: (test=0.638) total time=   1.1s\n",
      "[CV 2/4; 2/32] START estimator__max_depth=None, estimator__max_leaf_nodes=None, estimator__min_samples_leaf=1, estimator__min_samples_split=2, estimator__n_estimators=800, estimator__random_state=5000\n",
      "[CV 2/4; 2/32] END estimator__max_depth=None, estimator__max_leaf_nodes=None, estimator__min_samples_leaf=1, estimator__min_samples_split=2, estimator__n_estimators=800, estimator__random_state=5000; f1: (test=0.264) f1_micro: (test=0.585) m_c: (test=0.139) precision: (test=0.167) precision_micro: (test=0.585) recall: (test=0.636) recall_micro: (test=0.585) total time=   1.1s\n",
      "[CV 3/4; 2/32] START estimator__max_depth=None, estimator__max_leaf_nodes=None, estimator__min_samples_leaf=1, estimator__min_samples_split=2, estimator__n_estimators=800, estimator__random_state=5000\n",
      "[CV 3/4; 2/32] END estimator__max_depth=None, estimator__max_leaf_nodes=None, estimator__min_samples_leaf=1, estimator__min_samples_split=2, estimator__n_estimators=800, estimator__random_state=5000; f1: (test=0.241) f1_micro: (test=0.641) m_c: (test=0.105) precision: (test=0.158) precision_micro: (test=0.641) recall: (test=0.500) recall_micro: (test=0.641) total time=   1.2s\n",
      "[CV 4/4; 2/32] START estimator__max_depth=None, estimator__max_leaf_nodes=None, estimator__min_samples_leaf=1, estimator__min_samples_split=2, estimator__n_estimators=800, estimator__random_state=5000\n",
      "[CV 4/4; 2/32] END estimator__max_depth=None, estimator__max_leaf_nodes=None, estimator__min_samples_leaf=1, estimator__min_samples_split=2, estimator__n_estimators=800, estimator__random_state=5000; f1: (test=0.273) f1_micro: (test=0.601) m_c: (test=0.152) precision: (test=0.174) precision_micro: (test=0.601) recall: (test=0.636) recall_micro: (test=0.601) total time=   1.1s\n",
      "[CV 1/4; 3/32] START estimator__max_depth=None, estimator__max_leaf_nodes=None, estimator__min_samples_leaf=1, estimator__min_samples_split=30, estimator__n_estimators=100, estimator__random_state=5000\n",
      "[CV 1/4; 3/32] END estimator__max_depth=None, estimator__max_leaf_nodes=None, estimator__min_samples_leaf=1, estimator__min_samples_split=30, estimator__n_estimators=100, estimator__random_state=5000; f1: (test=0.191) f1_micro: (test=0.610) m_c: (test=0.022) precision: (test=0.126) precision_micro: (test=0.610) recall: (test=0.394) recall_micro: (test=0.610) total time=   0.2s\n",
      "[CV 2/4; 3/32] START estimator__max_depth=None, estimator__max_leaf_nodes=None, estimator__min_samples_leaf=1, estimator__min_samples_split=30, estimator__n_estimators=100, estimator__random_state=5000\n",
      "[CV 2/4; 3/32] END estimator__max_depth=None, estimator__max_leaf_nodes=None, estimator__min_samples_leaf=1, estimator__min_samples_split=30, estimator__n_estimators=100, estimator__random_state=5000; f1: (test=0.225) f1_micro: (test=0.560) m_c: (test=0.070) precision: (test=0.142) precision_micro: (test=0.560) recall: (test=0.545) recall_micro: (test=0.560) total time=   0.2s\n",
      "[CV 3/4; 3/32] START estimator__max_depth=None, estimator__max_leaf_nodes=None, estimator__min_samples_leaf=1, estimator__min_samples_split=30, estimator__n_estimators=100, estimator__random_state=5000\n",
      "[CV 3/4; 3/32] END estimator__max_depth=None, estimator__max_leaf_nodes=None, estimator__min_samples_leaf=1, estimator__min_samples_split=30, estimator__n_estimators=100, estimator__random_state=5000; f1: (test=0.162) f1_micro: (test=0.594) m_c: (test=-0.020) precision: (test=0.106) precision_micro: (test=0.594) recall: (test=0.344) recall_micro: (test=0.594) total time=   0.2s\n",
      "[CV 4/4; 3/32] START estimator__max_depth=None, estimator__max_leaf_nodes=None, estimator__min_samples_leaf=1, estimator__min_samples_split=30, estimator__n_estimators=100, estimator__random_state=5000\n",
      "[CV 4/4; 3/32] END estimator__max_depth=None, estimator__max_leaf_nodes=None, estimator__min_samples_leaf=1, estimator__min_samples_split=30, estimator__n_estimators=100, estimator__random_state=5000; f1: (test=0.238) f1_micro: (test=0.544) m_c: (test=0.092) precision: (test=0.148) precision_micro: (test=0.544) recall: (test=0.606) recall_micro: (test=0.544) total time=   0.2s\n",
      "[CV 1/4; 4/32] START estimator__max_depth=None, estimator__max_leaf_nodes=None, estimator__min_samples_leaf=1, estimator__min_samples_split=30, estimator__n_estimators=800, estimator__random_state=5000\n",
      "[CV 1/4; 4/32] END estimator__max_depth=None, estimator__max_leaf_nodes=None, estimator__min_samples_leaf=1, estimator__min_samples_split=30, estimator__n_estimators=800, estimator__random_state=5000; f1: (test=0.214) f1_micro: (test=0.635) m_c: (test=0.059) precision: (test=0.143) precision_micro: (test=0.635) recall: (test=0.424) recall_micro: (test=0.635) total time=   0.9s\n",
      "[CV 2/4; 4/32] START estimator__max_depth=None, estimator__max_leaf_nodes=None, estimator__min_samples_leaf=1, estimator__min_samples_split=30, estimator__n_estimators=800, estimator__random_state=5000\n",
      "[CV 2/4; 4/32] END estimator__max_depth=None, estimator__max_leaf_nodes=None, estimator__min_samples_leaf=1, estimator__min_samples_split=30, estimator__n_estimators=800, estimator__random_state=5000; f1: (test=0.242) f1_micro: (test=0.557) m_c: (test=0.101) precision: (test=0.152) precision_micro: (test=0.557) recall: (test=0.606) recall_micro: (test=0.557) total time=   1.0s\n",
      "[CV 3/4; 4/32] START estimator__max_depth=None, estimator__max_leaf_nodes=None, estimator__min_samples_leaf=1, estimator__min_samples_split=30, estimator__n_estimators=800, estimator__random_state=5000\n"
     ]
    },
    {
     "name": "stdout",
     "output_type": "stream",
     "text": [
      "[CV 3/4; 4/32] END estimator__max_depth=None, estimator__max_leaf_nodes=None, estimator__min_samples_leaf=1, estimator__min_samples_split=30, estimator__n_estimators=800, estimator__random_state=5000; f1: (test=0.176) f1_micro: (test=0.601) m_c: (test=0.004) precision: (test=0.115) precision_micro: (test=0.601) recall: (test=0.375) recall_micro: (test=0.601) total time=   1.0s\n",
      "[CV 4/4; 4/32] START estimator__max_depth=None, estimator__max_leaf_nodes=None, estimator__min_samples_leaf=1, estimator__min_samples_split=30, estimator__n_estimators=800, estimator__random_state=5000\n",
      "[CV 4/4; 4/32] END estimator__max_depth=None, estimator__max_leaf_nodes=None, estimator__min_samples_leaf=1, estimator__min_samples_split=30, estimator__n_estimators=800, estimator__random_state=5000; f1: (test=0.237) f1_micro: (test=0.566) m_c: (test=0.091) precision: (test=0.150) precision_micro: (test=0.566) recall: (test=0.576) recall_micro: (test=0.566) total time=   1.0s\n",
      "[CV 1/4; 5/32] START estimator__max_depth=None, estimator__max_leaf_nodes=None, estimator__min_samples_leaf=2, estimator__min_samples_split=2, estimator__n_estimators=100, estimator__random_state=5000\n",
      "[CV 1/4; 5/32] END estimator__max_depth=None, estimator__max_leaf_nodes=None, estimator__min_samples_leaf=2, estimator__min_samples_split=2, estimator__n_estimators=100, estimator__random_state=5000; f1: (test=0.227) f1_micro: (test=0.638) m_c: (test=0.079) precision: (test=0.152) precision_micro: (test=0.638) recall: (test=0.455) recall_micro: (test=0.638) total time=   0.2s\n",
      "[CV 2/4; 5/32] START estimator__max_depth=None, estimator__max_leaf_nodes=None, estimator__min_samples_leaf=2, estimator__min_samples_split=2, estimator__n_estimators=100, estimator__random_state=5000\n",
      "[CV 2/4; 5/32] END estimator__max_depth=None, estimator__max_leaf_nodes=None, estimator__min_samples_leaf=2, estimator__min_samples_split=2, estimator__n_estimators=100, estimator__random_state=5000; f1: (test=0.273) f1_micro: (test=0.603) m_c: (test=0.152) precision: (test=0.174) precision_micro: (test=0.603) recall: (test=0.636) recall_micro: (test=0.603) total time=   0.2s\n",
      "[CV 3/4; 5/32] START estimator__max_depth=None, estimator__max_leaf_nodes=None, estimator__min_samples_leaf=2, estimator__min_samples_split=2, estimator__n_estimators=100, estimator__random_state=5000\n",
      "[CV 3/4; 5/32] END estimator__max_depth=None, estimator__max_leaf_nodes=None, estimator__min_samples_leaf=2, estimator__min_samples_split=2, estimator__n_estimators=100, estimator__random_state=5000; f1: (test=0.243) f1_micro: (test=0.601) m_c: (test=0.109) precision: (test=0.155) precision_micro: (test=0.601) recall: (test=0.562) recall_micro: (test=0.601) total time=   0.2s\n",
      "[CV 4/4; 5/32] START estimator__max_depth=None, estimator__max_leaf_nodes=None, estimator__min_samples_leaf=2, estimator__min_samples_split=2, estimator__n_estimators=100, estimator__random_state=5000\n",
      "[CV 4/4; 5/32] END estimator__max_depth=None, estimator__max_leaf_nodes=None, estimator__min_samples_leaf=2, estimator__min_samples_split=2, estimator__n_estimators=100, estimator__random_state=5000; f1: (test=0.235) f1_micro: (test=0.584) m_c: (test=0.087) precision: (test=0.150) precision_micro: (test=0.584) recall: (test=0.545) recall_micro: (test=0.584) total time=   0.3s\n",
      "[CV 1/4; 6/32] START estimator__max_depth=None, estimator__max_leaf_nodes=None, estimator__min_samples_leaf=2, estimator__min_samples_split=2, estimator__n_estimators=800, estimator__random_state=5000\n",
      "[CV 1/4; 6/32] END estimator__max_depth=None, estimator__max_leaf_nodes=None, estimator__min_samples_leaf=2, estimator__min_samples_split=2, estimator__n_estimators=800, estimator__random_state=5000; f1: (test=0.234) f1_micro: (test=0.652) m_c: (test=0.091) precision: (test=0.158) precision_micro: (test=0.652) recall: (test=0.455) recall_micro: (test=0.652) total time=   1.3s\n",
      "[CV 2/4; 6/32] START estimator__max_depth=None, estimator__max_leaf_nodes=None, estimator__min_samples_leaf=2, estimator__min_samples_split=2, estimator__n_estimators=800, estimator__random_state=5000\n",
      "[CV 2/4; 6/32] END estimator__max_depth=None, estimator__max_leaf_nodes=None, estimator__min_samples_leaf=2, estimator__min_samples_split=2, estimator__n_estimators=800, estimator__random_state=5000; f1: (test=0.286) f1_micro: (test=0.592) m_c: (test=0.178) precision: (test=0.180) precision_micro: (test=0.592) recall: (test=0.697) recall_micro: (test=0.592) total time=   1.4s\n",
      "[CV 3/4; 6/32] START estimator__max_depth=None, estimator__max_leaf_nodes=None, estimator__min_samples_leaf=2, estimator__min_samples_split=2, estimator__n_estimators=800, estimator__random_state=5000\n",
      "[CV 3/4; 6/32] END estimator__max_depth=None, estimator__max_leaf_nodes=None, estimator__min_samples_leaf=2, estimator__min_samples_split=2, estimator__n_estimators=800, estimator__random_state=5000; f1: (test=0.248) f1_micro: (test=0.633) m_c: (test=0.117) precision: (test=0.162) precision_micro: (test=0.633) recall: (test=0.531) recall_micro: (test=0.633) total time=   1.5s\n",
      "[CV 4/4; 6/32] START estimator__max_depth=None, estimator__max_leaf_nodes=None, estimator__min_samples_leaf=2, estimator__min_samples_split=2, estimator__n_estimators=800, estimator__random_state=5000\n",
      "[CV 4/4; 6/32] END estimator__max_depth=None, estimator__max_leaf_nodes=None, estimator__min_samples_leaf=2, estimator__min_samples_split=2, estimator__n_estimators=800, estimator__random_state=5000; f1: (test=0.258) f1_micro: (test=0.591) m_c: (test=0.127) precision: (test=0.164) precision_micro: (test=0.591) recall: (test=0.606) recall_micro: (test=0.591) total time=   1.1s\n",
      "[CV 1/4; 7/32] START estimator__max_depth=None, estimator__max_leaf_nodes=None, estimator__min_samples_leaf=2, estimator__min_samples_split=30, estimator__n_estimators=100, estimator__random_state=5000\n",
      "[CV 1/4; 7/32] END estimator__max_depth=None, estimator__max_leaf_nodes=None, estimator__min_samples_leaf=2, estimator__min_samples_split=30, estimator__n_estimators=100, estimator__random_state=5000; f1: (test=0.191) f1_micro: (test=0.610) m_c: (test=0.022) precision: (test=0.126) precision_micro: (test=0.610) recall: (test=0.394) recall_micro: (test=0.610) total time=   0.2s\n",
      "[CV 2/4; 7/32] START estimator__max_depth=None, estimator__max_leaf_nodes=None, estimator__min_samples_leaf=2, estimator__min_samples_split=30, estimator__n_estimators=100, estimator__random_state=5000\n",
      "[CV 2/4; 7/32] END estimator__max_depth=None, estimator__max_leaf_nodes=None, estimator__min_samples_leaf=2, estimator__min_samples_split=30, estimator__n_estimators=100, estimator__random_state=5000; f1: (test=0.244) f1_micro: (test=0.560) m_c: (test=0.103) precision: (test=0.153) precision_micro: (test=0.560) recall: (test=0.606) recall_micro: (test=0.560) total time=   0.3s\n",
      "[CV 3/4; 7/32] START estimator__max_depth=None, estimator__max_leaf_nodes=None, estimator__min_samples_leaf=2, estimator__min_samples_split=30, estimator__n_estimators=100, estimator__random_state=5000\n",
      "[CV 3/4; 7/32] END estimator__max_depth=None, estimator__max_leaf_nodes=None, estimator__min_samples_leaf=2, estimator__min_samples_split=30, estimator__n_estimators=100, estimator__random_state=5000; f1: (test=0.161) f1_micro: (test=0.591) m_c: (test=-0.022) precision: (test=0.105) precision_micro: (test=0.591) recall: (test=0.344) recall_micro: (test=0.591) total time=   0.3s\n",
      "[CV 4/4; 7/32] START estimator__max_depth=None, estimator__max_leaf_nodes=None, estimator__min_samples_leaf=2, estimator__min_samples_split=30, estimator__n_estimators=100, estimator__random_state=5000\n",
      "[CV 4/4; 7/32] END estimator__max_depth=None, estimator__max_leaf_nodes=None, estimator__min_samples_leaf=2, estimator__min_samples_split=30, estimator__n_estimators=100, estimator__random_state=5000; f1: (test=0.229) f1_micro: (test=0.544) m_c: (test=0.075) precision: (test=0.143) precision_micro: (test=0.544) recall: (test=0.576) recall_micro: (test=0.544) total time=   0.3s\n",
      "[CV 1/4; 8/32] START estimator__max_depth=None, estimator__max_leaf_nodes=None, estimator__min_samples_leaf=2, estimator__min_samples_split=30, estimator__n_estimators=800, estimator__random_state=5000\n",
      "[CV 1/4; 8/32] END estimator__max_depth=None, estimator__max_leaf_nodes=None, estimator__min_samples_leaf=2, estimator__min_samples_split=30, estimator__n_estimators=800, estimator__random_state=5000; f1: (test=0.214) f1_micro: (test=0.635) m_c: (test=0.059) precision: (test=0.143) precision_micro: (test=0.635) recall: (test=0.424) recall_micro: (test=0.635) total time=   1.0s\n",
      "[CV 2/4; 8/32] START estimator__max_depth=None, estimator__max_leaf_nodes=None, estimator__min_samples_leaf=2, estimator__min_samples_split=30, estimator__n_estimators=800, estimator__random_state=5000\n"
     ]
    },
    {
     "name": "stdout",
     "output_type": "stream",
     "text": [
      "[CV 2/4; 8/32] END estimator__max_depth=None, estimator__max_leaf_nodes=None, estimator__min_samples_leaf=2, estimator__min_samples_split=30, estimator__n_estimators=800, estimator__random_state=5000; f1: (test=0.245) f1_micro: (test=0.564) m_c: (test=0.106) precision: (test=0.154) precision_micro: (test=0.564) recall: (test=0.606) recall_micro: (test=0.564) total time=   0.9s\n",
      "[CV 3/4; 8/32] START estimator__max_depth=None, estimator__max_leaf_nodes=None, estimator__min_samples_leaf=2, estimator__min_samples_split=30, estimator__n_estimators=800, estimator__random_state=5000\n",
      "[CV 3/4; 8/32] END estimator__max_depth=None, estimator__max_leaf_nodes=None, estimator__min_samples_leaf=2, estimator__min_samples_split=30, estimator__n_estimators=800, estimator__random_state=5000; f1: (test=0.178) f1_micro: (test=0.605) m_c: (test=0.006) precision: (test=0.117) precision_micro: (test=0.605) recall: (test=0.375) recall_micro: (test=0.605) total time=   0.9s\n",
      "[CV 4/4; 8/32] START estimator__max_depth=None, estimator__max_leaf_nodes=None, estimator__min_samples_leaf=2, estimator__min_samples_split=30, estimator__n_estimators=800, estimator__random_state=5000\n",
      "[CV 4/4; 8/32] END estimator__max_depth=None, estimator__max_leaf_nodes=None, estimator__min_samples_leaf=2, estimator__min_samples_split=30, estimator__n_estimators=800, estimator__random_state=5000; f1: (test=0.237) f1_micro: (test=0.566) m_c: (test=0.091) precision: (test=0.150) precision_micro: (test=0.566) recall: (test=0.576) recall_micro: (test=0.566) total time=   0.9s\n",
      "[CV 1/4; 9/32] START estimator__max_depth=None, estimator__max_leaf_nodes=150, estimator__min_samples_leaf=1, estimator__min_samples_split=2, estimator__n_estimators=100, estimator__random_state=5000\n",
      "[CV 1/4; 9/32] END estimator__max_depth=None, estimator__max_leaf_nodes=150, estimator__min_samples_leaf=1, estimator__min_samples_split=2, estimator__n_estimators=100, estimator__random_state=5000; f1: (test=0.227) f1_micro: (test=0.638) m_c: (test=0.079) precision: (test=0.152) precision_micro: (test=0.638) recall: (test=0.455) recall_micro: (test=0.638) total time=   0.2s\n",
      "[CV 2/4; 9/32] START estimator__max_depth=None, estimator__max_leaf_nodes=150, estimator__min_samples_leaf=1, estimator__min_samples_split=2, estimator__n_estimators=100, estimator__random_state=5000\n",
      "[CV 2/4; 9/32] END estimator__max_depth=None, estimator__max_leaf_nodes=150, estimator__min_samples_leaf=1, estimator__min_samples_split=2, estimator__n_estimators=100, estimator__random_state=5000; f1: (test=0.270) f1_micro: (test=0.578) m_c: (test=0.150) precision: (test=0.169) precision_micro: (test=0.578) recall: (test=0.667) recall_micro: (test=0.578) total time=   0.2s\n",
      "[CV 3/4; 9/32] START estimator__max_depth=None, estimator__max_leaf_nodes=150, estimator__min_samples_leaf=1, estimator__min_samples_split=2, estimator__n_estimators=100, estimator__random_state=5000\n",
      "[CV 3/4; 9/32] END estimator__max_depth=None, estimator__max_leaf_nodes=150, estimator__min_samples_leaf=1, estimator__min_samples_split=2, estimator__n_estimators=100, estimator__random_state=5000; f1: (test=0.266) f1_micro: (test=0.626) m_c: (test=0.146) precision: (test=0.171) precision_micro: (test=0.626) recall: (test=0.594) recall_micro: (test=0.626) total time=   0.2s\n",
      "[CV 4/4; 9/32] START estimator__max_depth=None, estimator__max_leaf_nodes=150, estimator__min_samples_leaf=1, estimator__min_samples_split=2, estimator__n_estimators=100, estimator__random_state=5000\n",
      "[CV 4/4; 9/32] END estimator__max_depth=None, estimator__max_leaf_nodes=150, estimator__min_samples_leaf=1, estimator__min_samples_split=2, estimator__n_estimators=100, estimator__random_state=5000; f1: (test=0.276) f1_micro: (test=0.609) m_c: (test=0.157) precision: (test=0.176) precision_micro: (test=0.609) recall: (test=0.636) recall_micro: (test=0.609) total time=   0.2s\n",
      "[CV 1/4; 10/32] START estimator__max_depth=None, estimator__max_leaf_nodes=150, estimator__min_samples_leaf=1, estimator__min_samples_split=2, estimator__n_estimators=800, estimator__random_state=5000\n",
      "[CV 1/4; 10/32] END estimator__max_depth=None, estimator__max_leaf_nodes=150, estimator__min_samples_leaf=1, estimator__min_samples_split=2, estimator__n_estimators=800, estimator__random_state=5000; f1: (test=0.250) f1_micro: (test=0.660) m_c: (test=0.114) precision: (test=0.168) precision_micro: (test=0.660) recall: (test=0.485) recall_micro: (test=0.660) total time=   1.1s\n",
      "[CV 2/4; 10/32] START estimator__max_depth=None, estimator__max_leaf_nodes=150, estimator__min_samples_leaf=1, estimator__min_samples_split=2, estimator__n_estimators=800, estimator__random_state=5000\n",
      "[CV 2/4; 10/32] END estimator__max_depth=None, estimator__max_leaf_nodes=150, estimator__min_samples_leaf=1, estimator__min_samples_split=2, estimator__n_estimators=800, estimator__random_state=5000; f1: (test=0.287) f1_micro: (test=0.578) m_c: (test=0.184) precision: (test=0.179) precision_micro: (test=0.578) recall: (test=0.727) recall_micro: (test=0.578) total time=   1.1s\n",
      "[CV 3/4; 10/32] START estimator__max_depth=None, estimator__max_leaf_nodes=150, estimator__min_samples_leaf=1, estimator__min_samples_split=2, estimator__n_estimators=800, estimator__random_state=5000\n",
      "[CV 3/4; 10/32] END estimator__max_depth=None, estimator__max_leaf_nodes=150, estimator__min_samples_leaf=1, estimator__min_samples_split=2, estimator__n_estimators=800, estimator__random_state=5000; f1: (test=0.259) f1_micro: (test=0.633) m_c: (test=0.134) precision: (test=0.168) precision_micro: (test=0.633) recall: (test=0.562) recall_micro: (test=0.633) total time=   1.1s\n",
      "[CV 4/4; 10/32] START estimator__max_depth=None, estimator__max_leaf_nodes=150, estimator__min_samples_leaf=1, estimator__min_samples_split=2, estimator__n_estimators=800, estimator__random_state=5000\n",
      "[CV 4/4; 10/32] END estimator__max_depth=None, estimator__max_leaf_nodes=150, estimator__min_samples_leaf=1, estimator__min_samples_split=2, estimator__n_estimators=800, estimator__random_state=5000; f1: (test=0.297) f1_micro: (test=0.612) m_c: (test=0.193) precision: (test=0.189) precision_micro: (test=0.612) recall: (test=0.697) recall_micro: (test=0.612) total time=   1.0s\n",
      "[CV 1/4; 11/32] START estimator__max_depth=None, estimator__max_leaf_nodes=150, estimator__min_samples_leaf=1, estimator__min_samples_split=30, estimator__n_estimators=100, estimator__random_state=5000\n",
      "[CV 1/4; 11/32] END estimator__max_depth=None, estimator__max_leaf_nodes=150, estimator__min_samples_leaf=1, estimator__min_samples_split=30, estimator__n_estimators=100, estimator__random_state=5000; f1: (test=0.212) f1_micro: (test=0.631) m_c: (test=0.056) precision: (test=0.141) precision_micro: (test=0.631) recall: (test=0.424) recall_micro: (test=0.631) total time=   0.2s\n",
      "[CV 2/4; 11/32] START estimator__max_depth=None, estimator__max_leaf_nodes=150, estimator__min_samples_leaf=1, estimator__min_samples_split=30, estimator__n_estimators=100, estimator__random_state=5000\n",
      "[CV 2/4; 11/32] END estimator__max_depth=None, estimator__max_leaf_nodes=150, estimator__min_samples_leaf=1, estimator__min_samples_split=30, estimator__n_estimators=100, estimator__random_state=5000; f1: (test=0.220) f1_micro: (test=0.546) m_c: (test=0.059) precision: (test=0.137) precision_micro: (test=0.546) recall: (test=0.545) recall_micro: (test=0.546) total time=   0.2s\n",
      "[CV 3/4; 11/32] START estimator__max_depth=None, estimator__max_leaf_nodes=150, estimator__min_samples_leaf=1, estimator__min_samples_split=30, estimator__n_estimators=100, estimator__random_state=5000\n",
      "[CV 3/4; 11/32] END estimator__max_depth=None, estimator__max_leaf_nodes=150, estimator__min_samples_leaf=1, estimator__min_samples_split=30, estimator__n_estimators=100, estimator__random_state=5000; f1: (test=0.164) f1_micro: (test=0.601) m_c: (test=-0.014) precision: (test=0.108) precision_micro: (test=0.601) recall: (test=0.344) recall_micro: (test=0.601) total time=   0.2s\n",
      "[CV 4/4; 11/32] START estimator__max_depth=None, estimator__max_leaf_nodes=150, estimator__min_samples_leaf=1, estimator__min_samples_split=30, estimator__n_estimators=100, estimator__random_state=5000\n",
      "[CV 4/4; 11/32] END estimator__max_depth=None, estimator__max_leaf_nodes=150, estimator__min_samples_leaf=1, estimator__min_samples_split=30, estimator__n_estimators=100, estimator__random_state=5000; f1: (test=0.241) f1_micro: (test=0.552) m_c: (test=0.097) precision: (test=0.150) precision_micro: (test=0.552) recall: (test=0.606) recall_micro: (test=0.552) total time=   0.2s\n",
      "[CV 1/4; 12/32] START estimator__max_depth=None, estimator__max_leaf_nodes=150, estimator__min_samples_leaf=1, estimator__min_samples_split=30, estimator__n_estimators=800, estimator__random_state=5000\n"
     ]
    },
    {
     "name": "stdout",
     "output_type": "stream",
     "text": [
      "[CV 1/4; 12/32] END estimator__max_depth=None, estimator__max_leaf_nodes=150, estimator__min_samples_leaf=1, estimator__min_samples_split=30, estimator__n_estimators=800, estimator__random_state=5000; f1: (test=0.217) f1_micro: (test=0.642) m_c: (test=0.064) precision: (test=0.146) precision_micro: (test=0.642) recall: (test=0.424) recall_micro: (test=0.642) total time=   0.9s\n",
      "[CV 2/4; 12/32] START estimator__max_depth=None, estimator__max_leaf_nodes=150, estimator__min_samples_leaf=1, estimator__min_samples_split=30, estimator__n_estimators=800, estimator__random_state=5000\n",
      "[CV 2/4; 12/32] END estimator__max_depth=None, estimator__max_leaf_nodes=150, estimator__min_samples_leaf=1, estimator__min_samples_split=30, estimator__n_estimators=800, estimator__random_state=5000; f1: (test=0.238) f1_micro: (test=0.546) m_c: (test=0.093) precision: (test=0.148) precision_micro: (test=0.546) recall: (test=0.606) recall_micro: (test=0.546) total time=   0.9s\n",
      "[CV 3/4; 12/32] START estimator__max_depth=None, estimator__max_leaf_nodes=150, estimator__min_samples_leaf=1, estimator__min_samples_split=30, estimator__n_estimators=800, estimator__random_state=5000\n",
      "[CV 3/4; 12/32] END estimator__max_depth=None, estimator__max_leaf_nodes=150, estimator__min_samples_leaf=1, estimator__min_samples_split=30, estimator__n_estimators=800, estimator__random_state=5000; f1: (test=0.178) f1_micro: (test=0.605) m_c: (test=0.006) precision: (test=0.117) precision_micro: (test=0.605) recall: (test=0.375) recall_micro: (test=0.605) total time=   0.9s\n",
      "[CV 4/4; 12/32] START estimator__max_depth=None, estimator__max_leaf_nodes=150, estimator__min_samples_leaf=1, estimator__min_samples_split=30, estimator__n_estimators=800, estimator__random_state=5000\n",
      "[CV 4/4; 12/32] END estimator__max_depth=None, estimator__max_leaf_nodes=150, estimator__min_samples_leaf=1, estimator__min_samples_split=30, estimator__n_estimators=800, estimator__random_state=5000; f1: (test=0.228) f1_micro: (test=0.566) m_c: (test=0.074) precision: (test=0.144) precision_micro: (test=0.566) recall: (test=0.545) recall_micro: (test=0.566) total time=   0.9s\n",
      "[CV 1/4; 13/32] START estimator__max_depth=None, estimator__max_leaf_nodes=150, estimator__min_samples_leaf=2, estimator__min_samples_split=2, estimator__n_estimators=100, estimator__random_state=5000\n",
      "[CV 1/4; 13/32] END estimator__max_depth=None, estimator__max_leaf_nodes=150, estimator__min_samples_leaf=2, estimator__min_samples_split=2, estimator__n_estimators=100, estimator__random_state=5000; f1: (test=0.220) f1_micro: (test=0.649) m_c: (test=0.070) precision: (test=0.149) precision_micro: (test=0.649) recall: (test=0.424) recall_micro: (test=0.649) total time=   0.2s\n",
      "[CV 2/4; 13/32] START estimator__max_depth=None, estimator__max_leaf_nodes=150, estimator__min_samples_leaf=2, estimator__min_samples_split=2, estimator__n_estimators=100, estimator__random_state=5000\n",
      "[CV 2/4; 13/32] END estimator__max_depth=None, estimator__max_leaf_nodes=150, estimator__min_samples_leaf=2, estimator__min_samples_split=2, estimator__n_estimators=100, estimator__random_state=5000; f1: (test=0.298) f1_micro: (test=0.599) m_c: (test=0.200) precision: (test=0.188) precision_micro: (test=0.599) recall: (test=0.727) recall_micro: (test=0.599) total time=   0.2s\n",
      "[CV 3/4; 13/32] START estimator__max_depth=None, estimator__max_leaf_nodes=150, estimator__min_samples_leaf=2, estimator__min_samples_split=2, estimator__n_estimators=100, estimator__random_state=5000\n",
      "[CV 3/4; 13/32] END estimator__max_depth=None, estimator__max_leaf_nodes=150, estimator__min_samples_leaf=2, estimator__min_samples_split=2, estimator__n_estimators=100, estimator__random_state=5000; f1: (test=0.248) f1_micro: (test=0.612) m_c: (test=0.117) precision: (test=0.159) precision_micro: (test=0.612) recall: (test=0.562) recall_micro: (test=0.612) total time=   0.2s\n",
      "[CV 4/4; 13/32] START estimator__max_depth=None, estimator__max_leaf_nodes=150, estimator__min_samples_leaf=2, estimator__min_samples_split=2, estimator__n_estimators=100, estimator__random_state=5000\n",
      "[CV 4/4; 13/32] END estimator__max_depth=None, estimator__max_leaf_nodes=150, estimator__min_samples_leaf=2, estimator__min_samples_split=2, estimator__n_estimators=100, estimator__random_state=5000; f1: (test=0.248) f1_micro: (test=0.591) m_c: (test=0.110) precision: (test=0.158) precision_micro: (test=0.591) recall: (test=0.576) recall_micro: (test=0.591) total time=   0.2s\n",
      "[CV 1/4; 14/32] START estimator__max_depth=None, estimator__max_leaf_nodes=150, estimator__min_samples_leaf=2, estimator__min_samples_split=2, estimator__n_estimators=800, estimator__random_state=5000\n",
      "[CV 1/4; 14/32] END estimator__max_depth=None, estimator__max_leaf_nodes=150, estimator__min_samples_leaf=2, estimator__min_samples_split=2, estimator__n_estimators=800, estimator__random_state=5000; f1: (test=0.233) f1_micro: (test=0.649) m_c: (test=0.088) precision: (test=0.156) precision_micro: (test=0.649) recall: (test=0.455) recall_micro: (test=0.649) total time=   1.0s\n",
      "[CV 2/4; 14/32] START estimator__max_depth=None, estimator__max_leaf_nodes=150, estimator__min_samples_leaf=2, estimator__min_samples_split=2, estimator__n_estimators=800, estimator__random_state=5000\n",
      "[CV 2/4; 14/32] END estimator__max_depth=None, estimator__max_leaf_nodes=150, estimator__min_samples_leaf=2, estimator__min_samples_split=2, estimator__n_estimators=800, estimator__random_state=5000; f1: (test=0.273) f1_micro: (test=0.585) m_c: (test=0.156) precision: (test=0.172) precision_micro: (test=0.585) recall: (test=0.667) recall_micro: (test=0.585) total time=   1.0s\n",
      "[CV 3/4; 14/32] START estimator__max_depth=None, estimator__max_leaf_nodes=150, estimator__min_samples_leaf=2, estimator__min_samples_split=2, estimator__n_estimators=800, estimator__random_state=5000\n",
      "[CV 3/4; 14/32] END estimator__max_depth=None, estimator__max_leaf_nodes=150, estimator__min_samples_leaf=2, estimator__min_samples_split=2, estimator__n_estimators=800, estimator__random_state=5000; f1: (test=0.243) f1_micro: (test=0.623) m_c: (test=0.108) precision: (test=0.157) precision_micro: (test=0.623) recall: (test=0.531) recall_micro: (test=0.623) total time=   1.0s\n",
      "[CV 4/4; 14/32] START estimator__max_depth=None, estimator__max_leaf_nodes=150, estimator__min_samples_leaf=2, estimator__min_samples_split=2, estimator__n_estimators=800, estimator__random_state=5000\n",
      "[CV 4/4; 14/32] END estimator__max_depth=None, estimator__max_leaf_nodes=150, estimator__min_samples_leaf=2, estimator__min_samples_split=2, estimator__n_estimators=800, estimator__random_state=5000; f1: (test=0.280) f1_micro: (test=0.598) m_c: (test=0.166) precision: (test=0.177) precision_micro: (test=0.598) recall: (test=0.667) recall_micro: (test=0.598) total time=   1.0s\n",
      "[CV 1/4; 15/32] START estimator__max_depth=None, estimator__max_leaf_nodes=150, estimator__min_samples_leaf=2, estimator__min_samples_split=30, estimator__n_estimators=100, estimator__random_state=5000\n",
      "[CV 1/4; 15/32] END estimator__max_depth=None, estimator__max_leaf_nodes=150, estimator__min_samples_leaf=2, estimator__min_samples_split=30, estimator__n_estimators=100, estimator__random_state=5000; f1: (test=0.208) f1_micro: (test=0.649) m_c: (test=0.053) precision: (test=0.141) precision_micro: (test=0.649) recall: (test=0.394) recall_micro: (test=0.649) total time=   0.2s\n",
      "[CV 2/4; 15/32] START estimator__max_depth=None, estimator__max_leaf_nodes=150, estimator__min_samples_leaf=2, estimator__min_samples_split=30, estimator__n_estimators=100, estimator__random_state=5000\n",
      "[CV 2/4; 15/32] END estimator__max_depth=None, estimator__max_leaf_nodes=150, estimator__min_samples_leaf=2, estimator__min_samples_split=30, estimator__n_estimators=100, estimator__random_state=5000; f1: (test=0.249) f1_micro: (test=0.550) m_c: (test=0.112) precision: (test=0.154) precision_micro: (test=0.550) recall: (test=0.636) recall_micro: (test=0.550) total time=   0.2s\n",
      "[CV 3/4; 15/32] START estimator__max_depth=None, estimator__max_leaf_nodes=150, estimator__min_samples_leaf=2, estimator__min_samples_split=30, estimator__n_estimators=100, estimator__random_state=5000\n",
      "[CV 3/4; 15/32] END estimator__max_depth=None, estimator__max_leaf_nodes=150, estimator__min_samples_leaf=2, estimator__min_samples_split=30, estimator__n_estimators=100, estimator__random_state=5000; f1: (test=0.173) f1_micro: (test=0.591) m_c: (test=-0.004) precision: (test=0.112) precision_micro: (test=0.591) recall: (test=0.375) recall_micro: (test=0.591) total time=   0.2s\n",
      "[CV 4/4; 15/32] START estimator__max_depth=None, estimator__max_leaf_nodes=150, estimator__min_samples_leaf=2, estimator__min_samples_split=30, estimator__n_estimators=100, estimator__random_state=5000\n"
     ]
    },
    {
     "name": "stdout",
     "output_type": "stream",
     "text": [
      "[CV 4/4; 15/32] END estimator__max_depth=None, estimator__max_leaf_nodes=150, estimator__min_samples_leaf=2, estimator__min_samples_split=30, estimator__n_estimators=100, estimator__random_state=5000; f1: (test=0.244) f1_micro: (test=0.559) m_c: (test=0.102) precision: (test=0.153) precision_micro: (test=0.559) recall: (test=0.606) recall_micro: (test=0.559) total time=   0.2s\n",
      "[CV 1/4; 16/32] START estimator__max_depth=None, estimator__max_leaf_nodes=150, estimator__min_samples_leaf=2, estimator__min_samples_split=30, estimator__n_estimators=800, estimator__random_state=5000\n",
      "[CV 1/4; 16/32] END estimator__max_depth=None, estimator__max_leaf_nodes=150, estimator__min_samples_leaf=2, estimator__min_samples_split=30, estimator__n_estimators=800, estimator__random_state=5000; f1: (test=0.220) f1_micro: (test=0.649) m_c: (test=0.070) precision: (test=0.149) precision_micro: (test=0.649) recall: (test=0.424) recall_micro: (test=0.649) total time=   0.9s\n",
      "[CV 2/4; 16/32] START estimator__max_depth=None, estimator__max_leaf_nodes=150, estimator__min_samples_leaf=2, estimator__min_samples_split=30, estimator__n_estimators=800, estimator__random_state=5000\n",
      "[CV 2/4; 16/32] END estimator__max_depth=None, estimator__max_leaf_nodes=150, estimator__min_samples_leaf=2, estimator__min_samples_split=30, estimator__n_estimators=800, estimator__random_state=5000; f1: (test=0.244) f1_micro: (test=0.560) m_c: (test=0.103) precision: (test=0.153) precision_micro: (test=0.560) recall: (test=0.606) recall_micro: (test=0.560) total time=   0.9s\n",
      "[CV 3/4; 16/32] START estimator__max_depth=None, estimator__max_leaf_nodes=150, estimator__min_samples_leaf=2, estimator__min_samples_split=30, estimator__n_estimators=800, estimator__random_state=5000\n",
      "[CV 3/4; 16/32] END estimator__max_depth=None, estimator__max_leaf_nodes=150, estimator__min_samples_leaf=2, estimator__min_samples_split=30, estimator__n_estimators=800, estimator__random_state=5000; f1: (test=0.175) f1_micro: (test=0.598) m_c: (test=0.001) precision: (test=0.114) precision_micro: (test=0.598) recall: (test=0.375) recall_micro: (test=0.598) total time=   1.0s\n",
      "[CV 4/4; 16/32] START estimator__max_depth=None, estimator__max_leaf_nodes=150, estimator__min_samples_leaf=2, estimator__min_samples_split=30, estimator__n_estimators=800, estimator__random_state=5000\n",
      "[CV 4/4; 16/32] END estimator__max_depth=None, estimator__max_leaf_nodes=150, estimator__min_samples_leaf=2, estimator__min_samples_split=30, estimator__n_estimators=800, estimator__random_state=5000; f1: (test=0.224) f1_micro: (test=0.555) m_c: (test=0.066) precision: (test=0.141) precision_micro: (test=0.555) recall: (test=0.545) recall_micro: (test=0.555) total time=   1.0s\n",
      "[CV 1/4; 17/32] START estimator__max_depth=1, estimator__max_leaf_nodes=None, estimator__min_samples_leaf=1, estimator__min_samples_split=2, estimator__n_estimators=100, estimator__random_state=5000\n",
      "[CV 1/4; 17/32] END estimator__max_depth=1, estimator__max_leaf_nodes=None, estimator__min_samples_leaf=1, estimator__min_samples_split=2, estimator__n_estimators=100, estimator__random_state=5000; f1: (test=0.182) f1_micro: (test=0.585) m_c: (test=0.003) precision: (test=0.118) precision_micro: (test=0.585) recall: (test=0.394) recall_micro: (test=0.585) total time=   0.2s\n",
      "[CV 2/4; 17/32] START estimator__max_depth=1, estimator__max_leaf_nodes=None, estimator__min_samples_leaf=1, estimator__min_samples_split=2, estimator__n_estimators=100, estimator__random_state=5000\n",
      "[CV 2/4; 17/32] END estimator__max_depth=1, estimator__max_leaf_nodes=None, estimator__min_samples_leaf=1, estimator__min_samples_split=2, estimator__n_estimators=100, estimator__random_state=5000; f1: (test=0.218) f1_micro: (test=0.567) m_c: (test=0.058) precision: (test=0.138) precision_micro: (test=0.567) recall: (test=0.515) recall_micro: (test=0.567) total time=   0.2s\n",
      "[CV 3/4; 17/32] START estimator__max_depth=1, estimator__max_leaf_nodes=None, estimator__min_samples_leaf=1, estimator__min_samples_split=2, estimator__n_estimators=100, estimator__random_state=5000\n",
      "[CV 3/4; 17/32] END estimator__max_depth=1, estimator__max_leaf_nodes=None, estimator__min_samples_leaf=1, estimator__min_samples_split=2, estimator__n_estimators=100, estimator__random_state=5000; f1: (test=0.156) f1_micro: (test=0.577) m_c: (test=-0.032) precision: (test=0.101) precision_micro: (test=0.577) recall: (test=0.344) recall_micro: (test=0.577) total time=   0.2s\n",
      "[CV 4/4; 17/32] START estimator__max_depth=1, estimator__max_leaf_nodes=None, estimator__min_samples_leaf=1, estimator__min_samples_split=2, estimator__n_estimators=100, estimator__random_state=5000\n",
      "[CV 4/4; 17/32] END estimator__max_depth=1, estimator__max_leaf_nodes=None, estimator__min_samples_leaf=1, estimator__min_samples_split=2, estimator__n_estimators=100, estimator__random_state=5000; f1: (test=0.171) f1_micro: (test=0.516) m_c: (test=-0.031) precision: (test=0.107) precision_micro: (test=0.516) recall: (test=0.424) recall_micro: (test=0.516) total time=   0.2s\n",
      "[CV 1/4; 18/32] START estimator__max_depth=1, estimator__max_leaf_nodes=None, estimator__min_samples_leaf=1, estimator__min_samples_split=2, estimator__n_estimators=800, estimator__random_state=5000\n",
      "[CV 1/4; 18/32] END estimator__max_depth=1, estimator__max_leaf_nodes=None, estimator__min_samples_leaf=1, estimator__min_samples_split=2, estimator__n_estimators=800, estimator__random_state=5000; f1: (test=0.168) f1_micro: (test=0.649) m_c: (test=-0.002) precision: (test=0.116) precision_micro: (test=0.649) recall: (test=0.303) recall_micro: (test=0.649) total time=   0.9s\n",
      "[CV 2/4; 18/32] START estimator__max_depth=1, estimator__max_leaf_nodes=None, estimator__min_samples_leaf=1, estimator__min_samples_split=2, estimator__n_estimators=800, estimator__random_state=5000\n",
      "[CV 2/4; 18/32] END estimator__max_depth=1, estimator__max_leaf_nodes=None, estimator__min_samples_leaf=1, estimator__min_samples_split=2, estimator__n_estimators=800, estimator__random_state=5000; f1: (test=0.245) f1_micro: (test=0.564) m_c: (test=0.106) precision: (test=0.154) precision_micro: (test=0.564) recall: (test=0.606) recall_micro: (test=0.564) total time=   0.9s\n",
      "[CV 3/4; 18/32] START estimator__max_depth=1, estimator__max_leaf_nodes=None, estimator__min_samples_leaf=1, estimator__min_samples_split=2, estimator__n_estimators=800, estimator__random_state=5000\n",
      "[CV 3/4; 18/32] END estimator__max_depth=1, estimator__max_leaf_nodes=None, estimator__min_samples_leaf=1, estimator__min_samples_split=2, estimator__n_estimators=800, estimator__random_state=5000; f1: (test=0.141) f1_micro: (test=0.609) m_c: (test=-0.046) precision: (test=0.094) precision_micro: (test=0.609) recall: (test=0.281) recall_micro: (test=0.609) total time=   0.9s\n",
      "[CV 4/4; 18/32] START estimator__max_depth=1, estimator__max_leaf_nodes=None, estimator__min_samples_leaf=1, estimator__min_samples_split=2, estimator__n_estimators=800, estimator__random_state=5000\n",
      "[CV 4/4; 18/32] END estimator__max_depth=1, estimator__max_leaf_nodes=None, estimator__min_samples_leaf=1, estimator__min_samples_split=2, estimator__n_estimators=800, estimator__random_state=5000; f1: (test=0.177) f1_micro: (test=0.537) m_c: (test=-0.015) precision: (test=0.112) precision_micro: (test=0.537) recall: (test=0.424) recall_micro: (test=0.537) total time=   0.9s\n",
      "[CV 1/4; 19/32] START estimator__max_depth=1, estimator__max_leaf_nodes=None, estimator__min_samples_leaf=1, estimator__min_samples_split=30, estimator__n_estimators=100, estimator__random_state=5000\n",
      "[CV 1/4; 19/32] END estimator__max_depth=1, estimator__max_leaf_nodes=None, estimator__min_samples_leaf=1, estimator__min_samples_split=30, estimator__n_estimators=100, estimator__random_state=5000; f1: (test=0.182) f1_micro: (test=0.585) m_c: (test=0.003) precision: (test=0.118) precision_micro: (test=0.585) recall: (test=0.394) recall_micro: (test=0.585) total time=   0.2s\n",
      "[CV 2/4; 19/32] START estimator__max_depth=1, estimator__max_leaf_nodes=None, estimator__min_samples_leaf=1, estimator__min_samples_split=30, estimator__n_estimators=100, estimator__random_state=5000\n",
      "[CV 2/4; 19/32] END estimator__max_depth=1, estimator__max_leaf_nodes=None, estimator__min_samples_leaf=1, estimator__min_samples_split=30, estimator__n_estimators=100, estimator__random_state=5000; f1: (test=0.218) f1_micro: (test=0.567) m_c: (test=0.058) precision: (test=0.138) precision_micro: (test=0.567) recall: (test=0.515) recall_micro: (test=0.567) total time=   0.2s\n",
      "[CV 3/4; 19/32] START estimator__max_depth=1, estimator__max_leaf_nodes=None, estimator__min_samples_leaf=1, estimator__min_samples_split=30, estimator__n_estimators=100, estimator__random_state=5000\n",
      "[CV 3/4; 19/32] END estimator__max_depth=1, estimator__max_leaf_nodes=None, estimator__min_samples_leaf=1, estimator__min_samples_split=30, estimator__n_estimators=100, estimator__random_state=5000; f1: (test=0.156) f1_micro: (test=0.577) m_c: (test=-0.032) precision: (test=0.101) precision_micro: (test=0.577) recall: (test=0.344) recall_micro: (test=0.577) total time=   0.2s\n",
      "[CV 4/4; 19/32] START estimator__max_depth=1, estimator__max_leaf_nodes=None, estimator__min_samples_leaf=1, estimator__min_samples_split=30, estimator__n_estimators=100, estimator__random_state=5000\n"
     ]
    },
    {
     "name": "stdout",
     "output_type": "stream",
     "text": [
      "[CV 4/4; 19/32] END estimator__max_depth=1, estimator__max_leaf_nodes=None, estimator__min_samples_leaf=1, estimator__min_samples_split=30, estimator__n_estimators=100, estimator__random_state=5000; f1: (test=0.171) f1_micro: (test=0.516) m_c: (test=-0.031) precision: (test=0.107) precision_micro: (test=0.516) recall: (test=0.424) recall_micro: (test=0.516) total time=   0.2s\n",
      "[CV 1/4; 20/32] START estimator__max_depth=1, estimator__max_leaf_nodes=None, estimator__min_samples_leaf=1, estimator__min_samples_split=30, estimator__n_estimators=800, estimator__random_state=5000\n",
      "[CV 1/4; 20/32] END estimator__max_depth=1, estimator__max_leaf_nodes=None, estimator__min_samples_leaf=1, estimator__min_samples_split=30, estimator__n_estimators=800, estimator__random_state=5000; f1: (test=0.168) f1_micro: (test=0.649) m_c: (test=-0.002) precision: (test=0.116) precision_micro: (test=0.649) recall: (test=0.303) recall_micro: (test=0.649) total time=   0.9s\n",
      "[CV 2/4; 20/32] START estimator__max_depth=1, estimator__max_leaf_nodes=None, estimator__min_samples_leaf=1, estimator__min_samples_split=30, estimator__n_estimators=800, estimator__random_state=5000\n",
      "[CV 2/4; 20/32] END estimator__max_depth=1, estimator__max_leaf_nodes=None, estimator__min_samples_leaf=1, estimator__min_samples_split=30, estimator__n_estimators=800, estimator__random_state=5000; f1: (test=0.245) f1_micro: (test=0.564) m_c: (test=0.106) precision: (test=0.154) precision_micro: (test=0.564) recall: (test=0.606) recall_micro: (test=0.564) total time=   0.9s\n",
      "[CV 3/4; 20/32] START estimator__max_depth=1, estimator__max_leaf_nodes=None, estimator__min_samples_leaf=1, estimator__min_samples_split=30, estimator__n_estimators=800, estimator__random_state=5000\n",
      "[CV 3/4; 20/32] END estimator__max_depth=1, estimator__max_leaf_nodes=None, estimator__min_samples_leaf=1, estimator__min_samples_split=30, estimator__n_estimators=800, estimator__random_state=5000; f1: (test=0.141) f1_micro: (test=0.609) m_c: (test=-0.046) precision: (test=0.094) precision_micro: (test=0.609) recall: (test=0.281) recall_micro: (test=0.609) total time=   0.9s\n",
      "[CV 4/4; 20/32] START estimator__max_depth=1, estimator__max_leaf_nodes=None, estimator__min_samples_leaf=1, estimator__min_samples_split=30, estimator__n_estimators=800, estimator__random_state=5000\n",
      "[CV 4/4; 20/32] END estimator__max_depth=1, estimator__max_leaf_nodes=None, estimator__min_samples_leaf=1, estimator__min_samples_split=30, estimator__n_estimators=800, estimator__random_state=5000; f1: (test=0.177) f1_micro: (test=0.537) m_c: (test=-0.015) precision: (test=0.112) precision_micro: (test=0.537) recall: (test=0.424) recall_micro: (test=0.537) total time=   0.9s\n",
      "[CV 1/4; 21/32] START estimator__max_depth=1, estimator__max_leaf_nodes=None, estimator__min_samples_leaf=2, estimator__min_samples_split=2, estimator__n_estimators=100, estimator__random_state=5000\n",
      "[CV 1/4; 21/32] END estimator__max_depth=1, estimator__max_leaf_nodes=None, estimator__min_samples_leaf=2, estimator__min_samples_split=2, estimator__n_estimators=100, estimator__random_state=5000; f1: (test=0.181) f1_micro: (test=0.582) m_c: (test=0.000) precision: (test=0.117) precision_micro: (test=0.582) recall: (test=0.394) recall_micro: (test=0.582) total time=   0.2s\n",
      "[CV 2/4; 21/32] START estimator__max_depth=1, estimator__max_leaf_nodes=None, estimator__min_samples_leaf=2, estimator__min_samples_split=2, estimator__n_estimators=100, estimator__random_state=5000\n",
      "[CV 2/4; 21/32] END estimator__max_depth=1, estimator__max_leaf_nodes=None, estimator__min_samples_leaf=2, estimator__min_samples_split=2, estimator__n_estimators=100, estimator__random_state=5000; f1: (test=0.218) f1_micro: (test=0.567) m_c: (test=0.058) precision: (test=0.138) precision_micro: (test=0.567) recall: (test=0.515) recall_micro: (test=0.567) total time=   0.2s\n",
      "[CV 3/4; 21/32] START estimator__max_depth=1, estimator__max_leaf_nodes=None, estimator__min_samples_leaf=2, estimator__min_samples_split=2, estimator__n_estimators=100, estimator__random_state=5000\n",
      "[CV 3/4; 21/32] END estimator__max_depth=1, estimator__max_leaf_nodes=None, estimator__min_samples_leaf=2, estimator__min_samples_split=2, estimator__n_estimators=100, estimator__random_state=5000; f1: (test=0.156) f1_micro: (test=0.577) m_c: (test=-0.032) precision: (test=0.101) precision_micro: (test=0.577) recall: (test=0.344) recall_micro: (test=0.577) total time=   0.3s\n",
      "[CV 4/4; 21/32] START estimator__max_depth=1, estimator__max_leaf_nodes=None, estimator__min_samples_leaf=2, estimator__min_samples_split=2, estimator__n_estimators=100, estimator__random_state=5000\n",
      "[CV 4/4; 21/32] END estimator__max_depth=1, estimator__max_leaf_nodes=None, estimator__min_samples_leaf=2, estimator__min_samples_split=2, estimator__n_estimators=100, estimator__random_state=5000; f1: (test=0.172) f1_micro: (test=0.520) m_c: (test=-0.028) precision: (test=0.108) precision_micro: (test=0.520) recall: (test=0.424) recall_micro: (test=0.520) total time=   0.2s\n",
      "[CV 1/4; 22/32] START estimator__max_depth=1, estimator__max_leaf_nodes=None, estimator__min_samples_leaf=2, estimator__min_samples_split=2, estimator__n_estimators=800, estimator__random_state=5000\n",
      "[CV 1/4; 22/32] END estimator__max_depth=1, estimator__max_leaf_nodes=None, estimator__min_samples_leaf=2, estimator__min_samples_split=2, estimator__n_estimators=800, estimator__random_state=5000; f1: (test=0.168) f1_micro: (test=0.649) m_c: (test=-0.002) precision: (test=0.116) precision_micro: (test=0.649) recall: (test=0.303) recall_micro: (test=0.649) total time=   0.9s\n",
      "[CV 2/4; 22/32] START estimator__max_depth=1, estimator__max_leaf_nodes=None, estimator__min_samples_leaf=2, estimator__min_samples_split=2, estimator__n_estimators=800, estimator__random_state=5000\n",
      "[CV 2/4; 22/32] END estimator__max_depth=1, estimator__max_leaf_nodes=None, estimator__min_samples_leaf=2, estimator__min_samples_split=2, estimator__n_estimators=800, estimator__random_state=5000; f1: (test=0.245) f1_micro: (test=0.564) m_c: (test=0.106) precision: (test=0.154) precision_micro: (test=0.564) recall: (test=0.606) recall_micro: (test=0.564) total time=   1.0s\n",
      "[CV 3/4; 22/32] START estimator__max_depth=1, estimator__max_leaf_nodes=None, estimator__min_samples_leaf=2, estimator__min_samples_split=2, estimator__n_estimators=800, estimator__random_state=5000\n",
      "[CV 3/4; 22/32] END estimator__max_depth=1, estimator__max_leaf_nodes=None, estimator__min_samples_leaf=2, estimator__min_samples_split=2, estimator__n_estimators=800, estimator__random_state=5000; f1: (test=0.141) f1_micro: (test=0.609) m_c: (test=-0.046) precision: (test=0.094) precision_micro: (test=0.609) recall: (test=0.281) recall_micro: (test=0.609) total time=   0.9s\n",
      "[CV 4/4; 22/32] START estimator__max_depth=1, estimator__max_leaf_nodes=None, estimator__min_samples_leaf=2, estimator__min_samples_split=2, estimator__n_estimators=800, estimator__random_state=5000\n",
      "[CV 4/4; 22/32] END estimator__max_depth=1, estimator__max_leaf_nodes=None, estimator__min_samples_leaf=2, estimator__min_samples_split=2, estimator__n_estimators=800, estimator__random_state=5000; f1: (test=0.175) f1_micro: (test=0.530) m_c: (test=-0.020) precision: (test=0.110) precision_micro: (test=0.530) recall: (test=0.424) recall_micro: (test=0.530) total time=   1.0s\n",
      "[CV 1/4; 23/32] START estimator__max_depth=1, estimator__max_leaf_nodes=None, estimator__min_samples_leaf=2, estimator__min_samples_split=30, estimator__n_estimators=100, estimator__random_state=5000\n",
      "[CV 1/4; 23/32] END estimator__max_depth=1, estimator__max_leaf_nodes=None, estimator__min_samples_leaf=2, estimator__min_samples_split=30, estimator__n_estimators=100, estimator__random_state=5000; f1: (test=0.181) f1_micro: (test=0.582) m_c: (test=0.000) precision: (test=0.117) precision_micro: (test=0.582) recall: (test=0.394) recall_micro: (test=0.582) total time=   0.2s\n",
      "[CV 2/4; 23/32] START estimator__max_depth=1, estimator__max_leaf_nodes=None, estimator__min_samples_leaf=2, estimator__min_samples_split=30, estimator__n_estimators=100, estimator__random_state=5000\n",
      "[CV 2/4; 23/32] END estimator__max_depth=1, estimator__max_leaf_nodes=None, estimator__min_samples_leaf=2, estimator__min_samples_split=30, estimator__n_estimators=100, estimator__random_state=5000; f1: (test=0.218) f1_micro: (test=0.567) m_c: (test=0.058) precision: (test=0.138) precision_micro: (test=0.567) recall: (test=0.515) recall_micro: (test=0.567) total time=   0.2s\n",
      "[CV 3/4; 23/32] START estimator__max_depth=1, estimator__max_leaf_nodes=None, estimator__min_samples_leaf=2, estimator__min_samples_split=30, estimator__n_estimators=100, estimator__random_state=5000\n"
     ]
    },
    {
     "name": "stdout",
     "output_type": "stream",
     "text": [
      "[CV 3/4; 23/32] END estimator__max_depth=1, estimator__max_leaf_nodes=None, estimator__min_samples_leaf=2, estimator__min_samples_split=30, estimator__n_estimators=100, estimator__random_state=5000; f1: (test=0.156) f1_micro: (test=0.577) m_c: (test=-0.032) precision: (test=0.101) precision_micro: (test=0.577) recall: (test=0.344) recall_micro: (test=0.577) total time=   0.2s\n",
      "[CV 4/4; 23/32] START estimator__max_depth=1, estimator__max_leaf_nodes=None, estimator__min_samples_leaf=2, estimator__min_samples_split=30, estimator__n_estimators=100, estimator__random_state=5000\n",
      "[CV 4/4; 23/32] END estimator__max_depth=1, estimator__max_leaf_nodes=None, estimator__min_samples_leaf=2, estimator__min_samples_split=30, estimator__n_estimators=100, estimator__random_state=5000; f1: (test=0.172) f1_micro: (test=0.520) m_c: (test=-0.028) precision: (test=0.108) precision_micro: (test=0.520) recall: (test=0.424) recall_micro: (test=0.520) total time=   0.2s\n",
      "[CV 1/4; 24/32] START estimator__max_depth=1, estimator__max_leaf_nodes=None, estimator__min_samples_leaf=2, estimator__min_samples_split=30, estimator__n_estimators=800, estimator__random_state=5000\n",
      "[CV 1/4; 24/32] END estimator__max_depth=1, estimator__max_leaf_nodes=None, estimator__min_samples_leaf=2, estimator__min_samples_split=30, estimator__n_estimators=800, estimator__random_state=5000; f1: (test=0.168) f1_micro: (test=0.649) m_c: (test=-0.002) precision: (test=0.116) precision_micro: (test=0.649) recall: (test=0.303) recall_micro: (test=0.649) total time=   0.9s\n",
      "[CV 2/4; 24/32] START estimator__max_depth=1, estimator__max_leaf_nodes=None, estimator__min_samples_leaf=2, estimator__min_samples_split=30, estimator__n_estimators=800, estimator__random_state=5000\n",
      "[CV 2/4; 24/32] END estimator__max_depth=1, estimator__max_leaf_nodes=None, estimator__min_samples_leaf=2, estimator__min_samples_split=30, estimator__n_estimators=800, estimator__random_state=5000; f1: (test=0.245) f1_micro: (test=0.564) m_c: (test=0.106) precision: (test=0.154) precision_micro: (test=0.564) recall: (test=0.606) recall_micro: (test=0.564) total time=   1.0s\n",
      "[CV 3/4; 24/32] START estimator__max_depth=1, estimator__max_leaf_nodes=None, estimator__min_samples_leaf=2, estimator__min_samples_split=30, estimator__n_estimators=800, estimator__random_state=5000\n",
      "[CV 3/4; 24/32] END estimator__max_depth=1, estimator__max_leaf_nodes=None, estimator__min_samples_leaf=2, estimator__min_samples_split=30, estimator__n_estimators=800, estimator__random_state=5000; f1: (test=0.141) f1_micro: (test=0.609) m_c: (test=-0.046) precision: (test=0.094) precision_micro: (test=0.609) recall: (test=0.281) recall_micro: (test=0.609) total time=   1.0s\n",
      "[CV 4/4; 24/32] START estimator__max_depth=1, estimator__max_leaf_nodes=None, estimator__min_samples_leaf=2, estimator__min_samples_split=30, estimator__n_estimators=800, estimator__random_state=5000\n",
      "[CV 4/4; 24/32] END estimator__max_depth=1, estimator__max_leaf_nodes=None, estimator__min_samples_leaf=2, estimator__min_samples_split=30, estimator__n_estimators=800, estimator__random_state=5000; f1: (test=0.175) f1_micro: (test=0.530) m_c: (test=-0.020) precision: (test=0.110) precision_micro: (test=0.530) recall: (test=0.424) recall_micro: (test=0.530) total time=   1.1s\n",
      "[CV 1/4; 25/32] START estimator__max_depth=1, estimator__max_leaf_nodes=150, estimator__min_samples_leaf=1, estimator__min_samples_split=2, estimator__n_estimators=100, estimator__random_state=5000\n",
      "[CV 1/4; 25/32] END estimator__max_depth=1, estimator__max_leaf_nodes=150, estimator__min_samples_leaf=1, estimator__min_samples_split=2, estimator__n_estimators=100, estimator__random_state=5000; f1: (test=0.182) f1_micro: (test=0.585) m_c: (test=0.003) precision: (test=0.118) precision_micro: (test=0.585) recall: (test=0.394) recall_micro: (test=0.585) total time=   0.2s\n",
      "[CV 2/4; 25/32] START estimator__max_depth=1, estimator__max_leaf_nodes=150, estimator__min_samples_leaf=1, estimator__min_samples_split=2, estimator__n_estimators=100, estimator__random_state=5000\n",
      "[CV 2/4; 25/32] END estimator__max_depth=1, estimator__max_leaf_nodes=150, estimator__min_samples_leaf=1, estimator__min_samples_split=2, estimator__n_estimators=100, estimator__random_state=5000; f1: (test=0.218) f1_micro: (test=0.567) m_c: (test=0.058) precision: (test=0.138) precision_micro: (test=0.567) recall: (test=0.515) recall_micro: (test=0.567) total time=   0.3s\n",
      "[CV 3/4; 25/32] START estimator__max_depth=1, estimator__max_leaf_nodes=150, estimator__min_samples_leaf=1, estimator__min_samples_split=2, estimator__n_estimators=100, estimator__random_state=5000\n",
      "[CV 3/4; 25/32] END estimator__max_depth=1, estimator__max_leaf_nodes=150, estimator__min_samples_leaf=1, estimator__min_samples_split=2, estimator__n_estimators=100, estimator__random_state=5000; f1: (test=0.156) f1_micro: (test=0.577) m_c: (test=-0.032) precision: (test=0.101) precision_micro: (test=0.577) recall: (test=0.344) recall_micro: (test=0.577) total time=   0.2s\n",
      "[CV 4/4; 25/32] START estimator__max_depth=1, estimator__max_leaf_nodes=150, estimator__min_samples_leaf=1, estimator__min_samples_split=2, estimator__n_estimators=100, estimator__random_state=5000\n",
      "[CV 4/4; 25/32] END estimator__max_depth=1, estimator__max_leaf_nodes=150, estimator__min_samples_leaf=1, estimator__min_samples_split=2, estimator__n_estimators=100, estimator__random_state=5000; f1: (test=0.171) f1_micro: (test=0.516) m_c: (test=-0.031) precision: (test=0.107) precision_micro: (test=0.516) recall: (test=0.424) recall_micro: (test=0.516) total time=   0.2s\n",
      "[CV 1/4; 26/32] START estimator__max_depth=1, estimator__max_leaf_nodes=150, estimator__min_samples_leaf=1, estimator__min_samples_split=2, estimator__n_estimators=800, estimator__random_state=5000\n",
      "[CV 1/4; 26/32] END estimator__max_depth=1, estimator__max_leaf_nodes=150, estimator__min_samples_leaf=1, estimator__min_samples_split=2, estimator__n_estimators=800, estimator__random_state=5000; f1: (test=0.168) f1_micro: (test=0.649) m_c: (test=-0.002) precision: (test=0.116) precision_micro: (test=0.649) recall: (test=0.303) recall_micro: (test=0.649) total time=   1.0s\n",
      "[CV 2/4; 26/32] START estimator__max_depth=1, estimator__max_leaf_nodes=150, estimator__min_samples_leaf=1, estimator__min_samples_split=2, estimator__n_estimators=800, estimator__random_state=5000\n",
      "[CV 2/4; 26/32] END estimator__max_depth=1, estimator__max_leaf_nodes=150, estimator__min_samples_leaf=1, estimator__min_samples_split=2, estimator__n_estimators=800, estimator__random_state=5000; f1: (test=0.245) f1_micro: (test=0.564) m_c: (test=0.106) precision: (test=0.154) precision_micro: (test=0.564) recall: (test=0.606) recall_micro: (test=0.564) total time=   0.9s\n",
      "[CV 3/4; 26/32] START estimator__max_depth=1, estimator__max_leaf_nodes=150, estimator__min_samples_leaf=1, estimator__min_samples_split=2, estimator__n_estimators=800, estimator__random_state=5000\n",
      "[CV 3/4; 26/32] END estimator__max_depth=1, estimator__max_leaf_nodes=150, estimator__min_samples_leaf=1, estimator__min_samples_split=2, estimator__n_estimators=800, estimator__random_state=5000; f1: (test=0.141) f1_micro: (test=0.609) m_c: (test=-0.046) precision: (test=0.094) precision_micro: (test=0.609) recall: (test=0.281) recall_micro: (test=0.609) total time=   1.0s\n",
      "[CV 4/4; 26/32] START estimator__max_depth=1, estimator__max_leaf_nodes=150, estimator__min_samples_leaf=1, estimator__min_samples_split=2, estimator__n_estimators=800, estimator__random_state=5000\n",
      "[CV 4/4; 26/32] END estimator__max_depth=1, estimator__max_leaf_nodes=150, estimator__min_samples_leaf=1, estimator__min_samples_split=2, estimator__n_estimators=800, estimator__random_state=5000; f1: (test=0.177) f1_micro: (test=0.537) m_c: (test=-0.015) precision: (test=0.112) precision_micro: (test=0.537) recall: (test=0.424) recall_micro: (test=0.537) total time=   1.0s\n",
      "[CV 1/4; 27/32] START estimator__max_depth=1, estimator__max_leaf_nodes=150, estimator__min_samples_leaf=1, estimator__min_samples_split=30, estimator__n_estimators=100, estimator__random_state=5000\n",
      "[CV 1/4; 27/32] END estimator__max_depth=1, estimator__max_leaf_nodes=150, estimator__min_samples_leaf=1, estimator__min_samples_split=30, estimator__n_estimators=100, estimator__random_state=5000; f1: (test=0.182) f1_micro: (test=0.585) m_c: (test=0.003) precision: (test=0.118) precision_micro: (test=0.585) recall: (test=0.394) recall_micro: (test=0.585) total time=   0.2s\n",
      "[CV 2/4; 27/32] START estimator__max_depth=1, estimator__max_leaf_nodes=150, estimator__min_samples_leaf=1, estimator__min_samples_split=30, estimator__n_estimators=100, estimator__random_state=5000\n",
      "[CV 2/4; 27/32] END estimator__max_depth=1, estimator__max_leaf_nodes=150, estimator__min_samples_leaf=1, estimator__min_samples_split=30, estimator__n_estimators=100, estimator__random_state=5000; f1: (test=0.218) f1_micro: (test=0.567) m_c: (test=0.058) precision: (test=0.138) precision_micro: (test=0.567) recall: (test=0.515) recall_micro: (test=0.567) total time=   0.2s\n",
      "[CV 3/4; 27/32] START estimator__max_depth=1, estimator__max_leaf_nodes=150, estimator__min_samples_leaf=1, estimator__min_samples_split=30, estimator__n_estimators=100, estimator__random_state=5000\n"
     ]
    },
    {
     "name": "stdout",
     "output_type": "stream",
     "text": [
      "[CV 3/4; 27/32] END estimator__max_depth=1, estimator__max_leaf_nodes=150, estimator__min_samples_leaf=1, estimator__min_samples_split=30, estimator__n_estimators=100, estimator__random_state=5000; f1: (test=0.156) f1_micro: (test=0.577) m_c: (test=-0.032) precision: (test=0.101) precision_micro: (test=0.577) recall: (test=0.344) recall_micro: (test=0.577) total time=   0.2s\n",
      "[CV 4/4; 27/32] START estimator__max_depth=1, estimator__max_leaf_nodes=150, estimator__min_samples_leaf=1, estimator__min_samples_split=30, estimator__n_estimators=100, estimator__random_state=5000\n",
      "[CV 4/4; 27/32] END estimator__max_depth=1, estimator__max_leaf_nodes=150, estimator__min_samples_leaf=1, estimator__min_samples_split=30, estimator__n_estimators=100, estimator__random_state=5000; f1: (test=0.171) f1_micro: (test=0.516) m_c: (test=-0.031) precision: (test=0.107) precision_micro: (test=0.516) recall: (test=0.424) recall_micro: (test=0.516) total time=   0.3s\n",
      "[CV 1/4; 28/32] START estimator__max_depth=1, estimator__max_leaf_nodes=150, estimator__min_samples_leaf=1, estimator__min_samples_split=30, estimator__n_estimators=800, estimator__random_state=5000\n",
      "[CV 1/4; 28/32] END estimator__max_depth=1, estimator__max_leaf_nodes=150, estimator__min_samples_leaf=1, estimator__min_samples_split=30, estimator__n_estimators=800, estimator__random_state=5000; f1: (test=0.168) f1_micro: (test=0.649) m_c: (test=-0.002) precision: (test=0.116) precision_micro: (test=0.649) recall: (test=0.303) recall_micro: (test=0.649) total time=   1.0s\n",
      "[CV 2/4; 28/32] START estimator__max_depth=1, estimator__max_leaf_nodes=150, estimator__min_samples_leaf=1, estimator__min_samples_split=30, estimator__n_estimators=800, estimator__random_state=5000\n",
      "[CV 2/4; 28/32] END estimator__max_depth=1, estimator__max_leaf_nodes=150, estimator__min_samples_leaf=1, estimator__min_samples_split=30, estimator__n_estimators=800, estimator__random_state=5000; f1: (test=0.245) f1_micro: (test=0.564) m_c: (test=0.106) precision: (test=0.154) precision_micro: (test=0.564) recall: (test=0.606) recall_micro: (test=0.564) total time=   1.0s\n",
      "[CV 3/4; 28/32] START estimator__max_depth=1, estimator__max_leaf_nodes=150, estimator__min_samples_leaf=1, estimator__min_samples_split=30, estimator__n_estimators=800, estimator__random_state=5000\n",
      "[CV 3/4; 28/32] END estimator__max_depth=1, estimator__max_leaf_nodes=150, estimator__min_samples_leaf=1, estimator__min_samples_split=30, estimator__n_estimators=800, estimator__random_state=5000; f1: (test=0.141) f1_micro: (test=0.609) m_c: (test=-0.046) precision: (test=0.094) precision_micro: (test=0.609) recall: (test=0.281) recall_micro: (test=0.609) total time=   0.9s\n",
      "[CV 4/4; 28/32] START estimator__max_depth=1, estimator__max_leaf_nodes=150, estimator__min_samples_leaf=1, estimator__min_samples_split=30, estimator__n_estimators=800, estimator__random_state=5000\n",
      "[CV 4/4; 28/32] END estimator__max_depth=1, estimator__max_leaf_nodes=150, estimator__min_samples_leaf=1, estimator__min_samples_split=30, estimator__n_estimators=800, estimator__random_state=5000; f1: (test=0.177) f1_micro: (test=0.537) m_c: (test=-0.015) precision: (test=0.112) precision_micro: (test=0.537) recall: (test=0.424) recall_micro: (test=0.537) total time=   1.0s\n",
      "[CV 1/4; 29/32] START estimator__max_depth=1, estimator__max_leaf_nodes=150, estimator__min_samples_leaf=2, estimator__min_samples_split=2, estimator__n_estimators=100, estimator__random_state=5000\n",
      "[CV 1/4; 29/32] END estimator__max_depth=1, estimator__max_leaf_nodes=150, estimator__min_samples_leaf=2, estimator__min_samples_split=2, estimator__n_estimators=100, estimator__random_state=5000; f1: (test=0.181) f1_micro: (test=0.582) m_c: (test=0.000) precision: (test=0.117) precision_micro: (test=0.582) recall: (test=0.394) recall_micro: (test=0.582) total time=   0.2s\n",
      "[CV 2/4; 29/32] START estimator__max_depth=1, estimator__max_leaf_nodes=150, estimator__min_samples_leaf=2, estimator__min_samples_split=2, estimator__n_estimators=100, estimator__random_state=5000\n",
      "[CV 2/4; 29/32] END estimator__max_depth=1, estimator__max_leaf_nodes=150, estimator__min_samples_leaf=2, estimator__min_samples_split=2, estimator__n_estimators=100, estimator__random_state=5000; f1: (test=0.218) f1_micro: (test=0.567) m_c: (test=0.058) precision: (test=0.138) precision_micro: (test=0.567) recall: (test=0.515) recall_micro: (test=0.567) total time=   0.2s\n",
      "[CV 3/4; 29/32] START estimator__max_depth=1, estimator__max_leaf_nodes=150, estimator__min_samples_leaf=2, estimator__min_samples_split=2, estimator__n_estimators=100, estimator__random_state=5000\n",
      "[CV 3/4; 29/32] END estimator__max_depth=1, estimator__max_leaf_nodes=150, estimator__min_samples_leaf=2, estimator__min_samples_split=2, estimator__n_estimators=100, estimator__random_state=5000; f1: (test=0.156) f1_micro: (test=0.577) m_c: (test=-0.032) precision: (test=0.101) precision_micro: (test=0.577) recall: (test=0.344) recall_micro: (test=0.577) total time=   0.2s\n",
      "[CV 4/4; 29/32] START estimator__max_depth=1, estimator__max_leaf_nodes=150, estimator__min_samples_leaf=2, estimator__min_samples_split=2, estimator__n_estimators=100, estimator__random_state=5000\n",
      "[CV 4/4; 29/32] END estimator__max_depth=1, estimator__max_leaf_nodes=150, estimator__min_samples_leaf=2, estimator__min_samples_split=2, estimator__n_estimators=100, estimator__random_state=5000; f1: (test=0.172) f1_micro: (test=0.520) m_c: (test=-0.028) precision: (test=0.108) precision_micro: (test=0.520) recall: (test=0.424) recall_micro: (test=0.520) total time=   0.2s\n",
      "[CV 1/4; 30/32] START estimator__max_depth=1, estimator__max_leaf_nodes=150, estimator__min_samples_leaf=2, estimator__min_samples_split=2, estimator__n_estimators=800, estimator__random_state=5000\n",
      "[CV 1/4; 30/32] END estimator__max_depth=1, estimator__max_leaf_nodes=150, estimator__min_samples_leaf=2, estimator__min_samples_split=2, estimator__n_estimators=800, estimator__random_state=5000; f1: (test=0.168) f1_micro: (test=0.649) m_c: (test=-0.002) precision: (test=0.116) precision_micro: (test=0.649) recall: (test=0.303) recall_micro: (test=0.649) total time=   1.0s\n",
      "[CV 2/4; 30/32] START estimator__max_depth=1, estimator__max_leaf_nodes=150, estimator__min_samples_leaf=2, estimator__min_samples_split=2, estimator__n_estimators=800, estimator__random_state=5000\n",
      "[CV 2/4; 30/32] END estimator__max_depth=1, estimator__max_leaf_nodes=150, estimator__min_samples_leaf=2, estimator__min_samples_split=2, estimator__n_estimators=800, estimator__random_state=5000; f1: (test=0.245) f1_micro: (test=0.564) m_c: (test=0.106) precision: (test=0.154) precision_micro: (test=0.564) recall: (test=0.606) recall_micro: (test=0.564) total time=   0.9s\n",
      "[CV 3/4; 30/32] START estimator__max_depth=1, estimator__max_leaf_nodes=150, estimator__min_samples_leaf=2, estimator__min_samples_split=2, estimator__n_estimators=800, estimator__random_state=5000\n",
      "[CV 3/4; 30/32] END estimator__max_depth=1, estimator__max_leaf_nodes=150, estimator__min_samples_leaf=2, estimator__min_samples_split=2, estimator__n_estimators=800, estimator__random_state=5000; f1: (test=0.141) f1_micro: (test=0.609) m_c: (test=-0.046) precision: (test=0.094) precision_micro: (test=0.609) recall: (test=0.281) recall_micro: (test=0.609) total time=   1.0s\n",
      "[CV 4/4; 30/32] START estimator__max_depth=1, estimator__max_leaf_nodes=150, estimator__min_samples_leaf=2, estimator__min_samples_split=2, estimator__n_estimators=800, estimator__random_state=5000\n",
      "[CV 4/4; 30/32] END estimator__max_depth=1, estimator__max_leaf_nodes=150, estimator__min_samples_leaf=2, estimator__min_samples_split=2, estimator__n_estimators=800, estimator__random_state=5000; f1: (test=0.175) f1_micro: (test=0.530) m_c: (test=-0.020) precision: (test=0.110) precision_micro: (test=0.530) recall: (test=0.424) recall_micro: (test=0.530) total time=   0.9s\n",
      "[CV 1/4; 31/32] START estimator__max_depth=1, estimator__max_leaf_nodes=150, estimator__min_samples_leaf=2, estimator__min_samples_split=30, estimator__n_estimators=100, estimator__random_state=5000\n",
      "[CV 1/4; 31/32] END estimator__max_depth=1, estimator__max_leaf_nodes=150, estimator__min_samples_leaf=2, estimator__min_samples_split=30, estimator__n_estimators=100, estimator__random_state=5000; f1: (test=0.181) f1_micro: (test=0.582) m_c: (test=0.000) precision: (test=0.117) precision_micro: (test=0.582) recall: (test=0.394) recall_micro: (test=0.582) total time=   0.2s\n",
      "[CV 2/4; 31/32] START estimator__max_depth=1, estimator__max_leaf_nodes=150, estimator__min_samples_leaf=2, estimator__min_samples_split=30, estimator__n_estimators=100, estimator__random_state=5000\n"
     ]
    },
    {
     "name": "stdout",
     "output_type": "stream",
     "text": [
      "[CV 2/4; 31/32] END estimator__max_depth=1, estimator__max_leaf_nodes=150, estimator__min_samples_leaf=2, estimator__min_samples_split=30, estimator__n_estimators=100, estimator__random_state=5000; f1: (test=0.218) f1_micro: (test=0.567) m_c: (test=0.058) precision: (test=0.138) precision_micro: (test=0.567) recall: (test=0.515) recall_micro: (test=0.567) total time=   0.2s\n",
      "[CV 3/4; 31/32] START estimator__max_depth=1, estimator__max_leaf_nodes=150, estimator__min_samples_leaf=2, estimator__min_samples_split=30, estimator__n_estimators=100, estimator__random_state=5000\n",
      "[CV 3/4; 31/32] END estimator__max_depth=1, estimator__max_leaf_nodes=150, estimator__min_samples_leaf=2, estimator__min_samples_split=30, estimator__n_estimators=100, estimator__random_state=5000; f1: (test=0.156) f1_micro: (test=0.577) m_c: (test=-0.032) precision: (test=0.101) precision_micro: (test=0.577) recall: (test=0.344) recall_micro: (test=0.577) total time=   0.2s\n",
      "[CV 4/4; 31/32] START estimator__max_depth=1, estimator__max_leaf_nodes=150, estimator__min_samples_leaf=2, estimator__min_samples_split=30, estimator__n_estimators=100, estimator__random_state=5000\n",
      "[CV 4/4; 31/32] END estimator__max_depth=1, estimator__max_leaf_nodes=150, estimator__min_samples_leaf=2, estimator__min_samples_split=30, estimator__n_estimators=100, estimator__random_state=5000; f1: (test=0.172) f1_micro: (test=0.520) m_c: (test=-0.028) precision: (test=0.108) precision_micro: (test=0.520) recall: (test=0.424) recall_micro: (test=0.520) total time=   0.2s\n",
      "[CV 1/4; 32/32] START estimator__max_depth=1, estimator__max_leaf_nodes=150, estimator__min_samples_leaf=2, estimator__min_samples_split=30, estimator__n_estimators=800, estimator__random_state=5000\n",
      "[CV 1/4; 32/32] END estimator__max_depth=1, estimator__max_leaf_nodes=150, estimator__min_samples_leaf=2, estimator__min_samples_split=30, estimator__n_estimators=800, estimator__random_state=5000; f1: (test=0.168) f1_micro: (test=0.649) m_c: (test=-0.002) precision: (test=0.116) precision_micro: (test=0.649) recall: (test=0.303) recall_micro: (test=0.649) total time=   0.9s\n",
      "[CV 2/4; 32/32] START estimator__max_depth=1, estimator__max_leaf_nodes=150, estimator__min_samples_leaf=2, estimator__min_samples_split=30, estimator__n_estimators=800, estimator__random_state=5000\n",
      "[CV 2/4; 32/32] END estimator__max_depth=1, estimator__max_leaf_nodes=150, estimator__min_samples_leaf=2, estimator__min_samples_split=30, estimator__n_estimators=800, estimator__random_state=5000; f1: (test=0.245) f1_micro: (test=0.564) m_c: (test=0.106) precision: (test=0.154) precision_micro: (test=0.564) recall: (test=0.606) recall_micro: (test=0.564) total time=   0.9s\n",
      "[CV 3/4; 32/32] START estimator__max_depth=1, estimator__max_leaf_nodes=150, estimator__min_samples_leaf=2, estimator__min_samples_split=30, estimator__n_estimators=800, estimator__random_state=5000\n",
      "[CV 3/4; 32/32] END estimator__max_depth=1, estimator__max_leaf_nodes=150, estimator__min_samples_leaf=2, estimator__min_samples_split=30, estimator__n_estimators=800, estimator__random_state=5000; f1: (test=0.141) f1_micro: (test=0.609) m_c: (test=-0.046) precision: (test=0.094) precision_micro: (test=0.609) recall: (test=0.281) recall_micro: (test=0.609) total time=   0.9s\n",
      "[CV 4/4; 32/32] START estimator__max_depth=1, estimator__max_leaf_nodes=150, estimator__min_samples_leaf=2, estimator__min_samples_split=30, estimator__n_estimators=800, estimator__random_state=5000\n"
     ]
    },
    {
     "name": "stderr",
     "output_type": "stream",
     "text": [
      "2023-08-08 21:35:38 INFO: CÁLCULO DE MÉTRICAS DE CV.\n",
      "2023-08-08 21:35:38 INFO: SELECCIÓN DEL MEJOR MODELO VÍA UNA MÉTRICA DE CV.\n",
      "2023-08-08 21:35:38 INFO: FIN DE OPTIMIZACIÓN.\n"
     ]
    },
    {
     "name": "stdout",
     "output_type": "stream",
     "text": [
      "[CV 4/4; 32/32] END estimator__max_depth=1, estimator__max_leaf_nodes=150, estimator__min_samples_leaf=2, estimator__min_samples_split=30, estimator__n_estimators=800, estimator__random_state=5000; f1: (test=0.175) f1_micro: (test=0.530) m_c: (test=-0.020) precision: (test=0.110) precision_micro: (test=0.530) recall: (test=0.424) recall_micro: (test=0.530) total time=   0.9s\n"
     ]
    }
   ],
   "source": [
    "optim_results = optimization_model(df_name_sav=df_name,\n",
    "                                   features_names=features_names,\n",
    "                                   objective_name=objective_name,\n",
    "                                   model_name=model_name,\n",
    "                                   seed=seed,\n",
    "                                   test_size=test_size,\n",
    "                                   ratio_balance=ratio_balance,\n",
    "                                   k_folds=k_folds,\n",
    "                                   verbose=verbose,\n",
    "                                   optimized_metric=optimized_metric,\n",
    "                                   save_best_info=save_best_info,\n",
    "                                   path=path)"
   ]
  },
  {
   "cell_type": "code",
   "execution_count": 12,
   "id": "c1c33c40",
   "metadata": {},
   "outputs": [
    {
     "data": {
      "text/plain": [
       "hyperparameters       {'max_depth': None, 'max_leaf_nodes': 150, 'mi...\n",
       "cv_f1                                                          0.273298\n",
       "cv_precision                                                   0.176069\n",
       "cv_recall                                                      0.617898\n",
       "cv_m_c                                                          0.15633\n",
       "cv_f1_micro                                                    0.620785\n",
       "cv_precision_micro                                             0.620785\n",
       "cv_recall_micro                                                0.620785\n",
       "optimization_date                            2023-08-08 21:35:38.102857\n",
       "ratio_balance                                                         1\n",
       "model_name                                       RandomForestClassifier\n",
       "k_folds                                                               4\n",
       "test_size                                                          0.25\n",
       "Name: 0, dtype: object"
      ]
     },
     "execution_count": 12,
     "metadata": {},
     "output_type": "execute_result"
    }
   ],
   "source": [
    "optim_results"
   ]
  },
  {
   "cell_type": "markdown",
   "id": "0f8ec8c9",
   "metadata": {},
   "source": [
    "Al final, la función __optimization_model__ devuelve un panda-series con la información del modelo optimizado."
   ]
  },
  {
   "cell_type": "markdown",
   "id": "af978a4d",
   "metadata": {},
   "source": [
    "Se guardan la información del modelo optimizado."
   ]
  },
  {
   "cell_type": "code",
   "execution_count": 13,
   "id": "90072b42",
   "metadata": {},
   "outputs": [],
   "source": [
    "pickle.dump(optim_results, open('../outputs/optimization_results.sav', 'wb'))"
   ]
  },
  {
   "cell_type": "markdown",
   "id": "c0e3fe92",
   "metadata": {},
   "source": [
    "# 4. COMPARACIÓN ENTRE EL MODELO OPTIMIZADO Y SIN OPTIMIZAR."
   ]
  },
  {
   "cell_type": "code",
   "execution_count": 14,
   "id": "d702b498",
   "metadata": {},
   "outputs": [],
   "source": [
    "path='../outputs/'\n",
    "optim_results = get_data(name_sav='optimization_results.sav', path=path)"
   ]
  },
  {
   "cell_type": "markdown",
   "id": "48f5599b",
   "metadata": {},
   "source": [
    "La combinación ganadora de hiperparámetros es la siguiente."
   ]
  },
  {
   "cell_type": "code",
   "execution_count": 15,
   "id": "7c040b14",
   "metadata": {},
   "outputs": [
    {
     "data": {
      "text/plain": [
       "{'max_depth': None,\n",
       " 'max_leaf_nodes': 150,\n",
       " 'min_samples_leaf': 1,\n",
       " 'min_samples_split': 2,\n",
       " 'n_estimators': 800,\n",
       " 'random_state': 5000}"
      ]
     },
     "execution_count": 15,
     "metadata": {},
     "output_type": "execute_result"
    }
   ],
   "source": [
    "optim_results['hyperparameters']"
   ]
  },
  {
   "cell_type": "markdown",
   "id": "19a1ec74",
   "metadata": {},
   "source": [
    "A simple vista, observamos que el modelo está requiriendo muchos estimadores débiles (__`max_iter`__=800)."
   ]
  },
  {
   "cell_type": "markdown",
   "id": "208e05b8",
   "metadata": {},
   "source": [
    "Comparemos las métricas de __cross-validation__ del modelo optimizado con las del modelo no optimizado (ver __model_selection.ipynb__)"
   ]
  },
  {
   "cell_type": "code",
   "execution_count": 16,
   "id": "35b28e74",
   "metadata": {},
   "outputs": [
    {
     "name": "stdout",
     "output_type": "stream",
     "text": [
      "f1-cv optimizado 0.27\n",
      "f1-cv NO optimizado 0.24\n",
      "recall-cv optimizado 0.62\n",
      "recall-cv NO optimizado 0.57\n",
      "precision-cv optimizado 0.18\n",
      "precision-cv NO optimizado 0.15\n",
      "m_c-cv optimizado 0.16\n",
      "m_c-cv NO optimizado 0.1\n"
     ]
    }
   ],
   "source": [
    "print('f1-cv optimizado', round(optim_results['cv_f1'], 2))\n",
    "print('f1-cv NO optimizado', 0.24)\n",
    "print('recall-cv optimizado', round(optim_results['cv_recall'], 2))\n",
    "print('recall-cv NO optimizado', 0.57)\n",
    "print('precision-cv optimizado', round(optim_results['cv_precision'], 2))\n",
    "print('precision-cv NO optimizado', 0.15)\n",
    "print('m_c-cv optimizado', round(optim_results['cv_m_c'], 2))\n",
    "print('m_c-cv NO optimizado',0.1)   "
   ]
  },
  {
   "cell_type": "markdown",
   "id": "db82955a",
   "metadata": {},
   "source": [
    "Vemos que solo se han conseguido mejoras de una centésima en todos las métricas de __cross-validation__."
   ]
  },
  {
   "cell_type": "markdown",
   "id": "5e3e20c4",
   "metadata": {},
   "source": [
    "Habrá que hacer un revisión desde el principio, con tal de encontrar mejoras contundentes. Los enfoques que se podrían llevar a cabo son:\n",
    "1. Rescate, de alguna manera, de variables numéricas con porcentajes importantes de valores perdidos. En el análisis exploratorio se eliminaron algunas varibales y tal vez puedan ser añadidas al modelo al, por ejemplos, discretizarlas.\n",
    "2. Hacer una ingeniería de variables más ambiciosa y rica. Aprovechar de manera más ingeniosa la variable de tiempo, por ejemplo.\n",
    "3. Cambiar el estimador. El gran tamaño de la data nos da acceso a herramientas más complejas como redes neuronales.\n",
    "4. Utilizar métodos de ensamblado de modelos.\n",
    "5. Considerar otro enfoque de muestreo. Tal vez considerar técnicas como el SMOTE u otra ténica de sobremuestreo de la clase minoritaria."
   ]
  },
  {
   "cell_type": "code",
   "execution_count": null,
   "id": "aef5318c",
   "metadata": {},
   "outputs": [],
   "source": []
  }
 ],
 "metadata": {
  "kernelspec": {
   "display_name": "train_env_AUS",
   "language": "python",
   "name": "train_env_aus"
  },
  "language_info": {
   "codemirror_mode": {
    "name": "ipython",
    "version": 3
   },
   "file_extension": ".py",
   "mimetype": "text/x-python",
   "name": "python",
   "nbconvert_exporter": "python",
   "pygments_lexer": "ipython3",
   "version": "3.8.12"
  }
 },
 "nbformat": 4,
 "nbformat_minor": 5
}
