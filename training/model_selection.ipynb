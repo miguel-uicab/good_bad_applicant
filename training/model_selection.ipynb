{
 "cells": [
  {
   "cell_type": "code",
   "execution_count": 1,
   "id": "dede1677",
   "metadata": {},
   "outputs": [],
   "source": [
    "# !/usr/bin/env python\n",
    "# coding: utf-8\n",
    "\n",
    "import warnings\n",
    "warnings.simplefilter(\"ignore\")\n",
    "import plotly.graph_objects as go\n",
    "import plotly.express as px \n",
    "from sklearn.impute import KNNImputer, SimpleImputer\n",
    "from sklearn.metrics import precision_recall_curve, auc\n",
    "from sklearn.metrics import recall_score, precision_score\n",
    "from sklearn.metrics import f1_score, matthews_corrcoef, confusion_matrix\n",
    "from sklearn.metrics import make_scorer\n",
    "from sklearn.model_selection import StratifiedKFold, cross_validate, train_test_split\n",
    "from sklearn.ensemble import RandomForestClassifier, HistGradientBoostingClassifier\n",
    "from sklearn.ensemble import GradientBoostingClassifier\n",
    "from sklearn.linear_model import LogisticRegression\n",
    "from sklearn.compose import ColumnTransformer\n",
    "from imblearn.under_sampling import RandomUnderSampler\n",
    "from imblearn.pipeline import Pipeline\n",
    "from category_encoders.count import CountEncoder\n",
    "from training_functions_1 import *"
   ]
  },
  {
   "cell_type": "markdown",
   "id": "13452081",
   "metadata": {},
   "source": [
    "# 0. CARGA DE DATAS."
   ]
  },
  {
   "cell_type": "code",
   "execution_count": 2,
   "id": "6627c94a",
   "metadata": {},
   "outputs": [],
   "source": [
    "path = '../outputs/'\n",
    "df  = get_data(name_sav='df_HOMO_CLASS.sav', path=path)\n",
    "# df_test = get_data(name_sav='wA_test.sav', path=path)"
   ]
  },
  {
   "cell_type": "markdown",
   "id": "0028da58",
   "metadata": {},
   "source": [
    "Es importante decir que se harán uso de algunas funciones presentes en el script __training_functions.py__. Se referirá a ellos con el siguiente estilo: *__estilo__*."
   ]
  },
  {
   "cell_type": "markdown",
   "id": "62aec4f1",
   "metadata": {},
   "source": [
    "# 1. CONTEXTO DE LA MINICOMPETENCIA."
   ]
  },
  {
   "cell_type": "markdown",
   "id": "b33a5a67",
   "metadata": {},
   "source": [
    "Estamos ante un problema de clasificación binaria con un evento de desbalanceo importante. \n",
    "\n",
    "Se hará una minicompetencia de forma arbitraria, en el sentido de que se considerará varios modelos \"clásicos\" y uno que es una versión más rápida de un Gradient Boosting. Estos son: `RandomForestClassifier`, `HistGradientBoostingClassifier`, `GradientBoostingClassifier`, `LogisticRegression`.\n",
    "\n",
    "Los puntos generales a considerar en esta competencia son:\n",
    "* Se usarán una semilla arbitraria (`seed = 5000`).\n",
    "\n",
    "* Los modelos se entrenarán con los valores de sus hiperpárametros a como están por default en sus configuraciones desde `scikit-learn`. \n",
    "\n",
    "* El mejor modelo será el que tenga un mejor performance en la métrica __f1__ de __cross-validation__, porque, al combinar métricas como el __recall__ y el __precision__, puede interpretarse como una especie de correlación, y entre más cercano a 1, se tendrá tanto un alto __precision__ como un alto __recall__, lo que implica una buena capacidad para clasificar correctamente las muestras positivas y minimizar los falsos positivos y falsos negativos. \n",
    "\n",
    "* Aunque el ganador lo dicidirá el __f1__, también se calculará la matriz de confusión de __testeo__, así como los scores de __precision__, __recall__, __coeficiente de correlación de Matthews (m_c)__, de __testeo__ y __cross-validation__, esto con fines informativos. Sin embargo, también pueden ayudar a elegir al modelo ganador en caso de empate.\n",
    "\n",
    "* También, se calcularán las versiones \"micro\" de estas métricas, esto para ver vigilar la buena clasificación en ambas clases.\n",
    "\n",
    "* Existen varios métodos para lidiar con el desbalanceo, entre submuestreos de la clase mayoritaria o sobremuestreos de la clase minoritaria. Aunque un método muy famoso de sobremuestreo es el `SMOTE`, en esta prueba se usará el método de submuestreo `RandomUnderSampler`. Esto es debido a que simplemente, por experiencia, se ha tenido mayor éxito en el pasado usando métodos de submuestreo.\n",
    "\n",
    "* El subuestreo se hará de tal forma que se tenga un equilibrio total entre la clase minoritaria y la mayoritaria. Esto equivale a tener una estrategia de muestreo igual a 1 (`ratio_balance = 1`).\n",
    "\n",
    "* Para la codificación de variables categóricas, no se hará uso de ténicas clásicas como el `OneHotEncoder` o el`LabelEncoder`,  si no del `CountEncoder`, esto para evitar la complejización del modelo. El `CountEncoder`, en su versión normalizada, consiste en el porcentaje de representación que tiene cierta clase en una variable categórica.\n",
    "\n",
    "* No se escalarán las variables numéricas, esto debido a que la mayoría de ellas se mueven en un rango similar de valores.\n",
    "\n",
    "* Se hará uso de __Pipilines__, es decir, de tuberias de proprocesamiento que contendrán pasos de transformación y de estimación necesarios.\n",
    "\n",
    "* El uso de __Pipilines__ será especialemnte importante sobretodo en la etapa de __cross-validation k-folds__, para garatizar la repetición de los procesos de imputación, codificación, submuestreo y ajuste del modelo, en cada iteración-__fold__.\n",
    "\n",
    "* Solo usaremos una cantidad pequeña de __folds__ (`k_folds = 4`).\n",
    "\n",
    "* El proceso de __cross-validatión__ contempla una estrategia de división estratificada (`StratifiedKFold`). Esto con el fin de que en cada iteración-__fold__ la variable objetivo tenga aproximadamente la misma configuración de porcentajes de clase a como se tiene en el conjunto de __Entrenamiento__. De tal suerte que el proceso de submuetreo será aplicado en cada __fold__ y esto será posible con ayuda los __Pipilines__ ofrecidos por la librería `imbalanced-learn`."
   ]
  },
  {
   "cell_type": "markdown",
   "id": "f5de22bf",
   "metadata": {},
   "source": [
    "# 2. CONFIGURACIONES GENERALES."
   ]
  },
  {
   "cell_type": "markdown",
   "id": "a5b9ebe8",
   "metadata": {},
   "source": [
    "## 2.1. Valores y métricas"
   ]
  },
  {
   "cell_type": "markdown",
   "id": "33ae44a4",
   "metadata": {},
   "source": [
    "Listado de scores de interés:"
   ]
  },
  {
   "cell_type": "code",
   "execution_count": 3,
   "id": "576440f9",
   "metadata": {},
   "outputs": [],
   "source": [
    "scores = {'f1': 'f1',\n",
    "          'f1_micro': 'f1_micro',\n",
    "          'precision': 'precision',\n",
    "          'precision_micro': 'precision_micro',\n",
    "          'recall': 'recall',\n",
    "          'recall_micro': 'recall_micro',\n",
    "          'm_c': make_scorer(matthews_corrcoef)}"
   ]
  },
  {
   "cell_type": "markdown",
   "id": "0d0b18b9",
   "metadata": {},
   "source": [
    "Se establecen los siguientes valores por default:"
   ]
  },
  {
   "cell_type": "code",
   "execution_count": 4,
   "id": "76a7267a",
   "metadata": {},
   "outputs": [],
   "source": [
    "seed = 5000\n",
    "ratio_balance = 1\n",
    "k_folds = 3\n",
    "verbose = 10\n",
    "test_size = 0.25"
   ]
  },
  {
   "cell_type": "markdown",
   "id": "12cfa4f7",
   "metadata": {},
   "source": [
    "Se establece el listado de features y la variable objetivo."
   ]
  },
  {
   "cell_type": "code",
   "execution_count": 5,
   "id": "aef1a67d",
   "metadata": {},
   "outputs": [],
   "source": [
    "features_names =  ['FLAG_OWN_CAR',\n",
    "                   'FLAG_OWN_REALTY',\n",
    "                   'NAME_INCOME_TYPE',\n",
    "                   'NAME_EDUCATION_TYPE',\n",
    "                   'NAME_FAMILY_STATUS',\n",
    "                   'NAME_HOUSING_TYPE',\n",
    "                   'OCCUPATION_TYPE',\n",
    "                   'FLAG_WORK_PHONE',\n",
    "                   'FLAG_PHONE',\n",
    "                   'FLAG_EMAIL',\n",
    "                   'AGE',\n",
    "                   'CNT_CHILDREN',\n",
    "                   'AMT_INCOME_TOTAL',\n",
    "                   'WORK_YEARS']\n",
    "objective_name = 'label'"
   ]
  },
  {
   "cell_type": "markdown",
   "id": "c071c98b",
   "metadata": {},
   "source": [
    "Se obtiene el dataset de features en el conjunto de __Entrenamiento__."
   ]
  },
  {
   "cell_type": "code",
   "execution_count": 6,
   "id": "014fee61",
   "metadata": {},
   "outputs": [],
   "source": [
    "# original_data = df_train.copy()\n",
    "# data_features = original_data[features_names]"
   ]
  },
  {
   "cell_type": "markdown",
   "id": "409e7655",
   "metadata": {},
   "source": [
    "Se obtienen los nombres de variables numéricas y de las categóricas."
   ]
  },
  {
   "cell_type": "code",
   "execution_count": null,
   "id": "340a080e",
   "metadata": {},
   "outputs": [],
   "source": []
  },
  {
   "cell_type": "code",
   "execution_count": 7,
   "id": "6c263bce",
   "metadata": {},
   "outputs": [],
   "source": [
    "# numeric_names"
   ]
  },
  {
   "cell_type": "code",
   "execution_count": 8,
   "id": "12c665fd",
   "metadata": {},
   "outputs": [],
   "source": [
    "# categorical_names"
   ]
  },
  {
   "cell_type": "markdown",
   "id": "30940596",
   "metadata": {},
   "source": [
    "El establecimiento de los conjuntos de  __entrenamiento__ y __testeo__ se hará dependiendo del estimador que se haya elegido.\n",
    "\n",
    "\n",
    "Debido al uso de tranformaciones que afectan ya sea solo a variables categóricas o solo variables numéricas, el orden en que aparecen estos grupos de variables en los datasets es importante. Por otro lado, las tranformaciones que se aplican también dependen del estimador que se esté usando, por ejemplo, el `HistGradientBoostingClassifier` no requiere una imputación de valores previa.\n",
    "\n",
    "El orden en que van aplicandose la tranformaciones va corriendo a la derecha del dataset al grupo de variables al que se termina de aplicar dichas tranformaciones (ver la sección de Notes [aquí](https://scikit-learn.org/stable/modules/generated/sklearn.compose.ColumnTransformer.html)\n",
    ".)\n",
    "\n",
    "Para lidiar con este problema se hace uso de la función *__get_feature_names_oder__*."
   ]
  },
  {
   "cell_type": "code",
   "execution_count": 9,
   "id": "d79809b8",
   "metadata": {},
   "outputs": [],
   "source": [
    "features = df[features_names]\n",
    "label = df[objective_name]"
   ]
  },
  {
   "cell_type": "code",
   "execution_count": 10,
   "id": "3b14debd",
   "metadata": {},
   "outputs": [],
   "source": [
    "# numeric_names = list(df.select_dtypes(include=['float64', 'int64']).columns)\n",
    "# numeric_names = list(set(numeric_names) - set(['ID', 'label']))\n",
    "# categorical_names = list(df.select_dtypes(include='object').columns)\n",
    "numeric_names = list(features.select_dtypes(include=['float64', 'int64']).columns)\n",
    "categorical_names = list(features.select_dtypes(include='object').columns)"
   ]
  },
  {
   "cell_type": "code",
   "execution_count": 11,
   "id": "2c715b83",
   "metadata": {},
   "outputs": [
    {
     "data": {
      "text/plain": [
       "['FLAG_OWN_CAR',\n",
       " 'FLAG_OWN_REALTY',\n",
       " 'NAME_INCOME_TYPE',\n",
       " 'NAME_EDUCATION_TYPE',\n",
       " 'NAME_FAMILY_STATUS',\n",
       " 'NAME_HOUSING_TYPE',\n",
       " 'OCCUPATION_TYPE',\n",
       " 'FLAG_WORK_PHONE',\n",
       " 'FLAG_PHONE',\n",
       " 'FLAG_EMAIL']"
      ]
     },
     "execution_count": 11,
     "metadata": {},
     "output_type": "execute_result"
    }
   ],
   "source": [
    "categorical_names"
   ]
  },
  {
   "cell_type": "code",
   "execution_count": 12,
   "id": "5004cbe3",
   "metadata": {},
   "outputs": [],
   "source": [
    "X_train, X_test, y_train, y_test = train_test_split(features,\n",
    "                                                    label,\n",
    "                                                    random_state=seed,\n",
    "                                                    test_size=test_size,\n",
    "                                                    stratify=label)"
   ]
  },
  {
   "cell_type": "code",
   "execution_count": 13,
   "id": "956c0a08",
   "metadata": {},
   "outputs": [],
   "source": [
    "feature_names_order = get_feature_names_order(float_names=numeric_names,\n",
    "                                              categorical_names=categorical_names)"
   ]
  },
  {
   "cell_type": "code",
   "execution_count": 14,
   "id": "9658767f",
   "metadata": {},
   "outputs": [],
   "source": [
    "X_train = X_train[feature_names_order]\n",
    "X_test = X_test[feature_names_order]"
   ]
  },
  {
   "cell_type": "code",
   "execution_count": 15,
   "id": "51d53b6d",
   "metadata": {},
   "outputs": [
    {
     "data": {
      "text/html": [
       "<div>\n",
       "<style scoped>\n",
       "    .dataframe tbody tr th:only-of-type {\n",
       "        vertical-align: middle;\n",
       "    }\n",
       "\n",
       "    .dataframe tbody tr th {\n",
       "        vertical-align: top;\n",
       "    }\n",
       "\n",
       "    .dataframe thead th {\n",
       "        text-align: right;\n",
       "    }\n",
       "</style>\n",
       "<table border=\"1\" class=\"dataframe\">\n",
       "  <thead>\n",
       "    <tr style=\"text-align: right;\">\n",
       "      <th></th>\n",
       "      <th>FLAG_OWN_CAR</th>\n",
       "      <th>FLAG_OWN_REALTY</th>\n",
       "      <th>NAME_INCOME_TYPE</th>\n",
       "      <th>NAME_EDUCATION_TYPE</th>\n",
       "      <th>NAME_FAMILY_STATUS</th>\n",
       "      <th>NAME_HOUSING_TYPE</th>\n",
       "      <th>OCCUPATION_TYPE</th>\n",
       "      <th>FLAG_WORK_PHONE</th>\n",
       "      <th>FLAG_PHONE</th>\n",
       "      <th>FLAG_EMAIL</th>\n",
       "      <th>AGE</th>\n",
       "      <th>CNT_CHILDREN</th>\n",
       "      <th>AMT_INCOME_TOTAL</th>\n",
       "      <th>WORK_YEARS</th>\n",
       "    </tr>\n",
       "  </thead>\n",
       "  <tbody>\n",
       "    <tr>\n",
       "      <th>1371</th>\n",
       "      <td>N</td>\n",
       "      <td>Y</td>\n",
       "      <td>Pensioner</td>\n",
       "      <td>Secondary / secondary special</td>\n",
       "      <td>Married</td>\n",
       "      <td>House / apartment</td>\n",
       "      <td>Unidentified</td>\n",
       "      <td>0</td>\n",
       "      <td>0</td>\n",
       "      <td>0</td>\n",
       "      <td>46</td>\n",
       "      <td>1</td>\n",
       "      <td>405000.0</td>\n",
       "      <td>-1000</td>\n",
       "    </tr>\n",
       "    <tr>\n",
       "      <th>18</th>\n",
       "      <td>N</td>\n",
       "      <td>Y</td>\n",
       "      <td>Commercial associate</td>\n",
       "      <td>Higher education or Academic degree</td>\n",
       "      <td>Single / not married</td>\n",
       "      <td>House / apartment</td>\n",
       "      <td>Sales staff</td>\n",
       "      <td>0</td>\n",
       "      <td>0</td>\n",
       "      <td>0</td>\n",
       "      <td>51</td>\n",
       "      <td>0</td>\n",
       "      <td>126000.0</td>\n",
       "      <td>6</td>\n",
       "    </tr>\n",
       "    <tr>\n",
       "      <th>770</th>\n",
       "      <td>N</td>\n",
       "      <td>N</td>\n",
       "      <td>Commercial associate</td>\n",
       "      <td>Secondary / secondary special</td>\n",
       "      <td>Single / not married</td>\n",
       "      <td>House / apartment</td>\n",
       "      <td>Sales staff</td>\n",
       "      <td>0</td>\n",
       "      <td>0</td>\n",
       "      <td>0</td>\n",
       "      <td>40</td>\n",
       "      <td>1</td>\n",
       "      <td>135000.0</td>\n",
       "      <td>6</td>\n",
       "    </tr>\n",
       "    <tr>\n",
       "      <th>278</th>\n",
       "      <td>N</td>\n",
       "      <td>Y</td>\n",
       "      <td>Pensioner</td>\n",
       "      <td>Secondary / secondary special</td>\n",
       "      <td>Single / not married</td>\n",
       "      <td>House / apartment</td>\n",
       "      <td>Unidentified</td>\n",
       "      <td>0</td>\n",
       "      <td>0</td>\n",
       "      <td>0</td>\n",
       "      <td>62</td>\n",
       "      <td>0</td>\n",
       "      <td>225000.0</td>\n",
       "      <td>-1000</td>\n",
       "    </tr>\n",
       "    <tr>\n",
       "      <th>1444</th>\n",
       "      <td>Y</td>\n",
       "      <td>Y</td>\n",
       "      <td>Working</td>\n",
       "      <td>Secondary / secondary special</td>\n",
       "      <td>Married</td>\n",
       "      <td>House / apartment</td>\n",
       "      <td>Managers</td>\n",
       "      <td>0</td>\n",
       "      <td>0</td>\n",
       "      <td>0</td>\n",
       "      <td>47</td>\n",
       "      <td>0</td>\n",
       "      <td>315000.0</td>\n",
       "      <td>6</td>\n",
       "    </tr>\n",
       "    <tr>\n",
       "      <th>...</th>\n",
       "      <td>...</td>\n",
       "      <td>...</td>\n",
       "      <td>...</td>\n",
       "      <td>...</td>\n",
       "      <td>...</td>\n",
       "      <td>...</td>\n",
       "      <td>...</td>\n",
       "      <td>...</td>\n",
       "      <td>...</td>\n",
       "      <td>...</td>\n",
       "      <td>...</td>\n",
       "      <td>...</td>\n",
       "      <td>...</td>\n",
       "      <td>...</td>\n",
       "    </tr>\n",
       "    <tr>\n",
       "      <th>8</th>\n",
       "      <td>Y</td>\n",
       "      <td>Y</td>\n",
       "      <td>Commercial associate</td>\n",
       "      <td>Secondary / secondary special</td>\n",
       "      <td>Married</td>\n",
       "      <td>House / apartment</td>\n",
       "      <td>Core staff</td>\n",
       "      <td>0</td>\n",
       "      <td>1</td>\n",
       "      <td>1</td>\n",
       "      <td>49</td>\n",
       "      <td>1</td>\n",
       "      <td>450000.0</td>\n",
       "      <td>1</td>\n",
       "    </tr>\n",
       "    <tr>\n",
       "      <th>834</th>\n",
       "      <td>Y</td>\n",
       "      <td>Y</td>\n",
       "      <td>Working</td>\n",
       "      <td>Higher education or Academic degree</td>\n",
       "      <td>Married</td>\n",
       "      <td>House / apartment</td>\n",
       "      <td>Managers</td>\n",
       "      <td>0</td>\n",
       "      <td>0</td>\n",
       "      <td>0</td>\n",
       "      <td>36</td>\n",
       "      <td>2</td>\n",
       "      <td>180000.0</td>\n",
       "      <td>6</td>\n",
       "    </tr>\n",
       "    <tr>\n",
       "      <th>335</th>\n",
       "      <td>N</td>\n",
       "      <td>Y</td>\n",
       "      <td>Pensioner</td>\n",
       "      <td>Secondary / secondary special</td>\n",
       "      <td>Single / not married</td>\n",
       "      <td>House / apartment</td>\n",
       "      <td>Unidentified</td>\n",
       "      <td>0</td>\n",
       "      <td>1</td>\n",
       "      <td>0</td>\n",
       "      <td>56</td>\n",
       "      <td>0</td>\n",
       "      <td>67500.0</td>\n",
       "      <td>-1000</td>\n",
       "    </tr>\n",
       "    <tr>\n",
       "      <th>998</th>\n",
       "      <td>N</td>\n",
       "      <td>Y</td>\n",
       "      <td>Pensioner</td>\n",
       "      <td>Secondary / secondary special</td>\n",
       "      <td>Married</td>\n",
       "      <td>House / apartment</td>\n",
       "      <td>Unidentified</td>\n",
       "      <td>0</td>\n",
       "      <td>0</td>\n",
       "      <td>0</td>\n",
       "      <td>64</td>\n",
       "      <td>0</td>\n",
       "      <td>180000.0</td>\n",
       "      <td>-1000</td>\n",
       "    </tr>\n",
       "    <tr>\n",
       "      <th>1006</th>\n",
       "      <td>Y</td>\n",
       "      <td>Y</td>\n",
       "      <td>Working</td>\n",
       "      <td>Higher education or Academic degree</td>\n",
       "      <td>Married</td>\n",
       "      <td>Rented apartment or Office apartment or Co-op ...</td>\n",
       "      <td>Laborers</td>\n",
       "      <td>0</td>\n",
       "      <td>1</td>\n",
       "      <td>0</td>\n",
       "      <td>36</td>\n",
       "      <td>1</td>\n",
       "      <td>315000.0</td>\n",
       "      <td>3</td>\n",
       "    </tr>\n",
       "  </tbody>\n",
       "</table>\n",
       "<p>376 rows × 14 columns</p>\n",
       "</div>"
      ],
      "text/plain": [
       "     FLAG_OWN_CAR FLAG_OWN_REALTY      NAME_INCOME_TYPE  \\\n",
       "1371            N               Y             Pensioner   \n",
       "18              N               Y  Commercial associate   \n",
       "770             N               N  Commercial associate   \n",
       "278             N               Y             Pensioner   \n",
       "1444            Y               Y               Working   \n",
       "...           ...             ...                   ...   \n",
       "8               Y               Y  Commercial associate   \n",
       "834             Y               Y               Working   \n",
       "335             N               Y             Pensioner   \n",
       "998             N               Y             Pensioner   \n",
       "1006            Y               Y               Working   \n",
       "\n",
       "                      NAME_EDUCATION_TYPE    NAME_FAMILY_STATUS  \\\n",
       "1371        Secondary / secondary special               Married   \n",
       "18    Higher education or Academic degree  Single / not married   \n",
       "770         Secondary / secondary special  Single / not married   \n",
       "278         Secondary / secondary special  Single / not married   \n",
       "1444        Secondary / secondary special               Married   \n",
       "...                                   ...                   ...   \n",
       "8           Secondary / secondary special               Married   \n",
       "834   Higher education or Academic degree               Married   \n",
       "335         Secondary / secondary special  Single / not married   \n",
       "998         Secondary / secondary special               Married   \n",
       "1006  Higher education or Academic degree               Married   \n",
       "\n",
       "                                      NAME_HOUSING_TYPE OCCUPATION_TYPE  \\\n",
       "1371                                  House / apartment    Unidentified   \n",
       "18                                    House / apartment     Sales staff   \n",
       "770                                   House / apartment     Sales staff   \n",
       "278                                   House / apartment    Unidentified   \n",
       "1444                                  House / apartment        Managers   \n",
       "...                                                 ...             ...   \n",
       "8                                     House / apartment      Core staff   \n",
       "834                                   House / apartment        Managers   \n",
       "335                                   House / apartment    Unidentified   \n",
       "998                                   House / apartment    Unidentified   \n",
       "1006  Rented apartment or Office apartment or Co-op ...        Laborers   \n",
       "\n",
       "     FLAG_WORK_PHONE FLAG_PHONE FLAG_EMAIL  AGE  CNT_CHILDREN  \\\n",
       "1371               0          0          0   46             1   \n",
       "18                 0          0          0   51             0   \n",
       "770                0          0          0   40             1   \n",
       "278                0          0          0   62             0   \n",
       "1444               0          0          0   47             0   \n",
       "...              ...        ...        ...  ...           ...   \n",
       "8                  0          1          1   49             1   \n",
       "834                0          0          0   36             2   \n",
       "335                0          1          0   56             0   \n",
       "998                0          0          0   64             0   \n",
       "1006               0          1          0   36             1   \n",
       "\n",
       "      AMT_INCOME_TOTAL  WORK_YEARS  \n",
       "1371          405000.0       -1000  \n",
       "18            126000.0           6  \n",
       "770           135000.0           6  \n",
       "278           225000.0       -1000  \n",
       "1444          315000.0           6  \n",
       "...                ...         ...  \n",
       "8             450000.0           1  \n",
       "834           180000.0           6  \n",
       "335            67500.0       -1000  \n",
       "998           180000.0       -1000  \n",
       "1006          315000.0           3  \n",
       "\n",
       "[376 rows x 14 columns]"
      ]
     },
     "execution_count": 15,
     "metadata": {},
     "output_type": "execute_result"
    }
   ],
   "source": [
    "X_test"
   ]
  },
  {
   "cell_type": "code",
   "execution_count": null,
   "id": "74d8f5f1",
   "metadata": {},
   "outputs": [],
   "source": []
  },
  {
   "cell_type": "markdown",
   "id": "509722a5",
   "metadata": {},
   "source": [
    "## 2.2 Pipelines de preprocesamiento"
   ]
  },
  {
   "cell_type": "markdown",
   "id": "73d057c8",
   "metadata": {},
   "source": [
    "Lo siguiente es el __Pipiline__ correspondiente al preprocesamiento de variables numéricas. Este conlleva el utilizar o no técnicas de imputación.\n",
    "* Para los modelos  `RandomForestClassifier`, `GradientBoostingClassifier`, `LogisticRegression`, se utiliza como imputador la mediana de las variables, esto porque es un estimador robusto ante outliers y para fines de practibilidad. En realidad, en producción se ha utilizado siempre el imputador no parámetrico `KNNImputer`.\n",
    "* No se utilizará imputador alguno en el caso de `HistGradientBoostingClassifier` ya que este contempla la presencia de missing en su ejecución."
   ]
  },
  {
   "cell_type": "code",
   "execution_count": 16,
   "id": "5bdac366",
   "metadata": {},
   "outputs": [],
   "source": [
    "# numeric_transformer = Pipeline(steps=[('imputer', KNNImputer(n_neighbors=3, weights=\"uniform\"))])\n",
    "# numeric_transformer = Pipeline(steps=[('imputer', SimpleImputer(strategy='median'))])"
   ]
  },
  {
   "cell_type": "markdown",
   "id": "e1175e78",
   "metadata": {},
   "source": [
    "El siguiente __Pipilene__ corresponde al procesamiento de variables categóricas. Conlleva la codificación `CountEncoder`normalizada y se hace en todos los casos de estimador."
   ]
  },
  {
   "cell_type": "code",
   "execution_count": 17,
   "id": "5ba8477a",
   "metadata": {},
   "outputs": [],
   "source": [
    "categorical_transformer = Pipeline(steps=[('CountEncoder', CountEncoder(normalize=True))])"
   ]
  },
  {
   "cell_type": "code",
   "execution_count": 18,
   "id": "02d1cdec",
   "metadata": {},
   "outputs": [],
   "source": [
    "# preprocessor = ColumnTransformer(remainder='passthrough',\n",
    "#                                 transformers=[('categorical',\n",
    "#                                                 categorical_transformer,\n",
    "#                                                 cat_names)])"
   ]
  },
  {
   "cell_type": "code",
   "execution_count": 19,
   "id": "1a6f76f2",
   "metadata": {},
   "outputs": [],
   "source": [
    "# X_train"
   ]
  },
  {
   "cell_type": "code",
   "execution_count": 20,
   "id": "57c1fd84",
   "metadata": {},
   "outputs": [],
   "source": [
    "# t = preprocessor.fit(X_train[num_names+cat_names])\n",
    "# t = preprocessor.fit(X_train)"
   ]
  },
  {
   "cell_type": "code",
   "execution_count": 21,
   "id": "246a0c3c",
   "metadata": {},
   "outputs": [],
   "source": [
    "# X_t = t.transform(X_train[num_names+cat_names])"
   ]
  },
  {
   "cell_type": "code",
   "execution_count": 22,
   "id": "17bfe662",
   "metadata": {},
   "outputs": [],
   "source": [
    "# X_train"
   ]
  },
  {
   "cell_type": "code",
   "execution_count": 23,
   "id": "946e9b86",
   "metadata": {},
   "outputs": [],
   "source": [
    "# X_train[num_names+cat_names]"
   ]
  },
  {
   "cell_type": "code",
   "execution_count": 24,
   "id": "e7a5c442",
   "metadata": {},
   "outputs": [],
   "source": [
    "# X_t"
   ]
  },
  {
   "cell_type": "markdown",
   "id": "37126dcd",
   "metadata": {},
   "source": [
    "Estos prepocesamientos para data numérica y categórca dan lugar un objeto __preprocesor__ de la siguiente manera:\n",
    "```\n",
    "preprocessor = ColumnTransformer(remainder='passthrough',\n",
    "                                transformers=[('categorical',\n",
    "                                                categorical_transformer,\n",
    "                                                categorical_names)])\n",
    "```"
   ]
  },
  {
   "cell_type": "markdown",
   "id": "82bef889",
   "metadata": {},
   "source": [
    "Lo anterior se reflejará al utilizar la función *__get_preprocessor__*."
   ]
  },
  {
   "cell_type": "code",
   "execution_count": null,
   "id": "aa89ad86",
   "metadata": {},
   "outputs": [],
   "source": []
  },
  {
   "cell_type": "code",
   "execution_count": null,
   "id": "c8c92234",
   "metadata": {},
   "outputs": [],
   "source": []
  },
  {
   "cell_type": "markdown",
   "id": "92bebf58",
   "metadata": {},
   "source": [
    "## 2.3 Pipeline de Tranformación"
   ]
  },
  {
   "cell_type": "markdown",
   "id": "90a53f21",
   "metadata": {},
   "source": [
    "El pipeline __transform__ contiene  los procesos de preprocesamiento (ver subsección 2.2), la técnica de submuestreo de la clase mayoritaria y el estimador que se utilizará. Está dado por:\n",
    "```\n",
    "transform = Pipeline(steps=[('processing',\n",
    "                              preprocessor),\n",
    "                            ('RandomUnderSampler',\n",
    "                              RandomUnderSampler(random_state=seed,\n",
    "                                                 sampling_strategy=ratio_balance)),\n",
    "                            ('estimator',\n",
    "                              model)])\n",
    "```"
   ]
  },
  {
   "cell_type": "markdown",
   "id": "1ec6e09e",
   "metadata": {},
   "source": [
    "# 3. COMPETENCIA DE MODELOS"
   ]
  },
  {
   "cell_type": "code",
   "execution_count": 25,
   "id": "5ecffc6b",
   "metadata": {},
   "outputs": [],
   "source": [
    "models = [\n",
    "          ('HistGradientBoostingClassifier', HistGradientBoostingClassifier(random_state=seed)),\n",
    "          ('RandomForest', RandomForestClassifier(random_state=seed)),\n",
    "          ('GradientBoosting', GradientBoostingClassifier(random_state=seed)),\n",
    "          ('LogisticRegression', LogisticRegression(random_state=seed))\n",
    "         ]"
   ]
  },
  {
   "cell_type": "code",
   "execution_count": 26,
   "id": "3ff87ef1",
   "metadata": {},
   "outputs": [
    {
     "name": "stdout",
     "output_type": "stream",
     "text": [
      "NOMBRE: HistGradientBoostingClassifier\n",
      "NOMBRE: RandomForest\n",
      "NOMBRE: GradientBoosting\n",
      "NOMBRE: LogisticRegression\n"
     ]
    }
   ],
   "source": [
    "pr_curves = []\n",
    "f1_testeo_scores = []\n",
    "\n",
    "# ITERAR SOBRE CADA MODELO Y CALCULAR LA CURVA PR\n",
    "for model_name, model in models:\n",
    "    print(f'NOMBRE: {model_name}')\n",
    "    # CONFIGURACIONES GENERALES. ###########\n",
    "\n",
    "    preprocessor = get_preprocessor(float_names=numeric_names,\n",
    "                                    categorical_names=categorical_names)\n",
    "    transform = Pipeline(steps=[('processing',\n",
    "                                  preprocessor),\n",
    "                                ('RandomUnderSampler',\n",
    "                                  RandomUnderSampler(random_state=seed,\n",
    "                                                     sampling_strategy=ratio_balance)),\n",
    "                                ('estimator',\n",
    "                                  model)])\n",
    "\n",
    "    # AJUSTE DEL MODELO. ###################\n",
    "    clf = transform.fit(X_train, y_train)\n",
    "    y_pred = clf.predict(X_test)\n",
    "    f1_testeo = f1_score(y_test, y_pred)\n",
    "    f1_testeo_scores.append(f1_testeo)\n",
    "\n",
    "    # OBTENER PROBABILIDADES ESTIMADAS #########\n",
    "    probas_pred = clf.predict_proba(X_test)[:, 1]\n",
    "\n",
    "    # CALCULAR LA CURVA PR Y EL ÁREA BAJO LA CURVA (AUC-PR) ##########\n",
    "    precision, recall, _ = precision_recall_curve(y_test, probas_pred)\n",
    "    auc_pr = auc(recall, precision)\n",
    "\n",
    "    # GUARDAR LA CURVA PR Y ETIQUETA EN LA LISTA ####################\n",
    "    pr_curves.append((recall, precision, f'{model_name} (AUC = {auc_pr:.2f})'))"
   ]
  },
  {
   "cell_type": "code",
   "execution_count": 27,
   "id": "7dc3db81",
   "metadata": {},
   "outputs": [],
   "source": [
    "# CREAR LA FIGURA\n",
    "fig = go.Figure()\n",
    "colors = px.colors.qualitative.Vivid\n",
    "\n",
    "# AGREGAR TODAS LAS CURVAS PR\n",
    "for i, (recall, precision, label) in enumerate(pr_curves):\n",
    "    fig.add_trace(go.Scatter(x=recall, y=precision, mode='lines', name=label, line=dict(color=colors[i])))"
   ]
  },
  {
   "cell_type": "code",
   "execution_count": 28,
   "id": "abdc445c",
   "metadata": {},
   "outputs": [],
   "source": [
    "# MOSTRAR LAS CURVAS\n",
    "# CONFIGURAR EL DISEÑO DE LAS GRÁFICAS\n",
    "fig.update_layout(\n",
    "    title='Curvas PR de Modelos',\n",
    "    xaxis=dict(title='Recall'),\n",
    "    yaxis=dict(title='Precision'),\n",
    "    legend=dict(x=0.05, y=0.05),\n",
    "    showlegend=True,\n",
    "    template='plotly_white'\n",
    ")\n",
    "# fig.show()"
   ]
  },
  {
   "cell_type": "code",
   "execution_count": 29,
   "id": "3f0fa1d4",
   "metadata": {},
   "outputs": [
    {
     "data": {
      "application/vnd.plotly.v1+json": {
       "config": {
        "plotlyServerURL": "https://plot.ly"
       },
       "data": [
        {
         "line": {
          "color": "rgb(229, 134, 6)"
         },
         "mode": "lines",
         "name": "HistGradientBoostingClassifier (AUC = 0.26)",
         "type": "scatter",
         "x": [
          1,
          1,
          0.9772727272727273,
          0.9772727272727273,
          0.9772727272727273,
          0.9772727272727273,
          0.9772727272727273,
          0.9772727272727273,
          0.9772727272727273,
          0.9772727272727273,
          0.9772727272727273,
          0.9772727272727273,
          0.9772727272727273,
          0.9772727272727273,
          0.9772727272727273,
          0.9772727272727273,
          0.9772727272727273,
          0.9772727272727273,
          0.9772727272727273,
          0.9772727272727273,
          0.9772727272727273,
          0.9772727272727273,
          0.9772727272727273,
          0.9772727272727273,
          0.9772727272727273,
          0.9772727272727273,
          0.9772727272727273,
          0.9772727272727273,
          0.9772727272727273,
          0.9772727272727273,
          0.9545454545454546,
          0.9545454545454546,
          0.9545454545454546,
          0.9545454545454546,
          0.9545454545454546,
          0.9545454545454546,
          0.9545454545454546,
          0.9545454545454546,
          0.9545454545454546,
          0.9545454545454546,
          0.9545454545454546,
          0.9545454545454546,
          0.9545454545454546,
          0.9545454545454546,
          0.9545454545454546,
          0.9545454545454546,
          0.9545454545454546,
          0.9545454545454546,
          0.9545454545454546,
          0.9545454545454546,
          0.9545454545454546,
          0.9545454545454546,
          0.9545454545454546,
          0.9545454545454546,
          0.9545454545454546,
          0.9545454545454546,
          0.9545454545454546,
          0.9545454545454546,
          0.9545454545454546,
          0.9545454545454546,
          0.9545454545454546,
          0.9545454545454546,
          0.9545454545454546,
          0.9090909090909091,
          0.9090909090909091,
          0.9090909090909091,
          0.9090909090909091,
          0.9090909090909091,
          0.9090909090909091,
          0.9090909090909091,
          0.9090909090909091,
          0.9090909090909091,
          0.9090909090909091,
          0.9090909090909091,
          0.9090909090909091,
          0.9090909090909091,
          0.9090909090909091,
          0.9090909090909091,
          0.9090909090909091,
          0.9090909090909091,
          0.9090909090909091,
          0.9090909090909091,
          0.9090909090909091,
          0.9090909090909091,
          0.9090909090909091,
          0.9090909090909091,
          0.8863636363636364,
          0.8863636363636364,
          0.8863636363636364,
          0.8863636363636364,
          0.8863636363636364,
          0.8863636363636364,
          0.8863636363636364,
          0.8863636363636364,
          0.8863636363636364,
          0.8863636363636364,
          0.8863636363636364,
          0.8863636363636364,
          0.8863636363636364,
          0.8863636363636364,
          0.8863636363636364,
          0.8863636363636364,
          0.8863636363636364,
          0.8863636363636364,
          0.8863636363636364,
          0.8863636363636364,
          0.8863636363636364,
          0.8863636363636364,
          0.8636363636363636,
          0.8636363636363636,
          0.8636363636363636,
          0.8636363636363636,
          0.8409090909090909,
          0.8409090909090909,
          0.8409090909090909,
          0.8409090909090909,
          0.8409090909090909,
          0.8409090909090909,
          0.8409090909090909,
          0.8409090909090909,
          0.8409090909090909,
          0.8409090909090909,
          0.8181818181818182,
          0.7954545454545454,
          0.7954545454545454,
          0.7954545454545454,
          0.7954545454545454,
          0.7954545454545454,
          0.7954545454545454,
          0.7954545454545454,
          0.7954545454545454,
          0.7954545454545454,
          0.7954545454545454,
          0.7954545454545454,
          0.7954545454545454,
          0.7954545454545454,
          0.7954545454545454,
          0.7954545454545454,
          0.7954545454545454,
          0.7954545454545454,
          0.7954545454545454,
          0.7954545454545454,
          0.7954545454545454,
          0.7954545454545454,
          0.7954545454545454,
          0.7954545454545454,
          0.7954545454545454,
          0.7954545454545454,
          0.7954545454545454,
          0.7954545454545454,
          0.7954545454545454,
          0.7954545454545454,
          0.7954545454545454,
          0.7954545454545454,
          0.7954545454545454,
          0.7954545454545454,
          0.7954545454545454,
          0.7954545454545454,
          0.7954545454545454,
          0.7954545454545454,
          0.7954545454545454,
          0.7954545454545454,
          0.7954545454545454,
          0.7954545454545454,
          0.7954545454545454,
          0.7954545454545454,
          0.7954545454545454,
          0.7954545454545454,
          0.7954545454545454,
          0.7954545454545454,
          0.7954545454545454,
          0.7954545454545454,
          0.7954545454545454,
          0.7954545454545454,
          0.7954545454545454,
          0.7727272727272727,
          0.7727272727272727,
          0.7727272727272727,
          0.7727272727272727,
          0.7727272727272727,
          0.7727272727272727,
          0.7727272727272727,
          0.7727272727272727,
          0.75,
          0.75,
          0.75,
          0.75,
          0.75,
          0.75,
          0.7272727272727273,
          0.7272727272727273,
          0.7272727272727273,
          0.7272727272727273,
          0.7272727272727273,
          0.7272727272727273,
          0.7272727272727273,
          0.7272727272727273,
          0.7045454545454546,
          0.7045454545454546,
          0.7045454545454546,
          0.7045454545454546,
          0.7045454545454546,
          0.7045454545454546,
          0.7045454545454546,
          0.7045454545454546,
          0.7045454545454546,
          0.7045454545454546,
          0.7045454545454546,
          0.6818181818181818,
          0.6818181818181818,
          0.6818181818181818,
          0.6818181818181818,
          0.6818181818181818,
          0.6818181818181818,
          0.6818181818181818,
          0.6818181818181818,
          0.6818181818181818,
          0.6818181818181818,
          0.6818181818181818,
          0.6818181818181818,
          0.6818181818181818,
          0.6818181818181818,
          0.6818181818181818,
          0.6818181818181818,
          0.6818181818181818,
          0.6818181818181818,
          0.6818181818181818,
          0.6818181818181818,
          0.6818181818181818,
          0.6818181818181818,
          0.6818181818181818,
          0.6818181818181818,
          0.6818181818181818,
          0.6818181818181818,
          0.6818181818181818,
          0.6818181818181818,
          0.6363636363636364,
          0.6363636363636364,
          0.6363636363636364,
          0.6363636363636364,
          0.6363636363636364,
          0.6363636363636364,
          0.6363636363636364,
          0.6136363636363636,
          0.6136363636363636,
          0.6136363636363636,
          0.6136363636363636,
          0.6136363636363636,
          0.5909090909090909,
          0.5681818181818182,
          0.5681818181818182,
          0.5681818181818182,
          0.5454545454545454,
          0.5454545454545454,
          0.5454545454545454,
          0.5454545454545454,
          0.5454545454545454,
          0.5227272727272727,
          0.5,
          0.5,
          0.5,
          0.5,
          0.5,
          0.5,
          0.5,
          0.5,
          0.5,
          0.4772727272727273,
          0.4772727272727273,
          0.4772727272727273,
          0.4772727272727273,
          0.4772727272727273,
          0.4772727272727273,
          0.4772727272727273,
          0.4772727272727273,
          0.4772727272727273,
          0.4772727272727273,
          0.4772727272727273,
          0.45454545454545453,
          0.45454545454545453,
          0.45454545454545453,
          0.45454545454545453,
          0.45454545454545453,
          0.45454545454545453,
          0.45454545454545453,
          0.45454545454545453,
          0.45454545454545453,
          0.45454545454545453,
          0.45454545454545453,
          0.4318181818181818,
          0.4318181818181818,
          0.4318181818181818,
          0.4318181818181818,
          0.4318181818181818,
          0.4090909090909091,
          0.4090909090909091,
          0.4090909090909091,
          0.4090909090909091,
          0.4090909090909091,
          0.4090909090909091,
          0.4090909090909091,
          0.4090909090909091,
          0.4090909090909091,
          0.4090909090909091,
          0.4090909090909091,
          0.4090909090909091,
          0.38636363636363635,
          0.38636363636363635,
          0.38636363636363635,
          0.38636363636363635,
          0.3409090909090909,
          0.3409090909090909,
          0.3409090909090909,
          0.3409090909090909,
          0.3409090909090909,
          0.3181818181818182,
          0.3181818181818182,
          0.3181818181818182,
          0.3181818181818182,
          0.29545454545454547,
          0.29545454545454547,
          0.29545454545454547,
          0.29545454545454547,
          0.29545454545454547,
          0.2727272727272727,
          0.2727272727272727,
          0.25,
          0.25,
          0.25,
          0.20454545454545456,
          0.20454545454545456,
          0.18181818181818182,
          0.18181818181818182,
          0.18181818181818182,
          0.18181818181818182,
          0.13636363636363635,
          0.13636363636363635,
          0.11363636363636363,
          0.11363636363636363,
          0.11363636363636363,
          0.11363636363636363,
          0.11363636363636363,
          0.11363636363636363,
          0.09090909090909091,
          0.09090909090909091,
          0.09090909090909091,
          0.09090909090909091,
          0.06818181818181818,
          0.022727272727272728,
          0,
          0,
          0,
          0
         ],
         "y": [
          0.11702127659574468,
          0.11764705882352941,
          0.11528150134048257,
          0.11559139784946236,
          0.11590296495956873,
          0.11621621621621622,
          0.11653116531165311,
          0.11684782608695653,
          0.11716621253405994,
          0.11748633879781421,
          0.1178082191780822,
          0.11813186813186813,
          0.1184573002754821,
          0.11878453038674033,
          0.11911357340720222,
          0.11944444444444445,
          0.11977715877437325,
          0.12011173184357542,
          0.12044817927170869,
          0.12078651685393259,
          0.12112676056338029,
          0.12146892655367232,
          0.12181303116147309,
          0.12215909090909091,
          0.1225071225071225,
          0.12285714285714286,
          0.12320916905444126,
          0.1235632183908046,
          0.1239193083573487,
          0.12427745664739884,
          0.12173913043478261,
          0.12209302325581395,
          0.12244897959183673,
          0.12280701754385964,
          0.12316715542521994,
          0.12352941176470589,
          0.12389380530973451,
          0.1242603550295858,
          0.12462908011869436,
          0.125,
          0.1253731343283582,
          0.12574850299401197,
          0.12612612612612611,
          0.12650602409638553,
          0.1268882175226586,
          0.12727272727272726,
          0.1276595744680851,
          0.12804878048780488,
          0.12844036697247707,
          0.12883435582822086,
          0.12923076923076923,
          0.12962962962962962,
          0.13003095975232198,
          0.13043478260869565,
          0.1308411214953271,
          0.13125,
          0.13166144200626959,
          0.1320754716981132,
          0.13249211356466878,
          0.13291139240506328,
          0.13333333333333333,
          0.1337579617834395,
          0.134185303514377,
          0.12861736334405144,
          0.12903225806451613,
          0.12944983818770225,
          0.12987012987012986,
          0.13029315960912052,
          0.13071895424836602,
          0.13114754098360656,
          0.13157894736842105,
          0.132013201320132,
          0.13245033112582782,
          0.132890365448505,
          0.13333333333333333,
          0.13377926421404682,
          0.1342281879194631,
          0.13468013468013468,
          0.13513513513513514,
          0.1360544217687075,
          0.13651877133105803,
          0.136986301369863,
          0.13745704467353953,
          0.13793103448275862,
          0.1384083044982699,
          0.1388888888888889,
          0.13588850174216027,
          0.13636363636363635,
          0.1368421052631579,
          0.13732394366197184,
          0.13780918727915195,
          0.13829787234042554,
          0.1387900355871886,
          0.13978494623655913,
          0.14028776978417265,
          0.1407942238267148,
          0.14130434782608695,
          0.14181818181818182,
          0.14233576642335766,
          0.14285714285714285,
          0.14338235294117646,
          0.14391143911439114,
          0.14444444444444443,
          0.1449814126394052,
          0.1455223880597015,
          0.14606741573033707,
          0.14661654135338345,
          0.1471698113207547,
          0.14393939393939395,
          0.1444866920152091,
          0.1450381679389313,
          0.14559386973180077,
          0.1423076923076923,
          0.1434108527131783,
          0.14396887159533073,
          0.14453125,
          0.1450980392156863,
          0.14566929133858267,
          0.14624505928853754,
          0.14682539682539683,
          0.14741035856573706,
          0.148,
          0.14457831325301204,
          0.14112903225806453,
          0.1417004048582996,
          0.14227642276422764,
          0.14285714285714285,
          0.14344262295081966,
          0.1440329218106996,
          0.1446280991735537,
          0.14522821576763487,
          0.14583333333333334,
          0.14644351464435146,
          0.14705882352941177,
          0.14767932489451477,
          0.1483050847457627,
          0.14893617021276595,
          0.14957264957264957,
          0.15021459227467812,
          0.15086206896551724,
          0.15151515151515152,
          0.15217391304347827,
          0.15283842794759825,
          0.15350877192982457,
          0.15418502202643172,
          0.15486725663716813,
          0.15625,
          0.15695067264573992,
          0.15765765765765766,
          0.1583710407239819,
          0.1590909090909091,
          0.1598173515981735,
          0.16055045871559634,
          0.16129032258064516,
          0.16203703703703703,
          0.16279069767441862,
          0.16355140186915887,
          0.1643192488262911,
          0.1650943396226415,
          0.16587677725118483,
          0.16666666666666666,
          0.1674641148325359,
          0.16826923076923078,
          0.16908212560386474,
          0.16990291262135923,
          0.17073170731707318,
          0.1715686274509804,
          0.1724137931034483,
          0.17326732673267325,
          0.17412935323383086,
          0.175,
          0.17587939698492464,
          0.17676767676767677,
          0.17766497461928935,
          0.17857142857142858,
          0.17435897435897435,
          0.17525773195876287,
          0.17616580310880828,
          0.17708333333333334,
          0.17801047120418848,
          0.17989417989417988,
          0.18085106382978725,
          0.18181818181818182,
          0.1774193548387097,
          0.1783783783783784,
          0.1793478260869565,
          0.18032786885245902,
          0.1813186813186813,
          0.18232044198895028,
          0.17777777777777778,
          0.1787709497206704,
          0.1797752808988764,
          0.1807909604519774,
          0.18181818181818182,
          0.18285714285714286,
          0.1839080459770115,
          0.18497109826589594,
          0.18023255813953487,
          0.18128654970760233,
          0.18235294117647058,
          0.1834319526627219,
          0.18452380952380953,
          0.18562874251497005,
          0.18674698795180722,
          0.18787878787878787,
          0.18902439024390244,
          0.1901840490797546,
          0.19135802469135801,
          0.18633540372670807,
          0.1875,
          0.189873417721519,
          0.1910828025477707,
          0.19230769230769232,
          0.1935483870967742,
          0.19480519480519481,
          0.19607843137254902,
          0.19736842105263158,
          0.1986754966887417,
          0.2,
          0.20134228187919462,
          0.20270270270270271,
          0.20408163265306123,
          0.2054794520547945,
          0.20689655172413793,
          0.20833333333333334,
          0.2097902097902098,
          0.2112676056338028,
          0.2127659574468085,
          0.21428571428571427,
          0.2158273381294964,
          0.21897810218978103,
          0.22058823529411764,
          0.2222222222222222,
          0.22388059701492538,
          0.22727272727272727,
          0.22900763358778625,
          0.21875,
          0.2204724409448819,
          0.2222222222222222,
          0.224,
          0.22580645161290322,
          0.22764227642276422,
          0.22950819672131148,
          0.2231404958677686,
          0.225,
          0.226890756302521,
          0.2288135593220339,
          0.23275862068965517,
          0.22608695652173913,
          0.21929824561403508,
          0.22123893805309736,
          0.22321428571428573,
          0.21621621621621623,
          0.21818181818181817,
          0.22018348623853212,
          0.2222222222222222,
          0.22429906542056074,
          0.2169811320754717,
          0.20952380952380953,
          0.21153846153846154,
          0.21359223300970873,
          0.21782178217821782,
          0.22,
          0.2222222222222222,
          0.22448979591836735,
          0.2268041237113402,
          0.22916666666666666,
          0.22105263157894736,
          0.22340425531914893,
          0.22580645161290322,
          0.22826086956521738,
          0.23076923076923078,
          0.23333333333333334,
          0.23595505617977527,
          0.23863636363636365,
          0.2413793103448276,
          0.2441860465116279,
          0.24705882352941178,
          0.23809523809523808,
          0.24096385542168675,
          0.24390243902439024,
          0.24691358024691357,
          0.25,
          0.25316455696202533,
          0.2564102564102564,
          0.2597402597402597,
          0.26666666666666666,
          0.2702702702702703,
          0.2777777777777778,
          0.2676056338028169,
          0.2714285714285714,
          0.2753623188405797,
          0.27941176470588236,
          0.2878787878787879,
          0.27692307692307694,
          0.28125,
          0.2857142857142857,
          0.2903225806451613,
          0.29508196721311475,
          0.3,
          0.3050847457627119,
          0.3103448275862069,
          0.3157894736842105,
          0.32142857142857145,
          0.32727272727272727,
          0.3333333333333333,
          0.32075471698113206,
          0.3269230769230769,
          0.3333333333333333,
          0.3469387755102041,
          0.3191489361702128,
          0.32608695652173914,
          0.3333333333333333,
          0.3409090909090909,
          0.3488372093023256,
          0.3333333333333333,
          0.34146341463414637,
          0.35,
          0.358974358974359,
          0.34210526315789475,
          0.35135135135135137,
          0.3611111111111111,
          0.37142857142857144,
          0.38235294117647056,
          0.36363636363636365,
          0.375,
          0.3548387096774194,
          0.3793103448275862,
          0.39285714285714285,
          0.34615384615384615,
          0.375,
          0.34782608695652173,
          0.36363636363636365,
          0.38095238095238093,
          0.4,
          0.3333333333333333,
          0.35294117647058826,
          0.3125,
          0.3333333333333333,
          0.35714285714285715,
          0.38461538461538464,
          0.4166666666666667,
          0.45454545454545453,
          0.4,
          0.4444444444444444,
          0.5,
          0.5714285714285714,
          0.5,
          0.25,
          0,
          0,
          0,
          1
         ]
        },
        {
         "line": {
          "color": "rgb(93, 105, 177)"
         },
         "mode": "lines",
         "name": "RandomForest (AUC = 0.51)",
         "type": "scatter",
         "x": [
          1,
          1,
          1,
          1,
          1,
          1,
          1,
          1,
          1,
          1,
          1,
          1,
          1,
          0.9772727272727273,
          0.9772727272727273,
          0.9545454545454546,
          0.9545454545454546,
          0.9318181818181818,
          0.9318181818181818,
          0.9318181818181818,
          0.9318181818181818,
          0.9318181818181818,
          0.9318181818181818,
          0.9318181818181818,
          0.9090909090909091,
          0.9090909090909091,
          0.9090909090909091,
          0.9090909090909091,
          0.8636363636363636,
          0.8636363636363636,
          0.8409090909090909,
          0.7954545454545454,
          0.7954545454545454,
          0.7954545454545454,
          0.7954545454545454,
          0.7727272727272727,
          0.7727272727272727,
          0.7272727272727273,
          0.7272727272727273,
          0.7272727272727273,
          0.7045454545454546,
          0.7045454545454546,
          0.7045454545454546,
          0.7045454545454546,
          0.7045454545454546,
          0.6818181818181818,
          0.6818181818181818,
          0.6818181818181818,
          0.6818181818181818,
          0.6590909090909091,
          0.6363636363636364,
          0.6363636363636364,
          0.6363636363636364,
          0.6363636363636364,
          0.5909090909090909,
          0.5909090909090909,
          0.5909090909090909,
          0.5909090909090909,
          0.5909090909090909,
          0.5681818181818182,
          0.5227272727272727,
          0.5227272727272727,
          0.4772727272727273,
          0.4772727272727273,
          0.4772727272727273,
          0.4772727272727273,
          0.4090909090909091,
          0.38636363636363635,
          0.36363636363636365,
          0.3409090909090909,
          0.3409090909090909,
          0.29545454545454547,
          0.29545454545454547,
          0.25,
          0.22727272727272727,
          0.18181818181818182,
          0.18181818181818182,
          0.13636363636363635,
          0.11363636363636363,
          0.045454545454545456,
          0.022727272727272728,
          0
         ],
         "y": [
          0.11702127659574468,
          0.11733333333333333,
          0.11764705882352941,
          0.11796246648793565,
          0.11827956989247312,
          0.11859838274932614,
          0.11891891891891893,
          0.11924119241192412,
          0.12054794520547946,
          0.12222222222222222,
          0.12290502793296089,
          0.12359550561797752,
          0.12429378531073447,
          0.12427745664739884,
          0.12536443148688048,
          0.12574850299401197,
          0.1276595744680851,
          0.12576687116564417,
          0.128125,
          0.1305732484076433,
          0.1331168831168831,
          0.1353135313531353,
          0.13851351351351351,
          0.14335664335664336,
          0.14285714285714285,
          0.14705882352941177,
          0.15151515151515152,
          0.1568627450980392,
          0.15637860082304528,
          0.1630901287553648,
          0.16444444444444445,
          0.16055045871559634,
          0.1724137931034483,
          0.18134715025906736,
          0.1912568306010929,
          0.19428571428571428,
          0.19883040935672514,
          0.19753086419753085,
          0.20915032679738563,
          0.21333333333333335,
          0.21232876712328766,
          0.22142857142857142,
          0.23134328358208955,
          0.24031007751937986,
          0.25833333333333336,
          0.2727272727272727,
          0.2803738317757009,
          0.2857142857142857,
          0.29411764705882354,
          0.29292929292929293,
          0.2978723404255319,
          0.3146067415730337,
          0.35,
          0.3835616438356164,
          0.4,
          0.4126984126984127,
          0.41935483870967744,
          0.4262295081967213,
          0.4482758620689655,
          0.43859649122807015,
          0.4423076923076923,
          0.45098039215686275,
          0.4772727272727273,
          0.5,
          0.525,
          0.5526315789473685,
          0.5806451612903226,
          0.5862068965517241,
          0.5925925925925926,
          0.6,
          0.625,
          0.6842105263157895,
          0.7222222222222222,
          0.7333333333333333,
          0.7692307692307693,
          0.7272727272727273,
          0.8888888888888888,
          1,
          1,
          1,
          1,
          1
         ]
        },
        {
         "line": {
          "color": "rgb(82, 188, 163)"
         },
         "mode": "lines",
         "name": "GradientBoosting (AUC = 0.26)",
         "type": "scatter",
         "x": [
          1,
          1,
          1,
          1,
          0.9772727272727273,
          0.9772727272727273,
          0.9772727272727273,
          0.9772727272727273,
          0.9772727272727273,
          0.9772727272727273,
          0.9772727272727273,
          0.9772727272727273,
          0.9772727272727273,
          0.9772727272727273,
          0.9772727272727273,
          0.9772727272727273,
          0.9772727272727273,
          0.9772727272727273,
          0.9772727272727273,
          0.9772727272727273,
          0.9772727272727273,
          0.9772727272727273,
          0.9772727272727273,
          0.9772727272727273,
          0.9772727272727273,
          0.9772727272727273,
          0.9772727272727273,
          0.9772727272727273,
          0.9772727272727273,
          0.9772727272727273,
          0.9772727272727273,
          0.9772727272727273,
          0.9772727272727273,
          0.9772727272727273,
          0.9772727272727273,
          0.9772727272727273,
          0.9772727272727273,
          0.9772727272727273,
          0.9772727272727273,
          0.9772727272727273,
          0.9772727272727273,
          0.9772727272727273,
          0.9772727272727273,
          0.9772727272727273,
          0.9772727272727273,
          0.9772727272727273,
          0.9772727272727273,
          0.9772727272727273,
          0.9772727272727273,
          0.9772727272727273,
          0.9772727272727273,
          0.9772727272727273,
          0.9772727272727273,
          0.9772727272727273,
          0.9545454545454546,
          0.9545454545454546,
          0.9545454545454546,
          0.9318181818181818,
          0.9318181818181818,
          0.9318181818181818,
          0.9318181818181818,
          0.9318181818181818,
          0.9318181818181818,
          0.9318181818181818,
          0.9318181818181818,
          0.9318181818181818,
          0.9318181818181818,
          0.9318181818181818,
          0.9318181818181818,
          0.9318181818181818,
          0.9318181818181818,
          0.9318181818181818,
          0.9318181818181818,
          0.9318181818181818,
          0.9318181818181818,
          0.9318181818181818,
          0.9318181818181818,
          0.9318181818181818,
          0.9318181818181818,
          0.9318181818181818,
          0.9318181818181818,
          0.9318181818181818,
          0.9318181818181818,
          0.9318181818181818,
          0.9318181818181818,
          0.9318181818181818,
          0.9318181818181818,
          0.9318181818181818,
          0.9318181818181818,
          0.9318181818181818,
          0.9318181818181818,
          0.9318181818181818,
          0.9318181818181818,
          0.9090909090909091,
          0.9090909090909091,
          0.9090909090909091,
          0.9090909090909091,
          0.9090909090909091,
          0.9090909090909091,
          0.9090909090909091,
          0.9090909090909091,
          0.9090909090909091,
          0.9090909090909091,
          0.8863636363636364,
          0.8863636363636364,
          0.8863636363636364,
          0.8863636363636364,
          0.8863636363636364,
          0.8863636363636364,
          0.8863636363636364,
          0.8863636363636364,
          0.8863636363636364,
          0.8636363636363636,
          0.8636363636363636,
          0.8636363636363636,
          0.8636363636363636,
          0.8636363636363636,
          0.8636363636363636,
          0.8636363636363636,
          0.8636363636363636,
          0.8636363636363636,
          0.8636363636363636,
          0.8636363636363636,
          0.8636363636363636,
          0.8636363636363636,
          0.8636363636363636,
          0.8636363636363636,
          0.8636363636363636,
          0.8636363636363636,
          0.8636363636363636,
          0.8409090909090909,
          0.8409090909090909,
          0.8409090909090909,
          0.8409090909090909,
          0.8409090909090909,
          0.8409090909090909,
          0.8409090909090909,
          0.8409090909090909,
          0.8409090909090909,
          0.8409090909090909,
          0.7954545454545454,
          0.7954545454545454,
          0.7954545454545454,
          0.7954545454545454,
          0.7954545454545454,
          0.7954545454545454,
          0.7954545454545454,
          0.7954545454545454,
          0.7954545454545454,
          0.7954545454545454,
          0.7954545454545454,
          0.7954545454545454,
          0.7954545454545454,
          0.7954545454545454,
          0.7954545454545454,
          0.7727272727272727,
          0.7727272727272727,
          0.7727272727272727,
          0.7727272727272727,
          0.7727272727272727,
          0.7727272727272727,
          0.7727272727272727,
          0.75,
          0.75,
          0.75,
          0.75,
          0.7272727272727273,
          0.7272727272727273,
          0.7272727272727273,
          0.7272727272727273,
          0.7272727272727273,
          0.7272727272727273,
          0.7272727272727273,
          0.7272727272727273,
          0.7272727272727273,
          0.7272727272727273,
          0.7272727272727273,
          0.7272727272727273,
          0.7272727272727273,
          0.7272727272727273,
          0.7272727272727273,
          0.7272727272727273,
          0.7272727272727273,
          0.7272727272727273,
          0.7272727272727273,
          0.7272727272727273,
          0.7272727272727273,
          0.7272727272727273,
          0.7272727272727273,
          0.7045454545454546,
          0.7045454545454546,
          0.7045454545454546,
          0.7045454545454546,
          0.7045454545454546,
          0.7045454545454546,
          0.7045454545454546,
          0.7045454545454546,
          0.7045454545454546,
          0.7045454545454546,
          0.7045454545454546,
          0.7045454545454546,
          0.7045454545454546,
          0.6590909090909091,
          0.6590909090909091,
          0.6590909090909091,
          0.6590909090909091,
          0.6590909090909091,
          0.6590909090909091,
          0.6590909090909091,
          0.6590909090909091,
          0.6590909090909091,
          0.6590909090909091,
          0.6590909090909091,
          0.6590909090909091,
          0.6590909090909091,
          0.6363636363636364,
          0.6363636363636364,
          0.6363636363636364,
          0.6363636363636364,
          0.6363636363636364,
          0.6363636363636364,
          0.6363636363636364,
          0.6363636363636364,
          0.6363636363636364,
          0.6363636363636364,
          0.6363636363636364,
          0.6363636363636364,
          0.6363636363636364,
          0.6363636363636364,
          0.6363636363636364,
          0.6363636363636364,
          0.6363636363636364,
          0.6363636363636364,
          0.6363636363636364,
          0.6363636363636364,
          0.6363636363636364,
          0.6363636363636364,
          0.6363636363636364,
          0.6363636363636364,
          0.6363636363636364,
          0.6363636363636364,
          0.6363636363636364,
          0.6363636363636364,
          0.6363636363636364,
          0.6363636363636364,
          0.6363636363636364,
          0.6363636363636364,
          0.6136363636363636,
          0.6136363636363636,
          0.6136363636363636,
          0.6136363636363636,
          0.6136363636363636,
          0.6136363636363636,
          0.5909090909090909,
          0.5681818181818182,
          0.5681818181818182,
          0.5681818181818182,
          0.5681818181818182,
          0.5681818181818182,
          0.5454545454545454,
          0.5454545454545454,
          0.5454545454545454,
          0.5454545454545454,
          0.5454545454545454,
          0.5454545454545454,
          0.5454545454545454,
          0.5454545454545454,
          0.5227272727272727,
          0.5227272727272727,
          0.5227272727272727,
          0.5227272727272727,
          0.5227272727272727,
          0.5227272727272727,
          0.5227272727272727,
          0.5227272727272727,
          0.5227272727272727,
          0.5227272727272727,
          0.5227272727272727,
          0.5227272727272727,
          0.5227272727272727,
          0.5227272727272727,
          0.4772727272727273,
          0.4772727272727273,
          0.4772727272727273,
          0.4772727272727273,
          0.4772727272727273,
          0.4772727272727273,
          0.45454545454545453,
          0.45454545454545453,
          0.4318181818181818,
          0.4318181818181818,
          0.38636363636363635,
          0.36363636363636365,
          0.36363636363636365,
          0.36363636363636365,
          0.3409090909090909,
          0.3409090909090909,
          0.3409090909090909,
          0.3409090909090909,
          0.3409090909090909,
          0.3409090909090909,
          0.3409090909090909,
          0.3409090909090909,
          0.3409090909090909,
          0.3409090909090909,
          0.3409090909090909,
          0.3409090909090909,
          0.3409090909090909,
          0.3409090909090909,
          0.3181818181818182,
          0.3181818181818182,
          0.3181818181818182,
          0.3181818181818182,
          0.29545454545454547,
          0.2727272727272727,
          0.2727272727272727,
          0.2727272727272727,
          0.2727272727272727,
          0.2727272727272727,
          0.2727272727272727,
          0.2727272727272727,
          0.25,
          0.25,
          0.25,
          0.25,
          0.25,
          0.25,
          0.25,
          0.25,
          0.22727272727272727,
          0.22727272727272727,
          0.20454545454545456,
          0.20454545454545456,
          0.20454545454545456,
          0.20454545454545456,
          0.20454545454545456,
          0.20454545454545456,
          0.18181818181818182,
          0.1590909090909091,
          0.1590909090909091,
          0.1590909090909091,
          0.1590909090909091,
          0.13636363636363635,
          0.13636363636363635,
          0.13636363636363635,
          0.13636363636363635,
          0.11363636363636363,
          0.09090909090909091,
          0.06818181818181818,
          0.06818181818181818,
          0.022727272727272728,
          0,
          0,
          0,
          0,
          0
         ],
         "y": [
          0.11702127659574468,
          0.11733333333333333,
          0.11764705882352941,
          0.11796246648793565,
          0.11559139784946236,
          0.11590296495956873,
          0.11621621621621622,
          0.11684782608695653,
          0.11716621253405994,
          0.11748633879781421,
          0.1178082191780822,
          0.11813186813186813,
          0.1184573002754821,
          0.11878453038674033,
          0.11911357340720222,
          0.11944444444444445,
          0.11977715877437325,
          0.12011173184357542,
          0.12044817927170869,
          0.12078651685393259,
          0.12112676056338029,
          0.12146892655367232,
          0.12181303116147309,
          0.12215909090909091,
          0.1225071225071225,
          0.12285714285714286,
          0.12320916905444126,
          0.1235632183908046,
          0.1239193083573487,
          0.12427745664739884,
          0.1246376811594203,
          0.125,
          0.12536443148688048,
          0.12573099415204678,
          0.12609970674486803,
          0.1264705882352941,
          0.12684365781710916,
          0.12721893491124261,
          0.12759643916913946,
          0.12797619047619047,
          0.12835820895522387,
          0.12874251497005987,
          0.12912912912912913,
          0.12951807228915663,
          0.1299093655589124,
          0.1303030303030303,
          0.13069908814589665,
          0.13109756097560976,
          0.13149847094801223,
          0.13190184049079753,
          0.13230769230769232,
          0.13271604938271606,
          0.13312693498452013,
          0.13354037267080746,
          0.1308411214953271,
          0.13125,
          0.13166144200626959,
          0.1289308176100629,
          0.12933753943217666,
          0.12974683544303797,
          0.13015873015873017,
          0.1305732484076433,
          0.13099041533546327,
          0.13141025641025642,
          0.13183279742765272,
          0.13225806451612904,
          0.13268608414239483,
          0.1331168831168831,
          0.13355048859934854,
          0.13398692810457516,
          0.13486842105263158,
          0.1353135313531353,
          0.1357615894039735,
          0.1362126245847176,
          0.13666666666666666,
          0.13712374581939799,
          0.13758389261744966,
          0.13804713804713806,
          0.13851351351351351,
          0.13898305084745763,
          0.13945578231292516,
          0.13993174061433447,
          0.1404109589041096,
          0.140893470790378,
          0.1413793103448276,
          0.14186851211072665,
          0.1423611111111111,
          0.14285714285714285,
          0.14335664335664336,
          0.14385964912280702,
          0.1443661971830986,
          0.14487632508833923,
          0.1453900709219858,
          0.1423487544483986,
          0.14285714285714285,
          0.14336917562724014,
          0.1444043321299639,
          0.14492753623188406,
          0.145985401459854,
          0.14652014652014653,
          0.14705882352941177,
          0.14760147601476015,
          0.14814814814814814,
          0.1449814126394052,
          0.1455223880597015,
          0.14606741573033707,
          0.14661654135338345,
          0.1471698113207547,
          0.14772727272727273,
          0.1482889733840304,
          0.14885496183206107,
          0.14942528735632185,
          0.14615384615384616,
          0.14671814671814673,
          0.14728682170542637,
          0.14785992217898833,
          0.1484375,
          0.14901960784313725,
          0.14960629921259844,
          0.15019762845849802,
          0.15079365079365079,
          0.15139442231075698,
          0.152,
          0.15261044176706828,
          0.1532258064516129,
          0.15384615384615385,
          0.15447154471544716,
          0.15510204081632653,
          0.1557377049180328,
          0.15637860082304528,
          0.15289256198347106,
          0.15352697095435686,
          0.15416666666666667,
          0.15481171548117154,
          0.15546218487394958,
          0.15611814345991562,
          0.15677966101694915,
          0.1574468085106383,
          0.1581196581196581,
          0.15879828326180256,
          0.15151515151515152,
          0.15217391304347827,
          0.15283842794759825,
          0.15350877192982457,
          0.15418502202643172,
          0.15486725663716813,
          0.15555555555555556,
          0.15625,
          0.15695067264573992,
          0.1583710407239819,
          0.1590909090909091,
          0.1598173515981735,
          0.16055045871559634,
          0.16129032258064516,
          0.16203703703703703,
          0.15813953488372093,
          0.1588785046728972,
          0.1596244131455399,
          0.16037735849056603,
          0.16113744075829384,
          0.1619047619047619,
          0.16267942583732056,
          0.15865384615384615,
          0.15942028985507245,
          0.16019417475728157,
          0.16097560975609757,
          0.1568627450980392,
          0.15763546798029557,
          0.15920398009950248,
          0.16,
          0.16080402010050251,
          0.16243654822335024,
          0.16326530612244897,
          0.1641025641025641,
          0.16494845360824742,
          0.16580310880829016,
          0.16666666666666666,
          0.16753926701570682,
          0.16842105263157894,
          0.1693121693121693,
          0.1702127659574468,
          0.1711229946524064,
          0.17204301075268819,
          0.17297297297297298,
          0.17391304347826086,
          0.17486338797814208,
          0.17582417582417584,
          0.17679558011049723,
          0.17777777777777778,
          0.17318435754189945,
          0.17415730337078653,
          0.1751412429378531,
          0.17613636363636365,
          0.1781609195402299,
          0.1791907514450867,
          0.18023255813953487,
          0.18128654970760233,
          0.18235294117647058,
          0.1834319526627219,
          0.18452380952380953,
          0.18562874251497005,
          0.18674698795180722,
          0.17791411042944785,
          0.17901234567901234,
          0.18012422360248448,
          0.18125,
          0.18238993710691823,
          0.18354430379746836,
          0.18471337579617833,
          0.1858974358974359,
          0.1870967741935484,
          0.18831168831168832,
          0.1895424836601307,
          0.19078947368421054,
          0.19205298013245034,
          0.18666666666666668,
          0.18791946308724833,
          0.1891891891891892,
          0.19047619047619047,
          0.1917808219178082,
          0.19310344827586207,
          0.1958041958041958,
          0.19718309859154928,
          0.19858156028368795,
          0.2,
          0.2014388489208633,
          0.2028985507246377,
          0.20437956204379562,
          0.20588235294117646,
          0.2074074074074074,
          0.208955223880597,
          0.21052631578947367,
          0.21374045801526717,
          0.2153846153846154,
          0.21705426356589147,
          0.21875,
          0.2204724409448819,
          0.2222222222222222,
          0.224,
          0.22580645161290322,
          0.22764227642276422,
          0.22950819672131148,
          0.23140495867768596,
          0.23529411764705882,
          0.23728813559322035,
          0.23931623931623933,
          0.2413793103448276,
          0.23478260869565218,
          0.23684210526315788,
          0.23893805309734514,
          0.24107142857142858,
          0.24324324324324326,
          0.24545454545454545,
          0.23853211009174313,
          0.23148148148148148,
          0.2336448598130841,
          0.2358490566037736,
          0.23809523809523808,
          0.2403846153846154,
          0.23300970873786409,
          0.23529411764705882,
          0.2376237623762376,
          0.24,
          0.24489795918367346,
          0.24742268041237114,
          0.25,
          0.25263157894736843,
          0.24468085106382978,
          0.24731182795698925,
          0.25274725274725274,
          0.25555555555555554,
          0.25842696629213485,
          0.26136363636363635,
          0.26436781609195403,
          0.26744186046511625,
          0.27058823529411763,
          0.27380952380952384,
          0.27710843373493976,
          0.2804878048780488,
          0.2839506172839506,
          0.2875,
          0.2692307692307692,
          0.2727272727272727,
          0.27631578947368424,
          0.28,
          0.28378378378378377,
          0.2876712328767123,
          0.2777777777777778,
          0.28169014084507044,
          0.2714285714285714,
          0.2753623188405797,
          0.2537313432835821,
          0.24242424242424243,
          0.24615384615384617,
          0.25,
          0.23809523809523808,
          0.24193548387096775,
          0.2459016393442623,
          0.25,
          0.2542372881355932,
          0.25862068965517243,
          0.2631578947368421,
          0.26785714285714285,
          0.2777777777777778,
          0.2830188679245283,
          0.28846153846153844,
          0.29411764705882354,
          0.3,
          0.30612244897959184,
          0.2916666666666667,
          0.30434782608695654,
          0.3111111111111111,
          0.3181818181818182,
          0.3023255813953488,
          0.2857142857142857,
          0.2926829268292683,
          0.3,
          0.3076923076923077,
          0.3157894736842105,
          0.32432432432432434,
          0.3333333333333333,
          0.3142857142857143,
          0.3235294117647059,
          0.3333333333333333,
          0.34375,
          0.3548387096774194,
          0.36666666666666664,
          0.3793103448275862,
          0.39285714285714285,
          0.37037037037037035,
          0.38461538461538464,
          0.36,
          0.375,
          0.391304347826087,
          0.4090909090909091,
          0.42857142857142855,
          0.45,
          0.42105263157894735,
          0.3888888888888889,
          0.4117647058823529,
          0.4375,
          0.4666666666666667,
          0.42857142857142855,
          0.46153846153846156,
          0.5,
          0.5454545454545454,
          0.5,
          0.4444444444444444,
          0.375,
          0.42857142857142855,
          0.2,
          0,
          0,
          0,
          0,
          1
         ]
        },
        {
         "line": {
          "color": "rgb(153, 201, 69)"
         },
         "mode": "lines",
         "name": "LogisticRegression (AUC = 0.17)",
         "type": "scatter",
         "x": [
          1,
          1,
          1,
          1,
          1,
          0.9772727272727273,
          0.9772727272727273,
          0.9772727272727273,
          0.9772727272727273,
          0.9545454545454546,
          0.9545454545454546,
          0.9545454545454546,
          0.9545454545454546,
          0.9545454545454546,
          0.9090909090909091,
          0.9090909090909091,
          0.8863636363636364,
          0.8863636363636364,
          0.8863636363636364,
          0.8863636363636364,
          0.8863636363636364,
          0.8863636363636364,
          0.8863636363636364,
          0.8863636363636364,
          0.8863636363636364,
          0.8863636363636364,
          0.8863636363636364,
          0.8863636363636364,
          0.8863636363636364,
          0.8863636363636364,
          0.8863636363636364,
          0.8863636363636364,
          0.8863636363636364,
          0.8863636363636364,
          0.8863636363636364,
          0.8863636363636364,
          0.8409090909090909,
          0.8181818181818182,
          0.8181818181818182,
          0.8181818181818182,
          0.8181818181818182,
          0.8181818181818182,
          0.8181818181818182,
          0.8181818181818182,
          0.8181818181818182,
          0.8181818181818182,
          0.8181818181818182,
          0.8181818181818182,
          0.8181818181818182,
          0.8181818181818182,
          0.8181818181818182,
          0.8181818181818182,
          0.7954545454545454,
          0.7954545454545454,
          0.7954545454545454,
          0.7727272727272727,
          0.7727272727272727,
          0.7727272727272727,
          0.7727272727272727,
          0.7727272727272727,
          0.7727272727272727,
          0.7727272727272727,
          0.7727272727272727,
          0.7727272727272727,
          0.7727272727272727,
          0.7727272727272727,
          0.75,
          0.75,
          0.75,
          0.75,
          0.75,
          0.75,
          0.75,
          0.75,
          0.75,
          0.75,
          0.75,
          0.75,
          0.75,
          0.75,
          0.75,
          0.75,
          0.75,
          0.75,
          0.75,
          0.75,
          0.75,
          0.75,
          0.75,
          0.75,
          0.75,
          0.75,
          0.75,
          0.7272727272727273,
          0.7272727272727273,
          0.7272727272727273,
          0.7272727272727273,
          0.7272727272727273,
          0.7272727272727273,
          0.7272727272727273,
          0.7272727272727273,
          0.7272727272727273,
          0.7272727272727273,
          0.7272727272727273,
          0.7272727272727273,
          0.7272727272727273,
          0.7272727272727273,
          0.7272727272727273,
          0.7272727272727273,
          0.7045454545454546,
          0.7045454545454546,
          0.7045454545454546,
          0.7045454545454546,
          0.7045454545454546,
          0.7045454545454546,
          0.6818181818181818,
          0.6590909090909091,
          0.6590909090909091,
          0.6590909090909091,
          0.6590909090909091,
          0.6590909090909091,
          0.6590909090909091,
          0.6590909090909091,
          0.6590909090909091,
          0.6590909090909091,
          0.6590909090909091,
          0.6590909090909091,
          0.6590909090909091,
          0.6590909090909091,
          0.6590909090909091,
          0.6590909090909091,
          0.6590909090909091,
          0.6590909090909091,
          0.6590909090909091,
          0.6590909090909091,
          0.6590909090909091,
          0.6590909090909091,
          0.6590909090909091,
          0.6590909090909091,
          0.6590909090909091,
          0.6590909090909091,
          0.6590909090909091,
          0.6590909090909091,
          0.6590909090909091,
          0.6590909090909091,
          0.6363636363636364,
          0.6363636363636364,
          0.6363636363636364,
          0.5909090909090909,
          0.5909090909090909,
          0.5909090909090909,
          0.5909090909090909,
          0.5909090909090909,
          0.5909090909090909,
          0.5909090909090909,
          0.5909090909090909,
          0.5909090909090909,
          0.5909090909090909,
          0.5909090909090909,
          0.5909090909090909,
          0.5909090909090909,
          0.5909090909090909,
          0.5909090909090909,
          0.5909090909090909,
          0.5909090909090909,
          0.5681818181818182,
          0.5454545454545454,
          0.5454545454545454,
          0.5454545454545454,
          0.5454545454545454,
          0.5454545454545454,
          0.5454545454545454,
          0.5454545454545454,
          0.5454545454545454,
          0.5454545454545454,
          0.5,
          0.5,
          0.5,
          0.5,
          0.5,
          0.5,
          0.5,
          0.5,
          0.5,
          0.4772727272727273,
          0.4772727272727273,
          0.4772727272727273,
          0.4772727272727273,
          0.4772727272727273,
          0.4772727272727273,
          0.4772727272727273,
          0.45454545454545453,
          0.45454545454545453,
          0.45454545454545453,
          0.45454545454545453,
          0.45454545454545453,
          0.45454545454545453,
          0.45454545454545453,
          0.45454545454545453,
          0.45454545454545453,
          0.45454545454545453,
          0.45454545454545453,
          0.45454545454545453,
          0.45454545454545453,
          0.45454545454545453,
          0.45454545454545453,
          0.45454545454545453,
          0.45454545454545453,
          0.45454545454545453,
          0.45454545454545453,
          0.45454545454545453,
          0.45454545454545453,
          0.45454545454545453,
          0.45454545454545453,
          0.45454545454545453,
          0.45454545454545453,
          0.45454545454545453,
          0.4318181818181818,
          0.4318181818181818,
          0.4318181818181818,
          0.4318181818181818,
          0.4318181818181818,
          0.4318181818181818,
          0.4318181818181818,
          0.4318181818181818,
          0.4318181818181818,
          0.4318181818181818,
          0.4318181818181818,
          0.4318181818181818,
          0.4318181818181818,
          0.4318181818181818,
          0.4090909090909091,
          0.38636363636363635,
          0.38636363636363635,
          0.38636363636363635,
          0.38636363636363635,
          0.38636363636363635,
          0.38636363636363635,
          0.38636363636363635,
          0.38636363636363635,
          0.38636363636363635,
          0.38636363636363635,
          0.38636363636363635,
          0.38636363636363635,
          0.38636363636363635,
          0.38636363636363635,
          0.38636363636363635,
          0.38636363636363635,
          0.36363636363636365,
          0.36363636363636365,
          0.36363636363636365,
          0.36363636363636365,
          0.36363636363636365,
          0.36363636363636365,
          0.36363636363636365,
          0.36363636363636365,
          0.36363636363636365,
          0.36363636363636365,
          0.36363636363636365,
          0.36363636363636365,
          0.36363636363636365,
          0.36363636363636365,
          0.36363636363636365,
          0.36363636363636365,
          0.36363636363636365,
          0.36363636363636365,
          0.36363636363636365,
          0.36363636363636365,
          0.36363636363636365,
          0.36363636363636365,
          0.36363636363636365,
          0.36363636363636365,
          0.36363636363636365,
          0.36363636363636365,
          0.36363636363636365,
          0.36363636363636365,
          0.36363636363636365,
          0.36363636363636365,
          0.36363636363636365,
          0.36363636363636365,
          0.3409090909090909,
          0.3181818181818182,
          0.3181818181818182,
          0.29545454545454547,
          0.29545454545454547,
          0.29545454545454547,
          0.29545454545454547,
          0.29545454545454547,
          0.29545454545454547,
          0.29545454545454547,
          0.29545454545454547,
          0.29545454545454547,
          0.29545454545454547,
          0.29545454545454547,
          0.29545454545454547,
          0.2727272727272727,
          0.25,
          0.25,
          0.25,
          0.25,
          0.25,
          0.25,
          0.25,
          0.25,
          0.25,
          0.25,
          0.25,
          0.25,
          0.25,
          0.25,
          0.25,
          0.25,
          0.25,
          0.25,
          0.25,
          0.25,
          0.25,
          0.22727272727272727,
          0.22727272727272727,
          0.22727272727272727,
          0.22727272727272727,
          0.22727272727272727,
          0.22727272727272727,
          0.22727272727272727,
          0.22727272727272727,
          0.22727272727272727,
          0.22727272727272727,
          0.22727272727272727,
          0.22727272727272727,
          0.22727272727272727,
          0.22727272727272727,
          0.22727272727272727,
          0.22727272727272727,
          0.22727272727272727,
          0.22727272727272727,
          0.22727272727272727,
          0.20454545454545456,
          0.18181818181818182,
          0.1590909090909091,
          0.13636363636363635,
          0.13636363636363635,
          0.13636363636363635,
          0.13636363636363635,
          0.13636363636363635,
          0.11363636363636363,
          0.11363636363636363,
          0.06818181818181818,
          0.06818181818181818,
          0.045454545454545456,
          0.045454545454545456,
          0.022727272727272728,
          0.022727272727272728,
          0.022727272727272728,
          0.022727272727272728,
          0.022727272727272728,
          0.022727272727272728,
          0,
          0,
          0
         ],
         "y": [
          0.11702127659574468,
          0.11733333333333333,
          0.11764705882352941,
          0.11796246648793565,
          0.11827956989247312,
          0.11590296495956873,
          0.11653116531165311,
          0.11716621253405994,
          0.11748633879781421,
          0.11506849315068493,
          0.11538461538461539,
          0.11570247933884298,
          0.11602209944751381,
          0.11634349030470914,
          0.11142061281337047,
          0.11173184357541899,
          0.1092436974789916,
          0.10955056179775281,
          0.10985915492957747,
          0.11016949152542373,
          0.11048158640226628,
          0.11079545454545454,
          0.1111111111111111,
          0.11142857142857143,
          0.11174785100286533,
          0.11206896551724138,
          0.11239193083573487,
          0.11271676300578035,
          0.11337209302325581,
          0.11370262390670553,
          0.11403508771929824,
          0.11436950146627566,
          0.11470588235294117,
          0.11504424778761062,
          0.11538461538461539,
          0.11572700296735905,
          0.11077844311377245,
          0.10810810810810811,
          0.10843373493975904,
          0.10876132930513595,
          0.10909090909090909,
          0.1094224924012158,
          0.10975609756097561,
          0.11009174311926606,
          0.11042944785276074,
          0.11076923076923077,
          0.1111111111111111,
          0.11145510835913312,
          0.11180124223602485,
          0.11214953271028037,
          0.1125,
          0.11285266457680251,
          0.11006289308176101,
          0.11041009463722397,
          0.11075949367088607,
          0.10793650793650794,
          0.10828025477707007,
          0.10862619808306709,
          0.10897435897435898,
          0.10932475884244373,
          0.10967741935483871,
          0.11003236245954692,
          0.11038961038961038,
          0.11074918566775244,
          0.1111111111111111,
          0.11147540983606558,
          0.10855263157894737,
          0.10927152317880795,
          0.10963455149501661,
          0.11,
          0.11036789297658862,
          0.11073825503355705,
          0.1111111111111111,
          0.11148648648648649,
          0.11186440677966102,
          0.11224489795918367,
          0.11262798634812286,
          0.11301369863013698,
          0.1134020618556701,
          0.11379310344827587,
          0.11418685121107267,
          0.11458333333333333,
          0.11498257839721254,
          0.11538461538461539,
          0.11578947368421053,
          0.11619718309859155,
          0.1166077738515901,
          0.11702127659574468,
          0.11743772241992882,
          0.11785714285714285,
          0.11827956989247312,
          0.11870503597122302,
          0.11913357400722022,
          0.11594202898550725,
          0.11636363636363636,
          0.11678832116788321,
          0.11721611721611722,
          0.11764705882352941,
          0.11808118081180811,
          0.11851851851851852,
          0.11895910780669144,
          0.11940298507462686,
          0.1198501872659176,
          0.12030075187969924,
          0.12075471698113208,
          0.12121212121212122,
          0.12167300380228137,
          0.12213740458015267,
          0.12260536398467432,
          0.11923076923076924,
          0.11969111969111969,
          0.12015503875968993,
          0.12062256809338522,
          0.12109375,
          0.1220472440944882,
          0.11857707509881422,
          0.11507936507936507,
          0.11553784860557768,
          0.116,
          0.11646586345381527,
          0.11693548387096774,
          0.11740890688259109,
          0.11788617886178862,
          0.11836734693877551,
          0.11885245901639344,
          0.11934156378600823,
          0.11983471074380166,
          0.12033195020746888,
          0.12083333333333333,
          0.12133891213389121,
          0.12184873949579832,
          0.1228813559322034,
          0.12340425531914893,
          0.12393162393162394,
          0.12446351931330472,
          0.125,
          0.12554112554112554,
          0.12608695652173912,
          0.12719298245614036,
          0.1277533039647577,
          0.12831858407079647,
          0.1288888888888889,
          0.12946428571428573,
          0.13004484304932734,
          0.13063063063063063,
          0.12669683257918551,
          0.12727272727272726,
          0.1278538812785388,
          0.11981566820276497,
          0.12037037037037036,
          0.12093023255813953,
          0.12149532710280374,
          0.12206572769953052,
          0.12264150943396226,
          0.12322274881516587,
          0.12380952380952381,
          0.12440191387559808,
          0.125,
          0.12560386473429952,
          0.1262135922330097,
          0.12682926829268293,
          0.12745098039215685,
          0.12807881773399016,
          0.12871287128712872,
          0.12935323383084577,
          0.125,
          0.12060301507537688,
          0.12121212121212122,
          0.1218274111675127,
          0.12244897959183673,
          0.12307692307692308,
          0.12371134020618557,
          0.12435233160621761,
          0.1256544502617801,
          0.12631578947368421,
          0.11702127659574468,
          0.11764705882352941,
          0.11827956989247312,
          0.11891891891891893,
          0.12021857923497267,
          0.12087912087912088,
          0.12154696132596685,
          0.12222222222222222,
          0.12290502793296089,
          0.11797752808988764,
          0.11864406779661017,
          0.11931818181818182,
          0.12,
          0.1206896551724138,
          0.12138728323699421,
          0.12209302325581395,
          0.11695906432748537,
          0.11764705882352941,
          0.11834319526627218,
          0.11904761904761904,
          0.11976047904191617,
          0.12048192771084337,
          0.12121212121212122,
          0.12195121951219512,
          0.12269938650306748,
          0.12345679012345678,
          0.12422360248447205,
          0.125,
          0.12578616352201258,
          0.12658227848101267,
          0.12738853503184713,
          0.1282051282051282,
          0.12903225806451613,
          0.12987012987012986,
          0.13071895424836602,
          0.13157894736842105,
          0.13245033112582782,
          0.13333333333333333,
          0.1342281879194631,
          0.13513513513513514,
          0.1360544217687075,
          0.136986301369863,
          0.1310344827586207,
          0.13194444444444445,
          0.13286713286713286,
          0.13380281690140844,
          0.1347517730496454,
          0.1357142857142857,
          0.1366906474820144,
          0.13768115942028986,
          0.1386861313868613,
          0.13970588235294118,
          0.14074074074074075,
          0.1417910447761194,
          0.14285714285714285,
          0.14393939393939395,
          0.13740458015267176,
          0.13076923076923078,
          0.13178294573643412,
          0.1328125,
          0.13385826771653545,
          0.1349206349206349,
          0.136,
          0.13709677419354838,
          0.13821138211382114,
          0.13934426229508196,
          0.14049586776859505,
          0.14285714285714285,
          0.1440677966101695,
          0.1452991452991453,
          0.14655172413793102,
          0.14782608695652175,
          0.14912280701754385,
          0.1415929203539823,
          0.14285714285714285,
          0.14414414414414414,
          0.14545454545454545,
          0.14678899082568808,
          0.14814814814814814,
          0.14953271028037382,
          0.1509433962264151,
          0.1523809523809524,
          0.15384615384615385,
          0.1553398058252427,
          0.1568627450980392,
          0.15841584158415842,
          0.16,
          0.16161616161616163,
          0.16326530612244897,
          0.16494845360824742,
          0.16666666666666666,
          0.16842105263157894,
          0.1702127659574468,
          0.17204301075268819,
          0.17391304347826086,
          0.17582417582417584,
          0.17777777777777778,
          0.1797752808988764,
          0.18181818181818182,
          0.1839080459770115,
          0.18604651162790697,
          0.18823529411764706,
          0.19047619047619047,
          0.1927710843373494,
          0.1951219512195122,
          0.18518518518518517,
          0.175,
          0.17721518987341772,
          0.16666666666666666,
          0.16883116883116883,
          0.17105263157894737,
          0.17333333333333334,
          0.17567567567567569,
          0.1780821917808219,
          0.18055555555555555,
          0.18309859154929578,
          0.18571428571428572,
          0.18840579710144928,
          0.19117647058823528,
          0.19402985074626866,
          0.18181818181818182,
          0.16923076923076924,
          0.171875,
          0.1746031746031746,
          0.1774193548387097,
          0.18032786885245902,
          0.18333333333333332,
          0.1864406779661017,
          0.1896551724137931,
          0.19298245614035087,
          0.19642857142857142,
          0.2,
          0.2037037037037037,
          0.20754716981132076,
          0.21153846153846154,
          0.21568627450980393,
          0.22,
          0.22448979591836735,
          0.22916666666666666,
          0.23404255319148937,
          0.2391304347826087,
          0.24444444444444444,
          0.22727272727272727,
          0.23255813953488372,
          0.23809523809523808,
          0.24390243902439024,
          0.25,
          0.2564102564102564,
          0.2631578947368421,
          0.2702702702702703,
          0.2777777777777778,
          0.2857142857142857,
          0.29411764705882354,
          0.30303030303030304,
          0.3125,
          0.3225806451612903,
          0.3333333333333333,
          0.35714285714285715,
          0.37037037037037035,
          0.38461538461538464,
          0.4,
          0.375,
          0.34782608695652173,
          0.3181818181818182,
          0.2857142857142857,
          0.3157894736842105,
          0.3333333333333333,
          0.35294117647058826,
          0.375,
          0.3333333333333333,
          0.35714285714285715,
          0.25,
          0.2727272727272727,
          0.2,
          0.2222222222222222,
          0.125,
          0.14285714285714285,
          0.16666666666666666,
          0.2,
          0.25,
          0.3333333333333333,
          0,
          0,
          1
         ]
        }
       ],
       "layout": {
        "legend": {
         "x": 0.05,
         "y": 0.05
        },
        "showlegend": true,
        "template": {
         "data": {
          "bar": [
           {
            "error_x": {
             "color": "#2a3f5f"
            },
            "error_y": {
             "color": "#2a3f5f"
            },
            "marker": {
             "line": {
              "color": "white",
              "width": 0.5
             },
             "pattern": {
              "fillmode": "overlay",
              "size": 10,
              "solidity": 0.2
             }
            },
            "type": "bar"
           }
          ],
          "barpolar": [
           {
            "marker": {
             "line": {
              "color": "white",
              "width": 0.5
             },
             "pattern": {
              "fillmode": "overlay",
              "size": 10,
              "solidity": 0.2
             }
            },
            "type": "barpolar"
           }
          ],
          "carpet": [
           {
            "aaxis": {
             "endlinecolor": "#2a3f5f",
             "gridcolor": "#C8D4E3",
             "linecolor": "#C8D4E3",
             "minorgridcolor": "#C8D4E3",
             "startlinecolor": "#2a3f5f"
            },
            "baxis": {
             "endlinecolor": "#2a3f5f",
             "gridcolor": "#C8D4E3",
             "linecolor": "#C8D4E3",
             "minorgridcolor": "#C8D4E3",
             "startlinecolor": "#2a3f5f"
            },
            "type": "carpet"
           }
          ],
          "choropleth": [
           {
            "colorbar": {
             "outlinewidth": 0,
             "ticks": ""
            },
            "type": "choropleth"
           }
          ],
          "contour": [
           {
            "colorbar": {
             "outlinewidth": 0,
             "ticks": ""
            },
            "colorscale": [
             [
              0,
              "#0d0887"
             ],
             [
              0.1111111111111111,
              "#46039f"
             ],
             [
              0.2222222222222222,
              "#7201a8"
             ],
             [
              0.3333333333333333,
              "#9c179e"
             ],
             [
              0.4444444444444444,
              "#bd3786"
             ],
             [
              0.5555555555555556,
              "#d8576b"
             ],
             [
              0.6666666666666666,
              "#ed7953"
             ],
             [
              0.7777777777777778,
              "#fb9f3a"
             ],
             [
              0.8888888888888888,
              "#fdca26"
             ],
             [
              1,
              "#f0f921"
             ]
            ],
            "type": "contour"
           }
          ],
          "contourcarpet": [
           {
            "colorbar": {
             "outlinewidth": 0,
             "ticks": ""
            },
            "type": "contourcarpet"
           }
          ],
          "heatmap": [
           {
            "colorbar": {
             "outlinewidth": 0,
             "ticks": ""
            },
            "colorscale": [
             [
              0,
              "#0d0887"
             ],
             [
              0.1111111111111111,
              "#46039f"
             ],
             [
              0.2222222222222222,
              "#7201a8"
             ],
             [
              0.3333333333333333,
              "#9c179e"
             ],
             [
              0.4444444444444444,
              "#bd3786"
             ],
             [
              0.5555555555555556,
              "#d8576b"
             ],
             [
              0.6666666666666666,
              "#ed7953"
             ],
             [
              0.7777777777777778,
              "#fb9f3a"
             ],
             [
              0.8888888888888888,
              "#fdca26"
             ],
             [
              1,
              "#f0f921"
             ]
            ],
            "type": "heatmap"
           }
          ],
          "heatmapgl": [
           {
            "colorbar": {
             "outlinewidth": 0,
             "ticks": ""
            },
            "colorscale": [
             [
              0,
              "#0d0887"
             ],
             [
              0.1111111111111111,
              "#46039f"
             ],
             [
              0.2222222222222222,
              "#7201a8"
             ],
             [
              0.3333333333333333,
              "#9c179e"
             ],
             [
              0.4444444444444444,
              "#bd3786"
             ],
             [
              0.5555555555555556,
              "#d8576b"
             ],
             [
              0.6666666666666666,
              "#ed7953"
             ],
             [
              0.7777777777777778,
              "#fb9f3a"
             ],
             [
              0.8888888888888888,
              "#fdca26"
             ],
             [
              1,
              "#f0f921"
             ]
            ],
            "type": "heatmapgl"
           }
          ],
          "histogram": [
           {
            "marker": {
             "pattern": {
              "fillmode": "overlay",
              "size": 10,
              "solidity": 0.2
             }
            },
            "type": "histogram"
           }
          ],
          "histogram2d": [
           {
            "colorbar": {
             "outlinewidth": 0,
             "ticks": ""
            },
            "colorscale": [
             [
              0,
              "#0d0887"
             ],
             [
              0.1111111111111111,
              "#46039f"
             ],
             [
              0.2222222222222222,
              "#7201a8"
             ],
             [
              0.3333333333333333,
              "#9c179e"
             ],
             [
              0.4444444444444444,
              "#bd3786"
             ],
             [
              0.5555555555555556,
              "#d8576b"
             ],
             [
              0.6666666666666666,
              "#ed7953"
             ],
             [
              0.7777777777777778,
              "#fb9f3a"
             ],
             [
              0.8888888888888888,
              "#fdca26"
             ],
             [
              1,
              "#f0f921"
             ]
            ],
            "type": "histogram2d"
           }
          ],
          "histogram2dcontour": [
           {
            "colorbar": {
             "outlinewidth": 0,
             "ticks": ""
            },
            "colorscale": [
             [
              0,
              "#0d0887"
             ],
             [
              0.1111111111111111,
              "#46039f"
             ],
             [
              0.2222222222222222,
              "#7201a8"
             ],
             [
              0.3333333333333333,
              "#9c179e"
             ],
             [
              0.4444444444444444,
              "#bd3786"
             ],
             [
              0.5555555555555556,
              "#d8576b"
             ],
             [
              0.6666666666666666,
              "#ed7953"
             ],
             [
              0.7777777777777778,
              "#fb9f3a"
             ],
             [
              0.8888888888888888,
              "#fdca26"
             ],
             [
              1,
              "#f0f921"
             ]
            ],
            "type": "histogram2dcontour"
           }
          ],
          "mesh3d": [
           {
            "colorbar": {
             "outlinewidth": 0,
             "ticks": ""
            },
            "type": "mesh3d"
           }
          ],
          "parcoords": [
           {
            "line": {
             "colorbar": {
              "outlinewidth": 0,
              "ticks": ""
             }
            },
            "type": "parcoords"
           }
          ],
          "pie": [
           {
            "automargin": true,
            "type": "pie"
           }
          ],
          "scatter": [
           {
            "fillpattern": {
             "fillmode": "overlay",
             "size": 10,
             "solidity": 0.2
            },
            "type": "scatter"
           }
          ],
          "scatter3d": [
           {
            "line": {
             "colorbar": {
              "outlinewidth": 0,
              "ticks": ""
             }
            },
            "marker": {
             "colorbar": {
              "outlinewidth": 0,
              "ticks": ""
             }
            },
            "type": "scatter3d"
           }
          ],
          "scattercarpet": [
           {
            "marker": {
             "colorbar": {
              "outlinewidth": 0,
              "ticks": ""
             }
            },
            "type": "scattercarpet"
           }
          ],
          "scattergeo": [
           {
            "marker": {
             "colorbar": {
              "outlinewidth": 0,
              "ticks": ""
             }
            },
            "type": "scattergeo"
           }
          ],
          "scattergl": [
           {
            "marker": {
             "colorbar": {
              "outlinewidth": 0,
              "ticks": ""
             }
            },
            "type": "scattergl"
           }
          ],
          "scattermapbox": [
           {
            "marker": {
             "colorbar": {
              "outlinewidth": 0,
              "ticks": ""
             }
            },
            "type": "scattermapbox"
           }
          ],
          "scatterpolar": [
           {
            "marker": {
             "colorbar": {
              "outlinewidth": 0,
              "ticks": ""
             }
            },
            "type": "scatterpolar"
           }
          ],
          "scatterpolargl": [
           {
            "marker": {
             "colorbar": {
              "outlinewidth": 0,
              "ticks": ""
             }
            },
            "type": "scatterpolargl"
           }
          ],
          "scatterternary": [
           {
            "marker": {
             "colorbar": {
              "outlinewidth": 0,
              "ticks": ""
             }
            },
            "type": "scatterternary"
           }
          ],
          "surface": [
           {
            "colorbar": {
             "outlinewidth": 0,
             "ticks": ""
            },
            "colorscale": [
             [
              0,
              "#0d0887"
             ],
             [
              0.1111111111111111,
              "#46039f"
             ],
             [
              0.2222222222222222,
              "#7201a8"
             ],
             [
              0.3333333333333333,
              "#9c179e"
             ],
             [
              0.4444444444444444,
              "#bd3786"
             ],
             [
              0.5555555555555556,
              "#d8576b"
             ],
             [
              0.6666666666666666,
              "#ed7953"
             ],
             [
              0.7777777777777778,
              "#fb9f3a"
             ],
             [
              0.8888888888888888,
              "#fdca26"
             ],
             [
              1,
              "#f0f921"
             ]
            ],
            "type": "surface"
           }
          ],
          "table": [
           {
            "cells": {
             "fill": {
              "color": "#EBF0F8"
             },
             "line": {
              "color": "white"
             }
            },
            "header": {
             "fill": {
              "color": "#C8D4E3"
             },
             "line": {
              "color": "white"
             }
            },
            "type": "table"
           }
          ]
         },
         "layout": {
          "annotationdefaults": {
           "arrowcolor": "#2a3f5f",
           "arrowhead": 0,
           "arrowwidth": 1
          },
          "autotypenumbers": "strict",
          "coloraxis": {
           "colorbar": {
            "outlinewidth": 0,
            "ticks": ""
           }
          },
          "colorscale": {
           "diverging": [
            [
             0,
             "#8e0152"
            ],
            [
             0.1,
             "#c51b7d"
            ],
            [
             0.2,
             "#de77ae"
            ],
            [
             0.3,
             "#f1b6da"
            ],
            [
             0.4,
             "#fde0ef"
            ],
            [
             0.5,
             "#f7f7f7"
            ],
            [
             0.6,
             "#e6f5d0"
            ],
            [
             0.7,
             "#b8e186"
            ],
            [
             0.8,
             "#7fbc41"
            ],
            [
             0.9,
             "#4d9221"
            ],
            [
             1,
             "#276419"
            ]
           ],
           "sequential": [
            [
             0,
             "#0d0887"
            ],
            [
             0.1111111111111111,
             "#46039f"
            ],
            [
             0.2222222222222222,
             "#7201a8"
            ],
            [
             0.3333333333333333,
             "#9c179e"
            ],
            [
             0.4444444444444444,
             "#bd3786"
            ],
            [
             0.5555555555555556,
             "#d8576b"
            ],
            [
             0.6666666666666666,
             "#ed7953"
            ],
            [
             0.7777777777777778,
             "#fb9f3a"
            ],
            [
             0.8888888888888888,
             "#fdca26"
            ],
            [
             1,
             "#f0f921"
            ]
           ],
           "sequentialminus": [
            [
             0,
             "#0d0887"
            ],
            [
             0.1111111111111111,
             "#46039f"
            ],
            [
             0.2222222222222222,
             "#7201a8"
            ],
            [
             0.3333333333333333,
             "#9c179e"
            ],
            [
             0.4444444444444444,
             "#bd3786"
            ],
            [
             0.5555555555555556,
             "#d8576b"
            ],
            [
             0.6666666666666666,
             "#ed7953"
            ],
            [
             0.7777777777777778,
             "#fb9f3a"
            ],
            [
             0.8888888888888888,
             "#fdca26"
            ],
            [
             1,
             "#f0f921"
            ]
           ]
          },
          "colorway": [
           "#636efa",
           "#EF553B",
           "#00cc96",
           "#ab63fa",
           "#FFA15A",
           "#19d3f3",
           "#FF6692",
           "#B6E880",
           "#FF97FF",
           "#FECB52"
          ],
          "font": {
           "color": "#2a3f5f"
          },
          "geo": {
           "bgcolor": "white",
           "lakecolor": "white",
           "landcolor": "white",
           "showlakes": true,
           "showland": true,
           "subunitcolor": "#C8D4E3"
          },
          "hoverlabel": {
           "align": "left"
          },
          "hovermode": "closest",
          "mapbox": {
           "style": "light"
          },
          "paper_bgcolor": "white",
          "plot_bgcolor": "white",
          "polar": {
           "angularaxis": {
            "gridcolor": "#EBF0F8",
            "linecolor": "#EBF0F8",
            "ticks": ""
           },
           "bgcolor": "white",
           "radialaxis": {
            "gridcolor": "#EBF0F8",
            "linecolor": "#EBF0F8",
            "ticks": ""
           }
          },
          "scene": {
           "xaxis": {
            "backgroundcolor": "white",
            "gridcolor": "#DFE8F3",
            "gridwidth": 2,
            "linecolor": "#EBF0F8",
            "showbackground": true,
            "ticks": "",
            "zerolinecolor": "#EBF0F8"
           },
           "yaxis": {
            "backgroundcolor": "white",
            "gridcolor": "#DFE8F3",
            "gridwidth": 2,
            "linecolor": "#EBF0F8",
            "showbackground": true,
            "ticks": "",
            "zerolinecolor": "#EBF0F8"
           },
           "zaxis": {
            "backgroundcolor": "white",
            "gridcolor": "#DFE8F3",
            "gridwidth": 2,
            "linecolor": "#EBF0F8",
            "showbackground": true,
            "ticks": "",
            "zerolinecolor": "#EBF0F8"
           }
          },
          "shapedefaults": {
           "line": {
            "color": "#2a3f5f"
           }
          },
          "ternary": {
           "aaxis": {
            "gridcolor": "#DFE8F3",
            "linecolor": "#A2B1C6",
            "ticks": ""
           },
           "baxis": {
            "gridcolor": "#DFE8F3",
            "linecolor": "#A2B1C6",
            "ticks": ""
           },
           "bgcolor": "white",
           "caxis": {
            "gridcolor": "#DFE8F3",
            "linecolor": "#A2B1C6",
            "ticks": ""
           }
          },
          "title": {
           "x": 0.05
          },
          "xaxis": {
           "automargin": true,
           "gridcolor": "#EBF0F8",
           "linecolor": "#EBF0F8",
           "ticks": "",
           "title": {
            "standoff": 15
           },
           "zerolinecolor": "#EBF0F8",
           "zerolinewidth": 2
          },
          "yaxis": {
           "automargin": true,
           "gridcolor": "#EBF0F8",
           "linecolor": "#EBF0F8",
           "ticks": "",
           "title": {
            "standoff": 15
           },
           "zerolinecolor": "#EBF0F8",
           "zerolinewidth": 2
          }
         }
        },
        "title": {
         "text": "Curvas PR de Modelos"
        },
        "xaxis": {
         "title": {
          "text": "Recall"
         }
        },
        "yaxis": {
         "title": {
          "text": "Precision"
         }
        }
       }
      },
      "text/html": [
       "<div>                            <div id=\"997f0b40-d590-4149-a495-e42302d429cf\" class=\"plotly-graph-div\" style=\"height:525px; width:100%;\"></div>            <script type=\"text/javascript\">                require([\"plotly\"], function(Plotly) {                    window.PLOTLYENV=window.PLOTLYENV || {};                                    if (document.getElementById(\"997f0b40-d590-4149-a495-e42302d429cf\")) {                    Plotly.newPlot(                        \"997f0b40-d590-4149-a495-e42302d429cf\",                        [{\"line\":{\"color\":\"rgb(229, 134, 6)\"},\"mode\":\"lines\",\"name\":\"HistGradientBoostingClassifier (AUC = 0.26)\",\"x\":[1.0,1.0,0.9772727272727273,0.9772727272727273,0.9772727272727273,0.9772727272727273,0.9772727272727273,0.9772727272727273,0.9772727272727273,0.9772727272727273,0.9772727272727273,0.9772727272727273,0.9772727272727273,0.9772727272727273,0.9772727272727273,0.9772727272727273,0.9772727272727273,0.9772727272727273,0.9772727272727273,0.9772727272727273,0.9772727272727273,0.9772727272727273,0.9772727272727273,0.9772727272727273,0.9772727272727273,0.9772727272727273,0.9772727272727273,0.9772727272727273,0.9772727272727273,0.9772727272727273,0.9545454545454546,0.9545454545454546,0.9545454545454546,0.9545454545454546,0.9545454545454546,0.9545454545454546,0.9545454545454546,0.9545454545454546,0.9545454545454546,0.9545454545454546,0.9545454545454546,0.9545454545454546,0.9545454545454546,0.9545454545454546,0.9545454545454546,0.9545454545454546,0.9545454545454546,0.9545454545454546,0.9545454545454546,0.9545454545454546,0.9545454545454546,0.9545454545454546,0.9545454545454546,0.9545454545454546,0.9545454545454546,0.9545454545454546,0.9545454545454546,0.9545454545454546,0.9545454545454546,0.9545454545454546,0.9545454545454546,0.9545454545454546,0.9545454545454546,0.9090909090909091,0.9090909090909091,0.9090909090909091,0.9090909090909091,0.9090909090909091,0.9090909090909091,0.9090909090909091,0.9090909090909091,0.9090909090909091,0.9090909090909091,0.9090909090909091,0.9090909090909091,0.9090909090909091,0.9090909090909091,0.9090909090909091,0.9090909090909091,0.9090909090909091,0.9090909090909091,0.9090909090909091,0.9090909090909091,0.9090909090909091,0.9090909090909091,0.9090909090909091,0.8863636363636364,0.8863636363636364,0.8863636363636364,0.8863636363636364,0.8863636363636364,0.8863636363636364,0.8863636363636364,0.8863636363636364,0.8863636363636364,0.8863636363636364,0.8863636363636364,0.8863636363636364,0.8863636363636364,0.8863636363636364,0.8863636363636364,0.8863636363636364,0.8863636363636364,0.8863636363636364,0.8863636363636364,0.8863636363636364,0.8863636363636364,0.8863636363636364,0.8636363636363636,0.8636363636363636,0.8636363636363636,0.8636363636363636,0.8409090909090909,0.8409090909090909,0.8409090909090909,0.8409090909090909,0.8409090909090909,0.8409090909090909,0.8409090909090909,0.8409090909090909,0.8409090909090909,0.8409090909090909,0.8181818181818182,0.7954545454545454,0.7954545454545454,0.7954545454545454,0.7954545454545454,0.7954545454545454,0.7954545454545454,0.7954545454545454,0.7954545454545454,0.7954545454545454,0.7954545454545454,0.7954545454545454,0.7954545454545454,0.7954545454545454,0.7954545454545454,0.7954545454545454,0.7954545454545454,0.7954545454545454,0.7954545454545454,0.7954545454545454,0.7954545454545454,0.7954545454545454,0.7954545454545454,0.7954545454545454,0.7954545454545454,0.7954545454545454,0.7954545454545454,0.7954545454545454,0.7954545454545454,0.7954545454545454,0.7954545454545454,0.7954545454545454,0.7954545454545454,0.7954545454545454,0.7954545454545454,0.7954545454545454,0.7954545454545454,0.7954545454545454,0.7954545454545454,0.7954545454545454,0.7954545454545454,0.7954545454545454,0.7954545454545454,0.7954545454545454,0.7954545454545454,0.7954545454545454,0.7954545454545454,0.7954545454545454,0.7954545454545454,0.7954545454545454,0.7954545454545454,0.7954545454545454,0.7954545454545454,0.7727272727272727,0.7727272727272727,0.7727272727272727,0.7727272727272727,0.7727272727272727,0.7727272727272727,0.7727272727272727,0.7727272727272727,0.75,0.75,0.75,0.75,0.75,0.75,0.7272727272727273,0.7272727272727273,0.7272727272727273,0.7272727272727273,0.7272727272727273,0.7272727272727273,0.7272727272727273,0.7272727272727273,0.7045454545454546,0.7045454545454546,0.7045454545454546,0.7045454545454546,0.7045454545454546,0.7045454545454546,0.7045454545454546,0.7045454545454546,0.7045454545454546,0.7045454545454546,0.7045454545454546,0.6818181818181818,0.6818181818181818,0.6818181818181818,0.6818181818181818,0.6818181818181818,0.6818181818181818,0.6818181818181818,0.6818181818181818,0.6818181818181818,0.6818181818181818,0.6818181818181818,0.6818181818181818,0.6818181818181818,0.6818181818181818,0.6818181818181818,0.6818181818181818,0.6818181818181818,0.6818181818181818,0.6818181818181818,0.6818181818181818,0.6818181818181818,0.6818181818181818,0.6818181818181818,0.6818181818181818,0.6818181818181818,0.6818181818181818,0.6818181818181818,0.6818181818181818,0.6363636363636364,0.6363636363636364,0.6363636363636364,0.6363636363636364,0.6363636363636364,0.6363636363636364,0.6363636363636364,0.6136363636363636,0.6136363636363636,0.6136363636363636,0.6136363636363636,0.6136363636363636,0.5909090909090909,0.5681818181818182,0.5681818181818182,0.5681818181818182,0.5454545454545454,0.5454545454545454,0.5454545454545454,0.5454545454545454,0.5454545454545454,0.5227272727272727,0.5,0.5,0.5,0.5,0.5,0.5,0.5,0.5,0.5,0.4772727272727273,0.4772727272727273,0.4772727272727273,0.4772727272727273,0.4772727272727273,0.4772727272727273,0.4772727272727273,0.4772727272727273,0.4772727272727273,0.4772727272727273,0.4772727272727273,0.45454545454545453,0.45454545454545453,0.45454545454545453,0.45454545454545453,0.45454545454545453,0.45454545454545453,0.45454545454545453,0.45454545454545453,0.45454545454545453,0.45454545454545453,0.45454545454545453,0.4318181818181818,0.4318181818181818,0.4318181818181818,0.4318181818181818,0.4318181818181818,0.4090909090909091,0.4090909090909091,0.4090909090909091,0.4090909090909091,0.4090909090909091,0.4090909090909091,0.4090909090909091,0.4090909090909091,0.4090909090909091,0.4090909090909091,0.4090909090909091,0.4090909090909091,0.38636363636363635,0.38636363636363635,0.38636363636363635,0.38636363636363635,0.3409090909090909,0.3409090909090909,0.3409090909090909,0.3409090909090909,0.3409090909090909,0.3181818181818182,0.3181818181818182,0.3181818181818182,0.3181818181818182,0.29545454545454547,0.29545454545454547,0.29545454545454547,0.29545454545454547,0.29545454545454547,0.2727272727272727,0.2727272727272727,0.25,0.25,0.25,0.20454545454545456,0.20454545454545456,0.18181818181818182,0.18181818181818182,0.18181818181818182,0.18181818181818182,0.13636363636363635,0.13636363636363635,0.11363636363636363,0.11363636363636363,0.11363636363636363,0.11363636363636363,0.11363636363636363,0.11363636363636363,0.09090909090909091,0.09090909090909091,0.09090909090909091,0.09090909090909091,0.06818181818181818,0.022727272727272728,0.0,0.0,0.0,0.0],\"y\":[0.11702127659574468,0.11764705882352941,0.11528150134048257,0.11559139784946236,0.11590296495956873,0.11621621621621622,0.11653116531165311,0.11684782608695653,0.11716621253405994,0.11748633879781421,0.1178082191780822,0.11813186813186813,0.1184573002754821,0.11878453038674033,0.11911357340720222,0.11944444444444445,0.11977715877437325,0.12011173184357542,0.12044817927170869,0.12078651685393259,0.12112676056338029,0.12146892655367232,0.12181303116147309,0.12215909090909091,0.1225071225071225,0.12285714285714286,0.12320916905444126,0.1235632183908046,0.1239193083573487,0.12427745664739884,0.12173913043478261,0.12209302325581395,0.12244897959183673,0.12280701754385964,0.12316715542521994,0.12352941176470589,0.12389380530973451,0.1242603550295858,0.12462908011869436,0.125,0.1253731343283582,0.12574850299401197,0.12612612612612611,0.12650602409638553,0.1268882175226586,0.12727272727272726,0.1276595744680851,0.12804878048780488,0.12844036697247707,0.12883435582822086,0.12923076923076923,0.12962962962962962,0.13003095975232198,0.13043478260869565,0.1308411214953271,0.13125,0.13166144200626959,0.1320754716981132,0.13249211356466878,0.13291139240506328,0.13333333333333333,0.1337579617834395,0.134185303514377,0.12861736334405144,0.12903225806451613,0.12944983818770225,0.12987012987012986,0.13029315960912052,0.13071895424836602,0.13114754098360656,0.13157894736842105,0.132013201320132,0.13245033112582782,0.132890365448505,0.13333333333333333,0.13377926421404682,0.1342281879194631,0.13468013468013468,0.13513513513513514,0.1360544217687075,0.13651877133105803,0.136986301369863,0.13745704467353953,0.13793103448275862,0.1384083044982699,0.1388888888888889,0.13588850174216027,0.13636363636363635,0.1368421052631579,0.13732394366197184,0.13780918727915195,0.13829787234042554,0.1387900355871886,0.13978494623655913,0.14028776978417265,0.1407942238267148,0.14130434782608695,0.14181818181818182,0.14233576642335766,0.14285714285714285,0.14338235294117646,0.14391143911439114,0.14444444444444443,0.1449814126394052,0.1455223880597015,0.14606741573033707,0.14661654135338345,0.1471698113207547,0.14393939393939395,0.1444866920152091,0.1450381679389313,0.14559386973180077,0.1423076923076923,0.1434108527131783,0.14396887159533073,0.14453125,0.1450980392156863,0.14566929133858267,0.14624505928853754,0.14682539682539683,0.14741035856573706,0.148,0.14457831325301204,0.14112903225806453,0.1417004048582996,0.14227642276422764,0.14285714285714285,0.14344262295081966,0.1440329218106996,0.1446280991735537,0.14522821576763487,0.14583333333333334,0.14644351464435146,0.14705882352941177,0.14767932489451477,0.1483050847457627,0.14893617021276595,0.14957264957264957,0.15021459227467812,0.15086206896551724,0.15151515151515152,0.15217391304347827,0.15283842794759825,0.15350877192982457,0.15418502202643172,0.15486725663716813,0.15625,0.15695067264573992,0.15765765765765766,0.1583710407239819,0.1590909090909091,0.1598173515981735,0.16055045871559634,0.16129032258064516,0.16203703703703703,0.16279069767441862,0.16355140186915887,0.1643192488262911,0.1650943396226415,0.16587677725118483,0.16666666666666666,0.1674641148325359,0.16826923076923078,0.16908212560386474,0.16990291262135923,0.17073170731707318,0.1715686274509804,0.1724137931034483,0.17326732673267325,0.17412935323383086,0.175,0.17587939698492464,0.17676767676767677,0.17766497461928935,0.17857142857142858,0.17435897435897435,0.17525773195876287,0.17616580310880828,0.17708333333333334,0.17801047120418848,0.17989417989417988,0.18085106382978725,0.18181818181818182,0.1774193548387097,0.1783783783783784,0.1793478260869565,0.18032786885245902,0.1813186813186813,0.18232044198895028,0.17777777777777778,0.1787709497206704,0.1797752808988764,0.1807909604519774,0.18181818181818182,0.18285714285714286,0.1839080459770115,0.18497109826589594,0.18023255813953487,0.18128654970760233,0.18235294117647058,0.1834319526627219,0.18452380952380953,0.18562874251497005,0.18674698795180722,0.18787878787878787,0.18902439024390244,0.1901840490797546,0.19135802469135801,0.18633540372670807,0.1875,0.189873417721519,0.1910828025477707,0.19230769230769232,0.1935483870967742,0.19480519480519481,0.19607843137254902,0.19736842105263158,0.1986754966887417,0.2,0.20134228187919462,0.20270270270270271,0.20408163265306123,0.2054794520547945,0.20689655172413793,0.20833333333333334,0.2097902097902098,0.2112676056338028,0.2127659574468085,0.21428571428571427,0.2158273381294964,0.21897810218978103,0.22058823529411764,0.2222222222222222,0.22388059701492538,0.22727272727272727,0.22900763358778625,0.21875,0.2204724409448819,0.2222222222222222,0.224,0.22580645161290322,0.22764227642276422,0.22950819672131148,0.2231404958677686,0.225,0.226890756302521,0.2288135593220339,0.23275862068965517,0.22608695652173913,0.21929824561403508,0.22123893805309736,0.22321428571428573,0.21621621621621623,0.21818181818181817,0.22018348623853212,0.2222222222222222,0.22429906542056074,0.2169811320754717,0.20952380952380953,0.21153846153846154,0.21359223300970873,0.21782178217821782,0.22,0.2222222222222222,0.22448979591836735,0.2268041237113402,0.22916666666666666,0.22105263157894736,0.22340425531914893,0.22580645161290322,0.22826086956521738,0.23076923076923078,0.23333333333333334,0.23595505617977527,0.23863636363636365,0.2413793103448276,0.2441860465116279,0.24705882352941178,0.23809523809523808,0.24096385542168675,0.24390243902439024,0.24691358024691357,0.25,0.25316455696202533,0.2564102564102564,0.2597402597402597,0.26666666666666666,0.2702702702702703,0.2777777777777778,0.2676056338028169,0.2714285714285714,0.2753623188405797,0.27941176470588236,0.2878787878787879,0.27692307692307694,0.28125,0.2857142857142857,0.2903225806451613,0.29508196721311475,0.3,0.3050847457627119,0.3103448275862069,0.3157894736842105,0.32142857142857145,0.32727272727272727,0.3333333333333333,0.32075471698113206,0.3269230769230769,0.3333333333333333,0.3469387755102041,0.3191489361702128,0.32608695652173914,0.3333333333333333,0.3409090909090909,0.3488372093023256,0.3333333333333333,0.34146341463414637,0.35,0.358974358974359,0.34210526315789475,0.35135135135135137,0.3611111111111111,0.37142857142857144,0.38235294117647056,0.36363636363636365,0.375,0.3548387096774194,0.3793103448275862,0.39285714285714285,0.34615384615384615,0.375,0.34782608695652173,0.36363636363636365,0.38095238095238093,0.4,0.3333333333333333,0.35294117647058826,0.3125,0.3333333333333333,0.35714285714285715,0.38461538461538464,0.4166666666666667,0.45454545454545453,0.4,0.4444444444444444,0.5,0.5714285714285714,0.5,0.25,0.0,0.0,0.0,1.0],\"type\":\"scatter\"},{\"line\":{\"color\":\"rgb(93, 105, 177)\"},\"mode\":\"lines\",\"name\":\"RandomForest (AUC = 0.51)\",\"x\":[1.0,1.0,1.0,1.0,1.0,1.0,1.0,1.0,1.0,1.0,1.0,1.0,1.0,0.9772727272727273,0.9772727272727273,0.9545454545454546,0.9545454545454546,0.9318181818181818,0.9318181818181818,0.9318181818181818,0.9318181818181818,0.9318181818181818,0.9318181818181818,0.9318181818181818,0.9090909090909091,0.9090909090909091,0.9090909090909091,0.9090909090909091,0.8636363636363636,0.8636363636363636,0.8409090909090909,0.7954545454545454,0.7954545454545454,0.7954545454545454,0.7954545454545454,0.7727272727272727,0.7727272727272727,0.7272727272727273,0.7272727272727273,0.7272727272727273,0.7045454545454546,0.7045454545454546,0.7045454545454546,0.7045454545454546,0.7045454545454546,0.6818181818181818,0.6818181818181818,0.6818181818181818,0.6818181818181818,0.6590909090909091,0.6363636363636364,0.6363636363636364,0.6363636363636364,0.6363636363636364,0.5909090909090909,0.5909090909090909,0.5909090909090909,0.5909090909090909,0.5909090909090909,0.5681818181818182,0.5227272727272727,0.5227272727272727,0.4772727272727273,0.4772727272727273,0.4772727272727273,0.4772727272727273,0.4090909090909091,0.38636363636363635,0.36363636363636365,0.3409090909090909,0.3409090909090909,0.29545454545454547,0.29545454545454547,0.25,0.22727272727272727,0.18181818181818182,0.18181818181818182,0.13636363636363635,0.11363636363636363,0.045454545454545456,0.022727272727272728,0.0],\"y\":[0.11702127659574468,0.11733333333333333,0.11764705882352941,0.11796246648793565,0.11827956989247312,0.11859838274932614,0.11891891891891893,0.11924119241192412,0.12054794520547946,0.12222222222222222,0.12290502793296089,0.12359550561797752,0.12429378531073447,0.12427745664739884,0.12536443148688048,0.12574850299401197,0.1276595744680851,0.12576687116564417,0.128125,0.1305732484076433,0.1331168831168831,0.1353135313531353,0.13851351351351351,0.14335664335664336,0.14285714285714285,0.14705882352941177,0.15151515151515152,0.1568627450980392,0.15637860082304528,0.1630901287553648,0.16444444444444445,0.16055045871559634,0.1724137931034483,0.18134715025906736,0.1912568306010929,0.19428571428571428,0.19883040935672514,0.19753086419753085,0.20915032679738563,0.21333333333333335,0.21232876712328766,0.22142857142857142,0.23134328358208955,0.24031007751937986,0.25833333333333336,0.2727272727272727,0.2803738317757009,0.2857142857142857,0.29411764705882354,0.29292929292929293,0.2978723404255319,0.3146067415730337,0.35,0.3835616438356164,0.4,0.4126984126984127,0.41935483870967744,0.4262295081967213,0.4482758620689655,0.43859649122807015,0.4423076923076923,0.45098039215686275,0.4772727272727273,0.5,0.525,0.5526315789473685,0.5806451612903226,0.5862068965517241,0.5925925925925926,0.6,0.625,0.6842105263157895,0.7222222222222222,0.7333333333333333,0.7692307692307693,0.7272727272727273,0.8888888888888888,1.0,1.0,1.0,1.0,1.0],\"type\":\"scatter\"},{\"line\":{\"color\":\"rgb(82, 188, 163)\"},\"mode\":\"lines\",\"name\":\"GradientBoosting (AUC = 0.26)\",\"x\":[1.0,1.0,1.0,1.0,0.9772727272727273,0.9772727272727273,0.9772727272727273,0.9772727272727273,0.9772727272727273,0.9772727272727273,0.9772727272727273,0.9772727272727273,0.9772727272727273,0.9772727272727273,0.9772727272727273,0.9772727272727273,0.9772727272727273,0.9772727272727273,0.9772727272727273,0.9772727272727273,0.9772727272727273,0.9772727272727273,0.9772727272727273,0.9772727272727273,0.9772727272727273,0.9772727272727273,0.9772727272727273,0.9772727272727273,0.9772727272727273,0.9772727272727273,0.9772727272727273,0.9772727272727273,0.9772727272727273,0.9772727272727273,0.9772727272727273,0.9772727272727273,0.9772727272727273,0.9772727272727273,0.9772727272727273,0.9772727272727273,0.9772727272727273,0.9772727272727273,0.9772727272727273,0.9772727272727273,0.9772727272727273,0.9772727272727273,0.9772727272727273,0.9772727272727273,0.9772727272727273,0.9772727272727273,0.9772727272727273,0.9772727272727273,0.9772727272727273,0.9772727272727273,0.9545454545454546,0.9545454545454546,0.9545454545454546,0.9318181818181818,0.9318181818181818,0.9318181818181818,0.9318181818181818,0.9318181818181818,0.9318181818181818,0.9318181818181818,0.9318181818181818,0.9318181818181818,0.9318181818181818,0.9318181818181818,0.9318181818181818,0.9318181818181818,0.9318181818181818,0.9318181818181818,0.9318181818181818,0.9318181818181818,0.9318181818181818,0.9318181818181818,0.9318181818181818,0.9318181818181818,0.9318181818181818,0.9318181818181818,0.9318181818181818,0.9318181818181818,0.9318181818181818,0.9318181818181818,0.9318181818181818,0.9318181818181818,0.9318181818181818,0.9318181818181818,0.9318181818181818,0.9318181818181818,0.9318181818181818,0.9318181818181818,0.9318181818181818,0.9090909090909091,0.9090909090909091,0.9090909090909091,0.9090909090909091,0.9090909090909091,0.9090909090909091,0.9090909090909091,0.9090909090909091,0.9090909090909091,0.9090909090909091,0.8863636363636364,0.8863636363636364,0.8863636363636364,0.8863636363636364,0.8863636363636364,0.8863636363636364,0.8863636363636364,0.8863636363636364,0.8863636363636364,0.8636363636363636,0.8636363636363636,0.8636363636363636,0.8636363636363636,0.8636363636363636,0.8636363636363636,0.8636363636363636,0.8636363636363636,0.8636363636363636,0.8636363636363636,0.8636363636363636,0.8636363636363636,0.8636363636363636,0.8636363636363636,0.8636363636363636,0.8636363636363636,0.8636363636363636,0.8636363636363636,0.8409090909090909,0.8409090909090909,0.8409090909090909,0.8409090909090909,0.8409090909090909,0.8409090909090909,0.8409090909090909,0.8409090909090909,0.8409090909090909,0.8409090909090909,0.7954545454545454,0.7954545454545454,0.7954545454545454,0.7954545454545454,0.7954545454545454,0.7954545454545454,0.7954545454545454,0.7954545454545454,0.7954545454545454,0.7954545454545454,0.7954545454545454,0.7954545454545454,0.7954545454545454,0.7954545454545454,0.7954545454545454,0.7727272727272727,0.7727272727272727,0.7727272727272727,0.7727272727272727,0.7727272727272727,0.7727272727272727,0.7727272727272727,0.75,0.75,0.75,0.75,0.7272727272727273,0.7272727272727273,0.7272727272727273,0.7272727272727273,0.7272727272727273,0.7272727272727273,0.7272727272727273,0.7272727272727273,0.7272727272727273,0.7272727272727273,0.7272727272727273,0.7272727272727273,0.7272727272727273,0.7272727272727273,0.7272727272727273,0.7272727272727273,0.7272727272727273,0.7272727272727273,0.7272727272727273,0.7272727272727273,0.7272727272727273,0.7272727272727273,0.7272727272727273,0.7045454545454546,0.7045454545454546,0.7045454545454546,0.7045454545454546,0.7045454545454546,0.7045454545454546,0.7045454545454546,0.7045454545454546,0.7045454545454546,0.7045454545454546,0.7045454545454546,0.7045454545454546,0.7045454545454546,0.6590909090909091,0.6590909090909091,0.6590909090909091,0.6590909090909091,0.6590909090909091,0.6590909090909091,0.6590909090909091,0.6590909090909091,0.6590909090909091,0.6590909090909091,0.6590909090909091,0.6590909090909091,0.6590909090909091,0.6363636363636364,0.6363636363636364,0.6363636363636364,0.6363636363636364,0.6363636363636364,0.6363636363636364,0.6363636363636364,0.6363636363636364,0.6363636363636364,0.6363636363636364,0.6363636363636364,0.6363636363636364,0.6363636363636364,0.6363636363636364,0.6363636363636364,0.6363636363636364,0.6363636363636364,0.6363636363636364,0.6363636363636364,0.6363636363636364,0.6363636363636364,0.6363636363636364,0.6363636363636364,0.6363636363636364,0.6363636363636364,0.6363636363636364,0.6363636363636364,0.6363636363636364,0.6363636363636364,0.6363636363636364,0.6363636363636364,0.6363636363636364,0.6136363636363636,0.6136363636363636,0.6136363636363636,0.6136363636363636,0.6136363636363636,0.6136363636363636,0.5909090909090909,0.5681818181818182,0.5681818181818182,0.5681818181818182,0.5681818181818182,0.5681818181818182,0.5454545454545454,0.5454545454545454,0.5454545454545454,0.5454545454545454,0.5454545454545454,0.5454545454545454,0.5454545454545454,0.5454545454545454,0.5227272727272727,0.5227272727272727,0.5227272727272727,0.5227272727272727,0.5227272727272727,0.5227272727272727,0.5227272727272727,0.5227272727272727,0.5227272727272727,0.5227272727272727,0.5227272727272727,0.5227272727272727,0.5227272727272727,0.5227272727272727,0.4772727272727273,0.4772727272727273,0.4772727272727273,0.4772727272727273,0.4772727272727273,0.4772727272727273,0.45454545454545453,0.45454545454545453,0.4318181818181818,0.4318181818181818,0.38636363636363635,0.36363636363636365,0.36363636363636365,0.36363636363636365,0.3409090909090909,0.3409090909090909,0.3409090909090909,0.3409090909090909,0.3409090909090909,0.3409090909090909,0.3409090909090909,0.3409090909090909,0.3409090909090909,0.3409090909090909,0.3409090909090909,0.3409090909090909,0.3409090909090909,0.3409090909090909,0.3181818181818182,0.3181818181818182,0.3181818181818182,0.3181818181818182,0.29545454545454547,0.2727272727272727,0.2727272727272727,0.2727272727272727,0.2727272727272727,0.2727272727272727,0.2727272727272727,0.2727272727272727,0.25,0.25,0.25,0.25,0.25,0.25,0.25,0.25,0.22727272727272727,0.22727272727272727,0.20454545454545456,0.20454545454545456,0.20454545454545456,0.20454545454545456,0.20454545454545456,0.20454545454545456,0.18181818181818182,0.1590909090909091,0.1590909090909091,0.1590909090909091,0.1590909090909091,0.13636363636363635,0.13636363636363635,0.13636363636363635,0.13636363636363635,0.11363636363636363,0.09090909090909091,0.06818181818181818,0.06818181818181818,0.022727272727272728,0.0,0.0,0.0,0.0,0.0],\"y\":[0.11702127659574468,0.11733333333333333,0.11764705882352941,0.11796246648793565,0.11559139784946236,0.11590296495956873,0.11621621621621622,0.11684782608695653,0.11716621253405994,0.11748633879781421,0.1178082191780822,0.11813186813186813,0.1184573002754821,0.11878453038674033,0.11911357340720222,0.11944444444444445,0.11977715877437325,0.12011173184357542,0.12044817927170869,0.12078651685393259,0.12112676056338029,0.12146892655367232,0.12181303116147309,0.12215909090909091,0.1225071225071225,0.12285714285714286,0.12320916905444126,0.1235632183908046,0.1239193083573487,0.12427745664739884,0.1246376811594203,0.125,0.12536443148688048,0.12573099415204678,0.12609970674486803,0.1264705882352941,0.12684365781710916,0.12721893491124261,0.12759643916913946,0.12797619047619047,0.12835820895522387,0.12874251497005987,0.12912912912912913,0.12951807228915663,0.1299093655589124,0.1303030303030303,0.13069908814589665,0.13109756097560976,0.13149847094801223,0.13190184049079753,0.13230769230769232,0.13271604938271606,0.13312693498452013,0.13354037267080746,0.1308411214953271,0.13125,0.13166144200626959,0.1289308176100629,0.12933753943217666,0.12974683544303797,0.13015873015873017,0.1305732484076433,0.13099041533546327,0.13141025641025642,0.13183279742765272,0.13225806451612904,0.13268608414239483,0.1331168831168831,0.13355048859934854,0.13398692810457516,0.13486842105263158,0.1353135313531353,0.1357615894039735,0.1362126245847176,0.13666666666666666,0.13712374581939799,0.13758389261744966,0.13804713804713806,0.13851351351351351,0.13898305084745763,0.13945578231292516,0.13993174061433447,0.1404109589041096,0.140893470790378,0.1413793103448276,0.14186851211072665,0.1423611111111111,0.14285714285714285,0.14335664335664336,0.14385964912280702,0.1443661971830986,0.14487632508833923,0.1453900709219858,0.1423487544483986,0.14285714285714285,0.14336917562724014,0.1444043321299639,0.14492753623188406,0.145985401459854,0.14652014652014653,0.14705882352941177,0.14760147601476015,0.14814814814814814,0.1449814126394052,0.1455223880597015,0.14606741573033707,0.14661654135338345,0.1471698113207547,0.14772727272727273,0.1482889733840304,0.14885496183206107,0.14942528735632185,0.14615384615384616,0.14671814671814673,0.14728682170542637,0.14785992217898833,0.1484375,0.14901960784313725,0.14960629921259844,0.15019762845849802,0.15079365079365079,0.15139442231075698,0.152,0.15261044176706828,0.1532258064516129,0.15384615384615385,0.15447154471544716,0.15510204081632653,0.1557377049180328,0.15637860082304528,0.15289256198347106,0.15352697095435686,0.15416666666666667,0.15481171548117154,0.15546218487394958,0.15611814345991562,0.15677966101694915,0.1574468085106383,0.1581196581196581,0.15879828326180256,0.15151515151515152,0.15217391304347827,0.15283842794759825,0.15350877192982457,0.15418502202643172,0.15486725663716813,0.15555555555555556,0.15625,0.15695067264573992,0.1583710407239819,0.1590909090909091,0.1598173515981735,0.16055045871559634,0.16129032258064516,0.16203703703703703,0.15813953488372093,0.1588785046728972,0.1596244131455399,0.16037735849056603,0.16113744075829384,0.1619047619047619,0.16267942583732056,0.15865384615384615,0.15942028985507245,0.16019417475728157,0.16097560975609757,0.1568627450980392,0.15763546798029557,0.15920398009950248,0.16,0.16080402010050251,0.16243654822335024,0.16326530612244897,0.1641025641025641,0.16494845360824742,0.16580310880829016,0.16666666666666666,0.16753926701570682,0.16842105263157894,0.1693121693121693,0.1702127659574468,0.1711229946524064,0.17204301075268819,0.17297297297297298,0.17391304347826086,0.17486338797814208,0.17582417582417584,0.17679558011049723,0.17777777777777778,0.17318435754189945,0.17415730337078653,0.1751412429378531,0.17613636363636365,0.1781609195402299,0.1791907514450867,0.18023255813953487,0.18128654970760233,0.18235294117647058,0.1834319526627219,0.18452380952380953,0.18562874251497005,0.18674698795180722,0.17791411042944785,0.17901234567901234,0.18012422360248448,0.18125,0.18238993710691823,0.18354430379746836,0.18471337579617833,0.1858974358974359,0.1870967741935484,0.18831168831168832,0.1895424836601307,0.19078947368421054,0.19205298013245034,0.18666666666666668,0.18791946308724833,0.1891891891891892,0.19047619047619047,0.1917808219178082,0.19310344827586207,0.1958041958041958,0.19718309859154928,0.19858156028368795,0.2,0.2014388489208633,0.2028985507246377,0.20437956204379562,0.20588235294117646,0.2074074074074074,0.208955223880597,0.21052631578947367,0.21374045801526717,0.2153846153846154,0.21705426356589147,0.21875,0.2204724409448819,0.2222222222222222,0.224,0.22580645161290322,0.22764227642276422,0.22950819672131148,0.23140495867768596,0.23529411764705882,0.23728813559322035,0.23931623931623933,0.2413793103448276,0.23478260869565218,0.23684210526315788,0.23893805309734514,0.24107142857142858,0.24324324324324326,0.24545454545454545,0.23853211009174313,0.23148148148148148,0.2336448598130841,0.2358490566037736,0.23809523809523808,0.2403846153846154,0.23300970873786409,0.23529411764705882,0.2376237623762376,0.24,0.24489795918367346,0.24742268041237114,0.25,0.25263157894736843,0.24468085106382978,0.24731182795698925,0.25274725274725274,0.25555555555555554,0.25842696629213485,0.26136363636363635,0.26436781609195403,0.26744186046511625,0.27058823529411763,0.27380952380952384,0.27710843373493976,0.2804878048780488,0.2839506172839506,0.2875,0.2692307692307692,0.2727272727272727,0.27631578947368424,0.28,0.28378378378378377,0.2876712328767123,0.2777777777777778,0.28169014084507044,0.2714285714285714,0.2753623188405797,0.2537313432835821,0.24242424242424243,0.24615384615384617,0.25,0.23809523809523808,0.24193548387096775,0.2459016393442623,0.25,0.2542372881355932,0.25862068965517243,0.2631578947368421,0.26785714285714285,0.2777777777777778,0.2830188679245283,0.28846153846153844,0.29411764705882354,0.3,0.30612244897959184,0.2916666666666667,0.30434782608695654,0.3111111111111111,0.3181818181818182,0.3023255813953488,0.2857142857142857,0.2926829268292683,0.3,0.3076923076923077,0.3157894736842105,0.32432432432432434,0.3333333333333333,0.3142857142857143,0.3235294117647059,0.3333333333333333,0.34375,0.3548387096774194,0.36666666666666664,0.3793103448275862,0.39285714285714285,0.37037037037037035,0.38461538461538464,0.36,0.375,0.391304347826087,0.4090909090909091,0.42857142857142855,0.45,0.42105263157894735,0.3888888888888889,0.4117647058823529,0.4375,0.4666666666666667,0.42857142857142855,0.46153846153846156,0.5,0.5454545454545454,0.5,0.4444444444444444,0.375,0.42857142857142855,0.2,0.0,0.0,0.0,0.0,1.0],\"type\":\"scatter\"},{\"line\":{\"color\":\"rgb(153, 201, 69)\"},\"mode\":\"lines\",\"name\":\"LogisticRegression (AUC = 0.17)\",\"x\":[1.0,1.0,1.0,1.0,1.0,0.9772727272727273,0.9772727272727273,0.9772727272727273,0.9772727272727273,0.9545454545454546,0.9545454545454546,0.9545454545454546,0.9545454545454546,0.9545454545454546,0.9090909090909091,0.9090909090909091,0.8863636363636364,0.8863636363636364,0.8863636363636364,0.8863636363636364,0.8863636363636364,0.8863636363636364,0.8863636363636364,0.8863636363636364,0.8863636363636364,0.8863636363636364,0.8863636363636364,0.8863636363636364,0.8863636363636364,0.8863636363636364,0.8863636363636364,0.8863636363636364,0.8863636363636364,0.8863636363636364,0.8863636363636364,0.8863636363636364,0.8409090909090909,0.8181818181818182,0.8181818181818182,0.8181818181818182,0.8181818181818182,0.8181818181818182,0.8181818181818182,0.8181818181818182,0.8181818181818182,0.8181818181818182,0.8181818181818182,0.8181818181818182,0.8181818181818182,0.8181818181818182,0.8181818181818182,0.8181818181818182,0.7954545454545454,0.7954545454545454,0.7954545454545454,0.7727272727272727,0.7727272727272727,0.7727272727272727,0.7727272727272727,0.7727272727272727,0.7727272727272727,0.7727272727272727,0.7727272727272727,0.7727272727272727,0.7727272727272727,0.7727272727272727,0.75,0.75,0.75,0.75,0.75,0.75,0.75,0.75,0.75,0.75,0.75,0.75,0.75,0.75,0.75,0.75,0.75,0.75,0.75,0.75,0.75,0.75,0.75,0.75,0.75,0.75,0.75,0.7272727272727273,0.7272727272727273,0.7272727272727273,0.7272727272727273,0.7272727272727273,0.7272727272727273,0.7272727272727273,0.7272727272727273,0.7272727272727273,0.7272727272727273,0.7272727272727273,0.7272727272727273,0.7272727272727273,0.7272727272727273,0.7272727272727273,0.7272727272727273,0.7045454545454546,0.7045454545454546,0.7045454545454546,0.7045454545454546,0.7045454545454546,0.7045454545454546,0.6818181818181818,0.6590909090909091,0.6590909090909091,0.6590909090909091,0.6590909090909091,0.6590909090909091,0.6590909090909091,0.6590909090909091,0.6590909090909091,0.6590909090909091,0.6590909090909091,0.6590909090909091,0.6590909090909091,0.6590909090909091,0.6590909090909091,0.6590909090909091,0.6590909090909091,0.6590909090909091,0.6590909090909091,0.6590909090909091,0.6590909090909091,0.6590909090909091,0.6590909090909091,0.6590909090909091,0.6590909090909091,0.6590909090909091,0.6590909090909091,0.6590909090909091,0.6590909090909091,0.6590909090909091,0.6363636363636364,0.6363636363636364,0.6363636363636364,0.5909090909090909,0.5909090909090909,0.5909090909090909,0.5909090909090909,0.5909090909090909,0.5909090909090909,0.5909090909090909,0.5909090909090909,0.5909090909090909,0.5909090909090909,0.5909090909090909,0.5909090909090909,0.5909090909090909,0.5909090909090909,0.5909090909090909,0.5909090909090909,0.5909090909090909,0.5681818181818182,0.5454545454545454,0.5454545454545454,0.5454545454545454,0.5454545454545454,0.5454545454545454,0.5454545454545454,0.5454545454545454,0.5454545454545454,0.5454545454545454,0.5,0.5,0.5,0.5,0.5,0.5,0.5,0.5,0.5,0.4772727272727273,0.4772727272727273,0.4772727272727273,0.4772727272727273,0.4772727272727273,0.4772727272727273,0.4772727272727273,0.45454545454545453,0.45454545454545453,0.45454545454545453,0.45454545454545453,0.45454545454545453,0.45454545454545453,0.45454545454545453,0.45454545454545453,0.45454545454545453,0.45454545454545453,0.45454545454545453,0.45454545454545453,0.45454545454545453,0.45454545454545453,0.45454545454545453,0.45454545454545453,0.45454545454545453,0.45454545454545453,0.45454545454545453,0.45454545454545453,0.45454545454545453,0.45454545454545453,0.45454545454545453,0.45454545454545453,0.45454545454545453,0.45454545454545453,0.4318181818181818,0.4318181818181818,0.4318181818181818,0.4318181818181818,0.4318181818181818,0.4318181818181818,0.4318181818181818,0.4318181818181818,0.4318181818181818,0.4318181818181818,0.4318181818181818,0.4318181818181818,0.4318181818181818,0.4318181818181818,0.4090909090909091,0.38636363636363635,0.38636363636363635,0.38636363636363635,0.38636363636363635,0.38636363636363635,0.38636363636363635,0.38636363636363635,0.38636363636363635,0.38636363636363635,0.38636363636363635,0.38636363636363635,0.38636363636363635,0.38636363636363635,0.38636363636363635,0.38636363636363635,0.38636363636363635,0.36363636363636365,0.36363636363636365,0.36363636363636365,0.36363636363636365,0.36363636363636365,0.36363636363636365,0.36363636363636365,0.36363636363636365,0.36363636363636365,0.36363636363636365,0.36363636363636365,0.36363636363636365,0.36363636363636365,0.36363636363636365,0.36363636363636365,0.36363636363636365,0.36363636363636365,0.36363636363636365,0.36363636363636365,0.36363636363636365,0.36363636363636365,0.36363636363636365,0.36363636363636365,0.36363636363636365,0.36363636363636365,0.36363636363636365,0.36363636363636365,0.36363636363636365,0.36363636363636365,0.36363636363636365,0.36363636363636365,0.36363636363636365,0.3409090909090909,0.3181818181818182,0.3181818181818182,0.29545454545454547,0.29545454545454547,0.29545454545454547,0.29545454545454547,0.29545454545454547,0.29545454545454547,0.29545454545454547,0.29545454545454547,0.29545454545454547,0.29545454545454547,0.29545454545454547,0.29545454545454547,0.2727272727272727,0.25,0.25,0.25,0.25,0.25,0.25,0.25,0.25,0.25,0.25,0.25,0.25,0.25,0.25,0.25,0.25,0.25,0.25,0.25,0.25,0.25,0.22727272727272727,0.22727272727272727,0.22727272727272727,0.22727272727272727,0.22727272727272727,0.22727272727272727,0.22727272727272727,0.22727272727272727,0.22727272727272727,0.22727272727272727,0.22727272727272727,0.22727272727272727,0.22727272727272727,0.22727272727272727,0.22727272727272727,0.22727272727272727,0.22727272727272727,0.22727272727272727,0.22727272727272727,0.20454545454545456,0.18181818181818182,0.1590909090909091,0.13636363636363635,0.13636363636363635,0.13636363636363635,0.13636363636363635,0.13636363636363635,0.11363636363636363,0.11363636363636363,0.06818181818181818,0.06818181818181818,0.045454545454545456,0.045454545454545456,0.022727272727272728,0.022727272727272728,0.022727272727272728,0.022727272727272728,0.022727272727272728,0.022727272727272728,0.0,0.0,0.0],\"y\":[0.11702127659574468,0.11733333333333333,0.11764705882352941,0.11796246648793565,0.11827956989247312,0.11590296495956873,0.11653116531165311,0.11716621253405994,0.11748633879781421,0.11506849315068493,0.11538461538461539,0.11570247933884298,0.11602209944751381,0.11634349030470914,0.11142061281337047,0.11173184357541899,0.1092436974789916,0.10955056179775281,0.10985915492957747,0.11016949152542373,0.11048158640226628,0.11079545454545454,0.1111111111111111,0.11142857142857143,0.11174785100286533,0.11206896551724138,0.11239193083573487,0.11271676300578035,0.11337209302325581,0.11370262390670553,0.11403508771929824,0.11436950146627566,0.11470588235294117,0.11504424778761062,0.11538461538461539,0.11572700296735905,0.11077844311377245,0.10810810810810811,0.10843373493975904,0.10876132930513595,0.10909090909090909,0.1094224924012158,0.10975609756097561,0.11009174311926606,0.11042944785276074,0.11076923076923077,0.1111111111111111,0.11145510835913312,0.11180124223602485,0.11214953271028037,0.1125,0.11285266457680251,0.11006289308176101,0.11041009463722397,0.11075949367088607,0.10793650793650794,0.10828025477707007,0.10862619808306709,0.10897435897435898,0.10932475884244373,0.10967741935483871,0.11003236245954692,0.11038961038961038,0.11074918566775244,0.1111111111111111,0.11147540983606558,0.10855263157894737,0.10927152317880795,0.10963455149501661,0.11,0.11036789297658862,0.11073825503355705,0.1111111111111111,0.11148648648648649,0.11186440677966102,0.11224489795918367,0.11262798634812286,0.11301369863013698,0.1134020618556701,0.11379310344827587,0.11418685121107267,0.11458333333333333,0.11498257839721254,0.11538461538461539,0.11578947368421053,0.11619718309859155,0.1166077738515901,0.11702127659574468,0.11743772241992882,0.11785714285714285,0.11827956989247312,0.11870503597122302,0.11913357400722022,0.11594202898550725,0.11636363636363636,0.11678832116788321,0.11721611721611722,0.11764705882352941,0.11808118081180811,0.11851851851851852,0.11895910780669144,0.11940298507462686,0.1198501872659176,0.12030075187969924,0.12075471698113208,0.12121212121212122,0.12167300380228137,0.12213740458015267,0.12260536398467432,0.11923076923076924,0.11969111969111969,0.12015503875968993,0.12062256809338522,0.12109375,0.1220472440944882,0.11857707509881422,0.11507936507936507,0.11553784860557768,0.116,0.11646586345381527,0.11693548387096774,0.11740890688259109,0.11788617886178862,0.11836734693877551,0.11885245901639344,0.11934156378600823,0.11983471074380166,0.12033195020746888,0.12083333333333333,0.12133891213389121,0.12184873949579832,0.1228813559322034,0.12340425531914893,0.12393162393162394,0.12446351931330472,0.125,0.12554112554112554,0.12608695652173912,0.12719298245614036,0.1277533039647577,0.12831858407079647,0.1288888888888889,0.12946428571428573,0.13004484304932734,0.13063063063063063,0.12669683257918551,0.12727272727272726,0.1278538812785388,0.11981566820276497,0.12037037037037036,0.12093023255813953,0.12149532710280374,0.12206572769953052,0.12264150943396226,0.12322274881516587,0.12380952380952381,0.12440191387559808,0.125,0.12560386473429952,0.1262135922330097,0.12682926829268293,0.12745098039215685,0.12807881773399016,0.12871287128712872,0.12935323383084577,0.125,0.12060301507537688,0.12121212121212122,0.1218274111675127,0.12244897959183673,0.12307692307692308,0.12371134020618557,0.12435233160621761,0.1256544502617801,0.12631578947368421,0.11702127659574468,0.11764705882352941,0.11827956989247312,0.11891891891891893,0.12021857923497267,0.12087912087912088,0.12154696132596685,0.12222222222222222,0.12290502793296089,0.11797752808988764,0.11864406779661017,0.11931818181818182,0.12,0.1206896551724138,0.12138728323699421,0.12209302325581395,0.11695906432748537,0.11764705882352941,0.11834319526627218,0.11904761904761904,0.11976047904191617,0.12048192771084337,0.12121212121212122,0.12195121951219512,0.12269938650306748,0.12345679012345678,0.12422360248447205,0.125,0.12578616352201258,0.12658227848101267,0.12738853503184713,0.1282051282051282,0.12903225806451613,0.12987012987012986,0.13071895424836602,0.13157894736842105,0.13245033112582782,0.13333333333333333,0.1342281879194631,0.13513513513513514,0.1360544217687075,0.136986301369863,0.1310344827586207,0.13194444444444445,0.13286713286713286,0.13380281690140844,0.1347517730496454,0.1357142857142857,0.1366906474820144,0.13768115942028986,0.1386861313868613,0.13970588235294118,0.14074074074074075,0.1417910447761194,0.14285714285714285,0.14393939393939395,0.13740458015267176,0.13076923076923078,0.13178294573643412,0.1328125,0.13385826771653545,0.1349206349206349,0.136,0.13709677419354838,0.13821138211382114,0.13934426229508196,0.14049586776859505,0.14285714285714285,0.1440677966101695,0.1452991452991453,0.14655172413793102,0.14782608695652175,0.14912280701754385,0.1415929203539823,0.14285714285714285,0.14414414414414414,0.14545454545454545,0.14678899082568808,0.14814814814814814,0.14953271028037382,0.1509433962264151,0.1523809523809524,0.15384615384615385,0.1553398058252427,0.1568627450980392,0.15841584158415842,0.16,0.16161616161616163,0.16326530612244897,0.16494845360824742,0.16666666666666666,0.16842105263157894,0.1702127659574468,0.17204301075268819,0.17391304347826086,0.17582417582417584,0.17777777777777778,0.1797752808988764,0.18181818181818182,0.1839080459770115,0.18604651162790697,0.18823529411764706,0.19047619047619047,0.1927710843373494,0.1951219512195122,0.18518518518518517,0.175,0.17721518987341772,0.16666666666666666,0.16883116883116883,0.17105263157894737,0.17333333333333334,0.17567567567567569,0.1780821917808219,0.18055555555555555,0.18309859154929578,0.18571428571428572,0.18840579710144928,0.19117647058823528,0.19402985074626866,0.18181818181818182,0.16923076923076924,0.171875,0.1746031746031746,0.1774193548387097,0.18032786885245902,0.18333333333333332,0.1864406779661017,0.1896551724137931,0.19298245614035087,0.19642857142857142,0.2,0.2037037037037037,0.20754716981132076,0.21153846153846154,0.21568627450980393,0.22,0.22448979591836735,0.22916666666666666,0.23404255319148937,0.2391304347826087,0.24444444444444444,0.22727272727272727,0.23255813953488372,0.23809523809523808,0.24390243902439024,0.25,0.2564102564102564,0.2631578947368421,0.2702702702702703,0.2777777777777778,0.2857142857142857,0.29411764705882354,0.30303030303030304,0.3125,0.3225806451612903,0.3333333333333333,0.35714285714285715,0.37037037037037035,0.38461538461538464,0.4,0.375,0.34782608695652173,0.3181818181818182,0.2857142857142857,0.3157894736842105,0.3333333333333333,0.35294117647058826,0.375,0.3333333333333333,0.35714285714285715,0.25,0.2727272727272727,0.2,0.2222222222222222,0.125,0.14285714285714285,0.16666666666666666,0.2,0.25,0.3333333333333333,0.0,0.0,1.0],\"type\":\"scatter\"}],                        {\"template\":{\"data\":{\"barpolar\":[{\"marker\":{\"line\":{\"color\":\"white\",\"width\":0.5},\"pattern\":{\"fillmode\":\"overlay\",\"size\":10,\"solidity\":0.2}},\"type\":\"barpolar\"}],\"bar\":[{\"error_x\":{\"color\":\"#2a3f5f\"},\"error_y\":{\"color\":\"#2a3f5f\"},\"marker\":{\"line\":{\"color\":\"white\",\"width\":0.5},\"pattern\":{\"fillmode\":\"overlay\",\"size\":10,\"solidity\":0.2}},\"type\":\"bar\"}],\"carpet\":[{\"aaxis\":{\"endlinecolor\":\"#2a3f5f\",\"gridcolor\":\"#C8D4E3\",\"linecolor\":\"#C8D4E3\",\"minorgridcolor\":\"#C8D4E3\",\"startlinecolor\":\"#2a3f5f\"},\"baxis\":{\"endlinecolor\":\"#2a3f5f\",\"gridcolor\":\"#C8D4E3\",\"linecolor\":\"#C8D4E3\",\"minorgridcolor\":\"#C8D4E3\",\"startlinecolor\":\"#2a3f5f\"},\"type\":\"carpet\"}],\"choropleth\":[{\"colorbar\":{\"outlinewidth\":0,\"ticks\":\"\"},\"type\":\"choropleth\"}],\"contourcarpet\":[{\"colorbar\":{\"outlinewidth\":0,\"ticks\":\"\"},\"type\":\"contourcarpet\"}],\"contour\":[{\"colorbar\":{\"outlinewidth\":0,\"ticks\":\"\"},\"colorscale\":[[0.0,\"#0d0887\"],[0.1111111111111111,\"#46039f\"],[0.2222222222222222,\"#7201a8\"],[0.3333333333333333,\"#9c179e\"],[0.4444444444444444,\"#bd3786\"],[0.5555555555555556,\"#d8576b\"],[0.6666666666666666,\"#ed7953\"],[0.7777777777777778,\"#fb9f3a\"],[0.8888888888888888,\"#fdca26\"],[1.0,\"#f0f921\"]],\"type\":\"contour\"}],\"heatmapgl\":[{\"colorbar\":{\"outlinewidth\":0,\"ticks\":\"\"},\"colorscale\":[[0.0,\"#0d0887\"],[0.1111111111111111,\"#46039f\"],[0.2222222222222222,\"#7201a8\"],[0.3333333333333333,\"#9c179e\"],[0.4444444444444444,\"#bd3786\"],[0.5555555555555556,\"#d8576b\"],[0.6666666666666666,\"#ed7953\"],[0.7777777777777778,\"#fb9f3a\"],[0.8888888888888888,\"#fdca26\"],[1.0,\"#f0f921\"]],\"type\":\"heatmapgl\"}],\"heatmap\":[{\"colorbar\":{\"outlinewidth\":0,\"ticks\":\"\"},\"colorscale\":[[0.0,\"#0d0887\"],[0.1111111111111111,\"#46039f\"],[0.2222222222222222,\"#7201a8\"],[0.3333333333333333,\"#9c179e\"],[0.4444444444444444,\"#bd3786\"],[0.5555555555555556,\"#d8576b\"],[0.6666666666666666,\"#ed7953\"],[0.7777777777777778,\"#fb9f3a\"],[0.8888888888888888,\"#fdca26\"],[1.0,\"#f0f921\"]],\"type\":\"heatmap\"}],\"histogram2dcontour\":[{\"colorbar\":{\"outlinewidth\":0,\"ticks\":\"\"},\"colorscale\":[[0.0,\"#0d0887\"],[0.1111111111111111,\"#46039f\"],[0.2222222222222222,\"#7201a8\"],[0.3333333333333333,\"#9c179e\"],[0.4444444444444444,\"#bd3786\"],[0.5555555555555556,\"#d8576b\"],[0.6666666666666666,\"#ed7953\"],[0.7777777777777778,\"#fb9f3a\"],[0.8888888888888888,\"#fdca26\"],[1.0,\"#f0f921\"]],\"type\":\"histogram2dcontour\"}],\"histogram2d\":[{\"colorbar\":{\"outlinewidth\":0,\"ticks\":\"\"},\"colorscale\":[[0.0,\"#0d0887\"],[0.1111111111111111,\"#46039f\"],[0.2222222222222222,\"#7201a8\"],[0.3333333333333333,\"#9c179e\"],[0.4444444444444444,\"#bd3786\"],[0.5555555555555556,\"#d8576b\"],[0.6666666666666666,\"#ed7953\"],[0.7777777777777778,\"#fb9f3a\"],[0.8888888888888888,\"#fdca26\"],[1.0,\"#f0f921\"]],\"type\":\"histogram2d\"}],\"histogram\":[{\"marker\":{\"pattern\":{\"fillmode\":\"overlay\",\"size\":10,\"solidity\":0.2}},\"type\":\"histogram\"}],\"mesh3d\":[{\"colorbar\":{\"outlinewidth\":0,\"ticks\":\"\"},\"type\":\"mesh3d\"}],\"parcoords\":[{\"line\":{\"colorbar\":{\"outlinewidth\":0,\"ticks\":\"\"}},\"type\":\"parcoords\"}],\"pie\":[{\"automargin\":true,\"type\":\"pie\"}],\"scatter3d\":[{\"line\":{\"colorbar\":{\"outlinewidth\":0,\"ticks\":\"\"}},\"marker\":{\"colorbar\":{\"outlinewidth\":0,\"ticks\":\"\"}},\"type\":\"scatter3d\"}],\"scattercarpet\":[{\"marker\":{\"colorbar\":{\"outlinewidth\":0,\"ticks\":\"\"}},\"type\":\"scattercarpet\"}],\"scattergeo\":[{\"marker\":{\"colorbar\":{\"outlinewidth\":0,\"ticks\":\"\"}},\"type\":\"scattergeo\"}],\"scattergl\":[{\"marker\":{\"colorbar\":{\"outlinewidth\":0,\"ticks\":\"\"}},\"type\":\"scattergl\"}],\"scattermapbox\":[{\"marker\":{\"colorbar\":{\"outlinewidth\":0,\"ticks\":\"\"}},\"type\":\"scattermapbox\"}],\"scatterpolargl\":[{\"marker\":{\"colorbar\":{\"outlinewidth\":0,\"ticks\":\"\"}},\"type\":\"scatterpolargl\"}],\"scatterpolar\":[{\"marker\":{\"colorbar\":{\"outlinewidth\":0,\"ticks\":\"\"}},\"type\":\"scatterpolar\"}],\"scatter\":[{\"fillpattern\":{\"fillmode\":\"overlay\",\"size\":10,\"solidity\":0.2},\"type\":\"scatter\"}],\"scatterternary\":[{\"marker\":{\"colorbar\":{\"outlinewidth\":0,\"ticks\":\"\"}},\"type\":\"scatterternary\"}],\"surface\":[{\"colorbar\":{\"outlinewidth\":0,\"ticks\":\"\"},\"colorscale\":[[0.0,\"#0d0887\"],[0.1111111111111111,\"#46039f\"],[0.2222222222222222,\"#7201a8\"],[0.3333333333333333,\"#9c179e\"],[0.4444444444444444,\"#bd3786\"],[0.5555555555555556,\"#d8576b\"],[0.6666666666666666,\"#ed7953\"],[0.7777777777777778,\"#fb9f3a\"],[0.8888888888888888,\"#fdca26\"],[1.0,\"#f0f921\"]],\"type\":\"surface\"}],\"table\":[{\"cells\":{\"fill\":{\"color\":\"#EBF0F8\"},\"line\":{\"color\":\"white\"}},\"header\":{\"fill\":{\"color\":\"#C8D4E3\"},\"line\":{\"color\":\"white\"}},\"type\":\"table\"}]},\"layout\":{\"annotationdefaults\":{\"arrowcolor\":\"#2a3f5f\",\"arrowhead\":0,\"arrowwidth\":1},\"autotypenumbers\":\"strict\",\"coloraxis\":{\"colorbar\":{\"outlinewidth\":0,\"ticks\":\"\"}},\"colorscale\":{\"diverging\":[[0,\"#8e0152\"],[0.1,\"#c51b7d\"],[0.2,\"#de77ae\"],[0.3,\"#f1b6da\"],[0.4,\"#fde0ef\"],[0.5,\"#f7f7f7\"],[0.6,\"#e6f5d0\"],[0.7,\"#b8e186\"],[0.8,\"#7fbc41\"],[0.9,\"#4d9221\"],[1,\"#276419\"]],\"sequential\":[[0.0,\"#0d0887\"],[0.1111111111111111,\"#46039f\"],[0.2222222222222222,\"#7201a8\"],[0.3333333333333333,\"#9c179e\"],[0.4444444444444444,\"#bd3786\"],[0.5555555555555556,\"#d8576b\"],[0.6666666666666666,\"#ed7953\"],[0.7777777777777778,\"#fb9f3a\"],[0.8888888888888888,\"#fdca26\"],[1.0,\"#f0f921\"]],\"sequentialminus\":[[0.0,\"#0d0887\"],[0.1111111111111111,\"#46039f\"],[0.2222222222222222,\"#7201a8\"],[0.3333333333333333,\"#9c179e\"],[0.4444444444444444,\"#bd3786\"],[0.5555555555555556,\"#d8576b\"],[0.6666666666666666,\"#ed7953\"],[0.7777777777777778,\"#fb9f3a\"],[0.8888888888888888,\"#fdca26\"],[1.0,\"#f0f921\"]]},\"colorway\":[\"#636efa\",\"#EF553B\",\"#00cc96\",\"#ab63fa\",\"#FFA15A\",\"#19d3f3\",\"#FF6692\",\"#B6E880\",\"#FF97FF\",\"#FECB52\"],\"font\":{\"color\":\"#2a3f5f\"},\"geo\":{\"bgcolor\":\"white\",\"lakecolor\":\"white\",\"landcolor\":\"white\",\"showlakes\":true,\"showland\":true,\"subunitcolor\":\"#C8D4E3\"},\"hoverlabel\":{\"align\":\"left\"},\"hovermode\":\"closest\",\"mapbox\":{\"style\":\"light\"},\"paper_bgcolor\":\"white\",\"plot_bgcolor\":\"white\",\"polar\":{\"angularaxis\":{\"gridcolor\":\"#EBF0F8\",\"linecolor\":\"#EBF0F8\",\"ticks\":\"\"},\"bgcolor\":\"white\",\"radialaxis\":{\"gridcolor\":\"#EBF0F8\",\"linecolor\":\"#EBF0F8\",\"ticks\":\"\"}},\"scene\":{\"xaxis\":{\"backgroundcolor\":\"white\",\"gridcolor\":\"#DFE8F3\",\"gridwidth\":2,\"linecolor\":\"#EBF0F8\",\"showbackground\":true,\"ticks\":\"\",\"zerolinecolor\":\"#EBF0F8\"},\"yaxis\":{\"backgroundcolor\":\"white\",\"gridcolor\":\"#DFE8F3\",\"gridwidth\":2,\"linecolor\":\"#EBF0F8\",\"showbackground\":true,\"ticks\":\"\",\"zerolinecolor\":\"#EBF0F8\"},\"zaxis\":{\"backgroundcolor\":\"white\",\"gridcolor\":\"#DFE8F3\",\"gridwidth\":2,\"linecolor\":\"#EBF0F8\",\"showbackground\":true,\"ticks\":\"\",\"zerolinecolor\":\"#EBF0F8\"}},\"shapedefaults\":{\"line\":{\"color\":\"#2a3f5f\"}},\"ternary\":{\"aaxis\":{\"gridcolor\":\"#DFE8F3\",\"linecolor\":\"#A2B1C6\",\"ticks\":\"\"},\"baxis\":{\"gridcolor\":\"#DFE8F3\",\"linecolor\":\"#A2B1C6\",\"ticks\":\"\"},\"bgcolor\":\"white\",\"caxis\":{\"gridcolor\":\"#DFE8F3\",\"linecolor\":\"#A2B1C6\",\"ticks\":\"\"}},\"title\":{\"x\":0.05},\"xaxis\":{\"automargin\":true,\"gridcolor\":\"#EBF0F8\",\"linecolor\":\"#EBF0F8\",\"ticks\":\"\",\"title\":{\"standoff\":15},\"zerolinecolor\":\"#EBF0F8\",\"zerolinewidth\":2},\"yaxis\":{\"automargin\":true,\"gridcolor\":\"#EBF0F8\",\"linecolor\":\"#EBF0F8\",\"ticks\":\"\",\"title\":{\"standoff\":15},\"zerolinecolor\":\"#EBF0F8\",\"zerolinewidth\":2}}},\"legend\":{\"x\":0.05,\"y\":0.05},\"title\":{\"text\":\"Curvas PR de Modelos\"},\"xaxis\":{\"title\":{\"text\":\"Recall\"}},\"yaxis\":{\"title\":{\"text\":\"Precision\"}},\"showlegend\":true},                        {\"responsive\": true}                    ).then(function(){\n",
       "                            \n",
       "var gd = document.getElementById('997f0b40-d590-4149-a495-e42302d429cf');\n",
       "var x = new MutationObserver(function (mutations, observer) {{\n",
       "        var display = window.getComputedStyle(gd).display;\n",
       "        if (!display || display === 'none') {{\n",
       "            console.log([gd, 'removed!']);\n",
       "            Plotly.purge(gd);\n",
       "            observer.disconnect();\n",
       "        }}\n",
       "}});\n",
       "\n",
       "// Listen for the removal of the full notebook cells\n",
       "var notebookContainer = gd.closest('#notebook-container');\n",
       "if (notebookContainer) {{\n",
       "    x.observe(notebookContainer, {childList: true});\n",
       "}}\n",
       "\n",
       "// Listen for the clearing of the current output cell\n",
       "var outputEl = gd.closest('.output');\n",
       "if (outputEl) {{\n",
       "    x.observe(outputEl, {childList: true});\n",
       "}}\n",
       "\n",
       "                        })                };                });            </script>        </div>"
      ]
     },
     "metadata": {},
     "output_type": "display_data"
    }
   ],
   "source": [
    "fig.show()"
   ]
  },
  {
   "cell_type": "markdown",
   "id": "3ccafc82",
   "metadata": {},
   "source": [
    "Se observa que el `HistGradientBoostingClassifier` tiene una mayor area bajo la curva PR. Veamos cómo se comporta el F1 de testeo."
   ]
  },
  {
   "cell_type": "code",
   "execution_count": 30,
   "id": "d5bffb0b",
   "metadata": {},
   "outputs": [
    {
     "data": {
      "application/vnd.plotly.v1+json": {
       "config": {
        "plotlyServerURL": "https://plot.ly"
       },
       "data": [
        {
         "marker": {
          "color": [
           "rgb(229, 134, 6)",
           "rgb(93, 105, 177)",
           "rgb(82, 188, 163)",
           "rgb(153, 201, 69)",
           "rgb(204, 97, 176)",
           "rgb(36, 121, 108)",
           "rgb(218, 165, 27)",
           "rgb(47, 138, 196)",
           "rgb(118, 78, 159)",
           "rgb(237, 100, 90)",
           "rgb(165, 170, 153)"
          ]
         },
         "type": "bar",
         "x": [
          "HistGradientBoostingClassifier",
          "RandomForest",
          "GradientBoosting",
          "LogisticRegression"
         ],
         "y": [
          0.2922374429223744,
          0.3298969072164949,
          0.2883720930232558,
          0.20233463035019458
         ]
        }
       ],
       "layout": {
        "template": {
         "data": {
          "bar": [
           {
            "error_x": {
             "color": "#2a3f5f"
            },
            "error_y": {
             "color": "#2a3f5f"
            },
            "marker": {
             "line": {
              "color": "#E5ECF6",
              "width": 0.5
             },
             "pattern": {
              "fillmode": "overlay",
              "size": 10,
              "solidity": 0.2
             }
            },
            "type": "bar"
           }
          ],
          "barpolar": [
           {
            "marker": {
             "line": {
              "color": "#E5ECF6",
              "width": 0.5
             },
             "pattern": {
              "fillmode": "overlay",
              "size": 10,
              "solidity": 0.2
             }
            },
            "type": "barpolar"
           }
          ],
          "carpet": [
           {
            "aaxis": {
             "endlinecolor": "#2a3f5f",
             "gridcolor": "white",
             "linecolor": "white",
             "minorgridcolor": "white",
             "startlinecolor": "#2a3f5f"
            },
            "baxis": {
             "endlinecolor": "#2a3f5f",
             "gridcolor": "white",
             "linecolor": "white",
             "minorgridcolor": "white",
             "startlinecolor": "#2a3f5f"
            },
            "type": "carpet"
           }
          ],
          "choropleth": [
           {
            "colorbar": {
             "outlinewidth": 0,
             "ticks": ""
            },
            "type": "choropleth"
           }
          ],
          "contour": [
           {
            "colorbar": {
             "outlinewidth": 0,
             "ticks": ""
            },
            "colorscale": [
             [
              0,
              "#0d0887"
             ],
             [
              0.1111111111111111,
              "#46039f"
             ],
             [
              0.2222222222222222,
              "#7201a8"
             ],
             [
              0.3333333333333333,
              "#9c179e"
             ],
             [
              0.4444444444444444,
              "#bd3786"
             ],
             [
              0.5555555555555556,
              "#d8576b"
             ],
             [
              0.6666666666666666,
              "#ed7953"
             ],
             [
              0.7777777777777778,
              "#fb9f3a"
             ],
             [
              0.8888888888888888,
              "#fdca26"
             ],
             [
              1,
              "#f0f921"
             ]
            ],
            "type": "contour"
           }
          ],
          "contourcarpet": [
           {
            "colorbar": {
             "outlinewidth": 0,
             "ticks": ""
            },
            "type": "contourcarpet"
           }
          ],
          "heatmap": [
           {
            "colorbar": {
             "outlinewidth": 0,
             "ticks": ""
            },
            "colorscale": [
             [
              0,
              "#0d0887"
             ],
             [
              0.1111111111111111,
              "#46039f"
             ],
             [
              0.2222222222222222,
              "#7201a8"
             ],
             [
              0.3333333333333333,
              "#9c179e"
             ],
             [
              0.4444444444444444,
              "#bd3786"
             ],
             [
              0.5555555555555556,
              "#d8576b"
             ],
             [
              0.6666666666666666,
              "#ed7953"
             ],
             [
              0.7777777777777778,
              "#fb9f3a"
             ],
             [
              0.8888888888888888,
              "#fdca26"
             ],
             [
              1,
              "#f0f921"
             ]
            ],
            "type": "heatmap"
           }
          ],
          "heatmapgl": [
           {
            "colorbar": {
             "outlinewidth": 0,
             "ticks": ""
            },
            "colorscale": [
             [
              0,
              "#0d0887"
             ],
             [
              0.1111111111111111,
              "#46039f"
             ],
             [
              0.2222222222222222,
              "#7201a8"
             ],
             [
              0.3333333333333333,
              "#9c179e"
             ],
             [
              0.4444444444444444,
              "#bd3786"
             ],
             [
              0.5555555555555556,
              "#d8576b"
             ],
             [
              0.6666666666666666,
              "#ed7953"
             ],
             [
              0.7777777777777778,
              "#fb9f3a"
             ],
             [
              0.8888888888888888,
              "#fdca26"
             ],
             [
              1,
              "#f0f921"
             ]
            ],
            "type": "heatmapgl"
           }
          ],
          "histogram": [
           {
            "marker": {
             "pattern": {
              "fillmode": "overlay",
              "size": 10,
              "solidity": 0.2
             }
            },
            "type": "histogram"
           }
          ],
          "histogram2d": [
           {
            "colorbar": {
             "outlinewidth": 0,
             "ticks": ""
            },
            "colorscale": [
             [
              0,
              "#0d0887"
             ],
             [
              0.1111111111111111,
              "#46039f"
             ],
             [
              0.2222222222222222,
              "#7201a8"
             ],
             [
              0.3333333333333333,
              "#9c179e"
             ],
             [
              0.4444444444444444,
              "#bd3786"
             ],
             [
              0.5555555555555556,
              "#d8576b"
             ],
             [
              0.6666666666666666,
              "#ed7953"
             ],
             [
              0.7777777777777778,
              "#fb9f3a"
             ],
             [
              0.8888888888888888,
              "#fdca26"
             ],
             [
              1,
              "#f0f921"
             ]
            ],
            "type": "histogram2d"
           }
          ],
          "histogram2dcontour": [
           {
            "colorbar": {
             "outlinewidth": 0,
             "ticks": ""
            },
            "colorscale": [
             [
              0,
              "#0d0887"
             ],
             [
              0.1111111111111111,
              "#46039f"
             ],
             [
              0.2222222222222222,
              "#7201a8"
             ],
             [
              0.3333333333333333,
              "#9c179e"
             ],
             [
              0.4444444444444444,
              "#bd3786"
             ],
             [
              0.5555555555555556,
              "#d8576b"
             ],
             [
              0.6666666666666666,
              "#ed7953"
             ],
             [
              0.7777777777777778,
              "#fb9f3a"
             ],
             [
              0.8888888888888888,
              "#fdca26"
             ],
             [
              1,
              "#f0f921"
             ]
            ],
            "type": "histogram2dcontour"
           }
          ],
          "mesh3d": [
           {
            "colorbar": {
             "outlinewidth": 0,
             "ticks": ""
            },
            "type": "mesh3d"
           }
          ],
          "parcoords": [
           {
            "line": {
             "colorbar": {
              "outlinewidth": 0,
              "ticks": ""
             }
            },
            "type": "parcoords"
           }
          ],
          "pie": [
           {
            "automargin": true,
            "type": "pie"
           }
          ],
          "scatter": [
           {
            "fillpattern": {
             "fillmode": "overlay",
             "size": 10,
             "solidity": 0.2
            },
            "type": "scatter"
           }
          ],
          "scatter3d": [
           {
            "line": {
             "colorbar": {
              "outlinewidth": 0,
              "ticks": ""
             }
            },
            "marker": {
             "colorbar": {
              "outlinewidth": 0,
              "ticks": ""
             }
            },
            "type": "scatter3d"
           }
          ],
          "scattercarpet": [
           {
            "marker": {
             "colorbar": {
              "outlinewidth": 0,
              "ticks": ""
             }
            },
            "type": "scattercarpet"
           }
          ],
          "scattergeo": [
           {
            "marker": {
             "colorbar": {
              "outlinewidth": 0,
              "ticks": ""
             }
            },
            "type": "scattergeo"
           }
          ],
          "scattergl": [
           {
            "marker": {
             "colorbar": {
              "outlinewidth": 0,
              "ticks": ""
             }
            },
            "type": "scattergl"
           }
          ],
          "scattermapbox": [
           {
            "marker": {
             "colorbar": {
              "outlinewidth": 0,
              "ticks": ""
             }
            },
            "type": "scattermapbox"
           }
          ],
          "scatterpolar": [
           {
            "marker": {
             "colorbar": {
              "outlinewidth": 0,
              "ticks": ""
             }
            },
            "type": "scatterpolar"
           }
          ],
          "scatterpolargl": [
           {
            "marker": {
             "colorbar": {
              "outlinewidth": 0,
              "ticks": ""
             }
            },
            "type": "scatterpolargl"
           }
          ],
          "scatterternary": [
           {
            "marker": {
             "colorbar": {
              "outlinewidth": 0,
              "ticks": ""
             }
            },
            "type": "scatterternary"
           }
          ],
          "surface": [
           {
            "colorbar": {
             "outlinewidth": 0,
             "ticks": ""
            },
            "colorscale": [
             [
              0,
              "#0d0887"
             ],
             [
              0.1111111111111111,
              "#46039f"
             ],
             [
              0.2222222222222222,
              "#7201a8"
             ],
             [
              0.3333333333333333,
              "#9c179e"
             ],
             [
              0.4444444444444444,
              "#bd3786"
             ],
             [
              0.5555555555555556,
              "#d8576b"
             ],
             [
              0.6666666666666666,
              "#ed7953"
             ],
             [
              0.7777777777777778,
              "#fb9f3a"
             ],
             [
              0.8888888888888888,
              "#fdca26"
             ],
             [
              1,
              "#f0f921"
             ]
            ],
            "type": "surface"
           }
          ],
          "table": [
           {
            "cells": {
             "fill": {
              "color": "#EBF0F8"
             },
             "line": {
              "color": "white"
             }
            },
            "header": {
             "fill": {
              "color": "#C8D4E3"
             },
             "line": {
              "color": "white"
             }
            },
            "type": "table"
           }
          ]
         },
         "layout": {
          "annotationdefaults": {
           "arrowcolor": "#2a3f5f",
           "arrowhead": 0,
           "arrowwidth": 1
          },
          "autotypenumbers": "strict",
          "coloraxis": {
           "colorbar": {
            "outlinewidth": 0,
            "ticks": ""
           }
          },
          "colorscale": {
           "diverging": [
            [
             0,
             "#8e0152"
            ],
            [
             0.1,
             "#c51b7d"
            ],
            [
             0.2,
             "#de77ae"
            ],
            [
             0.3,
             "#f1b6da"
            ],
            [
             0.4,
             "#fde0ef"
            ],
            [
             0.5,
             "#f7f7f7"
            ],
            [
             0.6,
             "#e6f5d0"
            ],
            [
             0.7,
             "#b8e186"
            ],
            [
             0.8,
             "#7fbc41"
            ],
            [
             0.9,
             "#4d9221"
            ],
            [
             1,
             "#276419"
            ]
           ],
           "sequential": [
            [
             0,
             "#0d0887"
            ],
            [
             0.1111111111111111,
             "#46039f"
            ],
            [
             0.2222222222222222,
             "#7201a8"
            ],
            [
             0.3333333333333333,
             "#9c179e"
            ],
            [
             0.4444444444444444,
             "#bd3786"
            ],
            [
             0.5555555555555556,
             "#d8576b"
            ],
            [
             0.6666666666666666,
             "#ed7953"
            ],
            [
             0.7777777777777778,
             "#fb9f3a"
            ],
            [
             0.8888888888888888,
             "#fdca26"
            ],
            [
             1,
             "#f0f921"
            ]
           ],
           "sequentialminus": [
            [
             0,
             "#0d0887"
            ],
            [
             0.1111111111111111,
             "#46039f"
            ],
            [
             0.2222222222222222,
             "#7201a8"
            ],
            [
             0.3333333333333333,
             "#9c179e"
            ],
            [
             0.4444444444444444,
             "#bd3786"
            ],
            [
             0.5555555555555556,
             "#d8576b"
            ],
            [
             0.6666666666666666,
             "#ed7953"
            ],
            [
             0.7777777777777778,
             "#fb9f3a"
            ],
            [
             0.8888888888888888,
             "#fdca26"
            ],
            [
             1,
             "#f0f921"
            ]
           ]
          },
          "colorway": [
           "#636efa",
           "#EF553B",
           "#00cc96",
           "#ab63fa",
           "#FFA15A",
           "#19d3f3",
           "#FF6692",
           "#B6E880",
           "#FF97FF",
           "#FECB52"
          ],
          "font": {
           "color": "#2a3f5f"
          },
          "geo": {
           "bgcolor": "white",
           "lakecolor": "white",
           "landcolor": "#E5ECF6",
           "showlakes": true,
           "showland": true,
           "subunitcolor": "white"
          },
          "hoverlabel": {
           "align": "left"
          },
          "hovermode": "closest",
          "mapbox": {
           "style": "light"
          },
          "paper_bgcolor": "white",
          "plot_bgcolor": "#E5ECF6",
          "polar": {
           "angularaxis": {
            "gridcolor": "white",
            "linecolor": "white",
            "ticks": ""
           },
           "bgcolor": "#E5ECF6",
           "radialaxis": {
            "gridcolor": "white",
            "linecolor": "white",
            "ticks": ""
           }
          },
          "scene": {
           "xaxis": {
            "backgroundcolor": "#E5ECF6",
            "gridcolor": "white",
            "gridwidth": 2,
            "linecolor": "white",
            "showbackground": true,
            "ticks": "",
            "zerolinecolor": "white"
           },
           "yaxis": {
            "backgroundcolor": "#E5ECF6",
            "gridcolor": "white",
            "gridwidth": 2,
            "linecolor": "white",
            "showbackground": true,
            "ticks": "",
            "zerolinecolor": "white"
           },
           "zaxis": {
            "backgroundcolor": "#E5ECF6",
            "gridcolor": "white",
            "gridwidth": 2,
            "linecolor": "white",
            "showbackground": true,
            "ticks": "",
            "zerolinecolor": "white"
           }
          },
          "shapedefaults": {
           "line": {
            "color": "#2a3f5f"
           }
          },
          "ternary": {
           "aaxis": {
            "gridcolor": "white",
            "linecolor": "white",
            "ticks": ""
           },
           "baxis": {
            "gridcolor": "white",
            "linecolor": "white",
            "ticks": ""
           },
           "bgcolor": "#E5ECF6",
           "caxis": {
            "gridcolor": "white",
            "linecolor": "white",
            "ticks": ""
           }
          },
          "title": {
           "x": 0.05
          },
          "xaxis": {
           "automargin": true,
           "gridcolor": "white",
           "linecolor": "white",
           "ticks": "",
           "title": {
            "standoff": 15
           },
           "zerolinecolor": "white",
           "zerolinewidth": 2
          },
          "yaxis": {
           "automargin": true,
           "gridcolor": "white",
           "linecolor": "white",
           "ticks": "",
           "title": {
            "standoff": 15
           },
           "zerolinecolor": "white",
           "zerolinewidth": 2
          }
         }
        },
        "title": {
         "text": "Comparativa de Modelos"
        },
        "xaxis": {
         "title": {
          "text": "Modelos"
         }
        },
        "yaxis": {
         "range": [
          0,
          1
         ],
         "title": {
          "text": "F1-score"
         }
        }
       }
      },
      "text/html": [
       "<div>                            <div id=\"9cf11bad-0d11-4646-946c-60c62a8b3632\" class=\"plotly-graph-div\" style=\"height:525px; width:100%;\"></div>            <script type=\"text/javascript\">                require([\"plotly\"], function(Plotly) {                    window.PLOTLYENV=window.PLOTLYENV || {};                                    if (document.getElementById(\"9cf11bad-0d11-4646-946c-60c62a8b3632\")) {                    Plotly.newPlot(                        \"9cf11bad-0d11-4646-946c-60c62a8b3632\",                        [{\"marker\":{\"color\":[\"rgb(229, 134, 6)\",\"rgb(93, 105, 177)\",\"rgb(82, 188, 163)\",\"rgb(153, 201, 69)\",\"rgb(204, 97, 176)\",\"rgb(36, 121, 108)\",\"rgb(218, 165, 27)\",\"rgb(47, 138, 196)\",\"rgb(118, 78, 159)\",\"rgb(237, 100, 90)\",\"rgb(165, 170, 153)\"]},\"x\":[\"HistGradientBoostingClassifier\",\"RandomForest\",\"GradientBoosting\",\"LogisticRegression\"],\"y\":[0.2922374429223744,0.3298969072164949,0.2883720930232558,0.20233463035019458],\"type\":\"bar\"}],                        {\"template\":{\"data\":{\"histogram2dcontour\":[{\"type\":\"histogram2dcontour\",\"colorbar\":{\"outlinewidth\":0,\"ticks\":\"\"},\"colorscale\":[[0.0,\"#0d0887\"],[0.1111111111111111,\"#46039f\"],[0.2222222222222222,\"#7201a8\"],[0.3333333333333333,\"#9c179e\"],[0.4444444444444444,\"#bd3786\"],[0.5555555555555556,\"#d8576b\"],[0.6666666666666666,\"#ed7953\"],[0.7777777777777778,\"#fb9f3a\"],[0.8888888888888888,\"#fdca26\"],[1.0,\"#f0f921\"]]}],\"choropleth\":[{\"type\":\"choropleth\",\"colorbar\":{\"outlinewidth\":0,\"ticks\":\"\"}}],\"histogram2d\":[{\"type\":\"histogram2d\",\"colorbar\":{\"outlinewidth\":0,\"ticks\":\"\"},\"colorscale\":[[0.0,\"#0d0887\"],[0.1111111111111111,\"#46039f\"],[0.2222222222222222,\"#7201a8\"],[0.3333333333333333,\"#9c179e\"],[0.4444444444444444,\"#bd3786\"],[0.5555555555555556,\"#d8576b\"],[0.6666666666666666,\"#ed7953\"],[0.7777777777777778,\"#fb9f3a\"],[0.8888888888888888,\"#fdca26\"],[1.0,\"#f0f921\"]]}],\"heatmap\":[{\"type\":\"heatmap\",\"colorbar\":{\"outlinewidth\":0,\"ticks\":\"\"},\"colorscale\":[[0.0,\"#0d0887\"],[0.1111111111111111,\"#46039f\"],[0.2222222222222222,\"#7201a8\"],[0.3333333333333333,\"#9c179e\"],[0.4444444444444444,\"#bd3786\"],[0.5555555555555556,\"#d8576b\"],[0.6666666666666666,\"#ed7953\"],[0.7777777777777778,\"#fb9f3a\"],[0.8888888888888888,\"#fdca26\"],[1.0,\"#f0f921\"]]}],\"heatmapgl\":[{\"type\":\"heatmapgl\",\"colorbar\":{\"outlinewidth\":0,\"ticks\":\"\"},\"colorscale\":[[0.0,\"#0d0887\"],[0.1111111111111111,\"#46039f\"],[0.2222222222222222,\"#7201a8\"],[0.3333333333333333,\"#9c179e\"],[0.4444444444444444,\"#bd3786\"],[0.5555555555555556,\"#d8576b\"],[0.6666666666666666,\"#ed7953\"],[0.7777777777777778,\"#fb9f3a\"],[0.8888888888888888,\"#fdca26\"],[1.0,\"#f0f921\"]]}],\"contourcarpet\":[{\"type\":\"contourcarpet\",\"colorbar\":{\"outlinewidth\":0,\"ticks\":\"\"}}],\"contour\":[{\"type\":\"contour\",\"colorbar\":{\"outlinewidth\":0,\"ticks\":\"\"},\"colorscale\":[[0.0,\"#0d0887\"],[0.1111111111111111,\"#46039f\"],[0.2222222222222222,\"#7201a8\"],[0.3333333333333333,\"#9c179e\"],[0.4444444444444444,\"#bd3786\"],[0.5555555555555556,\"#d8576b\"],[0.6666666666666666,\"#ed7953\"],[0.7777777777777778,\"#fb9f3a\"],[0.8888888888888888,\"#fdca26\"],[1.0,\"#f0f921\"]]}],\"surface\":[{\"type\":\"surface\",\"colorbar\":{\"outlinewidth\":0,\"ticks\":\"\"},\"colorscale\":[[0.0,\"#0d0887\"],[0.1111111111111111,\"#46039f\"],[0.2222222222222222,\"#7201a8\"],[0.3333333333333333,\"#9c179e\"],[0.4444444444444444,\"#bd3786\"],[0.5555555555555556,\"#d8576b\"],[0.6666666666666666,\"#ed7953\"],[0.7777777777777778,\"#fb9f3a\"],[0.8888888888888888,\"#fdca26\"],[1.0,\"#f0f921\"]]}],\"mesh3d\":[{\"type\":\"mesh3d\",\"colorbar\":{\"outlinewidth\":0,\"ticks\":\"\"}}],\"scatter\":[{\"fillpattern\":{\"fillmode\":\"overlay\",\"size\":10,\"solidity\":0.2},\"type\":\"scatter\"}],\"parcoords\":[{\"type\":\"parcoords\",\"line\":{\"colorbar\":{\"outlinewidth\":0,\"ticks\":\"\"}}}],\"scatterpolargl\":[{\"type\":\"scatterpolargl\",\"marker\":{\"colorbar\":{\"outlinewidth\":0,\"ticks\":\"\"}}}],\"bar\":[{\"error_x\":{\"color\":\"#2a3f5f\"},\"error_y\":{\"color\":\"#2a3f5f\"},\"marker\":{\"line\":{\"color\":\"#E5ECF6\",\"width\":0.5},\"pattern\":{\"fillmode\":\"overlay\",\"size\":10,\"solidity\":0.2}},\"type\":\"bar\"}],\"scattergeo\":[{\"type\":\"scattergeo\",\"marker\":{\"colorbar\":{\"outlinewidth\":0,\"ticks\":\"\"}}}],\"scatterpolar\":[{\"type\":\"scatterpolar\",\"marker\":{\"colorbar\":{\"outlinewidth\":0,\"ticks\":\"\"}}}],\"histogram\":[{\"marker\":{\"pattern\":{\"fillmode\":\"overlay\",\"size\":10,\"solidity\":0.2}},\"type\":\"histogram\"}],\"scattergl\":[{\"type\":\"scattergl\",\"marker\":{\"colorbar\":{\"outlinewidth\":0,\"ticks\":\"\"}}}],\"scatter3d\":[{\"type\":\"scatter3d\",\"line\":{\"colorbar\":{\"outlinewidth\":0,\"ticks\":\"\"}},\"marker\":{\"colorbar\":{\"outlinewidth\":0,\"ticks\":\"\"}}}],\"scattermapbox\":[{\"type\":\"scattermapbox\",\"marker\":{\"colorbar\":{\"outlinewidth\":0,\"ticks\":\"\"}}}],\"scatterternary\":[{\"type\":\"scatterternary\",\"marker\":{\"colorbar\":{\"outlinewidth\":0,\"ticks\":\"\"}}}],\"scattercarpet\":[{\"type\":\"scattercarpet\",\"marker\":{\"colorbar\":{\"outlinewidth\":0,\"ticks\":\"\"}}}],\"carpet\":[{\"aaxis\":{\"endlinecolor\":\"#2a3f5f\",\"gridcolor\":\"white\",\"linecolor\":\"white\",\"minorgridcolor\":\"white\",\"startlinecolor\":\"#2a3f5f\"},\"baxis\":{\"endlinecolor\":\"#2a3f5f\",\"gridcolor\":\"white\",\"linecolor\":\"white\",\"minorgridcolor\":\"white\",\"startlinecolor\":\"#2a3f5f\"},\"type\":\"carpet\"}],\"table\":[{\"cells\":{\"fill\":{\"color\":\"#EBF0F8\"},\"line\":{\"color\":\"white\"}},\"header\":{\"fill\":{\"color\":\"#C8D4E3\"},\"line\":{\"color\":\"white\"}},\"type\":\"table\"}],\"barpolar\":[{\"marker\":{\"line\":{\"color\":\"#E5ECF6\",\"width\":0.5},\"pattern\":{\"fillmode\":\"overlay\",\"size\":10,\"solidity\":0.2}},\"type\":\"barpolar\"}],\"pie\":[{\"automargin\":true,\"type\":\"pie\"}]},\"layout\":{\"autotypenumbers\":\"strict\",\"colorway\":[\"#636efa\",\"#EF553B\",\"#00cc96\",\"#ab63fa\",\"#FFA15A\",\"#19d3f3\",\"#FF6692\",\"#B6E880\",\"#FF97FF\",\"#FECB52\"],\"font\":{\"color\":\"#2a3f5f\"},\"hovermode\":\"closest\",\"hoverlabel\":{\"align\":\"left\"},\"paper_bgcolor\":\"white\",\"plot_bgcolor\":\"#E5ECF6\",\"polar\":{\"bgcolor\":\"#E5ECF6\",\"angularaxis\":{\"gridcolor\":\"white\",\"linecolor\":\"white\",\"ticks\":\"\"},\"radialaxis\":{\"gridcolor\":\"white\",\"linecolor\":\"white\",\"ticks\":\"\"}},\"ternary\":{\"bgcolor\":\"#E5ECF6\",\"aaxis\":{\"gridcolor\":\"white\",\"linecolor\":\"white\",\"ticks\":\"\"},\"baxis\":{\"gridcolor\":\"white\",\"linecolor\":\"white\",\"ticks\":\"\"},\"caxis\":{\"gridcolor\":\"white\",\"linecolor\":\"white\",\"ticks\":\"\"}},\"coloraxis\":{\"colorbar\":{\"outlinewidth\":0,\"ticks\":\"\"}},\"colorscale\":{\"sequential\":[[0.0,\"#0d0887\"],[0.1111111111111111,\"#46039f\"],[0.2222222222222222,\"#7201a8\"],[0.3333333333333333,\"#9c179e\"],[0.4444444444444444,\"#bd3786\"],[0.5555555555555556,\"#d8576b\"],[0.6666666666666666,\"#ed7953\"],[0.7777777777777778,\"#fb9f3a\"],[0.8888888888888888,\"#fdca26\"],[1.0,\"#f0f921\"]],\"sequentialminus\":[[0.0,\"#0d0887\"],[0.1111111111111111,\"#46039f\"],[0.2222222222222222,\"#7201a8\"],[0.3333333333333333,\"#9c179e\"],[0.4444444444444444,\"#bd3786\"],[0.5555555555555556,\"#d8576b\"],[0.6666666666666666,\"#ed7953\"],[0.7777777777777778,\"#fb9f3a\"],[0.8888888888888888,\"#fdca26\"],[1.0,\"#f0f921\"]],\"diverging\":[[0,\"#8e0152\"],[0.1,\"#c51b7d\"],[0.2,\"#de77ae\"],[0.3,\"#f1b6da\"],[0.4,\"#fde0ef\"],[0.5,\"#f7f7f7\"],[0.6,\"#e6f5d0\"],[0.7,\"#b8e186\"],[0.8,\"#7fbc41\"],[0.9,\"#4d9221\"],[1,\"#276419\"]]},\"xaxis\":{\"gridcolor\":\"white\",\"linecolor\":\"white\",\"ticks\":\"\",\"title\":{\"standoff\":15},\"zerolinecolor\":\"white\",\"automargin\":true,\"zerolinewidth\":2},\"yaxis\":{\"gridcolor\":\"white\",\"linecolor\":\"white\",\"ticks\":\"\",\"title\":{\"standoff\":15},\"zerolinecolor\":\"white\",\"automargin\":true,\"zerolinewidth\":2},\"scene\":{\"xaxis\":{\"backgroundcolor\":\"#E5ECF6\",\"gridcolor\":\"white\",\"linecolor\":\"white\",\"showbackground\":true,\"ticks\":\"\",\"zerolinecolor\":\"white\",\"gridwidth\":2},\"yaxis\":{\"backgroundcolor\":\"#E5ECF6\",\"gridcolor\":\"white\",\"linecolor\":\"white\",\"showbackground\":true,\"ticks\":\"\",\"zerolinecolor\":\"white\",\"gridwidth\":2},\"zaxis\":{\"backgroundcolor\":\"#E5ECF6\",\"gridcolor\":\"white\",\"linecolor\":\"white\",\"showbackground\":true,\"ticks\":\"\",\"zerolinecolor\":\"white\",\"gridwidth\":2}},\"shapedefaults\":{\"line\":{\"color\":\"#2a3f5f\"}},\"annotationdefaults\":{\"arrowcolor\":\"#2a3f5f\",\"arrowhead\":0,\"arrowwidth\":1},\"geo\":{\"bgcolor\":\"white\",\"landcolor\":\"#E5ECF6\",\"subunitcolor\":\"white\",\"showland\":true,\"showlakes\":true,\"lakecolor\":\"white\"},\"title\":{\"x\":0.05},\"mapbox\":{\"style\":\"light\"}}},\"yaxis\":{\"title\":{\"text\":\"F1-score\"},\"range\":[0,1]},\"title\":{\"text\":\"Comparativa de Modelos\"},\"xaxis\":{\"title\":{\"text\":\"Modelos\"}}},                        {\"responsive\": true}                    ).then(function(){\n",
       "                            \n",
       "var gd = document.getElementById('9cf11bad-0d11-4646-946c-60c62a8b3632');\n",
       "var x = new MutationObserver(function (mutations, observer) {{\n",
       "        var display = window.getComputedStyle(gd).display;\n",
       "        if (!display || display === 'none') {{\n",
       "            console.log([gd, 'removed!']);\n",
       "            Plotly.purge(gd);\n",
       "            observer.disconnect();\n",
       "        }}\n",
       "}});\n",
       "\n",
       "// Listen for the removal of the full notebook cells\n",
       "var notebookContainer = gd.closest('#notebook-container');\n",
       "if (notebookContainer) {{\n",
       "    x.observe(notebookContainer, {childList: true});\n",
       "}}\n",
       "\n",
       "// Listen for the clearing of the current output cell\n",
       "var outputEl = gd.closest('.output');\n",
       "if (outputEl) {{\n",
       "    x.observe(outputEl, {childList: true});\n",
       "}}\n",
       "\n",
       "                        })                };                });            </script>        </div>"
      ]
     },
     "metadata": {},
     "output_type": "display_data"
    }
   ],
   "source": [
    "# LISTA DE MODELOS Y F1-SCORES\n",
    "model_names = [model[0] for model in models]\n",
    "colors = px.colors.qualitative.Vivid\n",
    "\n",
    "# CREAR UNA GRÁFICA DE BARRAS\n",
    "fig = go.Figure(data=[go.Bar(x=model_names, y=f1_testeo_scores, marker_color=colors)])\n",
    "\n",
    "# PERSONALIZAR Y MOSTRAR LA GRÁFICA\n",
    "fig.update_layout(title='Comparativa de Modelos',\n",
    "                  xaxis_title='Modelos',\n",
    "                  yaxis_title='F1-score',\n",
    "                  yaxis=dict(range=[0, 1]))\n",
    "\n",
    "fig.show()"
   ]
  },
  {
   "cell_type": "markdown",
   "id": "f0c2a7da",
   "metadata": {},
   "source": [
    "Observamos que el `HistGradientBoostingClassifier` y `Random Forest` tienen los mejores F1 de testeo. Vamos a tomar a estos dos modelos como \"finalistas\" y vemos como se comportan sus métricas de testeo y cross-validation. Por medio del cross-validation, veremos que tan estables son estos modelos."
   ]
  },
  {
   "cell_type": "markdown",
   "id": "79840af4",
   "metadata": {},
   "source": [
    "# 4. ENTRENAMIENTO DE HISTOGRAM GRADIENT BOOSTING."
   ]
  },
  {
   "cell_type": "markdown",
   "id": "24b9458f",
   "metadata": {},
   "source": [
    "Entrenemos el estimador `HistGradientBoostingClassifier`."
   ]
  },
  {
   "cell_type": "code",
   "execution_count": 31,
   "id": "76f8bb30",
   "metadata": {},
   "outputs": [],
   "source": [
    "model_name = 'HistGradientBoostingClassifier'"
   ]
  },
  {
   "cell_type": "markdown",
   "id": "a668b920",
   "metadata": {},
   "source": [
    "Se muestra el orden en que se aplicarán los procesos de tranformación en el __Pipiline general (transform)__ :\n",
    "1. Preprocesamiento de variables (codificación).\n",
    "2. Submuestro.\n",
    "3. Ajuste de modelo."
   ]
  },
  {
   "cell_type": "code",
   "execution_count": 32,
   "id": "0322d1fc",
   "metadata": {},
   "outputs": [
    {
     "data": {
      "text/html": [
       "<style>#sk-container-id-1 {color: black;background-color: white;}#sk-container-id-1 pre{padding: 0;}#sk-container-id-1 div.sk-toggleable {background-color: white;}#sk-container-id-1 label.sk-toggleable__label {cursor: pointer;display: block;width: 100%;margin-bottom: 0;padding: 0.3em;box-sizing: border-box;text-align: center;}#sk-container-id-1 label.sk-toggleable__label-arrow:before {content: \"▸\";float: left;margin-right: 0.25em;color: #696969;}#sk-container-id-1 label.sk-toggleable__label-arrow:hover:before {color: black;}#sk-container-id-1 div.sk-estimator:hover label.sk-toggleable__label-arrow:before {color: black;}#sk-container-id-1 div.sk-toggleable__content {max-height: 0;max-width: 0;overflow: hidden;text-align: left;background-color: #f0f8ff;}#sk-container-id-1 div.sk-toggleable__content pre {margin: 0.2em;color: black;border-radius: 0.25em;background-color: #f0f8ff;}#sk-container-id-1 input.sk-toggleable__control:checked~div.sk-toggleable__content {max-height: 200px;max-width: 100%;overflow: auto;}#sk-container-id-1 input.sk-toggleable__control:checked~label.sk-toggleable__label-arrow:before {content: \"▾\";}#sk-container-id-1 div.sk-estimator input.sk-toggleable__control:checked~label.sk-toggleable__label {background-color: #d4ebff;}#sk-container-id-1 div.sk-label input.sk-toggleable__control:checked~label.sk-toggleable__label {background-color: #d4ebff;}#sk-container-id-1 input.sk-hidden--visually {border: 0;clip: rect(1px 1px 1px 1px);clip: rect(1px, 1px, 1px, 1px);height: 1px;margin: -1px;overflow: hidden;padding: 0;position: absolute;width: 1px;}#sk-container-id-1 div.sk-estimator {font-family: monospace;background-color: #f0f8ff;border: 1px dotted black;border-radius: 0.25em;box-sizing: border-box;margin-bottom: 0.5em;}#sk-container-id-1 div.sk-estimator:hover {background-color: #d4ebff;}#sk-container-id-1 div.sk-parallel-item::after {content: \"\";width: 100%;border-bottom: 1px solid gray;flex-grow: 1;}#sk-container-id-1 div.sk-label:hover label.sk-toggleable__label {background-color: #d4ebff;}#sk-container-id-1 div.sk-serial::before {content: \"\";position: absolute;border-left: 1px solid gray;box-sizing: border-box;top: 0;bottom: 0;left: 50%;z-index: 0;}#sk-container-id-1 div.sk-serial {display: flex;flex-direction: column;align-items: center;background-color: white;padding-right: 0.2em;padding-left: 0.2em;position: relative;}#sk-container-id-1 div.sk-item {position: relative;z-index: 1;}#sk-container-id-1 div.sk-parallel {display: flex;align-items: stretch;justify-content: center;background-color: white;position: relative;}#sk-container-id-1 div.sk-item::before, #sk-container-id-1 div.sk-parallel-item::before {content: \"\";position: absolute;border-left: 1px solid gray;box-sizing: border-box;top: 0;bottom: 0;left: 50%;z-index: -1;}#sk-container-id-1 div.sk-parallel-item {display: flex;flex-direction: column;z-index: 1;position: relative;background-color: white;}#sk-container-id-1 div.sk-parallel-item:first-child::after {align-self: flex-end;width: 50%;}#sk-container-id-1 div.sk-parallel-item:last-child::after {align-self: flex-start;width: 50%;}#sk-container-id-1 div.sk-parallel-item:only-child::after {width: 0;}#sk-container-id-1 div.sk-dashed-wrapped {border: 1px dashed gray;margin: 0 0.4em 0.5em 0.4em;box-sizing: border-box;padding-bottom: 0.4em;background-color: white;}#sk-container-id-1 div.sk-label label {font-family: monospace;font-weight: bold;display: inline-block;line-height: 1.2em;}#sk-container-id-1 div.sk-label-container {text-align: center;}#sk-container-id-1 div.sk-container {/* jupyter's `normalize.less` sets `[hidden] { display: none; }` but bootstrap.min.css set `[hidden] { display: none !important; }` so we also need the `!important` here to be able to override the default hidden behavior on the sphinx rendered scikit-learn.org. See: https://github.com/scikit-learn/scikit-learn/issues/21755 */display: inline-block !important;position: relative;}#sk-container-id-1 div.sk-text-repr-fallback {display: none;}</style><div id=\"sk-container-id-1\" class=\"sk-top-container\"><div class=\"sk-text-repr-fallback\"><pre>Pipeline(steps=[(&#x27;processing&#x27;,\n",
       "                 ColumnTransformer(remainder=&#x27;passthrough&#x27;,\n",
       "                                   transformers=[(&#x27;categorical&#x27;,\n",
       "                                                  Pipeline(steps=[(&#x27;CountEncoder&#x27;,\n",
       "                                                                   CountEncoder(combine_min_nan_groups=True,\n",
       "                                                                                normalize=True))]),\n",
       "                                                  [&#x27;FLAG_OWN_CAR&#x27;,\n",
       "                                                   &#x27;FLAG_OWN_REALTY&#x27;,\n",
       "                                                   &#x27;NAME_INCOME_TYPE&#x27;,\n",
       "                                                   &#x27;NAME_EDUCATION_TYPE&#x27;,\n",
       "                                                   &#x27;NAME_FAMILY_STATUS&#x27;,\n",
       "                                                   &#x27;NAME_HOUSING_TYPE&#x27;,\n",
       "                                                   &#x27;OCCUPATION_TYPE&#x27;,\n",
       "                                                   &#x27;FLAG_WORK_PHONE&#x27;,\n",
       "                                                   &#x27;FLAG_PHONE&#x27;,\n",
       "                                                   &#x27;FLAG_EMAIL&#x27;])])),\n",
       "                (&#x27;RandomUnderSampler&#x27;,\n",
       "                 RandomUnderSampler(random_state=5000, sampling_strategy=1)),\n",
       "                (&#x27;estimator&#x27;,\n",
       "                 HistGradientBoostingClassifier(random_state=5000))])</pre><b>In a Jupyter environment, please rerun this cell to show the HTML representation or trust the notebook. <br />On GitHub, the HTML representation is unable to render, please try loading this page with nbviewer.org.</b></div><div class=\"sk-container\" hidden><div class=\"sk-item sk-dashed-wrapped\"><div class=\"sk-label-container\"><div class=\"sk-label sk-toggleable\"><input class=\"sk-toggleable__control sk-hidden--visually\" id=\"sk-estimator-id-1\" type=\"checkbox\" ><label for=\"sk-estimator-id-1\" class=\"sk-toggleable__label sk-toggleable__label-arrow\">Pipeline</label><div class=\"sk-toggleable__content\"><pre>Pipeline(steps=[(&#x27;processing&#x27;,\n",
       "                 ColumnTransformer(remainder=&#x27;passthrough&#x27;,\n",
       "                                   transformers=[(&#x27;categorical&#x27;,\n",
       "                                                  Pipeline(steps=[(&#x27;CountEncoder&#x27;,\n",
       "                                                                   CountEncoder(combine_min_nan_groups=True,\n",
       "                                                                                normalize=True))]),\n",
       "                                                  [&#x27;FLAG_OWN_CAR&#x27;,\n",
       "                                                   &#x27;FLAG_OWN_REALTY&#x27;,\n",
       "                                                   &#x27;NAME_INCOME_TYPE&#x27;,\n",
       "                                                   &#x27;NAME_EDUCATION_TYPE&#x27;,\n",
       "                                                   &#x27;NAME_FAMILY_STATUS&#x27;,\n",
       "                                                   &#x27;NAME_HOUSING_TYPE&#x27;,\n",
       "                                                   &#x27;OCCUPATION_TYPE&#x27;,\n",
       "                                                   &#x27;FLAG_WORK_PHONE&#x27;,\n",
       "                                                   &#x27;FLAG_PHONE&#x27;,\n",
       "                                                   &#x27;FLAG_EMAIL&#x27;])])),\n",
       "                (&#x27;RandomUnderSampler&#x27;,\n",
       "                 RandomUnderSampler(random_state=5000, sampling_strategy=1)),\n",
       "                (&#x27;estimator&#x27;,\n",
       "                 HistGradientBoostingClassifier(random_state=5000))])</pre></div></div></div><div class=\"sk-serial\"><div class=\"sk-item sk-dashed-wrapped\"><div class=\"sk-label-container\"><div class=\"sk-label sk-toggleable\"><input class=\"sk-toggleable__control sk-hidden--visually\" id=\"sk-estimator-id-2\" type=\"checkbox\" ><label for=\"sk-estimator-id-2\" class=\"sk-toggleable__label sk-toggleable__label-arrow\">processing: ColumnTransformer</label><div class=\"sk-toggleable__content\"><pre>ColumnTransformer(remainder=&#x27;passthrough&#x27;,\n",
       "                  transformers=[(&#x27;categorical&#x27;,\n",
       "                                 Pipeline(steps=[(&#x27;CountEncoder&#x27;,\n",
       "                                                  CountEncoder(combine_min_nan_groups=True,\n",
       "                                                               normalize=True))]),\n",
       "                                 [&#x27;FLAG_OWN_CAR&#x27;, &#x27;FLAG_OWN_REALTY&#x27;,\n",
       "                                  &#x27;NAME_INCOME_TYPE&#x27;, &#x27;NAME_EDUCATION_TYPE&#x27;,\n",
       "                                  &#x27;NAME_FAMILY_STATUS&#x27;, &#x27;NAME_HOUSING_TYPE&#x27;,\n",
       "                                  &#x27;OCCUPATION_TYPE&#x27;, &#x27;FLAG_WORK_PHONE&#x27;,\n",
       "                                  &#x27;FLAG_PHONE&#x27;, &#x27;FLAG_EMAIL&#x27;])])</pre></div></div></div><div class=\"sk-parallel\"><div class=\"sk-parallel-item\"><div class=\"sk-item\"><div class=\"sk-label-container\"><div class=\"sk-label sk-toggleable\"><input class=\"sk-toggleable__control sk-hidden--visually\" id=\"sk-estimator-id-3\" type=\"checkbox\" ><label for=\"sk-estimator-id-3\" class=\"sk-toggleable__label sk-toggleable__label-arrow\">categorical</label><div class=\"sk-toggleable__content\"><pre>[&#x27;FLAG_OWN_CAR&#x27;, &#x27;FLAG_OWN_REALTY&#x27;, &#x27;NAME_INCOME_TYPE&#x27;, &#x27;NAME_EDUCATION_TYPE&#x27;, &#x27;NAME_FAMILY_STATUS&#x27;, &#x27;NAME_HOUSING_TYPE&#x27;, &#x27;OCCUPATION_TYPE&#x27;, &#x27;FLAG_WORK_PHONE&#x27;, &#x27;FLAG_PHONE&#x27;, &#x27;FLAG_EMAIL&#x27;]</pre></div></div></div><div class=\"sk-serial\"><div class=\"sk-item\"><div class=\"sk-serial\"><div class=\"sk-item\"><div class=\"sk-estimator sk-toggleable\"><input class=\"sk-toggleable__control sk-hidden--visually\" id=\"sk-estimator-id-4\" type=\"checkbox\" ><label for=\"sk-estimator-id-4\" class=\"sk-toggleable__label sk-toggleable__label-arrow\">CountEncoder</label><div class=\"sk-toggleable__content\"><pre>CountEncoder(combine_min_nan_groups=True, normalize=True)</pre></div></div></div></div></div></div></div></div><div class=\"sk-parallel-item\"><div class=\"sk-item\"><div class=\"sk-label-container\"><div class=\"sk-label sk-toggleable\"><input class=\"sk-toggleable__control sk-hidden--visually\" id=\"sk-estimator-id-5\" type=\"checkbox\" ><label for=\"sk-estimator-id-5\" class=\"sk-toggleable__label sk-toggleable__label-arrow\">remainder</label><div class=\"sk-toggleable__content\"><pre></pre></div></div></div><div class=\"sk-serial\"><div class=\"sk-item\"><div class=\"sk-estimator sk-toggleable\"><input class=\"sk-toggleable__control sk-hidden--visually\" id=\"sk-estimator-id-6\" type=\"checkbox\" ><label for=\"sk-estimator-id-6\" class=\"sk-toggleable__label sk-toggleable__label-arrow\">passthrough</label><div class=\"sk-toggleable__content\"><pre>passthrough</pre></div></div></div></div></div></div></div></div><div class=\"sk-item\"><div class=\"sk-estimator sk-toggleable\"><input class=\"sk-toggleable__control sk-hidden--visually\" id=\"sk-estimator-id-7\" type=\"checkbox\" ><label for=\"sk-estimator-id-7\" class=\"sk-toggleable__label sk-toggleable__label-arrow\">RandomUnderSampler</label><div class=\"sk-toggleable__content\"><pre>RandomUnderSampler(random_state=5000, sampling_strategy=1)</pre></div></div></div><div class=\"sk-item\"><div class=\"sk-estimator sk-toggleable\"><input class=\"sk-toggleable__control sk-hidden--visually\" id=\"sk-estimator-id-8\" type=\"checkbox\" ><label for=\"sk-estimator-id-8\" class=\"sk-toggleable__label sk-toggleable__label-arrow\">HistGradientBoostingClassifier</label><div class=\"sk-toggleable__content\"><pre>HistGradientBoostingClassifier(random_state=5000)</pre></div></div></div></div></div></div></div>"
      ],
      "text/plain": [
       "Pipeline(steps=[('processing',\n",
       "                 ColumnTransformer(remainder='passthrough',\n",
       "                                   transformers=[('categorical',\n",
       "                                                  Pipeline(steps=[('CountEncoder',\n",
       "                                                                   CountEncoder(combine_min_nan_groups=True,\n",
       "                                                                                normalize=True))]),\n",
       "                                                  ['FLAG_OWN_CAR',\n",
       "                                                   'FLAG_OWN_REALTY',\n",
       "                                                   'NAME_INCOME_TYPE',\n",
       "                                                   'NAME_EDUCATION_TYPE',\n",
       "                                                   'NAME_FAMILY_STATUS',\n",
       "                                                   'NAME_HOUSING_TYPE',\n",
       "                                                   'OCCUPATION_TYPE',\n",
       "                                                   'FLAG_WORK_PHONE',\n",
       "                                                   'FLAG_PHONE',\n",
       "                                                   'FLAG_EMAIL'])])),\n",
       "                ('RandomUnderSampler',\n",
       "                 RandomUnderSampler(random_state=5000, sampling_strategy=1)),\n",
       "                ('estimator',\n",
       "                 HistGradientBoostingClassifier(random_state=5000))])"
      ]
     },
     "execution_count": 32,
     "metadata": {},
     "output_type": "execute_result"
    }
   ],
   "source": [
    "preprocessor = get_preprocessor(float_names=numeric_names,\n",
    "                                categorical_names=categorical_names)\n",
    "transform = Pipeline(steps=[(\"processing\", preprocessor),\n",
    "                            (\"RandomUnderSampler\", RandomUnderSampler(random_state=seed,\n",
    "                                                                      sampling_strategy=ratio_balance)),\n",
    "                            (\"estimator\",  HistGradientBoostingClassifier(random_state=seed))])\n",
    "transform"
   ]
  },
  {
   "cell_type": "markdown",
   "id": "03c80e13",
   "metadata": {},
   "source": [
    "## 4. 1 Ajuste del modelo para obtener métricas de testeo."
   ]
  },
  {
   "cell_type": "code",
   "execution_count": 33,
   "id": "13ba3393",
   "metadata": {},
   "outputs": [],
   "source": [
    "clf = transform.fit(X_train, y_train)"
   ]
  },
  {
   "cell_type": "code",
   "execution_count": 34,
   "id": "efff19ec",
   "metadata": {},
   "outputs": [],
   "source": [
    "y_pred = clf.predict(X_test)"
   ]
  },
  {
   "cell_type": "markdown",
   "id": "6e795c85",
   "metadata": {},
   "source": [
    "A continuación se exhiben las métricas de __testeo__, solo con fines informativos."
   ]
  },
  {
   "cell_type": "code",
   "execution_count": 35,
   "id": "947462ac",
   "metadata": {},
   "outputs": [],
   "source": [
    "f_1_testeo = f1_score(y_test, y_pred)\n",
    "f_1_testeo_micro = f1_score(y_test, y_pred, average='micro')\n",
    "precision_testeo = precision_score(y_test, y_pred)\n",
    "precision_micro_testeo = precision_score(y_test, y_pred, average='micro')\n",
    "recall_testeo = recall_score(y_test, y_pred)\n",
    "recall_micro_testeo = recall_score(y_test, y_pred, average='micro')\n",
    "m_c_testeo = matthews_corrcoef(y_test, y_pred)\n",
    "cm_testeo = confusion_matrix(y_test, y_pred)"
   ]
  },
  {
   "cell_type": "code",
   "execution_count": 36,
   "id": "1af456aa",
   "metadata": {},
   "outputs": [
    {
     "name": "stdout",
     "output_type": "stream",
     "text": [
      "f1-testeo: 0.29\n",
      "f1-micro-testeo: 0.59\n",
      "precision-testeo: 0.18\n",
      "precision-micro-testeo: 0.59\n",
      "recall-testo: 0.73\n",
      "recall-micro-testo: 0.59\n",
      "m_c-testeo: 0.19\n",
      "matriz de confusión de testeo [[189 143]\n",
      " [ 12  32]]\n"
     ]
    }
   ],
   "source": [
    "print('f1-testeo:', round(f_1_testeo, 2))\n",
    "print('f1-micro-testeo:', round(f_1_testeo_micro, 2))\n",
    "print('precision-testeo:', round(precision_testeo, 2))\n",
    "print('precision-micro-testeo:', round(precision_micro_testeo, 2))\n",
    "print('recall-testo:', round(recall_testeo, 2))\n",
    "print('recall-micro-testo:', round(recall_micro_testeo, 2))\n",
    "print('m_c-testeo:', round(m_c_testeo, 2))\n",
    "print('matriz de confusión de testeo', cm_testeo)"
   ]
  },
  {
   "cell_type": "markdown",
   "id": "f4a6d55e",
   "metadata": {},
   "source": [
    "## 4.2 Cross-validation."
   ]
  },
  {
   "cell_type": "code",
   "execution_count": 37,
   "id": "d1b4fd38",
   "metadata": {},
   "outputs": [],
   "source": [
    "c_v = StratifiedKFold(n_splits=k_folds,\n",
    "                      shuffle=True,\n",
    "                      random_state=seed)"
   ]
  },
  {
   "cell_type": "code",
   "execution_count": 38,
   "id": "b1c1dfb2",
   "metadata": {},
   "outputs": [
    {
     "name": "stdout",
     "output_type": "stream",
     "text": [
      "[CV] START .....................................................................\n",
      "[CV] END  f1: (test=0.192) f1_micro: (test=0.574) m_c: (test=0.016) precision: (test=0.123) precision_micro: (test=0.574) recall: (test=0.432) recall_micro: (test=0.574) total time=   0.2s\n",
      "[CV] START .....................................................................\n"
     ]
    },
    {
     "name": "stderr",
     "output_type": "stream",
     "text": [
      "[Parallel(n_jobs=1)]: Done   1 tasks      | elapsed:    0.2s\n"
     ]
    },
    {
     "name": "stdout",
     "output_type": "stream",
     "text": [
      "[CV] END  f1: (test=0.237) f1_micro: (test=0.555) m_c: (test=0.098) precision: (test=0.148) precision_micro: (test=0.555) recall: (test=0.605) recall_micro: (test=0.555) total time=   0.2s\n",
      "[CV] START .....................................................................\n",
      "[CV] END  f1: (test=0.215) f1_micro: (test=0.493) m_c: (test=0.046) precision: (test=0.131) precision_micro: (test=0.493) recall: (test=0.591) recall_micro: (test=0.493) total time=   0.2s\n"
     ]
    }
   ],
   "source": [
    "cv_results = cross_validate(transform,\n",
    "                            X_train,\n",
    "                            y_train,\n",
    "                            cv=c_v,\n",
    "                            scoring=scores,\n",
    "                            verbose=10)"
   ]
  },
  {
   "cell_type": "markdown",
   "id": "70e1a046",
   "metadata": {},
   "source": [
    "Se obtienen las métricas de __cross-validation__."
   ]
  },
  {
   "cell_type": "code",
   "execution_count": 39,
   "id": "5ff83fd2",
   "metadata": {},
   "outputs": [
    {
     "name": "stdout",
     "output_type": "stream",
     "text": [
      "f1-cv: 0.21\n",
      "f1-micro-cv: 0.54\n",
      "precision-cv: 0.13\n",
      "precision-micro-cv: 0.54\n",
      "recall-cv: 0.54\n",
      "recall-micro-cv: 0.54\n",
      "m_c-cv: 0.05\n"
     ]
    }
   ],
   "source": [
    "print('f1-cv:', round(cv_results['test_f1'].mean(), 2))\n",
    "print('f1-micro-cv:', round(cv_results['test_f1_micro'].mean(), 2))\n",
    "print('precision-cv:', round(cv_results['test_precision'].mean(), 2))\n",
    "print('precision-micro-cv:', round(cv_results['test_precision_micro'].mean(), 2))\n",
    "print('recall-cv:', round(cv_results['test_recall'].mean(), 2))\n",
    "print('recall-micro-cv:', round(cv_results['test_recall_micro'].mean(), 2))\n",
    "print('m_c-cv:', round(cv_results['test_m_c'].mean(), 2))"
   ]
  },
  {
   "cell_type": "markdown",
   "id": "1d7e8444",
   "metadata": {},
   "source": [
    "# 5. ENTRENAMIENTO DE RANDOM FOREST."
   ]
  },
  {
   "cell_type": "markdown",
   "id": "1c0d7da2",
   "metadata": {},
   "source": [
    "Entrenemos el estimador `RandomForestClassifier`."
   ]
  },
  {
   "cell_type": "code",
   "execution_count": 40,
   "id": "3524b409",
   "metadata": {},
   "outputs": [],
   "source": [
    "model_name = 'RandomForestClassifier'"
   ]
  },
  {
   "cell_type": "markdown",
   "id": "6bc7a81c",
   "metadata": {},
   "source": [
    "Se obtienen las versiones definitivas de los conjuntos de __Entrenamiento__ y de __Testeo__."
   ]
  },
  {
   "cell_type": "markdown",
   "id": "bf4519d7",
   "metadata": {},
   "source": [
    "Se muestra el orden en que se aplicarán los procesos de tranformación en el __Pipiline general (transform)__:\n",
    "1. Preprocesamiento de variables (imputación y codificación).\n",
    "2. Submuestro.\n",
    "3. Ajuste de modelo."
   ]
  },
  {
   "cell_type": "code",
   "execution_count": 41,
   "id": "7f7478e8",
   "metadata": {},
   "outputs": [
    {
     "data": {
      "text/html": [
       "<style>#sk-container-id-2 {color: black;background-color: white;}#sk-container-id-2 pre{padding: 0;}#sk-container-id-2 div.sk-toggleable {background-color: white;}#sk-container-id-2 label.sk-toggleable__label {cursor: pointer;display: block;width: 100%;margin-bottom: 0;padding: 0.3em;box-sizing: border-box;text-align: center;}#sk-container-id-2 label.sk-toggleable__label-arrow:before {content: \"▸\";float: left;margin-right: 0.25em;color: #696969;}#sk-container-id-2 label.sk-toggleable__label-arrow:hover:before {color: black;}#sk-container-id-2 div.sk-estimator:hover label.sk-toggleable__label-arrow:before {color: black;}#sk-container-id-2 div.sk-toggleable__content {max-height: 0;max-width: 0;overflow: hidden;text-align: left;background-color: #f0f8ff;}#sk-container-id-2 div.sk-toggleable__content pre {margin: 0.2em;color: black;border-radius: 0.25em;background-color: #f0f8ff;}#sk-container-id-2 input.sk-toggleable__control:checked~div.sk-toggleable__content {max-height: 200px;max-width: 100%;overflow: auto;}#sk-container-id-2 input.sk-toggleable__control:checked~label.sk-toggleable__label-arrow:before {content: \"▾\";}#sk-container-id-2 div.sk-estimator input.sk-toggleable__control:checked~label.sk-toggleable__label {background-color: #d4ebff;}#sk-container-id-2 div.sk-label input.sk-toggleable__control:checked~label.sk-toggleable__label {background-color: #d4ebff;}#sk-container-id-2 input.sk-hidden--visually {border: 0;clip: rect(1px 1px 1px 1px);clip: rect(1px, 1px, 1px, 1px);height: 1px;margin: -1px;overflow: hidden;padding: 0;position: absolute;width: 1px;}#sk-container-id-2 div.sk-estimator {font-family: monospace;background-color: #f0f8ff;border: 1px dotted black;border-radius: 0.25em;box-sizing: border-box;margin-bottom: 0.5em;}#sk-container-id-2 div.sk-estimator:hover {background-color: #d4ebff;}#sk-container-id-2 div.sk-parallel-item::after {content: \"\";width: 100%;border-bottom: 1px solid gray;flex-grow: 1;}#sk-container-id-2 div.sk-label:hover label.sk-toggleable__label {background-color: #d4ebff;}#sk-container-id-2 div.sk-serial::before {content: \"\";position: absolute;border-left: 1px solid gray;box-sizing: border-box;top: 0;bottom: 0;left: 50%;z-index: 0;}#sk-container-id-2 div.sk-serial {display: flex;flex-direction: column;align-items: center;background-color: white;padding-right: 0.2em;padding-left: 0.2em;position: relative;}#sk-container-id-2 div.sk-item {position: relative;z-index: 1;}#sk-container-id-2 div.sk-parallel {display: flex;align-items: stretch;justify-content: center;background-color: white;position: relative;}#sk-container-id-2 div.sk-item::before, #sk-container-id-2 div.sk-parallel-item::before {content: \"\";position: absolute;border-left: 1px solid gray;box-sizing: border-box;top: 0;bottom: 0;left: 50%;z-index: -1;}#sk-container-id-2 div.sk-parallel-item {display: flex;flex-direction: column;z-index: 1;position: relative;background-color: white;}#sk-container-id-2 div.sk-parallel-item:first-child::after {align-self: flex-end;width: 50%;}#sk-container-id-2 div.sk-parallel-item:last-child::after {align-self: flex-start;width: 50%;}#sk-container-id-2 div.sk-parallel-item:only-child::after {width: 0;}#sk-container-id-2 div.sk-dashed-wrapped {border: 1px dashed gray;margin: 0 0.4em 0.5em 0.4em;box-sizing: border-box;padding-bottom: 0.4em;background-color: white;}#sk-container-id-2 div.sk-label label {font-family: monospace;font-weight: bold;display: inline-block;line-height: 1.2em;}#sk-container-id-2 div.sk-label-container {text-align: center;}#sk-container-id-2 div.sk-container {/* jupyter's `normalize.less` sets `[hidden] { display: none; }` but bootstrap.min.css set `[hidden] { display: none !important; }` so we also need the `!important` here to be able to override the default hidden behavior on the sphinx rendered scikit-learn.org. See: https://github.com/scikit-learn/scikit-learn/issues/21755 */display: inline-block !important;position: relative;}#sk-container-id-2 div.sk-text-repr-fallback {display: none;}</style><div id=\"sk-container-id-2\" class=\"sk-top-container\"><div class=\"sk-text-repr-fallback\"><pre>Pipeline(steps=[(&#x27;processing&#x27;,\n",
       "                 ColumnTransformer(remainder=&#x27;passthrough&#x27;,\n",
       "                                   transformers=[(&#x27;categorical&#x27;,\n",
       "                                                  Pipeline(steps=[(&#x27;CountEncoder&#x27;,\n",
       "                                                                   CountEncoder(combine_min_nan_groups=True,\n",
       "                                                                                normalize=True))]),\n",
       "                                                  [&#x27;FLAG_OWN_CAR&#x27;,\n",
       "                                                   &#x27;FLAG_OWN_REALTY&#x27;,\n",
       "                                                   &#x27;NAME_INCOME_TYPE&#x27;,\n",
       "                                                   &#x27;NAME_EDUCATION_TYPE&#x27;,\n",
       "                                                   &#x27;NAME_FAMILY_STATUS&#x27;,\n",
       "                                                   &#x27;NAME_HOUSING_TYPE&#x27;,\n",
       "                                                   &#x27;OCCUPATION_TYPE&#x27;,\n",
       "                                                   &#x27;FLAG_WORK_PHONE&#x27;,\n",
       "                                                   &#x27;FLAG_PHONE&#x27;,\n",
       "                                                   &#x27;FLAG_EMAIL&#x27;])])),\n",
       "                (&#x27;RandomUnderSampler&#x27;,\n",
       "                 RandomUnderSampler(random_state=5000, sampling_strategy=1)),\n",
       "                (&#x27;estimator&#x27;, RandomForestClassifier(random_state=5000))])</pre><b>In a Jupyter environment, please rerun this cell to show the HTML representation or trust the notebook. <br />On GitHub, the HTML representation is unable to render, please try loading this page with nbviewer.org.</b></div><div class=\"sk-container\" hidden><div class=\"sk-item sk-dashed-wrapped\"><div class=\"sk-label-container\"><div class=\"sk-label sk-toggleable\"><input class=\"sk-toggleable__control sk-hidden--visually\" id=\"sk-estimator-id-9\" type=\"checkbox\" ><label for=\"sk-estimator-id-9\" class=\"sk-toggleable__label sk-toggleable__label-arrow\">Pipeline</label><div class=\"sk-toggleable__content\"><pre>Pipeline(steps=[(&#x27;processing&#x27;,\n",
       "                 ColumnTransformer(remainder=&#x27;passthrough&#x27;,\n",
       "                                   transformers=[(&#x27;categorical&#x27;,\n",
       "                                                  Pipeline(steps=[(&#x27;CountEncoder&#x27;,\n",
       "                                                                   CountEncoder(combine_min_nan_groups=True,\n",
       "                                                                                normalize=True))]),\n",
       "                                                  [&#x27;FLAG_OWN_CAR&#x27;,\n",
       "                                                   &#x27;FLAG_OWN_REALTY&#x27;,\n",
       "                                                   &#x27;NAME_INCOME_TYPE&#x27;,\n",
       "                                                   &#x27;NAME_EDUCATION_TYPE&#x27;,\n",
       "                                                   &#x27;NAME_FAMILY_STATUS&#x27;,\n",
       "                                                   &#x27;NAME_HOUSING_TYPE&#x27;,\n",
       "                                                   &#x27;OCCUPATION_TYPE&#x27;,\n",
       "                                                   &#x27;FLAG_WORK_PHONE&#x27;,\n",
       "                                                   &#x27;FLAG_PHONE&#x27;,\n",
       "                                                   &#x27;FLAG_EMAIL&#x27;])])),\n",
       "                (&#x27;RandomUnderSampler&#x27;,\n",
       "                 RandomUnderSampler(random_state=5000, sampling_strategy=1)),\n",
       "                (&#x27;estimator&#x27;, RandomForestClassifier(random_state=5000))])</pre></div></div></div><div class=\"sk-serial\"><div class=\"sk-item sk-dashed-wrapped\"><div class=\"sk-label-container\"><div class=\"sk-label sk-toggleable\"><input class=\"sk-toggleable__control sk-hidden--visually\" id=\"sk-estimator-id-10\" type=\"checkbox\" ><label for=\"sk-estimator-id-10\" class=\"sk-toggleable__label sk-toggleable__label-arrow\">processing: ColumnTransformer</label><div class=\"sk-toggleable__content\"><pre>ColumnTransformer(remainder=&#x27;passthrough&#x27;,\n",
       "                  transformers=[(&#x27;categorical&#x27;,\n",
       "                                 Pipeline(steps=[(&#x27;CountEncoder&#x27;,\n",
       "                                                  CountEncoder(combine_min_nan_groups=True,\n",
       "                                                               normalize=True))]),\n",
       "                                 [&#x27;FLAG_OWN_CAR&#x27;, &#x27;FLAG_OWN_REALTY&#x27;,\n",
       "                                  &#x27;NAME_INCOME_TYPE&#x27;, &#x27;NAME_EDUCATION_TYPE&#x27;,\n",
       "                                  &#x27;NAME_FAMILY_STATUS&#x27;, &#x27;NAME_HOUSING_TYPE&#x27;,\n",
       "                                  &#x27;OCCUPATION_TYPE&#x27;, &#x27;FLAG_WORK_PHONE&#x27;,\n",
       "                                  &#x27;FLAG_PHONE&#x27;, &#x27;FLAG_EMAIL&#x27;])])</pre></div></div></div><div class=\"sk-parallel\"><div class=\"sk-parallel-item\"><div class=\"sk-item\"><div class=\"sk-label-container\"><div class=\"sk-label sk-toggleable\"><input class=\"sk-toggleable__control sk-hidden--visually\" id=\"sk-estimator-id-11\" type=\"checkbox\" ><label for=\"sk-estimator-id-11\" class=\"sk-toggleable__label sk-toggleable__label-arrow\">categorical</label><div class=\"sk-toggleable__content\"><pre>[&#x27;FLAG_OWN_CAR&#x27;, &#x27;FLAG_OWN_REALTY&#x27;, &#x27;NAME_INCOME_TYPE&#x27;, &#x27;NAME_EDUCATION_TYPE&#x27;, &#x27;NAME_FAMILY_STATUS&#x27;, &#x27;NAME_HOUSING_TYPE&#x27;, &#x27;OCCUPATION_TYPE&#x27;, &#x27;FLAG_WORK_PHONE&#x27;, &#x27;FLAG_PHONE&#x27;, &#x27;FLAG_EMAIL&#x27;]</pre></div></div></div><div class=\"sk-serial\"><div class=\"sk-item\"><div class=\"sk-serial\"><div class=\"sk-item\"><div class=\"sk-estimator sk-toggleable\"><input class=\"sk-toggleable__control sk-hidden--visually\" id=\"sk-estimator-id-12\" type=\"checkbox\" ><label for=\"sk-estimator-id-12\" class=\"sk-toggleable__label sk-toggleable__label-arrow\">CountEncoder</label><div class=\"sk-toggleable__content\"><pre>CountEncoder(combine_min_nan_groups=True, normalize=True)</pre></div></div></div></div></div></div></div></div><div class=\"sk-parallel-item\"><div class=\"sk-item\"><div class=\"sk-label-container\"><div class=\"sk-label sk-toggleable\"><input class=\"sk-toggleable__control sk-hidden--visually\" id=\"sk-estimator-id-13\" type=\"checkbox\" ><label for=\"sk-estimator-id-13\" class=\"sk-toggleable__label sk-toggleable__label-arrow\">remainder</label><div class=\"sk-toggleable__content\"><pre></pre></div></div></div><div class=\"sk-serial\"><div class=\"sk-item\"><div class=\"sk-estimator sk-toggleable\"><input class=\"sk-toggleable__control sk-hidden--visually\" id=\"sk-estimator-id-14\" type=\"checkbox\" ><label for=\"sk-estimator-id-14\" class=\"sk-toggleable__label sk-toggleable__label-arrow\">passthrough</label><div class=\"sk-toggleable__content\"><pre>passthrough</pre></div></div></div></div></div></div></div></div><div class=\"sk-item\"><div class=\"sk-estimator sk-toggleable\"><input class=\"sk-toggleable__control sk-hidden--visually\" id=\"sk-estimator-id-15\" type=\"checkbox\" ><label for=\"sk-estimator-id-15\" class=\"sk-toggleable__label sk-toggleable__label-arrow\">RandomUnderSampler</label><div class=\"sk-toggleable__content\"><pre>RandomUnderSampler(random_state=5000, sampling_strategy=1)</pre></div></div></div><div class=\"sk-item\"><div class=\"sk-estimator sk-toggleable\"><input class=\"sk-toggleable__control sk-hidden--visually\" id=\"sk-estimator-id-16\" type=\"checkbox\" ><label for=\"sk-estimator-id-16\" class=\"sk-toggleable__label sk-toggleable__label-arrow\">RandomForestClassifier</label><div class=\"sk-toggleable__content\"><pre>RandomForestClassifier(random_state=5000)</pre></div></div></div></div></div></div></div>"
      ],
      "text/plain": [
       "Pipeline(steps=[('processing',\n",
       "                 ColumnTransformer(remainder='passthrough',\n",
       "                                   transformers=[('categorical',\n",
       "                                                  Pipeline(steps=[('CountEncoder',\n",
       "                                                                   CountEncoder(combine_min_nan_groups=True,\n",
       "                                                                                normalize=True))]),\n",
       "                                                  ['FLAG_OWN_CAR',\n",
       "                                                   'FLAG_OWN_REALTY',\n",
       "                                                   'NAME_INCOME_TYPE',\n",
       "                                                   'NAME_EDUCATION_TYPE',\n",
       "                                                   'NAME_FAMILY_STATUS',\n",
       "                                                   'NAME_HOUSING_TYPE',\n",
       "                                                   'OCCUPATION_TYPE',\n",
       "                                                   'FLAG_WORK_PHONE',\n",
       "                                                   'FLAG_PHONE',\n",
       "                                                   'FLAG_EMAIL'])])),\n",
       "                ('RandomUnderSampler',\n",
       "                 RandomUnderSampler(random_state=5000, sampling_strategy=1)),\n",
       "                ('estimator', RandomForestClassifier(random_state=5000))])"
      ]
     },
     "execution_count": 41,
     "metadata": {},
     "output_type": "execute_result"
    }
   ],
   "source": [
    "preprocessor = get_preprocessor(float_names=numeric_names,\n",
    "                                categorical_names=categorical_names)\n",
    "transform = Pipeline(steps=[(\"processing\", preprocessor),\n",
    "                            (\"RandomUnderSampler\", RandomUnderSampler(random_state=seed,\n",
    "                                                                      sampling_strategy=ratio_balance)),\n",
    "                            (\"estimator\",  RandomForestClassifier(random_state=seed))])\n",
    "transform"
   ]
  },
  {
   "cell_type": "code",
   "execution_count": 42,
   "id": "5b41abd6",
   "metadata": {},
   "outputs": [
    {
     "data": {
      "text/html": [
       "<style>#sk-container-id-3 {color: black;background-color: white;}#sk-container-id-3 pre{padding: 0;}#sk-container-id-3 div.sk-toggleable {background-color: white;}#sk-container-id-3 label.sk-toggleable__label {cursor: pointer;display: block;width: 100%;margin-bottom: 0;padding: 0.3em;box-sizing: border-box;text-align: center;}#sk-container-id-3 label.sk-toggleable__label-arrow:before {content: \"▸\";float: left;margin-right: 0.25em;color: #696969;}#sk-container-id-3 label.sk-toggleable__label-arrow:hover:before {color: black;}#sk-container-id-3 div.sk-estimator:hover label.sk-toggleable__label-arrow:before {color: black;}#sk-container-id-3 div.sk-toggleable__content {max-height: 0;max-width: 0;overflow: hidden;text-align: left;background-color: #f0f8ff;}#sk-container-id-3 div.sk-toggleable__content pre {margin: 0.2em;color: black;border-radius: 0.25em;background-color: #f0f8ff;}#sk-container-id-3 input.sk-toggleable__control:checked~div.sk-toggleable__content {max-height: 200px;max-width: 100%;overflow: auto;}#sk-container-id-3 input.sk-toggleable__control:checked~label.sk-toggleable__label-arrow:before {content: \"▾\";}#sk-container-id-3 div.sk-estimator input.sk-toggleable__control:checked~label.sk-toggleable__label {background-color: #d4ebff;}#sk-container-id-3 div.sk-label input.sk-toggleable__control:checked~label.sk-toggleable__label {background-color: #d4ebff;}#sk-container-id-3 input.sk-hidden--visually {border: 0;clip: rect(1px 1px 1px 1px);clip: rect(1px, 1px, 1px, 1px);height: 1px;margin: -1px;overflow: hidden;padding: 0;position: absolute;width: 1px;}#sk-container-id-3 div.sk-estimator {font-family: monospace;background-color: #f0f8ff;border: 1px dotted black;border-radius: 0.25em;box-sizing: border-box;margin-bottom: 0.5em;}#sk-container-id-3 div.sk-estimator:hover {background-color: #d4ebff;}#sk-container-id-3 div.sk-parallel-item::after {content: \"\";width: 100%;border-bottom: 1px solid gray;flex-grow: 1;}#sk-container-id-3 div.sk-label:hover label.sk-toggleable__label {background-color: #d4ebff;}#sk-container-id-3 div.sk-serial::before {content: \"\";position: absolute;border-left: 1px solid gray;box-sizing: border-box;top: 0;bottom: 0;left: 50%;z-index: 0;}#sk-container-id-3 div.sk-serial {display: flex;flex-direction: column;align-items: center;background-color: white;padding-right: 0.2em;padding-left: 0.2em;position: relative;}#sk-container-id-3 div.sk-item {position: relative;z-index: 1;}#sk-container-id-3 div.sk-parallel {display: flex;align-items: stretch;justify-content: center;background-color: white;position: relative;}#sk-container-id-3 div.sk-item::before, #sk-container-id-3 div.sk-parallel-item::before {content: \"\";position: absolute;border-left: 1px solid gray;box-sizing: border-box;top: 0;bottom: 0;left: 50%;z-index: -1;}#sk-container-id-3 div.sk-parallel-item {display: flex;flex-direction: column;z-index: 1;position: relative;background-color: white;}#sk-container-id-3 div.sk-parallel-item:first-child::after {align-self: flex-end;width: 50%;}#sk-container-id-3 div.sk-parallel-item:last-child::after {align-self: flex-start;width: 50%;}#sk-container-id-3 div.sk-parallel-item:only-child::after {width: 0;}#sk-container-id-3 div.sk-dashed-wrapped {border: 1px dashed gray;margin: 0 0.4em 0.5em 0.4em;box-sizing: border-box;padding-bottom: 0.4em;background-color: white;}#sk-container-id-3 div.sk-label label {font-family: monospace;font-weight: bold;display: inline-block;line-height: 1.2em;}#sk-container-id-3 div.sk-label-container {text-align: center;}#sk-container-id-3 div.sk-container {/* jupyter's `normalize.less` sets `[hidden] { display: none; }` but bootstrap.min.css set `[hidden] { display: none !important; }` so we also need the `!important` here to be able to override the default hidden behavior on the sphinx rendered scikit-learn.org. See: https://github.com/scikit-learn/scikit-learn/issues/21755 */display: inline-block !important;position: relative;}#sk-container-id-3 div.sk-text-repr-fallback {display: none;}</style><div id=\"sk-container-id-3\" class=\"sk-top-container\"><div class=\"sk-text-repr-fallback\"><pre>ColumnTransformer(remainder=&#x27;passthrough&#x27;,\n",
       "                  transformers=[(&#x27;categorical&#x27;,\n",
       "                                 Pipeline(steps=[(&#x27;CountEncoder&#x27;,\n",
       "                                                  CountEncoder(combine_min_nan_groups=True,\n",
       "                                                               normalize=True))]),\n",
       "                                 [&#x27;FLAG_OWN_CAR&#x27;, &#x27;FLAG_OWN_REALTY&#x27;,\n",
       "                                  &#x27;NAME_INCOME_TYPE&#x27;, &#x27;NAME_EDUCATION_TYPE&#x27;,\n",
       "                                  &#x27;NAME_FAMILY_STATUS&#x27;, &#x27;NAME_HOUSING_TYPE&#x27;,\n",
       "                                  &#x27;OCCUPATION_TYPE&#x27;, &#x27;FLAG_WORK_PHONE&#x27;,\n",
       "                                  &#x27;FLAG_PHONE&#x27;, &#x27;FLAG_EMAIL&#x27;])])</pre><b>In a Jupyter environment, please rerun this cell to show the HTML representation or trust the notebook. <br />On GitHub, the HTML representation is unable to render, please try loading this page with nbviewer.org.</b></div><div class=\"sk-container\" hidden><div class=\"sk-item sk-dashed-wrapped\"><div class=\"sk-label-container\"><div class=\"sk-label sk-toggleable\"><input class=\"sk-toggleable__control sk-hidden--visually\" id=\"sk-estimator-id-17\" type=\"checkbox\" ><label for=\"sk-estimator-id-17\" class=\"sk-toggleable__label sk-toggleable__label-arrow\">ColumnTransformer</label><div class=\"sk-toggleable__content\"><pre>ColumnTransformer(remainder=&#x27;passthrough&#x27;,\n",
       "                  transformers=[(&#x27;categorical&#x27;,\n",
       "                                 Pipeline(steps=[(&#x27;CountEncoder&#x27;,\n",
       "                                                  CountEncoder(combine_min_nan_groups=True,\n",
       "                                                               normalize=True))]),\n",
       "                                 [&#x27;FLAG_OWN_CAR&#x27;, &#x27;FLAG_OWN_REALTY&#x27;,\n",
       "                                  &#x27;NAME_INCOME_TYPE&#x27;, &#x27;NAME_EDUCATION_TYPE&#x27;,\n",
       "                                  &#x27;NAME_FAMILY_STATUS&#x27;, &#x27;NAME_HOUSING_TYPE&#x27;,\n",
       "                                  &#x27;OCCUPATION_TYPE&#x27;, &#x27;FLAG_WORK_PHONE&#x27;,\n",
       "                                  &#x27;FLAG_PHONE&#x27;, &#x27;FLAG_EMAIL&#x27;])])</pre></div></div></div><div class=\"sk-parallel\"><div class=\"sk-parallel-item\"><div class=\"sk-item\"><div class=\"sk-label-container\"><div class=\"sk-label sk-toggleable\"><input class=\"sk-toggleable__control sk-hidden--visually\" id=\"sk-estimator-id-18\" type=\"checkbox\" ><label for=\"sk-estimator-id-18\" class=\"sk-toggleable__label sk-toggleable__label-arrow\">categorical</label><div class=\"sk-toggleable__content\"><pre>[&#x27;FLAG_OWN_CAR&#x27;, &#x27;FLAG_OWN_REALTY&#x27;, &#x27;NAME_INCOME_TYPE&#x27;, &#x27;NAME_EDUCATION_TYPE&#x27;, &#x27;NAME_FAMILY_STATUS&#x27;, &#x27;NAME_HOUSING_TYPE&#x27;, &#x27;OCCUPATION_TYPE&#x27;, &#x27;FLAG_WORK_PHONE&#x27;, &#x27;FLAG_PHONE&#x27;, &#x27;FLAG_EMAIL&#x27;]</pre></div></div></div><div class=\"sk-serial\"><div class=\"sk-item\"><div class=\"sk-serial\"><div class=\"sk-item\"><div class=\"sk-estimator sk-toggleable\"><input class=\"sk-toggleable__control sk-hidden--visually\" id=\"sk-estimator-id-19\" type=\"checkbox\" ><label for=\"sk-estimator-id-19\" class=\"sk-toggleable__label sk-toggleable__label-arrow\">CountEncoder</label><div class=\"sk-toggleable__content\"><pre>CountEncoder(combine_min_nan_groups=True, normalize=True)</pre></div></div></div></div></div></div></div></div><div class=\"sk-parallel-item\"><div class=\"sk-item\"><div class=\"sk-label-container\"><div class=\"sk-label sk-toggleable\"><input class=\"sk-toggleable__control sk-hidden--visually\" id=\"sk-estimator-id-20\" type=\"checkbox\" ><label for=\"sk-estimator-id-20\" class=\"sk-toggleable__label sk-toggleable__label-arrow\">remainder</label><div class=\"sk-toggleable__content\"><pre></pre></div></div></div><div class=\"sk-serial\"><div class=\"sk-item\"><div class=\"sk-estimator sk-toggleable\"><input class=\"sk-toggleable__control sk-hidden--visually\" id=\"sk-estimator-id-21\" type=\"checkbox\" ><label for=\"sk-estimator-id-21\" class=\"sk-toggleable__label sk-toggleable__label-arrow\">passthrough</label><div class=\"sk-toggleable__content\"><pre>passthrough</pre></div></div></div></div></div></div></div></div></div></div>"
      ],
      "text/plain": [
       "ColumnTransformer(remainder='passthrough',\n",
       "                  transformers=[('categorical',\n",
       "                                 Pipeline(steps=[('CountEncoder',\n",
       "                                                  CountEncoder(combine_min_nan_groups=True,\n",
       "                                                               normalize=True))]),\n",
       "                                 ['FLAG_OWN_CAR', 'FLAG_OWN_REALTY',\n",
       "                                  'NAME_INCOME_TYPE', 'NAME_EDUCATION_TYPE',\n",
       "                                  'NAME_FAMILY_STATUS', 'NAME_HOUSING_TYPE',\n",
       "                                  'OCCUPATION_TYPE', 'FLAG_WORK_PHONE',\n",
       "                                  'FLAG_PHONE', 'FLAG_EMAIL'])])"
      ]
     },
     "execution_count": 42,
     "metadata": {},
     "output_type": "execute_result"
    }
   ],
   "source": [
    "preprocessor"
   ]
  },
  {
   "cell_type": "markdown",
   "id": "3857dde6",
   "metadata": {},
   "source": [
    "## 5. 1 Ajuste del modelo para obtener métricas de testeo."
   ]
  },
  {
   "cell_type": "code",
   "execution_count": 43,
   "id": "fe65888a",
   "metadata": {},
   "outputs": [],
   "source": [
    "clf = transform.fit(X_train, y_train)"
   ]
  },
  {
   "cell_type": "code",
   "execution_count": 44,
   "id": "cb81eeb4",
   "metadata": {},
   "outputs": [],
   "source": [
    "y_pred = clf.predict(X_test)"
   ]
  },
  {
   "cell_type": "markdown",
   "id": "9ab19e44",
   "metadata": {},
   "source": [
    "A continuación se exhiben las métricas de __testeo__, solo con fines informativos."
   ]
  },
  {
   "cell_type": "code",
   "execution_count": 45,
   "id": "d6a5b13f",
   "metadata": {},
   "outputs": [],
   "source": [
    "f_1_testeo = f1_score(y_test, y_pred)\n",
    "f_1_testeo_micro = f1_score(y_test, y_pred, average='micro')\n",
    "precision_testeo = precision_score(y_test, y_pred)\n",
    "precision_micro_testeo = precision_score(y_test, y_pred, average='micro')\n",
    "recall_testeo = recall_score(y_test, y_pred)\n",
    "recall_micro_testeo = recall_score(y_test, y_pred, average='micro')\n",
    "m_c_testeo = matthews_corrcoef(y_test, y_pred)\n",
    "cm_testeo = confusion_matrix(y_test, y_pred)"
   ]
  },
  {
   "cell_type": "code",
   "execution_count": 46,
   "id": "2bf3fbe3",
   "metadata": {},
   "outputs": [
    {
     "name": "stdout",
     "output_type": "stream",
     "text": [
      "f1-testeo: 0.33\n",
      "f1-micro-testeo: 0.65\n",
      "precision-testeo: 0.21\n",
      "precision-micro-testeo: 0.65\n",
      "recall-testo: 0.73\n",
      "recall-micro-testo: 0.65\n",
      "m_c-testeo: 0.24\n",
      "matriz de confusión de testeo [[214 118]\n",
      " [ 12  32]]\n"
     ]
    }
   ],
   "source": [
    "print('f1-testeo:', round(f_1_testeo, 2))\n",
    "print('f1-micro-testeo:', round(f_1_testeo_micro, 2))\n",
    "print('precision-testeo:', round(precision_testeo, 2))\n",
    "print('precision-micro-testeo:', round(precision_micro_testeo, 2))\n",
    "print('recall-testo:', round(recall_testeo, 2))\n",
    "print('recall-micro-testo:', round(recall_micro_testeo, 2))\n",
    "print('m_c-testeo:', round(m_c_testeo, 2))\n",
    "print('matriz de confusión de testeo', cm_testeo)"
   ]
  },
  {
   "cell_type": "markdown",
   "id": "6a439278",
   "metadata": {},
   "source": [
    "## 5.2 Cross-validation."
   ]
  },
  {
   "cell_type": "code",
   "execution_count": 47,
   "id": "8ee000d0",
   "metadata": {},
   "outputs": [],
   "source": [
    "c_v = StratifiedKFold(n_splits=k_folds,\n",
    "                      shuffle=True,\n",
    "                      random_state=seed)"
   ]
  },
  {
   "cell_type": "code",
   "execution_count": 48,
   "id": "cbe1f4e6",
   "metadata": {},
   "outputs": [
    {
     "name": "stdout",
     "output_type": "stream",
     "text": [
      "[CV] START .....................................................................\n",
      "[CV] END  f1: (test=0.238) f1_micro: (test=0.609) m_c: (test=0.094) precision: (test=0.154) precision_micro: (test=0.609) recall: (test=0.523) recall_micro: (test=0.609) total time=   0.2s\n",
      "[CV] START .....................................................................\n"
     ]
    },
    {
     "name": "stderr",
     "output_type": "stream",
     "text": [
      "[Parallel(n_jobs=1)]: Done   1 tasks      | elapsed:    0.2s\n"
     ]
    },
    {
     "name": "stdout",
     "output_type": "stream",
     "text": [
      "[CV] END  f1: (test=0.201) f1_micro: (test=0.597) m_c: (test=0.039) precision: (test=0.130) precision_micro: (test=0.597) recall: (test=0.442) recall_micro: (test=0.597) total time=   0.2s\n",
      "[CV] START .....................................................................\n",
      "[CV] END  f1: (test=0.274) f1_micro: (test=0.533) m_c: (test=0.164) precision: (test=0.168) precision_micro: (test=0.533) recall: (test=0.750) recall_micro: (test=0.533) total time=   0.2s\n"
     ]
    }
   ],
   "source": [
    "cv_results = cross_validate(transform,\n",
    "                            X_train,\n",
    "                            y_train,\n",
    "                            cv=c_v,\n",
    "                            scoring=scores,\n",
    "                            verbose=10)"
   ]
  },
  {
   "cell_type": "markdown",
   "id": "567a6176",
   "metadata": {},
   "source": [
    "Se obtienen las métricas de __cross-validation__."
   ]
  },
  {
   "cell_type": "code",
   "execution_count": 49,
   "id": "9ef7e2a2",
   "metadata": {},
   "outputs": [
    {
     "name": "stdout",
     "output_type": "stream",
     "text": [
      "f1-cv: 0.24\n",
      "f1-micro-cv: 0.58\n",
      "precision-cv: 0.15\n",
      "precision-micro-cv: 0.58\n",
      "recall-cv: 0.57\n",
      "recall-micro-cv: 0.58\n",
      "m_c-cv: 0.1\n"
     ]
    }
   ],
   "source": [
    "print('f1-cv:', round(cv_results['test_f1'].mean(), 2))\n",
    "print('f1-micro-cv:', round(cv_results['test_f1_micro'].mean(), 2))\n",
    "print('precision-cv:', round(cv_results['test_precision'].mean(), 2))\n",
    "print('precision-micro-cv:', round(cv_results['test_precision_micro'].mean(), 2))\n",
    "print('recall-cv:', round(cv_results['test_recall'].mean(), 2))\n",
    "print('recall-micro-cv:', round(cv_results['test_recall_micro'].mean(), 2))\n",
    "print('m_c-cv:', round(cv_results['test_m_c'].mean(), 2))"
   ]
  },
  {
   "cell_type": "markdown",
   "id": "d84979cd",
   "metadata": {},
   "source": [
    "# 6. MODELO GANADOR."
   ]
  },
  {
   "cell_type": "markdown",
   "id": "63c48696",
   "metadata": {},
   "source": [
    "El `RandomForestClassifier` es el modelo ganador en todas las métricas, en particular el __f1 de validation__ con 0.24 frente a 0.21 del `HistogramGradientBoosting`. "
   ]
  },
  {
   "cell_type": "code",
   "execution_count": null,
   "id": "9658521b",
   "metadata": {},
   "outputs": [],
   "source": []
  },
  {
   "cell_type": "code",
   "execution_count": null,
   "id": "576a21f9",
   "metadata": {},
   "outputs": [],
   "source": []
  }
 ],
 "metadata": {
  "kernelspec": {
   "display_name": "tangelo_training",
   "language": "python",
   "name": "tangelo_training"
  },
  "language_info": {
   "codemirror_mode": {
    "name": "ipython",
    "version": 3
   },
   "file_extension": ".py",
   "mimetype": "text/x-python",
   "name": "python",
   "nbconvert_exporter": "python",
   "pygments_lexer": "ipython3",
   "version": "3.8.12"
  }
 },
 "nbformat": 4,
 "nbformat_minor": 5
}
